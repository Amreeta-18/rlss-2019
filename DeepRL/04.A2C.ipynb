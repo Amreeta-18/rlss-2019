{
 "cells": [
  {
   "cell_type": "markdown",
   "metadata": {},
   "source": [
    "# Actor-Advantage Critic (A2C)"
   ]
  },
  {
   "cell_type": "markdown",
   "metadata": {},
   "source": [
    "[You can find the original paper here](https://arxiv.org/pdf/1602.01783.pdf)."
   ]
  },
  {
   "cell_type": "markdown",
   "metadata": {},
   "source": [
    "## Intro\n",
    "\n",
    "In this new tutorial we will work on the Actor-Advantage Critic. This tutorial is composed of:\n",
    "* A quick reminder of the previous course,\n",
    "* A theoritical approch of A2C,\n",
    "* A coding part with experiments.\n"
   ]
  },
  {
   "cell_type": "markdown",
   "metadata": {},
   "source": [
    "## Reminder of the RL setting\n",
    "\n",
    "As always we will consider a MDP $M = (X, A, p, r, \\gamma)$ with:\n",
    "* $X$ the state space,\n",
    "* $A$ the action space,\n",
    "* $p(x^\\prime \\mid x, a)$ the transition probability,\n",
    "* $r(x, a, x^\\prime)$ the reward of the transition $(x, a, x^\\prime)$,\n",
    "* $\\gamma \\in [0,1)$ is the discount factor.\n",
    "\n",
    "For a policy $\\pi$ let $p^\\pi(x^\\prime \\ mid x) = \\sum_{a \\in A} \\pi(a \\mid x) p(x^\\prime \\mid x)$ and $r^\\pi(x) = \\sum_{a \\in A} \\pi(a \\mid x) r(x, a)$\n",
    "\n",
    "Our goal is to find $\\pi$ that maximize the following objective:\n",
    "$$ J(\\pi) = \\mathbb{E}\\big[ \\sum_{t} \\gamma^t R_t \\mid x_0, \\pi \\big]$$"
   ]
  },
  {
   "cell_type": "markdown",
   "metadata": {},
   "source": [
    "## From REINFORCE to A2C\n",
    "\n",
    "### The idea behind A2C\n",
    "\n",
    "The need of a critic.\n",
    "\n",
    "### "
   ]
  },
  {
   "cell_type": "code",
   "execution_count": null,
   "metadata": {},
   "outputs": [],
   "source": []
  }
 ],
 "metadata": {
  "kernelspec": {
   "display_name": "Python 3",
   "language": "python",
   "name": "python3"
  },
  "language_info": {
   "codemirror_mode": {
    "name": "ipython",
    "version": 3
   },
   "file_extension": ".py",
   "mimetype": "text/x-python",
   "name": "python",
   "nbconvert_exporter": "python",
   "pygments_lexer": "ipython3",
   "version": "3.6.8"
  }
 },
 "nbformat": 4,
 "nbformat_minor": 2
}
