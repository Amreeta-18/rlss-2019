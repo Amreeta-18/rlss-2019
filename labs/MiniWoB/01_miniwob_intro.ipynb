{
 "cells": [
  {
   "cell_type": "markdown",
   "metadata": {},
   "source": [
    "# MiniWoB intro\n"
   ]
  },
  {
   "cell_type": "markdown",
   "metadata": {},
   "source": [
    "Mini World of Bits (MiniWoB) is an RL benchmark introduced by OpenAI researchers in 2017.\n",
    "\n",
    "Their original paper http://proceedings.mlr.press/v70/shi17a/shi17a.pdf\n",
    "\n",
    "The core idea is to create a set of browser-based tasks to be solved using RL methods. Every task is a small dynamic webpage, which could be interacted using a mouse or keyboard. The reward is given for executing correct sequence of actions. Description of the goal is included into the webpage.\n",
    "\n",
    "In total it introduced 80 problems of varying complexity -- from the trivial like clicking the form button to very challenging, for example booking the flight following the criterias.\n",
    "\n",
    "The problems are available here: https://stanfordnlp.github.io/miniwob-plusplus/\n",
    "\n",
    "Unfortunately, OpenAI discontinued MiniWoB project, so, it hasn't gained popularity it deserves. After OpenAI paper in 2017, MiniWoB was used in several research papers, the most notable ones:\n",
    "\n",
    "* [1802.08802 Reinforcement Learning on Web Interfaces Using Workflow-Guided Exploration](https://arxiv.org/abs/1802.08802)\n",
    "* [1812.09195 Learning to Navigate the Web](https://arxiv.org/abs/1812.09195v1)\n",
    "* [1902.07257v1 DOM-Q-NET: Grounded RL on Structured Language](https://arxiv.org/abs/1902.07257v1)\n",
    "\n",
    "But that's almost nothing in comparison to Atari games popularity. To fix this mistake, let's play with MiniWoB in this tutorial.\n",
    "\n",
    "This tutorial uses the original MiniWoB. There exists the imroved version from Stanford researches, called [MiniWoB++](https://stanfordnlp.github.io/miniwob-plusplus/)\n"
   ]
  },
  {
   "cell_type": "markdown",
   "metadata": {},
   "source": [
    "## Why that's still relevant for RL\n",
    "\n",
    "You might ask, why do we need to play with two discontinued projects published two years ago (almost eternity by ML/DL field pace). There are several reasons for that:\n",
    "\n",
    "* MiniWoB problems are still very far from being solved. \n",
    "* Some of them are much harder and much close to real-life human behaviour than Atari games. \n",
    "* MiniWoB has practical application in automated software testing, web data extraction and automation.\n",
    "* Universe with all its issues, allows fast integration of applications into RL experiments without modifying the source code.\n",
    "* Asynchronous nature of real UI applications raises new issues to be addressed by RL researches\n",
    "* The most important: it's fun!"
   ]
  },
  {
   "cell_type": "markdown",
   "metadata": {},
   "source": [
    "## Architecture\n",
    "\n",
    "MiniWoB is implemented as a part of [OpenAI Universe](https://github.com/openai/universe) (another frozen project of OpenAI). The idea of Universe is to use VNC protocol to connect RL agent with GUI applications. As VNC is a cross-platform protocol used by humans to communicate with remote GUI applications, RL agent also achieves this ability (is RL agent smart enough to communicate is a different question). \n",
    "\n",
    "MiniWoB is a part of Universe, where GUI app is a browser with loaded dynamic webpages.\n",
    "\n",
    "Overall architecture of Universe is shown below\n",
    "\n",
    "![Arch](images/arch.png)\n",
    "\n",
    "The original MiniWoB docker image is available [on quay.io](https://quay.io/repository/openai/universe.world-of-bits), but I suggest you to use my version with fixed stability issues. The fixed version is available [on dockerhub](https://cloud.docker.com/u/shmuma/repository/docker/shmuma/miniwob). If you want to build your own version of the fixed image, you can follow [instructions here](https://github.com/PacktPublishing/Deep-Reinforcement-Learning-Hands-On/tree/master/Chapter13/wob_fixes)\n"
   ]
  },
  {
   "cell_type": "markdown",
   "metadata": {},
   "source": [
    "# MiniWoB environments\n",
    "\n",
    "In total there are 80 environments, you can play with them here: https://stanfordnlp.github.io/miniwob-plusplus/\n",
    "(this version is slightly different from the original MiniWoB we're going to use, if you want to check the original, you can connect to the VNC server in docker container, as described in **installation** section above)\n",
    "\n",
    "In this tutorial we'll focus on quite simple task, called `ClickDialog`, the goal of which is to click on the window's close button: https://stanfordnlp.github.io/miniwob-plusplus/html/miniwob/click-dialog.html \n",
    "\n",
    "Below is the small subset of available environments, you might play with:\n",
    "\n",
    "**Simple, 1-click problems**:\n",
    "* [click-dialog](https://stanfordnlp.github.io/miniwob-plusplus/html/miniwob/click-dialog.html)\n",
    "* [count-sides](https://stanfordnlp.github.io/miniwob-plusplus/html/miniwob/count-sides.html)\n",
    "\n",
    "**Sequence of clicks**:\n",
    "* [bisect-angle](https://stanfordnlp.github.io/miniwob-plusplus/html/miniwob/bisect-angle.html)\n",
    "* [circle-center](https://stanfordnlp.github.io/miniwob-plusplus/html/miniwob/circle-center.html)\n",
    "* [tic-tac-toe](https://stanfordnlp.github.io/miniwob-plusplus/html/miniwob/tic-tac-toe.html)\n",
    "\n",
    "**Clicking, POMDP**: clicks, but one observation is not enough\n",
    "* [click-button-sequence](https://stanfordnlp.github.io/miniwob-plusplus/html/miniwob/click-button-sequence.html)\n",
    "\n",
    "**Clicking, conditioned by text**: One click, but place to click depends on instruction text\n",
    "* [click-button](https://stanfordnlp.github.io/miniwob-plusplus/html/miniwob/click-button.html)\n",
    "* [click-dialog-2](https://stanfordnlp.github.io/miniwob-plusplus/html/miniwob/click-dialog-2.html)\n",
    "* [click-shape](https://stanfordnlp.github.io/miniwob-plusplus/html/miniwob/click-shape.html)\n",
    "\n",
    "**Hovering**: dynamic objects appearing after mouse move\n",
    "* [click-menu](https://stanfordnlp.github.io/miniwob-plusplus/html/miniwob/click-menu.html)\n",
    "\n",
    "**Scrolling**:\n",
    "* [email-inbox](https://stanfordnlp.github.io/miniwob-plusplus/html/miniwob/email-inbox.html)\n",
    "\n",
    "**Dragging, conditioned by text**\n",
    "* [drag-cube](https://stanfordnlp.github.io/miniwob-plusplus/html/miniwob/drag-cube.html)\n",
    "\n",
    "**Hardcore**: NLP+NLU+Actions\n",
    "* [simple-algebra](https://stanfordnlp.github.io/miniwob-plusplus/html/miniwob/simple-algebra.html)\n",
    "* [book-flight](https://stanfordnlp.github.io/miniwob-plusplus/html/miniwob/book-flight.html)\n",
    "\n",
    "You can find gym env names for classical MiniWoB problems here: https://github.com/openai/universe/blob/master/universe/__init__.py#L1489"
   ]
  },
  {
   "cell_type": "markdown",
   "metadata": {
    "heading_collapsed": true
   },
   "source": [
    "# Installation: standalone\n",
    "\n",
    "Instructions below are relevant if you're running this notebook on your laptop/standalone server/VM with docker installed. GPUs might be handy, but our training is not very heavy."
   ]
  },
  {
   "cell_type": "markdown",
   "metadata": {
    "heading_collapsed": true,
    "hidden": true
   },
   "source": [
    "## Starting the container\n",
    "\n",
    "If you have docker installed, you can start the single container running the following command:\n",
    "\n",
    "`docker run -d -p 5900:5900 -p 15900:15900 --privileged --ipc host --cap-add SYS_ADMIN shmuma/miniwob run`\n",
    "\n",
    "Here, the options:\n",
    "* `-d` detaches container from terminal and keeps it running in background\n",
    "* `-p 5900:5900` forwards VNC port to the host machine\n",
    "* `-p 15900:15900` forwards rewarder port \n",
    "* `--privileged` gives extended privileges to this container (not sure is this needed or not, that was written in OpenAI manual)\n",
    "* `--ipc host` uses host's IPC namespace\n",
    "* `--cap-add SYS_ADMIN` extends container privileges\n",
    "* `shmuma/miniwob` name of the container image to start, you can use `quay.io/openai/universe.world-of- bits:0.20.0` to start original MiniWoB image\n",
    "* `run` command to start inside container\n",
    "\n",
    "During the training, several containers could be started (to decrease training samples correlation), to simplify this process, this repo includes two scripts: `containers_run.sh` and `containers_stop.sh`. The first starts the required amount of containers (given in command line), the second script stops all started containers (be careful, it just stops ALL containers, not only started by `containers_run.sh` script)."
   ]
  },
  {
   "cell_type": "code",
   "execution_count": 1,
   "metadata": {
    "hidden": true
   },
   "outputs": [
    {
     "name": "stdout",
     "output_type": "stream",
     "text": [
      "#!/usr/bin/env bash\r\n",
      "IMAGE_NAME=shmuma/miniwob\r\n",
      "\r\n",
      "count=`docker ps -q | wc -l`\r\n",
      "\r\n",
      "if test $count -ne 0 ; then\r\n",
      "    echo You already have $count containers running, are you sure you want more?\r\n",
      "    exit\r\n",
      "fi\r\n",
      "\r\n",
      "for i in `seq 1 ${1:-1}`; do\r\n",
      "    echo Starting container $i\r\n",
      "    P1=$((5900+$i-1))\r\n",
      "    P2=$((15900+$i-1))\r\n",
      "    docker run -d -p $P1:5900 -p $P2:15900 --privileged --ipc host --cap-add SYS_ADMIN $IMAGE_NAME run\r\n",
      "done\r\n"
     ]
    }
   ],
   "source": [
    "!cat containers_run.sh"
   ]
  },
  {
   "cell_type": "code",
   "execution_count": 2,
   "metadata": {
    "hidden": true
   },
   "outputs": [
    {
     "name": "stdout",
     "output_type": "stream",
     "text": [
      "#!/usr/bin/env bash\r\n",
      "\r\n",
      "docker stop `docker ps -q`\r\n"
     ]
    }
   ],
   "source": [
    "!cat containers_stop.sh"
   ]
  },
  {
   "cell_type": "code",
   "execution_count": 3,
   "metadata": {
    "hidden": true
   },
   "outputs": [
    {
     "name": "stdout",
     "output_type": "stream",
     "text": [
      "Starting container 1\n",
      "e94f531c4888a90d878b4383936eca99b4aa55cad8ce9e8e074a59b66396b531\n"
     ]
    }
   ],
   "source": [
    "!./containers_run.sh 1"
   ]
  },
  {
   "cell_type": "code",
   "execution_count": 4,
   "metadata": {
    "hidden": true
   },
   "outputs": [
    {
     "name": "stdout",
     "output_type": "stream",
     "text": [
      "CONTAINER ID        IMAGE               COMMAND                  CREATED             STATUS                  PORTS                                                        NAMES\r\n",
      "e94f531c4888        shmuma/miniwob      \"/app/universe-envs/…\"   5 seconds ago       Up Less than a second   0.0.0.0:5900->5900/tcp, 5899/tcp, 0.0.0.0:15900->15900/tcp   xenodochial_varahamihira\r\n"
     ]
    }
   ],
   "source": [
    "!docker ps"
   ]
  },
  {
   "cell_type": "markdown",
   "metadata": {
    "hidden": true
   },
   "source": [
    "After this you can connect to the started container using one of many VNC clients available. If you're using MacOS, VNC client is already included in OS, in Finder press `Command+K` and then connect to 'vnc://localhost:5900'. Password for connection is `openai`\n",
    "\n",
    "![](images/vnc.png)"
   ]
  },
  {
   "cell_type": "markdown",
   "metadata": {
    "hidden": true
   },
   "source": [
    "Do not forget to stop containers, as they are quite CPU-hungry "
   ]
  },
  {
   "cell_type": "code",
   "execution_count": 7,
   "metadata": {
    "hidden": true
   },
   "outputs": [
    {
     "name": "stdout",
     "output_type": "stream",
     "text": [
      "af325a282347\r\n"
     ]
    }
   ],
   "source": [
    "!./containers_stop.sh"
   ]
  },
  {
   "cell_type": "code",
   "execution_count": 31,
   "metadata": {
    "hidden": true
   },
   "outputs": [
    {
     "name": "stdout",
     "output_type": "stream",
     "text": [
      "Setup process:\r\n",
      "\r\n",
      "Install docker, current user need to have rights to start container (for linux, belong to the `docker` group)\r\n",
      "\r\n",
      "Install go development environment (required by universe)\r\n",
      "\r\n",
      "*Note*: python 3.7 won't work due to universe's usage of `async` keyword\r\n",
      "```\r\n",
      "docker pull shmuma/miniwob\r\n",
      "conda create -n miniwob python=3.6\r\n",
      "conda activate miniwob\r\n",
      "pip install gym\r\n",
      "pip install universe\r\n",
      "conda install pytorch torchvision -c pytorch\r\n",
      "pip install ptan\r\n",
      "pip install opencv_python\r\n",
      "```\r\n",
      "\r\n",
      "`pip install universe` - this step will likely require more dependencies to be installed, like libjpeg-turbo, etc\r\n"
     ]
    }
   ],
   "source": [
    "!cat README.md"
   ]
  },
  {
   "cell_type": "markdown",
   "metadata": {
    "hidden": true
   },
   "source": []
  },
  {
   "cell_type": "markdown",
   "metadata": {},
   "source": [
    "# Imports"
   ]
  },
  {
   "cell_type": "code",
   "execution_count": 1,
   "metadata": {},
   "outputs": [
    {
     "name": "stderr",
     "output_type": "stream",
     "text": [
      "/home/shmuma/anaconda3/envs/miniwob/lib/python3.6/site-packages/universe/runtimes/__init__.py:7: YAMLLoadWarning: calling yaml.load() without Loader=... is deprecated, as the default Loader is unsafe. Please read https://msg.pyyaml.org/load for full details.\n",
      "  spec = yaml.load(f)\n"
     ]
    }
   ],
   "source": [
    "import gym\n",
    "import ptan\n",
    "import time\n",
    "import numpy as np\n",
    "import universe\n",
    "from typing import List, Optional, Tuple\n",
    "from universe import vectorized\n",
    "from universe.wrappers.experimental import SoftmaxClickMouse\n",
    "\n",
    "from PIL import Image"
   ]
  },
  {
   "cell_type": "code",
   "execution_count": 2,
   "metadata": {},
   "outputs": [],
   "source": [
    "DOCKER_IMAGE = \"shmuma/miniwob:latest\"\n",
    "ENV_NAME = \"wob.mini.ClickDialog-v0\""
   ]
  },
  {
   "cell_type": "code",
   "execution_count": 3,
   "metadata": {},
   "outputs": [],
   "source": [
    "# function to build connection endpoints for set of containers\n",
    "# you should tweak its args if you're not using standalone installation\n",
    "def remotes_url(port_ofs=0, hostname='localhost', count=8):\n",
    "    hosts = [\"%s:%d+%d\" % (hostname, 5900 + ofs, 15900 + ofs) for ofs in range(port_ofs, port_ofs+count)]\n",
    "    return \"vnc://\" + \",\".join(hosts)"
   ]
  },
  {
   "cell_type": "code",
   "execution_count": 15,
   "metadata": {},
   "outputs": [],
   "source": [
    "def make_env(wrapper_func = lambda env: env, count: int = 1, fps: float = 5) -> universe.envs.VNCEnv:\n",
    "    \"\"\"\n",
    "    Builds the vectorized env\n",
    "    \"\"\"\n",
    "    env = gym.make(ENV_NAME)\n",
    "    env = wrapper_func(env)\n",
    "    url = remotes_url(count=count)\n",
    "    print(\"Remotes URL: %s\" % url)\n",
    "\n",
    "    env.configure(remotes=url, docker_image=DOCKER_IMAGE, fps=fps, vnc_kwargs={\n",
    "            'encoding': 'tight', 'compress_level': 0,\n",
    "            'fine_quality_level': 100, 'subsample_level': 0\n",
    "        })\n",
    "    return env"
   ]
  },
  {
   "cell_type": "code",
   "execution_count": 16,
   "metadata": {},
   "outputs": [],
   "source": [
    "def join_env(env: universe.envs.VNCEnv):\n",
    "    \"\"\"\n",
    "    Function performs initial reset of the env and waits for observations to become ready\n",
    "    \"\"\"\n",
    "    obs_n = env.reset()\n",
    "    while any(map(lambda o: o is None, obs_n)):\n",
    "        a = [env.action_space.sample() for _ in obs_n]\n",
    "        obs_n, reward, is_done, info = env.step(a)\n",
    "    return obs_n"
   ]
  },
  {
   "cell_type": "markdown",
   "metadata": {},
   "source": [
    "# Gym actions/observations"
   ]
  },
  {
   "cell_type": "markdown",
   "metadata": {},
   "source": [
    "## Universe vectorized observations/actions\n",
    "\n",
    "Before we start looking at actual MiniWoB action and observation spaces, we need to state one quite important difference between OpenAI Gym and OpenAI Universe. \n",
    "\n",
    "Gym API is **synchronous** in terms of agent's calls to `step()` function and internal environment state. For example, if the agent playing Atari decided to download the 10GB model file (between calls to `step()`), Atari 2600 emulator and the game it emulates notice nothing, as Atari knows nothing about wall clock time, only about ticks of 6507 MCU and internal emulated hardware state. Gym can do this, because it has the full control over every environment it exposes to the developer.\n",
    "\n",
    "In contrast, Universe has much less knowledge and control over the software it communicates with. VNC protocol provides remote framebuffer interface (low-level name of VNC protocol is RFB), capturing the image on the remote machine and transferring it to VNC client running in front of you. Your actions, like mouse movements and key presses are recorded and being sent to the VNC server. So, VNC is relatively thin protocol providing the impression that remote applications are running locally. This simplifies application integration, but at the same time if you've missed same frame from the input images stream, you've missed it. So, Universe Gym API is **asynchronous**:\n",
    "\n",
    "* agent needs to be fast enough to process observations and keep the desired framerate. This might be important in cases when something qick is happening on the screen\n",
    "* on `reset()` call, environment takes some time to start producing observations. To indicate this transient states, it returns None for observations, which means you need to wait and repeat the request.\n",
    "\n",
    "Another difference is in native support of several environments running in parallel. On creation of environment you can specify how many of them need to be created and system will start several docker images running in parallel. Alternatively, you can provide several ports of already running docker images (possibly on remote machines in the cloud). As a result, Universe `Env` instance returns vectors of observations from `reset()` and `step()` calls and expects you to provide vector of actions for `step()`. This breaks the API, but simplifies the development. \n",
    "\n",
    "There is yet another API difference (quite a lot for Gym API with 3 methods!): reset of the environment is performed automatically, so there is no reason to call `reset()` on VNC env. The only way to distinguish end of episode is by the flag returned by `step()` method.\n",
    "\n",
    "Ptan library supports both vectorized and old-style environments, which also makes your life a little bit easier. "
   ]
  },
  {
   "cell_type": "markdown",
   "metadata": {},
   "source": [
    "## Observations and actions\n",
    "\n",
    "Universe exposes two new subclasses of Gym `Space` class: [`VNCActionSpace`](https://github.com/openai/universe/blob/master/universe/spaces/vnc_action_space.py) and `VNCObservationSpace`\n",
    "\n",
    "Action space is a container for `VNCKeyEvent` or `VNCPointerEvent`: https://github.com/openai/universe/blob/master/universe/spaces/vnc_event.py\n",
    "\n",
    "Observation from single environment is a dictionary with two keys: `vision` with image pixels and `text` with text description from the environment."
   ]
  },
  {
   "cell_type": "code",
   "execution_count": 6,
   "metadata": {},
   "outputs": [
    {
     "name": "stderr",
     "output_type": "stream",
     "text": [
      "[2019-07-02 12:39:40,448] Making new env: wob.mini.ClickDialog-v0\n",
      "/home/shmuma/anaconda3/envs/miniwob/lib/python3.6/site-packages/gym/envs/registration.py:17: PkgResourcesDeprecationWarning: Parameters to load are deprecated.  Call .resolve and .require separately.\n",
      "  result = entry_point.load(False)\n",
      "[2019-07-02 12:39:40,450] Writing logs to file: /tmp/universe-17721.log\n",
      "[2019-07-02 12:39:40,451] Using the golang VNC implementation\n",
      "[2019-07-02 12:39:40,451] Using VNCSession arguments: {'encoding': 'tight', 'compress_level': 0, 'fine_quality_level': 100, 'subsample_level': 0, 'start_timeout': 7}. (Customize by running \"env.configure(vnc_kwargs={...})\"\n",
      "[2019-07-02 12:39:40,453] [0] Connecting to environment: vnc://localhost:5900 password=openai. If desired, you can manually connect a VNC viewer, such as TurboVNC. Most environments provide a convenient in-browser VNC client: http://localhost:15900/viewer/?password=openai\n"
     ]
    },
    {
     "name": "stdout",
     "output_type": "stream",
     "text": [
      "Remotes URL: vnc://localhost:5900+15900\n"
     ]
    },
    {
     "data": {
      "text/plain": [
       "<Timer<Render<ThrottleVNCEnv<wob.mini.ClickDialog-v0>>>>"
      ]
     },
     "execution_count": 6,
     "metadata": {},
     "output_type": "execute_result"
    },
    {
     "name": "stderr",
     "output_type": "stream",
     "text": [
      "[2019-07-02 12:39:56,791] [0:localhost:5900] Sending reset for env_id=wob.mini.ClickDialog-v0 fps=60 episode_id=0\n",
      "[2019-07-02 12:39:56,843] [0:localhost:5900] Initial reset complete: episode_id=247\n"
     ]
    }
   ],
   "source": [
    "env = make_env()\n",
    "env"
   ]
  },
  {
   "cell_type": "markdown",
   "metadata": {},
   "source": [
    "Function `make_env` creates an VNCEnv with given game. To wait for initial reset of the environment, `join_env` function is provided."
   ]
  },
  {
   "cell_type": "code",
   "execution_count": 10,
   "metadata": {},
   "outputs": [
    {
     "name": "stderr",
     "output_type": "stream",
     "text": [
      "[2019-07-02 12:41:50,229] [0:localhost:5900] Sending reset for env_id=wob.mini.ClickDialog-v0 fps=60 episode_id=0\n"
     ]
    },
    {
     "data": {
      "text/plain": [
       "[{'vision': array([[[0, 0, 0],\n",
       "          [0, 0, 0],\n",
       "          [0, 0, 0],\n",
       "          ...,\n",
       "          [0, 0, 0],\n",
       "          [0, 0, 0],\n",
       "          [0, 0, 0]],\n",
       "  \n",
       "         [[0, 0, 0],\n",
       "          [0, 0, 0],\n",
       "          [0, 0, 0],\n",
       "          ...,\n",
       "          [0, 0, 0],\n",
       "          [0, 0, 0],\n",
       "          [0, 0, 0]],\n",
       "  \n",
       "         [[0, 0, 0],\n",
       "          [0, 0, 0],\n",
       "          [0, 0, 0],\n",
       "          ...,\n",
       "          [0, 0, 0],\n",
       "          [0, 0, 0],\n",
       "          [0, 0, 0]],\n",
       "  \n",
       "         ...,\n",
       "  \n",
       "         [[0, 0, 0],\n",
       "          [0, 0, 0],\n",
       "          [0, 0, 0],\n",
       "          ...,\n",
       "          [0, 0, 0],\n",
       "          [0, 0, 0],\n",
       "          [0, 0, 0]],\n",
       "  \n",
       "         [[0, 0, 0],\n",
       "          [0, 0, 0],\n",
       "          [0, 0, 0],\n",
       "          ...,\n",
       "          [0, 0, 0],\n",
       "          [0, 0, 0],\n",
       "          [0, 0, 0]],\n",
       "  \n",
       "         [[0, 0, 0],\n",
       "          [0, 0, 0],\n",
       "          [0, 0, 0],\n",
       "          ...,\n",
       "          [0, 0, 0],\n",
       "          [0, 0, 0],\n",
       "          [0, 0, 0]]], dtype=uint8), 'text': []}]"
      ]
     },
     "execution_count": 10,
     "metadata": {},
     "output_type": "execute_result"
    }
   ],
   "source": [
    "obs = join_env(env)\n",
    "obs"
   ]
  },
  {
   "cell_type": "markdown",
   "metadata": {},
   "source": [
    "We've got the first observation. The result is a list of single dict (remember vectorized form of universe observations?) "
   ]
  },
  {
   "cell_type": "code",
   "execution_count": 11,
   "metadata": {},
   "outputs": [
    {
     "data": {
      "image/png": "[encoded data removed]",
      "text/plain": [
       "<PIL.Image.Image image mode=RGB size=1024x768 at 0x7FA36414CDD8>"
      ]
     },
     "execution_count": 11,
     "metadata": {},
     "output_type": "execute_result"
    }
   ],
   "source": [
    "im = Image.fromarray(obs[0]['vision'])\n",
    "im"
   ]
  },
  {
   "cell_type": "markdown",
   "metadata": {},
   "source": [
    "### Image cropper\n",
    "\n",
    "As you can see, image is not cropped which is not very convenient, as relevant part of the problem's field is just tiny portion of the field. Below is the wrapper we'll use to crop the observations"
   ]
  },
  {
   "cell_type": "code",
   "execution_count": 12,
   "metadata": {},
   "outputs": [],
   "source": [
    "class MiniWoBCropper(vectorized.ObservationWrapper):\n",
    "    \"\"\"\n",
    "    Crops the WoB area and converts the observation into PyTorch (C, H, W) format.\n",
    "    \"\"\"\n",
    "    # Area of interest\n",
    "    WIDTH = 160\n",
    "    HEIGHT = 210\n",
    "    X_OFS = 10\n",
    "    Y_OFS = 75\n",
    "    \n",
    "    def __init__(self, env, keep_text=False):\n",
    "        super(MiniWoBCropper, self).__init__(env)\n",
    "        self.keep_text = keep_text\n",
    "        img_space = gym.spaces.Box(low=0, high=255, shape=(3, self.HEIGHT, self.WIDTH))\n",
    "        if keep_text:\n",
    "            self.observation_space = gym.spaces.Tuple(spaces=(img_space, gym.spaces.Space))\n",
    "        else:\n",
    "            self.observation_space = img_space\n",
    "\n",
    "    def _observation(self, observation_n):\n",
    "        res = []\n",
    "        for obs in observation_n:\n",
    "            if obs is None:\n",
    "                res.append(obs)\n",
    "                continue\n",
    "            img = obs['vision'][self.Y_OFS:self.Y_OFS+self.HEIGHT, self.X_OFS:self.X_OFS+self.WIDTH, :]\n",
    "            img = np.transpose(img, (2, 0, 1))\n",
    "            if self.keep_text:\n",
    "                text = \" \".join(map(lambda d: d.get('instruction', ''), obs.get('text', [{}])))\n",
    "                res.append((img, text))\n",
    "            else:\n",
    "                res.append(img)\n",
    "        return res\n"
   ]
  },
  {
   "cell_type": "markdown",
   "metadata": {},
   "source": [
    "Tiny easter egg in MiniWoB: image area has exactly the same dimension as Atari games resultion in ALE.\n",
    "\n",
    "And please note that old gym doesn't support `dtype` in `Box` class, so, it will be wrongly set as float32 (but, in fact, byte)"
   ]
  },
  {
   "cell_type": "code",
   "execution_count": 17,
   "metadata": {},
   "outputs": [
    {
     "name": "stderr",
     "output_type": "stream",
     "text": [
      "[2019-07-02 12:45:19,158] Making new env: wob.mini.ClickDialog-v0\n",
      "[2019-07-02 12:45:19,166] Using the golang VNC implementation\n",
      "[2019-07-02 12:45:19,167] Using VNCSession arguments: {'encoding': 'tight', 'compress_level': 0, 'fine_quality_level': 100, 'subsample_level': 0, 'start_timeout': 7}. (Customize by running \"env.configure(vnc_kwargs={...})\"\n",
      "[2019-07-02 12:45:19,190] [0] Connecting to environment: vnc://localhost:5900 password=openai. If desired, you can manually connect a VNC viewer, such as TurboVNC. Most environments provide a convenient in-browser VNC client: http://localhost:15900/viewer/?password=openai\n"
     ]
    },
    {
     "name": "stdout",
     "output_type": "stream",
     "text": [
      "Remotes URL: vnc://localhost:5900+15900\n"
     ]
    },
    {
     "name": "stderr",
     "output_type": "stream",
     "text": [
      "[2019-07-02 12:45:35,534] [0:localhost:5900] Sending reset for env_id=wob.mini.ClickDialog-v0 fps=60 episode_id=0\n",
      "[2019-07-02 12:45:39,589] [0:localhost:5900] Initial reset complete: episode_id=284\n"
     ]
    },
    {
     "data": {
      "text/plain": [
       "[array([[[181, 182, 182, ..., 182, 182, 182],\n",
       "         [255, 255, 255, ..., 255, 255, 255],\n",
       "         [254, 255, 255, ..., 255, 255, 255],\n",
       "         ...,\n",
       "         [255, 255, 255, ..., 255, 255, 255],\n",
       "         [255, 255, 255, ..., 255, 255, 255],\n",
       "         [255, 255, 255, ..., 255, 255, 255]],\n",
       " \n",
       "        [[179, 180, 180, ..., 180, 180, 180],\n",
       "         [255, 255, 255, ..., 255, 255, 255],\n",
       "         [255, 255, 255, ..., 255, 255, 255],\n",
       "         ...,\n",
       "         [255, 255, 255, ..., 255, 255, 255],\n",
       "         [255, 255, 255, ..., 255, 255, 255],\n",
       "         [255, 255, 255, ..., 255, 255, 255]],\n",
       " \n",
       "        [[182, 183, 183, ..., 183, 183, 183],\n",
       "         [  0,   0,   0, ...,   0,   0,   0],\n",
       "         [  0,   0,   0, ...,   0,   0,   0],\n",
       "         ...,\n",
       "         [255, 255, 255, ..., 255, 255, 255],\n",
       "         [255, 255, 255, ..., 255, 255, 255],\n",
       "         [255, 255, 255, ..., 255, 255, 255]]], dtype=uint8)]"
      ]
     },
     "execution_count": 17,
     "metadata": {},
     "output_type": "execute_result"
    }
   ],
   "source": [
    "env = make_env(wrapper_func = lambda env: MiniWoBCropper(env))\n",
    "obs = join_env(env)\n",
    "obs"
   ]
  },
  {
   "cell_type": "code",
   "execution_count": 18,
   "metadata": {},
   "outputs": [
    {
     "data": {
      "text/plain": [
       "(3, 210, 160)"
      ]
     },
     "execution_count": 18,
     "metadata": {},
     "output_type": "execute_result"
    }
   ],
   "source": [
    "obs[0].shape"
   ]
  },
  {
   "cell_type": "code",
   "execution_count": 19,
   "metadata": {},
   "outputs": [
    {
     "data": {
      "image/png": "[encoded data removed]",
      "text/plain": [
       "<PIL.Image.Image image mode=RGB size=160x210 at 0x7FA329AB2358>"
      ]
     },
     "execution_count": 19,
     "metadata": {},
     "output_type": "execute_result"
    }
   ],
   "source": [
    "im = Image.fromarray(obs[0].transpose((1, 2, 0)))\n",
    "im"
   ]
  },
  {
   "cell_type": "markdown",
   "metadata": {},
   "source": [
    "### Action space\n",
    "\n",
    "VNCActionSpace can include mouse click and key press events. To demonstrate how it is done, let's solve environment above by using brute force agent (sometimes this approach works better than sophisticated RL methods!)"
   ]
  },
  {
   "cell_type": "code",
   "execution_count": 24,
   "metadata": {},
   "outputs": [
    {
     "name": "stderr",
     "output_type": "stream",
     "text": [
      "[2019-07-02 12:50:05,761] [0:localhost:5900] Sending reset for env_id=wob.mini.ClickDialog-v0 fps=60 episode_id=0\n",
      "[2019-07-02 12:50:05,763] [0:localhost:5900] Sending reset for env_id=wob.mini.ClickDialog-v0 fps=60 episode_id=0\n"
     ]
    }
   ],
   "source": [
    "env.reset()\n",
    "join_env(env);"
   ]
  },
  {
   "cell_type": "code",
   "execution_count": 25,
   "metadata": {},
   "outputs": [
    {
     "name": "stderr",
     "output_type": "stream",
     "text": [
      "[2019-07-02 12:50:08,981] Throttle fell behind by 2.82s; lost 14.09 frames\n"
     ]
    },
    {
     "name": "stdout",
     "output_type": "stream",
     "text": [
      "Got reward 0.126, clicks done 19\n",
      "Got reward 0.270, clicks done 39\n",
      "Got reward -1.000, clicks done 54\n",
      "Got reward 0.071, clicks done 47\n",
      "Got reward 0.270, clicks done 39\n",
      "Got reward -1.000, clicks done 52\n",
      "Got reward 0.820, clicks done 12\n",
      "Got reward 0.971, clicks done 4\n",
      "Got reward -1.000, clicks done 52\n",
      "Got reward -1.000, clicks done 53\n",
      "Mean reward for 10 solved episodes is -0.147\n"
     ]
    }
   ],
   "source": [
    "# try to solve 10 episodes by doing random clicking\n",
    "rewards = []\n",
    "clicks_done = 0\n",
    "cur_reward = 0\n",
    "\n",
    "while len(rewards) < 10:\n",
    "    clicks_done += 1\n",
    "    click_x = MiniWoBCropper.X_OFS + np.random.randint(MiniWoBCropper.WIDTH)\n",
    "    click_y = MiniWoBCropper.Y_OFS + np.random.randint(MiniWoBCropper.HEIGHT)\n",
    "\n",
    "    acts = [\n",
    "        universe.spaces.PointerEvent(click_x, click_y, buttonmask=0),\n",
    "        universe.spaces.PointerEvent(click_x, click_y, buttonmask=1),\n",
    "        universe.spaces.PointerEvent(click_x, click_y, buttonmask=0)\n",
    "    ]\n",
    "\n",
    "    obs_n, r_n, end_n, _ = env.step([acts])\n",
    "    cur_reward += r_n[0]\n",
    "    if end_n[0]:\n",
    "        rewards.append(cur_reward)\n",
    "        print(\"Got reward %.3f, clicks done %d\" % (cur_reward, clicks_done))\n",
    "        clicks_done = 0\n",
    "        cur_reward = 0\n",
    "        \n",
    "print(\"Mean reward for %d solved episodes is %.3f\" % (len(rewards), np.mean(rewards)))"
   ]
  },
  {
   "cell_type": "markdown",
   "metadata": {},
   "source": [
    "Above approach are sampling from $160*210 = 33600$ action space, which might be too much for RL methods. To simplify our life a bit, we can discretize the area to be clicked by applying some grid and allowing to click only in the center of grid cell.\n",
    "\n",
    "<img src=\"images/wob-actions.png\" alt=\"Drawing\" style=\"width: 500px;\"/>\n",
    "\n",
    "Universe already comes with such preprocessor, called `SoftmaxClickMouse`: https://github.com/openai/universe/blob/master/universe/wrappers/experimental/action_space.py#L65, let's try it in our random clicking approach"
   ]
  },
  {
   "cell_type": "code",
   "execution_count": 26,
   "metadata": {},
   "outputs": [
    {
     "name": "stderr",
     "output_type": "stream",
     "text": [
      "[2019-07-02 12:52:36,111] Making new env: wob.mini.ClickDialog-v0\n",
      "[2019-07-02 12:52:36,119] Using SoftmaxClickMouse with action_region=(10, 125, 170, 285), noclick_regions=[]\n",
      "[2019-07-02 12:52:36,120] SoftmaxClickMouse noclick regions removed 0 of 256 actions\n",
      "[2019-07-02 12:52:36,120] Using the golang VNC implementation\n",
      "[2019-07-02 12:52:36,121] Using VNCSession arguments: {'encoding': 'tight', 'compress_level': 0, 'fine_quality_level': 100, 'subsample_level': 0, 'start_timeout': 7}. (Customize by running \"env.configure(vnc_kwargs={...})\"\n",
      "[2019-07-02 12:52:36,144] [0] Connecting to environment: vnc://localhost:5900 password=openai. If desired, you can manually connect a VNC viewer, such as TurboVNC. Most environments provide a convenient in-browser VNC client: http://localhost:15900/viewer/?password=openai\n"
     ]
    },
    {
     "name": "stdout",
     "output_type": "stream",
     "text": [
      "Remotes URL: vnc://localhost:5900+15900\n"
     ]
    },
    {
     "name": "stderr",
     "output_type": "stream",
     "text": [
      "[2019-07-02 12:52:52,500] [0:localhost:5900] Sending reset for env_id=wob.mini.ClickDialog-v0 fps=60 episode_id=0\n",
      "[2019-07-02 12:52:56,536] [0:localhost:5900] Initial reset complete: episode_id=337\n"
     ]
    }
   ],
   "source": [
    "env = make_env(wrapper_func = lambda env: SoftmaxClickMouse(MiniWoBCropper(env)))\n",
    "join_env(env);"
   ]
  },
  {
   "cell_type": "code",
   "execution_count": 27,
   "metadata": {},
   "outputs": [
    {
     "data": {
      "text/plain": [
       "Discrete(256)"
      ]
     },
     "execution_count": 27,
     "metadata": {},
     "output_type": "execute_result"
    }
   ],
   "source": [
    "env.action_space"
   ]
  },
  {
   "cell_type": "code",
   "execution_count": 28,
   "metadata": {},
   "outputs": [
    {
     "name": "stderr",
     "output_type": "stream",
     "text": [
      "[2019-07-02 12:53:43,950] Throttle fell behind by 47.17s; lost 235.87 frames\n"
     ]
    },
    {
     "name": "stdout",
     "output_type": "stream",
     "text": [
      "Got reward -1.000, clicks done 1\n",
      "Got reward 0.434, clicks done 10\n",
      "Got reward 0.270, clicks done 39\n",
      "Got reward -1.000, clicks done 52\n",
      "Got reward 0.780, clicks done 14\n",
      "Got reward 0.000, clicks done 23\n",
      "Got reward 0.750, clicks done 15\n",
      "Got reward -1.000, clicks done 52\n",
      "Got reward 0.980, clicks done 4\n",
      "Got reward 0.210, clicks done 42\n",
      "Mean reward for 10 solved episodes is 0.042\n"
     ]
    }
   ],
   "source": [
    "# try to solve 10 episodes by doing random clicking\n",
    "rewards = []\n",
    "clicks_done = 0\n",
    "cur_reward = 0\n",
    "\n",
    "while len(rewards) < 10:\n",
    "    clicks_done += 1\n",
    "    click_x = MiniWoBCropper.X_OFS + np.random.randint(MiniWoBCropper.WIDTH)\n",
    "    click_y = MiniWoBCropper.Y_OFS + np.random.randint(MiniWoBCropper.HEIGHT)\n",
    "\n",
    "    obs_n, r_n, end_n, _ = env.step([env.action_space.sample()])\n",
    "    cur_reward += r_n[0]\n",
    "    if end_n[0]:\n",
    "        rewards.append(cur_reward)\n",
    "        print(\"Got reward %.3f, clicks done %d\" % (cur_reward, clicks_done))\n",
    "        clicks_done = 0\n",
    "        cur_reward = 0\n",
    "        \n",
    "print(\"Mean reward for %d solved episodes is %.3f\" % (len(rewards), np.mean(rewards)))"
   ]
  },
  {
   "cell_type": "markdown",
   "metadata": {},
   "source": [
    "Ok, there is some improvement (or just a lucky seed, as 10 episodes is not that much). Let's try to apply our shiny RL tools."
   ]
  },
  {
   "cell_type": "markdown",
   "metadata": {},
   "source": [
    "# Do not forget to stop container"
   ]
  },
  {
   "cell_type": "code",
   "execution_count": 29,
   "metadata": {},
   "outputs": [],
   "source": [
    "env.close()"
   ]
  },
  {
   "cell_type": "code",
   "execution_count": 30,
   "metadata": {},
   "outputs": [
    {
     "name": "stdout",
     "output_type": "stream",
     "text": [
      "e671bd7f0206\r\n"
     ]
    }
   ],
   "source": [
    "!./containers_stop.sh"
   ]
  },
  {
   "cell_type": "code",
   "execution_count": null,
   "metadata": {},
   "outputs": [],
   "source": []
  }
 ],
 "metadata": {
  "kernelspec": {
   "display_name": "Python 3",
   "language": "python",
   "name": "python3"
  },
  "language_info": {
   "codemirror_mode": {
    "name": "ipython",
    "version": 3
   },
   "file_extension": ".py",
   "mimetype": "text/x-python",
   "name": "python",
   "nbconvert_exporter": "python",
   "pygments_lexer": "ipython3",
   "version": "3.6.8"
  }
 },
 "nbformat": 4,
 "nbformat_minor": 2
}
