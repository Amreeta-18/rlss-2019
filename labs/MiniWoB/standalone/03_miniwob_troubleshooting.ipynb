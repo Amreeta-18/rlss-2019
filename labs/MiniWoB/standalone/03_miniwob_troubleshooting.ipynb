{
 "cells": [
  {
   "cell_type": "markdown",
   "metadata": {},
   "source": [
    "# Imports/tools"
   ]
  },
  {
   "cell_type": "code",
   "execution_count": 147,
   "metadata": {},
   "outputs": [
    {
     "name": "stdout",
     "output_type": "stream",
     "text": [
      "Starting container 1\n",
      "74945919425dce3484f01a5129892be1b5e3628bd4d9d62835f1f359c3d774bb\n"
     ]
    }
   ],
   "source": [
    "!./containers_run.sh"
   ]
  },
  {
   "cell_type": "code",
   "execution_count": 4,
   "metadata": {},
   "outputs": [
    {
     "name": "stderr",
     "output_type": "stream",
     "text": [
      "/home/shmuma/anaconda3/envs/miniwob/lib/python3.6/site-packages/universe/runtimes/__init__.py:7: YAMLLoadWarning: calling yaml.load() without Loader=... is deprecated, as the default Loader is unsafe. Please read https://msg.pyyaml.org/load for full details.\n",
      "  spec = yaml.load(f)\n"
     ]
    }
   ],
   "source": [
    "import gym\n",
    "import ptan\n",
    "import time\n",
    "import copy\n",
    "import numpy as np\n",
    "import universe\n",
    "import collections\n",
    "from typing import List, Optional, Tuple\n",
    "from universe import vectorized\n",
    "from universe.wrappers.experimental import SoftmaxClickMouse\n",
    "\n",
    "from PIL import Image, ImageDraw\n",
    "import matplotlib.pylab as plt\n",
    "\n",
    "%matplotlib inline"
   ]
  },
  {
   "cell_type": "code",
   "execution_count": 5,
   "metadata": {},
   "outputs": [],
   "source": [
    "import torch\n",
    "import torch.nn as nn\n",
    "import torch.nn.functional as F\n",
    "import torch.optim as optim"
   ]
  },
  {
   "cell_type": "code",
   "execution_count": 6,
   "metadata": {},
   "outputs": [],
   "source": [
    "DOCKER_IMAGE = \"shmuma/miniwob:latest\"\n",
    "ENV_NAME = \"wob.mini.ClickDialog-v0\""
   ]
  },
  {
   "cell_type": "code",
   "execution_count": 7,
   "metadata": {},
   "outputs": [],
   "source": [
    "# function to build connection endpoints for set of containers\n",
    "# you should tweak its args if you're not using standalone installation\n",
    "def remotes_url(port_ofs=0, hostname='localhost', count=8):\n",
    "    hosts = [\"%s:%d+%d\" % (hostname, 5900 + ofs, 15900 + ofs) for ofs in range(port_ofs, port_ofs+count)]\n",
    "    return \"vnc://\" + \",\".join(hosts)"
   ]
  },
  {
   "cell_type": "code",
   "execution_count": 8,
   "metadata": {},
   "outputs": [],
   "source": [
    "def make_env(wrapper_func = lambda env: env, count: int = 1, fps: float = 5) -> universe.envs.VNCEnv:\n",
    "    \"\"\"\n",
    "    Builds the vectorized env\n",
    "    \"\"\"\n",
    "    env = gym.make(ENV_NAME)\n",
    "    env = wrapper_func(env)\n",
    "    url = remotes_url(count=count)\n",
    "    print(\"Remotes URL: %s\" % url)\n",
    "\n",
    "    env.configure(remotes=url, docker_image=DOCKER_IMAGE, fps=fps, vnc_kwargs={\n",
    "            'encoding': 'tight', 'compress_level': 0,\n",
    "            'fine_quality_level': 100, 'subsample_level': 0\n",
    "        })\n",
    "    return env"
   ]
  },
  {
   "cell_type": "code",
   "execution_count": 9,
   "metadata": {},
   "outputs": [],
   "source": [
    "def join_env(env: universe.envs.VNCEnv):\n",
    "    \"\"\"\n",
    "    Function performs initial reset of the env and waits for observations to become ready\n",
    "    \"\"\"\n",
    "    obs_n = env.reset()\n",
    "    while any(map(lambda o: o is None, obs_n)):\n",
    "        a = [env.action_space.sample() for _ in obs_n]\n",
    "        obs_n, reward, is_done, info = env.step(a)\n",
    "    return obs_n"
   ]
  },
  {
   "cell_type": "code",
   "execution_count": 10,
   "metadata": {},
   "outputs": [],
   "source": [
    "class MiniWoBCropper(vectorized.ObservationWrapper):\n",
    "    \"\"\"\n",
    "    Crops the WoB area and converts the observation into PyTorch (C, H, W) format.\n",
    "    \"\"\"\n",
    "    # Area of interest\n",
    "    WIDTH = 160\n",
    "    HEIGHT = 210\n",
    "    X_OFS = 10\n",
    "    Y_OFS = 75\n",
    "    \n",
    "    def __init__(self, env, keep_text=False):\n",
    "        super(MiniWoBCropper, self).__init__(env)\n",
    "        self.keep_text = keep_text\n",
    "        img_space = gym.spaces.Box(low=0, high=255, shape=(3, self.HEIGHT, self.WIDTH))\n",
    "        if keep_text:\n",
    "            self.observation_space = gym.spaces.Tuple(spaces=(img_space, gym.spaces.Space))\n",
    "        else:\n",
    "            self.observation_space = img_space\n",
    "\n",
    "    def _observation(self, observation_n):\n",
    "        res = []\n",
    "        for obs in observation_n:\n",
    "            if obs is None:\n",
    "                res.append(obs)\n",
    "                continue\n",
    "            img = obs['vision'][self.Y_OFS:self.Y_OFS+self.HEIGHT, self.X_OFS:self.X_OFS+self.WIDTH, :]\n",
    "            img = np.transpose(img, (2, 0, 1))\n",
    "            if self.keep_text:\n",
    "                text = \" \".join(map(lambda d: d.get('instruction', ''), obs.get('text', [{}])))\n",
    "                res.append((img, text))\n",
    "            else:\n",
    "                res.append(img)\n",
    "        return res"
   ]
  },
  {
   "cell_type": "code",
   "execution_count": 11,
   "metadata": {},
   "outputs": [],
   "source": [
    "class Model(nn.Module):\n",
    "    def __init__(self, input_shape, n_actions):\n",
    "        super(Model, self).__init__()\n",
    "\n",
    "        self.conv = nn.Sequential(\n",
    "            nn.Conv2d(input_shape[0], 64, 5, stride=5),\n",
    "            nn.ReLU(),\n",
    "            nn.Conv2d(64, 64, 3, stride=2),\n",
    "            nn.ReLU(),\n",
    "        )\n",
    "\n",
    "        conv_out_size = self._get_conv_out(input_shape)\n",
    "\n",
    "        self.fc = nn.Sequential(\n",
    "            nn.Linear(conv_out_size, n_actions),\n",
    "        )\n",
    "\n",
    "    def _get_conv_out(self, shape):\n",
    "        o = self.conv(torch.zeros(1, *shape))\n",
    "        return int(np.prod(o.size()))\n",
    "\n",
    "    def forward(self, x):\n",
    "        fx = x.float() / 256\n",
    "        conv_out = self.conv(fx).view(fx.size()[0], -1)\n",
    "        return self.fc(conv_out)"
   ]
  },
  {
   "cell_type": "code",
   "execution_count": 12,
   "metadata": {},
   "outputs": [],
   "source": [
    "@torch.no_grad()\n",
    "def unpack_batch(batch: List[ptan.experience.ExperienceFirstLast], net: nn.Module, gamma: float, device=\"cpu\"):\n",
    "    states = []\n",
    "    actions = []\n",
    "    rewards = []\n",
    "    done_masks = []\n",
    "    last_states = []\n",
    "    for exp in batch:\n",
    "        states.append(exp.state)\n",
    "        actions.append(exp.action)\n",
    "        rewards.append(exp.reward)\n",
    "        done_masks.append(exp.last_state is None)\n",
    "        if exp.last_state is None:\n",
    "            last_states.append(exp.state)\n",
    "        else:\n",
    "            last_states.append(exp.last_state)\n",
    "\n",
    "    states_v = torch.tensor(states).to(device)\n",
    "    actions_v = torch.tensor(actions).to(device)\n",
    "    rewards_v = torch.tensor(rewards).to(device)\n",
    "    last_states_v = torch.tensor(last_states).to(device)\n",
    "    last_state_q_v = net(last_states_v)\n",
    "    best_last_q_v = torch.max(last_state_q_v, dim=1)[0]\n",
    "    best_last_q_v[done_masks] = 0.0\n",
    "    return states_v, actions_v, best_last_q_v + rewards_v"
   ]
  },
  {
   "cell_type": "markdown",
   "metadata": {},
   "source": [
    "# Troubleshooting of Baseline DQN\n",
    "\n",
    "> \"You love Linux, probably you're experienced in troubleshooting...\"\n",
    "> RHCE Exam Instructor @ 2005\n",
    "\n",
    "Code above doesn't converge. Usually, in such situations, tutorial author tweaks the parameters to make it working, so, attendants see only final, polished version. This makes the false impression of ML as smooth and quite obvious process, which very far from truth. Don't know about others, but my code doesn't work 90% of the time :).\n",
    "\n",
    "To learn how to deal with such situations, you're asked to troubleshoot the code above. There are several directions you could explore (of course, you can have your own ideas, that's not the complete list):\n",
    "\n",
    "* check training samples. Do they make sense? Is reward properly assigned to correct observations?\n",
    "* training gradients. How large they are? What's the ratio of gradients/weight values?\n",
    "* do end-of-episode steps handled properly? Final steps of epsiodes act as an anchor to prevent Q values from growing infinitely, so, it is critical to have them properly handled in Bellman equation\n",
    "* explore Q values produced by the network during the training. Are they growing over time? That's a good practice to have small set of states (including final step and steps before the final) and track their Qs during the training.\n",
    "* how large the difference between trained network and target net used for next-step Bellman approximation? How it changes over time?\n"
   ]
  },
  {
   "cell_type": "code",
   "execution_count": 13,
   "metadata": {},
   "outputs": [],
   "source": [
    "GAMMA = 0.9\n",
    "REPLAY_SIZE = 10000\n",
    "MIN_REPLAY = 100\n",
    "TGT_SYNC = 100\n",
    "BATCH_SIZE = 16\n",
    "LR = 1e-3\n",
    "DEVICE = \"cuda\"  \n",
    "#DEVICE = \"cpu\"\n",
    "\n",
    "INITIAL_EPSILON = 1.0\n",
    "FINAL_EPSILON = 0.2\n",
    "STEPS_EPSILON = 1000\n",
    "LIMIT_STEPS = 1500"
   ]
  },
  {
   "cell_type": "markdown",
   "metadata": {},
   "source": [
    "## Training samples check\n",
    "\n",
    "Here we're going to eyeball our training samples. OpenAI Universe is asynchronous, so, if we're missing a frame or have delays to handle input data, we can get weird training samples.\n",
    "\n",
    "To do this, we implement small `Env` wrapper applied after `MiniWoBCropper` to keep history of training sequences."
   ]
  },
  {
   "cell_type": "code",
   "execution_count": 14,
   "metadata": {},
   "outputs": [],
   "source": [
    "class TrajectoryTracking(vectorized.Wrapper):\n",
    "    \"\"\"\n",
    "    Keeps last N trajectories from the environment\n",
    "    \"\"\"\n",
    "    def __init__(self, env, size: int):\n",
    "        super(TrajectoryTracking, self).__init__(env)\n",
    "        self.trajectories = collections.deque(maxlen=size)\n",
    "        self._in_progress = []\n",
    "\n",
    "    def reset(self):\n",
    "        obs_n = self.env.reset()\n",
    "        if not self._in_progress:\n",
    "            self._in_progress = [[] for _ in obs_n]\n",
    "        for t, obs in zip(self._in_progress, obs_n):\n",
    "            if t:\n",
    "                self.trajectories.append(list(t))\n",
    "                t.clear()\n",
    "            if obs:\n",
    "                t.append(obs)\n",
    "        return obs_n\n",
    "    \n",
    "    def step(self, action_n):\n",
    "        obs_n, r_n, done_n, info_n = self.env.step(action_n)\n",
    "        for t, obs, r, act in zip(self._in_progress, obs_n, r_n, action_n):\n",
    "            t.append((obs, act, r))\n",
    "        for t, done in zip(self._in_progress, done_n):\n",
    "            if done:\n",
    "                self.trajectories.append(list(t))\n",
    "                t.clear()\n",
    "        return obs_n, r_n, done_n, info_n"
   ]
  },
  {
   "cell_type": "markdown",
   "metadata": {},
   "source": [
    "Let's apply it to our training to get trajectories to check"
   ]
  },
  {
   "cell_type": "code",
   "execution_count": 15,
   "metadata": {},
   "outputs": [
    {
     "name": "stderr",
     "output_type": "stream",
     "text": [
      "[2019-07-10 11:59:39,651] Making new env: wob.mini.ClickDialog-v0\n",
      "/home/shmuma/anaconda3/envs/miniwob/lib/python3.6/site-packages/gym/envs/registration.py:17: PkgResourcesDeprecationWarning: Parameters to load are deprecated.  Call .resolve and .require separately.\n",
      "  result = entry_point.load(False)\n",
      "[2019-07-10 11:59:39,657] Using SoftmaxClickMouse with action_region=(10, 125, 170, 285), noclick_regions=[]\n",
      "[2019-07-10 11:59:39,657] SoftmaxClickMouse noclick regions removed 0 of 256 actions\n",
      "[2019-07-10 11:59:39,658] Writing logs to file: /tmp/universe-14032.log\n",
      "[2019-07-10 11:59:39,662] Using the golang VNC implementation\n",
      "[2019-07-10 11:59:39,663] Using VNCSession arguments: {'encoding': 'tight', 'compress_level': 0, 'fine_quality_level': 100, 'subsample_level': 0, 'start_timeout': 7}. (Customize by running \"env.configure(vnc_kwargs={...})\"\n",
      "[2019-07-10 11:59:39,684] [0] Connecting to environment: vnc://localhost:5900 password=openai. If desired, you can manually connect a VNC viewer, such as TurboVNC. Most environments provide a convenient in-browser VNC client: http://localhost:15900/viewer/?password=openai\n"
     ]
    },
    {
     "name": "stdout",
     "output_type": "stream",
     "text": [
      "Remotes URL: vnc://localhost:5900+15900\n"
     ]
    },
    {
     "name": "stderr",
     "output_type": "stream",
     "text": [
      "[2019-07-10 11:59:56,047] [0:localhost:5900] Sending reset for env_id=wob.mini.ClickDialog-v0 fps=60 episode_id=0\n",
      "[2019-07-10 11:59:56,195] [0:localhost:5900] Initial reset complete: episode_id=361\n"
     ]
    }
   ],
   "source": [
    "def wrapper_func(env):\n",
    "    env = MiniWoBCropper(env)\n",
    "    env = SoftmaxClickMouse(env)\n",
    "    env = TrajectoryTracking(env, size=10)\n",
    "    return env\n",
    "\n",
    "# Note FPS decrease to get smaller amount of images\n",
    "env = make_env(wrapper_func = wrapper_func, fps=1)\n",
    "join_env(env);"
   ]
  },
  {
   "cell_type": "code",
   "execution_count": 16,
   "metadata": {},
   "outputs": [],
   "source": [
    "net = Model(env.observation_space.shape, env.action_space.n).to(DEVICE)\n",
    "\n",
    "parent_selector = ptan.actions.ArgmaxActionSelector()\n",
    "action_selector = ptan.actions.EpsilonGreedyActionSelector(epsilon=1, selector=parent_selector) \n",
    "agent = ptan.agent.DQNAgent(net, action_selector, device=DEVICE)\n",
    "exp_source = ptan.experience.ExperienceSourceFirstLast(env, agent, gamma=GAMMA, vectorized=True)\n",
    "\n",
    "buffer = ptan.experience.ExperienceReplayBuffer(exp_source, REPLAY_SIZE)"
   ]
  },
  {
   "cell_type": "code",
   "execution_count": 17,
   "metadata": {},
   "outputs": [
    {
     "name": "stderr",
     "output_type": "stream",
     "text": [
      "[2019-07-10 12:00:23,001] [0:localhost:5900] Sending reset for env_id=wob.mini.ClickDialog-v0 fps=60 episode_id=0\n"
     ]
    },
    {
     "name": "stdout",
     "output_type": "stream",
     "text": [
      "Episode done with 2 steps and -1.000 reward\n",
      "Episode done with 7 steps and 0.359 reward\n",
      "Episode done with 10 steps and -1.000 reward\n",
      "Episode done with 11 steps and -1.000 reward\n",
      "Episode done with 10 steps and -1.000 reward\n",
      "Episode done with 11 steps and -1.000 reward\n",
      "Episode done with 10 steps and -1.000 reward\n",
      "Episode done with 11 steps and -1.000 reward\n",
      "Episode done with 10 steps and -1.000 reward\n",
      "Episode done with 11 steps and -1.000 reward\n",
      "Episode done with 10 steps and -1.000 reward\n"
     ]
    }
   ],
   "source": [
    "# populate buffer to get some trajectories\n",
    "for _ in range(100):\n",
    "    buffer.populate(1)\n",
    "    for rw, st in exp_source.pop_rewards_steps():\n",
    "        print(\"Episode done with %d steps and %.3f reward\" % (st, rw))"
   ]
  },
  {
   "cell_type": "code",
   "execution_count": 18,
   "metadata": {},
   "outputs": [
    {
     "data": {
      "text/plain": [
       "10"
      ]
     },
     "execution_count": 18,
     "metadata": {},
     "output_type": "execute_result"
    }
   ],
   "source": [
    "len(env.trajectories)"
   ]
  },
  {
   "cell_type": "code",
   "execution_count": 19,
   "metadata": {},
   "outputs": [
    {
     "data": {
      "text/plain": [
       "[7, 10, 11, 10, 11, 10, 11, 10, 11, 10]"
      ]
     },
     "execution_count": 19,
     "metadata": {},
     "output_type": "execute_result"
    }
   ],
   "source": [
    "list(map(len, env.trajectories))"
   ]
  },
  {
   "cell_type": "code",
   "execution_count": 20,
   "metadata": {},
   "outputs": [
    {
     "data": {
      "text/plain": [
       "((58, 116, 40, 8, 189, 181, 208), (0.0, 0.0, 0.0, 0.0, 0.0, 0.0, 0.359))"
      ]
     },
     "execution_count": 20,
     "metadata": {},
     "output_type": "execute_result"
    }
   ],
   "source": [
    "# you might want to select different trajectory to check, I've chosen not very long one with positive reward\n",
    "tr = env.trajectories[0]\n",
    "tr_obs, tr_act, tr_rw = zip(*tr)\n",
    "tr_act, tr_rw"
   ]
  },
  {
   "cell_type": "code",
   "execution_count": 21,
   "metadata": {},
   "outputs": [],
   "source": [
    "def get_obs_img(obs, action=None, action_step_pix=10, action_y_ofs=50, transpose=True):\n",
    "    \"\"\"\n",
    "    Get the image from observation with optional action place shown\n",
    "    \"\"\"\n",
    "    if transpose:\n",
    "        obs = np.transpose(obs, (1, 2, 0))\n",
    "    img = Image.fromarray(obs)\n",
    "    if action is not None:\n",
    "        draw = ImageDraw.Draw(img)\n",
    "        if isinstance(action, tuple):\n",
    "            x_ofs, y_ofs = action\n",
    "        else:\n",
    "            y_ofs = action_y_ofs + (action % 16) * action_step_pix\n",
    "            x_ofs = (action // 16) * action_step_pix\n",
    "        half_step = action_step_pix//2\n",
    "        draw.ellipse((x_ofs-half_step, y_ofs-half_step, x_ofs+half_step, y_ofs+half_step),\n",
    "                     (0, 0, 255, 128))\n",
    "    return img"
   ]
  },
  {
   "cell_type": "code",
   "execution_count": 22,
   "metadata": {},
   "outputs": [],
   "source": [
    "imgs = [get_obs_img(obs, action=act) for obs, act in zip(tr_obs, tr_act)]"
   ]
  },
  {
   "cell_type": "code",
   "execution_count": 24,
   "metadata": {},
   "outputs": [
    {
     "data": {
      "image/png": "[encoded data removed]",
      "text/plain": [
       "<Figure size 720x720 with 7 Axes>"
      ]
     },
     "metadata": {
      "needs_background": "light"
     },
     "output_type": "display_data"
    }
   ],
   "source": [
    "fig = plt.figure(figsize=(10, 10))\n",
    "\n",
    "rows = 2\n",
    "for i, img in enumerate(imgs, start=1):\n",
    "    fig.add_subplot(rows, np.ceil(len(imgs)/rows), i)\n",
    "    plt.imshow(img)\n",
    "plt.show()"
   ]
  },
  {
   "cell_type": "markdown",
   "metadata": {},
   "source": [
    "Ok, looks like reward is assigned to the last step, but not to the step with correct action. Let's check what happens with higher FPS value"
   ]
  },
  {
   "cell_type": "code",
   "execution_count": 25,
   "metadata": {},
   "outputs": [
    {
     "name": "stderr",
     "output_type": "stream",
     "text": [
      "[2019-07-10 12:04:34,253] Making new env: wob.mini.ClickDialog-v0\n",
      "[2019-07-10 12:04:34,255] Using SoftmaxClickMouse with action_region=(10, 125, 170, 285), noclick_regions=[]\n",
      "[2019-07-10 12:04:34,256] SoftmaxClickMouse noclick regions removed 0 of 256 actions\n",
      "[2019-07-10 12:04:34,256] Using the golang VNC implementation\n",
      "[2019-07-10 12:04:34,257] Using VNCSession arguments: {'encoding': 'tight', 'compress_level': 0, 'fine_quality_level': 100, 'subsample_level': 0, 'start_timeout': 7}. (Customize by running \"env.configure(vnc_kwargs={...})\"\n",
      "[2019-07-10 12:04:34,278] [0] Connecting to environment: vnc://localhost:5900 password=openai. If desired, you can manually connect a VNC viewer, such as TurboVNC. Most environments provide a convenient in-browser VNC client: http://localhost:15900/viewer/?password=openai\n"
     ]
    },
    {
     "name": "stdout",
     "output_type": "stream",
     "text": [
      "Remotes URL: vnc://localhost:5900+15900\n"
     ]
    },
    {
     "name": "stderr",
     "output_type": "stream",
     "text": [
      "[2019-07-10 12:04:50,660] [0:localhost:5900] Sending reset for env_id=wob.mini.ClickDialog-v0 fps=60 episode_id=0\n",
      "[2019-07-10 12:04:50,762] [0:localhost:5900] Initial reset complete: episode_id=391\n"
     ]
    }
   ],
   "source": [
    "def wrapper_func(env):\n",
    "    env = MiniWoBCropper(env)\n",
    "    env = SoftmaxClickMouse(env)\n",
    "    env = TrajectoryTracking(env, size=10)\n",
    "    return env\n",
    "\n",
    "env = make_env(wrapper_func = wrapper_func, fps=5)\n",
    "join_env(env);"
   ]
  },
  {
   "cell_type": "code",
   "execution_count": 26,
   "metadata": {},
   "outputs": [],
   "source": [
    "net = Model(env.observation_space.shape, env.action_space.n).to(DEVICE)\n",
    "\n",
    "parent_selector = ptan.actions.ArgmaxActionSelector()\n",
    "action_selector = ptan.actions.EpsilonGreedyActionSelector(epsilon=1, selector=parent_selector) \n",
    "agent = ptan.agent.DQNAgent(net, action_selector, device=DEVICE)\n",
    "exp_source = ptan.experience.ExperienceSourceFirstLast(env, agent, gamma=GAMMA, vectorized=True)\n",
    "\n",
    "buffer = ptan.experience.ExperienceReplayBuffer(exp_source, REPLAY_SIZE)"
   ]
  },
  {
   "cell_type": "code",
   "execution_count": 27,
   "metadata": {},
   "outputs": [
    {
     "name": "stderr",
     "output_type": "stream",
     "text": [
      "[2019-07-10 12:05:10,827] [0:localhost:5900] Sending reset for env_id=wob.mini.ClickDialog-v0 fps=60 episode_id=0\n"
     ]
    },
    {
     "name": "stdout",
     "output_type": "stream",
     "text": [
      "Episode done with 17 steps and -1.000 reward\n",
      "Episode done with 21 steps and 0.624 reward\n",
      "Episode done with 6 steps and 0.931 reward\n",
      "Episode done with 52 steps and -1.000 reward\n",
      "Episode done with 34 steps and 0.379 reward\n",
      "Episode done with 52 steps and -1.000 reward\n",
      "Episode done with 53 steps and -1.000 reward\n",
      "Episode done with 17 steps and 0.711 reward\n",
      "Episode done with 52 steps and 0.009 reward\n",
      "Episode done with 18 steps and 0.691 reward\n",
      "Episode done with 52 steps and -1.000 reward\n",
      "Episode done with 53 steps and -1.000 reward\n",
      "Episode done with 27 steps and 0.511 reward\n",
      "Episode done with 52 steps and -1.000 reward\n"
     ]
    }
   ],
   "source": [
    "# populate buffer to get some trajectories\n",
    "for _ in range(500):\n",
    "    buffer.populate(1)\n",
    "    for rw, st in exp_source.pop_rewards_steps():\n",
    "        print(\"Episode done with %d steps and %.3f reward\" % (st, rw))"
   ]
  },
  {
   "cell_type": "markdown",
   "metadata": {},
   "source": [
    "One thing to notice here: we have much higher success rate due to more clicks done."
   ]
  },
  {
   "cell_type": "code",
   "execution_count": 28,
   "metadata": {},
   "outputs": [
    {
     "data": {
      "text/plain": [
       "[34, 52, 53, 17, 52, 18, 52, 53, 27, 52]"
      ]
     },
     "execution_count": 28,
     "metadata": {},
     "output_type": "execute_result"
    }
   ],
   "source": [
    "list(map(len, env.trajectories))"
   ]
  },
  {
   "cell_type": "code",
   "execution_count": 30,
   "metadata": {},
   "outputs": [
    {
     "name": "stdout",
     "output_type": "stream",
     "text": [
      "(143, 8, 27, 15, 207, 122, 142, 175, 219, 67, 9, 228, 87, 218, 172, 217, 118, 12, 66, 142, 137, 54, 238, 96, 175, 70, 64, 62, 179, 10, 172, 125, 180, 211)\n",
      "(0.0, 0.0, 0.0, 0.0, 0.0, 0.0, 0.0, 0.0, 0.0, 0.0, 0.0, 0.0, 0.0, 0.0, 0.0, 0.0, 0.0, 0.0, 0.0, 0.0, 0.0, 0.0, 0.0, 0.0, 0.0, 0.0, 0.0, 0.0, 0.0, 0.0, 0.0, 0.0, 0.0, 0.3794)\n"
     ]
    }
   ],
   "source": [
    "# you might want to select different trajectory to check, I've chosen not very long one with positive reward\n",
    "tr = env.trajectories[0]\n",
    "tr_obs, tr_act, tr_rw = zip(*tr)\n",
    "print(tr_act)\n",
    "print(tr_rw)"
   ]
  },
  {
   "cell_type": "code",
   "execution_count": 34,
   "metadata": {},
   "outputs": [
    {
     "data": {
      "image/png": "[encoded data removed]",
      "text/plain": [
       "<Figure size 720x720 with 10 Axes>"
      ]
     },
     "metadata": {
      "needs_background": "light"
     },
     "output_type": "display_data"
    }
   ],
   "source": [
    "imgs = [get_obs_img(obs, action=act) for obs, act in zip(tr_obs, tr_act)]\n",
    "\n",
    "fig = plt.figure(figsize=(10, 10))\n",
    "\n",
    "rows = 2\n",
    "for i, img in enumerate(imgs[-10:], start=1):\n",
    "    fig.add_subplot(rows, np.ceil(len(imgs[-10:])/rows), i)\n",
    "    plt.imshow(img)\n",
    "plt.show()"
   ]
  },
  {
   "cell_type": "markdown",
   "metadata": {},
   "source": [
    "Hm, looks like the last step in the trajectory is confusing. Let's check the contents of the replay buffer"
   ]
  },
  {
   "cell_type": "code",
   "execution_count": 35,
   "metadata": {},
   "outputs": [
    {
     "data": {
      "text/plain": [
       "500"
      ]
     },
     "execution_count": 35,
     "metadata": {},
     "output_type": "execute_result"
    }
   ],
   "source": [
    "len(buffer)"
   ]
  },
  {
   "cell_type": "code",
   "execution_count": 36,
   "metadata": {},
   "outputs": [
    {
     "name": "stdout",
     "output_type": "stream",
     "text": [
      "Found 6 final good states and 6 final bad\n"
     ]
    }
   ],
   "source": [
    "# buffer is just a container of objects of ExperienceFirstLast \n",
    "# (https://github.com/Shmuma/ptan/blob/master/ptan/experience.py#L155)\n",
    "# which just a namedtuple with fields: state, action, reward, last_state\n",
    "final_good = []\n",
    "final_bad = []\n",
    "for s in buffer:\n",
    "    if s.last_state is None:\n",
    "        if s.reward > 0.2:\n",
    "            final_good.append(s)\n",
    "        elif s.reward < -0.2:\n",
    "            final_bad.append(s)\n",
    "print(\"Found %d final good states and %d final bad\" % (len(final_good), len(final_bad)))"
   ]
  },
  {
   "cell_type": "code",
   "execution_count": 37,
   "metadata": {},
   "outputs": [],
   "source": [
    "final_good_imgs = [get_obs_img(s.state, action=s.action) for s in final_good]\n",
    "final_bad_imgs = [get_obs_img(s.state, action=s.action) for s in final_bad]"
   ]
  },
  {
   "cell_type": "code",
   "execution_count": 38,
   "metadata": {},
   "outputs": [
    {
     "data": {
      "image/png": "[encoded data removed]",
      "text/plain": [
       "<Figure size 1080x1080 with 6 Axes>"
      ]
     },
     "metadata": {
      "needs_background": "light"
     },
     "output_type": "display_data"
    }
   ],
   "source": [
    "fig = plt.figure(figsize=(15, 15))\n",
    "\n",
    "rows = 3\n",
    "for i, img in enumerate(final_good_imgs, start=1):\n",
    "    fig.add_subplot(rows, np.ceil(len(final_good_imgs)/rows), i)\n",
    "    plt.imshow(img)\n",
    "plt.show()"
   ]
  },
  {
   "cell_type": "code",
   "execution_count": 68,
   "metadata": {},
   "outputs": [
    {
     "data": {
      "image/png": "[encoded data removed]",
      "text/plain": [
       "<Figure size 1080x1080 with 7 Axes>"
      ]
     },
     "metadata": {
      "needs_background": "light"
     },
     "output_type": "display_data"
    }
   ],
   "source": [
    "fig = plt.figure(figsize=(15, 15))\n",
    "\n",
    "rows = 3\n",
    "for i, img in enumerate(final_bad_imgs, start=1):\n",
    "    fig.add_subplot(rows, np.ceil(len(final_bad_imgs)/rows), i)\n",
    "    plt.imshow(img)\n",
    "plt.show()"
   ]
  },
  {
   "cell_type": "markdown",
   "metadata": {},
   "source": [
    "Ok, obviously, async nature of Gym is confusing the training. Let's leave it for now and check other aspects of our training process."
   ]
  },
  {
   "cell_type": "markdown",
   "metadata": {},
   "source": [
    "## Overfit to subset of samples\n",
    "\n",
    "Normal approach to debug ML/DL methods is to try to overfit to some known set of samples. This allows us to inspect those samples and check values predicted by the model. It might sound trivial, but I've personally wasted several days debugging proper code, the only issue with which was lack of `loss.backward()`. \n",
    "\n",
    "Overall plan is the following:\n",
    "* reuse our class `TrajectoryTracking` to have access to trajectories,\n",
    "* play 10-20 episodes gathering data\n",
    "* take several final steps of successfull episodes (with positive reward) and several final steps from failed episodes\n",
    "* train on this data for several epoches\n",
    "* check training dynamics and values returned by the model\n",
    "* think\n",
    "\n",
    "If you feel yourself brave enough, you can try to implement this yourself without peeking into the next section."
   ]
  },
  {
   "cell_type": "code",
   "execution_count": 70,
   "metadata": {},
   "outputs": [
    {
     "name": "stderr",
     "output_type": "stream",
     "text": [
      "[2019-07-10 12:18:02,248] Making new env: wob.mini.ClickDialog-v0\n",
      "[2019-07-10 12:18:02,251] Using SoftmaxClickMouse with action_region=(10, 125, 170, 285), noclick_regions=[]\n",
      "[2019-07-10 12:18:02,252] SoftmaxClickMouse noclick regions removed 0 of 256 actions\n",
      "[2019-07-10 12:18:02,253] Using the golang VNC implementation\n",
      "[2019-07-10 12:18:02,253] Using VNCSession arguments: {'encoding': 'tight', 'compress_level': 0, 'fine_quality_level': 100, 'subsample_level': 0, 'start_timeout': 7}. (Customize by running \"env.configure(vnc_kwargs={...})\"\n",
      "[2019-07-10 12:18:02,281] [0] Connecting to environment: vnc://localhost:5900 password=openai. If desired, you can manually connect a VNC viewer, such as TurboVNC. Most environments provide a convenient in-browser VNC client: http://localhost:15900/viewer/?password=openai\n"
     ]
    },
    {
     "name": "stdout",
     "output_type": "stream",
     "text": [
      "Remotes URL: vnc://localhost:5900+15900\n"
     ]
    },
    {
     "name": "stderr",
     "output_type": "stream",
     "text": [
      "[2019-07-10 12:18:18,652] [0:localhost:5900] Sending reset for env_id=wob.mini.ClickDialog-v0 fps=60 episode_id=0\n",
      "[2019-07-10 12:18:18,855] [0:localhost:5900] Initial reset complete: episode_id=484\n"
     ]
    }
   ],
   "source": [
    "def wrapper_func(env):\n",
    "    env = MiniWoBCropper(env)\n",
    "    env = SoftmaxClickMouse(env)\n",
    "    env = TrajectoryTracking(env, size=10)\n",
    "    return env\n",
    "\n",
    "env = make_env(wrapper_func = wrapper_func, fps=5)\n",
    "join_env(env);"
   ]
  },
  {
   "cell_type": "code",
   "execution_count": 71,
   "metadata": {},
   "outputs": [],
   "source": [
    "net = Model(env.observation_space.shape, env.action_space.n).to(DEVICE)\n",
    "\n",
    "parent_selector = ptan.actions.ArgmaxActionSelector()\n",
    "action_selector = ptan.actions.EpsilonGreedyActionSelector(epsilon=1, selector=parent_selector) \n",
    "agent = ptan.agent.DQNAgent(net, action_selector, device=DEVICE)\n",
    "exp_source = ptan.experience.ExperienceSourceFirstLast(env, agent, gamma=GAMMA, vectorized=True)\n",
    "\n",
    "buffer = ptan.experience.ExperienceReplayBuffer(exp_source, REPLAY_SIZE)"
   ]
  },
  {
   "cell_type": "code",
   "execution_count": 72,
   "metadata": {},
   "outputs": [
    {
     "name": "stderr",
     "output_type": "stream",
     "text": [
      "[2019-07-10 12:18:19,038] [0:localhost:5900] Sending reset for env_id=wob.mini.ClickDialog-v0 fps=60 episode_id=0\n"
     ]
    },
    {
     "name": "stdout",
     "output_type": "stream",
     "text": [
      "Episode done with 29 steps and -1.000 reward\n",
      "Episode done with 6 steps and 0.939 reward\n",
      "Episode done with 52 steps and -1.000 reward\n",
      "Episode done with 19 steps and 0.682 reward\n"
     ]
    }
   ],
   "source": [
    "# wait for given amount of trajectories of both kind\n",
    "COUNT_REQUIRED = 2\n",
    "positive_traj = []\n",
    "negative_traj = []\n",
    "\n",
    "while len(positive_traj) < COUNT_REQUIRED or len(negative_traj) < COUNT_REQUIRED:\n",
    "    buffer.populate(1)\n",
    "    for rw, st in exp_source.pop_rewards_steps():\n",
    "        print(\"Episode done with %d steps and %.3f reward\" % (st, rw))\n",
    "        if rw > 0.2  and len(positive_traj) <= COUNT_REQUIRED:\n",
    "            positive_traj.append(env.trajectories[-1])\n",
    "        elif rw < -0.2 and len(negative_traj) <= COUNT_REQUIRED:\n",
    "            negative_traj.append(env.trajectories[-1])"
   ]
  },
  {
   "cell_type": "markdown",
   "metadata": {},
   "source": [
    "It might take some time before you get two episodes with positive reward.\n",
    "\n",
    "Btw, sparcity of good examples might be the reason of bad convergence. Possible way dealing with that could be increase of `fps` option on Env creation, just to have more clicks done."
   ]
  },
  {
   "cell_type": "code",
   "execution_count": 73,
   "metadata": {},
   "outputs": [
    {
     "name": "stdout",
     "output_type": "stream",
     "text": [
      "83 0.0\n",
      "12 0.0\n",
      "243 0.0\n",
      "102 0.0\n",
      "150 0.0\n",
      "140 0.9392\n"
     ]
    }
   ],
   "source": [
    "for s in positive_traj[0]:\n",
    "    print(s[1], s[2])"
   ]
  },
  {
   "cell_type": "code",
   "execution_count": 80,
   "metadata": {},
   "outputs": [
    {
     "data": {
      "text/plain": [
       "2"
      ]
     },
     "execution_count": 80,
     "metadata": {},
     "output_type": "execute_result"
    }
   ],
   "source": [
    "training_positive = []\n",
    "\n",
    "# find this sample in our replay buffer\n",
    "for traj in positive_traj:\n",
    "    for sample in buffer:\n",
    "        # note that we're taking the observation from the previous step in trajectory, but action from the last\n",
    "        if (sample.state == traj[-2][0]).all() and sample.action == traj[-1][1] and sample.last_state is None:\n",
    "            training_positive.append(sample)\n",
    "len(training_positive)"
   ]
  },
  {
   "cell_type": "code",
   "execution_count": 89,
   "metadata": {},
   "outputs": [
    {
     "data": {
      "text/plain": [
       "2"
      ]
     },
     "execution_count": 89,
     "metadata": {},
     "output_type": "execute_result"
    }
   ],
   "source": [
    "training_negative = []\n",
    "\n",
    "for traj in negative_traj:\n",
    "    for sample in buffer:\n",
    "        if (sample.state == traj[-2][0]).all() and sample.action == traj[-1][1] and sample.last_state is None:\n",
    "            training_negative.append(sample)\n",
    "len(training_negative)            "
   ]
  },
  {
   "cell_type": "code",
   "execution_count": 90,
   "metadata": {},
   "outputs": [],
   "source": [
    "batch = list(training_positive)\n",
    "batch.extend(training_negative)"
   ]
  },
  {
   "cell_type": "code",
   "execution_count": 91,
   "metadata": {},
   "outputs": [],
   "source": [
    "optimizer = optim.Adam(net.parameters(), LR)"
   ]
  },
  {
   "cell_type": "code",
   "execution_count": 92,
   "metadata": {},
   "outputs": [],
   "source": [
    "# training the net\n",
    "losses = []\n",
    "q_vals = []\n",
    "\n",
    "for _ in range(100):\n",
    "    state_v, actions_v, ref_q_v = unpack_batch(batch, net, gamma=GAMMA, device=DEVICE)\n",
    "    optimizer.zero_grad()\n",
    "    q_v = net(state_v)\n",
    "    q_v = q_v.gather(1, actions_v.unsqueeze(-1)).squeeze(-1)\n",
    "    loss_v = F.mse_loss(q_v, ref_q_v)\n",
    "    loss_v.backward()\n",
    "    optimizer.step()\n",
    "    losses.append(loss_v.item())\n",
    "    q_vals.append(q_v.cpu().detach().numpy())"
   ]
  },
  {
   "cell_type": "code",
   "execution_count": 93,
   "metadata": {},
   "outputs": [
    {
     "data": {
      "text/plain": [
       "[0.7834987044334412,\n",
       " 1.647904634475708,\n",
       " 0.04806411266326904,\n",
       " 0.37036460638046265,\n",
       " 0.38759011030197144,\n",
       " 0.3136329650878906,\n",
       " 0.18880242109298706,\n",
       " 0.052275124937295914,\n",
       " 0.0156096201390028,\n",
       " 0.11605502665042877]"
      ]
     },
     "execution_count": 93,
     "metadata": {},
     "output_type": "execute_result"
    }
   ],
   "source": [
    "losses[:10]"
   ]
  },
  {
   "cell_type": "code",
   "execution_count": 94,
   "metadata": {},
   "outputs": [
    {
     "data": {
      "image/png": "[encoded data removed]",
      "text/plain": [
       "<Figure size 432x288 with 1 Axes>"
      ]
     },
     "metadata": {
      "needs_background": "light"
     },
     "output_type": "display_data"
    }
   ],
   "source": [
    "plt.plot(losses);"
   ]
  },
  {
   "cell_type": "code",
   "execution_count": 95,
   "metadata": {},
   "outputs": [
    {
     "data": {
      "text/plain": [
       "tensor([ 0.9392,  0.6817, -1.0000, -1.0000], device='cuda:0')"
      ]
     },
     "execution_count": 95,
     "metadata": {},
     "output_type": "execute_result"
    }
   ],
   "source": [
    "ref_q_v"
   ]
  },
  {
   "cell_type": "code",
   "execution_count": 96,
   "metadata": {},
   "outputs": [
    {
     "data": {
      "image/png": "[encoded data removed]",
      "text/plain": [
       "<Figure size 432x288 with 1 Axes>"
      ]
     },
     "metadata": {
      "needs_background": "light"
     },
     "output_type": "display_data"
    }
   ],
   "source": [
    "a, b, c, d = zip(*q_vals)\n",
    "plt.plot(a)\n",
    "plt.plot(b)\n",
    "plt.plot(c)\n",
    "plt.plot(d);"
   ]
  },
  {
   "cell_type": "code",
   "execution_count": 97,
   "metadata": {},
   "outputs": [
    {
     "data": {
      "text/plain": [
       "tensor([ 0.9392,  0.6817, -1.0000, -1.0000], device='cuda:0')"
      ]
     },
     "execution_count": 97,
     "metadata": {},
     "output_type": "execute_result"
    }
   ],
   "source": [
    "ref_q_v"
   ]
  },
  {
   "cell_type": "markdown",
   "metadata": {},
   "source": [
    "Looks OK"
   ]
  },
  {
   "cell_type": "markdown",
   "metadata": {},
   "source": [
    "# Fixing the weird samples\n",
    "\n",
    "Let's return to our finding of weird samples at the end of trajectories. It is obvious (from Bellman equation) that those samples are extremely important for convergence, as they form the \"basis\" of our Q-values. So, network need to converge to those end-of-episode values and then they will be used to learn more early steps (or find shorter paths to those final states).\n",
    "\n",
    "But our end-of-episodes samples are nasty -- we can click at proper place, but due to timeout get -1 reward on the next step. On the other hand, we can click properly in the beginning, but due to VNC delay, we'll get positive reward several steps later. And those steps will include completely random clicks. This situation also turns our environment into POMDP domain. Indeed, prior clicks are important for subsequent trajectory, but our agent has no idea about the clicks we've done. \n",
    "\n",
    "We can't fix asynchronous nature of things, but we can help our agent by cleaning up the mess a bit.\n",
    "\n",
    "As a very simple approach, we can wait for a some time after every action.\n",
    "\n",
    "To fix the POMDP, we just need to remember previous clicks and pass them to the agent in observation. The simplest way of doing this will be to have a separate \"color plane\" in observations with filled grids we've already clicked.\n",
    "\n",
    "Below is outline of two wrappers we need to write."
   ]
  },
  {
   "cell_type": "markdown",
   "metadata": {
    "heading_collapsed": true
   },
   "source": [
    "## Track clicks wrapper"
   ]
  },
  {
   "cell_type": "code",
   "execution_count": 35,
   "metadata": {
    "hidden": true
   },
   "outputs": [],
   "source": [
    "class MiniWoBTrackClicks(vectorized.Wrapper):\n",
    "    \"\"\"\n",
    "    Track the clicks\n",
    "    \"\"\"\n",
    "    def __init__(self, env):\n",
    "        super(MiniWoBTrackClicks, self).__init__(env)\n",
    "        s = env.observation_space.shape\n",
    "        self.clicks_buf = np.zeros(s[1:], dtype=np.uint8)\n",
    "        self.observation_space = gym.spaces.Box(low=0, high=255, shape=(s[0]+1, s[1], s[2]))\n",
    "\n",
    "    def reset(self):\n",
    "        self.clicks_buf[:] = 0\n",
    "        return self.env.reset()\n",
    "    \n",
    "    def step(self, action_n):\n",
    "        obs_n, r_n, done_n, info_n = self.env.step(action_n)\n",
    "        if obs_n[0] is None:\n",
    "            return obs_n, r_n, done_n, info_n\n",
    "\n",
    "        # track the click\n",
    "        # append the color plane to observation\n",
    "        # if episode is done, reset the click buffer\n",
    "        raise NotImplementedError\n",
    "        return obs_n, r_n, done_n, info_n"
   ]
  },
  {
   "cell_type": "markdown",
   "metadata": {
    "heading_collapsed": true
   },
   "source": [
    "## Tests"
   ]
  },
  {
   "cell_type": "code",
   "execution_count": 99,
   "metadata": {
    "hidden": true
   },
   "outputs": [
    {
     "name": "stderr",
     "output_type": "stream",
     "text": [
      "[2019-07-10 12:25:58,098] Making new env: wob.mini.ClickDialog-v0\n",
      "/home/shmuma/anaconda3/envs/miniwob/lib/python3.6/site-packages/gym/envs/registration.py:17: PkgResourcesDeprecationWarning: Parameters to load are deprecated.  Call .resolve and .require separately.\n",
      "  result = entry_point.load(False)\n",
      "[2019-07-10 12:25:58,108] Using SoftmaxClickMouse with action_region=(10, 125, 170, 285), noclick_regions=[]\n",
      "[2019-07-10 12:25:58,109] SoftmaxClickMouse noclick regions removed 0 of 256 actions\n",
      "[2019-07-10 12:25:58,111] Using the golang VNC implementation\n",
      "[2019-07-10 12:25:58,113] Using VNCSession arguments: {'encoding': 'tight', 'compress_level': 0, 'fine_quality_level': 100, 'subsample_level': 0, 'start_timeout': 7}. (Customize by running \"env.configure(vnc_kwargs={...})\"\n",
      "[2019-07-10 12:25:58,136] [0] Connecting to environment: vnc://localhost:5900 password=openai. If desired, you can manually connect a VNC viewer, such as TurboVNC. Most environments provide a convenient in-browser VNC client: http://localhost:15900/viewer/?password=openai\n"
     ]
    },
    {
     "name": "stdout",
     "output_type": "stream",
     "text": [
      "Remotes URL: vnc://localhost:5900+15900\n"
     ]
    },
    {
     "name": "stderr",
     "output_type": "stream",
     "text": [
      "[2019-07-10 12:26:14,515] [0:localhost:5900] Sending reset for env_id=wob.mini.ClickDialog-v0 fps=60 episode_id=0\n",
      "[2019-07-10 12:26:14,693] [0:localhost:5900] Initial reset complete: episode_id=533\n"
     ]
    }
   ],
   "source": [
    "def wrapper_func(env):\n",
    "    env = MiniWoBCropper(env)\n",
    "    env = SoftmaxClickMouse(env)\n",
    "    env = MiniWoBTrackClicks(env)\n",
    "    return env\n",
    "\n",
    "env = make_env(wrapper_func = wrapper_func, fps=5)\n",
    "obs_n = join_env(env);"
   ]
  },
  {
   "cell_type": "code",
   "execution_count": 100,
   "metadata": {
    "hidden": true
   },
   "outputs": [],
   "source": [
    "assert obs_n[0].shape == (4, 210, 160)"
   ]
  },
  {
   "cell_type": "code",
   "execution_count": 101,
   "metadata": {
    "hidden": true
   },
   "outputs": [
    {
     "name": "stderr",
     "output_type": "stream",
     "text": [
      "[2019-07-10 12:26:17,416] Throttle fell behind by 2.46s; lost 12.29 frames\n"
     ]
    }
   ],
   "source": [
    "# wait for fresh observation\n",
    "while True:\n",
    "    _, _, is_done_n, _ = env.step([0])\n",
    "    if is_done_n[0]:\n",
    "        break\n",
    "o0, _, _, _ = env.step([0])\n",
    "o255, _, _, _ = env.step([255])\n",
    "o15, _, _, _ = env.step([15])"
   ]
  },
  {
   "cell_type": "code",
   "execution_count": 102,
   "metadata": {
    "hidden": true
   },
   "outputs": [],
   "source": [
    "assert (o0[0][3,:,:] == 255).sum() == 100\n",
    "assert (o255[0][3,:,:] == 255).sum() == 200\n",
    "assert (o15[0][3,:,:] == 255).sum() == 300"
   ]
  },
  {
   "cell_type": "code",
   "execution_count": 103,
   "metadata": {
    "hidden": true
   },
   "outputs": [],
   "source": [
    "nz0 = o0[0][3,:,:].nonzero()\n",
    "assert (nz0[0] == [50, 50, 50, 50, 50, 50, 50, 50, 50, 50, 51, 51, 51, 51, 51, 51, 51,\n",
    "        51, 51, 51, 52, 52, 52, 52, 52, 52, 52, 52, 52, 52, 53, 53, 53, 53,\n",
    "        53, 53, 53, 53, 53, 53, 54, 54, 54, 54, 54, 54, 54, 54, 54, 54, 55,\n",
    "        55, 55, 55, 55, 55, 55, 55, 55, 55, 56, 56, 56, 56, 56, 56, 56, 56,\n",
    "        56, 56, 57, 57, 57, 57, 57, 57, 57, 57, 57, 57, 58, 58, 58, 58, 58,\n",
    "        58, 58, 58, 58, 58, 59, 59, 59, 59, 59, 59, 59, 59, 59, 59]).all()\n",
    "assert (nz0[1] == [0, 1, 2, 3, 4, 5, 6, 7, 8, 9, 0, 1, 2, 3, 4, 5, 6, 7, 8, 9, 0, 1,\n",
    "       2, 3, 4, 5, 6, 7, 8, 9, 0, 1, 2, 3, 4, 5, 6, 7, 8, 9, 0, 1, 2, 3,\n",
    "       4, 5, 6, 7, 8, 9, 0, 1, 2, 3, 4, 5, 6, 7, 8, 9, 0, 1, 2, 3, 4, 5,\n",
    "       6, 7, 8, 9, 0, 1, 2, 3, 4, 5, 6, 7, 8, 9, 0, 1, 2, 3, 4, 5, 6, 7,\n",
    "       8, 9, 0, 1, 2, 3, 4, 5, 6, 7, 8, 9]).all()"
   ]
  },
  {
   "cell_type": "code",
   "execution_count": 104,
   "metadata": {
    "hidden": true
   },
   "outputs": [],
   "source": [
    "assert (o15[0][3,200:210,0:10] == 255).all()"
   ]
  },
  {
   "cell_type": "markdown",
   "metadata": {
    "heading_collapsed": true
   },
   "source": [
    "## Solution"
   ]
  },
  {
   "cell_type": "code",
   "execution_count": 98,
   "metadata": {
    "hidden": true
   },
   "outputs": [],
   "source": [
    "class MiniWoBTrackClicks(vectorized.Wrapper):\n",
    "    \"\"\"\n",
    "    Track the clicks\n",
    "    \"\"\"\n",
    "    def __init__(self, env):\n",
    "        super(MiniWoBTrackClicks, self).__init__(env)\n",
    "        s = env.observation_space.shape\n",
    "        self.clicks_buf = np.zeros(s[1:], dtype=np.uint8)\n",
    "        self.observation_space = gym.spaces.Box(low=0, high=255, shape=(s[0]+1, s[1], s[2]))\n",
    "\n",
    "    def reset(self):\n",
    "        self.clicks_buf[:] = 0\n",
    "        return self.env.reset()\n",
    "    \n",
    "    def step(self, action_n):\n",
    "        # TODO: implement me properly for N environments :)\n",
    "        obs_n, r_n, done_n, info_n = self.env.step(action_n)\n",
    "        if obs_n[0] is None:\n",
    "            return obs_n, r_n, done_n, info_n\n",
    "\n",
    "        # track the click\n",
    "        x = action_n[0] // 16\n",
    "        y = action_n[0] % 16 + 5    # +5 is needed to offset click region down 50 pixels\n",
    "        self.clicks_buf[y*10:(y+1)*10, x*10:(x+1)*10] = 255\n",
    "        \n",
    "        obs_n[0] = np.vstack((obs_n[0], [self.clicks_buf]))\n",
    "        if done_n[0]:\n",
    "            self.clicks_buf[:] = 0\n",
    "        return obs_n, r_n, done_n, info_n"
   ]
  },
  {
   "cell_type": "markdown",
   "metadata": {
    "heading_collapsed": true
   },
   "source": [
    "## Click and wait obs transformation"
   ]
  },
  {
   "cell_type": "code",
   "execution_count": 105,
   "metadata": {
    "hidden": true
   },
   "outputs": [],
   "source": [
    "class MiniWoBSlowpoke(vectorized.Wrapper):\n",
    "    \"\"\"\n",
    "    Sleeps after every click\n",
    "    \"\"\"\n",
    "    def __init__(self, env, click_delay: float = 0.5):\n",
    "        super(MiniWoBSlowpoke, self).__init__(env)\n",
    "        self.click_delay = click_delay\n",
    "        self.click_ts = None\n",
    "\n",
    "    def reset(self):\n",
    "        self.click_ts = None\n",
    "        return self.env.reset()\n",
    "    \n",
    "    def step(self, action_n):\n",
    "        # wait if the time budget is positive using time.sleep() function\n",
    "        # do the step\n",
    "        # track the click time (do not forget about the case when done_n[0] == True)\n",
    "        raise NotImplementedError"
   ]
  },
  {
   "cell_type": "markdown",
   "metadata": {
    "heading_collapsed": true
   },
   "source": [
    "## Tests"
   ]
  },
  {
   "cell_type": "code",
   "execution_count": 121,
   "metadata": {
    "hidden": true
   },
   "outputs": [
    {
     "name": "stderr",
     "output_type": "stream",
     "text": [
      "[2019-07-10 12:43:20,847] Making new env: wob.mini.ClickDialog-v0\n",
      "[2019-07-10 12:43:20,849] Using SoftmaxClickMouse with action_region=(10, 125, 170, 285), noclick_regions=[]\n",
      "[2019-07-10 12:43:20,850] SoftmaxClickMouse noclick regions removed 0 of 256 actions\n",
      "[2019-07-10 12:43:20,851] Using the golang VNC implementation\n",
      "[2019-07-10 12:43:20,851] Using VNCSession arguments: {'encoding': 'tight', 'compress_level': 0, 'fine_quality_level': 100, 'subsample_level': 0, 'start_timeout': 7}. (Customize by running \"env.configure(vnc_kwargs={...})\"\n",
      "[2019-07-10 12:43:20,879] [0] Connecting to environment: vnc://localhost:5900 password=openai. If desired, you can manually connect a VNC viewer, such as TurboVNC. Most environments provide a convenient in-browser VNC client: http://localhost:15900/viewer/?password=openai\n"
     ]
    },
    {
     "name": "stdout",
     "output_type": "stream",
     "text": [
      "Remotes URL: vnc://localhost:5900+15900\n"
     ]
    },
    {
     "name": "stderr",
     "output_type": "stream",
     "text": [
      "[2019-07-10 12:43:37,260] [0:localhost:5900] Sending reset for env_id=wob.mini.ClickDialog-v0 fps=60 episode_id=0\n",
      "[2019-07-10 12:43:37,422] [0:localhost:5900] Initial reset complete: episode_id=636\n"
     ]
    }
   ],
   "source": [
    "def wrapper_func(env):\n",
    "    env = MiniWoBCropper(env)\n",
    "    env = SoftmaxClickMouse(env)\n",
    "    env = MiniWoBSlowpoke(env, click_delay=1)\n",
    "    return env\n",
    "\n",
    "env = make_env(wrapper_func = wrapper_func, fps=5)\n",
    "join_env(env);"
   ]
  },
  {
   "cell_type": "code",
   "execution_count": 122,
   "metadata": {
    "hidden": true
   },
   "outputs": [
    {
     "name": "stderr",
     "output_type": "stream",
     "text": [
      "[2019-07-10 12:43:47,175] Throttle fell behind by 9.47s; lost 47.36 frames\n"
     ]
    },
    {
     "name": "stdout",
     "output_type": "stream",
     "text": [
      "Episode done, 5 left\n",
      "Episode done, 4 left\n",
      "Episode done, 3 left\n",
      "Episode done, 2 left\n",
      "Episode done, 1 left\n",
      "Episode done, 0 left\n"
     ]
    }
   ],
   "source": [
    "# FPS=5 should give us 10 frames in wrapped environment and 50 in unwrapped for each episode\n",
    "frames = 0\n",
    "episodes = 6\n",
    "while episodes > 0:\n",
    "    # clicking in top-left corner, we should get no reward from this action\n",
    "    # it should be fine to sleep a bit\n",
    "    time.sleep(0.4)\n",
    "    _, _, is_done_n, _ = env.step([0])\n",
    "    # do not take into account first episode, it will be partial\n",
    "    if episodes < 6:\n",
    "        frames += 1\n",
    "    if is_done_n[0]:\n",
    "        episodes -= 1\n",
    "        print(\"Episode done, %d left\" % episodes)"
   ]
  },
  {
   "cell_type": "code",
   "execution_count": null,
   "metadata": {
    "hidden": true
   },
   "outputs": [],
   "source": [
    "assert 8 < frames/5 < 13"
   ]
  },
  {
   "cell_type": "markdown",
   "metadata": {},
   "source": [
    "## Solution"
   ]
  },
  {
   "cell_type": "code",
   "execution_count": 114,
   "metadata": {},
   "outputs": [],
   "source": [
    "class MiniWoBSlowpoke(vectorized.Wrapper):\n",
    "    \"\"\"\n",
    "    Limits the amount of time we can click.\n",
    "    \"\"\"\n",
    "    def __init__(self, env, click_delay: float = 1):\n",
    "        super(MiniWoBSlowpoke, self).__init__(env)\n",
    "        self.click_delay = click_delay\n",
    "        self.click_ts = None\n",
    "\n",
    "    def reset(self):\n",
    "        self.click_ts = None\n",
    "        return self.env.reset()\n",
    "    \n",
    "    def step(self, action_n):\n",
    "        # TODO: implement me properly for N environments :)\n",
    "        if self.click_ts is not None:\n",
    "            dt = self.click_delay - (time.time() - self.click_ts)\n",
    "            if dt > 0:\n",
    "                time.sleep(dt)\n",
    "        obs_n, r_n, done_n, info_n = self.env.step(action_n)\n",
    "        if done_n[0]:\n",
    "            self.click_ts = None\n",
    "        else:\n",
    "            self.click_ts = time.time()\n",
    "        return obs_n, r_n, done_n, info_n"
   ]
  },
  {
   "cell_type": "markdown",
   "metadata": {},
   "source": [
    "# Checking the effect"
   ]
  },
  {
   "cell_type": "code",
   "execution_count": 135,
   "metadata": {},
   "outputs": [],
   "source": [
    "GAMMA = 0.9\n",
    "REPLAY_SIZE = 10000\n",
    "MIN_REPLAY = 100\n",
    "TGT_SYNC = 100\n",
    "BATCH_SIZE = 16\n",
    "LR = 1e-4\n",
    "DEVICE = \"cuda\"  \n",
    "#DEVICE = \"cpu\"\n",
    "\n",
    "INITIAL_EPSILON = 1.0\n",
    "FINAL_EPSILON = 0.2\n",
    "STEPS_EPSILON = 1000\n",
    "LIMIT_STEPS = 1500"
   ]
  },
  {
   "cell_type": "code",
   "execution_count": 136,
   "metadata": {},
   "outputs": [
    {
     "name": "stderr",
     "output_type": "stream",
     "text": [
      "[2019-07-10 13:08:49,735] Making new env: wob.mini.ClickDialog-v0\n",
      "[2019-07-10 13:08:49,740] Using SoftmaxClickMouse with action_region=(10, 125, 170, 285), noclick_regions=[]\n",
      "[2019-07-10 13:08:49,741] SoftmaxClickMouse noclick regions removed 0 of 256 actions\n",
      "[2019-07-10 13:08:49,743] Using the golang VNC implementation\n",
      "[2019-07-10 13:08:49,744] Using VNCSession arguments: {'encoding': 'tight', 'compress_level': 0, 'fine_quality_level': 100, 'subsample_level': 0, 'start_timeout': 7}. (Customize by running \"env.configure(vnc_kwargs={...})\"\n",
      "[2019-07-10 13:08:49,768] [0] Connecting to environment: vnc://localhost:5900 password=openai. If desired, you can manually connect a VNC viewer, such as TurboVNC. Most environments provide a convenient in-browser VNC client: http://localhost:15900/viewer/?password=openai\n"
     ]
    },
    {
     "name": "stdout",
     "output_type": "stream",
     "text": [
      "Remotes URL: vnc://localhost:5900+15900\n"
     ]
    },
    {
     "name": "stderr",
     "output_type": "stream",
     "text": [
      "[2019-07-10 13:09:06,171] [0:localhost:5900] Sending reset for env_id=wob.mini.ClickDialog-v0 fps=60 episode_id=0\n",
      "[2019-07-10 13:09:06,193] [0:localhost:5900] Initial reset complete: episode_id=810\n"
     ]
    }
   ],
   "source": [
    "def wrapper_func(env):\n",
    "    env = MiniWoBCropper(env)\n",
    "    env = SoftmaxClickMouse(env)\n",
    "    env = MiniWoBTrackClicks(env)\n",
    "    env = MiniWoBSlowpoke(env, click_delay=0.5)\n",
    "    return env\n",
    "\n",
    "env = make_env(wrapper_func = wrapper_func, fps=5)\n",
    "obs_n = join_env(env);"
   ]
  },
  {
   "cell_type": "code",
   "execution_count": 137,
   "metadata": {},
   "outputs": [],
   "source": [
    "net = Model(env.observation_space.shape, env.action_space.n).to(DEVICE)\n",
    "tgt_net = ptan.agent.TargetNet(net)\n",
    "\n",
    "parent_selector = ptan.actions.ArgmaxActionSelector()\n",
    "action_selector = ptan.actions.EpsilonGreedyActionSelector(epsilon=INITIAL_EPSILON, selector=parent_selector) \n",
    "agent = ptan.agent.DQNAgent(net, action_selector, device=DEVICE)\n",
    "exp_source = ptan.experience.ExperienceSourceFirstLast(env, agent, gamma=GAMMA, vectorized=True)\n",
    "\n",
    "buffer = ptan.experience.ExperienceReplayBuffer(exp_source, REPLAY_SIZE)\n",
    "optimizer = optim.Adam(net.parameters(), LR)"
   ]
  },
  {
   "cell_type": "code",
   "execution_count": 138,
   "metadata": {},
   "outputs": [
    {
     "name": "stderr",
     "output_type": "stream",
     "text": [
      "[2019-07-10 13:09:06,624] [0:localhost:5900] Sending reset for env_id=wob.mini.ClickDialog-v0 fps=60 episode_id=0\n"
     ]
    },
    {
     "name": "stdout",
     "output_type": "stream",
     "text": [
      "9: Done 1 episodes, last 10 means: reward=0.329, steps=9.000, speed=1.66 steps/s, eps=1.00\n",
      "29: Done 2 episodes, last 10 means: reward=-0.336, steps=15.000, speed=1.96 steps/s, eps=1.00\n",
      "50: Done 3 episodes, last 10 means: reward=-0.557, steps=17.333, speed=1.96 steps/s, eps=1.00\n",
      "71: Done 4 episodes, last 10 means: reward=-0.668, steps=18.500, speed=1.96 steps/s, eps=1.00\n",
      "91: Done 5 episodes, last 10 means: reward=-0.734, steps=19.000, speed=1.96 steps/s, eps=1.00\n",
      "100: nets synced, mean loss for last 10 steps = 0.070\n",
      "112: Done 6 episodes, last 10 means: reward=-0.779, steps=19.500, speed=1.92 steps/s, eps=0.99\n",
      "132: Done 7 episodes, last 10 means: reward=-0.810, steps=19.714, speed=1.91 steps/s, eps=0.97\n",
      "140: Done 8 episodes, last 10 means: reward=-0.633, steps=18.375, speed=1.81 steps/s, eps=0.96\n",
      "160: Done 9 episodes, last 10 means: reward=-0.674, steps=18.667, speed=1.92 steps/s, eps=0.94\n",
      "180: Done 10 episodes, last 10 means: reward=-0.706, steps=18.900, speed=1.92 steps/s, eps=0.92\n",
      "200: Done 11 episodes, last 10 means: reward=-0.839, steps=20.100, speed=1.92 steps/s, eps=0.90\n",
      "200: nets synced, mean loss for last 10 steps = 0.019\n",
      "220: Done 12 episodes, last 10 means: reward=-0.839, steps=20.100, speed=1.92 steps/s, eps=0.88\n",
      "236: Done 13 episodes, last 10 means: reward=-0.715, steps=19.600, speed=1.90 steps/s, eps=0.86\n",
      "253: Done 14 episodes, last 10 means: reward=-0.599, steps=19.200, speed=1.91 steps/s, eps=0.85\n",
      "273: Done 15 episodes, last 10 means: reward=-0.599, steps=19.200, speed=1.92 steps/s, eps=0.83\n",
      "293: Done 16 episodes, last 10 means: reward=-0.599, steps=19.100, speed=1.92 steps/s, eps=0.81\n",
      "300: nets synced, mean loss for last 10 steps = 0.039\n",
      "313: Done 17 episodes, last 10 means: reward=-0.599, steps=19.100, speed=1.92 steps/s, eps=0.79\n",
      "333: Done 18 episodes, last 10 means: reward=-0.760, steps=20.300, speed=1.92 steps/s, eps=0.77\n",
      "336: Done 19 episodes, last 10 means: reward=-0.571, steps=18.600, speed=1.56 steps/s, eps=0.77\n",
      "356: Done 20 episodes, last 10 means: reward=-0.571, steps=18.600, speed=1.92 steps/s, eps=0.74\n",
      "368: Done 21 episodes, last 10 means: reward=-0.429, steps=17.800, speed=1.87 steps/s, eps=0.73\n",
      "388: Done 22 episodes, last 10 means: reward=-0.429, steps=17.800, speed=1.92 steps/s, eps=0.71\n",
      "400: nets synced, mean loss for last 10 steps = 0.046\n",
      "408: Done 23 episodes, last 10 means: reward=-0.553, steps=18.200, speed=1.92 steps/s, eps=0.69\n",
      "428: Done 24 episodes, last 10 means: reward=-0.669, steps=18.500, speed=1.92 steps/s, eps=0.67\n",
      "432: Done 25 episodes, last 10 means: reward=-0.485, steps=16.900, speed=1.66 steps/s, eps=0.67\n",
      "452: Done 26 episodes, last 10 means: reward=-0.485, steps=16.900, speed=1.92 steps/s, eps=0.65\n",
      "467: Done 27 episodes, last 10 means: reward=-0.358, steps=16.400, speed=1.89 steps/s, eps=0.63\n",
      "471: Done 28 episodes, last 10 means: reward=-0.177, steps=14.800, speed=1.66 steps/s, eps=0.63\n",
      "491: Done 29 episodes, last 10 means: reward=-0.367, steps=16.500, speed=1.92 steps/s, eps=0.61\n",
      "500: nets synced, mean loss for last 10 steps = 0.017\n",
      "511: Done 30 episodes, last 10 means: reward=-0.367, steps=16.500, speed=1.92 steps/s, eps=0.59\n",
      "531: Done 31 episodes, last 10 means: reward=-0.509, steps=17.300, speed=1.92 steps/s, eps=0.57\n",
      "545: Done 32 episodes, last 10 means: reward=-0.375, steps=16.700, speed=1.89 steps/s, eps=0.56\n",
      "565: Done 33 episodes, last 10 means: reward=-0.375, steps=16.700, speed=1.92 steps/s, eps=0.54\n",
      "585: Done 34 episodes, last 10 means: reward=-0.375, steps=16.700, speed=1.92 steps/s, eps=0.52\n",
      "600: nets synced, mean loss for last 10 steps = 0.087\n",
      "602: Done 35 episodes, last 10 means: reward=-0.441, steps=18.000, speed=1.91 steps/s, eps=0.50\n",
      "622: Done 36 episodes, last 10 means: reward=-0.441, steps=18.000, speed=1.92 steps/s, eps=0.48\n",
      "642: Done 37 episodes, last 10 means: reward=-0.568, steps=18.500, speed=1.92 steps/s, eps=0.46\n",
      "662: Done 38 episodes, last 10 means: reward=-0.749, steps=20.100, speed=1.92 steps/s, eps=0.44\n",
      "684: Done 39 episodes, last 10 means: reward=-0.650, steps=20.300, speed=1.93 steps/s, eps=0.42\n",
      "700: nets synced, mean loss for last 10 steps = 0.041\n",
      "701: best reward updated: None -> -0.650, weights saved\n",
      "704: Done 40 episodes, last 10 means: reward=-0.650, steps=20.300, speed=1.92 steps/s, eps=0.40\n",
      "724: Done 41 episodes, last 10 means: reward=-0.650, steps=20.300, speed=1.92 steps/s, eps=0.38\n",
      "744: Done 42 episodes, last 10 means: reward=-0.784, steps=20.900, speed=1.92 steps/s, eps=0.36\n",
      "764: Done 43 episodes, last 10 means: reward=-0.784, steps=20.900, speed=1.92 steps/s, eps=0.34\n",
      "770: Done 44 episodes, last 10 means: reward=-0.609, steps=19.500, speed=2.06 steps/s, eps=0.33\n",
      "770: best reward updated: -0.64982 -> -0.609, weights saved\n",
      "771: Done 45 episodes, last 10 means: reward=-0.531, steps=17.900, speed=0.83 steps/s, eps=0.33\n",
      "771: best reward updated: -0.60906 -> -0.531, weights saved\n",
      "776: Done 46 episodes, last 10 means: reward=-0.353, steps=16.400, speed=1.72 steps/s, eps=0.32\n",
      "776: best reward updated: -0.53068 -> -0.353, weights saved\n",
      "796: Done 47 episodes, last 10 means: reward=-0.353, steps=16.400, speed=1.92 steps/s, eps=0.31\n",
      "800: nets synced, mean loss for last 10 steps = 0.157\n",
      "816: Done 48 episodes, last 10 means: reward=-0.353, steps=16.400, speed=1.92 steps/s, eps=0.29\n",
      "836: Done 49 episodes, last 10 means: reward=-0.451, steps=16.200, speed=1.92 steps/s, eps=0.27\n",
      "857: Done 50 episodes, last 10 means: reward=-0.451, steps=16.300, speed=1.92 steps/s, eps=0.24\n",
      "876: Done 51 episodes, last 10 means: reward=-0.451, steps=16.200, speed=1.92 steps/s, eps=0.22\n",
      "897: Done 52 episodes, last 10 means: reward=-0.451, steps=16.300, speed=1.92 steps/s, eps=0.20\n",
      "900: nets synced, mean loss for last 10 steps = 0.045\n",
      "909: Done 53 episodes, last 10 means: reward=-0.310, steps=15.500, speed=1.87 steps/s, eps=0.20\n",
      "909: best reward updated: -0.35266000000000003 -> -0.310, weights saved\n",
      "929: Done 54 episodes, last 10 means: reward=-0.485, steps=16.900, speed=1.92 steps/s, eps=0.20\n",
      "943: Done 55 episodes, last 10 means: reward=-0.549, steps=18.200, speed=1.89 steps/s, eps=0.20\n",
      "963: Done 56 episodes, last 10 means: reward=-0.727, steps=19.700, speed=1.92 steps/s, eps=0.20\n",
      "983: Done 57 episodes, last 10 means: reward=-0.727, steps=19.700, speed=1.92 steps/s, eps=0.20\n",
      "1000: nets synced, mean loss for last 10 steps = 0.140\n",
      "1003: Done 58 episodes, last 10 means: reward=-0.727, steps=19.700, speed=1.92 steps/s, eps=0.20\n",
      "1023: Done 59 episodes, last 10 means: reward=-0.727, steps=19.700, speed=1.92 steps/s, eps=0.20\n",
      "1043: Done 60 episodes, last 10 means: reward=-0.727, steps=19.600, speed=1.92 steps/s, eps=0.20\n",
      "1046: Done 61 episodes, last 10 means: reward=-0.536, steps=18.000, speed=1.57 steps/s, eps=0.20\n",
      "1066: Done 62 episodes, last 10 means: reward=-0.536, steps=17.900, speed=1.92 steps/s, eps=0.20\n",
      "1086: Done 63 episodes, last 10 means: reward=-0.678, steps=18.700, speed=1.92 steps/s, eps=0.20\n",
      "1100: Done 64 episodes, last 10 means: reward=-0.545, steps=18.100, speed=1.89 steps/s, eps=0.20\n",
      "1100: nets synced, mean loss for last 10 steps = 0.105\n",
      "1120: Done 65 episodes, last 10 means: reward=-0.677, steps=18.700, speed=1.92 steps/s, eps=0.20\n",
      "1140: Done 66 episodes, last 10 means: reward=-0.677, steps=18.700, speed=1.92 steps/s, eps=0.20\n",
      "1160: Done 67 episodes, last 10 means: reward=-0.677, steps=18.700, speed=1.92 steps/s, eps=0.20\n",
      "1180: Done 68 episodes, last 10 means: reward=-0.677, steps=18.700, speed=1.92 steps/s, eps=0.20\n",
      "1200: Done 69 episodes, last 10 means: reward=-0.677, steps=18.700, speed=1.92 steps/s, eps=0.20\n",
      "1200: nets synced, mean loss for last 10 steps = 0.259\n",
      "1221: Done 70 episodes, last 10 means: reward=-0.677, steps=18.800, speed=1.92 steps/s, eps=0.20\n",
      "1241: Done 71 episodes, last 10 means: reward=-0.867, steps=20.500, speed=1.92 steps/s, eps=0.20\n",
      "1261: Done 72 episodes, last 10 means: reward=-0.867, steps=20.500, speed=1.92 steps/s, eps=0.20\n",
      "1281: Done 73 episodes, last 10 means: reward=-0.867, steps=20.500, speed=1.92 steps/s, eps=0.20\n",
      "1300: nets synced, mean loss for last 10 steps = 0.338\n",
      "1301: Done 74 episodes, last 10 means: reward=-1.000, steps=21.100, speed=1.92 steps/s, eps=0.20\n",
      "1322: Done 75 episodes, last 10 means: reward=-1.000, steps=21.200, speed=1.92 steps/s, eps=0.20\n"
     ]
    },
    {
     "name": "stdout",
     "output_type": "stream",
     "text": [
      "1342: Done 76 episodes, last 10 means: reward=-1.000, steps=21.200, speed=1.92 steps/s, eps=0.20\n",
      "1345: Done 77 episodes, last 10 means: reward=-0.814, steps=19.500, speed=1.58 steps/s, eps=0.20\n",
      "1365: Done 78 episodes, last 10 means: reward=-0.814, steps=19.500, speed=1.92 steps/s, eps=0.20\n",
      "1385: Done 79 episodes, last 10 means: reward=-0.814, steps=19.500, speed=1.92 steps/s, eps=0.20\n",
      "1400: nets synced, mean loss for last 10 steps = 0.199\n",
      "1405: Done 80 episodes, last 10 means: reward=-0.814, steps=19.400, speed=1.92 steps/s, eps=0.20\n",
      "1426: Done 81 episodes, last 10 means: reward=-0.814, steps=19.500, speed=1.92 steps/s, eps=0.20\n",
      "1445: Done 82 episodes, last 10 means: reward=-0.814, steps=19.400, speed=1.91 steps/s, eps=0.20\n",
      "1466: Done 83 episodes, last 10 means: reward=-0.814, steps=19.500, speed=1.92 steps/s, eps=0.20\n",
      "1486: Done 84 episodes, last 10 means: reward=-0.814, steps=19.500, speed=1.92 steps/s, eps=0.20\n",
      "1500: nets synced, mean loss for last 10 steps = 0.581\n"
     ]
    }
   ],
   "source": [
    "best_weights = None\n",
    "best_mean10_reward = None\n",
    "episode_rewards = []\n",
    "episode_steps = []\n",
    "losses = []\n",
    "steps = 0\n",
    "last_ts = time.time()\n",
    "last_steps = 0\n",
    "\n",
    "while steps < LIMIT_STEPS:\n",
    "    steps += 1\n",
    "    buffer.populate(1)\n",
    "    r = exp_source.pop_rewards_steps()\n",
    "    if r:\n",
    "        for rw, st in r:\n",
    "            episode_rewards.append(rw)\n",
    "            episode_steps.append(st)\n",
    "        speed = (steps - last_steps) / (time.time() - last_ts)\n",
    "        print(\"%d: Done %d episodes, last 10 means: reward=%.3f, steps=%.3f, speed=%.2f steps/s, eps=%.2f\" % (\n",
    "            steps, len(episode_rewards), np.mean(episode_rewards[-10:]), \n",
    "            np.mean(episode_steps[-10:]), speed, action_selector.epsilon\n",
    "        ))\n",
    "        last_ts = time.time()\n",
    "        last_steps = steps\n",
    "        if np.mean(episode_rewards[-10:]) > 0.9:\n",
    "            print(\"You solved the env! Congrats!\")\n",
    "            break\n",
    "    if len(buffer) < MIN_REPLAY:\n",
    "        continue\n",
    "    batch = buffer.sample(BATCH_SIZE)\n",
    "    state_v, actions_v, ref_q_v = unpack_batch(batch, tgt_net.target_model, gamma=GAMMA, device=DEVICE)\n",
    "    optimizer.zero_grad()\n",
    "    q_v = net(state_v)\n",
    "    q_v = q_v.gather(1, actions_v.unsqueeze(-1)).squeeze(-1)\n",
    "    loss_v = F.mse_loss(q_v, ref_q_v)\n",
    "    loss_v.backward()\n",
    "    optimizer.step()\n",
    "    losses.append(loss_v.item())\n",
    "    \n",
    "    if steps % TGT_SYNC == 0:\n",
    "        print(\"%d: nets synced, mean loss for last 10 steps = %.3f\" % (\n",
    "            steps, np.mean(losses[-10:])))\n",
    "        tgt_net.sync()\n",
    "    action_selector.epsilon = max(FINAL_EPSILON, INITIAL_EPSILON - (steps-MIN_REPLAY) / STEPS_EPSILON)\n",
    "    \n",
    "    if action_selector.epsilon < 0.4:\n",
    "        m10_reward = np.mean(episode_rewards[-10:])\n",
    "        if best_mean10_reward is None or m10_reward > best_mean10_reward:\n",
    "            print(\"%d: best reward updated: %s -> %.3f, weights saved\" % (\n",
    "                steps, best_mean10_reward, m10_reward\n",
    "            ))\n",
    "            best_mean10_reward = m10_reward\n",
    "            # deep copy is required as state_dict() is just reference to tensors which are being kept on GPU\n",
    "            best_weights = copy.deepcopy(net.state_dict())"
   ]
  },
  {
   "cell_type": "code",
   "execution_count": 139,
   "metadata": {},
   "outputs": [
    {
     "name": "stderr",
     "output_type": "stream",
     "text": [
      "[2019-07-10 13:22:31,275] [0:localhost:5900] Sending reset for env_id=wob.mini.ClickDialog-v0 fps=60 episode_id=0\n",
      "[2019-07-10 13:22:34,482] [0:localhost:5900] Sending reset for env_id=wob.mini.ClickDialog-v0 fps=60 episode_id=0\n"
     ]
    },
    {
     "name": "stdout",
     "output_type": "stream",
     "text": [
      "Episode done in 6 steps with -1.000 reward\n"
     ]
    },
    {
     "name": "stderr",
     "output_type": "stream",
     "text": [
      "[2019-07-10 13:22:45,206] [0:localhost:5900] Sending reset for env_id=wob.mini.ClickDialog-v0 fps=60 episode_id=0\n"
     ]
    },
    {
     "name": "stdout",
     "output_type": "stream",
     "text": [
      "Episode done in 21 steps with -1.000 reward\n"
     ]
    },
    {
     "name": "stderr",
     "output_type": "stream",
     "text": [
      "[2019-07-10 13:22:55,429] [0:localhost:5900] Sending reset for env_id=wob.mini.ClickDialog-v0 fps=60 episode_id=0\n"
     ]
    },
    {
     "name": "stdout",
     "output_type": "stream",
     "text": [
      "Episode done in 20 steps with -1.000 reward\n"
     ]
    },
    {
     "name": "stderr",
     "output_type": "stream",
     "text": [
      "[2019-07-10 13:23:06,153] [0:localhost:5900] Sending reset for env_id=wob.mini.ClickDialog-v0 fps=60 episode_id=0\n"
     ]
    },
    {
     "name": "stdout",
     "output_type": "stream",
     "text": [
      "Episode done in 21 steps with -1.000 reward\n"
     ]
    },
    {
     "name": "stderr",
     "output_type": "stream",
     "text": [
      "[2019-07-10 13:23:16,876] [0:localhost:5900] Sending reset for env_id=wob.mini.ClickDialog-v0 fps=60 episode_id=0\n"
     ]
    },
    {
     "name": "stdout",
     "output_type": "stream",
     "text": [
      "Episode done in 21 steps with -1.000 reward\n"
     ]
    },
    {
     "name": "stderr",
     "output_type": "stream",
     "text": [
      "[2019-07-10 13:23:27,098] [0:localhost:5900] Sending reset for env_id=wob.mini.ClickDialog-v0 fps=60 episode_id=0\n"
     ]
    },
    {
     "name": "stdout",
     "output_type": "stream",
     "text": [
      "Episode done in 20 steps with -1.000 reward\n"
     ]
    },
    {
     "name": "stderr",
     "output_type": "stream",
     "text": [
      "[2019-07-10 13:23:37,820] [0:localhost:5900] Sending reset for env_id=wob.mini.ClickDialog-v0 fps=60 episode_id=0\n"
     ]
    },
    {
     "name": "stdout",
     "output_type": "stream",
     "text": [
      "Episode done in 21 steps with -1.000 reward\n"
     ]
    },
    {
     "name": "stderr",
     "output_type": "stream",
     "text": [
      "[2019-07-10 13:23:48,241] [0:localhost:5900] Sending reset for env_id=wob.mini.ClickDialog-v0 fps=60 episode_id=0\n"
     ]
    },
    {
     "name": "stdout",
     "output_type": "stream",
     "text": [
      "Episode done in 20 steps with -1.000 reward\n"
     ]
    },
    {
     "name": "stderr",
     "output_type": "stream",
     "text": [
      "[2019-07-10 13:23:58,964] [0:localhost:5900] Sending reset for env_id=wob.mini.ClickDialog-v0 fps=60 episode_id=0\n"
     ]
    },
    {
     "name": "stdout",
     "output_type": "stream",
     "text": [
      "Episode done in 21 steps with -1.000 reward\n",
      "Episode done in 20 steps with -1.000 reward\n",
      "Mean reward for 10 episodes is -1.000, steps 19.100\n"
     ]
    }
   ],
   "source": [
    "# testing the best weights\n",
    "net.load_state_dict(best_weights)\n",
    "TEST_EPISODES = 10\n",
    "\n",
    "rewards = []\n",
    "steps = []\n",
    "while len(rewards) < TEST_EPISODES:\n",
    "    cur_reward = 0\n",
    "    cur_steps = 0\n",
    "    obs_n = join_env(env)\n",
    "    while True:\n",
    "        obs_t = torch.tensor(obs_n).to(DEVICE)\n",
    "        q_t = net(obs_t)\n",
    "        action = q_t.max(dim=1).indices[0].item()\n",
    "        obs_n, reward_n, is_done_n, _ = env.step([action])\n",
    "        cur_reward += reward_n[0]\n",
    "        cur_steps += 1\n",
    "        if is_done_n[0]:\n",
    "            break\n",
    "    rewards.append(cur_reward)\n",
    "    steps.append(cur_steps)\n",
    "    print(\"Episode done in %d steps with %.3f reward\" % (cur_steps, cur_reward))\n",
    "print(\"Mean reward for %d episodes is %.3f, steps %.3f\" % (TEST_EPISODES, np.mean(rewards), np.mean(steps)))"
   ]
  },
  {
   "cell_type": "markdown",
   "metadata": {},
   "source": [
    "Oh, the problem is open-ended! Will give a beer to the first who makes the damn thing working :).\n",
    "\n",
    "The interesting thing is that A2C method converges much better without any tweaking ([code is here](https://github.com/PacktPublishing/Deep-Reinforcement-Learning-Hands-On/tree/master/Chapter13)), but requires 6-8 containers running in parallel due to on-policy nature."
   ]
  },
  {
   "cell_type": "code",
   "execution_count": null,
   "metadata": {},
   "outputs": [],
   "source": []
  }
 ],
 "metadata": {
  "kernelspec": {
   "display_name": "Python 3",
   "language": "python",
   "name": "python3"
  },
  "language_info": {
   "codemirror_mode": {
    "name": "ipython",
    "version": 3
   },
   "file_extension": ".py",
   "mimetype": "text/x-python",
   "name": "python",
   "nbconvert_exporter": "python",
   "pygments_lexer": "ipython3",
   "version": "3.6.8"
  }
 },
 "nbformat": 4,
 "nbformat_minor": 2
}
