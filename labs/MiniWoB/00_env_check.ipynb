{
 "cells": [
  {
   "cell_type": "code",
   "execution_count": 1,
   "metadata": {},
   "outputs": [
    {
     "ename": "SyntaxError",
     "evalue": "invalid syntax (diagnostics.py, line 94)",
     "output_type": "error",
     "traceback": [
      "Traceback \u001b[0;36m(most recent call last)\u001b[0m:\n",
      "  File \u001b[1;32m\"/anaconda3/envs/miniwob/lib/python3.7/site-packages/IPython/core/interactiveshell.py\"\u001b[0m, line \u001b[1;32m3296\u001b[0m, in \u001b[1;35mrun_code\u001b[0m\n    exec(code_obj, self.user_global_ns, self.user_ns)\n",
      "  File \u001b[1;32m\"<ipython-input-1-e49c8ef46ce8>\"\u001b[0m, line \u001b[1;32m2\u001b[0m, in \u001b[1;35m<module>\u001b[0m\n    import universe\n",
      "  File \u001b[1;32m\"/anaconda3/envs/miniwob/lib/python3.7/site-packages/universe/__init__.py\"\u001b[0m, line \u001b[1;32m22\u001b[0m, in \u001b[1;35m<module>\u001b[0m\n    from universe import error, envs\n",
      "  File \u001b[1;32m\"/anaconda3/envs/miniwob/lib/python3.7/site-packages/universe/envs/__init__.py\"\u001b[0m, line \u001b[1;32m1\u001b[0m, in \u001b[1;35m<module>\u001b[0m\n    import universe.envs.vnc_env\n",
      "\u001b[0;36m  File \u001b[0;32m\"/anaconda3/envs/miniwob/lib/python3.7/site-packages/universe/envs/vnc_env.py\"\u001b[0;36m, line \u001b[0;32m11\u001b[0;36m, in \u001b[0;35m<module>\u001b[0;36m\u001b[0m\n\u001b[0;31m    from universe.envs import diagnostics\u001b[0m\n",
      "\u001b[0;36m  File \u001b[0;32m\"/anaconda3/envs/miniwob/lib/python3.7/site-packages/universe/envs/diagnostics.py\"\u001b[0;36m, line \u001b[0;32m94\u001b[0m\n\u001b[0;31m    async = self.qr_pool.apply_async(self.method, (self._last_img, time.time(), available_at))\u001b[0m\n\u001b[0m          ^\u001b[0m\n\u001b[0;31mSyntaxError\u001b[0m\u001b[0;31m:\u001b[0m invalid syntax\n"
     ]
    }
   ],
   "source": [
    "import gym\n",
    "import universe"
   ]
  },
  {
   "cell_type": "code",
   "execution_count": null,
   "metadata": {},
   "outputs": [],
   "source": []
  }
 ],
 "metadata": {
  "kernelspec": {
   "display_name": "Python 3",
   "language": "python",
   "name": "python3"
  },
  "language_info": {
   "codemirror_mode": {
    "name": "ipython",
    "version": 3
   },
   "file_extension": ".py",
   "mimetype": "text/x-python",
   "name": "python",
   "nbconvert_exporter": "python",
   "pygments_lexer": "ipython3",
   "version": "3.7.3"
  }
 },
 "nbformat": 4,
 "nbformat_minor": 2
}
