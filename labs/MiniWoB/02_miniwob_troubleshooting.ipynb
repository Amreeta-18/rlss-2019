{
 "cells": [
  {
   "cell_type": "markdown",
   "metadata": {
    "heading_collapsed": true
   },
   "source": [
    "# MiniWoB intro\n"
   ]
  },
  {
   "cell_type": "markdown",
   "metadata": {
    "hidden": true
   },
   "source": [
    "Mini World of Bits (MiniWoB) is an RL benchmark introduced by OpenAI researchers in 2017.\n",
    "\n",
    "Their original paper http://proceedings.mlr.press/v70/shi17a/shi17a.pdf\n",
    "\n",
    "The core idea is to create a set of browser-based tasks to be solved using RL methods. Every task is a small dynamic webpage, which could be interacted using a mouse or keyboard. The reward is given for executing correct sequence of actions. Description of the goal is included into the webpage.\n",
    "\n",
    "In total it introduced 80 problems of varying complexity -- from the trivial like clicking the form button to very challenging, for example booking the flight following the criterias.\n",
    "\n",
    "The problems are available here: https://stanfordnlp.github.io/miniwob-plusplus/\n",
    "\n",
    "Unfortunately, OpenAI discontinued MiniWoB project, so, it hasn't gained popularity it deserves. After OpenAI paper in 2017, MiniWoB was used in several research papers, the most notable ones:\n",
    "\n",
    "* [1802.08802 Reinforcement Learning on Web Interfaces Using Workflow-Guided Exploration](https://arxiv.org/abs/1802.08802)\n",
    "* [1812.09195 Learning to Navigate the Web](https://arxiv.org/abs/1812.09195v1)\n",
    "* [1902.07257v1 DOM-Q-NET: Grounded RL on Structured Language](https://arxiv.org/abs/1902.07257v1)\n",
    "\n",
    "But that's almost nothing in comparison to Atari games popularity. To fix this mistake, let's play with MiniWoB in this tutorial.\n",
    "\n",
    "This tutorial uses the original MiniWoB. There exists the imroved version from Stanford researches, called [MiniWoB++](https://stanfordnlp.github.io/miniwob-plusplus/)\n"
   ]
  },
  {
   "cell_type": "markdown",
   "metadata": {
    "hidden": true
   },
   "source": [
    "## Why that's still relevant for RL\n",
    "\n",
    "You might ask, why do we need to play with two discontinued projects published two years ago (almost eternity by ML/DL field pace). There are several reasons for that:\n",
    "\n",
    "* MiniWoB problems are still very far from being solved. \n",
    "* Some of them are much harder and much close to real-life human behaviour than Atari games. \n",
    "* MiniWoB has practical application in automated software testing, web data extraction and automation.\n",
    "* Universe with all its issues, allows fast integration of applications into RL experiments without modifying the source code.\n",
    "* The most important: it's fun!"
   ]
  },
  {
   "cell_type": "markdown",
   "metadata": {
    "hidden": true
   },
   "source": [
    "## Architecture\n",
    "\n",
    "MiniWoB is implemented as a part of [OpenAI Universe](https://github.com/openai/universe) (another frozen project of OpenAI). The idea of Universe is to use VNC protocol to connect RL agent with GUI applications. As VNC is a cross-platform protocol used by humans to communicate with remote GUI applications, RL agent also achieves this ability (is RL agent smart enough to communicate is a different question). \n",
    "\n",
    "MiniWoB is a part of Universe, where GUI app is a browser with loaded dynamic webpages.\n",
    "\n",
    "Overall architecture of Universe is shown below\n",
    "\n",
    "![Arch](images/arch.png)\n",
    "\n",
    "The original MiniWoB docker image is available [on quay.io](https://quay.io/repository/openai/universe.world-of-bits), but I suggest you to use my version with fixed stability issues. The fixed version is available [on dockerhub](https://cloud.docker.com/u/shmuma/repository/docker/shmuma/miniwob). If you want to build your own version of the fixed image, you can follow [instructions here](https://github.com/PacktPublishing/Deep-Reinforcement-Learning-Hands-On/tree/master/Chapter13/wob_fixes)\n"
   ]
  },
  {
   "cell_type": "markdown",
   "metadata": {
    "hidden": true
   },
   "source": [
    "## Starting the container\n",
    "\n",
    "If you have docker installed, you can start the single container running the following command:\n",
    "\n",
    "`docker run -d -p 5900:5900 -p 15900:15900 --privileged --ipc host --cap-add SYS_ADMIN shmuma/miniwob run`\n",
    "\n",
    "Here, the options:\n",
    "* `-d` detaches container from terminal and keeps it running in background\n",
    "* `-p 5900:5900` forwards VNC port to the host machine\n",
    "* `-p 15900:15900` forwards rewarder port \n",
    "* `--privileged` gives extended privileges to this container (not sure is this needed or not, that was written in OpenAI manual)\n",
    "* `--ipc host` uses host's IPC namespace\n",
    "* `--cap-add SYS_ADMIN` extends container privileges\n",
    "* `shmuma/miniwob` name of the container image to start, you can use `quay.io/openai/universe.world-of- bits:0.20.0` to start original MiniWoB image\n",
    "* `run` command to start inside container\n",
    "\n",
    "During the training, several containers could be started (to decrease training samples correlation), to simplify this process, this repo includes two scripts: `containers_run.sh` and `containers_stop.sh`. The first starts the required amount of containers (given in command line), the second script stops all started containers (be careful, it just stops ALL containers, not only started by `containers_run.sh` script)."
   ]
  },
  {
   "cell_type": "code",
   "execution_count": 1,
   "metadata": {
    "hidden": true
   },
   "outputs": [
    {
     "name": "stdout",
     "output_type": "stream",
     "text": [
      "#!/usr/bin/env bash\r\n",
      "IMAGE_NAME=shmuma/miniwob\r\n",
      "\r\n",
      "count=`docker ps -q | wc -l`\r\n",
      "\r\n",
      "if test $count -ne 0 ; then\r\n",
      "    echo You already have $count containers running, are you sure you want more?\r\n",
      "    exit\r\n",
      "fi\r\n",
      "\r\n",
      "for i in `seq 1 ${1:-1}`; do\r\n",
      "    echo Starting container $i\r\n",
      "    P1=$((5900+$i-1))\r\n",
      "    P2=$((15900+$i-1))\r\n",
      "    docker run -d -p $P1:5900 -p $P2:15900 --privileged --ipc host --cap-add SYS_ADMIN $IMAGE_NAME run\r\n",
      "done\r\n"
     ]
    }
   ],
   "source": [
    "!cat containers_run.sh"
   ]
  },
  {
   "cell_type": "code",
   "execution_count": 2,
   "metadata": {
    "hidden": true
   },
   "outputs": [
    {
     "name": "stdout",
     "output_type": "stream",
     "text": [
      "#!/usr/bin/env bash\r\n",
      "\r\n",
      "docker stop `docker ps -q`\r\n"
     ]
    }
   ],
   "source": [
    "!cat containers_stop.sh"
   ]
  },
  {
   "cell_type": "code",
   "execution_count": 358,
   "metadata": {
    "hidden": true
   },
   "outputs": [
    {
     "name": "stdout",
     "output_type": "stream",
     "text": [
      "Starting container 1\n",
      "41526dbe4fca2736a119f98de82fbd476e036c3e1c2fef7582ef11756818a7c0\n"
     ]
    }
   ],
   "source": [
    "!./containers_run.sh 1"
   ]
  },
  {
   "cell_type": "code",
   "execution_count": 4,
   "metadata": {
    "hidden": true
   },
   "outputs": [
    {
     "name": "stdout",
     "output_type": "stream",
     "text": [
      "CONTAINER ID        IMAGE               COMMAND                  CREATED             STATUS                  PORTS                                                        NAMES\r\n",
      "e94f531c4888        shmuma/miniwob      \"/app/universe-envs/…\"   5 seconds ago       Up Less than a second   0.0.0.0:5900->5900/tcp, 5899/tcp, 0.0.0.0:15900->15900/tcp   xenodochial_varahamihira\r\n"
     ]
    }
   ],
   "source": [
    "!docker ps"
   ]
  },
  {
   "cell_type": "markdown",
   "metadata": {
    "hidden": true
   },
   "source": [
    "After this you can connect to the started container using one of many VNC clients available. If you're using MacOS, VNC client is already included in OS, in Finder press `Command+K` and then connect to 'vnc://localhost:5900'. Password for connection is `openai`\n",
    "\n",
    "![](images/vnc.png)"
   ]
  },
  {
   "cell_type": "markdown",
   "metadata": {
    "hidden": true
   },
   "source": [
    "Do not forget to stop containers, as they are quite CPU-hungry "
   ]
  },
  {
   "cell_type": "code",
   "execution_count": 7,
   "metadata": {
    "hidden": true
   },
   "outputs": [
    {
     "name": "stdout",
     "output_type": "stream",
     "text": [
      "af325a282347\r\n"
     ]
    }
   ],
   "source": [
    "!./containers_stop.sh"
   ]
  },
  {
   "cell_type": "markdown",
   "metadata": {
    "heading_collapsed": true
   },
   "source": [
    "# Imports"
   ]
  },
  {
   "cell_type": "code",
   "execution_count": 1,
   "metadata": {
    "hidden": true
   },
   "outputs": [
    {
     "name": "stderr",
     "output_type": "stream",
     "text": [
      "/home/shmuma/anaconda3/envs/miniwob/lib/python3.6/site-packages/universe/runtimes/__init__.py:7: YAMLLoadWarning: calling yaml.load() without Loader=... is deprecated, as the default Loader is unsafe. Please read https://msg.pyyaml.org/load for full details.\n",
      "  spec = yaml.load(f)\n"
     ]
    }
   ],
   "source": [
    "import gym\n",
    "import ptan\n",
    "import time\n",
    "import numpy as np\n",
    "import universe\n",
    "from typing import List, Optional, Tuple\n",
    "from universe import vectorized\n",
    "from universe.wrappers.experimental import SoftmaxClickMouse\n",
    "\n",
    "from PIL import Image"
   ]
  },
  {
   "cell_type": "code",
   "execution_count": 2,
   "metadata": {
    "hidden": true
   },
   "outputs": [],
   "source": [
    "DOCKER_IMAGE = \"shmuma/miniwob:latest\""
   ]
  },
  {
   "cell_type": "code",
   "execution_count": 3,
   "metadata": {
    "hidden": true
   },
   "outputs": [],
   "source": [
    "# function to build connection endpoints for set of containers\n",
    "def remotes_url(port_ofs=0, hostname='localhost', count=8):\n",
    "    hosts = [\"%s:%d+%d\" % (hostname, 5900 + ofs, 15900 + ofs) for ofs in range(port_ofs, port_ofs+count)]\n",
    "    return \"vnc://\" + \",\".join(hosts)"
   ]
  },
  {
   "cell_type": "markdown",
   "metadata": {
    "heading_collapsed": true
   },
   "source": [
    "# Gym actions/observations"
   ]
  },
  {
   "cell_type": "markdown",
   "metadata": {
    "hidden": true
   },
   "source": [
    "## Universe vectorized observations/actions\n",
    "\n",
    "Before we start looking at actual MiniWoB action and observation spaces, we need to state one quite important difference between OpenAI Gym and OpenAI Universe. \n",
    "\n",
    "Gym API is **synchronous** in terms of agent's calls to `step()` function and internal environment state. For example, if the agent playing Atari decided to download the 10GB model file (between calls to `step()`), Atari 2600 emulator and the game it emulates notice nothing, as Atari knows nothing about wall clock time, only about ticks of 6507 MCU and internal emulated hardware state. Gym can do this, because it has the full control over every environment it exposes to the developer.\n",
    "\n",
    "In contrast, Universe has much less knowledge and control over the software it communicates with. VNC protocol provides remote framebuffer interface (low-level name of VNC protocol is RFB), capturing the image on the remote machine and transferring it to VNC client running in front of you. Your actions, like mouse movements and key presses are recorded and being sent to the VNC server. So, VNC is relatively thin protocol providing the impression that remote applications are running locally. This simplifies application integration, but at the same time if you've missed same frame from the input images stream, you've missed it. So, Universe Gym API is **asynchronous**:\n",
    "\n",
    "* agent needs to be fast enough to process observations and keep the desired framerate. This might be important in cases when something qick is happening on the screen\n",
    "* on `reset()` call, environment takes some time to start producing observations. To indicate this transient states, it returns None for observations, which means you need to wait and repeat the request.\n",
    "\n",
    "Another difference is in native support of several environments running in parallel. On creation of environment you can specify how many of them need to be created and system will start several docker images running in parallel. Alternatively, you can provide several ports of already running docker images (possibly on remote machines in the cloud). As a result, Universe `Env` instance returns vectors of observations from `reset()` and `step()` calls and expects you to provide vector of actions for `step()`. This breaks the API, but simplifies the development. \n",
    "\n",
    "Ptan library supports both vectorized and old-style environments, which also makes your life a little bit easier. "
   ]
  },
  {
   "cell_type": "markdown",
   "metadata": {
    "hidden": true
   },
   "source": [
    "## Observations and actions\n",
    "\n",
    "Universe exposes two new subclasses of Gym `Space` class: [`VNCActionSpace`](https://github.com/openai/universe/blob/master/universe/spaces/vnc_action_space.py) and `VNCObservationSpace`\n",
    "\n",
    "Action space is a container for `VNCKeyEvent` or `VNCPointerEvent`: https://github.com/openai/universe/blob/master/universe/spaces/vnc_event.py\n",
    "\n",
    "Observation from single environment is a dictionary with two keys: `vision` with image pixels and `text` with text description from the environment."
   ]
  },
  {
   "cell_type": "code",
   "execution_count": 4,
   "metadata": {
    "hidden": true
   },
   "outputs": [
    {
     "name": "stdout",
     "output_type": "stream",
     "text": [
      "You already have 1 containers running, are you sure you want more?\r\n"
     ]
    }
   ],
   "source": [
    "!./containers_run.sh 1"
   ]
  },
  {
   "cell_type": "code",
   "execution_count": 10,
   "metadata": {
    "hidden": true
   },
   "outputs": [
    {
     "name": "stderr",
     "output_type": "stream",
     "text": [
      "[2019-06-28 19:39:29,123] Making new env: wob.mini.ClickDialog-v0\n",
      "/home/shmuma/anaconda3/envs/miniwob/lib/python3.6/site-packages/gym/envs/registration.py:17: PkgResourcesDeprecationWarning: Parameters to load are deprecated.  Call .resolve and .require separately.\n",
      "  result = entry_point.load(False)\n",
      "[2019-06-28 19:39:29,125] Writing logs to file: /tmp/universe-21835.log\n",
      "[2019-06-28 19:39:29,128] Using the golang VNC implementation\n",
      "[2019-06-28 19:39:29,129] Using VNCSession arguments: {'encoding': 'tight', 'compress_level': 0, 'fine_quality_level': 100, 'subsample_level': 0, 'start_timeout': 7}. (Customize by running \"env.configure(vnc_kwargs={...})\"\n",
      "[2019-06-28 19:39:29,206] [0] Connecting to environment: vnc://localhost:5900 password=openai. If desired, you can manually connect a VNC viewer, such as TurboVNC. Most environments provide a convenient in-browser VNC client: http://localhost:15900/viewer/?password=openai\n"
     ]
    },
    {
     "name": "stdout",
     "output_type": "stream",
     "text": [
      "vnc://localhost:5900+15900\n"
     ]
    }
   ],
   "source": [
    "env = gym.make(\"wob.mini.ClickDialog-v0\")\n",
    "url = remotes_url(count=1)\n",
    "print(url)\n",
    "\n",
    "env.configure(remotes=url, docker_image=DOCKER_IMAGE, fps=5, vnc_kwargs={\n",
    "        'encoding': 'tight', 'compress_level': 0,\n",
    "        'fine_quality_level': 100, 'subsample_level': 0\n",
    "    })\n",
    "obs = env.reset()"
   ]
  },
  {
   "cell_type": "code",
   "execution_count": 11,
   "metadata": {
    "hidden": true
   },
   "outputs": [
    {
     "name": "stderr",
     "output_type": "stream",
     "text": [
      "[2019-06-28 19:39:33,279] Throttle fell behind by 3.87s; lost 19.35 frames\n",
      "[2019-06-28 19:39:45,636] [0:localhost:5900] Sending reset for env_id=wob.mini.ClickDialog-v0 fps=60 episode_id=0\n",
      "[2019-06-28 19:39:46,144] [0:localhost:5900] Initial reset complete: episode_id=11\n"
     ]
    }
   ],
   "source": [
    "while obs[0] is None:\n",
    "    a = env.action_space.sample()\n",
    "    obs, reward, is_done, info = env.step([a])\n",
    "    time.sleep(1)"
   ]
  },
  {
   "cell_type": "markdown",
   "metadata": {
    "hidden": true
   },
   "source": [
    "We've got the first observation. The result is a list of single dict (remember vectorized form of universe observations?) "
   ]
  },
  {
   "cell_type": "code",
   "execution_count": 12,
   "metadata": {
    "hidden": true
   },
   "outputs": [
    {
     "data": {
      "text/plain": [
       "[{'vision': array([[[0, 0, 0],\n",
       "          [0, 0, 0],\n",
       "          [0, 0, 0],\n",
       "          ...,\n",
       "          [0, 0, 0],\n",
       "          [0, 0, 0],\n",
       "          [0, 0, 0]],\n",
       "  \n",
       "         [[0, 0, 0],\n",
       "          [0, 0, 0],\n",
       "          [0, 0, 0],\n",
       "          ...,\n",
       "          [0, 0, 0],\n",
       "          [0, 0, 0],\n",
       "          [0, 0, 0]],\n",
       "  \n",
       "         [[0, 0, 0],\n",
       "          [0, 0, 0],\n",
       "          [0, 0, 0],\n",
       "          ...,\n",
       "          [0, 0, 0],\n",
       "          [0, 0, 0],\n",
       "          [0, 0, 0]],\n",
       "  \n",
       "         ...,\n",
       "  \n",
       "         [[0, 0, 0],\n",
       "          [0, 0, 0],\n",
       "          [0, 0, 0],\n",
       "          ...,\n",
       "          [0, 0, 0],\n",
       "          [0, 0, 0],\n",
       "          [0, 0, 0]],\n",
       "  \n",
       "         [[0, 0, 0],\n",
       "          [0, 0, 0],\n",
       "          [0, 0, 0],\n",
       "          ...,\n",
       "          [0, 0, 0],\n",
       "          [0, 0, 0],\n",
       "          [0, 0, 0]],\n",
       "  \n",
       "         [[0, 0, 0],\n",
       "          [0, 0, 0],\n",
       "          [0, 0, 0],\n",
       "          ...,\n",
       "          [0, 0, 0],\n",
       "          [0, 0, 0],\n",
       "          [0, 0, 0]]], dtype=uint8), 'text': []}]"
      ]
     },
     "execution_count": 12,
     "metadata": {},
     "output_type": "execute_result"
    }
   ],
   "source": [
    "obs"
   ]
  },
  {
   "cell_type": "code",
   "execution_count": 13,
   "metadata": {
    "hidden": true
   },
   "outputs": [
    {
     "data": {
      "image/png": "[encoded data removed]",
      "text/plain": [
       "<PIL.Image.Image image mode=RGB size=1024x768 at 0x7F5374127DA0>"
      ]
     },
     "execution_count": 13,
     "metadata": {},
     "output_type": "execute_result"
    }
   ],
   "source": [
    "im = Image.fromarray(obs[0]['vision'])\n",
    "im"
   ]
  },
  {
   "cell_type": "markdown",
   "metadata": {
    "hidden": true
   },
   "source": [
    "### Image cropper\n",
    "\n",
    "As you can see, image is not cropped which is not very convenient, as relevant part of the problem's field is just tiny portion of the field. Below is the wrapper we'll use to crop the observations"
   ]
  },
  {
   "cell_type": "code",
   "execution_count": 5,
   "metadata": {
    "hidden": true
   },
   "outputs": [],
   "source": [
    "class MiniWoBCropper(vectorized.ObservationWrapper):\n",
    "    \"\"\"\n",
    "    Crops the WoB area and converts the observation into PyTorch (C, H, W) format.\n",
    "    \"\"\"\n",
    "    # Area of interest\n",
    "    WIDTH = 160\n",
    "    HEIGHT = 210\n",
    "    X_OFS = 10\n",
    "    Y_OFS = 75\n",
    "    \n",
    "    def __init__(self, env, keep_text=False):\n",
    "        super(MiniWoBCropper, self).__init__(env)\n",
    "        self.keep_text = keep_text\n",
    "        img_space = gym.spaces.Box(low=0, high=255, shape=(3, self.HEIGHT, self.WIDTH))\n",
    "        if keep_text:\n",
    "            self.observation_space = gym.spaces.Tuple(spaces=(img_space, gym.spaces.Space))\n",
    "        else:\n",
    "            self.observation_space = img_space\n",
    "\n",
    "    def _observation(self, observation_n):\n",
    "        res = []\n",
    "        for obs in observation_n:\n",
    "            if obs is None:\n",
    "                res.append(obs)\n",
    "                continue\n",
    "            img = obs['vision'][self.Y_OFS:self.Y_OFS+self.HEIGHT, self.X_OFS:self.X_OFS+self.WIDTH, :]\n",
    "            img = np.transpose(img, (2, 0, 1))\n",
    "            if self.keep_text:\n",
    "                text = \" \".join(map(lambda d: d.get('instruction', ''), obs.get('text', [{}])))\n",
    "                res.append((img, text))\n",
    "            else:\n",
    "                res.append(img)\n",
    "        return res\n"
   ]
  },
  {
   "cell_type": "markdown",
   "metadata": {
    "hidden": true
   },
   "source": [
    "Tiny easter egg in MiniWoB: image area has exactly the same dimension as Atari games resultion in ALE.\n",
    "\n",
    "And please note that old gym doesn't support `dtype` in `Box` class, so, it will be wrongly set as float32 (but, in fact, byte)"
   ]
  },
  {
   "cell_type": "code",
   "execution_count": 15,
   "metadata": {
    "hidden": true
   },
   "outputs": [
    {
     "name": "stderr",
     "output_type": "stream",
     "text": [
      "[2019-06-28 19:40:13,395] Making new env: wob.mini.ClickDialog-v0\n",
      "[2019-06-28 19:40:13,410] Using the golang VNC implementation\n",
      "[2019-06-28 19:40:13,410] Using VNCSession arguments: {'encoding': 'tight', 'compress_level': 0, 'fine_quality_level': 100, 'subsample_level': 0, 'start_timeout': 7}. (Customize by running \"env.configure(vnc_kwargs={...})\"\n",
      "[2019-06-28 19:40:13,433] [0] Connecting to environment: vnc://localhost:5900 password=openai. If desired, you can manually connect a VNC viewer, such as TurboVNC. Most environments provide a convenient in-browser VNC client: http://localhost:15900/viewer/?password=openai\n"
     ]
    },
    {
     "name": "stdout",
     "output_type": "stream",
     "text": [
      "vnc://localhost:5900+15900\n"
     ]
    }
   ],
   "source": [
    "env = gym.make(\"wob.mini.ClickDialog-v0\")\n",
    "env = MiniWoBCropper(env)\n",
    "url = remotes_url(count=1)\n",
    "print(url)\n",
    "\n",
    "env.configure(remotes=url, docker_image=DOCKER_IMAGE, fps=5, vnc_kwargs={\n",
    "        'encoding': 'tight', 'compress_level': 0,\n",
    "        'fine_quality_level': 100, 'subsample_level': 0\n",
    "    })\n",
    "obs = env.reset()"
   ]
  },
  {
   "cell_type": "code",
   "execution_count": 16,
   "metadata": {
    "hidden": true
   },
   "outputs": [
    {
     "name": "stderr",
     "output_type": "stream",
     "text": [
      "[2019-06-28 19:40:15,990] Throttle fell behind by 2.36s; lost 11.78 frames\n",
      "[2019-06-28 19:40:29,771] [0:localhost:5900] Sending reset for env_id=wob.mini.ClickDialog-v0 fps=60 episode_id=0\n",
      "[2019-06-28 19:40:29,797] [0:localhost:5900] Initial reset complete: episode_id=16\n"
     ]
    }
   ],
   "source": [
    "while obs[0] is None:\n",
    "    a = env.action_space.sample()\n",
    "    obs, reward, is_done, info = env.step([a])\n",
    "    time.sleep(1)"
   ]
  },
  {
   "cell_type": "code",
   "execution_count": 17,
   "metadata": {
    "hidden": true
   },
   "outputs": [
    {
     "data": {
      "text/plain": [
       "[array([[[181, 182, 182, ..., 182, 182, 182],\n",
       "         [255, 255, 255, ..., 255, 255, 255],\n",
       "         [254, 255, 255, ..., 255, 255, 255],\n",
       "         ...,\n",
       "         [255, 255, 255, ..., 255, 255, 255],\n",
       "         [255, 255, 255, ..., 255, 255, 255],\n",
       "         [255, 255, 255, ..., 255, 255, 255]],\n",
       " \n",
       "        [[179, 180, 180, ..., 180, 180, 180],\n",
       "         [255, 255, 255, ..., 255, 255, 255],\n",
       "         [255, 255, 255, ..., 255, 255, 255],\n",
       "         ...,\n",
       "         [255, 255, 255, ..., 255, 255, 255],\n",
       "         [255, 255, 255, ..., 255, 255, 255],\n",
       "         [255, 255, 255, ..., 255, 255, 255]],\n",
       " \n",
       "        [[182, 183, 183, ..., 183, 183, 183],\n",
       "         [  0,   0,   0, ...,   0,   0,   0],\n",
       "         [  0,   0,   0, ...,   0,   0,   0],\n",
       "         ...,\n",
       "         [255, 255, 255, ..., 255, 255, 255],\n",
       "         [255, 255, 255, ..., 255, 255, 255],\n",
       "         [255, 255, 255, ..., 255, 255, 255]]], dtype=uint8)]"
      ]
     },
     "execution_count": 17,
     "metadata": {},
     "output_type": "execute_result"
    }
   ],
   "source": [
    "obs"
   ]
  },
  {
   "cell_type": "code",
   "execution_count": 18,
   "metadata": {
    "hidden": true
   },
   "outputs": [
    {
     "data": {
      "text/plain": [
       "(3, 210, 160)"
      ]
     },
     "execution_count": 18,
     "metadata": {},
     "output_type": "execute_result"
    }
   ],
   "source": [
    "obs[0].shape"
   ]
  },
  {
   "cell_type": "code",
   "execution_count": 19,
   "metadata": {
    "hidden": true
   },
   "outputs": [
    {
     "data": {
      "text/plain": [
       "Box(3, 210, 160)"
      ]
     },
     "execution_count": 19,
     "metadata": {},
     "output_type": "execute_result"
    }
   ],
   "source": [
    "env.observation_space"
   ]
  },
  {
   "cell_type": "code",
   "execution_count": 20,
   "metadata": {
    "hidden": true
   },
   "outputs": [
    {
     "data": {
      "image/png": "[encoded data removed]",
      "text/plain": [
       "<PIL.Image.Image image mode=RGB size=160x210 at 0x7F5374023550>"
      ]
     },
     "execution_count": 20,
     "metadata": {},
     "output_type": "execute_result"
    }
   ],
   "source": [
    "im = Image.fromarray(obs[0].transpose((1, 2, 0)))\n",
    "im"
   ]
  },
  {
   "cell_type": "markdown",
   "metadata": {
    "hidden": true
   },
   "source": [
    "### Action space\n",
    "\n",
    "VNCActionSpace can include mouse click and key press events. To demonstrate how it is done, let's solve environment above by using brute force agent (sometimes this approach works better than sophisticated RL methods!)"
   ]
  },
  {
   "cell_type": "code",
   "execution_count": 21,
   "metadata": {
    "hidden": true
   },
   "outputs": [
    {
     "name": "stderr",
     "output_type": "stream",
     "text": [
      "[2019-06-28 19:41:04,629] [0:localhost:5900] Sending reset for env_id=wob.mini.ClickDialog-v0 fps=60 episode_id=0\n"
     ]
    },
    {
     "data": {
      "text/plain": [
       "[None]"
      ]
     },
     "execution_count": 21,
     "metadata": {},
     "output_type": "execute_result"
    }
   ],
   "source": [
    "env.reset()"
   ]
  },
  {
   "cell_type": "code",
   "execution_count": 22,
   "metadata": {
    "hidden": true
   },
   "outputs": [],
   "source": [
    "while obs[0] is None:\n",
    "    a = env.action_space.sample()\n",
    "    obs, reward, is_done, info = env.step([a])\n",
    "    time.sleep(1)"
   ]
  },
  {
   "cell_type": "code",
   "execution_count": 23,
   "metadata": {
    "hidden": true
   },
   "outputs": [
    {
     "name": "stderr",
     "output_type": "stream",
     "text": [
      "[2019-06-28 19:41:12,920] Throttle fell behind by 8.09s; lost 40.45 frames\n"
     ]
    },
    {
     "name": "stdout",
     "output_type": "stream",
     "text": [
      "Got reward 0.768, clicks done 106\n",
      "Got reward 0.771, clicks done 14\n",
      "Got reward 0.597, clicks done 180\n",
      "Got reward 0.390, clicks done 33\n",
      "Got reward 0.971, clicks done 7\n",
      "Got reward 0.729, clicks done 118\n",
      "Got reward 0.951, clicks done 5\n",
      "Got reward 0.079, clicks done 101\n",
      "Got reward 0.079, clicks done 101\n",
      "Got reward 0.891, clicks done 8\n",
      "Mean reward for 10 solved episodes is 0.623\n"
     ]
    }
   ],
   "source": [
    "# try to solve 10 episodes by doing random clicking\n",
    "rewards = []\n",
    "clicks_done = 0\n",
    "\n",
    "while len(rewards) < 10:\n",
    "    clicks_done += 1\n",
    "    click_x = MiniWoBCropper.X_OFS + np.random.randint(MiniWoBCropper.WIDTH)\n",
    "    click_y = MiniWoBCropper.Y_OFS + np.random.randint(MiniWoBCropper.HEIGHT)\n",
    "\n",
    "    acts = [\n",
    "        universe.spaces.PointerEvent(click_x, click_y, buttonmask=0),\n",
    "        universe.spaces.PointerEvent(click_x, click_y, buttonmask=1),\n",
    "        universe.spaces.PointerEvent(click_x, click_y, buttonmask=0)\n",
    "    ]\n",
    "\n",
    "    obs_n, r_n, end_n, _ = env.step([acts])\n",
    "    if r_n[0] > 0:\n",
    "        rewards.append(r_n[0])\n",
    "        print(\"Got reward %.3f, clicks done %d\" % (r_n[0], clicks_done))\n",
    "        clicks_done = 0\n",
    "        \n",
    "print(\"Mean reward for %d solved episodes is %.3f\" % (len(rewards), np.mean(rewards)))"
   ]
  },
  {
   "cell_type": "markdown",
   "metadata": {
    "hidden": true
   },
   "source": [
    "Above approach are sampling from $160*210 = 33600$ action space, which might be too much for RL methods. To simplify our life a bit, we can discretize the area to be clicked by applying some grid and allowing to click only in the center of grid cell.\n",
    "\n",
    "<img src=\"images/wob-actions.png\" alt=\"Drawing\" style=\"width: 500px;\"/>\n",
    "\n",
    "Universe already comes with such preprocessor, called `SoftmaxClickMouse`: https://github.com/openai/universe/blob/master/universe/wrappers/experimental/action_space.py#L65, let's try it in our random clicking approach"
   ]
  },
  {
   "cell_type": "code",
   "execution_count": 6,
   "metadata": {
    "hidden": true
   },
   "outputs": [
    {
     "name": "stderr",
     "output_type": "stream",
     "text": [
      "[2019-06-29 12:19:00,985] Making new env: wob.mini.ClickDialog-v0\n",
      "/home/shmuma/anaconda3/envs/miniwob/lib/python3.6/site-packages/gym/envs/registration.py:17: PkgResourcesDeprecationWarning: Parameters to load are deprecated.  Call .resolve and .require separately.\n",
      "  result = entry_point.load(False)\n",
      "[2019-06-29 12:19:01,000] Using SoftmaxClickMouse with action_region=(10, 125, 170, 285), noclick_regions=[]\n",
      "[2019-06-29 12:19:01,000] SoftmaxClickMouse noclick regions removed 0 of 256 actions\n",
      "[2019-06-29 12:19:01,001] Writing logs to file: /tmp/universe-23640.log\n",
      "[2019-06-29 12:19:01,002] Using the golang VNC implementation\n",
      "[2019-06-29 12:19:01,002] Using VNCSession arguments: {'encoding': 'tight', 'compress_level': 0, 'fine_quality_level': 100, 'subsample_level': 0, 'start_timeout': 7}. (Customize by running \"env.configure(vnc_kwargs={...})\"\n",
      "[2019-06-29 12:19:01,016] [0] Connecting to environment: vnc://localhost:5900 password=openai. If desired, you can manually connect a VNC viewer, such as TurboVNC. Most environments provide a convenient in-browser VNC client: http://localhost:15900/viewer/?password=openai\n"
     ]
    }
   ],
   "source": [
    "env = gym.make(\"wob.mini.ClickDialog-v0\")\n",
    "env = MiniWoBCropper(env)\n",
    "env = SoftmaxClickMouse(env)\n",
    "url = remotes_url(count=1)\n",
    "\n",
    "env.configure(remotes=url, docker_image=DOCKER_IMAGE, fps=5, vnc_kwargs={\n",
    "        'encoding': 'tight', 'compress_level': 0,\n",
    "        'fine_quality_level': 100, 'subsample_level': 0\n",
    "    })\n",
    "\n",
    "obs = env.reset()\n"
   ]
  },
  {
   "cell_type": "code",
   "execution_count": 25,
   "metadata": {
    "hidden": true
   },
   "outputs": [
    {
     "data": {
      "text/plain": [
       "Discrete(256)"
      ]
     },
     "execution_count": 25,
     "metadata": {},
     "output_type": "execute_result"
    }
   ],
   "source": [
    "env.action_space"
   ]
  },
  {
   "cell_type": "code",
   "execution_count": 26,
   "metadata": {
    "hidden": true
   },
   "outputs": [
    {
     "name": "stderr",
     "output_type": "stream",
     "text": [
      "[2019-06-28 19:43:41,958] Throttle fell behind by 7.79s; lost 38.97 frames\n",
      "[2019-06-28 19:43:50,299] [0:localhost:5900] Sending reset for env_id=wob.mini.ClickDialog-v0 fps=60 episode_id=0\n",
      "[2019-06-28 19:43:55,371] [0:localhost:5900] Initial reset complete: episode_id=43\n"
     ]
    }
   ],
   "source": [
    "while obs[0] is None:\n",
    "    a = env.action_space.sample()\n",
    "    obs, reward, is_done, info = env.step([a])\n",
    "    time.sleep(1)"
   ]
  },
  {
   "cell_type": "code",
   "execution_count": 27,
   "metadata": {
    "hidden": true
   },
   "outputs": [
    {
     "name": "stderr",
     "output_type": "stream",
     "text": [
      "[2019-06-28 19:43:59,235] Throttle fell behind by 3.05s; lost 15.27 frames\n"
     ]
    },
    {
     "name": "stdout",
     "output_type": "stream",
     "text": [
      "Got reward 0.735, clicks done 16\n",
      "Got reward 0.971, clicks done 4\n",
      "Got reward 0.810, clicks done 12\n",
      "Got reward 0.391, clicks done 33\n",
      "Got reward 0.911, clicks done 7\n",
      "Got reward 0.149, clicks done 45\n",
      "Got reward 0.399, clicks done 85\n",
      "Got reward 0.771, clicks done 14\n",
      "Got reward 0.607, clicks done 232\n",
      "Got reward 0.250, clicks done 40\n",
      "Mean reward for 10 solved episodes is 0.599\n"
     ]
    }
   ],
   "source": [
    "# try to solve 10 episodes by doing random clicking\n",
    "rewards = []\n",
    "clicks_done = 0\n",
    "\n",
    "while len(rewards) < 10:\n",
    "    clicks_done += 1\n",
    "    act = env.action_space.sample()\n",
    "    obs_n, r_n, end_n, _ = env.step([act])\n",
    "    if r_n[0] > 0:\n",
    "        rewards.append(r_n[0])\n",
    "        print(\"Got reward %.3f, clicks done %d\" % (r_n[0], clicks_done))\n",
    "        clicks_done = 0\n",
    "print(\"Mean reward for %d solved episodes is %.3f\" % (len(rewards), np.mean(rewards)))"
   ]
  },
  {
   "cell_type": "markdown",
   "metadata": {
    "hidden": true
   },
   "source": [
    "Not much improvements, probably RL will help with this :)."
   ]
  },
  {
   "cell_type": "markdown",
   "metadata": {
    "heading_collapsed": true
   },
   "source": [
    "# Basic DQN baseline\n",
    "\n",
    "With all those simplifications done, we can implement basic DQN agent to solve some environments."
   ]
  },
  {
   "cell_type": "code",
   "execution_count": 7,
   "metadata": {
    "hidden": true
   },
   "outputs": [
    {
     "name": "stderr",
     "output_type": "stream",
     "text": [
      "[2019-06-29 12:19:17,359] [0:localhost:5900] Sending reset for env_id=wob.mini.ClickDialog-v0 fps=60 episode_id=0\n"
     ]
    }
   ],
   "source": [
    "import torch\n",
    "import torch.nn as nn\n",
    "import torch.nn.functional as F\n",
    "import torch.optim as optim"
   ]
  },
  {
   "cell_type": "markdown",
   "metadata": {
    "hidden": true
   },
   "source": [
    "## Model \n",
    "\n",
    "Below is the model we're going to use. Nothing fancy, just three convolution layers followed by two FC-layers, returning Q-values for our 256 click locations."
   ]
  },
  {
   "cell_type": "code",
   "execution_count": 8,
   "metadata": {
    "hidden": true
   },
   "outputs": [
    {
     "name": "stderr",
     "output_type": "stream",
     "text": [
      "[2019-06-29 12:19:19,384] [0:localhost:5900] Initial reset complete: episode_id=5807\n"
     ]
    }
   ],
   "source": [
    "class Model(nn.Module):\n",
    "    def __init__(self, input_shape, n_actions):\n",
    "        super(Model, self).__init__()\n",
    "\n",
    "        self.conv = nn.Sequential(\n",
    "            nn.Conv2d(input_shape[0], 64, 5, stride=5),\n",
    "            nn.ReLU(),\n",
    "            nn.Conv2d(64, 64, 3, stride=2),\n",
    "            nn.ReLU(),\n",
    "            nn.Conv2d(64, 32, 3, stride=2),\n",
    "            nn.ReLU(),\n",
    "        )\n",
    "\n",
    "        conv_out_size = self._get_conv_out(input_shape)\n",
    "\n",
    "        self.fc = nn.Sequential(\n",
    "            nn.Linear(conv_out_size, 256),\n",
    "            nn.ReLU(),\n",
    "            nn.Linear(256, n_actions),\n",
    "        )\n",
    "\n",
    "    def _get_conv_out(self, shape):\n",
    "        o = self.conv(torch.zeros(1, *shape))\n",
    "        return int(np.prod(o.size()))\n",
    "\n",
    "    def forward(self, x):\n",
    "        fx = x.float() / 256\n",
    "        conv_out = self.conv(fx).view(fx.size()[0], -1)\n",
    "        return self.fc(conv_out)"
   ]
  },
  {
   "cell_type": "markdown",
   "metadata": {
    "heading_collapsed": true,
    "hidden": true
   },
   "source": [
    "## Batch preparation (practice)\n",
    "\n",
    "For data gathering we'll use [`ptan` library](https://github.com/shmuma/ptan/) which is a very thin RL-specific wrapper around Gym. It implement replay buffers, agent logic and other functions frequently required for RL training.\n",
    "\n",
    "Our first warm-up problem will be to write conversion of batch sampled from Replay Buffer into PyTorch tensors suitable for training.\n",
    "\n",
    "Input to the function is a list of `namedtuple` with the following fields ([source code](https://github.com/Shmuma/ptan/blob/master/ptan/experience.py#L155)):\n",
    "* `state`: state `s` in the trajectory, which is a 160x210 array of bytes with shape \\[3, 210, 160\\]\n",
    "* `action`: action executed, which is an integer from 0 to 255 indicating the square in our click grid\n",
    "* `reward`: immediate reward obtained after action execution\n",
    "* `last_state`: state we've got after execution of action. It equals to `None` if episode finished after action.\n",
    "\n",
    "We'll use 1-step DQN, but Ptan can do N-step calculation for you. You can experiment with the difference.\n",
    "\n",
    "The output should be three tensors containing the batch data with:\n",
    "* `state`: in a form of tensor with shape \\[X, Y, ...\\]\n",
    "* `actions`: as a long tensor\n",
    "* `ref values`: approximated Q-values using Bellman equation\n",
    "\n",
    "$Q_{s,a} = r_{s,a} + \\gamma \\cdot max_{a'}Q_{s',a'}$\n"
   ]
  },
  {
   "cell_type": "code",
   "execution_count": null,
   "metadata": {
    "hidden": true
   },
   "outputs": [],
   "source": [
    "@torch.no_grad()\n",
    "def unpack_batch(batch: List[ptan.experience.ExperienceFirstLast], net: nn.Module, gamma: float, device=\"cpu\"):\n",
    "    states = []\n",
    "    actions = []\n",
    "    rewards = []\n",
    "    done_masks = []    # list of booleans, True if this is the last step in the episode\n",
    "    last_states = []\n",
    "    for exp in batch:\n",
    "        # unpack every experience entry into individual lists\n",
    "        raise NotImplementedError\n",
    "\n",
    "    # convert everything to tensors (do not forget to put them into proper devices!)\n",
    "    # apply network and find best Q values of every action (torch.max() is the right function to use (c: )\n",
    "    # zero out q-values according to done_masks\n",
    "    # return the result as tuple of three things: states tensor, actions tensor and \n",
    "    # Q-values approximation tensor"
   ]
  },
  {
   "cell_type": "markdown",
   "metadata": {
    "hidden": true
   },
   "source": [
    "### Tests for your solution\n",
    "\n",
    "There are several test cases you can use to check your solution"
   ]
  },
  {
   "cell_type": "code",
   "execution_count": 31,
   "metadata": {
    "hidden": true
   },
   "outputs": [
    {
     "data": {
      "text/plain": [
       "Model(\n",
       "  (conv): Sequential(\n",
       "    (0): Conv2d(3, 64, kernel_size=(5, 5), stride=(5, 5))\n",
       "    (1): ReLU()\n",
       "    (2): Conv2d(64, 64, kernel_size=(3, 3), stride=(2, 2))\n",
       "    (3): ReLU()\n",
       "    (4): Conv2d(64, 32, kernel_size=(3, 3), stride=(2, 2))\n",
       "    (5): ReLU()\n",
       "  )\n",
       "  (fc): Sequential(\n",
       "    (0): Linear(in_features=2016, out_features=256, bias=True)\n",
       "    (1): ReLU()\n",
       "    (2): Linear(in_features=256, out_features=256, bias=True)\n",
       "  )\n",
       ")"
      ]
     },
     "execution_count": 31,
     "metadata": {},
     "output_type": "execute_result"
    }
   ],
   "source": [
    "# this code also should help you to understand the expectations from your code\n",
    "net = Model(env.observation_space.shape, env.action_space.n)\n",
    "# with eps=1, we don't need parent action selector, as all actions will be random, but that's a corner case!\n",
    "action_selector = ptan.actions.EpsilonGreedyActionSelector(epsilon=1) \n",
    "agent = ptan.agent.DQNAgent(net, action_selector)\n",
    "net"
   ]
  },
  {
   "cell_type": "code",
   "execution_count": 32,
   "metadata": {
    "hidden": true
   },
   "outputs": [
    {
     "name": "stderr",
     "output_type": "stream",
     "text": [
      "[2019-06-28 19:47:26,524] [0:localhost:5900] Sending reset for env_id=wob.mini.ClickDialog-v0 fps=60 episode_id=0\n"
     ]
    }
   ],
   "source": [
    "exp_source = ptan.experience.ExperienceSourceFirstLast(env, agent, gamma=1.0, vectorized=True)\n",
    "batch = [e for _, e in zip(range(5), exp_source)]\n",
    "# add one final state with known reward\n",
    "batch.append(ptan.experience.ExperienceFirstLast(state=batch[0].state, action=0, reward=10.0, last_state=None))"
   ]
  },
  {
   "cell_type": "code",
   "execution_count": 33,
   "metadata": {
    "hidden": true
   },
   "outputs": [],
   "source": [
    "r = unpack_batch(batch, net, gamma=1.0)"
   ]
  },
  {
   "cell_type": "code",
   "execution_count": 34,
   "metadata": {
    "hidden": true
   },
   "outputs": [],
   "source": [
    "assert isinstance(r, tuple)\n",
    "assert len(r) == 3"
   ]
  },
  {
   "cell_type": "code",
   "execution_count": 35,
   "metadata": {
    "hidden": true
   },
   "outputs": [],
   "source": [
    "states, actions, next_q = r"
   ]
  },
  {
   "cell_type": "code",
   "execution_count": 36,
   "metadata": {
    "hidden": true
   },
   "outputs": [],
   "source": [
    "assert isinstance(states, torch.Tensor)\n",
    "assert states.dtype == torch.uint8\n",
    "assert states.size() == (6, 3, 210, 160)\n",
    "\n",
    "assert isinstance(actions, torch.Tensor)\n",
    "assert actions.dtype == torch.long\n",
    "assert actions.size() == (6, )\n",
    "\n",
    "assert isinstance(next_q, torch.Tensor)\n",
    "assert next_q.dtype == torch.float32\n",
    "assert next_q.size() == (6, )\n",
    "\n",
    "assert actions[5] == 0\n",
    "assert next_q[5] == 10.0"
   ]
  },
  {
   "cell_type": "markdown",
   "metadata": {
    "heading_collapsed": true,
    "hidden": true
   },
   "source": [
    "## Batch preparation (solution)\n",
    "\n",
    "Please do not peek inside this, as you'll spoil all the fun :)"
   ]
  },
  {
   "cell_type": "code",
   "execution_count": 9,
   "metadata": {
    "hidden": true
   },
   "outputs": [],
   "source": [
    "@torch.no_grad()\n",
    "def unpack_batch(batch: List[ptan.experience.ExperienceFirstLast], net: nn.Module, gamma: float, device=\"cpu\"):\n",
    "    states = []\n",
    "    actions = []\n",
    "    rewards = []\n",
    "    done_masks = []\n",
    "    last_states = []\n",
    "    for exp in batch:\n",
    "        states.append(exp.state)\n",
    "        actions.append(exp.action)\n",
    "        rewards.append(exp.reward)\n",
    "        done_masks.append(exp.last_state is None)\n",
    "        if exp.last_state is None:\n",
    "            last_states.append(exp.state)\n",
    "        else:\n",
    "            last_states.append(exp.last_state)\n",
    "\n",
    "    states_v = torch.tensor(states).to(device)\n",
    "    actions_v = torch.tensor(actions).to(device)\n",
    "    rewards_v = torch.tensor(rewards).to(device)\n",
    "    last_states_v = torch.tensor(last_states).to(device)\n",
    "    last_state_q_v = net(last_states_v)\n",
    "    best_last_q_v = torch.max(last_state_q_v, dim=1)[0]\n",
    "    best_last_q_v[done_masks] = 0.0\n",
    "    return states_v, actions_v, best_last_q_v + rewards_v"
   ]
  },
  {
   "cell_type": "markdown",
   "metadata": {
    "heading_collapsed": true,
    "hidden": true
   },
   "source": [
    "## Training loop\n",
    "\n",
    "Now we're ready to implement the training loop"
   ]
  },
  {
   "cell_type": "code",
   "execution_count": 199,
   "metadata": {
    "hidden": true
   },
   "outputs": [],
   "source": [
    "GAMMA = 0.9\n",
    "REPLAY_SIZE = 10000\n",
    "MIN_REPLAY = 100\n",
    "TGT_SYNC = 100\n",
    "BATCH_SIZE = 16\n",
    "LR = 1e-3\n",
    "DEVICE = \"cuda\"  \n",
    "#DEVICE = \"cpu\"\n",
    "\n",
    "INITIAL_EPSILON = 1.0\n",
    "FINAL_EPSILON = 0.2\n",
    "STEPS_EPSILON = 1000"
   ]
  },
  {
   "cell_type": "code",
   "execution_count": 200,
   "metadata": {
    "hidden": true
   },
   "outputs": [
    {
     "name": "stderr",
     "output_type": "stream",
     "text": [
      "[2019-06-30 20:02:10,205] Making new env: wob.mini.ClickDialog-v0\n",
      "/home/shmuma/anaconda3/envs/miniwob/lib/python3.6/site-packages/gym/envs/registration.py:17: PkgResourcesDeprecationWarning: Parameters to load are deprecated.  Call .resolve and .require separately.\n",
      "  result = entry_point.load(False)\n",
      "[2019-06-30 20:02:10,209] Using SoftmaxClickMouse with action_region=(10, 125, 170, 285), noclick_regions=[]\n",
      "[2019-06-30 20:02:10,209] SoftmaxClickMouse noclick regions removed 0 of 256 actions\n",
      "[2019-06-30 20:02:10,210] Using the golang VNC implementation\n",
      "[2019-06-30 20:02:10,210] Using VNCSession arguments: {'encoding': 'tight', 'compress_level': 0, 'fine_quality_level': 100, 'subsample_level': 0, 'start_timeout': 7}. (Customize by running \"env.configure(vnc_kwargs={...})\"\n",
      "[2019-06-30 20:02:10,229] [0] Connecting to environment: vnc://localhost:5900 password=openai. If desired, you can manually connect a VNC viewer, such as TurboVNC. Most environments provide a convenient in-browser VNC client: http://localhost:15900/viewer/?password=openai\n"
     ]
    }
   ],
   "source": [
    "env = gym.make(\"wob.mini.ClickDialog-v0\")\n",
    "env = MiniWoBCropper(env)\n",
    "env = SoftmaxClickMouse(env)\n",
    "url = remotes_url(count=1)\n",
    "\n",
    "env.configure(remotes=url, docker_image=DOCKER_IMAGE, fps=1, vnc_kwargs={\n",
    "        'encoding': 'tight', 'compress_level': 0,\n",
    "        'fine_quality_level': 100, 'subsample_level': 0\n",
    "    })\n",
    "obs = env.reset()"
   ]
  },
  {
   "cell_type": "code",
   "execution_count": 201,
   "metadata": {
    "hidden": true
   },
   "outputs": [
    {
     "name": "stderr",
     "output_type": "stream",
     "text": [
      "[2019-06-30 20:02:26,675] [0:localhost:5900] Sending reset for env_id=wob.mini.ClickDialog-v0 fps=60 episode_id=0\n",
      "[2019-06-30 20:02:26,745] [0:localhost:5900] Initial reset complete: episode_id=16745\n"
     ]
    }
   ],
   "source": [
    "while obs[0] is None:\n",
    "    a = env.action_space.sample()\n",
    "    obs, reward, is_done, info = env.step([a])\n",
    "    time.sleep(1)"
   ]
  },
  {
   "cell_type": "code",
   "execution_count": 202,
   "metadata": {
    "hidden": true
   },
   "outputs": [],
   "source": [
    "net = Model(env.observation_space.shape, env.action_space.n).to(DEVICE)\n",
    "tgt_net = ptan.agent.TargetNet(net)\n",
    "\n",
    "parent_selector = ptan.actions.ArgmaxActionSelector()\n",
    "action_selector = ptan.actions.EpsilonGreedyActionSelector(epsilon=INITIAL_EPSILON, selector=parent_selector) \n",
    "agent = ptan.agent.DQNAgent(net, action_selector, device=DEVICE)\n",
    "exp_source = ptan.experience.ExperienceSourceFirstLast(env, agent, gamma=GAMMA, vectorized=True)\n",
    "\n",
    "buffer = ptan.experience.ExperienceReplayBuffer(exp_source, REPLAY_SIZE)\n",
    "optimizer = optim.Adam(net.parameters(), LR)"
   ]
  },
  {
   "cell_type": "code",
   "execution_count": null,
   "metadata": {
    "hidden": true
   },
   "outputs": [
    {
     "name": "stderr",
     "output_type": "stream",
     "text": [
      "[2019-06-30 20:02:28,342] [0:localhost:5900] Sending reset for env_id=wob.mini.ClickDialog-v0 fps=60 episode_id=0\n"
     ]
    },
    {
     "name": "stdout",
     "output_type": "stream",
     "text": [
      "10: Done 1 episodes, last 100 means: reward=-1.000, steps=11.000, speed=0.71 steps/s, eps=1.00\n",
      "20: Done 2 episodes, last 100 means: reward=-1.000, steps=10.500, speed=1.00 steps/s, eps=1.00\n",
      "31: Done 3 episodes, last 100 means: reward=-1.000, steps=10.667, speed=1.00 steps/s, eps=1.00\n",
      "41: Done 4 episodes, last 100 means: reward=-1.000, steps=10.500, speed=1.00 steps/s, eps=1.00\n",
      "52: Done 5 episodes, last 100 means: reward=-1.000, steps=10.600, speed=1.00 steps/s, eps=1.00\n",
      "62: Done 6 episodes, last 100 means: reward=-1.000, steps=10.500, speed=1.00 steps/s, eps=1.00\n",
      "73: Done 7 episodes, last 100 means: reward=-1.000, steps=10.571, speed=1.00 steps/s, eps=1.00\n",
      "83: Done 8 episodes, last 100 means: reward=-0.875, steps=10.500, speed=1.00 steps/s, eps=1.00\n",
      "94: Done 9 episodes, last 100 means: reward=-0.889, steps=10.556, speed=1.00 steps/s, eps=1.00\n",
      "100: nets synced, mean loss for last 100 steps = 0.063\n",
      "104: Done 10 episodes, last 100 means: reward=-0.900, steps=10.500, speed=1.00 steps/s, eps=0.90\n",
      "114: Done 11 episodes, last 100 means: reward=-0.909, steps=10.455, speed=1.00 steps/s, eps=0.89\n",
      "125: Done 12 episodes, last 100 means: reward=-0.917, steps=10.500, speed=1.00 steps/s, eps=0.88\n",
      "135: Done 13 episodes, last 100 means: reward=-0.846, steps=10.462, speed=1.00 steps/s, eps=0.87\n",
      "140: Done 14 episodes, last 100 means: reward=-0.811, steps=10.071, speed=1.00 steps/s, eps=0.86\n",
      "150: Done 15 episodes, last 100 means: reward=-0.824, steps=10.067, speed=1.00 steps/s, eps=0.85\n",
      "161: Done 16 episodes, last 100 means: reward=-0.772, steps=10.125, speed=1.00 steps/s, eps=0.84\n",
      "171: Done 17 episodes, last 100 means: reward=-0.786, steps=10.118, speed=1.00 steps/s, eps=0.83\n",
      "182: Done 18 episodes, last 100 means: reward=-0.798, steps=10.167, speed=1.00 steps/s, eps=0.82\n",
      "192: Done 19 episodes, last 100 means: reward=-0.808, steps=10.158, speed=1.00 steps/s, eps=0.81\n",
      "200: nets synced, mean loss for last 100 steps = 0.065\n",
      "203: Done 20 episodes, last 100 means: reward=-0.818, steps=10.200, speed=1.00 steps/s, eps=0.80\n",
      "213: Done 21 episodes, last 100 means: reward=-0.826, steps=10.190, speed=1.00 steps/s, eps=0.79\n",
      "224: Done 22 episodes, last 100 means: reward=-0.834, steps=10.227, speed=1.00 steps/s, eps=0.78\n",
      "234: Done 23 episodes, last 100 means: reward=-0.842, steps=10.217, speed=1.00 steps/s, eps=0.77\n",
      "245: Done 24 episodes, last 100 means: reward=-0.848, steps=10.250, speed=1.00 steps/s, eps=0.76\n",
      "255: Done 26 episodes, last 100 means: reward=-0.744, steps=9.885, speed=0.91 steps/s, eps=0.75\n",
      "265: Done 27 episodes, last 100 means: reward=-0.754, steps=9.889, speed=1.11 steps/s, eps=0.74\n",
      "266: Done 28 episodes, last 100 means: reward=-0.696, steps=9.607, speed=0.33 steps/s, eps=0.73\n",
      "277: Done 29 episodes, last 100 means: reward=-0.672, steps=9.655, speed=1.00 steps/s, eps=0.72\n",
      "284: Done 30 episodes, last 100 means: reward=-0.637, steps=9.567, speed=1.00 steps/s, eps=0.72\n",
      "287: Done 31 episodes, last 100 means: reward=-0.591, steps=9.355, speed=1.00 steps/s, eps=0.71\n",
      "297: Done 32 episodes, last 100 means: reward=-0.604, steps=9.375, speed=1.00 steps/s, eps=0.70\n",
      "300: nets synced, mean loss for last 100 steps = 0.087\n",
      "307: Done 33 episodes, last 100 means: reward=-0.616, steps=9.394, speed=1.00 steps/s, eps=0.69\n",
      "318: Done 34 episodes, last 100 means: reward=-0.598, steps=9.441, speed=1.00 steps/s, eps=0.68\n",
      "328: Done 35 episodes, last 100 means: reward=-0.638, steps=9.457, speed=1.00 steps/s, eps=0.67\n",
      "339: Done 36 episodes, last 100 means: reward=-0.648, steps=9.500, speed=1.00 steps/s, eps=0.66\n",
      "349: Done 37 episodes, last 100 means: reward=-0.658, steps=9.514, speed=1.00 steps/s, eps=0.65\n",
      "360: Done 38 episodes, last 100 means: reward=-0.667, steps=9.553, speed=1.00 steps/s, eps=0.64\n",
      "370: Done 39 episodes, last 100 means: reward=-0.650, steps=9.564, speed=1.00 steps/s, eps=0.63\n",
      "381: Done 40 episodes, last 100 means: reward=-0.683, steps=9.600, speed=1.00 steps/s, eps=0.62\n",
      "391: Done 41 episodes, last 100 means: reward=-0.691, steps=9.610, speed=1.00 steps/s, eps=0.61\n",
      "400: nets synced, mean loss for last 100 steps = 0.089\n",
      "402: Done 42 episodes, last 100 means: reward=-0.698, steps=9.643, speed=1.00 steps/s, eps=0.60\n",
      "412: Done 43 episodes, last 100 means: reward=-0.705, steps=9.651, speed=1.00 steps/s, eps=0.59\n",
      "423: Done 44 episodes, last 100 means: reward=-0.712, steps=9.682, speed=1.00 steps/s, eps=0.58\n",
      "433: Done 45 episodes, last 100 means: reward=-0.718, steps=9.689, speed=1.00 steps/s, eps=0.57\n",
      "444: Done 46 episodes, last 100 means: reward=-0.725, steps=9.717, speed=1.00 steps/s, eps=0.56\n",
      "454: Done 47 episodes, last 100 means: reward=-0.730, steps=9.723, speed=1.00 steps/s, eps=0.55\n",
      "465: Done 48 episodes, last 100 means: reward=-0.736, steps=9.750, speed=1.00 steps/s, eps=0.54\n",
      "476: Done 49 episodes, last 100 means: reward=-0.741, steps=9.776, speed=1.00 steps/s, eps=0.53\n",
      "486: Done 50 episodes, last 100 means: reward=-0.747, steps=9.780, speed=1.00 steps/s, eps=0.52\n",
      "496: Done 51 episodes, last 100 means: reward=-0.752, steps=9.784, speed=1.00 steps/s, eps=0.51\n",
      "500: nets synced, mean loss for last 100 steps = 0.102\n",
      "507: Done 52 episodes, last 100 means: reward=-0.756, steps=9.808, speed=1.00 steps/s, eps=0.49\n",
      "517: Done 53 episodes, last 100 means: reward=-0.761, steps=9.811, speed=1.00 steps/s, eps=0.48\n",
      "528: Done 54 episodes, last 100 means: reward=-0.765, steps=9.833, speed=0.99 steps/s, eps=0.47\n",
      "538: Done 55 episodes, last 100 means: reward=-0.770, steps=9.836, speed=1.00 steps/s, eps=0.46\n",
      "549: Done 56 episodes, last 100 means: reward=-0.756, steps=9.857, speed=1.00 steps/s, eps=0.45\n",
      "559: Done 57 episodes, last 100 means: reward=-0.778, steps=9.860, speed=1.00 steps/s, eps=0.44\n",
      "570: Done 58 episodes, last 100 means: reward=-0.782, steps=9.879, speed=1.00 steps/s, eps=0.43\n",
      "580: Done 59 episodes, last 100 means: reward=-0.785, steps=9.881, speed=1.00 steps/s, eps=0.42\n",
      "591: Done 60 episodes, last 100 means: reward=-0.789, steps=9.900, speed=1.00 steps/s, eps=0.41\n",
      "600: nets synced, mean loss for last 100 steps = 0.111\n",
      "601: Done 61 episodes, last 100 means: reward=-0.792, steps=9.902, speed=1.00 steps/s, eps=0.40\n",
      "612: Done 62 episodes, last 100 means: reward=-0.796, steps=9.919, speed=1.00 steps/s, eps=0.39\n",
      "622: Done 63 episodes, last 100 means: reward=-0.799, steps=9.921, speed=1.00 steps/s, eps=0.38\n",
      "631: Done 64 episodes, last 100 means: reward=-0.783, steps=9.906, speed=1.00 steps/s, eps=0.37\n",
      "641: Done 65 episodes, last 100 means: reward=-0.786, steps=9.908, speed=1.00 steps/s, eps=0.36\n",
      "652: Done 66 episodes, last 100 means: reward=-0.774, steps=9.924, speed=1.00 steps/s, eps=0.35\n",
      "662: Done 67 episodes, last 100 means: reward=-0.777, steps=9.925, speed=1.00 steps/s, eps=0.34\n",
      "673: Done 68 episodes, last 100 means: reward=-0.781, steps=9.941, speed=1.00 steps/s, eps=0.33\n",
      "683: Done 69 episodes, last 100 means: reward=-0.784, steps=9.942, speed=1.00 steps/s, eps=0.32\n",
      "694: Done 70 episodes, last 100 means: reward=-0.787, steps=9.957, speed=1.00 steps/s, eps=0.31\n",
      "700: nets synced, mean loss for last 100 steps = 0.153\n",
      "704: Done 71 episodes, last 100 means: reward=-0.790, steps=9.958, speed=1.00 steps/s, eps=0.30\n",
      "715: Done 72 episodes, last 100 means: reward=-0.793, steps=9.972, speed=1.00 steps/s, eps=0.29\n",
      "725: Done 73 episodes, last 100 means: reward=-0.796, steps=9.973, speed=1.00 steps/s, eps=0.28\n",
      "736: Done 74 episodes, last 100 means: reward=-0.799, steps=9.986, speed=1.00 steps/s, eps=0.27\n",
      "746: Done 75 episodes, last 100 means: reward=-0.801, steps=9.987, speed=1.00 steps/s, eps=0.26\n",
      "757: Done 76 episodes, last 100 means: reward=-0.804, steps=10.000, speed=1.00 steps/s, eps=0.24\n",
      "767: Done 77 episodes, last 100 means: reward=-0.806, steps=10.000, speed=1.00 steps/s, eps=0.23\n",
      "778: Done 78 episodes, last 100 means: reward=-0.809, steps=10.013, speed=1.00 steps/s, eps=0.22\n",
      "788: Done 79 episodes, last 100 means: reward=-0.811, steps=10.013, speed=1.00 steps/s, eps=0.21\n",
      "799: Done 80 episodes, last 100 means: reward=-0.801, steps=10.025, speed=1.00 steps/s, eps=0.20\n",
      "800: nets synced, mean loss for last 100 steps = 0.152\n",
      "809: Done 81 episodes, last 100 means: reward=-0.803, steps=10.025, speed=1.00 steps/s, eps=0.20\n",
      "820: Done 82 episodes, last 100 means: reward=-0.806, steps=10.037, speed=1.00 steps/s, eps=0.20\n"
     ]
    },
    {
     "name": "stdout",
     "output_type": "stream",
     "text": [
      "830: Done 83 episodes, last 100 means: reward=-0.808, steps=10.036, speed=1.00 steps/s, eps=0.20\n",
      "841: Done 84 episodes, last 100 means: reward=-0.799, steps=10.048, speed=1.00 steps/s, eps=0.20\n",
      "851: Done 85 episodes, last 100 means: reward=-0.813, steps=10.047, speed=1.00 steps/s, eps=0.20\n",
      "862: Done 86 episodes, last 100 means: reward=-0.815, steps=10.058, speed=1.00 steps/s, eps=0.20\n",
      "870: Done 87 episodes, last 100 means: reward=-0.803, steps=10.034, speed=1.00 steps/s, eps=0.20\n",
      "880: Done 88 episodes, last 100 means: reward=-0.805, steps=10.034, speed=1.00 steps/s, eps=0.20\n",
      "891: Done 89 episodes, last 100 means: reward=-0.807, steps=10.045, speed=1.00 steps/s, eps=0.20\n",
      "894: Done 90 episodes, last 100 means: reward=-0.790, steps=9.967, speed=1.00 steps/s, eps=0.20\n",
      "900: nets synced, mean loss for last 100 steps = 0.192\n",
      "904: Done 91 episodes, last 100 means: reward=-0.792, steps=9.967, speed=1.00 steps/s, eps=0.20\n",
      "914: Done 92 episodes, last 100 means: reward=-0.794, steps=9.967, speed=1.00 steps/s, eps=0.20\n",
      "925: Done 93 episodes, last 100 means: reward=-0.796, steps=9.978, speed=1.00 steps/s, eps=0.20\n",
      "935: Done 94 episodes, last 100 means: reward=-0.787, steps=9.979, speed=1.00 steps/s, eps=0.20\n",
      "945: Done 95 episodes, last 100 means: reward=-0.789, steps=9.979, speed=1.00 steps/s, eps=0.20\n",
      "956: Done 96 episodes, last 100 means: reward=-0.791, steps=9.990, speed=1.00 steps/s, eps=0.20\n",
      "966: Done 97 episodes, last 100 means: reward=-0.794, steps=9.990, speed=1.00 steps/s, eps=0.20\n",
      "977: Done 98 episodes, last 100 means: reward=-0.796, steps=10.000, speed=1.00 steps/s, eps=0.20\n",
      "987: Done 99 episodes, last 100 means: reward=-0.798, steps=10.000, speed=1.00 steps/s, eps=0.20\n",
      "998: Done 100 episodes, last 100 means: reward=-0.800, steps=10.010, speed=1.00 steps/s, eps=0.20\n",
      "1000: nets synced, mean loss for last 100 steps = 0.247\n",
      "1008: Done 101 episodes, last 100 means: reward=-0.800, steps=10.000, speed=1.00 steps/s, eps=0.20\n",
      "1019: Done 102 episodes, last 100 means: reward=-0.800, steps=10.010, speed=1.00 steps/s, eps=0.20\n",
      "1029: Done 103 episodes, last 100 means: reward=-0.800, steps=10.000, speed=1.00 steps/s, eps=0.20\n",
      "1040: Done 104 episodes, last 100 means: reward=-0.800, steps=10.010, speed=1.00 steps/s, eps=0.20\n",
      "1050: Done 105 episodes, last 100 means: reward=-0.800, steps=10.000, speed=1.00 steps/s, eps=0.20\n",
      "1061: Done 106 episodes, last 100 means: reward=-0.800, steps=10.010, speed=1.00 steps/s, eps=0.20\n",
      "1069: Done 107 episodes, last 100 means: reward=-0.787, steps=9.980, speed=1.00 steps/s, eps=0.20\n",
      "1072: Done 108 episodes, last 100 means: reward=-0.780, steps=9.910, speed=1.00 steps/s, eps=0.20\n",
      "1082: Done 109 episodes, last 100 means: reward=-0.780, steps=9.900, speed=1.00 steps/s, eps=0.20\n",
      "1092: Done 110 episodes, last 100 means: reward=-0.780, steps=9.900, speed=1.00 steps/s, eps=0.20\n",
      "1100: nets synced, mean loss for last 100 steps = 0.241\n",
      "1103: Done 111 episodes, last 100 means: reward=-0.780, steps=9.910, speed=1.00 steps/s, eps=0.20\n",
      "1113: Done 112 episodes, last 100 means: reward=-0.780, steps=9.900, speed=1.00 steps/s, eps=0.20\n",
      "1124: Done 113 episodes, last 100 means: reward=-0.790, steps=9.910, speed=1.00 steps/s, eps=0.20\n",
      "1127: Done 114 episodes, last 100 means: reward=-0.778, steps=9.890, speed=1.00 steps/s, eps=0.20\n",
      "1137: Done 115 episodes, last 100 means: reward=-0.778, steps=9.890, speed=1.00 steps/s, eps=0.20\n",
      "1147: Done 116 episodes, last 100 means: reward=-0.788, steps=9.880, speed=1.00 steps/s, eps=0.20\n",
      "1158: Done 117 episodes, last 100 means: reward=-0.788, steps=9.890, speed=1.00 steps/s, eps=0.20\n",
      "1168: Done 118 episodes, last 100 means: reward=-0.788, steps=9.880, speed=1.00 steps/s, eps=0.20\n",
      "1179: Done 119 episodes, last 100 means: reward=-0.788, steps=9.890, speed=1.00 steps/s, eps=0.20\n",
      "1189: Done 120 episodes, last 100 means: reward=-0.788, steps=9.880, speed=1.00 steps/s, eps=0.20\n",
      "1200: Done 121 episodes, last 100 means: reward=-0.788, steps=9.890, speed=1.00 steps/s, eps=0.20\n",
      "1200: nets synced, mean loss for last 100 steps = 0.261\n",
      "1210: Done 122 episodes, last 100 means: reward=-0.788, steps=9.880, speed=1.00 steps/s, eps=0.20\n",
      "1221: Done 123 episodes, last 100 means: reward=-0.788, steps=9.890, speed=1.00 steps/s, eps=0.20\n",
      "1231: Done 124 episodes, last 100 means: reward=-0.788, steps=9.880, speed=1.00 steps/s, eps=0.20\n",
      "1242: Done 125 episodes, last 100 means: reward=-0.798, steps=9.890, speed=1.00 steps/s, eps=0.20\n",
      "1252: Done 126 episodes, last 100 means: reward=-0.818, steps=9.980, speed=1.00 steps/s, eps=0.20\n",
      "1263: Done 127 episodes, last 100 means: reward=-0.818, steps=9.990, speed=1.00 steps/s, eps=0.20\n",
      "1273: Done 128 episodes, last 100 means: reward=-0.837, steps=10.070, speed=1.00 steps/s, eps=0.20\n",
      "1284: Done 129 episodes, last 100 means: reward=-0.847, steps=10.070, speed=1.00 steps/s, eps=0.20\n",
      "1294: Done 130 episodes, last 100 means: reward=-0.860, steps=10.100, speed=1.00 steps/s, eps=0.20\n",
      "1300: nets synced, mean loss for last 100 steps = 0.380\n",
      "1305: Done 131 episodes, last 100 means: reward=-0.878, steps=10.180, speed=1.00 steps/s, eps=0.20\n",
      "1315: Done 132 episodes, last 100 means: reward=-0.878, steps=10.180, speed=1.00 steps/s, eps=0.20\n",
      "1326: Done 133 episodes, last 100 means: reward=-0.878, steps=10.190, speed=1.00 steps/s, eps=0.20\n",
      "1337: Done 134 episodes, last 100 means: reward=-0.888, steps=10.190, speed=1.00 steps/s, eps=0.20\n",
      "1347: Done 135 episodes, last 100 means: reward=-0.878, steps=10.190, speed=1.00 steps/s, eps=0.20\n",
      "1357: Done 136 episodes, last 100 means: reward=-0.878, steps=10.180, speed=1.00 steps/s, eps=0.20\n",
      "1368: Done 137 episodes, last 100 means: reward=-0.878, steps=10.190, speed=1.00 steps/s, eps=0.20\n",
      "1379: Done 138 episodes, last 100 means: reward=-0.878, steps=10.190, speed=1.00 steps/s, eps=0.20\n",
      "1389: Done 139 episodes, last 100 means: reward=-0.888, steps=10.190, speed=1.00 steps/s, eps=0.20\n",
      "1400: Done 140 episodes, last 100 means: reward=-0.878, steps=10.190, speed=1.00 steps/s, eps=0.20\n",
      "1400: nets synced, mean loss for last 100 steps = 0.374\n",
      "1410: Done 141 episodes, last 100 means: reward=-0.878, steps=10.190, speed=1.00 steps/s, eps=0.20\n",
      "1421: Done 142 episodes, last 100 means: reward=-0.878, steps=10.190, speed=1.00 steps/s, eps=0.20\n",
      "1431: Done 143 episodes, last 100 means: reward=-0.878, steps=10.190, speed=1.00 steps/s, eps=0.20\n",
      "1441: Done 144 episodes, last 100 means: reward=-0.867, steps=10.180, speed=1.00 steps/s, eps=0.20\n",
      "1451: Done 145 episodes, last 100 means: reward=-0.867, steps=10.180, speed=1.00 steps/s, eps=0.20\n",
      "1462: Done 146 episodes, last 100 means: reward=-0.867, steps=10.180, speed=1.00 steps/s, eps=0.20\n",
      "1472: Done 147 episodes, last 100 means: reward=-0.867, steps=10.180, speed=1.00 steps/s, eps=0.20\n",
      "1483: Done 148 episodes, last 100 means: reward=-0.867, steps=10.180, speed=1.00 steps/s, eps=0.20\n",
      "1493: Done 149 episodes, last 100 means: reward=-0.867, steps=10.170, speed=1.00 steps/s, eps=0.20\n",
      "1500: nets synced, mean loss for last 100 steps = 0.547\n",
      "1504: Done 150 episodes, last 100 means: reward=-0.857, steps=10.180, speed=1.00 steps/s, eps=0.20\n",
      "1514: Done 151 episodes, last 100 means: reward=-0.867, steps=10.180, speed=1.00 steps/s, eps=0.20\n",
      "1525: Done 152 episodes, last 100 means: reward=-0.867, steps=10.180, speed=1.00 steps/s, eps=0.20\n",
      "1535: Done 153 episodes, last 100 means: reward=-0.867, steps=10.180, speed=1.11 steps/s, eps=0.20\n",
      "1536: Done 154 episodes, last 100 means: reward=-0.848, steps=10.090, speed=0.33 steps/s, eps=0.20\n",
      "1546: Done 155 episodes, last 100 means: reward=-0.848, steps=10.090, speed=1.00 steps/s, eps=0.20\n",
      "1557: Done 156 episodes, last 100 means: reward=-0.848, steps=10.090, speed=1.00 steps/s, eps=0.20\n",
      "1567: Done 157 episodes, last 100 means: reward=-0.848, steps=10.090, speed=1.00 steps/s, eps=0.20\n",
      "1578: Done 158 episodes, last 100 means: reward=-0.848, steps=10.090, speed=1.00 steps/s, eps=0.20\n",
      "1588: Done 159 episodes, last 100 means: reward=-0.848, steps=10.090, speed=1.00 steps/s, eps=0.20\n",
      "1599: Done 160 episodes, last 100 means: reward=-0.848, steps=10.090, speed=1.00 steps/s, eps=0.20\n",
      "1600: nets synced, mean loss for last 100 steps = 0.699\n",
      "1609: Done 161 episodes, last 100 means: reward=-0.848, steps=10.090, speed=1.00 steps/s, eps=0.20\n"
     ]
    },
    {
     "name": "stdout",
     "output_type": "stream",
     "text": [
      "1620: Done 162 episodes, last 100 means: reward=-0.848, steps=10.090, speed=1.00 steps/s, eps=0.20\n",
      "1630: Done 163 episodes, last 100 means: reward=-0.848, steps=10.090, speed=1.00 steps/s, eps=0.20\n",
      "1641: Done 164 episodes, last 100 means: reward=-0.861, steps=10.110, speed=1.00 steps/s, eps=0.20\n",
      "1651: Done 165 episodes, last 100 means: reward=-0.861, steps=10.110, speed=1.00 steps/s, eps=0.20\n",
      "1662: Done 166 episodes, last 100 means: reward=-0.861, steps=10.110, speed=1.00 steps/s, eps=0.20\n",
      "1672: Done 167 episodes, last 100 means: reward=-0.861, steps=10.110, speed=1.00 steps/s, eps=0.20\n",
      "1683: Done 168 episodes, last 100 means: reward=-0.861, steps=10.110, speed=1.00 steps/s, eps=0.20\n",
      "1693: Done 169 episodes, last 100 means: reward=-0.861, steps=10.110, speed=1.00 steps/s, eps=0.20\n",
      "1700: nets synced, mean loss for last 100 steps = 0.810\n",
      "1704: Done 170 episodes, last 100 means: reward=-0.861, steps=10.110, speed=1.00 steps/s, eps=0.20\n",
      "1714: Done 171 episodes, last 100 means: reward=-0.861, steps=10.110, speed=1.00 steps/s, eps=0.20\n",
      "1721: Done 173 episodes, last 100 means: reward=-0.827, steps=9.980, speed=0.87 steps/s, eps=0.20\n",
      "1731: Done 174 episodes, last 100 means: reward=-0.827, steps=9.970, speed=1.00 steps/s, eps=0.20\n",
      "1742: Done 175 episodes, last 100 means: reward=-0.827, steps=9.980, speed=1.00 steps/s, eps=0.20\n",
      "1752: Done 176 episodes, last 100 means: reward=-0.827, steps=9.970, speed=1.00 steps/s, eps=0.20\n",
      "1763: Done 177 episodes, last 100 means: reward=-0.827, steps=9.980, speed=1.00 steps/s, eps=0.20\n",
      "1773: Done 178 episodes, last 100 means: reward=-0.827, steps=9.970, speed=1.00 steps/s, eps=0.20\n",
      "1784: Done 179 episodes, last 100 means: reward=-0.827, steps=9.980, speed=1.00 steps/s, eps=0.20\n",
      "1794: Done 180 episodes, last 100 means: reward=-0.837, steps=9.970, speed=1.00 steps/s, eps=0.20\n",
      "1800: nets synced, mean loss for last 100 steps = 1.100\n",
      "1805: Done 181 episodes, last 100 means: reward=-0.837, steps=9.980, speed=1.00 steps/s, eps=0.20\n",
      "1815: Done 182 episodes, last 100 means: reward=-0.837, steps=9.970, speed=1.00 steps/s, eps=0.20\n",
      "1826: Done 183 episodes, last 100 means: reward=-0.837, steps=9.980, speed=1.00 steps/s, eps=0.20\n",
      "1836: Done 184 episodes, last 100 means: reward=-0.847, steps=9.970, speed=1.00 steps/s, eps=0.20\n",
      "1847: Done 185 episodes, last 100 means: reward=-0.837, steps=9.980, speed=1.00 steps/s, eps=0.20\n",
      "1857: Done 186 episodes, last 100 means: reward=-0.837, steps=9.970, speed=1.00 steps/s, eps=0.20\n",
      "1868: Done 187 episodes, last 100 means: reward=-0.849, steps=10.000, speed=1.00 steps/s, eps=0.20\n",
      "1878: Done 188 episodes, last 100 means: reward=-0.849, steps=10.000, speed=1.00 steps/s, eps=0.20\n",
      "1889: Done 189 episodes, last 100 means: reward=-0.849, steps=10.000, speed=1.00 steps/s, eps=0.20\n",
      "1899: Done 190 episodes, last 100 means: reward=-0.867, steps=10.070, speed=1.00 steps/s, eps=0.20\n",
      "1900: nets synced, mean loss for last 100 steps = 1.460\n",
      "1910: Done 191 episodes, last 100 means: reward=-0.867, steps=10.080, speed=1.00 steps/s, eps=0.20\n",
      "1920: Done 192 episodes, last 100 means: reward=-0.867, steps=10.080, speed=1.00 steps/s, eps=0.20\n",
      "1931: Done 193 episodes, last 100 means: reward=-0.867, steps=10.080, speed=1.00 steps/s, eps=0.20\n",
      "1941: Done 194 episodes, last 100 means: reward=-0.878, steps=10.080, speed=1.00 steps/s, eps=0.20\n",
      "1952: Done 195 episodes, last 100 means: reward=-0.878, steps=10.090, speed=1.00 steps/s, eps=0.20\n",
      "1962: Done 196 episodes, last 100 means: reward=-0.878, steps=10.080, speed=1.00 steps/s, eps=0.20\n",
      "1973: Done 197 episodes, last 100 means: reward=-0.878, steps=10.090, speed=1.00 steps/s, eps=0.20\n",
      "1983: Done 198 episodes, last 100 means: reward=-0.878, steps=10.080, speed=1.00 steps/s, eps=0.20\n",
      "1994: Done 199 episodes, last 100 means: reward=-0.878, steps=10.090, speed=1.00 steps/s, eps=0.20\n",
      "2000: nets synced, mean loss for last 100 steps = 1.522\n",
      "2004: Done 200 episodes, last 100 means: reward=-0.878, steps=10.080, speed=1.00 steps/s, eps=0.20\n",
      "2015: Done 201 episodes, last 100 means: reward=-0.878, steps=10.090, speed=1.00 steps/s, eps=0.20\n",
      "2025: Done 202 episodes, last 100 means: reward=-0.878, steps=10.080, speed=1.00 steps/s, eps=0.20\n",
      "2036: Done 203 episodes, last 100 means: reward=-0.878, steps=10.090, speed=1.00 steps/s, eps=0.20\n",
      "2046: Done 204 episodes, last 100 means: reward=-0.878, steps=10.080, speed=1.00 steps/s, eps=0.20\n",
      "2057: Done 205 episodes, last 100 means: reward=-0.878, steps=10.090, speed=1.00 steps/s, eps=0.20\n",
      "2067: Done 206 episodes, last 100 means: reward=-0.878, steps=10.080, speed=1.00 steps/s, eps=0.20\n",
      "2078: Done 207 episodes, last 100 means: reward=-0.891, steps=10.110, speed=1.00 steps/s, eps=0.20\n",
      "2088: Done 208 episodes, last 100 means: reward=-0.908, steps=10.180, speed=1.00 steps/s, eps=0.20\n",
      "2091: Done 209 episodes, last 100 means: reward=-0.890, steps=10.110, speed=1.00 steps/s, eps=0.20\n",
      "2100: nets synced, mean loss for last 100 steps = 1.349\n",
      "2101: Done 210 episodes, last 100 means: reward=-0.890, steps=10.110, speed=1.00 steps/s, eps=0.20\n",
      "2104: Done 211 episodes, last 100 means: reward=-0.872, steps=10.030, speed=1.00 steps/s, eps=0.20\n",
      "2114: Done 212 episodes, last 100 means: reward=-0.872, steps=10.030, speed=1.00 steps/s, eps=0.20\n",
      "2124: Done 213 episodes, last 100 means: reward=-0.862, steps=10.020, speed=1.00 steps/s, eps=0.20\n",
      "2135: Done 214 episodes, last 100 means: reward=-0.880, steps=10.100, speed=1.00 steps/s, eps=0.20\n",
      "2145: Done 215 episodes, last 100 means: reward=-0.880, steps=10.100, speed=1.00 steps/s, eps=0.20\n",
      "2156: Done 216 episodes, last 100 means: reward=-0.880, steps=10.110, speed=1.00 steps/s, eps=0.20\n",
      "2166: Done 217 episodes, last 100 means: reward=-0.880, steps=10.100, speed=1.00 steps/s, eps=0.20\n",
      "2177: Done 218 episodes, last 100 means: reward=-0.880, steps=10.110, speed=1.00 steps/s, eps=0.20\n",
      "2187: Done 219 episodes, last 100 means: reward=-0.880, steps=10.100, speed=1.00 steps/s, eps=0.20\n",
      "2198: Done 220 episodes, last 100 means: reward=-0.880, steps=10.110, speed=1.00 steps/s, eps=0.20\n",
      "2200: nets synced, mean loss for last 100 steps = 1.882\n",
      "2208: Done 221 episodes, last 100 means: reward=-0.880, steps=10.100, speed=1.00 steps/s, eps=0.20\n",
      "2219: Done 222 episodes, last 100 means: reward=-0.880, steps=10.110, speed=1.00 steps/s, eps=0.20\n",
      "2229: Done 223 episodes, last 100 means: reward=-0.880, steps=10.100, speed=1.00 steps/s, eps=0.20\n",
      "2240: Done 224 episodes, last 100 means: reward=-0.880, steps=10.110, speed=1.00 steps/s, eps=0.20\n",
      "2250: Done 225 episodes, last 100 means: reward=-0.870, steps=10.100, speed=1.00 steps/s, eps=0.20\n",
      "2261: Done 226 episodes, last 100 means: reward=-0.870, steps=10.110, speed=1.00 steps/s, eps=0.20\n",
      "2271: Done 227 episodes, last 100 means: reward=-0.870, steps=10.100, speed=1.00 steps/s, eps=0.20\n",
      "2282: Done 228 episodes, last 100 means: reward=-0.870, steps=10.110, speed=1.00 steps/s, eps=0.20\n",
      "2292: Done 229 episodes, last 100 means: reward=-0.870, steps=10.100, speed=1.00 steps/s, eps=0.20\n",
      "2300: nets synced, mean loss for last 100 steps = 2.099\n",
      "2301: Done 230 episodes, last 100 means: reward=-0.857, steps=10.090, speed=1.00 steps/s, eps=0.20\n",
      "2311: Done 231 episodes, last 100 means: reward=-0.857, steps=10.080, speed=1.00 steps/s, eps=0.20\n",
      "2322: Done 232 episodes, last 100 means: reward=-0.857, steps=10.090, speed=1.00 steps/s, eps=0.20\n",
      "2332: Done 233 episodes, last 100 means: reward=-0.857, steps=10.080, speed=1.00 steps/s, eps=0.20\n",
      "2343: Done 234 episodes, last 100 means: reward=-0.857, steps=10.080, speed=1.10 steps/s, eps=0.20\n",
      "2344: Done 235 episodes, last 100 means: reward=-0.839, steps=10.000, speed=0.33 steps/s, eps=0.20\n",
      "2354: Done 236 episodes, last 100 means: reward=-0.839, steps=10.000, speed=1.00 steps/s, eps=0.20\n",
      "2365: Done 237 episodes, last 100 means: reward=-0.839, steps=10.000, speed=1.00 steps/s, eps=0.20\n",
      "2375: Done 238 episodes, last 100 means: reward=-0.839, steps=9.990, speed=1.00 steps/s, eps=0.20\n",
      "2386: Done 239 episodes, last 100 means: reward=-0.839, steps=10.000, speed=1.00 steps/s, eps=0.20\n",
      "2396: Done 240 episodes, last 100 means: reward=-0.839, steps=9.990, speed=1.00 steps/s, eps=0.20\n",
      "2400: nets synced, mean loss for last 100 steps = 2.578\n",
      "2407: Done 241 episodes, last 100 means: reward=-0.839, steps=10.000, speed=1.00 steps/s, eps=0.20\n"
     ]
    },
    {
     "name": "stdout",
     "output_type": "stream",
     "text": [
      "2417: Done 242 episodes, last 100 means: reward=-0.839, steps=9.990, speed=1.00 steps/s, eps=0.20\n",
      "2428: Done 243 episodes, last 100 means: reward=-0.839, steps=10.000, speed=1.00 steps/s, eps=0.20\n",
      "2438: Done 244 episodes, last 100 means: reward=-0.850, steps=10.000, speed=1.00 steps/s, eps=0.20\n",
      "2449: Done 245 episodes, last 100 means: reward=-0.850, steps=10.010, speed=1.00 steps/s, eps=0.20\n",
      "2459: Done 246 episodes, last 100 means: reward=-0.850, steps=10.000, speed=1.00 steps/s, eps=0.20\n",
      "2470: Done 247 episodes, last 100 means: reward=-0.850, steps=10.010, speed=1.00 steps/s, eps=0.20\n",
      "2480: Done 248 episodes, last 100 means: reward=-0.850, steps=10.000, speed=1.00 steps/s, eps=0.20\n",
      "2491: Done 249 episodes, last 100 means: reward=-0.850, steps=10.010, speed=1.00 steps/s, eps=0.20\n",
      "2500: nets synced, mean loss for last 100 steps = 2.827\n",
      "2501: Done 250 episodes, last 100 means: reward=-0.850, steps=10.000, speed=1.00 steps/s, eps=0.20\n",
      "2512: Done 251 episodes, last 100 means: reward=-0.840, steps=10.010, speed=1.00 steps/s, eps=0.20\n",
      "2522: Done 252 episodes, last 100 means: reward=-0.840, steps=10.000, speed=1.00 steps/s, eps=0.20\n",
      "2533: Done 253 episodes, last 100 means: reward=-0.840, steps=10.010, speed=1.00 steps/s, eps=0.20\n",
      "2543: Done 254 episodes, last 100 means: reward=-0.859, steps=10.090, speed=1.00 steps/s, eps=0.20\n",
      "2554: Done 255 episodes, last 100 means: reward=-0.849, steps=10.100, speed=1.00 steps/s, eps=0.20\n",
      "2564: Done 256 episodes, last 100 means: reward=-0.869, steps=10.090, speed=1.00 steps/s, eps=0.20\n",
      "2575: Done 257 episodes, last 100 means: reward=-0.859, steps=10.100, speed=1.00 steps/s, eps=0.20\n",
      "2585: Done 258 episodes, last 100 means: reward=-0.859, steps=10.090, speed=1.00 steps/s, eps=0.20\n",
      "2596: Done 259 episodes, last 100 means: reward=-0.859, steps=10.100, speed=1.00 steps/s, eps=0.20\n",
      "2600: nets synced, mean loss for last 100 steps = 2.858\n",
      "2606: Done 260 episodes, last 100 means: reward=-0.859, steps=10.090, speed=1.11 steps/s, eps=0.20\n",
      "2607: Done 261 episodes, last 100 means: reward=-0.840, steps=10.010, speed=0.33 steps/s, eps=0.20\n",
      "2617: Done 262 episodes, last 100 means: reward=-0.840, steps=10.000, speed=1.00 steps/s, eps=0.20\n",
      "2628: Done 263 episodes, last 100 means: reward=-0.840, steps=10.010, speed=1.00 steps/s, eps=0.20\n",
      "2638: Done 264 episodes, last 100 means: reward=-0.840, steps=10.000, speed=1.00 steps/s, eps=0.20\n",
      "2649: Done 265 episodes, last 100 means: reward=-0.830, steps=10.010, speed=1.00 steps/s, eps=0.20\n",
      "2654: Done 266 episodes, last 100 means: reward=-0.824, steps=9.950, speed=1.00 steps/s, eps=0.20\n",
      "2664: Done 267 episodes, last 100 means: reward=-0.824, steps=9.950, speed=1.00 steps/s, eps=0.20\n",
      "2675: Done 268 episodes, last 100 means: reward=-0.824, steps=9.950, speed=1.00 steps/s, eps=0.20\n",
      "2685: Done 269 episodes, last 100 means: reward=-0.824, steps=9.950, speed=1.00 steps/s, eps=0.20\n",
      "2696: Done 270 episodes, last 100 means: reward=-0.824, steps=9.950, speed=1.00 steps/s, eps=0.20\n",
      "2700: nets synced, mean loss for last 100 steps = 3.157\n",
      "2706: Done 271 episodes, last 100 means: reward=-0.824, steps=9.950, speed=1.00 steps/s, eps=0.20\n",
      "2717: Done 272 episodes, last 100 means: reward=-0.838, steps=9.990, speed=1.00 steps/s, eps=0.20\n",
      "2727: Done 273 episodes, last 100 means: reward=-0.858, steps=10.080, speed=1.00 steps/s, eps=0.20\n",
      "2738: Done 274 episodes, last 100 means: reward=-0.858, steps=10.090, speed=1.00 steps/s, eps=0.20\n",
      "2748: Done 275 episodes, last 100 means: reward=-0.858, steps=10.080, speed=1.00 steps/s, eps=0.20\n",
      "2759: Done 276 episodes, last 100 means: reward=-0.848, steps=10.090, speed=1.00 steps/s, eps=0.20\n",
      "2769: Done 277 episodes, last 100 means: reward=-0.848, steps=10.080, speed=1.00 steps/s, eps=0.20\n",
      "2774: Done 278 episodes, last 100 means: reward=-0.832, steps=10.030, speed=1.00 steps/s, eps=0.20\n",
      "2784: Done 279 episodes, last 100 means: reward=-0.832, steps=10.020, speed=1.00 steps/s, eps=0.20\n",
      "2795: Done 280 episodes, last 100 means: reward=-0.832, steps=10.030, speed=1.00 steps/s, eps=0.20\n",
      "2800: nets synced, mean loss for last 100 steps = 3.775\n",
      "2805: Done 281 episodes, last 100 means: reward=-0.832, steps=10.020, speed=1.00 steps/s, eps=0.20\n",
      "2816: Done 282 episodes, last 100 means: reward=-0.832, steps=10.030, speed=1.00 steps/s, eps=0.20\n",
      "2826: Done 283 episodes, last 100 means: reward=-0.832, steps=10.020, speed=1.00 steps/s, eps=0.20\n",
      "2837: Done 284 episodes, last 100 means: reward=-0.832, steps=10.030, speed=1.00 steps/s, eps=0.20\n",
      "2847: Done 285 episodes, last 100 means: reward=-0.832, steps=10.020, speed=1.00 steps/s, eps=0.20\n",
      "2858: Done 286 episodes, last 100 means: reward=-0.822, steps=10.030, speed=1.00 steps/s, eps=0.20\n",
      "2863: Done 287 episodes, last 100 means: reward=-0.816, steps=9.970, speed=1.00 steps/s, eps=0.20\n",
      "2873: Done 288 episodes, last 100 means: reward=-0.816, steps=9.970, speed=1.00 steps/s, eps=0.20\n",
      "2884: Done 289 episodes, last 100 means: reward=-0.816, steps=9.970, speed=1.00 steps/s, eps=0.20\n",
      "2894: Done 290 episodes, last 100 means: reward=-0.816, steps=9.970, speed=1.00 steps/s, eps=0.20\n",
      "2900: nets synced, mean loss for last 100 steps = 4.085\n",
      "2905: Done 291 episodes, last 100 means: reward=-0.816, steps=9.970, speed=1.00 steps/s, eps=0.20\n",
      "2915: Done 292 episodes, last 100 means: reward=-0.816, steps=9.970, speed=1.00 steps/s, eps=0.20\n",
      "2926: Done 293 episodes, last 100 means: reward=-0.816, steps=9.970, speed=1.00 steps/s, eps=0.20\n",
      "2936: Done 294 episodes, last 100 means: reward=-0.816, steps=9.970, speed=1.00 steps/s, eps=0.20\n",
      "2947: Done 295 episodes, last 100 means: reward=-0.816, steps=9.970, speed=1.00 steps/s, eps=0.20\n",
      "2957: Done 296 episodes, last 100 means: reward=-0.806, steps=9.970, speed=1.00 steps/s, eps=0.20\n",
      "2968: Done 297 episodes, last 100 means: reward=-0.816, steps=9.970, speed=1.00 steps/s, eps=0.20\n",
      "2978: Done 298 episodes, last 100 means: reward=-0.816, steps=9.970, speed=1.00 steps/s, eps=0.20\n",
      "2989: Done 299 episodes, last 100 means: reward=-0.816, steps=9.970, speed=1.00 steps/s, eps=0.20\n",
      "2999: Done 300 episodes, last 100 means: reward=-0.816, steps=9.970, speed=1.00 steps/s, eps=0.20\n",
      "3000: nets synced, mean loss for last 100 steps = 4.874\n",
      "3010: Done 301 episodes, last 100 means: reward=-0.816, steps=9.970, speed=1.00 steps/s, eps=0.20\n",
      "3020: Done 302 episodes, last 100 means: reward=-0.816, steps=9.970, speed=1.00 steps/s, eps=0.20\n",
      "3031: Done 303 episodes, last 100 means: reward=-0.816, steps=9.970, speed=1.00 steps/s, eps=0.20\n",
      "3041: Done 304 episodes, last 100 means: reward=-0.816, steps=9.970, speed=1.00 steps/s, eps=0.20\n",
      "3052: Done 305 episodes, last 100 means: reward=-0.816, steps=9.970, speed=1.00 steps/s, eps=0.20\n",
      "3062: Done 306 episodes, last 100 means: reward=-0.816, steps=9.970, speed=1.00 steps/s, eps=0.20\n",
      "3070: Done 307 episodes, last 100 means: reward=-0.803, steps=9.940, speed=1.00 steps/s, eps=0.20\n",
      "3080: Done 308 episodes, last 100 means: reward=-0.803, steps=9.940, speed=1.00 steps/s, eps=0.20\n",
      "3091: Done 309 episodes, last 100 means: reward=-0.822, steps=10.020, speed=1.00 steps/s, eps=0.20\n",
      "3100: nets synced, mean loss for last 100 steps = 5.100\n",
      "3101: Done 310 episodes, last 100 means: reward=-0.812, steps=10.020, speed=1.00 steps/s, eps=0.20\n",
      "3112: Done 312 episodes, last 100 means: reward=-0.810, steps=10.010, speed=0.92 steps/s, eps=0.20\n",
      "3122: Done 313 episodes, last 100 means: reward=-0.820, steps=10.010, speed=1.00 steps/s, eps=0.20\n",
      "3133: Done 314 episodes, last 100 means: reward=-0.820, steps=10.010, speed=1.00 steps/s, eps=0.20\n",
      "3143: Done 315 episodes, last 100 means: reward=-0.820, steps=10.010, speed=1.11 steps/s, eps=0.20\n",
      "3144: Done 316 episodes, last 100 means: reward=-0.801, steps=9.920, speed=0.33 steps/s, eps=0.20\n",
      "3154: Done 317 episodes, last 100 means: reward=-0.791, steps=9.920, speed=1.00 steps/s, eps=0.20\n",
      "3165: Done 318 episodes, last 100 means: reward=-0.801, steps=9.920, speed=1.00 steps/s, eps=0.20\n",
      "3175: Done 319 episodes, last 100 means: reward=-0.801, steps=9.920, speed=1.00 steps/s, eps=0.20\n",
      "3186: Done 320 episodes, last 100 means: reward=-0.801, steps=9.920, speed=1.00 steps/s, eps=0.20\n",
      "3196: Done 321 episodes, last 100 means: reward=-0.801, steps=9.920, speed=1.00 steps/s, eps=0.20\n",
      "3200: nets synced, mean loss for last 100 steps = 5.584\n"
     ]
    },
    {
     "name": "stdout",
     "output_type": "stream",
     "text": [
      "3207: Done 322 episodes, last 100 means: reward=-0.791, steps=9.920, speed=1.00 steps/s, eps=0.20\n",
      "3217: Done 323 episodes, last 100 means: reward=-0.801, steps=9.920, speed=1.00 steps/s, eps=0.20\n",
      "3228: Done 324 episodes, last 100 means: reward=-0.801, steps=9.920, speed=1.00 steps/s, eps=0.20\n",
      "3238: Done 325 episodes, last 100 means: reward=-0.811, steps=9.920, speed=1.00 steps/s, eps=0.20\n",
      "3249: Done 326 episodes, last 100 means: reward=-0.811, steps=9.920, speed=1.00 steps/s, eps=0.20\n",
      "3259: Done 327 episodes, last 100 means: reward=-0.811, steps=9.920, speed=1.00 steps/s, eps=0.20\n",
      "3268: Done 328 episodes, last 100 means: reward=-0.799, steps=9.900, speed=1.00 steps/s, eps=0.20\n",
      "3278: Done 329 episodes, last 100 means: reward=-0.799, steps=9.900, speed=1.00 steps/s, eps=0.20\n",
      "3289: Done 330 episodes, last 100 means: reward=-0.811, steps=9.920, speed=1.00 steps/s, eps=0.20\n",
      "3299: Done 331 episodes, last 100 means: reward=-0.811, steps=9.920, speed=1.00 steps/s, eps=0.20\n",
      "3300: nets synced, mean loss for last 100 steps = 6.551\n",
      "3310: Done 332 episodes, last 100 means: reward=-0.811, steps=9.920, speed=1.00 steps/s, eps=0.20\n",
      "3320: Done 333 episodes, last 100 means: reward=-0.811, steps=9.920, speed=1.00 steps/s, eps=0.20\n",
      "3326: Done 334 episodes, last 100 means: reward=-0.796, steps=9.870, speed=1.00 steps/s, eps=0.20\n",
      "3336: Done 335 episodes, last 100 means: reward=-0.815, steps=9.950, speed=1.00 steps/s, eps=0.20\n",
      "3347: Done 336 episodes, last 100 means: reward=-0.815, steps=9.960, speed=1.00 steps/s, eps=0.20\n",
      "3357: Done 337 episodes, last 100 means: reward=-0.815, steps=9.950, speed=1.00 steps/s, eps=0.20\n",
      "3368: Done 338 episodes, last 100 means: reward=-0.815, steps=9.960, speed=1.00 steps/s, eps=0.20\n",
      "3372: Done 339 episodes, last 100 means: reward=-0.798, steps=9.890, speed=1.00 steps/s, eps=0.20\n",
      "3382: Done 340 episodes, last 100 means: reward=-0.798, steps=9.890, speed=1.00 steps/s, eps=0.20\n",
      "3392: Done 341 episodes, last 100 means: reward=-0.798, steps=9.880, speed=1.00 steps/s, eps=0.20\n",
      "3400: nets synced, mean loss for last 100 steps = 5.810\n",
      "3403: Done 342 episodes, last 100 means: reward=-0.798, steps=9.890, speed=1.00 steps/s, eps=0.20\n",
      "3413: Done 343 episodes, last 100 means: reward=-0.798, steps=9.880, speed=1.00 steps/s, eps=0.20\n",
      "3424: Done 344 episodes, last 100 means: reward=-0.798, steps=9.890, speed=1.00 steps/s, eps=0.20\n",
      "3434: Done 345 episodes, last 100 means: reward=-0.798, steps=9.880, speed=1.11 steps/s, eps=0.20\n",
      "3435: Done 346 episodes, last 100 means: reward=-0.779, steps=9.800, speed=0.33 steps/s, eps=0.20\n",
      "3445: Done 347 episodes, last 100 means: reward=-0.779, steps=9.790, speed=1.00 steps/s, eps=0.20\n",
      "3456: Done 348 episodes, last 100 means: reward=-0.779, steps=9.800, speed=1.00 steps/s, eps=0.20\n",
      "3466: Done 349 episodes, last 100 means: reward=-0.768, steps=9.790, speed=1.00 steps/s, eps=0.20\n",
      "3476: Done 350 episodes, last 100 means: reward=-0.778, steps=9.790, speed=1.00 steps/s, eps=0.20\n",
      "3487: Done 351 episodes, last 100 means: reward=-0.778, steps=9.790, speed=1.00 steps/s, eps=0.20\n",
      "3497: Done 352 episodes, last 100 means: reward=-0.778, steps=9.790, speed=1.00 steps/s, eps=0.20\n",
      "3500: nets synced, mean loss for last 100 steps = 6.521\n",
      "3508: Done 353 episodes, last 100 means: reward=-0.778, steps=9.790, speed=1.00 steps/s, eps=0.20\n",
      "3518: Done 354 episodes, last 100 means: reward=-0.778, steps=9.790, speed=1.00 steps/s, eps=0.20\n",
      "3529: Done 355 episodes, last 100 means: reward=-0.788, steps=9.790, speed=1.00 steps/s, eps=0.20\n",
      "3539: Done 356 episodes, last 100 means: reward=-0.778, steps=9.790, speed=1.00 steps/s, eps=0.20\n",
      "3550: Done 357 episodes, last 100 means: reward=-0.778, steps=9.790, speed=1.00 steps/s, eps=0.20\n",
      "3560: Done 358 episodes, last 100 means: reward=-0.778, steps=9.790, speed=1.00 steps/s, eps=0.20\n",
      "3571: Done 359 episodes, last 100 means: reward=-0.778, steps=9.790, speed=1.00 steps/s, eps=0.20\n",
      "3581: Done 360 episodes, last 100 means: reward=-0.778, steps=9.790, speed=1.00 steps/s, eps=0.20\n",
      "3592: Done 361 episodes, last 100 means: reward=-0.797, steps=9.880, speed=1.00 steps/s, eps=0.20\n",
      "3600: nets synced, mean loss for last 100 steps = 6.504\n",
      "3602: Done 362 episodes, last 100 means: reward=-0.797, steps=9.880, speed=1.00 steps/s, eps=0.20\n",
      "3613: Done 363 episodes, last 100 means: reward=-0.797, steps=9.880, speed=1.10 steps/s, eps=0.20\n",
      "3614: Done 364 episodes, last 100 means: reward=-0.779, steps=9.800, speed=0.33 steps/s, eps=0.20\n",
      "3624: Done 365 episodes, last 100 means: reward=-0.789, steps=9.790, speed=1.00 steps/s, eps=0.20\n",
      "3635: Done 366 episodes, last 100 means: reward=-0.805, steps=9.850, speed=1.00 steps/s, eps=0.20\n",
      "3645: Done 367 episodes, last 100 means: reward=-0.805, steps=9.850, speed=1.00 steps/s, eps=0.20\n",
      "3656: Done 368 episodes, last 100 means: reward=-0.805, steps=9.850, speed=1.00 steps/s, eps=0.20\n"
     ]
    },
    {
     "name": "stderr",
     "output_type": "stream",
     "text": [
      "[2019-06-30 21:03:46,037] [0:localhost:5900] Could not recalibrate network: [Failure instance: Traceback (failure with no frames): <class 'universe.error.Error'>: Can't send message to closed connection\n",
      "]\n"
     ]
    },
    {
     "name": "stdout",
     "output_type": "stream",
     "text": [
      "3666: Done 369 episodes, last 100 means: reward=-0.805, steps=9.850, speed=1.00 steps/s, eps=0.20\n",
      "3677: Done 370 episodes, last 100 means: reward=-0.805, steps=9.850, speed=1.00 steps/s, eps=0.20\n",
      "3687: Done 371 episodes, last 100 means: reward=-0.805, steps=9.850, speed=1.00 steps/s, eps=0.20\n",
      "3698: Done 372 episodes, last 100 means: reward=-0.805, steps=9.850, speed=1.00 steps/s, eps=0.20\n",
      "3700: nets synced, mean loss for last 100 steps = 6.384\n",
      "3708: Done 373 episodes, last 100 means: reward=-0.805, steps=9.850, speed=1.00 steps/s, eps=0.20\n",
      "3719: Done 374 episodes, last 100 means: reward=-0.805, steps=9.850, speed=1.00 steps/s, eps=0.20\n",
      "3729: Done 375 episodes, last 100 means: reward=-0.805, steps=9.850, speed=1.00 steps/s, eps=0.20\n",
      "3740: Done 376 episodes, last 100 means: reward=-0.815, steps=9.850, speed=1.00 steps/s, eps=0.20\n",
      "3750: Done 377 episodes, last 100 means: reward=-0.815, steps=9.850, speed=1.00 steps/s, eps=0.20\n",
      "3761: Done 378 episodes, last 100 means: reward=-0.831, steps=9.910, speed=1.00 steps/s, eps=0.20\n",
      "3771: Done 379 episodes, last 100 means: reward=-0.831, steps=9.910, speed=1.00 steps/s, eps=0.20\n",
      "3782: Done 380 episodes, last 100 means: reward=-0.831, steps=9.910, speed=1.00 steps/s, eps=0.20\n",
      "3792: Done 381 episodes, last 100 means: reward=-0.831, steps=9.910, speed=1.00 steps/s, eps=0.20\n",
      "3800: nets synced, mean loss for last 100 steps = 6.065\n",
      "3803: Done 382 episodes, last 100 means: reward=-0.831, steps=9.910, speed=1.00 steps/s, eps=0.20\n",
      "3813: Done 383 episodes, last 100 means: reward=-0.831, steps=9.910, speed=1.00 steps/s, eps=0.20\n",
      "3824: Done 384 episodes, last 100 means: reward=-0.821, steps=9.910, speed=1.00 steps/s, eps=0.20\n",
      "3834: Done 385 episodes, last 100 means: reward=-0.831, steps=9.910, speed=1.00 steps/s, eps=0.20\n",
      "3845: Done 386 episodes, last 100 means: reward=-0.841, steps=9.910, speed=1.00 steps/s, eps=0.20\n",
      "3855: Done 387 episodes, last 100 means: reward=-0.846, steps=9.960, speed=1.00 steps/s, eps=0.20\n",
      "3866: Done 388 episodes, last 100 means: reward=-0.846, steps=9.970, speed=1.00 steps/s, eps=0.20\n",
      "3877: Done 389 episodes, last 100 means: reward=-0.846, steps=9.970, speed=1.00 steps/s, eps=0.20\n",
      "3887: Done 390 episodes, last 100 means: reward=-0.846, steps=9.970, speed=1.00 steps/s, eps=0.20\n",
      "3897: Done 391 episodes, last 100 means: reward=-0.846, steps=9.960, speed=1.00 steps/s, eps=0.20\n",
      "3900: nets synced, mean loss for last 100 steps = 6.534\n",
      "3908: Done 392 episodes, last 100 means: reward=-0.846, steps=9.970, speed=1.00 steps/s, eps=0.20\n",
      "3918: Done 393 episodes, last 100 means: reward=-0.846, steps=9.960, speed=1.00 steps/s, eps=0.20\n",
      "3929: Done 394 episodes, last 100 means: reward=-0.836, steps=9.970, speed=1.00 steps/s, eps=0.20\n",
      "3934: Done 395 episodes, last 100 means: reward=-0.830, steps=9.910, speed=1.00 steps/s, eps=0.20\n",
      "3944: Done 396 episodes, last 100 means: reward=-0.840, steps=9.910, speed=1.00 steps/s, eps=0.20\n",
      "3955: Done 397 episodes, last 100 means: reward=-0.830, steps=9.910, speed=1.00 steps/s, eps=0.20\n",
      "3965: Done 398 episodes, last 100 means: reward=-0.830, steps=9.910, speed=1.00 steps/s, eps=0.20\n",
      "3976: Done 399 episodes, last 100 means: reward=-0.830, steps=9.910, speed=1.00 steps/s, eps=0.20\n",
      "3986: Done 400 episodes, last 100 means: reward=-0.830, steps=9.910, speed=1.00 steps/s, eps=0.20\n",
      "3997: Done 401 episodes, last 100 means: reward=-0.830, steps=9.910, speed=1.00 steps/s, eps=0.20\n",
      "4000: nets synced, mean loss for last 100 steps = 6.803\n",
      "4007: Done 402 episodes, last 100 means: reward=-0.830, steps=9.910, speed=1.00 steps/s, eps=0.20\n",
      "4018: Done 403 episodes, last 100 means: reward=-0.830, steps=9.910, speed=1.00 steps/s, eps=0.20\n",
      "4028: Done 404 episodes, last 100 means: reward=-0.830, steps=9.910, speed=1.00 steps/s, eps=0.20\n",
      "4039: Done 405 episodes, last 100 means: reward=-0.830, steps=9.910, speed=1.00 steps/s, eps=0.20\n",
      "4049: Done 406 episodes, last 100 means: reward=-0.830, steps=9.910, speed=1.00 steps/s, eps=0.20\n",
      "4060: Done 407 episodes, last 100 means: reward=-0.843, steps=9.940, speed=1.00 steps/s, eps=0.20\n",
      "4070: Done 408 episodes, last 100 means: reward=-0.843, steps=9.940, speed=1.00 steps/s, eps=0.20\n",
      "4081: Done 409 episodes, last 100 means: reward=-0.843, steps=9.940, speed=1.00 steps/s, eps=0.20\n",
      "4091: Done 410 episodes, last 100 means: reward=-0.853, steps=9.940, speed=1.00 steps/s, eps=0.20\n",
      "4100: nets synced, mean loss for last 100 steps = 7.116\n",
      "4102: Done 411 episodes, last 100 means: reward=-0.853, steps=9.940, speed=1.00 steps/s, eps=0.20\n",
      "4112: Done 412 episodes, last 100 means: reward=-0.873, steps=10.030, speed=1.00 steps/s, eps=0.20\n",
      "4123: Done 413 episodes, last 100 means: reward=-0.873, steps=10.040, speed=1.00 steps/s, eps=0.20\n",
      "4133: Done 414 episodes, last 100 means: reward=-0.873, steps=10.030, speed=1.00 steps/s, eps=0.20\n",
      "4144: Done 415 episodes, last 100 means: reward=-0.873, steps=10.040, speed=1.00 steps/s, eps=0.20\n",
      "4154: Done 416 episodes, last 100 means: reward=-0.892, steps=10.120, speed=1.00 steps/s, eps=0.20\n",
      "4165: Done 417 episodes, last 100 means: reward=-0.902, steps=10.130, speed=1.00 steps/s, eps=0.20\n",
      "4175: Done 418 episodes, last 100 means: reward=-0.892, steps=10.120, speed=1.00 steps/s, eps=0.20\n",
      "4186: Done 419 episodes, last 100 means: reward=-0.892, steps=10.130, speed=1.00 steps/s, eps=0.20\n",
      "4196: Done 420 episodes, last 100 means: reward=-0.892, steps=10.120, speed=1.00 steps/s, eps=0.20\n",
      "4200: nets synced, mean loss for last 100 steps = 8.263\n",
      "4207: Done 421 episodes, last 100 means: reward=-0.892, steps=10.130, speed=1.00 steps/s, eps=0.20\n",
      "4217: Done 422 episodes, last 100 means: reward=-0.902, steps=10.120, speed=1.00 steps/s, eps=0.20\n",
      "4228: Done 423 episodes, last 100 means: reward=-0.892, steps=10.130, speed=1.00 steps/s, eps=0.20\n",
      "4238: Done 424 episodes, last 100 means: reward=-0.892, steps=10.120, speed=1.00 steps/s, eps=0.20\n",
      "4249: Done 425 episodes, last 100 means: reward=-0.892, steps=10.130, speed=1.00 steps/s, eps=0.20\n",
      "4259: Done 426 episodes, last 100 means: reward=-0.892, steps=10.120, speed=1.00 steps/s, eps=0.20\n",
      "4270: Done 427 episodes, last 100 means: reward=-0.892, steps=10.130, speed=1.00 steps/s, eps=0.20\n",
      "4280: Done 428 episodes, last 100 means: reward=-0.904, steps=10.140, speed=1.00 steps/s, eps=0.20\n",
      "4291: Done 429 episodes, last 100 means: reward=-0.904, steps=10.150, speed=1.00 steps/s, eps=0.20\n",
      "4300: nets synced, mean loss for last 100 steps = 8.557\n",
      "4301: Done 430 episodes, last 100 means: reward=-0.904, steps=10.140, speed=1.00 steps/s, eps=0.20\n",
      "4312: Done 431 episodes, last 100 means: reward=-0.904, steps=10.150, speed=1.00 steps/s, eps=0.20\n",
      "4322: Done 432 episodes, last 100 means: reward=-0.904, steps=10.140, speed=1.00 steps/s, eps=0.20\n",
      "4333: Done 433 episodes, last 100 means: reward=-0.904, steps=10.150, speed=1.00 steps/s, eps=0.20\n",
      "4343: Done 434 episodes, last 100 means: reward=-0.919, steps=10.190, speed=1.00 steps/s, eps=0.20\n"
     ]
    }
   ],
   "source": [
    "episode_rewards = []\n",
    "episode_steps = []\n",
    "losses = []\n",
    "steps = 0\n",
    "last_ts = time.time()\n",
    "last_steps = 0\n",
    "\n",
    "while True:\n",
    "    steps += 1\n",
    "    buffer.populate(1)\n",
    "    r = exp_source.pop_rewards_steps()\n",
    "    if r:\n",
    "        for rw, st in r:\n",
    "            episode_rewards.append(rw)\n",
    "            episode_steps.append(st)\n",
    "        speed = (steps - last_steps) / (time.time() - last_ts)\n",
    "        print(\"%d: Done %d episodes, last 100 means: reward=%.3f, steps=%.3f, speed=%.2f steps/s, eps=%.2f\" % (\n",
    "            steps, len(episode_rewards), np.mean(episode_rewards[-100:]), \n",
    "            np.mean(episode_steps[-100:]), speed, action_selector.epsilon\n",
    "        ))\n",
    "        last_ts = time.time()\n",
    "        last_steps = steps\n",
    "        if np.mean(episode_rewards[-100:]) > 0.9:\n",
    "            print(\"You solved the env! Congrats!\")\n",
    "            break\n",
    "    if len(buffer) < MIN_REPLAY:\n",
    "        continue\n",
    "    batch = buffer.sample(BATCH_SIZE)\n",
    "    state_v, actions_v, ref_q_v = unpack_batch(batch, tgt_net.target_model, gamma=GAMMA, device=DEVICE)\n",
    "    optimizer.zero_grad()\n",
    "    q_v = net(state_v)\n",
    "    q_v = q_v.gather(1, actions_v.unsqueeze(-1)).squeeze(-1)\n",
    "    loss_v = F.mse_loss(q_v, ref_q_v)\n",
    "    loss_v.backward()\n",
    "    optimizer.step()\n",
    "    losses.append(loss_v.item())\n",
    "    \n",
    "    if steps % TGT_SYNC == 0:\n",
    "        print(\"%d: nets synced, mean loss for last 100 steps = %.3f\" % (\n",
    "            steps, np.mean(losses[-100:])))\n",
    "        tgt_net.sync()\n",
    "    action_selector.epsilon = max(FINAL_EPSILON, INITIAL_EPSILON - steps / STEPS_EPSILON)"
   ]
  },
  {
   "cell_type": "markdown",
   "metadata": {},
   "source": [
    "# Troubleshooting of Baseline DQN\n",
    "\n",
    "> \"You love Linux, probably you're experienced in troubleshooting...\"\n",
    "> RHCE Exam Instructor @ 2005\n",
    "\n",
    "Code above doesn't converge. Usually, in such situations, tutorial author tweaks the parameters to make it working, so, attendants see only final, polished version. This makes the false impression of ML as smooth and quite obvious process, which very far from truth. Don't know about others, but my code doesn't work 90% of the time :).\n",
    "\n",
    "To learn how to deal with such situations, you're asked to troubleshoot the code above. There are several directions you could explore (of course, you can have your own ideas, that's not the complete list):\n",
    "\n",
    "* check training samples. Do they make sense? Is reward properly assigned to correct observations? Rememer, MiniWoB could have bugs\n",
    "* training gradients. How large they are? What's the ratio of gradients/weight values?\n",
    "* do end-of-episode steps handled properly? Final steps of epsiodes act as an anchor to prevent Q values from growing infinitely, so, it is critical to have them properly handled in Bellman equation\n",
    "* explore Q values produced by the network during the training. Are they growing over time? That's a good practice to have small set of states (including final step and steps before the final) and track their Qs during the training.\n",
    "* how large the difference between trained network and target net used for next-step Bellman approximation? How it changes over time?\n",
    "\n",
    "Full check might take a day, especially if you haven't done it before. In separate notebook (01_miniwob_baseline_debug) you will be shown how to do those checks in this environment, but you should try implement them yourself."
   ]
  },
  {
   "cell_type": "markdown",
   "metadata": {
    "heading_collapsed": true
   },
   "source": [
    "## Training samples check\n",
    "\n",
    "Here we're going to eyeball our training samples. OpenAI Universe is asynchronous, so, if we're missing a frame or have delays to handle input data, we can get weird training samples.\n",
    "\n",
    "To do this, we implement small `Env` wrapper applied after `MiniWoBCropper` to keep history of training sequences."
   ]
  },
  {
   "cell_type": "code",
   "execution_count": 53,
   "metadata": {
    "hidden": true
   },
   "outputs": [],
   "source": [
    "import collections\n",
    "from PIL import Image, ImageDraw\n",
    "import matplotlib.pylab as plt\n",
    "\n",
    "%matplotlib inline"
   ]
  },
  {
   "cell_type": "code",
   "execution_count": 109,
   "metadata": {
    "hidden": true
   },
   "outputs": [],
   "source": [
    "class TrajectoryTracking(vectorized.Wrapper):\n",
    "    \"\"\"\n",
    "    Keeps last N trajectories from the environment\n",
    "    \"\"\"\n",
    "    def __init__(self, env, size: int):\n",
    "        super(TrajectoryTracking, self).__init__(env)\n",
    "        self.trajectories = collections.deque(maxlen=size)\n",
    "        self._in_progress = []\n",
    "\n",
    "    def reset(self):\n",
    "        obs_n = self.env.reset()\n",
    "        if not self._in_progress:\n",
    "            self._in_progress = [[] for _ in obs_n]\n",
    "        for t, obs in zip(self._in_progress, obs_n):\n",
    "            if t:\n",
    "                self.trajectories.append(list(t))\n",
    "                t.clear()\n",
    "            if obs:\n",
    "                t.append(obs)\n",
    "        return obs_n\n",
    "    \n",
    "    def step(self, action_n):\n",
    "        obs_n, r_n, done_n, info_n = self.env.step(action_n)\n",
    "        for t, obs, r, act in zip(self._in_progress, obs_n, r_n, action_n):\n",
    "            t.append((obs, act, r))\n",
    "        for t, done in zip(self._in_progress, done_n):\n",
    "            if done:\n",
    "                self.trajectories.append(list(t))\n",
    "                t.clear()\n",
    "        return obs_n, r_n, done_n, info_n"
   ]
  },
  {
   "cell_type": "markdown",
   "metadata": {
    "hidden": true
   },
   "source": [
    "Let's apply it to our training to get trajectories to check"
   ]
  },
  {
   "cell_type": "code",
   "execution_count": 127,
   "metadata": {
    "hidden": true
   },
   "outputs": [
    {
     "name": "stderr",
     "output_type": "stream",
     "text": [
      "[2019-06-29 19:08:39,953] Making new env: wob.mini.ClickDialog-v0\n",
      "[2019-06-29 19:08:39,956] Using SoftmaxClickMouse with action_region=(10, 125, 170, 285), noclick_regions=[]\n",
      "[2019-06-29 19:08:39,957] SoftmaxClickMouse noclick regions removed 0 of 256 actions\n",
      "[2019-06-29 19:08:39,958] Using the golang VNC implementation\n",
      "[2019-06-29 19:08:39,958] Using VNCSession arguments: {'encoding': 'tight', 'compress_level': 0, 'fine_quality_level': 100, 'subsample_level': 0, 'start_timeout': 7}. (Customize by running \"env.configure(vnc_kwargs={...})\"\n",
      "[2019-06-29 19:08:39,977] [0] Connecting to environment: vnc://localhost:5900 password=openai. If desired, you can manually connect a VNC viewer, such as TurboVNC. Most environments provide a convenient in-browser VNC client: http://localhost:15900/viewer/?password=openai\n"
     ]
    }
   ],
   "source": [
    "env = gym.make(\"wob.mini.ClickDialog-v0\")\n",
    "env = MiniWoBCropper(env)\n",
    "env = SoftmaxClickMouse(env)\n",
    "env = TrajectoryTracking(env, size=10)\n",
    "url = remotes_url(count=1)\n",
    "\n",
    "env.configure(remotes=url, docker_image=DOCKER_IMAGE, fps=1, vnc_kwargs={\n",
    "        'encoding': 'tight', 'compress_level': 0,\n",
    "        'fine_quality_level': 100, 'subsample_level': 0\n",
    "    })\n",
    "obs = env.reset()"
   ]
  },
  {
   "cell_type": "code",
   "execution_count": 128,
   "metadata": {
    "hidden": true
   },
   "outputs": [
    {
     "name": "stderr",
     "output_type": "stream",
     "text": [
      "[2019-06-29 19:08:56,395] [0:localhost:5900] Sending reset for env_id=wob.mini.ClickDialog-v0 fps=60 episode_id=0\n",
      "[2019-06-29 19:08:56,431] [0:localhost:5900] Initial reset complete: episode_id=8159\n"
     ]
    }
   ],
   "source": [
    "while obs[0] is None:\n",
    "    a = env.action_space.sample()\n",
    "    obs, reward, is_done, info = env.step([a])\n",
    "    time.sleep(1)"
   ]
  },
  {
   "cell_type": "code",
   "execution_count": 129,
   "metadata": {
    "hidden": true
   },
   "outputs": [],
   "source": [
    "net = Model(env.observation_space.shape, env.action_space.n).to(DEVICE)\n",
    "\n",
    "parent_selector = ptan.actions.ArgmaxActionSelector()\n",
    "action_selector = ptan.actions.EpsilonGreedyActionSelector(epsilon=1, selector=parent_selector) \n",
    "agent = ptan.agent.DQNAgent(net, action_selector, device=DEVICE)\n",
    "exp_source = ptan.experience.ExperienceSourceFirstLast(env, agent, gamma=1.0, vectorized=True)\n",
    "\n",
    "buffer = ptan.experience.ExperienceReplayBuffer(exp_source, REPLAY_SIZE)"
   ]
  },
  {
   "cell_type": "code",
   "execution_count": 130,
   "metadata": {
    "hidden": true
   },
   "outputs": [
    {
     "name": "stderr",
     "output_type": "stream",
     "text": [
      "[2019-06-29 19:08:57,774] [0:localhost:5900] Sending reset for env_id=wob.mini.ClickDialog-v0 fps=60 episode_id=0\n"
     ]
    },
    {
     "name": "stdout",
     "output_type": "stream",
     "text": [
      "Episode done with 14 steps and -1.000 reward\n",
      "Episode done with 10 steps and -1.000 reward\n",
      "Episode done with 11 steps and -1.000 reward\n",
      "Episode done with 10 steps and 0.000 reward\n",
      "Episode done with 11 steps and -1.000 reward\n",
      "Episode done with 10 steps and -1.000 reward\n",
      "Episode done with 2 steps and 0.940 reward\n",
      "Episode done with 10 steps and -1.000 reward\n",
      "Episode done with 11 steps and -1.000 reward\n",
      "Episode done with 2 steps and 0.852 reward\n",
      "Episode done with 10 steps and 0.050 reward\n"
     ]
    }
   ],
   "source": [
    "# populate buffer to get some trajectories\n",
    "for _ in range(100):\n",
    "    buffer.populate(1)\n",
    "    for rw, st in exp_source.pop_rewards_steps():\n",
    "        print(\"Episode done with %d steps and %.3f reward\" % (st, rw))"
   ]
  },
  {
   "cell_type": "code",
   "execution_count": 131,
   "metadata": {
    "hidden": true
   },
   "outputs": [
    {
     "data": {
      "text/plain": [
       "10"
      ]
     },
     "execution_count": 131,
     "metadata": {},
     "output_type": "execute_result"
    }
   ],
   "source": [
    "len(env.trajectories)"
   ]
  },
  {
   "cell_type": "code",
   "execution_count": 132,
   "metadata": {
    "hidden": true
   },
   "outputs": [
    {
     "data": {
      "text/plain": [
       "[10, 11, 10, 11, 10, 2, 10, 11, 2, 10]"
      ]
     },
     "execution_count": 132,
     "metadata": {},
     "output_type": "execute_result"
    }
   ],
   "source": [
    "list(map(len, env.trajectories))"
   ]
  },
  {
   "cell_type": "code",
   "execution_count": 149,
   "metadata": {
    "hidden": true
   },
   "outputs": [],
   "source": [
    "# you might want to select different trajectory to check, I've chosen not very long one with positive reward\n",
    "tr = env.trajectories[-1]"
   ]
  },
  {
   "cell_type": "code",
   "execution_count": 150,
   "metadata": {
    "hidden": true
   },
   "outputs": [],
   "source": [
    "tr_obs, tr_act, tr_rw = zip(*tr)"
   ]
  },
  {
   "cell_type": "code",
   "execution_count": 151,
   "metadata": {
    "hidden": true
   },
   "outputs": [
    {
     "data": {
      "text/plain": [
       "(94, 5, 248, 94, 226, 192, 254, 157, 148, 38)"
      ]
     },
     "execution_count": 151,
     "metadata": {},
     "output_type": "execute_result"
    }
   ],
   "source": [
    "tr_act"
   ]
  },
  {
   "cell_type": "code",
   "execution_count": 152,
   "metadata": {
    "hidden": true
   },
   "outputs": [
    {
     "data": {
      "text/plain": [
       "(0.0, 0.0, 0.0, 0.0, 0.0, 0.0, 0.0, 0.0, 0.0, 0.05)"
      ]
     },
     "execution_count": 152,
     "metadata": {},
     "output_type": "execute_result"
    }
   ],
   "source": [
    "tr_rw"
   ]
  },
  {
   "cell_type": "code",
   "execution_count": 153,
   "metadata": {
    "hidden": true
   },
   "outputs": [],
   "source": [
    "def get_obs_img(obs, action=None, action_step_pix=10, action_y_ofs=50, transpose=True):\n",
    "    \"\"\"\n",
    "    Get the image from observation with optional action place shown\n",
    "    \"\"\"\n",
    "    if transpose:\n",
    "        obs = np.transpose(obs, (1, 2, 0))\n",
    "    img = Image.fromarray(obs)\n",
    "    if action is not None:\n",
    "        draw = ImageDraw.Draw(img)\n",
    "        if isinstance(action, tuple):\n",
    "            x_ofs, y_ofs = action\n",
    "        else:\n",
    "            y_ofs = action_y_ofs + (action % 16) * action_step_pix\n",
    "            x_ofs = (action // 16) * action_step_pix\n",
    "        half_step = action_step_pix//2\n",
    "        draw.ellipse((x_ofs-half_step, y_ofs-half_step, x_ofs+half_step, y_ofs+half_step),\n",
    "                     (0, 0, 255, 128))\n",
    "    return img"
   ]
  },
  {
   "cell_type": "code",
   "execution_count": 154,
   "metadata": {
    "hidden": true
   },
   "outputs": [],
   "source": [
    "imgs = [get_obs_img(obs, action=act) for obs, act in zip(tr_obs, tr_act)]"
   ]
  },
  {
   "cell_type": "code",
   "execution_count": 156,
   "metadata": {
    "hidden": true
   },
   "outputs": [
    {
     "data": {
      "image/png": "[encoded data removed]",
      "text/plain": [
       "<Figure size 1080x1080 with 10 Axes>"
      ]
     },
     "metadata": {
      "needs_background": "light"
     },
     "output_type": "display_data"
    }
   ],
   "source": [
    "fig = plt.figure(figsize=(15, 15))\n",
    "\n",
    "rows = 3\n",
    "for i, img in enumerate(imgs, start=1):\n",
    "    fig.add_subplot(rows, np.ceil(len(imgs)/rows), i)\n",
    "    plt.imshow(img)\n",
    "plt.show()"
   ]
  },
  {
   "cell_type": "markdown",
   "metadata": {
    "hidden": true
   },
   "source": [
    "Hm, that doesn't look OK. We've clicked on the wrong places and still got positive reward."
   ]
  },
  {
   "cell_type": "markdown",
   "metadata": {
    "hidden": true
   },
   "source": [
    "Idea: after checking `SoftmaxClickMouse` [source code](https://github.com/openai/universe/blob/master/universe/wrappers/experimental/action_space.py#L65), looks like it need to be applied before cropping. Let's check."
   ]
  },
  {
   "cell_type": "code",
   "execution_count": 316,
   "metadata": {
    "hidden": true
   },
   "outputs": [
    {
     "name": "stderr",
     "output_type": "stream",
     "text": [
      "[2019-06-30 23:28:57,160] Making new env: wob.mini.ClickDialog-v0\n",
      "[2019-06-30 23:28:57,163] Using SoftmaxClickMouse with action_region=(10, 125, 170, 285), noclick_regions=[]\n",
      "[2019-06-30 23:28:57,164] SoftmaxClickMouse noclick regions removed 0 of 256 actions\n",
      "[2019-06-30 23:28:57,167] Using the golang VNC implementation\n",
      "[2019-06-30 23:28:57,168] Using VNCSession arguments: {'encoding': 'tight', 'compress_level': 0, 'fine_quality_level': 100, 'subsample_level': 0, 'start_timeout': 7}. (Customize by running \"env.configure(vnc_kwargs={...})\"\n",
      "[2019-06-30 23:28:57,195] [0] Connecting to environment: vnc://localhost:5900 password=openai. If desired, you can manually connect a VNC viewer, such as TurboVNC. Most environments provide a convenient in-browser VNC client: http://localhost:15900/viewer/?password=openai\n"
     ]
    }
   ],
   "source": [
    "env = gym.make(\"wob.mini.ClickDialog-v0\")\n",
    "env = SoftmaxClickMouse(env)\n",
    "env = MiniWoBCropper(env)\n",
    "env = TrajectoryTracking(env, size=10)\n",
    "url = remotes_url(count=1)\n",
    "\n",
    "env.configure(remotes=url, docker_image=DOCKER_IMAGE, fps=1, vnc_kwargs={\n",
    "        'encoding': 'tight', 'compress_level': 0,\n",
    "        'fine_quality_level': 100, 'subsample_level': 0\n",
    "    })\n",
    "obs = env.reset()"
   ]
  },
  {
   "cell_type": "code",
   "execution_count": 317,
   "metadata": {
    "hidden": true
   },
   "outputs": [
    {
     "name": "stderr",
     "output_type": "stream",
     "text": [
      "[2019-06-30 23:29:13,626] [0:localhost:5900] Sending reset for env_id=wob.mini.ClickDialog-v0 fps=60 episode_id=0\n",
      "[2019-06-30 23:29:13,708] [0:localhost:5900] Initial reset complete: episode_id=17978\n"
     ]
    }
   ],
   "source": [
    "while obs[0] is None:\n",
    "    a = env.action_space.sample()\n",
    "    obs, reward, is_done, info = env.step([a])\n",
    "    time.sleep(1)"
   ]
  },
  {
   "cell_type": "code",
   "execution_count": 318,
   "metadata": {
    "hidden": true
   },
   "outputs": [],
   "source": [
    "net = Model(env.observation_space.shape, env.action_space.n).to(DEVICE)\n",
    "\n",
    "parent_selector = ptan.actions.ArgmaxActionSelector()\n",
    "action_selector = ptan.actions.EpsilonGreedyActionSelector(epsilon=1, selector=parent_selector) \n",
    "agent = ptan.agent.DQNAgent(net, action_selector, device=DEVICE)\n",
    "exp_source = ptan.experience.ExperienceSourceFirstLast(env, agent, gamma=1.0, vectorized=True)\n",
    "\n",
    "buffer = ptan.experience.ExperienceReplayBuffer(exp_source, REPLAY_SIZE)"
   ]
  },
  {
   "cell_type": "code",
   "execution_count": 319,
   "metadata": {
    "hidden": true
   },
   "outputs": [
    {
     "name": "stderr",
     "output_type": "stream",
     "text": [
      "[2019-06-30 23:29:15,527] [0:localhost:5900] Sending reset for env_id=wob.mini.ClickDialog-v0 fps=60 episode_id=0\n"
     ]
    },
    {
     "name": "stdout",
     "output_type": "stream",
     "text": [
      "Episode done with 12 steps and -1.000 reward\n",
      "Episode done with 5 steps and 0.590 reward\n",
      "Episode done with 10 steps and -1.000 reward\n",
      "Episode done with 11 steps and -1.000 reward\n",
      "Episode done with 10 steps and 0.000 reward\n",
      "Episode done with 11 steps and -2.000 reward\n",
      "Episode done with 10 steps and -1.000 reward\n",
      "Episode done with 11 steps and -1.000 reward\n",
      "Episode done with 10 steps and -1.000 reward\n",
      "Episode done with 8 steps and 0.304 reward\n",
      "Episode done with 1 steps and 0.952 reward\n"
     ]
    }
   ],
   "source": [
    "# populate buffer to get some trajectories\n",
    "for _ in range(100):\n",
    "    buffer.populate(1)\n",
    "    for rw, st in exp_source.pop_rewards_steps():\n",
    "        print(\"Episode done with %d steps and %.3f reward\" % (st, rw))"
   ]
  },
  {
   "cell_type": "code",
   "execution_count": 321,
   "metadata": {
    "hidden": true
   },
   "outputs": [
    {
     "data": {
      "text/plain": [
       "[5, 10, 11, 10, 11, 10, 11, 10, 8, 1]"
      ]
     },
     "execution_count": 321,
     "metadata": {},
     "output_type": "execute_result"
    }
   ],
   "source": [
    "list(map(len, env.trajectories))"
   ]
  },
  {
   "cell_type": "code",
   "execution_count": 322,
   "metadata": {
    "hidden": true
   },
   "outputs": [],
   "source": [
    "# you might want to select different trajectory to check, I've chosen not very long one with positive reward\n",
    "tr = env.trajectories[0]\n",
    "tr_obs, tr_act, tr_rw = zip(*tr)"
   ]
  },
  {
   "cell_type": "code",
   "execution_count": 323,
   "metadata": {
    "hidden": true
   },
   "outputs": [
    {
     "data": {
      "text/plain": [
       "(176, 80, 101, 163, 43)"
      ]
     },
     "execution_count": 323,
     "metadata": {},
     "output_type": "execute_result"
    }
   ],
   "source": [
    "tr_act"
   ]
  },
  {
   "cell_type": "code",
   "execution_count": 324,
   "metadata": {
    "hidden": true
   },
   "outputs": [
    {
     "data": {
      "text/plain": [
       "(0.0, 0.0, 0.0, 0.0, 0.59)"
      ]
     },
     "execution_count": 324,
     "metadata": {},
     "output_type": "execute_result"
    }
   ],
   "source": [
    "tr_rw"
   ]
  },
  {
   "cell_type": "code",
   "execution_count": 325,
   "metadata": {
    "hidden": true
   },
   "outputs": [],
   "source": [
    "imgs = [get_obs_img(obs, action=act) for obs, act in zip(tr_obs, tr_act)]"
   ]
  },
  {
   "cell_type": "code",
   "execution_count": 326,
   "metadata": {
    "hidden": true
   },
   "outputs": [
    {
     "data": {
      "image/png": "[encoded data removed]",
      "text/plain": [
       "<Figure size 1080x1080 with 5 Axes>"
      ]
     },
     "metadata": {
      "needs_background": "light"
     },
     "output_type": "display_data"
    }
   ],
   "source": [
    "fig = plt.figure(figsize=(15, 15))\n",
    "\n",
    "rows = 1\n",
    "for i, img in enumerate(imgs, start=1):\n",
    "    fig.add_subplot(rows, np.ceil(len(imgs)/rows), i)\n",
    "    plt.imshow(img)\n",
    "plt.show()"
   ]
  },
  {
   "cell_type": "markdown",
   "metadata": {
    "hidden": true
   },
   "source": [
    "Aha, looks better. But let's notice that the final step is wrong. Due to VNC delay, we've got reward not immediately, but on our next action. That might introduce confusion to the method. In theory, DQN should be able to deal with that, but theory == practice only for theoreticians. This last step definitely harms the convergence.\n",
    "\n",
    "Let's fix it."
   ]
  },
  {
   "cell_type": "markdown",
   "metadata": {
    "heading_collapsed": true
   },
   "source": [
    "## Fix the last step\n",
    "\n",
    "If we think a little about this problem, this issue of the last step is more fundamental and caused by consistent 1-step shift between actions and observations.\n",
    "\n",
    "Classical Gym API, Universe supposed to emulate works simple: we call `step(action)` method and get the outcome **of this action** -- rewards, observations and is_done flag. But in Universe, the observation we get from `step` is VNC screen **right now**. Our actions will be applied only after some delay.\n",
    "\n",
    "So, the simplest solution, would be to artificially introduce the extra one-step gap in action-observation stream. Unfortunatelly we cannot pick into the future observations to return them, so, we need to inject into samples gathering process in the `ptan` library. \n",
    "\n",
    "Communications between the environment, agent and replay buffer is implemented in [`ExperienceSource` class](https://github.com/Shmuma/ptan/blob/master/ptan/experience.py#L18) and in its subclass [`ExperienceSourceFirstLast` class](https://github.com/Shmuma/ptan/blob/master/ptan/experience.py#L158).\n",
    "\n",
    "Implementation of `ExperienceSource` is not very pleasant thing to study (mostly due to vectorized environments support), but the basic idea is simple: we have set of environments (or one vectorized environment) and obtain from them N-step trajectory subchunks. Class `ExperienceSource` provides us full N observations of the subchank, `ExperienceSourceFirstLast` returns only the first and the last observations, calculating accumulated reward in between.\n",
    "\n",
    "To shift the actions in the chunk one step ahead, we need to modify `ExperienceSourceFirstLast` implementation."
   ]
  },
  {
   "cell_type": "markdown",
   "metadata": {
    "hidden": true
   },
   "source": [
    "Below are demonstrations of `ExperienceSource` and `ExperienceSourceFirstLast`"
   ]
  },
  {
   "cell_type": "code",
   "execution_count": 255,
   "metadata": {
    "hidden": true
   },
   "outputs": [],
   "source": [
    "class EnvTest(gym.Env):\n",
    "    def __init__(self):\n",
    "        self.v = 0\n",
    "        \n",
    "    def reset(self):\n",
    "        self.v = 0\n",
    "        return self.v\n",
    "    \n",
    "    def step(self, action):\n",
    "        self.v += 1\n",
    "        is_done = self.v > 5\n",
    "        return self.v, 1.0, is_done, {}\n",
    "    \n",
    "class AgentTest(ptan.agent.BaseAgent):\n",
    "    def __call__(self, states, agent_states):\n",
    "        new_states = [1 + s if s is not None else 0 for s in agent_states]\n",
    "        return new_states, new_states"
   ]
  },
  {
   "cell_type": "code",
   "execution_count": 256,
   "metadata": {
    "hidden": true
   },
   "outputs": [],
   "source": [
    "env = EnvTest()\n",
    "agent = AgentTest()"
   ]
  },
  {
   "cell_type": "code",
   "execution_count": 257,
   "metadata": {
    "hidden": true
   },
   "outputs": [
    {
     "name": "stdout",
     "output_type": "stream",
     "text": [
      "(Experience(state=0, action=0, reward=1.0, done=False), Experience(state=1, action=1, reward=1.0, done=False))\n",
      "(Experience(state=1, action=1, reward=1.0, done=False), Experience(state=2, action=2, reward=1.0, done=False))\n",
      "(Experience(state=2, action=2, reward=1.0, done=False), Experience(state=3, action=3, reward=1.0, done=False))\n",
      "(Experience(state=3, action=3, reward=1.0, done=False), Experience(state=4, action=4, reward=1.0, done=False))\n",
      "(Experience(state=4, action=4, reward=1.0, done=False), Experience(state=5, action=5, reward=1.0, done=True))\n",
      "(Experience(state=4, action=4, reward=1.0, done=False), Experience(state=5, action=5, reward=1.0, done=True))\n",
      "(Experience(state=5, action=5, reward=1.0, done=True),)\n",
      "(Experience(state=0, action=0, reward=1.0, done=False), Experience(state=1, action=1, reward=1.0, done=False))\n"
     ]
    }
   ],
   "source": [
    "exp_src = ptan.experience.ExperienceSource(env, agent, steps_count=2)\n",
    "\n",
    "for idx, e in enumerate(exp_src):\n",
    "    print(e)\n",
    "    if idx > 6:\n",
    "        break"
   ]
  },
  {
   "cell_type": "markdown",
   "metadata": {
    "hidden": true
   },
   "source": [
    "Double entry of `(Experience(state=4, action=4, reward=4, done=False), Experience(state=5, action=5, reward=5, done=True))` is a bug fixed in `master` branch of `ptan` \n",
    "\n",
    "`¯\\_(ツ)_/¯`"
   ]
  },
  {
   "cell_type": "code",
   "execution_count": 258,
   "metadata": {
    "hidden": true
   },
   "outputs": [
    {
     "name": "stdout",
     "output_type": "stream",
     "text": [
      "ExperienceFirstLast(state=0, action=0, reward=1.0, last_state=1)\n",
      "ExperienceFirstLast(state=1, action=1, reward=1.0, last_state=2)\n",
      "ExperienceFirstLast(state=2, action=2, reward=1.0, last_state=3)\n",
      "ExperienceFirstLast(state=3, action=3, reward=1.0, last_state=4)\n",
      "ExperienceFirstLast(state=4, action=4, reward=1.0, last_state=5)\n",
      "ExperienceFirstLast(state=4, action=4, reward=1.0, last_state=5)\n",
      "ExperienceFirstLast(state=5, action=5, reward=1.0, last_state=None)\n",
      "ExperienceFirstLast(state=0, action=0, reward=1.0, last_state=1)\n"
     ]
    }
   ],
   "source": [
    "exp_src = ptan.experience.ExperienceSourceFirstLast(env, agent, gamma=1.0)\n",
    "\n",
    "for idx, e in enumerate(exp_src):\n",
    "    print(e)\n",
    "    if idx > 6:\n",
    "        break"
   ]
  },
  {
   "cell_type": "markdown",
   "metadata": {
    "hidden": true
   },
   "source": [
    "The same, but with longer subchunks of trajectories"
   ]
  },
  {
   "cell_type": "code",
   "execution_count": 259,
   "metadata": {
    "hidden": true
   },
   "outputs": [
    {
     "name": "stdout",
     "output_type": "stream",
     "text": [
      "(Experience(state=0, action=0, reward=1.0, done=False), Experience(state=1, action=1, reward=1.0, done=False), Experience(state=2, action=2, reward=1.0, done=False))\n",
      "(Experience(state=1, action=1, reward=1.0, done=False), Experience(state=2, action=2, reward=1.0, done=False), Experience(state=3, action=3, reward=1.0, done=False))\n",
      "(Experience(state=2, action=2, reward=1.0, done=False), Experience(state=3, action=3, reward=1.0, done=False), Experience(state=4, action=4, reward=1.0, done=False))\n",
      "(Experience(state=3, action=3, reward=1.0, done=False), Experience(state=4, action=4, reward=1.0, done=False), Experience(state=5, action=5, reward=1.0, done=True))\n",
      "(Experience(state=3, action=3, reward=1.0, done=False), Experience(state=4, action=4, reward=1.0, done=False), Experience(state=5, action=5, reward=1.0, done=True))\n",
      "(Experience(state=4, action=4, reward=1.0, done=False), Experience(state=5, action=5, reward=1.0, done=True))\n",
      "(Experience(state=5, action=5, reward=1.0, done=True),)\n",
      "(Experience(state=0, action=0, reward=1.0, done=False), Experience(state=1, action=1, reward=1.0, done=False), Experience(state=2, action=2, reward=1.0, done=False))\n"
     ]
    }
   ],
   "source": [
    "exp_src = ptan.experience.ExperienceSource(env, agent, steps_count=3)\n",
    "\n",
    "for idx, e in enumerate(exp_src):\n",
    "    print(e)\n",
    "    if idx > 6:\n",
    "        break"
   ]
  },
  {
   "cell_type": "code",
   "execution_count": 260,
   "metadata": {
    "hidden": true
   },
   "outputs": [
    {
     "name": "stdout",
     "output_type": "stream",
     "text": [
      "ExperienceFirstLast(state=0, action=0, reward=2.0, last_state=2)\n",
      "ExperienceFirstLast(state=1, action=1, reward=2.0, last_state=3)\n",
      "ExperienceFirstLast(state=2, action=2, reward=2.0, last_state=4)\n",
      "ExperienceFirstLast(state=3, action=3, reward=2.0, last_state=5)\n",
      "ExperienceFirstLast(state=3, action=3, reward=2.0, last_state=5)\n",
      "ExperienceFirstLast(state=4, action=4, reward=2.0, last_state=None)\n",
      "ExperienceFirstLast(state=5, action=5, reward=1.0, last_state=None)\n",
      "ExperienceFirstLast(state=0, action=0, reward=2.0, last_state=2)\n"
     ]
    }
   ],
   "source": [
    "exp_src = ptan.experience.ExperienceSourceFirstLast(env, agent, steps_count=2, gamma=1.0)\n",
    "\n",
    "for idx, e in enumerate(exp_src):\n",
    "    print(e)\n",
    "    if idx > 6:\n",
    "        break"
   ]
  },
  {
   "cell_type": "code",
   "execution_count": 380,
   "metadata": {
    "hidden": true
   },
   "outputs": [],
   "source": [
    "class ExperienceSourceShiftActions(ptan.experience.ExperienceSource):\n",
    "    \"\"\"\n",
    "    Modified version of ExperienceSourceFirstLast class \n",
    "    https://github.com/Shmuma/ptan/blob/master/ptan/experience.py#L158\n",
    "    \n",
    "    Implementation is not generic, should be improved and contributed to ptan lib\n",
    "    \"\"\"\n",
    "    def __init__(self, env, agent, gamma, shift_steps=1, vectorized=False):\n",
    "        assert isinstance(gamma, float)\n",
    "        super(ExperienceSourceShiftActions, self).__init__(env, agent, shift_steps+2, 1, vectorized=vectorized)\n",
    "        self.gamma = gamma\n",
    "        self.shift_steps = shift_steps\n",
    "\n",
    "    def __iter__(self):\n",
    "        for exp in super(ExperienceSourceShiftActions, self).__iter__():\n",
    "            if len(exp) <= self.shift_steps:\n",
    "                continue\n",
    "            if exp[-1].done and len(exp) < self.shift_steps+2:\n",
    "                last_state = None\n",
    "                elems = exp\n",
    "            else:\n",
    "                last_state = exp[-1].state\n",
    "                elems = exp[:-1]\n",
    "            total_reward = 0.0\n",
    "            for e in reversed(elems):\n",
    "                total_reward *= self.gamma\n",
    "                total_reward += e.reward\n",
    "            yield ptan.experience.ExperienceFirstLast(state=exp[self.shift_steps].state, action=exp[0].action,\n",
    "                                      reward=total_reward, last_state=last_state)\n"
   ]
  },
  {
   "cell_type": "code",
   "execution_count": 270,
   "metadata": {
    "hidden": true
   },
   "outputs": [
    {
     "name": "stdout",
     "output_type": "stream",
     "text": [
      "ExperienceFirstLast(state=1, action=0, reward=2.0, last_state=2)\n",
      "ExperienceFirstLast(state=2, action=1, reward=2.0, last_state=3)\n",
      "ExperienceFirstLast(state=3, action=2, reward=2.0, last_state=4)\n",
      "ExperienceFirstLast(state=4, action=3, reward=2.0, last_state=5)\n",
      "ExperienceFirstLast(state=4, action=3, reward=2.0, last_state=5)\n",
      "ExperienceFirstLast(state=5, action=4, reward=2.0, last_state=None)\n",
      "ExperienceFirstLast(state=1, action=0, reward=2.0, last_state=2)\n",
      "ExperienceFirstLast(state=2, action=1, reward=2.0, last_state=3)\n"
     ]
    }
   ],
   "source": [
    "exp_src = ExperienceSourceShiftActions(env, agent, gamma=1.0)\n",
    "\n",
    "for idx, e in enumerate(exp_src):\n",
    "    print(e)\n",
    "    if idx > 6:\n",
    "        break"
   ]
  },
  {
   "cell_type": "markdown",
   "metadata": {},
   "source": [
    "## Check new trajectories"
   ]
  },
  {
   "cell_type": "code",
   "execution_count": 397,
   "metadata": {},
   "outputs": [
    {
     "name": "stderr",
     "output_type": "stream",
     "text": [
      "[2019-07-01 00:03:52,893] Making new env: wob.mini.ClickDialog-v0\n",
      "/home/shmuma/anaconda3/envs/miniwob/lib/python3.6/site-packages/gym/envs/registration.py:17: PkgResourcesDeprecationWarning: Parameters to load are deprecated.  Call .resolve and .require separately.\n",
      "  result = entry_point.load(False)\n",
      "[2019-07-01 00:03:52,895] Using SoftmaxClickMouse with action_region=(10, 125, 170, 285), noclick_regions=[]\n",
      "[2019-07-01 00:03:52,896] SoftmaxClickMouse noclick regions removed 0 of 256 actions\n",
      "[2019-07-01 00:03:52,898] Using the golang VNC implementation\n",
      "[2019-07-01 00:03:52,899] Using VNCSession arguments: {'encoding': 'tight', 'compress_level': 0, 'fine_quality_level': 100, 'subsample_level': 0, 'start_timeout': 7}. (Customize by running \"env.configure(vnc_kwargs={...})\"\n",
      "[2019-07-01 00:03:52,914] [0] Connecting to environment: vnc://localhost:5900 password=openai. If desired, you can manually connect a VNC viewer, such as TurboVNC. Most environments provide a convenient in-browser VNC client: http://localhost:15900/viewer/?password=openai\n"
     ]
    }
   ],
   "source": [
    "env = gym.make(\"wob.mini.ClickDialog-v0\")\n",
    "env = SoftmaxClickMouse(env)\n",
    "env = MiniWoBCropper(env)\n",
    "env = TrajectoryTracking(env, size=10)\n",
    "url = remotes_url(count=1)\n",
    "\n",
    "env.configure(remotes=url, docker_image=DOCKER_IMAGE, fps=1, vnc_kwargs={\n",
    "        'encoding': 'tight', 'compress_level': 0,\n",
    "        'fine_quality_level': 100, 'subsample_level': 0\n",
    "    })\n",
    "obs = env.reset()"
   ]
  },
  {
   "cell_type": "code",
   "execution_count": 398,
   "metadata": {},
   "outputs": [
    {
     "name": "stderr",
     "output_type": "stream",
     "text": [
      "[2019-07-01 00:04:09,369] [0:localhost:5900] Sending reset for env_id=wob.mini.ClickDialog-v0 fps=60 episode_id=0\n",
      "[2019-07-01 00:04:09,389] [0:localhost:5900] Initial reset complete: episode_id=100\n"
     ]
    }
   ],
   "source": [
    "while obs[0] is None:\n",
    "    a = env.action_space.sample()\n",
    "    obs, reward, is_done, info = env.step([a])\n",
    "    time.sleep(1)"
   ]
  },
  {
   "cell_type": "code",
   "execution_count": 399,
   "metadata": {},
   "outputs": [],
   "source": [
    "net = Model(env.observation_space.shape, env.action_space.n).to(DEVICE)\n",
    "\n",
    "parent_selector = ptan.actions.ArgmaxActionSelector()\n",
    "action_selector = ptan.actions.EpsilonGreedyActionSelector(epsilon=1, selector=parent_selector) \n",
    "agent = ptan.agent.DQNAgent(net, action_selector, device=DEVICE)\n",
    "#exp_source = ptan.experience.ExperienceSourceFirstLast(env, agent, gamma=1.0, vectorized=True)\n",
    "exp_source = ExperienceSourceShiftActions(env, agent, gamma=1.0, vectorized=True)\n",
    "\n",
    "buffer = ptan.experience.ExperienceReplayBuffer(exp_source, REPLAY_SIZE)"
   ]
  },
  {
   "cell_type": "code",
   "execution_count": 400,
   "metadata": {
    "scrolled": true
   },
   "outputs": [
    {
     "name": "stderr",
     "output_type": "stream",
     "text": [
      "[2019-07-01 00:04:11,023] [0:localhost:5900] Sending reset for env_id=wob.mini.ClickDialog-v0 fps=60 episode_id=0\n"
     ]
    },
    {
     "name": "stdout",
     "output_type": "stream",
     "text": [
      "Episode done with 6 steps and -1.000 reward\n",
      "Episode done with 10 steps and -1.000 reward\n",
      "Episode done with 11 steps and -1.000 reward\n",
      "Episode done with 10 steps and -1.000 reward\n",
      "Episode done with 11 steps and -1.000 reward\n",
      "Episode done with 10 steps and -1.000 reward\n",
      "Episode done with 11 steps and -1.000 reward\n",
      "Episode done with 10 steps and -1.000 reward\n",
      "Episode done with 11 steps and -1.000 reward\n",
      "Episode done with 8 steps and 0.292 reward\n",
      "Episode done with 5 steps and 0.551 reward\n"
     ]
    }
   ],
   "source": [
    "# populate buffer to get some trajectories\n",
    "for _ in range(100):\n",
    "    buffer.populate(1)\n",
    "    for rw, st in exp_source.pop_rewards_steps():\n",
    "        print(\"Episode done with %d steps and %.3f reward\" % (st, rw))"
   ]
  },
  {
   "cell_type": "code",
   "execution_count": 401,
   "metadata": {},
   "outputs": [
    {
     "data": {
      "text/plain": [
       "[11, 10, 11, 10, 11, 10, 11, 8, 5, 10]"
      ]
     },
     "execution_count": 401,
     "metadata": {},
     "output_type": "execute_result"
    }
   ],
   "source": [
    "list(map(len, env.trajectories))"
   ]
  },
  {
   "cell_type": "code",
   "execution_count": 405,
   "metadata": {},
   "outputs": [],
   "source": [
    "# you might want to select different trajectory to check, I've chosen not very long one with positive reward\n",
    "tr = env.trajectories[-2]\n",
    "tr_obs, tr_act, tr_rw = zip(*tr)"
   ]
  },
  {
   "cell_type": "code",
   "execution_count": 406,
   "metadata": {},
   "outputs": [
    {
     "data": {
      "text/plain": [
       "(177, 193, 183, 165, 209)"
      ]
     },
     "execution_count": 406,
     "metadata": {},
     "output_type": "execute_result"
    }
   ],
   "source": [
    "tr_act"
   ]
  },
  {
   "cell_type": "code",
   "execution_count": 407,
   "metadata": {},
   "outputs": [
    {
     "data": {
      "text/plain": [
       "(0.0, 0.0, 0.0, 0.0, 0.5508000000000001)"
      ]
     },
     "execution_count": 407,
     "metadata": {},
     "output_type": "execute_result"
    }
   ],
   "source": [
    "tr_rw"
   ]
  },
  {
   "cell_type": "code",
   "execution_count": 408,
   "metadata": {},
   "outputs": [],
   "source": [
    "imgs = [get_obs_img(obs, action=act) for obs, act in zip(tr_obs, tr_act)]"
   ]
  },
  {
   "cell_type": "code",
   "execution_count": 409,
   "metadata": {},
   "outputs": [
    {
     "data": {
      "image/png": "[encoded data removed]",
      "text/plain": [
       "<Figure size 1080x1080 with 5 Axes>"
      ]
     },
     "metadata": {
      "needs_background": "light"
     },
     "output_type": "display_data"
    }
   ],
   "source": [
    "fig = plt.figure(figsize=(15, 15))\n",
    "\n",
    "rows = 3\n",
    "for i, img in enumerate(imgs, start=1):\n",
    "    fig.add_subplot(rows, np.ceil(len(imgs)/rows), i)\n",
    "    plt.imshow(img)\n",
    "plt.show()"
   ]
  },
  {
   "cell_type": "code",
   "execution_count": 410,
   "metadata": {},
   "outputs": [],
   "source": [
    "imgs = []\n",
    "for e in buffer:\n",
    "    if e.reward > 0:\n",
    "        imgs.append(get_obs_img(e.state, action=e.action))"
   ]
  },
  {
   "cell_type": "code",
   "execution_count": 415,
   "metadata": {},
   "outputs": [
    {
     "data": {
      "image/png": "[encoded data removed]",
      "text/plain": [
       "<PIL.Image.Image image mode=RGB size=160x210 at 0x7F578ECD4710>"
      ]
     },
     "execution_count": 415,
     "metadata": {},
     "output_type": "execute_result"
    }
   ],
   "source": [
    "imgs[0]"
   ]
  },
  {
   "cell_type": "code",
   "execution_count": 416,
   "metadata": {},
   "outputs": [
    {
     "data": {
      "image/png": "[encoded data removed]",
      "text/plain": [
       "<PIL.Image.Image image mode=RGB size=160x210 at 0x7F578ECD4E10>"
      ]
     },
     "execution_count": 416,
     "metadata": {},
     "output_type": "execute_result"
    }
   ],
   "source": [
    "imgs[1]"
   ]
  },
  {
   "cell_type": "markdown",
   "metadata": {},
   "source": [
    "Ok, looks better"
   ]
  },
  {
   "cell_type": "markdown",
   "metadata": {},
   "source": [
    "## Trying our fixes"
   ]
  },
  {
   "cell_type": "code",
   "execution_count": 445,
   "metadata": {},
   "outputs": [],
   "source": [
    "GAMMA = 0.9\n",
    "REPLAY_SIZE = 10000\n",
    "MIN_REPLAY = 100\n",
    "TGT_SYNC = 100\n",
    "BATCH_SIZE = 16\n",
    "LR = 1e-3\n",
    "DEVICE = \"cuda\"  \n",
    "#DEVICE = \"cpu\"\n",
    "\n",
    "INITIAL_EPSILON = 1.0\n",
    "FINAL_EPSILON = 0.2\n",
    "STEPS_EPSILON = 1000"
   ]
  },
  {
   "cell_type": "code",
   "execution_count": 446,
   "metadata": {},
   "outputs": [
    {
     "name": "stderr",
     "output_type": "stream",
     "text": [
      "[2019-07-01 10:48:16,052] Making new env: wob.mini.ClickDialog-v0\n",
      "/home/shmuma/anaconda3/envs/miniwob/lib/python3.6/site-packages/gym/envs/registration.py:17: PkgResourcesDeprecationWarning: Parameters to load are deprecated.  Call .resolve and .require separately.\n",
      "  result = entry_point.load(False)\n",
      "[2019-07-01 10:48:16,054] Using SoftmaxClickMouse with action_region=(10, 125, 170, 285), noclick_regions=[]\n",
      "[2019-07-01 10:48:16,054] SoftmaxClickMouse noclick regions removed 0 of 256 actions\n",
      "[2019-07-01 10:48:16,055] Using the golang VNC implementation\n",
      "[2019-07-01 10:48:16,058] Using VNCSession arguments: {'encoding': 'tight', 'compress_level': 0, 'fine_quality_level': 100, 'subsample_level': 0, 'start_timeout': 7}. (Customize by running \"env.configure(vnc_kwargs={...})\"\n",
      "[2019-07-01 10:48:16,091] [0] Connecting to environment: vnc://localhost:5900 password=openai. If desired, you can manually connect a VNC viewer, such as TurboVNC. Most environments provide a convenient in-browser VNC client: http://localhost:15900/viewer/?password=openai\n"
     ]
    }
   ],
   "source": [
    "env = gym.make(\"wob.mini.ClickDialog-v0\")\n",
    "# note the order change!\n",
    "env = SoftmaxClickMouse(env)\n",
    "env = MiniWoBCropper(env)\n",
    "url = remotes_url(count=1)\n",
    "\n",
    "env.configure(remotes=url, docker_image=DOCKER_IMAGE, fps=1, vnc_kwargs={\n",
    "        'encoding': 'tight', 'compress_level': 0,\n",
    "        'fine_quality_level': 100, 'subsample_level': 0\n",
    "    })\n",
    "obs = env.reset()"
   ]
  },
  {
   "cell_type": "code",
   "execution_count": 447,
   "metadata": {},
   "outputs": [
    {
     "name": "stderr",
     "output_type": "stream",
     "text": [
      "[2019-07-01 10:48:32,551] [0:localhost:5900] Sending reset for env_id=wob.mini.ClickDialog-v0 fps=60 episode_id=0\n",
      "[2019-07-01 10:48:32,600] [0:localhost:5900] Initial reset complete: episode_id=147\n"
     ]
    }
   ],
   "source": [
    "while obs[0] is None:\n",
    "    a = env.action_space.sample()\n",
    "    obs, reward, is_done, info = env.step([a])\n",
    "    time.sleep(1)"
   ]
  },
  {
   "cell_type": "code",
   "execution_count": 448,
   "metadata": {},
   "outputs": [],
   "source": [
    "net = Model(env.observation_space.shape, env.action_space.n).to(DEVICE)\n",
    "tgt_net = ptan.agent.TargetNet(net)\n",
    "\n",
    "parent_selector = ptan.actions.ArgmaxActionSelector()\n",
    "action_selector = ptan.actions.EpsilonGreedyActionSelector(epsilon=INITIAL_EPSILON, selector=parent_selector) \n",
    "agent = ptan.agent.DQNAgent(net, action_selector, device=DEVICE)\n",
    "#exp_source = ptan.experience.ExperienceSourceFirstLast(env, agent, gamma=GAMMA, vectorized=True)\n",
    "exp_source = ExperienceSourceShiftActions(env, agent, gamma=GAMMA, vectorized=True)\n",
    "\n",
    "buffer = ptan.experience.ExperienceReplayBuffer(exp_source, REPLAY_SIZE)\n",
    "optimizer = optim.Adam(net.parameters(), LR)"
   ]
  },
  {
   "cell_type": "code",
   "execution_count": null,
   "metadata": {},
   "outputs": [
    {
     "name": "stderr",
     "output_type": "stream",
     "text": [
      "[2019-07-01 10:48:34,209] [0:localhost:5900] Sending reset for env_id=wob.mini.ClickDialog-v0 fps=60 episode_id=0\n"
     ]
    },
    {
     "name": "stdout",
     "output_type": "stream",
     "text": [
      "10: Done 1 episodes, last 100 means: reward=-1.000, steps=10.000, speed=0.71 steps/s, eps=1.00\n",
      "19: Done 2 episodes, last 100 means: reward=-1.000, steps=10.000, speed=0.90 steps/s, eps=1.00\n",
      "29: Done 3 episodes, last 100 means: reward=-1.000, steps=10.333, speed=0.91 steps/s, eps=1.00\n",
      "38: Done 4 episodes, last 100 means: reward=-1.000, steps=10.250, speed=0.90 steps/s, eps=1.00\n",
      "43: Done 5 episodes, last 100 means: reward=-0.700, steps=9.400, speed=0.83 steps/s, eps=1.00\n",
      "52: Done 6 episodes, last 100 means: reward=-0.750, steps=9.500, speed=0.90 steps/s, eps=1.00\n",
      "62: Done 7 episodes, last 100 means: reward=-0.785, steps=9.714, speed=0.91 steps/s, eps=1.00\n",
      "71: Done 8 episodes, last 100 means: reward=-0.812, steps=9.750, speed=0.90 steps/s, eps=1.00\n",
      "81: Done 9 episodes, last 100 means: reward=-0.833, steps=9.889, speed=0.91 steps/s, eps=1.00\n",
      "90: Done 10 episodes, last 100 means: reward=-0.850, steps=9.900, speed=0.90 steps/s, eps=1.00\n",
      "100: Done 11 episodes, last 100 means: reward=-0.863, steps=10.000, speed=0.91 steps/s, eps=1.00\n",
      "100: nets synced, mean loss for last 100 steps = 0.147\n",
      "108: Done 12 episodes, last 100 means: reward=-0.875, steps=9.917, speed=0.91 steps/s, eps=0.89\n",
      "109: Done 13 episodes, last 100 means: reward=-0.744, steps=9.385, speed=0.25 steps/s, eps=0.89\n",
      "117: Done 14 episodes, last 100 means: reward=-0.763, steps=9.357, speed=0.82 steps/s, eps=0.88\n",
      "126: Done 15 episodes, last 100 means: reward=-0.778, steps=9.400, speed=0.83 steps/s, eps=0.88\n",
      "135: Done 16 episodes, last 100 means: reward=-0.792, steps=9.438, speed=0.83 steps/s, eps=0.87\n",
      "144: Done 17 episodes, last 100 means: reward=-0.804, steps=9.471, speed=0.83 steps/s, eps=0.86\n",
      "150: Done 18 episodes, last 100 means: reward=-0.745, steps=9.333, speed=0.77 steps/s, eps=0.85\n",
      "158: Done 19 episodes, last 100 means: reward=-0.758, steps=9.316, speed=0.81 steps/s, eps=0.84\n",
      "167: Done 20 episodes, last 100 means: reward=-0.770, steps=9.350, speed=0.83 steps/s, eps=0.83\n",
      "176: Done 21 episodes, last 100 means: reward=-0.781, steps=9.381, speed=0.83 steps/s, eps=0.82\n",
      "184: Done 22 episodes, last 100 means: reward=-0.791, steps=9.364, speed=0.82 steps/s, eps=0.82\n",
      "193: Done 23 episodes, last 100 means: reward=-0.800, steps=9.391, speed=0.83 steps/s, eps=0.81\n",
      "200: nets synced, mean loss for last 100 steps = 0.040\n",
      "202: Done 24 episodes, last 100 means: reward=-0.808, steps=9.417, speed=0.83 steps/s, eps=0.80\n",
      "210: Done 25 episodes, last 100 means: reward=-0.816, steps=9.400, speed=0.82 steps/s, eps=0.79\n",
      "217: Done 26 episodes, last 100 means: reward=-0.775, steps=9.346, speed=0.79 steps/s, eps=0.78\n",
      "224: Done 27 episodes, last 100 means: reward=-0.740, steps=9.296, speed=0.80 steps/s, eps=0.78\n",
      "232: Done 28 episodes, last 100 means: reward=-0.749, steps=9.286, speed=0.82 steps/s, eps=0.77\n",
      "241: Done 29 episodes, last 100 means: reward=-0.758, steps=9.310, speed=0.83 steps/s, eps=0.76\n",
      "250: Done 30 episodes, last 100 means: reward=-0.766, steps=9.333, speed=0.83 steps/s, eps=0.75\n",
      "258: Done 31 episodes, last 100 means: reward=-0.773, steps=9.323, speed=0.81 steps/s, eps=0.74\n",
      "267: Done 32 episodes, last 100 means: reward=-0.780, steps=9.344, speed=0.83 steps/s, eps=0.73\n",
      "276: Done 33 episodes, last 100 means: reward=-0.787, steps=9.364, speed=0.83 steps/s, eps=0.72\n",
      "284: Done 34 episodes, last 100 means: reward=-0.793, steps=9.353, speed=0.81 steps/s, eps=0.72\n",
      "293: Done 35 episodes, last 100 means: reward=-0.799, steps=9.371, speed=0.83 steps/s, eps=0.71\n",
      "299: Done 36 episodes, last 100 means: reward=-0.768, steps=9.306, speed=0.77 steps/s, eps=0.70\n",
      "300: nets synced, mean loss for last 100 steps = 0.081\n",
      "307: Done 37 episodes, last 100 means: reward=-0.774, steps=9.297, speed=0.81 steps/s, eps=0.69\n",
      "316: Done 38 episodes, last 100 means: reward=-0.780, steps=9.316, speed=0.83 steps/s, eps=0.69\n",
      "325: Done 39 episodes, last 100 means: reward=-0.786, steps=9.333, speed=0.91 steps/s, eps=0.68\n",
      "326: Done 40 episodes, last 100 means: reward=-0.748, steps=9.175, speed=0.25 steps/s, eps=0.68\n",
      "334: Done 41 episodes, last 100 means: reward=-0.754, steps=9.171, speed=0.81 steps/s, eps=0.67\n",
      "343: Done 42 episodes, last 100 means: reward=-0.760, steps=9.190, speed=0.83 steps/s, eps=0.66\n",
      "352: Done 43 episodes, last 100 means: reward=-0.766, steps=9.209, speed=0.83 steps/s, eps=0.65\n",
      "360: Done 44 episodes, last 100 means: reward=-0.771, steps=9.205, speed=0.81 steps/s, eps=0.64\n",
      "369: Done 45 episodes, last 100 means: reward=-0.776, steps=9.222, speed=0.83 steps/s, eps=0.63\n",
      "378: Done 46 episodes, last 100 means: reward=-0.781, steps=9.239, speed=0.83 steps/s, eps=0.62\n",
      "387: Done 47 episodes, last 100 means: reward=-0.786, steps=9.255, speed=0.83 steps/s, eps=0.61\n",
      "395: Done 48 episodes, last 100 means: reward=-0.790, steps=9.250, speed=0.81 steps/s, eps=0.61\n",
      "400: nets synced, mean loss for last 100 steps = 0.103\n",
      "404: Done 49 episodes, last 100 means: reward=-0.794, steps=9.265, speed=0.83 steps/s, eps=0.60\n",
      "413: Done 50 episodes, last 100 means: reward=-0.799, steps=9.280, speed=0.83 steps/s, eps=0.59\n",
      "421: Done 51 episodes, last 100 means: reward=-0.802, steps=9.275, speed=0.81 steps/s, eps=0.58\n",
      "430: Done 52 episodes, last 100 means: reward=-0.806, steps=9.288, speed=0.83 steps/s, eps=0.57\n",
      "438: Done 53 episodes, last 100 means: reward=-0.810, steps=9.283, speed=0.81 steps/s, eps=0.56\n",
      "447: Done 54 episodes, last 100 means: reward=-0.813, steps=9.296, speed=0.83 steps/s, eps=0.55\n",
      "456: Done 55 episodes, last 100 means: reward=-0.817, steps=9.309, speed=0.83 steps/s, eps=0.54\n",
      "464: Done 56 episodes, last 100 means: reward=-0.820, steps=9.304, speed=0.81 steps/s, eps=0.54\n",
      "473: Done 57 episodes, last 100 means: reward=-0.823, steps=9.316, speed=0.83 steps/s, eps=0.53\n",
      "482: Done 58 episodes, last 100 means: reward=-0.826, steps=9.328, speed=0.83 steps/s, eps=0.52\n",
      "490: Done 59 episodes, last 100 means: reward=-0.829, steps=9.322, speed=0.79 steps/s, eps=0.51\n",
      "499: Done 60 episodes, last 100 means: reward=-0.832, steps=9.333, speed=0.83 steps/s, eps=0.50\n",
      "500: nets synced, mean loss for last 100 steps = 0.106\n",
      "507: Done 61 episodes, last 100 means: reward=-0.835, steps=9.328, speed=0.81 steps/s, eps=0.49\n",
      "516: Done 62 episodes, last 100 means: reward=-0.838, steps=9.339, speed=0.83 steps/s, eps=0.48\n",
      "525: Done 63 episodes, last 100 means: reward=-0.840, steps=9.349, speed=0.83 steps/s, eps=0.48\n",
      "534: Done 64 episodes, last 100 means: reward=-0.843, steps=9.359, speed=0.83 steps/s, eps=0.47\n",
      "542: Done 65 episodes, last 100 means: reward=-0.845, steps=9.354, speed=0.82 steps/s, eps=0.46\n",
      "551: Done 66 episodes, last 100 means: reward=-0.847, steps=9.364, speed=0.83 steps/s, eps=0.45\n"
     ]
    },
    {
     "name": "stderr",
     "output_type": "stream",
     "text": [
      "[2019-07-01 10:59:48,410] Throttle fell behind by 1.04s; lost 1.04 frames\n"
     ]
    },
    {
     "name": "stdout",
     "output_type": "stream",
     "text": [
      "560: Done 67 episodes, last 100 means: reward=-0.850, steps=9.373, speed=0.81 steps/s, eps=0.44\n",
      "568: Done 68 episodes, last 100 means: reward=-0.852, steps=9.368, speed=0.81 steps/s, eps=0.43\n",
      "577: Done 69 episodes, last 100 means: reward=-0.854, steps=9.377, speed=0.83 steps/s, eps=0.42\n",
      "586: Done 70 episodes, last 100 means: reward=-0.856, steps=9.386, speed=0.83 steps/s, eps=0.42\n",
      "594: Done 71 episodes, last 100 means: reward=-0.858, steps=9.380, speed=0.81 steps/s, eps=0.41\n",
      "600: nets synced, mean loss for last 100 steps = 0.125\n"
     ]
    },
    {
     "name": "stderr",
     "output_type": "stream",
     "text": [
      "[2019-07-01 11:00:40,746] Throttle fell behind by 1.04s; lost 1.04 frames\n"
     ]
    },
    {
     "name": "stdout",
     "output_type": "stream",
     "text": [
      "603: Done 72 episodes, last 100 means: reward=-0.860, steps=9.389, speed=0.81 steps/s, eps=0.40\n",
      "611: Done 73 episodes, last 100 means: reward=-0.862, steps=9.384, speed=0.82 steps/s, eps=0.39\n",
      "620: Done 74 episodes, last 100 means: reward=-0.864, steps=9.392, speed=0.83 steps/s, eps=0.38\n",
      "629: Done 75 episodes, last 100 means: reward=-0.866, steps=9.400, speed=0.83 steps/s, eps=0.37\n",
      "637: Done 76 episodes, last 100 means: reward=-0.867, steps=9.395, speed=0.82 steps/s, eps=0.36\n",
      "646: Done 77 episodes, last 100 means: reward=-0.869, steps=9.403, speed=0.92 steps/s, eps=0.35\n",
      "647: Done 78 episodes, last 100 means: reward=-0.858, steps=9.321, speed=0.25 steps/s, eps=0.35\n",
      "655: Done 79 episodes, last 100 means: reward=-0.850, steps=9.316, speed=0.82 steps/s, eps=0.35\n",
      "664: Done 80 episodes, last 100 means: reward=-0.852, steps=9.325, speed=0.83 steps/s, eps=0.34\n",
      "673: Done 81 episodes, last 100 means: reward=-0.853, steps=9.333, speed=0.83 steps/s, eps=0.33\n",
      "682: Done 82 episodes, last 100 means: reward=-0.855, steps=9.341, speed=0.83 steps/s, eps=0.32\n",
      "690: Done 83 episodes, last 100 means: reward=-0.857, steps=9.337, speed=0.82 steps/s, eps=0.31\n",
      "699: Done 84 episodes, last 100 means: reward=-0.859, steps=9.345, speed=0.83 steps/s, eps=0.30\n",
      "700: nets synced, mean loss for last 100 steps = 0.132\n",
      "708: Done 85 episodes, last 100 means: reward=-0.849, steps=9.353, speed=0.83 steps/s, eps=0.29\n",
      "716: Done 86 episodes, last 100 means: reward=-0.862, steps=9.349, speed=0.82 steps/s, eps=0.29\n",
      "725: Done 87 episodes, last 100 means: reward=-0.864, steps=9.356, speed=0.83 steps/s, eps=0.28\n",
      "734: Done 88 episodes, last 100 means: reward=-0.865, steps=9.364, speed=0.83 steps/s, eps=0.27\n",
      "743: Done 89 episodes, last 100 means: reward=-0.867, steps=9.371, speed=0.83 steps/s, eps=0.26\n",
      "751: Done 90 episodes, last 100 means: reward=-0.868, steps=9.367, speed=0.82 steps/s, eps=0.25\n",
      "760: Done 91 episodes, last 100 means: reward=-0.870, steps=9.374, speed=0.83 steps/s, eps=0.24\n",
      "769: Done 92 episodes, last 100 means: reward=-0.871, steps=9.380, speed=0.83 steps/s, eps=0.23\n",
      "777: Done 93 episodes, last 100 means: reward=-0.872, steps=9.376, speed=0.91 steps/s, eps=0.22\n",
      "778: Done 94 episodes, last 100 means: reward=-0.854, steps=9.309, speed=0.25 steps/s, eps=0.22\n",
      "786: Done 95 episodes, last 100 means: reward=-0.856, steps=9.305, speed=0.82 steps/s, eps=0.21\n",
      "795: Done 96 episodes, last 100 means: reward=-0.857, steps=9.312, speed=0.83 steps/s, eps=0.21\n",
      "800: nets synced, mean loss for last 100 steps = 0.159\n",
      "804: Done 97 episodes, last 100 means: reward=-0.859, steps=9.320, speed=0.83 steps/s, eps=0.20\n",
      "813: Done 98 episodes, last 100 means: reward=-0.860, steps=9.327, speed=0.83 steps/s, eps=0.20\n",
      "821: Done 99 episodes, last 100 means: reward=-0.862, steps=9.323, speed=0.82 steps/s, eps=0.20\n",
      "830: Done 100 episodes, last 100 means: reward=-0.863, steps=9.330, speed=0.83 steps/s, eps=0.20\n",
      "839: Done 101 episodes, last 100 means: reward=-0.863, steps=9.330, speed=0.83 steps/s, eps=0.20\n",
      "847: Done 102 episodes, last 100 means: reward=-0.863, steps=9.320, speed=0.82 steps/s, eps=0.20\n",
      "856: Done 103 episodes, last 100 means: reward=-0.863, steps=9.310, speed=0.83 steps/s, eps=0.20\n",
      "865: Done 104 episodes, last 100 means: reward=-0.853, steps=9.310, speed=0.83 steps/s, eps=0.20\n",
      "874: Done 106 episodes, last 100 means: reward=-0.859, steps=9.260, speed=0.76 steps/s, eps=0.20\n",
      "882: Done 107 episodes, last 100 means: reward=-0.859, steps=9.240, speed=0.82 steps/s, eps=0.20\n",
      "891: Done 108 episodes, last 100 means: reward=-0.859, steps=9.240, speed=0.83 steps/s, eps=0.20\n",
      "900: Done 109 episodes, last 100 means: reward=-0.859, steps=9.230, speed=0.83 steps/s, eps=0.20\n",
      "900: nets synced, mean loss for last 100 steps = 0.176\n",
      "908: Done 110 episodes, last 100 means: reward=-0.859, steps=9.220, speed=0.82 steps/s, eps=0.20\n",
      "917: Done 111 episodes, last 100 means: reward=-0.859, steps=9.210, speed=0.83 steps/s, eps=0.20\n",
      "926: Done 112 episodes, last 100 means: reward=-0.859, steps=9.220, speed=0.83 steps/s, eps=0.20\n",
      "934: Done 113 episodes, last 100 means: reward=-0.877, steps=9.280, speed=0.82 steps/s, eps=0.20\n",
      "943: Done 114 episodes, last 100 means: reward=-0.877, steps=9.290, speed=0.83 steps/s, eps=0.20\n",
      "952: Done 115 episodes, last 100 means: reward=-0.867, steps=9.290, speed=0.83 steps/s, eps=0.20\n",
      "961: Done 116 episodes, last 100 means: reward=-0.877, steps=9.290, speed=0.82 steps/s, eps=0.20\n",
      "969: Done 117 episodes, last 100 means: reward=-0.877, steps=9.280, speed=0.82 steps/s, eps=0.20\n",
      "978: Done 118 episodes, last 100 means: reward=-0.890, steps=9.310, speed=0.83 steps/s, eps=0.20\n",
      "987: Done 119 episodes, last 100 means: reward=-0.890, steps=9.320, speed=0.83 steps/s, eps=0.20\n",
      "995: Done 120 episodes, last 100 means: reward=-0.890, steps=9.310, speed=0.82 steps/s, eps=0.20\n",
      "1000: nets synced, mean loss for last 100 steps = 0.201\n",
      "1004: Done 121 episodes, last 100 means: reward=-0.890, steps=9.310, speed=0.83 steps/s, eps=0.20\n",
      "1013: Done 122 episodes, last 100 means: reward=-0.890, steps=9.320, speed=0.83 steps/s, eps=0.20\n",
      "1021: Done 123 episodes, last 100 means: reward=-0.890, steps=9.310, speed=0.81 steps/s, eps=0.20\n",
      "1030: Done 124 episodes, last 100 means: reward=-0.890, steps=9.310, speed=0.83 steps/s, eps=0.20\n",
      "1039: Done 125 episodes, last 100 means: reward=-0.890, steps=9.320, speed=0.83 steps/s, eps=0.20\n",
      "1047: Done 126 episodes, last 100 means: reward=-0.902, steps=9.330, speed=0.82 steps/s, eps=0.20\n",
      "1056: Done 127 episodes, last 100 means: reward=-0.914, steps=9.350, speed=0.83 steps/s, eps=0.20\n",
      "1065: Done 128 episodes, last 100 means: reward=-0.914, steps=9.360, speed=0.83 steps/s, eps=0.20\n",
      "1074: Done 129 episodes, last 100 means: reward=-0.914, steps=9.360, speed=0.83 steps/s, eps=0.20\n",
      "1082: Done 130 episodes, last 100 means: reward=-0.914, steps=9.350, speed=0.82 steps/s, eps=0.20\n"
     ]
    },
    {
     "name": "stderr",
     "output_type": "stream",
     "text": [
      "[2019-07-01 11:10:31,115] Throttle fell behind by 1.06s; lost 1.06 frames\n"
     ]
    },
    {
     "name": "stdout",
     "output_type": "stream",
     "text": [
      "1087: Done 131 episodes, last 100 means: reward=-0.899, steps=9.320, speed=0.71 steps/s, eps=0.20\n",
      "1095: Done 132 episodes, last 100 means: reward=-0.899, steps=9.310, speed=0.82 steps/s, eps=0.20\n",
      "1100: nets synced, mean loss for last 100 steps = 0.209\n",
      "1104: Done 133 episodes, last 100 means: reward=-0.899, steps=9.310, speed=0.83 steps/s, eps=0.20\n",
      "1112: Done 134 episodes, last 100 means: reward=-0.899, steps=9.310, speed=0.82 steps/s, eps=0.20\n"
     ]
    }
   ],
   "source": [
    "episode_rewards = []\n",
    "episode_steps = []\n",
    "losses = []\n",
    "steps = 0\n",
    "last_ts = time.time()\n",
    "last_steps = 0\n",
    "\n",
    "while True:\n",
    "    steps += 1\n",
    "    buffer.populate(1)\n",
    "    r = exp_source.pop_rewards_steps()\n",
    "    if r:\n",
    "        for rw, st in r:\n",
    "            episode_rewards.append(rw)\n",
    "            episode_steps.append(st)\n",
    "        speed = (steps - last_steps) / (time.time() - last_ts)\n",
    "        print(\"%d: Done %d episodes, last 100 means: reward=%.3f, steps=%.3f, speed=%.2f steps/s, eps=%.2f\" % (\n",
    "            steps, len(episode_rewards), np.mean(episode_rewards[-100:]), \n",
    "            np.mean(episode_steps[-100:]), speed, action_selector.epsilon\n",
    "        ))\n",
    "        last_ts = time.time()\n",
    "        last_steps = steps\n",
    "        if np.mean(episode_rewards[-100:]) > 0.9:\n",
    "            print(\"You solved the env! Congrats!\")\n",
    "            break\n",
    "    if len(buffer) < MIN_REPLAY:\n",
    "        continue\n",
    "    batch = buffer.sample(BATCH_SIZE)\n",
    "    state_v, actions_v, ref_q_v = unpack_batch(batch, tgt_net.target_model, gamma=GAMMA, device=DEVICE)\n",
    "    optimizer.zero_grad()\n",
    "    q_v = net(state_v)\n",
    "    q_v = q_v.gather(1, actions_v.unsqueeze(-1)).squeeze(-1)\n",
    "    loss_v = F.mse_loss(q_v, ref_q_v)\n",
    "    loss_v.backward()\n",
    "    optimizer.step()\n",
    "    losses.append(loss_v.item())\n",
    "    \n",
    "    if steps % TGT_SYNC == 0:\n",
    "        print(\"%d: nets synced, mean loss for last 100 steps = %.3f\" % (\n",
    "            steps, np.mean(losses[-100:])))\n",
    "        tgt_net.sync()\n",
    "    action_selector.epsilon = max(FINAL_EPSILON, INITIAL_EPSILON - steps / STEPS_EPSILON)"
   ]
  },
  {
   "cell_type": "code",
   "execution_count": 453,
   "metadata": {},
   "outputs": [
    {
     "data": {
      "text/plain": [
       "[<matplotlib.lines.Line2D at 0x7f575fc1e588>]"
      ]
     },
     "execution_count": 453,
     "metadata": {},
     "output_type": "execute_result"
    },
    {
     "data": {
      "image/png": "[encoded data removed]",
      "text/plain": [
       "<Figure size 432x288 with 1 Axes>"
      ]
     },
     "metadata": {
      "needs_background": "light"
     },
     "output_type": "display_data"
    }
   ],
   "source": [
    "plt.plot(episode_rewards)"
   ]
  },
  {
   "cell_type": "markdown",
   "metadata": {},
   "source": [
    "Ok, not very helpful. Need to try other approaches."
   ]
  },
  {
   "cell_type": "markdown",
   "metadata": {},
   "source": [
    "## Overfit to subset of samples\n",
    "\n",
    "Normal approach to debug ML/DL methods is to try to overfit to some known set of samples. This allows us to inspect those samples and check values predicted by the model.\n",
    "\n",
    "Overall plan is the following:\n",
    "* reuse our class `TrajectoryTracking` to have access to trajectories,\n",
    "* play 10-20 episodes gathering data\n",
    "* take several final steps of successfull episodes (with positive reward) and several final steps from failed episodes\n",
    "* train on this data for several epoches\n",
    "* check training dynamics and values returned by the model\n",
    "* think\n",
    "\n",
    "If you feel yourself brave enough, you can try to implement this yourself without peeking into the next section."
   ]
  },
  {
   "cell_type": "code",
   "execution_count": 498,
   "metadata": {},
   "outputs": [
    {
     "name": "stderr",
     "output_type": "stream",
     "text": [
      "[2019-07-01 13:58:57,493] Making new env: wob.mini.ClickDialog-v0\n",
      "/home/shmuma/anaconda3/envs/miniwob/lib/python3.6/site-packages/gym/envs/registration.py:17: PkgResourcesDeprecationWarning: Parameters to load are deprecated.  Call .resolve and .require separately.\n",
      "  result = entry_point.load(False)\n",
      "[2019-07-01 13:58:57,495] Using SoftmaxClickMouse with action_region=(10, 125, 170, 285), noclick_regions=[]\n",
      "[2019-07-01 13:58:57,496] SoftmaxClickMouse noclick regions removed 0 of 256 actions\n",
      "[2019-07-01 13:58:57,501] Using the golang VNC implementation\n",
      "[2019-07-01 13:58:57,502] Using VNCSession arguments: {'encoding': 'tight', 'compress_level': 0, 'fine_quality_level': 100, 'subsample_level': 0, 'start_timeout': 7}. (Customize by running \"env.configure(vnc_kwargs={...})\"\n",
      "[2019-07-01 13:58:57,517] [0] Connecting to environment: vnc://localhost:5900 password=openai. If desired, you can manually connect a VNC viewer, such as TurboVNC. Most environments provide a convenient in-browser VNC client: http://localhost:15900/viewer/?password=openai\n",
      "[2019-07-01 13:59:13,934] [0:localhost:5900] Sending reset for env_id=wob.mini.ClickDialog-v0 fps=60 episode_id=0\n",
      "[2019-07-01 13:59:13,950] [0:localhost:5900] Initial reset complete: episode_id=190\n"
     ]
    }
   ],
   "source": [
    "env = gym.make(\"wob.mini.ClickDialog-v0\")\n",
    "env = SoftmaxClickMouse(env)\n",
    "env = MiniWoBCropper(env)\n",
    "env = TrajectoryTracking(env, size=10)\n",
    "url = remotes_url(count=1)\n",
    "\n",
    "env.configure(remotes=url, docker_image=DOCKER_IMAGE, fps=1, vnc_kwargs={\n",
    "        'encoding': 'tight', 'compress_level': 0,\n",
    "        'fine_quality_level': 100, 'subsample_level': 0\n",
    "    })\n",
    "obs = env.reset()\n",
    "\n",
    "while obs[0] is None:\n",
    "    a = env.action_space.sample()\n",
    "    obs, reward, is_done, info = env.step([a])\n",
    "    time.sleep(1)"
   ]
  },
  {
   "cell_type": "code",
   "execution_count": 499,
   "metadata": {},
   "outputs": [],
   "source": [
    "net = Model(env.observation_space.shape, env.action_space.n).to(DEVICE)\n",
    "\n",
    "parent_selector = ptan.actions.ArgmaxActionSelector()\n",
    "action_selector = ptan.actions.EpsilonGreedyActionSelector(epsilon=1, selector=parent_selector) \n",
    "agent = ptan.agent.DQNAgent(net, action_selector, device=DEVICE)\n",
    "#exp_source = ptan.experience.ExperienceSourceFirstLast(env, agent, gamma=1.0, vectorized=True)\n",
    "exp_source = ExperienceSourceShiftActions(env, agent, gamma=1.0, vectorized=True)\n",
    "\n",
    "buffer = ptan.experience.ExperienceReplayBuffer(exp_source, REPLAY_SIZE)"
   ]
  },
  {
   "cell_type": "code",
   "execution_count": null,
   "metadata": {},
   "outputs": [
    {
     "name": "stderr",
     "output_type": "stream",
     "text": [
      "[2019-07-01 13:59:15,634] [0:localhost:5900] Sending reset for env_id=wob.mini.ClickDialog-v0 fps=60 episode_id=0\n"
     ]
    },
    {
     "name": "stdout",
     "output_type": "stream",
     "text": [
      "Episode done with 5 steps and -1.000 reward\n",
      "Episode done with 11 steps and -1.000 reward\n",
      "Episode done with 10 steps and -1.000 reward\n",
      "Episode done with 11 steps and -1.000 reward\n",
      "Episode done with 10 steps and 0.000 reward\n",
      "Episode done with 11 steps and -2.000 reward\n",
      "Episode done with 10 steps and -1.000 reward\n",
      "Episode done with 11 steps and -1.000 reward\n",
      "Episode done with 10 steps and -1.000 reward\n",
      "Episode done with 11 steps and -1.000 reward\n",
      "Episode done with 10 steps and -1.000 reward\n",
      "Episode done with 11 steps and -1.000 reward\n",
      "Episode done with 10 steps and -1.000 reward\n",
      "Episode done with 11 steps and -1.000 reward\n",
      "Episode done with 10 steps and -1.000 reward\n",
      "Episode done with 11 steps and -1.000 reward\n",
      "Episode done with 10 steps and -1.000 reward\n",
      "Episode done with 11 steps and -1.000 reward\n",
      "Episode done with 10 steps and -1.000 reward\n",
      "Episode done with 11 steps and -1.000 reward\n",
      "Episode done with 6 steps and 0.496 reward\n",
      "Episode done with 10 steps and -1.000 reward\n",
      "Episode done with 11 steps and -1.000 reward\n",
      "Episode done with 10 steps and -1.000 reward\n",
      "Episode done with 11 steps and -1.000 reward\n",
      "Episode done with 10 steps and -1.000 reward\n",
      "Episode done with 11 steps and -1.000 reward\n",
      "Episode done with 10 steps and -1.000 reward\n",
      "Episode done with 11 steps and -1.000 reward\n",
      "Episode done with 10 steps and 0.000 reward\n",
      "Episode done with 11 steps and -2.000 reward\n",
      "Episode done with 10 steps and -1.000 reward\n",
      "Episode done with 11 steps and -1.000 reward\n",
      "Episode done with 10 steps and -1.000 reward\n",
      "Episode done with 11 steps and -1.000 reward\n",
      "Episode done with 10 steps and -1.000 reward\n",
      "Episode done with 11 steps and 0.010 reward\n",
      "Episode done with 10 steps and -1.000 reward\n",
      "Episode done with 11 steps and -1.000 reward\n",
      "Episode done with 10 steps and -1.000 reward\n",
      "Episode done with 11 steps and -1.000 reward\n",
      "Episode done with 10 steps and -1.000 reward\n",
      "Episode done with 11 steps and -1.000 reward\n",
      "Episode done with 10 steps and -1.000 reward\n",
      "Episode done with 11 steps and -1.000 reward\n"
     ]
    }
   ],
   "source": [
    "# wait for given amount of trajectories of both kind\n",
    "COUNT_REQUIRED = 2\n",
    "positive_traj = []\n",
    "negative_traj = []\n",
    "\n",
    "while len(positive_traj) < COUNT_REQUIRED or len(negative_traj) < COUNT_REQUIRED:\n",
    "    buffer.populate(1)\n",
    "    for rw, st in exp_source.pop_rewards_steps():\n",
    "        print(\"Episode done with %d steps and %.3f reward\" % (st, rw))\n",
    "        if rw > 0.2:\n",
    "            positive_traj.append(env.trajectories[-1])\n",
    "        elif rw < -0.2 and len(negative_traj) <= COUNT_REQUIRED:\n",
    "            negative_traj.append(env.trajectories[-1])"
   ]
  },
  {
   "cell_type": "markdown",
   "metadata": {},
   "source": [
    "It might take some time before you get two episodes with positive reward.\n",
    "\n",
    "Btw, sparcity of good examples might be the reason of bad convergence. One of the way of dealing with that could be increase of `fps` option on Env creation, just to have more clicks done."
   ]
  },
  {
   "cell_type": "code",
   "execution_count": 504,
   "metadata": {},
   "outputs": [
    {
     "name": "stdout",
     "output_type": "stream",
     "text": [
      "241 0.0\n",
      "40 0.0\n",
      "241 0.0\n",
      "170 0.0\n",
      "180 0.0\n",
      "149 0.496\n"
     ]
    }
   ],
   "source": [
    "for s in positive_traj[0]:\n",
    "    print(s[1], s[2])"
   ]
  },
  {
   "cell_type": "code",
   "execution_count": 505,
   "metadata": {},
   "outputs": [
    {
     "data": {
      "image/png": "[encoded data removed]",
      "text/plain": [
       "<PIL.Image.Image image mode=RGB size=160x210 at 0x7F575F66CE48>"
      ]
     },
     "execution_count": 505,
     "metadata": {},
     "output_type": "execute_result"
    }
   ],
   "source": [
    "img = get_obs_img(positive_traj[0][-1][0], action=positive_traj[0][-2][1])\n",
    "img"
   ]
  },
  {
   "cell_type": "code",
   "execution_count": 507,
   "metadata": {},
   "outputs": [
    {
     "data": {
      "image/png": "[encoded data removed]",
      "text/plain": [
       "<PIL.Image.Image image mode=RGB size=160x210 at 0x7F575F6679E8>"
      ]
     },
     "execution_count": 507,
     "metadata": {},
     "output_type": "execute_result"
    }
   ],
   "source": [
    "img = get_obs_img(positive_traj[1][-1][0], action=positive_traj[1][-2][1])\n",
    "img"
   ]
  },
  {
   "cell_type": "code",
   "execution_count": 514,
   "metadata": {},
   "outputs": [],
   "source": [
    "training_positive = []\n",
    "\n",
    "# find this sample in our replay buffer\n",
    "for traj in positive_traj:\n",
    "    for sample in buffer:\n",
    "        if (sample.state == traj[-1][0]).all() and sample.action == traj[-2][1] and sample.last_state is None:\n",
    "            training_positive.append(sample)"
   ]
  },
  {
   "cell_type": "code",
   "execution_count": 516,
   "metadata": {},
   "outputs": [],
   "source": [
    "training_negative = []\n",
    "\n",
    "for traj in negative_traj:\n",
    "    for sample in buffer:\n",
    "        if (sample.state == traj[-1][0]).all() and sample.action == traj[-2][1] and sample.last_state is None:\n",
    "            training_negative.append(sample)"
   ]
  },
  {
   "cell_type": "code",
   "execution_count": 522,
   "metadata": {},
   "outputs": [],
   "source": [
    "training_negative = []\n",
    "\n",
    "for sample in buffer:\n",
    "    if sample.last_state is None and sample.reward < -0.2:\n",
    "        training_negative.append(sample)\n",
    "    if len(training_negative) == 2:\n",
    "        break"
   ]
  },
  {
   "cell_type": "code",
   "execution_count": 524,
   "metadata": {},
   "outputs": [],
   "source": [
    "batch = list(training_positive)\n",
    "batch.extend(training_negative)"
   ]
  },
  {
   "cell_type": "code",
   "execution_count": 537,
   "metadata": {},
   "outputs": [],
   "source": [
    "optimizer = optim.Adam(net.parameters(), LR)"
   ]
  },
  {
   "cell_type": "code",
   "execution_count": 538,
   "metadata": {},
   "outputs": [],
   "source": [
    "# training the net\n",
    "losses = []\n",
    "q_vals = []\n",
    "\n",
    "for _ in range(100):\n",
    "    state_v, actions_v, ref_q_v = unpack_batch(batch, net, gamma=GAMMA, device=DEVICE)\n",
    "    optimizer.zero_grad()\n",
    "    q_v = net(state_v)\n",
    "    q_v = q_v.gather(1, actions_v.unsqueeze(-1)).squeeze(-1)\n",
    "    loss_v = F.mse_loss(q_v, ref_q_v)\n",
    "    loss_v.backward()\n",
    "    optimizer.step()\n",
    "    losses.append(loss_v.item())\n",
    "    q_vals.append(q_v.cpu().detach().numpy())"
   ]
  },
  {
   "cell_type": "code",
   "execution_count": 539,
   "metadata": {},
   "outputs": [
    {
     "data": {
      "text/plain": [
       "[0.6471409201622009,\n",
       " 0.6269791126251221,\n",
       " 0.6078374981880188,\n",
       " 0.5866777896881104,\n",
       " 0.563583254814148,\n",
       " 0.5370932221412659,\n",
       " 0.5059386491775513,\n",
       " 0.47159644961357117,\n",
       " 0.4330199062824249,\n",
       " 0.38929373025894165]"
      ]
     },
     "execution_count": 539,
     "metadata": {},
     "output_type": "execute_result"
    }
   ],
   "source": [
    "losses[:10]"
   ]
  },
  {
   "cell_type": "code",
   "execution_count": 542,
   "metadata": {},
   "outputs": [
    {
     "data": {
      "image/png": "[encoded data removed]",
      "text/plain": [
       "<Figure size 432x288 with 1 Axes>"
      ]
     },
     "metadata": {
      "needs_background": "light"
     },
     "output_type": "display_data"
    }
   ],
   "source": [
    "plt.plot(losses);"
   ]
  },
  {
   "cell_type": "code",
   "execution_count": 543,
   "metadata": {},
   "outputs": [
    {
     "data": {
      "text/plain": [
       "tensor([ 0.4960,  0.5094, -1.0000, -1.0000], device='cuda:0')"
      ]
     },
     "execution_count": 543,
     "metadata": {},
     "output_type": "execute_result"
    }
   ],
   "source": [
    "ref_q_v"
   ]
  },
  {
   "cell_type": "code",
   "execution_count": 548,
   "metadata": {},
   "outputs": [
    {
     "data": {
      "image/png": "[encoded data removed]",
      "text/plain": [
       "<Figure size 432x288 with 1 Axes>"
      ]
     },
     "metadata": {
      "needs_background": "light"
     },
     "output_type": "display_data"
    }
   ],
   "source": [
    "a, b, c, d = zip(*q_vals)\n",
    "plt.plot(a)\n",
    "plt.plot(b)\n",
    "plt.plot(c)\n",
    "plt.plot(d);"
   ]
  },
  {
   "cell_type": "markdown",
   "metadata": {},
   "source": [
    "Also looks ok.\n",
    "\n",
    "Let's check our idea about low FPS in environment"
   ]
  },
  {
   "cell_type": "markdown",
   "metadata": {},
   "source": [
    "## Increase FPS"
   ]
  },
  {
   "cell_type": "code",
   "execution_count": 549,
   "metadata": {},
   "outputs": [],
   "source": [
    "GAMMA = 0.9\n",
    "REPLAY_SIZE = 10000\n",
    "MIN_REPLAY = 100\n",
    "TGT_SYNC = 100\n",
    "BATCH_SIZE = 16\n",
    "LR = 1e-3\n",
    "DEVICE = \"cuda\"  \n",
    "#DEVICE = \"cpu\"\n",
    "\n",
    "INITIAL_EPSILON = 1.0\n",
    "FINAL_EPSILON = 0.2\n",
    "STEPS_EPSILON = 1000"
   ]
  },
  {
   "cell_type": "code",
   "execution_count": 551,
   "metadata": {},
   "outputs": [
    {
     "name": "stderr",
     "output_type": "stream",
     "text": [
      "[2019-07-01 15:43:08,252] Making new env: wob.mini.ClickDialog-v0\n",
      "[2019-07-01 15:43:08,254] Using SoftmaxClickMouse with action_region=(10, 125, 170, 285), noclick_regions=[]\n",
      "[2019-07-01 15:43:08,255] SoftmaxClickMouse noclick regions removed 0 of 256 actions\n",
      "[2019-07-01 15:43:08,257] Using the golang VNC implementation\n",
      "[2019-07-01 15:43:08,257] Using VNCSession arguments: {'encoding': 'tight', 'compress_level': 0, 'fine_quality_level': 100, 'subsample_level': 0, 'start_timeout': 7}. (Customize by running \"env.configure(vnc_kwargs={...})\"\n",
      "[2019-07-01 15:43:08,280] [0] Connecting to environment: vnc://localhost:5900 password=openai. If desired, you can manually connect a VNC viewer, such as TurboVNC. Most environments provide a convenient in-browser VNC client: http://localhost:15900/viewer/?password=openai\n",
      "[2019-07-01 15:43:24,742] [0:localhost:5900] Sending reset for env_id=wob.mini.ClickDialog-v0 fps=60 episode_id=0\n",
      "[2019-07-01 15:43:24,787] [0:localhost:5900] Initial reset complete: episode_id=789\n"
     ]
    }
   ],
   "source": [
    "env = gym.make(\"wob.mini.ClickDialog-v0\")\n",
    "\n",
    "env = SoftmaxClickMouse(env)\n",
    "env = MiniWoBCropper(env)\n",
    "url = remotes_url(count=1)\n",
    "\n",
    "# Note FPS=10\n",
    "env.configure(remotes=url, docker_image=DOCKER_IMAGE, fps=10, vnc_kwargs={\n",
    "        'encoding': 'tight', 'compress_level': 0,\n",
    "        'fine_quality_level': 100, 'subsample_level': 0\n",
    "    })\n",
    "obs = env.reset()\n",
    "\n",
    "while obs[0] is None:\n",
    "    a = env.action_space.sample()\n",
    "    obs, reward, is_done, info = env.step([a])\n",
    "    time.sleep(1)"
   ]
  },
  {
   "cell_type": "code",
   "execution_count": 552,
   "metadata": {},
   "outputs": [],
   "source": [
    "net = Model(env.observation_space.shape, env.action_space.n).to(DEVICE)\n",
    "tgt_net = ptan.agent.TargetNet(net)\n",
    "\n",
    "parent_selector = ptan.actions.ArgmaxActionSelector()\n",
    "action_selector = ptan.actions.EpsilonGreedyActionSelector(epsilon=INITIAL_EPSILON, selector=parent_selector) \n",
    "agent = ptan.agent.DQNAgent(net, action_selector, device=DEVICE)\n",
    "#exp_source = ptan.experience.ExperienceSourceFirstLast(env, agent, gamma=GAMMA, vectorized=True)\n",
    "exp_source = ExperienceSourceShiftActions(env, agent, gamma=GAMMA, vectorized=True)\n",
    "\n",
    "buffer = ptan.experience.ExperienceReplayBuffer(exp_source, REPLAY_SIZE)\n",
    "optimizer = optim.Adam(net.parameters(), LR)"
   ]
  },
  {
   "cell_type": "code",
   "execution_count": 553,
   "metadata": {},
   "outputs": [
    {
     "name": "stderr",
     "output_type": "stream",
     "text": [
      "[2019-07-01 15:43:51,101] [0:localhost:5900] Sending reset for env_id=wob.mini.ClickDialog-v0 fps=60 episode_id=0\n"
     ]
    },
    {
     "name": "stdout",
     "output_type": "stream",
     "text": [
      "22: Done 1 episodes, last 100 means: reward=0.061, steps=22.000, speed=8.44 steps/s, eps=1.00\n",
      "51: Done 2 episodes, last 100 means: reward=0.406, steps=26.000, speed=9.65 steps/s, eps=1.00\n",
      "68: Done 3 episodes, last 100 means: reward=0.560, steps=23.333, speed=9.31 steps/s, eps=1.00\n",
      "82: Done 4 episodes, last 100 means: reward=0.420, steps=21.250, speed=9.27 steps/s, eps=1.00\n",
      "100: nets synced, mean loss for last 100 steps = 0.010\n",
      "148: Done 5 episodes, last 100 means: reward=0.519, steps=30.400, speed=6.12 steps/s, eps=0.85\n",
      "182: Done 6 episodes, last 100 means: reward=0.491, steps=31.167, speed=4.81 steps/s, eps=0.82\n",
      "200: nets synced, mean loss for last 100 steps = 0.022\n",
      "239: Done 7 episodes, last 100 means: reward=0.278, steps=35.000, speed=5.42 steps/s, eps=0.76\n",
      "289: Done 8 episodes, last 100 means: reward=0.118, steps=37.000, speed=4.84 steps/s, eps=0.71\n",
      "300: nets synced, mean loss for last 100 steps = 0.032\n",
      "345: Done 9 episodes, last 100 means: reward=-0.006, steps=39.222, speed=5.33 steps/s, eps=0.66\n",
      "367: Done 10 episodes, last 100 means: reward=0.057, steps=37.600, speed=5.08 steps/s, eps=0.63\n",
      "400: nets synced, mean loss for last 100 steps = 0.075\n",
      "420: Done 11 episodes, last 100 means: reward=0.052, steps=39.091, speed=5.08 steps/s, eps=0.58\n",
      "448: Done 12 episodes, last 100 means: reward=0.008, steps=38.250, speed=5.36 steps/s, eps=0.55\n",
      "500: nets synced, mean loss for last 100 steps = 0.063\n",
      "504: Done 13 episodes, last 100 means: reward=-0.069, steps=39.692, speed=5.38 steps/s, eps=0.50\n",
      "560: Done 14 episodes, last 100 means: reward=-0.136, steps=40.929, speed=5.25 steps/s, eps=0.44\n",
      "600: nets synced, mean loss for last 100 steps = 0.114\n",
      "616: Done 15 episodes, last 100 means: reward=-0.193, steps=42.000, speed=5.37 steps/s, eps=0.39\n",
      "633: Done 16 episodes, last 100 means: reward=-0.135, steps=40.500, speed=5.32 steps/s, eps=0.37\n",
      "636: Done 17 episodes, last 100 means: reward=-0.070, steps=38.353, speed=3.48 steps/s, eps=0.36\n",
      "689: Done 18 episodes, last 100 means: reward=-0.122, steps=39.222, speed=5.10 steps/s, eps=0.31\n",
      "700: nets synced, mean loss for last 100 steps = 0.158\n",
      "748: Done 19 episodes, last 100 means: reward=-0.168, steps=40.316, speed=5.67 steps/s, eps=0.25\n",
      "800: nets synced, mean loss for last 100 steps = 0.236\n",
      "804: Done 20 episodes, last 100 means: reward=-0.160, steps=41.150, speed=5.34 steps/s, eps=0.20\n",
      "856: Done 21 episodes, last 100 means: reward=-0.200, steps=41.714, speed=4.93 steps/s, eps=0.20\n",
      "900: nets synced, mean loss for last 100 steps = 0.248\n",
      "908: Done 22 episodes, last 100 means: reward=-0.188, steps=42.227, speed=5.12 steps/s, eps=0.20\n",
      "961: Done 23 episodes, last 100 means: reward=-0.180, steps=42.739, speed=5.12 steps/s, eps=0.20\n",
      "1000: nets synced, mean loss for last 100 steps = 0.268\n",
      "1013: Done 24 episodes, last 100 means: reward=-0.214, steps=43.167, speed=4.85 steps/s, eps=0.20\n",
      "1044: Done 25 episodes, last 100 means: reward=-0.189, steps=42.720, speed=4.89 steps/s, eps=0.20\n",
      "1099: Done 26 episodes, last 100 means: reward=-0.220, steps=43.231, speed=5.26 steps/s, eps=0.20\n",
      "1100: nets synced, mean loss for last 100 steps = 0.437\n",
      "1151: Done 27 episodes, last 100 means: reward=-0.249, steps=43.593, speed=4.95 steps/s, eps=0.20\n",
      "1200: nets synced, mean loss for last 100 steps = 0.491\n",
      "1204: Done 28 episodes, last 100 means: reward=-0.276, steps=43.964, speed=5.06 steps/s, eps=0.20\n",
      "1257: Done 29 episodes, last 100 means: reward=-0.301, steps=44.310, speed=4.98 steps/s, eps=0.20\n"
     ]
    },
    {
     "name": "stderr",
     "output_type": "stream",
     "text": [
      "[2019-07-01 15:47:48,504] [0:localhost:5900] Could not recalibrate network: [Failure instance: Traceback (failure with no frames): <class 'universe.error.Error'>: Can't send message to closed connection\n",
      "]\n"
     ]
    },
    {
     "name": "stdout",
     "output_type": "stream",
     "text": [
      "1300: nets synced, mean loss for last 100 steps = 0.732\n",
      "1312: Done 30 episodes, last 100 means: reward=-0.324, steps=44.700, speed=5.19 steps/s, eps=0.20\n",
      "1363: Done 31 episodes, last 100 means: reward=-0.346, steps=44.935, speed=4.93 steps/s, eps=0.20\n",
      "1400: nets synced, mean loss for last 100 steps = 1.073\n",
      "1416: Done 32 episodes, last 100 means: reward=-0.367, steps=45.219, speed=5.08 steps/s, eps=0.20\n",
      "1473: Done 33 episodes, last 100 means: reward=-0.386, steps=45.606, speed=5.37 steps/s, eps=0.20\n",
      "1500: nets synced, mean loss for last 100 steps = 1.431\n",
      "1533: Done 34 episodes, last 100 means: reward=-0.404, steps=46.059, speed=5.74 steps/s, eps=0.20\n",
      "1566: Done 35 episodes, last 100 means: reward=-0.392, steps=45.714, speed=5.22 steps/s, eps=0.20\n",
      "1600: nets synced, mean loss for last 100 steps = 1.718\n",
      "1621: Done 36 episodes, last 100 means: reward=-0.409, steps=46.000, speed=5.22 steps/s, eps=0.20\n",
      "1673: Done 37 episodes, last 100 means: reward=-0.425, steps=46.189, speed=5.03 steps/s, eps=0.20\n",
      "1700: nets synced, mean loss for last 100 steps = 1.933\n",
      "1728: Done 38 episodes, last 100 means: reward=-0.440, steps=46.447, speed=5.16 steps/s, eps=0.20\n",
      "1776: Done 39 episodes, last 100 means: reward=-0.455, steps=46.513, speed=4.54 steps/s, eps=0.20\n",
      "1800: nets synced, mean loss for last 100 steps = 2.975\n",
      "1825: Done 40 episodes, last 100 means: reward=-0.468, steps=46.600, speed=4.70 steps/s, eps=0.20\n",
      "1881: Done 41 episodes, last 100 means: reward=-0.481, steps=46.854, speed=5.37 steps/s, eps=0.20\n",
      "1900: nets synced, mean loss for last 100 steps = 4.758\n",
      "1902: Done 42 episodes, last 100 means: reward=-0.455, steps=46.262, speed=4.92 steps/s, eps=0.20\n",
      "1954: Done 43 episodes, last 100 means: reward=-0.468, steps=46.419, speed=4.96 steps/s, eps=0.20\n",
      "2000: nets synced, mean loss for last 100 steps = 5.225\n",
      "2010: Done 44 episodes, last 100 means: reward=-0.456, steps=46.659, speed=5.60 steps/s, eps=0.20\n",
      "2026: Done 45 episodes, last 100 means: reward=-0.430, steps=46.000, speed=4.19 steps/s, eps=0.20\n",
      "2075: Done 46 episodes, last 100 means: reward=-0.443, steps=46.087, speed=4.78 steps/s, eps=0.20\n",
      "2100: nets synced, mean loss for last 100 steps = 5.575\n",
      "2127: Done 47 episodes, last 100 means: reward=-0.454, steps=46.234, speed=4.95 steps/s, eps=0.20\n",
      "2182: Done 48 episodes, last 100 means: reward=-0.466, steps=46.438, speed=5.25 steps/s, eps=0.20\n",
      "2200: nets synced, mean loss for last 100 steps = 10.183\n",
      "2236: Done 49 episodes, last 100 means: reward=-0.477, steps=46.612, speed=5.13 steps/s, eps=0.20\n",
      "2283: Done 50 episodes, last 100 means: reward=-0.487, steps=46.640, speed=4.40 steps/s, eps=0.20\n",
      "2300: nets synced, mean loss for last 100 steps = 9.290\n",
      "2336: Done 51 episodes, last 100 means: reward=-0.497, steps=46.784, speed=5.07 steps/s, eps=0.20\n",
      "2389: Done 52 episodes, last 100 means: reward=-0.507, steps=46.923, speed=5.06 steps/s, eps=0.20\n",
      "2400: nets synced, mean loss for last 100 steps = 12.501\n",
      "2442: Done 53 episodes, last 100 means: reward=-0.516, steps=47.057, speed=4.92 steps/s, eps=0.20\n",
      "2490: Done 54 episodes, last 100 means: reward=-0.525, steps=47.093, speed=4.69 steps/s, eps=0.20\n",
      "2500: nets synced, mean loss for last 100 steps = 14.975\n",
      "2520: Done 55 episodes, last 100 means: reward=-0.507, steps=46.800, speed=5.44 steps/s, eps=0.20\n",
      "2572: Done 56 episodes, last 100 means: reward=-0.515, steps=46.911, speed=4.95 steps/s, eps=0.20\n",
      "2600: nets synced, mean loss for last 100 steps = 19.429\n",
      "2628: Done 57 episodes, last 100 means: reward=-0.524, steps=47.088, speed=5.35 steps/s, eps=0.20\n",
      "2680: Done 58 episodes, last 100 means: reward=-0.532, steps=47.190, speed=4.94 steps/s, eps=0.20\n",
      "2700: nets synced, mean loss for last 100 steps = 18.703\n",
      "2732: Done 59 episodes, last 100 means: reward=-0.540, steps=47.288, speed=4.86 steps/s, eps=0.20\n",
      "2792: Done 60 episodes, last 100 means: reward=-0.548, steps=47.517, speed=5.88 steps/s, eps=0.20\n",
      "2800: nets synced, mean loss for last 100 steps = 20.791\n",
      "2834: Done 61 episodes, last 100 means: reward=-0.518, steps=47.443, speed=4.94 steps/s, eps=0.20\n",
      "2887: Done 62 episodes, last 100 means: reward=-0.526, steps=47.548, speed=4.86 steps/s, eps=0.20\n",
      "2900: nets synced, mean loss for last 100 steps = 27.083\n",
      "2901: Done 63 episodes, last 100 means: reward=-0.506, steps=47.032, speed=5.17 steps/s, eps=0.20\n",
      "2957: Done 64 episodes, last 100 means: reward=-0.498, steps=47.188, speed=5.36 steps/s, eps=0.20\n",
      "3000: nets synced, mean loss for last 100 steps = 32.310\n",
      "3010: Done 65 episodes, last 100 means: reward=-0.505, steps=47.292, speed=5.07 steps/s, eps=0.20\n",
      "3058: Done 66 episodes, last 100 means: reward=-0.497, steps=47.318, speed=4.63 steps/s, eps=0.20\n",
      "3063: Done 67 episodes, last 100 means: reward=-0.476, steps=46.701, speed=3.92 steps/s, eps=0.20\n",
      "3064: Done 68 episodes, last 100 means: reward=-0.469, steps=46.059, speed=1.81 steps/s, eps=0.20\n",
      "3086: Done 69 episodes, last 100 means: reward=-0.439, steps=45.725, speed=5.10 steps/s, eps=0.20\n",
      "3100: nets synced, mean loss for last 100 steps = 38.307\n",
      "3137: Done 70 episodes, last 100 means: reward=-0.433, steps=45.814, speed=4.90 steps/s, eps=0.20\n",
      "3192: Done 71 episodes, last 100 means: reward=-0.455, steps=45.958, speed=5.21 steps/s, eps=0.20\n",
      "3200: nets synced, mean loss for last 100 steps = 47.185\n",
      "3243: Done 72 episodes, last 100 means: reward=-0.462, steps=46.042, speed=4.86 steps/s, eps=0.20\n",
      "3264: Done 73 episodes, last 100 means: reward=-0.447, steps=45.712, speed=5.11 steps/s, eps=0.20\n",
      "3300: nets synced, mean loss for last 100 steps = 61.549\n",
      "3316: Done 74 episodes, last 100 means: reward=-0.455, steps=45.811, speed=4.97 steps/s, eps=0.20\n",
      "3370: Done 75 episodes, last 100 means: reward=-0.462, steps=45.933, speed=5.08 steps/s, eps=0.20\n",
      "3400: nets synced, mean loss for last 100 steps = 80.739\n",
      "3428: Done 76 episodes, last 100 means: reward=-0.469, steps=46.105, speed=5.39 steps/s, eps=0.20\n",
      "3451: Done 77 episodes, last 100 means: reward=-0.456, steps=45.818, speed=4.74 steps/s, eps=0.20\n",
      "3500: nets synced, mean loss for last 100 steps = 80.788\n",
      "3501: Done 78 episodes, last 100 means: reward=-0.463, steps=45.885, speed=4.86 steps/s, eps=0.20\n",
      "3551: Done 79 episodes, last 100 means: reward=-0.470, steps=45.949, speed=4.74 steps/s, eps=0.20\n",
      "3600: nets synced, mean loss for last 100 steps = 75.311\n",
      "3601: Done 80 episodes, last 100 means: reward=-0.476, steps=46.013, speed=4.72 steps/s, eps=0.20\n",
      "3656: Done 82 episodes, last 100 means: reward=-0.465, steps=45.610, speed=5.10 steps/s, eps=0.20\n",
      "3700: nets synced, mean loss for last 100 steps = 121.543\n",
      "3713: Done 83 episodes, last 100 means: reward=-0.471, steps=45.759, speed=5.28 steps/s, eps=0.20\n",
      "3762: Done 84 episodes, last 100 means: reward=-0.478, steps=45.810, speed=4.56 steps/s, eps=0.20\n",
      "3800: nets synced, mean loss for last 100 steps = 100.841\n",
      "3809: Done 85 episodes, last 100 means: reward=-0.484, steps=45.835, speed=4.54 steps/s, eps=0.20\n",
      "3867: Done 86 episodes, last 100 means: reward=-0.490, steps=45.988, speed=5.58 steps/s, eps=0.20\n",
      "3892: Done 87 episodes, last 100 means: reward=-0.478, steps=45.759, speed=4.82 steps/s, eps=0.20\n",
      "3900: nets synced, mean loss for last 100 steps = 157.805\n",
      "3943: Done 88 episodes, last 100 means: reward=-0.484, steps=45.830, speed=4.75 steps/s, eps=0.20\n",
      "3996: Done 89 episodes, last 100 means: reward=-0.490, steps=45.921, speed=5.18 steps/s, eps=0.20\n",
      "4000: nets synced, mean loss for last 100 steps = 173.765\n",
      "4053: Done 90 episodes, last 100 means: reward=-0.495, steps=46.056, speed=5.43 steps/s, eps=0.20\n",
      "4100: nets synced, mean loss for last 100 steps = 226.772\n",
      "4110: Done 91 episodes, last 100 means: reward=-0.501, steps=46.187, speed=5.30 steps/s, eps=0.20\n",
      "4162: Done 92 episodes, last 100 means: reward=-0.506, steps=46.261, speed=5.05 steps/s, eps=0.20\n",
      "4200: nets synced, mean loss for last 100 steps = 249.705\n",
      "4213: Done 93 episodes, last 100 means: reward=-0.511, steps=46.323, speed=4.85 steps/s, eps=0.20\n",
      "4214: Done 94 episodes, last 100 means: reward=-0.496, steps=45.862, speed=1.93 steps/s, eps=0.20\n",
      "4267: Done 95 episodes, last 100 means: reward=-0.501, steps=45.947, speed=4.80 steps/s, eps=0.20\n",
      "4300: nets synced, mean loss for last 100 steps = 344.636\n",
      "4319: Done 96 episodes, last 100 means: reward=-0.506, steps=46.021, speed=5.12 steps/s, eps=0.20\n"
     ]
    },
    {
     "name": "stdout",
     "output_type": "stream",
     "text": [
      "4373: Done 97 episodes, last 100 means: reward=-0.511, steps=46.113, speed=5.12 steps/s, eps=0.20\n",
      "4400: nets synced, mean loss for last 100 steps = 295.573\n",
      "4429: Done 98 episodes, last 100 means: reward=-0.516, steps=46.224, speed=5.34 steps/s, eps=0.20\n",
      "4481: Done 99 episodes, last 100 means: reward=-0.521, steps=46.293, speed=4.83 steps/s, eps=0.20\n",
      "4500: nets synced, mean loss for last 100 steps = 414.782\n",
      "4534: Done 100 episodes, last 100 means: reward=-0.526, steps=46.370, speed=5.14 steps/s, eps=0.20\n",
      "4589: Done 101 episodes, last 100 means: reward=-0.537, steps=46.710, speed=5.18 steps/s, eps=0.20\n"
     ]
    },
    {
     "ename": "KeyboardInterrupt",
     "evalue": "",
     "output_type": "error",
     "traceback": [
      "\u001b[0;31m---------------------------------------------------------------------------\u001b[0m",
      "\u001b[0;31mKeyboardInterrupt\u001b[0m                         Traceback (most recent call last)",
      "\u001b[0;32m<ipython-input-553-aa7bc7c1a6b7>\u001b[0m in \u001b[0;36m<module>\u001b[0;34m\u001b[0m\n\u001b[1;32m     27\u001b[0m         \u001b[0;32mcontinue\u001b[0m\u001b[0;34m\u001b[0m\u001b[0;34m\u001b[0m\u001b[0m\n\u001b[1;32m     28\u001b[0m     \u001b[0mbatch\u001b[0m \u001b[0;34m=\u001b[0m \u001b[0mbuffer\u001b[0m\u001b[0;34m.\u001b[0m\u001b[0msample\u001b[0m\u001b[0;34m(\u001b[0m\u001b[0mBATCH_SIZE\u001b[0m\u001b[0;34m)\u001b[0m\u001b[0;34m\u001b[0m\u001b[0;34m\u001b[0m\u001b[0m\n\u001b[0;32m---> 29\u001b[0;31m     \u001b[0mstate_v\u001b[0m\u001b[0;34m,\u001b[0m \u001b[0mactions_v\u001b[0m\u001b[0;34m,\u001b[0m \u001b[0mref_q_v\u001b[0m \u001b[0;34m=\u001b[0m \u001b[0munpack_batch\u001b[0m\u001b[0;34m(\u001b[0m\u001b[0mbatch\u001b[0m\u001b[0;34m,\u001b[0m \u001b[0mtgt_net\u001b[0m\u001b[0;34m.\u001b[0m\u001b[0mtarget_model\u001b[0m\u001b[0;34m,\u001b[0m \u001b[0mgamma\u001b[0m\u001b[0;34m=\u001b[0m\u001b[0mGAMMA\u001b[0m\u001b[0;34m,\u001b[0m \u001b[0mdevice\u001b[0m\u001b[0;34m=\u001b[0m\u001b[0mDEVICE\u001b[0m\u001b[0;34m)\u001b[0m\u001b[0;34m\u001b[0m\u001b[0;34m\u001b[0m\u001b[0m\n\u001b[0m\u001b[1;32m     30\u001b[0m     \u001b[0moptimizer\u001b[0m\u001b[0;34m.\u001b[0m\u001b[0mzero_grad\u001b[0m\u001b[0;34m(\u001b[0m\u001b[0;34m)\u001b[0m\u001b[0;34m\u001b[0m\u001b[0;34m\u001b[0m\u001b[0m\n\u001b[1;32m     31\u001b[0m     \u001b[0mq_v\u001b[0m \u001b[0;34m=\u001b[0m \u001b[0mnet\u001b[0m\u001b[0;34m(\u001b[0m\u001b[0mstate_v\u001b[0m\u001b[0;34m)\u001b[0m\u001b[0;34m\u001b[0m\u001b[0;34m\u001b[0m\u001b[0m\n",
      "\u001b[0;32m~/anaconda3/envs/miniwob/lib/python3.6/site-packages/torch/autograd/grad_mode.py\u001b[0m in \u001b[0;36mdecorate_no_grad\u001b[0;34m(*args, **kwargs)\u001b[0m\n\u001b[1;32m     41\u001b[0m         \u001b[0;32mdef\u001b[0m \u001b[0mdecorate_no_grad\u001b[0m\u001b[0;34m(\u001b[0m\u001b[0;34m*\u001b[0m\u001b[0margs\u001b[0m\u001b[0;34m,\u001b[0m \u001b[0;34m**\u001b[0m\u001b[0mkwargs\u001b[0m\u001b[0;34m)\u001b[0m\u001b[0;34m:\u001b[0m\u001b[0;34m\u001b[0m\u001b[0;34m\u001b[0m\u001b[0m\n\u001b[1;32m     42\u001b[0m             \u001b[0;32mwith\u001b[0m \u001b[0mself\u001b[0m\u001b[0;34m:\u001b[0m\u001b[0;34m\u001b[0m\u001b[0;34m\u001b[0m\u001b[0m\n\u001b[0;32m---> 43\u001b[0;31m                 \u001b[0;32mreturn\u001b[0m \u001b[0mfunc\u001b[0m\u001b[0;34m(\u001b[0m\u001b[0;34m*\u001b[0m\u001b[0margs\u001b[0m\u001b[0;34m,\u001b[0m \u001b[0;34m**\u001b[0m\u001b[0mkwargs\u001b[0m\u001b[0;34m)\u001b[0m\u001b[0;34m\u001b[0m\u001b[0;34m\u001b[0m\u001b[0m\n\u001b[0m\u001b[1;32m     44\u001b[0m         \u001b[0;32mreturn\u001b[0m \u001b[0mdecorate_no_grad\u001b[0m\u001b[0;34m\u001b[0m\u001b[0;34m\u001b[0m\u001b[0m\n\u001b[1;32m     45\u001b[0m \u001b[0;34m\u001b[0m\u001b[0m\n",
      "\u001b[0;32m<ipython-input-9-422d98b5f252>\u001b[0m in \u001b[0;36munpack_batch\u001b[0;34m(batch, net, gamma, device)\u001b[0m\n\u001b[1;32m     16\u001b[0m             \u001b[0mlast_states\u001b[0m\u001b[0;34m.\u001b[0m\u001b[0mappend\u001b[0m\u001b[0;34m(\u001b[0m\u001b[0mexp\u001b[0m\u001b[0;34m.\u001b[0m\u001b[0mlast_state\u001b[0m\u001b[0;34m)\u001b[0m\u001b[0;34m\u001b[0m\u001b[0;34m\u001b[0m\u001b[0m\n\u001b[1;32m     17\u001b[0m \u001b[0;34m\u001b[0m\u001b[0m\n\u001b[0;32m---> 18\u001b[0;31m     \u001b[0mstates_v\u001b[0m \u001b[0;34m=\u001b[0m \u001b[0mtorch\u001b[0m\u001b[0;34m.\u001b[0m\u001b[0mtensor\u001b[0m\u001b[0;34m(\u001b[0m\u001b[0mstates\u001b[0m\u001b[0;34m)\u001b[0m\u001b[0;34m.\u001b[0m\u001b[0mto\u001b[0m\u001b[0;34m(\u001b[0m\u001b[0mdevice\u001b[0m\u001b[0;34m)\u001b[0m\u001b[0;34m\u001b[0m\u001b[0;34m\u001b[0m\u001b[0m\n\u001b[0m\u001b[1;32m     19\u001b[0m     \u001b[0mactions_v\u001b[0m \u001b[0;34m=\u001b[0m \u001b[0mtorch\u001b[0m\u001b[0;34m.\u001b[0m\u001b[0mtensor\u001b[0m\u001b[0;34m(\u001b[0m\u001b[0mactions\u001b[0m\u001b[0;34m)\u001b[0m\u001b[0;34m.\u001b[0m\u001b[0mto\u001b[0m\u001b[0;34m(\u001b[0m\u001b[0mdevice\u001b[0m\u001b[0;34m)\u001b[0m\u001b[0;34m\u001b[0m\u001b[0;34m\u001b[0m\u001b[0m\n\u001b[1;32m     20\u001b[0m     \u001b[0mrewards_v\u001b[0m \u001b[0;34m=\u001b[0m \u001b[0mtorch\u001b[0m\u001b[0;34m.\u001b[0m\u001b[0mtensor\u001b[0m\u001b[0;34m(\u001b[0m\u001b[0mrewards\u001b[0m\u001b[0;34m)\u001b[0m\u001b[0;34m.\u001b[0m\u001b[0mto\u001b[0m\u001b[0;34m(\u001b[0m\u001b[0mdevice\u001b[0m\u001b[0;34m)\u001b[0m\u001b[0;34m\u001b[0m\u001b[0;34m\u001b[0m\u001b[0m\n",
      "\u001b[0;31mKeyboardInterrupt\u001b[0m: "
     ]
    }
   ],
   "source": [
    "episode_rewards = []\n",
    "episode_steps = []\n",
    "losses = []\n",
    "steps = 0\n",
    "last_ts = time.time()\n",
    "last_steps = 0\n",
    "\n",
    "while True:\n",
    "    steps += 1\n",
    "    buffer.populate(1)\n",
    "    r = exp_source.pop_rewards_steps()\n",
    "    if r:\n",
    "        for rw, st in r:\n",
    "            episode_rewards.append(rw)\n",
    "            episode_steps.append(st)\n",
    "        speed = (steps - last_steps) / (time.time() - last_ts)\n",
    "        print(\"%d: Done %d episodes, last 100 means: reward=%.3f, steps=%.3f, speed=%.2f steps/s, eps=%.2f\" % (\n",
    "            steps, len(episode_rewards), np.mean(episode_rewards[-100:]), \n",
    "            np.mean(episode_steps[-100:]), speed, action_selector.epsilon\n",
    "        ))\n",
    "        last_ts = time.time()\n",
    "        last_steps = steps\n",
    "        if np.mean(episode_rewards[-100:]) > 0.9:\n",
    "            print(\"You solved the env! Congrats!\")\n",
    "            break\n",
    "    if len(buffer) < MIN_REPLAY:\n",
    "        continue\n",
    "    batch = buffer.sample(BATCH_SIZE)\n",
    "    state_v, actions_v, ref_q_v = unpack_batch(batch, tgt_net.target_model, gamma=GAMMA, device=DEVICE)\n",
    "    optimizer.zero_grad()\n",
    "    q_v = net(state_v)\n",
    "    q_v = q_v.gather(1, actions_v.unsqueeze(-1)).squeeze(-1)\n",
    "    loss_v = F.mse_loss(q_v, ref_q_v)\n",
    "    loss_v.backward()\n",
    "    optimizer.step()\n",
    "    losses.append(loss_v.item())\n",
    "    \n",
    "    if steps % TGT_SYNC == 0:\n",
    "        print(\"%d: nets synced, mean loss for last 100 steps = %.3f\" % (\n",
    "            steps, np.mean(losses[-100:])))\n",
    "        tgt_net.sync()\n",
    "    action_selector.epsilon = max(FINAL_EPSILON, INITIAL_EPSILON - steps / STEPS_EPSILON)"
   ]
  },
  {
   "cell_type": "code",
   "execution_count": 554,
   "metadata": {},
   "outputs": [
    {
     "data": {
      "image/png": "[encoded data removed]",
      "text/plain": [
       "<Figure size 432x288 with 1 Axes>"
      ]
     },
     "metadata": {
      "needs_background": "light"
     },
     "output_type": "display_data"
    }
   ],
   "source": [
    "plt.plot(losses);"
   ]
  },
  {
   "cell_type": "markdown",
   "metadata": {},
   "source": [
    "Loss is going overboard, might be caused by several reasons:\n",
    "* we do net sync too frequently\n",
    "* learning rate is too high"
   ]
  },
  {
   "cell_type": "markdown",
   "metadata": {},
   "source": [
    "## Experimenting with params"
   ]
  },
  {
   "cell_type": "code",
   "execution_count": 616,
   "metadata": {},
   "outputs": [],
   "source": [
    "GAMMA = 0.9\n",
    "REPLAY_SIZE = 10000\n",
    "MIN_REPLAY = 1000\n",
    "TGT_SYNC = 200\n",
    "BATCH_SIZE = 16\n",
    "LR = 1e-4\n",
    "DEVICE = \"cuda\"  \n",
    "#DEVICE = \"cpu\"\n",
    "\n",
    "INITIAL_EPSILON = 1.0\n",
    "FINAL_EPSILON = 0.2\n",
    "STEPS_EPSILON = 2000"
   ]
  },
  {
   "cell_type": "code",
   "execution_count": 617,
   "metadata": {},
   "outputs": [
    {
     "name": "stderr",
     "output_type": "stream",
     "text": [
      "[2019-07-01 17:24:08,802] Making new env: wob.mini.ClickDialog-v0\n",
      "[2019-07-01 17:24:08,804] Using SoftmaxClickMouse with action_region=(10, 125, 170, 285), noclick_regions=[]\n",
      "[2019-07-01 17:24:08,805] SoftmaxClickMouse noclick regions removed 0 of 256 actions\n",
      "[2019-07-01 17:24:08,810] Using the golang VNC implementation\n",
      "[2019-07-01 17:24:08,811] Using VNCSession arguments: {'encoding': 'tight', 'compress_level': 0, 'fine_quality_level': 100, 'subsample_level': 0, 'start_timeout': 7}. (Customize by running \"env.configure(vnc_kwargs={...})\"\n",
      "[2019-07-01 17:24:08,833] [0] Connecting to environment: vnc://localhost:5900 password=openai. If desired, you can manually connect a VNC viewer, such as TurboVNC. Most environments provide a convenient in-browser VNC client: http://localhost:15900/viewer/?password=openai\n",
      "[2019-07-01 17:24:25,257] [0:localhost:5900] Sending reset for env_id=wob.mini.ClickDialog-v0 fps=60 episode_id=0\n",
      "[2019-07-01 17:24:25,310] [0:localhost:5900] Initial reset complete: episode_id=373\n"
     ]
    }
   ],
   "source": [
    "env = gym.make(\"wob.mini.ClickDialog-v0\")\n",
    "\n",
    "env = SoftmaxClickMouse(env)\n",
    "env = MiniWoBCropper(env)\n",
    "url = remotes_url(count=1)\n",
    "\n",
    "# Note FPS=10\n",
    "env.configure(remotes=url, docker_image=DOCKER_IMAGE, fps=10, vnc_kwargs={\n",
    "        'encoding': 'tight', 'compress_level': 0,\n",
    "        'fine_quality_level': 100, 'subsample_level': 0\n",
    "    })\n",
    "obs = env.reset()\n",
    "\n",
    "while obs[0] is None:\n",
    "    a = env.action_space.sample()\n",
    "    obs, reward, is_done, info = env.step([a])\n",
    "    time.sleep(1)"
   ]
  },
  {
   "cell_type": "code",
   "execution_count": 618,
   "metadata": {},
   "outputs": [],
   "source": [
    "net = Model(env.observation_space.shape, env.action_space.n).to(DEVICE)\n",
    "tgt_net = ptan.agent.TargetNet(net)\n",
    "\n",
    "parent_selector = ptan.actions.ArgmaxActionSelector()\n",
    "action_selector = ptan.actions.EpsilonGreedyActionSelector(epsilon=INITIAL_EPSILON, selector=parent_selector) \n",
    "agent = ptan.agent.DQNAgent(net, action_selector, device=DEVICE)\n",
    "#exp_source = ptan.experience.ExperienceSourceFirstLast(env, agent, gamma=GAMMA, vectorized=True)\n",
    "exp_source = ExperienceSourceShiftActions(env, agent, gamma=GAMMA, vectorized=True)\n",
    "\n",
    "buffer = ptan.experience.ExperienceReplayBuffer(exp_source, REPLAY_SIZE)\n",
    "optimizer = optim.Adam(net.parameters(), LR)"
   ]
  },
  {
   "cell_type": "code",
   "execution_count": 619,
   "metadata": {},
   "outputs": [
    {
     "name": "stderr",
     "output_type": "stream",
     "text": [
      "[2019-07-01 17:24:27,066] [0:localhost:5900] Sending reset for env_id=wob.mini.ClickDialog-v0 fps=60 episode_id=0\n"
     ]
    },
    {
     "name": "stdout",
     "output_type": "stream",
     "text": [
      "95: Done 1 episodes, last 10 means: reward=-1.000, steps=95.000, speed=9.53 steps/s, eps=1.00\n",
      "109: Done 2 episodes, last 10 means: reward=-0.051, steps=55.000, speed=8.98 steps/s, eps=1.00\n",
      "212: Done 3 episodes, last 10 means: reward=-0.367, steps=71.333, speed=9.84 steps/s, eps=1.00\n",
      "235: Done 4 episodes, last 10 means: reward=-0.072, steps=59.500, speed=9.54 steps/s, eps=1.00\n",
      "321: Done 5 episodes, last 10 means: reward=-0.022, steps=65.000, speed=9.82 steps/s, eps=1.00\n",
      "332: Done 6 episodes, last 10 means: reward=0.136, steps=56.167, speed=9.15 steps/s, eps=1.00\n",
      "435: Done 7 episodes, last 10 means: reward=-0.026, steps=63.000, speed=9.79 steps/s, eps=1.00\n",
      "501: Done 8 episodes, last 10 means: reward=0.024, steps=63.500, speed=9.81 steps/s, eps=1.00\n",
      "548: Done 9 episodes, last 10 means: reward=0.084, steps=61.778, speed=9.68 steps/s, eps=1.00\n",
      "651: Done 10 episodes, last 10 means: reward=-0.024, steps=66.000, speed=9.83 steps/s, eps=1.00\n",
      "660: Done 11 episodes, last 10 means: reward=0.171, steps=57.500, speed=8.94 steps/s, eps=1.00\n",
      "749: Done 12 episodes, last 10 means: reward=0.096, steps=65.000, speed=9.86 steps/s, eps=1.00\n",
      "766: Done 13 episodes, last 10 means: reward=0.283, steps=56.400, speed=9.42 steps/s, eps=1.00\n",
      "870: Done 14 episodes, last 10 means: reward=0.102, steps=64.500, speed=9.87 steps/s, eps=1.00\n",
      "930: Done 15 episodes, last 10 means: reward=0.128, steps=61.900, speed=9.82 steps/s, eps=1.00\n",
      "955: Done 16 episodes, last 10 means: reward=0.114, steps=63.300, speed=9.60 steps/s, eps=1.00\n",
      "964: Done 17 episodes, last 10 means: reward=0.309, steps=53.900, speed=8.98 steps/s, eps=1.00\n",
      "975: Done 18 episodes, last 10 means: reward=0.272, steps=48.400, speed=9.15 steps/s, eps=1.00\n",
      "1000: nets synced, mean loss for last 10 steps = 0.013\n",
      "1015: Done 19 episodes, last 10 means: reward=0.269, steps=47.700, speed=7.31 steps/s, eps=0.99\n",
      "1025: Done 20 episodes, last 10 means: reward=0.452, steps=38.400, speed=4.55 steps/s, eps=0.99\n",
      "1080: Done 21 episodes, last 10 means: reward=0.355, steps=43.000, speed=4.86 steps/s, eps=0.96\n",
      "1136: Done 22 episodes, last 10 means: reward=0.240, steps=39.700, speed=5.43 steps/s, eps=0.93\n",
      "1169: Done 23 episodes, last 10 means: reward=0.198, steps=41.300, speed=5.46 steps/s, eps=0.92\n",
      "1176: Done 24 episodes, last 10 means: reward=0.389, steps=31.600, speed=4.55 steps/s, eps=0.91\n",
      "1197: Done 25 episodes, last 10 means: reward=0.405, steps=27.700, speed=4.81 steps/s, eps=0.90\n",
      "1200: nets synced, mean loss for last 10 steps = 0.017\n",
      "1206: Done 26 episodes, last 10 means: reward=0.414, steps=26.100, speed=4.84 steps/s, eps=0.90\n",
      "1211: Done 27 episodes, last 10 means: reward=0.412, steps=25.700, speed=4.58 steps/s, eps=0.90\n",
      "1229: Done 28 episodes, last 10 means: reward=0.480, steps=26.400, speed=4.68 steps/s, eps=0.89\n",
      "1283: Done 29 episodes, last 10 means: reward=0.327, steps=27.800, speed=5.19 steps/s, eps=0.86\n",
      "1298: Done 30 episodes, last 10 means: reward=0.316, steps=28.300, speed=4.65 steps/s, eps=0.85\n",
      "1332: Done 31 episodes, last 10 means: reward=0.350, steps=26.200, speed=4.66 steps/s, eps=0.83\n",
      "1359: Done 32 episodes, last 10 means: reward=0.500, steps=23.300, speed=4.87 steps/s, eps=0.82\n",
      "1393: Done 33 episodes, last 10 means: reward=0.492, steps=23.400, speed=4.95 steps/s, eps=0.80\n",
      "1400: nets synced, mean loss for last 10 steps = 0.012\n",
      "1425: Done 34 episodes, last 10 means: reward=0.433, steps=25.900, speed=4.29 steps/s, eps=0.79\n",
      "1443: Done 35 episodes, last 10 means: reward=0.441, steps=25.600, speed=5.25 steps/s, eps=0.78\n",
      "1493: Done 36 episodes, last 10 means: reward=0.254, steps=29.700, speed=4.78 steps/s, eps=0.75\n",
      "1511: Done 37 episodes, last 10 means: reward=0.230, steps=31.000, speed=4.91 steps/s, eps=0.74\n",
      "1550: Done 38 episodes, last 10 means: reward=0.195, steps=33.100, speed=5.44 steps/s, eps=0.73\n",
      "1598: Done 39 episodes, last 10 means: reward=0.303, steps=32.500, speed=5.01 steps/s, eps=0.70\n",
      "1600: nets synced, mean loss for last 10 steps = 0.005\n",
      "1657: Done 40 episodes, last 10 means: reward=0.131, steps=36.900, speed=5.65 steps/s, eps=0.67\n",
      "1714: Done 41 episodes, last 10 means: reward=-0.002, steps=39.200, speed=5.44 steps/s, eps=0.64\n",
      "1723: Done 42 episodes, last 10 means: reward=0.033, steps=37.400, speed=4.29 steps/s, eps=0.64\n",
      "1727: Done 43 episodes, last 10 means: reward=0.093, steps=34.400, speed=3.69 steps/s, eps=0.64\n",
      "1779: Done 44 episodes, last 10 means: reward=0.066, steps=36.400, speed=5.25 steps/s, eps=0.61\n",
      "1800: nets synced, mean loss for last 10 steps = 0.016\n",
      "1821: Done 45 episodes, last 10 means: reward=0.016, steps=38.800, speed=4.92 steps/s, eps=0.59\n",
      "1874: Done 46 episodes, last 10 means: reward=0.016, steps=39.100, speed=4.91 steps/s, eps=0.56\n",
      "1923: Done 47 episodes, last 10 means: reward=-0.153, steps=42.200, speed=4.82 steps/s, eps=0.54\n",
      "1977: Done 48 episodes, last 10 means: reward=-0.286, steps=43.700, speed=5.13 steps/s, eps=0.51\n",
      "2000: nets synced, mean loss for last 10 steps = 0.019\n",
      "2031: Done 49 episodes, last 10 means: reward=-0.395, steps=44.300, speed=5.10 steps/s, eps=0.48\n",
      "2085: Done 50 episodes, last 10 means: reward=-0.395, steps=43.800, speed=5.06 steps/s, eps=0.46\n",
      "2139: Done 51 episodes, last 10 means: reward=-0.295, steps=43.500, speed=5.25 steps/s, eps=0.43\n",
      "2196: Done 52 episodes, last 10 means: reward=-0.580, steps=48.300, speed=5.43 steps/s, eps=0.40\n",
      "2200: nets synced, mean loss for last 10 steps = 0.029\n",
      "2241: Done 53 episodes, last 10 means: reward=-0.651, steps=52.400, speed=5.65 steps/s, eps=0.38\n",
      "2296: Done 54 episodes, last 10 means: reward=-0.655, steps=52.700, speed=5.27 steps/s, eps=0.35\n",
      "2353: Done 55 episodes, last 10 means: reward=-0.874, steps=54.200, speed=5.37 steps/s, eps=0.32\n",
      "2400: nets synced, mean loss for last 10 steps = 0.050\n",
      "2405: Done 56 episodes, last 10 means: reward=-0.874, steps=54.100, speed=4.95 steps/s, eps=0.30\n",
      "2431: Done 57 episodes, last 10 means: reward=-0.723, steps=51.800, speed=4.80 steps/s, eps=0.29\n",
      "2488: Done 58 episodes, last 10 means: reward=-0.723, steps=52.100, speed=5.43 steps/s, eps=0.26\n",
      "2538: Done 59 episodes, last 10 means: reward=-0.723, steps=51.700, speed=4.81 steps/s, eps=0.23\n",
      "2593: Done 60 episodes, last 10 means: reward=-0.723, steps=51.800, speed=5.11 steps/s, eps=0.20\n",
      "2600: nets synced, mean loss for last 10 steps = 0.059\n",
      "2606: Done 61 episodes, last 10 means: reward=-0.645, steps=47.700, speed=4.68 steps/s, eps=0.20\n",
      "2660: Done 62 episodes, last 10 means: reward=-0.545, steps=47.400, speed=5.26 steps/s, eps=0.20\n",
      "2701: Done 63 episodes, last 10 means: reward=-0.540, steps=47.000, speed=5.49 steps/s, eps=0.20\n",
      "2751: Done 64 episodes, last 10 means: reward=-0.640, steps=46.500, speed=4.71 steps/s, eps=0.20\n",
      "2800: nets synced, mean loss for last 10 steps = 0.037\n",
      "2804: Done 65 episodes, last 10 means: reward=-0.540, steps=46.100, speed=5.18 steps/s, eps=0.20\n",
      "2857: Done 66 episodes, last 10 means: reward=-0.540, steps=46.200, speed=4.96 steps/s, eps=0.20\n",
      "2907: Done 67 episodes, last 10 means: reward=-0.691, steps=48.600, speed=4.77 steps/s, eps=0.20\n",
      "2960: Done 68 episodes, last 10 means: reward=-0.691, steps=48.200, speed=5.07 steps/s, eps=0.20\n",
      "3000: nets synced, mean loss for last 10 steps = 0.020\n",
      "3015: Done 69 episodes, last 10 means: reward=-0.691, steps=48.700, speed=5.25 steps/s, eps=0.20\n",
      "3072: Done 70 episodes, last 10 means: reward=-0.592, steps=48.900, speed=5.15 steps/s, eps=0.20\n",
      "3126: Done 71 episodes, last 10 means: reward=-0.770, steps=53.000, speed=5.10 steps/s, eps=0.20\n",
      "3175: Done 72 episodes, last 10 means: reward=-0.663, steps=52.500, speed=5.02 steps/s, eps=0.20\n",
      "3200: nets synced, mean loss for last 10 steps = 0.085\n",
      "3227: Done 73 episodes, last 10 means: reward=-0.793, steps=53.600, speed=4.93 steps/s, eps=0.20\n",
      "3278: Done 74 episodes, last 10 means: reward=-0.793, steps=53.700, speed=4.87 steps/s, eps=0.20\n",
      "3332: Done 75 episodes, last 10 means: reward=-0.793, steps=53.800, speed=5.02 steps/s, eps=0.20\n",
      "3387: Done 76 episodes, last 10 means: reward=-0.793, steps=54.000, speed=5.40 steps/s, eps=0.20\n",
      "3400: nets synced, mean loss for last 10 steps = 0.088\n",
      "3442: Done 77 episodes, last 10 means: reward=-0.793, steps=54.500, speed=5.23 steps/s, eps=0.20\n",
      "3495: Done 78 episodes, last 10 means: reward=-0.793, steps=54.500, speed=5.03 steps/s, eps=0.20\n"
     ]
    },
    {
     "name": "stdout",
     "output_type": "stream",
     "text": [
      "3546: Done 79 episodes, last 10 means: reward=-0.793, steps=54.100, speed=4.82 steps/s, eps=0.20\n",
      "3596: Done 80 episodes, last 10 means: reward=-0.893, steps=53.400, speed=4.78 steps/s, eps=0.20\n",
      "3600: nets synced, mean loss for last 10 steps = 0.161\n",
      "3653: Done 81 episodes, last 10 means: reward=-0.893, steps=53.700, speed=5.37 steps/s, eps=0.20\n",
      "3703: Done 82 episodes, last 10 means: reward=-1.000, steps=53.800, speed=4.73 steps/s, eps=0.20\n",
      "3757: Done 83 episodes, last 10 means: reward=-1.000, steps=54.000, speed=5.16 steps/s, eps=0.20\n",
      "3800: nets synced, mean loss for last 10 steps = 0.223\n",
      "3814: Done 84 episodes, last 10 means: reward=-1.000, steps=54.600, speed=5.47 steps/s, eps=0.20\n",
      "3872: Done 85 episodes, last 10 means: reward=-1.000, steps=55.000, speed=5.53 steps/s, eps=0.20\n",
      "3921: Done 86 episodes, last 10 means: reward=-1.000, steps=54.400, speed=4.56 steps/s, eps=0.20\n",
      "3971: Done 87 episodes, last 10 means: reward=-1.000, steps=53.900, speed=4.87 steps/s, eps=0.20\n",
      "4000: nets synced, mean loss for last 10 steps = 0.208\n",
      "4027: Done 88 episodes, last 10 means: reward=-1.000, steps=54.200, speed=5.29 steps/s, eps=0.20\n",
      "4081: Done 89 episodes, last 10 means: reward=-1.000, steps=54.500, speed=5.11 steps/s, eps=0.20\n",
      "4105: Done 90 episodes, last 10 means: reward=-0.845, steps=51.900, speed=4.84 steps/s, eps=0.20\n",
      "4111: Done 91 episodes, last 10 means: reward=-0.655, steps=46.800, speed=3.53 steps/s, eps=0.20\n",
      "4156: Done 92 episodes, last 10 means: reward=-0.655, steps=46.300, speed=4.44 steps/s, eps=0.20\n",
      "4200: nets synced, mean loss for last 10 steps = 0.166\n",
      "4211: Done 93 episodes, last 10 means: reward=-0.655, steps=46.400, speed=5.18 steps/s, eps=0.20\n",
      "4264: Done 94 episodes, last 10 means: reward=-0.655, steps=46.000, speed=5.05 steps/s, eps=0.20\n",
      "4321: Done 95 episodes, last 10 means: reward=-0.655, steps=45.900, speed=5.44 steps/s, eps=0.20\n",
      "4373: Done 96 episodes, last 10 means: reward=-0.555, steps=46.200, speed=4.98 steps/s, eps=0.20\n",
      "4400: nets synced, mean loss for last 10 steps = 0.094\n",
      "4427: Done 97 episodes, last 10 means: reward=-0.655, steps=46.600, speed=5.05 steps/s, eps=0.20\n"
     ]
    },
    {
     "ename": "KeyboardInterrupt",
     "evalue": "",
     "output_type": "error",
     "traceback": [
      "\u001b[0;31m---------------------------------------------------------------------------\u001b[0m",
      "\u001b[0;31mKeyboardInterrupt\u001b[0m                         Traceback (most recent call last)",
      "\u001b[0;32m<ipython-input-619-258f5feda2b4>\u001b[0m in \u001b[0;36m<module>\u001b[0;34m\u001b[0m\n\u001b[1;32m     27\u001b[0m         \u001b[0;32mcontinue\u001b[0m\u001b[0;34m\u001b[0m\u001b[0;34m\u001b[0m\u001b[0m\n\u001b[1;32m     28\u001b[0m     \u001b[0mbatch\u001b[0m \u001b[0;34m=\u001b[0m \u001b[0mbuffer\u001b[0m\u001b[0;34m.\u001b[0m\u001b[0msample\u001b[0m\u001b[0;34m(\u001b[0m\u001b[0mBATCH_SIZE\u001b[0m\u001b[0;34m)\u001b[0m\u001b[0;34m\u001b[0m\u001b[0;34m\u001b[0m\u001b[0m\n\u001b[0;32m---> 29\u001b[0;31m     \u001b[0mstate_v\u001b[0m\u001b[0;34m,\u001b[0m \u001b[0mactions_v\u001b[0m\u001b[0;34m,\u001b[0m \u001b[0mref_q_v\u001b[0m \u001b[0;34m=\u001b[0m \u001b[0munpack_batch\u001b[0m\u001b[0;34m(\u001b[0m\u001b[0mbatch\u001b[0m\u001b[0;34m,\u001b[0m \u001b[0mtgt_net\u001b[0m\u001b[0;34m.\u001b[0m\u001b[0mtarget_model\u001b[0m\u001b[0;34m,\u001b[0m \u001b[0mgamma\u001b[0m\u001b[0;34m=\u001b[0m\u001b[0mGAMMA\u001b[0m\u001b[0;34m,\u001b[0m \u001b[0mdevice\u001b[0m\u001b[0;34m=\u001b[0m\u001b[0mDEVICE\u001b[0m\u001b[0;34m)\u001b[0m\u001b[0;34m\u001b[0m\u001b[0;34m\u001b[0m\u001b[0m\n\u001b[0m\u001b[1;32m     30\u001b[0m     \u001b[0moptimizer\u001b[0m\u001b[0;34m.\u001b[0m\u001b[0mzero_grad\u001b[0m\u001b[0;34m(\u001b[0m\u001b[0;34m)\u001b[0m\u001b[0;34m\u001b[0m\u001b[0;34m\u001b[0m\u001b[0m\n\u001b[1;32m     31\u001b[0m     \u001b[0mq_v\u001b[0m \u001b[0;34m=\u001b[0m \u001b[0mnet\u001b[0m\u001b[0;34m(\u001b[0m\u001b[0mstate_v\u001b[0m\u001b[0;34m)\u001b[0m\u001b[0;34m\u001b[0m\u001b[0;34m\u001b[0m\u001b[0m\n",
      "\u001b[0;32m~/anaconda3/envs/miniwob/lib/python3.6/site-packages/torch/autograd/grad_mode.py\u001b[0m in \u001b[0;36mdecorate_no_grad\u001b[0;34m(*args, **kwargs)\u001b[0m\n\u001b[1;32m     41\u001b[0m         \u001b[0;32mdef\u001b[0m \u001b[0mdecorate_no_grad\u001b[0m\u001b[0;34m(\u001b[0m\u001b[0;34m*\u001b[0m\u001b[0margs\u001b[0m\u001b[0;34m,\u001b[0m \u001b[0;34m**\u001b[0m\u001b[0mkwargs\u001b[0m\u001b[0;34m)\u001b[0m\u001b[0;34m:\u001b[0m\u001b[0;34m\u001b[0m\u001b[0;34m\u001b[0m\u001b[0m\n\u001b[1;32m     42\u001b[0m             \u001b[0;32mwith\u001b[0m \u001b[0mself\u001b[0m\u001b[0;34m:\u001b[0m\u001b[0;34m\u001b[0m\u001b[0;34m\u001b[0m\u001b[0m\n\u001b[0;32m---> 43\u001b[0;31m                 \u001b[0;32mreturn\u001b[0m \u001b[0mfunc\u001b[0m\u001b[0;34m(\u001b[0m\u001b[0;34m*\u001b[0m\u001b[0margs\u001b[0m\u001b[0;34m,\u001b[0m \u001b[0;34m**\u001b[0m\u001b[0mkwargs\u001b[0m\u001b[0;34m)\u001b[0m\u001b[0;34m\u001b[0m\u001b[0;34m\u001b[0m\u001b[0m\n\u001b[0m\u001b[1;32m     44\u001b[0m         \u001b[0;32mreturn\u001b[0m \u001b[0mdecorate_no_grad\u001b[0m\u001b[0;34m\u001b[0m\u001b[0;34m\u001b[0m\u001b[0m\n\u001b[1;32m     45\u001b[0m \u001b[0;34m\u001b[0m\u001b[0m\n",
      "\u001b[0;32m<ipython-input-9-422d98b5f252>\u001b[0m in \u001b[0;36munpack_batch\u001b[0;34m(batch, net, gamma, device)\u001b[0m\n\u001b[1;32m     16\u001b[0m             \u001b[0mlast_states\u001b[0m\u001b[0;34m.\u001b[0m\u001b[0mappend\u001b[0m\u001b[0;34m(\u001b[0m\u001b[0mexp\u001b[0m\u001b[0;34m.\u001b[0m\u001b[0mlast_state\u001b[0m\u001b[0;34m)\u001b[0m\u001b[0;34m\u001b[0m\u001b[0;34m\u001b[0m\u001b[0m\n\u001b[1;32m     17\u001b[0m \u001b[0;34m\u001b[0m\u001b[0m\n\u001b[0;32m---> 18\u001b[0;31m     \u001b[0mstates_v\u001b[0m \u001b[0;34m=\u001b[0m \u001b[0mtorch\u001b[0m\u001b[0;34m.\u001b[0m\u001b[0mtensor\u001b[0m\u001b[0;34m(\u001b[0m\u001b[0mstates\u001b[0m\u001b[0;34m)\u001b[0m\u001b[0;34m.\u001b[0m\u001b[0mto\u001b[0m\u001b[0;34m(\u001b[0m\u001b[0mdevice\u001b[0m\u001b[0;34m)\u001b[0m\u001b[0;34m\u001b[0m\u001b[0;34m\u001b[0m\u001b[0m\n\u001b[0m\u001b[1;32m     19\u001b[0m     \u001b[0mactions_v\u001b[0m \u001b[0;34m=\u001b[0m \u001b[0mtorch\u001b[0m\u001b[0;34m.\u001b[0m\u001b[0mtensor\u001b[0m\u001b[0;34m(\u001b[0m\u001b[0mactions\u001b[0m\u001b[0;34m)\u001b[0m\u001b[0;34m.\u001b[0m\u001b[0mto\u001b[0m\u001b[0;34m(\u001b[0m\u001b[0mdevice\u001b[0m\u001b[0;34m)\u001b[0m\u001b[0;34m\u001b[0m\u001b[0;34m\u001b[0m\u001b[0m\n\u001b[1;32m     20\u001b[0m     \u001b[0mrewards_v\u001b[0m \u001b[0;34m=\u001b[0m \u001b[0mtorch\u001b[0m\u001b[0;34m.\u001b[0m\u001b[0mtensor\u001b[0m\u001b[0;34m(\u001b[0m\u001b[0mrewards\u001b[0m\u001b[0;34m)\u001b[0m\u001b[0;34m.\u001b[0m\u001b[0mto\u001b[0m\u001b[0;34m(\u001b[0m\u001b[0mdevice\u001b[0m\u001b[0;34m)\u001b[0m\u001b[0;34m\u001b[0m\u001b[0;34m\u001b[0m\u001b[0m\n",
      "\u001b[0;31mKeyboardInterrupt\u001b[0m: "
     ]
    }
   ],
   "source": [
    "episode_rewards = []\n",
    "episode_steps = []\n",
    "losses = []\n",
    "steps = 0\n",
    "last_ts = time.time()\n",
    "last_steps = 0\n",
    "\n",
    "while True:\n",
    "    steps += 1\n",
    "    buffer.populate(1)\n",
    "    r = exp_source.pop_rewards_steps()\n",
    "    if r:\n",
    "        for rw, st in r:\n",
    "            episode_rewards.append(rw)\n",
    "            episode_steps.append(st)\n",
    "        speed = (steps - last_steps) / (time.time() - last_ts)\n",
    "        print(\"%d: Done %d episodes, last 10 means: reward=%.3f, steps=%.3f, speed=%.2f steps/s, eps=%.2f\" % (\n",
    "            steps, len(episode_rewards), np.mean(episode_rewards[-10:]), \n",
    "            np.mean(episode_steps[-10:]), speed, action_selector.epsilon\n",
    "        ))\n",
    "        last_ts = time.time()\n",
    "        last_steps = steps\n",
    "        if np.mean(episode_rewards[-10:]) > 0.9:\n",
    "            print(\"You solved the env! Congrats!\")\n",
    "            break\n",
    "    if len(buffer) < MIN_REPLAY:\n",
    "        continue\n",
    "    batch = buffer.sample(BATCH_SIZE)\n",
    "    state_v, actions_v, ref_q_v = unpack_batch(batch, tgt_net.target_model, gamma=GAMMA, device=DEVICE)\n",
    "    optimizer.zero_grad()\n",
    "    q_v = net(state_v)\n",
    "    q_v = q_v.gather(1, actions_v.unsqueeze(-1)).squeeze(-1)\n",
    "    loss_v = F.mse_loss(q_v, ref_q_v)\n",
    "    loss_v.backward()\n",
    "    optimizer.step()\n",
    "    losses.append(loss_v.item())\n",
    "    \n",
    "    if steps % TGT_SYNC == 0:\n",
    "        print(\"%d: nets synced, mean loss for last 10 steps = %.3f\" % (\n",
    "            steps, np.mean(losses[-10:])))\n",
    "        tgt_net.sync()\n",
    "    action_selector.epsilon = max(FINAL_EPSILON, INITIAL_EPSILON - (steps - MIN_REPLAY) / STEPS_EPSILON)"
   ]
  },
  {
   "cell_type": "code",
   "execution_count": 620,
   "metadata": {},
   "outputs": [
    {
     "data": {
      "image/png": "[encoded data removed]",
      "text/plain": [
       "<Figure size 432x288 with 1 Axes>"
      ]
     },
     "metadata": {
      "needs_background": "light"
     },
     "output_type": "display_data"
    }
   ],
   "source": [
    "plt.plot(losses);"
   ]
  },
  {
   "cell_type": "code",
   "execution_count": 607,
   "metadata": {},
   "outputs": [
    {
     "data": {
      "image/png": "[encoded data removed]",
      "text/plain": [
       "<Figure size 432x288 with 1 Axes>"
      ]
     },
     "metadata": {
      "needs_background": "light"
     },
     "output_type": "display_data"
    }
   ],
   "source": [
    "plt.plot(losses);"
   ]
  },
  {
   "cell_type": "code",
   "execution_count": 621,
   "metadata": {},
   "outputs": [
    {
     "data": {
      "image/png": "[encoded data removed]",
      "text/plain": [
       "<Figure size 432x288 with 1 Axes>"
      ]
     },
     "metadata": {
      "needs_background": "light"
     },
     "output_type": "display_data"
    }
   ],
   "source": [
    "plt.plot(episode_rewards);"
   ]
  },
  {
   "cell_type": "code",
   "execution_count": 623,
   "metadata": {},
   "outputs": [
    {
     "data": {
      "text/plain": [
       "4473"
      ]
     },
     "execution_count": 623,
     "metadata": {},
     "output_type": "execute_result"
    }
   ],
   "source": [
    "len(buffer)"
   ]
  },
  {
   "cell_type": "markdown",
   "metadata": {},
   "source": [
    "Let's examine our training samples"
   ]
  },
  {
   "cell_type": "markdown",
   "metadata": {},
   "source": [
    "## Replay buffer check\n",
    "\n",
    "Let's take replay buffer from the previous run and check it for anomalies."
   ]
  },
  {
   "cell_type": "code",
   "execution_count": 624,
   "metadata": {},
   "outputs": [
    {
     "name": "stdout",
     "output_type": "stream",
     "text": [
      "Found 33 final good states and 53 final bad\n"
     ]
    }
   ],
   "source": [
    "# buffer is just a container of objects of ExperienceFirstLast \n",
    "# (https://github.com/Shmuma/ptan/blob/master/ptan/experience.py#L155)\n",
    "# which just a namedtuple with fields: state, action, reward, last_state\n",
    "final_good = []\n",
    "final_bad = []\n",
    "for s in buffer:\n",
    "    if s.last_state is None:\n",
    "        if s.reward > 0.2:\n",
    "            final_good.append(s)\n",
    "        elif s.reward < -0.2:\n",
    "            final_bad.append(s)\n",
    "print(\"Found %d final good states and %d final bad\" % (len(final_good), len(final_bad)))"
   ]
  },
  {
   "cell_type": "code",
   "execution_count": 625,
   "metadata": {},
   "outputs": [
    {
     "data": {
      "text/plain": [
       "97"
      ]
     },
     "execution_count": 625,
     "metadata": {},
     "output_type": "execute_result"
    }
   ],
   "source": [
    "len(episode_rewards)"
   ]
  },
  {
   "cell_type": "code",
   "execution_count": 626,
   "metadata": {},
   "outputs": [],
   "source": [
    "final_good_imgs = [get_obs_img(s.state, action=s.action) for s in final_good]\n",
    "final_bad_imgs = [get_obs_img(s.state, action=s.action) for s in final_bad]"
   ]
  },
  {
   "cell_type": "code",
   "execution_count": 631,
   "metadata": {},
   "outputs": [
    {
     "data": {
      "image/png": "[encoded data removed]",
      "text/plain": [
       "<Figure size 1080x10800 with 33 Axes>"
      ]
     },
     "metadata": {
      "needs_background": "light"
     },
     "output_type": "display_data"
    }
   ],
   "source": [
    "fig = plt.figure(figsize=(15, 150))\n",
    "\n",
    "rows = 10\n",
    "for i, img in enumerate(final_good_imgs, start=1):\n",
    "    fig.add_subplot(rows, np.ceil(len(final_good_imgs)/rows), i)\n",
    "    plt.imshow(img)\n",
    "plt.show()"
   ]
  },
  {
   "cell_type": "code",
   "execution_count": 635,
   "metadata": {},
   "outputs": [
    {
     "data": {
      "image/png": "[encoded data removed]",
      "text/plain": [
       "<Figure size 1080x1080 with 10 Axes>"
      ]
     },
     "metadata": {
      "needs_background": "light"
     },
     "output_type": "display_data"
    }
   ],
   "source": [
    "fig = plt.figure(figsize=(15, 15))\n",
    "\n",
    "rows = 3\n",
    "for i, img in enumerate(final_bad_imgs[:10], start=1):\n",
    "    fig.add_subplot(rows, np.ceil(len(final_bad_imgs[:10])/rows), i)\n",
    "    plt.imshow(img)\n",
    "plt.show()"
   ]
  },
  {
   "cell_type": "markdown",
   "metadata": {},
   "source": [
    "Oh. Conclusion: asynchronous nature of Universe and MiniWoB makes it fundamentally harder setup for simple DQN.\n",
    "\n",
    "Possible approaches:\n",
    "1. bandit-like setup (for this particular problem): we issue one single click and wait for episode to end.\n",
    "2. POMDP setup: we should extend the observation space with history of clicks we've done.\n",
    "\n",
    "In the next notebook we'll apply part of the first approach to our DQN version. You're free to experiment with pure-bandit methods for this problem or implement POMDP version (shouldn't be very complicated, one way of doing this could to pass the grid of clicked cells to the conv layer as extra \"color\" plane)."
   ]
  },
  {
   "cell_type": "markdown",
   "metadata": {},
   "source": [
    "# Do not forget to stop container"
   ]
  },
  {
   "cell_type": "code",
   "execution_count": 462,
   "metadata": {},
   "outputs": [],
   "source": [
    "env.close()"
   ]
  },
  {
   "cell_type": "code",
   "execution_count": 578,
   "metadata": {},
   "outputs": [
    {
     "name": "stdout",
     "output_type": "stream",
     "text": [
      "Starting container 1\n",
      "e592c5a7f6b252f702ac88c09878f39cefea316096685b471414285a0f10a3ab\n"
     ]
    }
   ],
   "source": [
    "!./containers_run.sh"
   ]
  },
  {
   "cell_type": "code",
   "execution_count": 577,
   "metadata": {},
   "outputs": [
    {
     "name": "stdout",
     "output_type": "stream",
     "text": [
      "\"docker stop\" requires at least 1 argument.\r\n",
      "See 'docker stop --help'.\r\n",
      "\r\n",
      "Usage:  docker stop [OPTIONS] CONTAINER [CONTAINER...]\r\n",
      "\r\n",
      "Stop one or more running containers\r\n"
     ]
    }
   ],
   "source": [
    "!./containers_stop.sh"
   ]
  },
  {
   "cell_type": "code",
   "execution_count": null,
   "metadata": {},
   "outputs": [],
   "source": []
  }
 ],
 "metadata": {
  "kernelspec": {
   "display_name": "Python 3",
   "language": "python",
   "name": "python3"
  },
  "language_info": {
   "codemirror_mode": {
    "name": "ipython",
    "version": 3
   },
   "file_extension": ".py",
   "mimetype": "text/x-python",
   "name": "python",
   "nbconvert_exporter": "python",
   "pygments_lexer": "ipython3",
   "version": "3.6.8"
  }
 },
 "nbformat": 4,
 "nbformat_minor": 2
}
