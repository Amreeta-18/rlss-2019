{
 "cells": [
  {
   "cell_type": "markdown",
   "metadata": {
    "heading_collapsed": true
   },
   "source": [
    "# MiniWoB intro\n"
   ]
  },
  {
   "cell_type": "markdown",
   "metadata": {
    "hidden": true
   },
   "source": [
    "Mini World of Bits (MiniWoB) is an RL benchmark introduced by OpenAI researchers in 2017.\n",
    "\n",
    "Their original paper http://proceedings.mlr.press/v70/shi17a/shi17a.pdf\n",
    "\n",
    "The core idea is to create a set of browser-based tasks to be solved using RL methods. Every task is a small dynamic webpage, which could be interacted using a mouse or keyboard. The reward is given for executing correct sequence of actions. Description of the goal is included into the webpage.\n",
    "\n",
    "In total it introduced 80 problems of varying complexity -- from the trivial like clicking the form button to very challenging, for example booking the flight following the criterias.\n",
    "\n",
    "The problems are available here: https://stanfordnlp.github.io/miniwob-plusplus/\n",
    "\n",
    "Unfortunately, OpenAI discontinued MiniWoB project, so, it hasn't gained popularity it deserves. After OpenAI paper in 2017, MiniWoB was used in several research papers, the most notable ones:\n",
    "\n",
    "* [1802.08802 Reinforcement Learning on Web Interfaces Using Workflow-Guided Exploration](https://arxiv.org/abs/1802.08802)\n",
    "* [1812.09195 Learning to Navigate the Web](https://arxiv.org/abs/1812.09195v1)\n",
    "* [1902.07257v1 DOM-Q-NET: Grounded RL on Structured Language](https://arxiv.org/abs/1902.07257v1)\n",
    "\n",
    "But that's almost nothing in comparison to Atari games popularity. To fix this mistake, let's play with MiniWoB in this tutorial.\n",
    "\n",
    "This tutorial uses the original MiniWoB. There exists the imroved version from Stanford researches, called [MiniWoB++](https://stanfordnlp.github.io/miniwob-plusplus/)\n"
   ]
  },
  {
   "cell_type": "markdown",
   "metadata": {
    "hidden": true
   },
   "source": [
    "## Why that's still relevant for RL\n",
    "\n",
    "You might ask, why do we need to play with two discontinued projects published two years ago (almost eternity by ML/DL field pace). There are several reasons for that:\n",
    "\n",
    "* MiniWoB problems are still very far from being solved. \n",
    "* Some of them are much harder and much close to real-life human behaviour than Atari games. \n",
    "* MiniWoB has practical application in automated software testing, web data extraction and automation.\n",
    "* Universe with all its issues, allows fast integration of applications into RL experiments without modifying the source code.\n",
    "* The most important: it's fun!"
   ]
  },
  {
   "cell_type": "markdown",
   "metadata": {
    "hidden": true
   },
   "source": [
    "## Architecture\n",
    "\n",
    "MiniWoB is implemented as a part of [OpenAI Universe](https://github.com/openai/universe) (another frozen project of OpenAI). The idea of Universe is to use VNC protocol to connect RL agent with GUI applications. As VNC is a cross-platform protocol used by humans to communicate with remote GUI applications, RL agent also achieves this ability (is RL agent smart enough to communicate is a different question). \n",
    "\n",
    "MiniWoB is a part of Universe, where GUI app is a browser with loaded dynamic webpages.\n",
    "\n",
    "Overall architecture of Universe is shown below\n",
    "\n",
    "![Arch](images/arch.png)\n",
    "\n",
    "The original MiniWoB docker image is available [on quay.io](https://quay.io/repository/openai/universe.world-of-bits), but I suggest you to use my version with fixed stability issues. The fixed version is available [on dockerhub](https://cloud.docker.com/u/shmuma/repository/docker/shmuma/miniwob). If you want to build your own version of the fixed image, you can follow [instructions here](https://github.com/PacktPublishing/Deep-Reinforcement-Learning-Hands-On/tree/master/Chapter13/wob_fixes)\n"
   ]
  },
  {
   "cell_type": "markdown",
   "metadata": {
    "hidden": true
   },
   "source": [
    "## Starting the container\n",
    "\n",
    "If you have docker installed, you can start the single container running the following command:\n",
    "\n",
    "`docker run -d -p 5900:5900 -p 15900:15900 --privileged --ipc host --cap-add SYS_ADMIN shmuma/miniwob run`\n",
    "\n",
    "Here, the options:\n",
    "* `-d` detaches container from terminal and keeps it running in background\n",
    "* `-p 5900:5900` forwards VNC port to the host machine\n",
    "* `-p 15900:15900` forwards rewarder port \n",
    "* `--privileged` gives extended privileges to this container (not sure is this needed or not, that was written in OpenAI manual)\n",
    "* `--ipc host` uses host's IPC namespace\n",
    "* `--cap-add SYS_ADMIN` extends container privileges\n",
    "* `shmuma/miniwob` name of the container image to start, you can use `quay.io/openai/universe.world-of- bits:0.20.0` to start original MiniWoB image\n",
    "* `run` command to start inside container\n",
    "\n",
    "During the training, several containers could be started (to decrease training samples correlation), to simplify this process, this repo includes two scripts: `containers_run.sh` and `containers_stop.sh`. The first starts the required amount of containers (given in command line), the second script stops all started containers (be careful, it just stops ALL containers, not only started by `containers_run.sh` script)."
   ]
  },
  {
   "cell_type": "code",
   "execution_count": 1,
   "metadata": {
    "hidden": true
   },
   "outputs": [
    {
     "name": "stdout",
     "output_type": "stream",
     "text": [
      "#!/usr/bin/env bash\r\n",
      "IMAGE_NAME=shmuma/miniwob\r\n",
      "\r\n",
      "count=`docker ps -q | wc -l`\r\n",
      "\r\n",
      "if test $count -ne 0 ; then\r\n",
      "    echo You already have $count containers running, are you sure you want more?\r\n",
      "    exit\r\n",
      "fi\r\n",
      "\r\n",
      "for i in `seq 1 ${1:-1}`; do\r\n",
      "    echo Starting container $i\r\n",
      "    P1=$((5900+$i-1))\r\n",
      "    P2=$((15900+$i-1))\r\n",
      "    docker run -d -p $P1:5900 -p $P2:15900 --privileged --ipc host --cap-add SYS_ADMIN $IMAGE_NAME run\r\n",
      "done\r\n"
     ]
    }
   ],
   "source": [
    "!cat containers_run.sh"
   ]
  },
  {
   "cell_type": "code",
   "execution_count": 2,
   "metadata": {
    "hidden": true
   },
   "outputs": [
    {
     "name": "stdout",
     "output_type": "stream",
     "text": [
      "#!/usr/bin/env bash\r\n",
      "\r\n",
      "docker stop `docker ps -q`\r\n"
     ]
    }
   ],
   "source": [
    "!cat containers_stop.sh"
   ]
  },
  {
   "cell_type": "code",
   "execution_count": 3,
   "metadata": {
    "hidden": true
   },
   "outputs": [
    {
     "name": "stdout",
     "output_type": "stream",
     "text": [
      "Starting container 1\n",
      "e94f531c4888a90d878b4383936eca99b4aa55cad8ce9e8e074a59b66396b531\n"
     ]
    }
   ],
   "source": [
    "!./containers_run.sh 1"
   ]
  },
  {
   "cell_type": "code",
   "execution_count": 4,
   "metadata": {
    "hidden": true
   },
   "outputs": [
    {
     "name": "stdout",
     "output_type": "stream",
     "text": [
      "CONTAINER ID        IMAGE               COMMAND                  CREATED             STATUS                  PORTS                                                        NAMES\r\n",
      "e94f531c4888        shmuma/miniwob      \"/app/universe-envs/…\"   5 seconds ago       Up Less than a second   0.0.0.0:5900->5900/tcp, 5899/tcp, 0.0.0.0:15900->15900/tcp   xenodochial_varahamihira\r\n"
     ]
    }
   ],
   "source": [
    "!docker ps"
   ]
  },
  {
   "cell_type": "markdown",
   "metadata": {
    "hidden": true
   },
   "source": [
    "After this you can connect to the started container using one of many VNC clients available. If you're using MacOS, VNC client is already included in OS, in Finder press `Command+K` and then connect to 'vnc://localhost:5900'. Password for connection is `openai`\n",
    "\n",
    "![](images/vnc.png)"
   ]
  },
  {
   "cell_type": "markdown",
   "metadata": {
    "hidden": true
   },
   "source": [
    "Do not forget to stop containers, as they are quite CPU-hungry "
   ]
  },
  {
   "cell_type": "code",
   "execution_count": 7,
   "metadata": {
    "hidden": true
   },
   "outputs": [
    {
     "name": "stdout",
     "output_type": "stream",
     "text": [
      "af325a282347\r\n"
     ]
    }
   ],
   "source": [
    "!./containers_stop.sh"
   ]
  },
  {
   "cell_type": "markdown",
   "metadata": {
    "heading_collapsed": true
   },
   "source": [
    "# Imports"
   ]
  },
  {
   "cell_type": "code",
   "execution_count": 1,
   "metadata": {
    "hidden": true
   },
   "outputs": [
    {
     "name": "stderr",
     "output_type": "stream",
     "text": [
      "/home/shmuma/anaconda3/envs/miniwob/lib/python3.6/site-packages/universe/runtimes/__init__.py:7: YAMLLoadWarning: calling yaml.load() without Loader=... is deprecated, as the default Loader is unsafe. Please read https://msg.pyyaml.org/load for full details.\n",
      "  spec = yaml.load(f)\n"
     ]
    }
   ],
   "source": [
    "import gym\n",
    "import ptan\n",
    "import time\n",
    "import numpy as np\n",
    "import universe\n",
    "from typing import List, Optional, Tuple\n",
    "from universe import vectorized\n",
    "from universe.wrappers.experimental import SoftmaxClickMouse\n",
    "\n",
    "from PIL import Image"
   ]
  },
  {
   "cell_type": "code",
   "execution_count": 2,
   "metadata": {
    "hidden": true
   },
   "outputs": [],
   "source": [
    "DOCKER_IMAGE = \"shmuma/miniwob:latest\""
   ]
  },
  {
   "cell_type": "code",
   "execution_count": 3,
   "metadata": {
    "hidden": true
   },
   "outputs": [],
   "source": [
    "# function to build connection endpoints for set of containers\n",
    "def remotes_url(port_ofs=0, hostname='localhost', count=8):\n",
    "    hosts = [\"%s:%d+%d\" % (hostname, 5900 + ofs, 15900 + ofs) for ofs in range(port_ofs, port_ofs+count)]\n",
    "    return \"vnc://\" + \",\".join(hosts)"
   ]
  },
  {
   "cell_type": "markdown",
   "metadata": {},
   "source": [
    "# Gym actions/observations"
   ]
  },
  {
   "cell_type": "markdown",
   "metadata": {},
   "source": [
    "## Universe vectorized observations/actions\n",
    "\n",
    "Before we start looking at actual MiniWoB action and observation spaces, we need to state one quite important difference between OpenAI Gym and OpenAI Universe. \n",
    "\n",
    "Gym API is **synchronous** in terms of agent's calls to `step()` function and internal environment state. For example, if the agent playing Atari decided to download the 10GB model file (between calls to `step()`), Atari 2600 emulator and the game it emulates notice nothing, as Atari knows nothing about wall clock time, only about ticks of 6507 MCU and internal emulated hardware state. Gym can do this, because it has the full control over every environment it exposes to the developer.\n",
    "\n",
    "In contrast, Universe has much less knowledge and control over the software it communicates with. VNC protocol provides remote framebuffer interface (low-level name of VNC protocol is RFB), capturing the image on the remote machine and transferring it to VNC client running in front of you. Your actions, like mouse movements and key presses are recorded and being sent to the VNC server. So, VNC is relatively thin protocol providing the impression that remote applications are running locally. This simplifies application integration, but at the same time if you've missed same frame from the input images stream, you've missed it. So, Universe Gym API is **asynchronous**:\n",
    "\n",
    "* agent needs to be fast enough to process observations and keep the desired framerate. This might be important in cases when something qick is happening on the screen\n",
    "* on `reset()` call, environment takes some time to start producing observations. To indicate this transient states, it returns None for observations, which means you need to wait and repeat the request.\n",
    "\n",
    "Another difference is in native support of several environments running in parallel. On creation of environment you can specify how many of them need to be created and system will start several docker images running in parallel. Alternatively, you can provide several ports of already running docker images (possibly on remote machines in the cloud). As a result, Universe `Env` instance returns vectors of observations from `reset()` and `step()` calls and expects you to provide vector of actions for `step()`. This breaks the API, but simplifies the development. \n",
    "\n",
    "Ptan library supports both vectorized and old-style environments, which also makes your life a little bit easier. "
   ]
  },
  {
   "cell_type": "markdown",
   "metadata": {},
   "source": [
    "## Observations and actions\n",
    "\n",
    "Universe exposes two new subclasses of Gym `Space` class: [`VNCActionSpace`](https://github.com/openai/universe/blob/master/universe/spaces/vnc_action_space.py) and `VNCObservationSpace`\n",
    "\n",
    "Action space is a container for `VNCKeyEvent` or `VNCPointerEvent`: https://github.com/openai/universe/blob/master/universe/spaces/vnc_event.py\n",
    "\n",
    "Observation from single environment is a dictionary with two keys: `vision` with image pixels and `text` with text description from the environment."
   ]
  },
  {
   "cell_type": "code",
   "execution_count": 4,
   "metadata": {},
   "outputs": [
    {
     "name": "stdout",
     "output_type": "stream",
     "text": [
      "You already have 1 containers running, are you sure you want more?\r\n"
     ]
    }
   ],
   "source": [
    "!./containers_run.sh 1"
   ]
  },
  {
   "cell_type": "code",
   "execution_count": 10,
   "metadata": {},
   "outputs": [
    {
     "name": "stderr",
     "output_type": "stream",
     "text": [
      "[2019-06-28 19:39:29,123] Making new env: wob.mini.ClickDialog-v0\n",
      "/home/shmuma/anaconda3/envs/miniwob/lib/python3.6/site-packages/gym/envs/registration.py:17: PkgResourcesDeprecationWarning: Parameters to load are deprecated.  Call .resolve and .require separately.\n",
      "  result = entry_point.load(False)\n",
      "[2019-06-28 19:39:29,125] Writing logs to file: /tmp/universe-21835.log\n",
      "[2019-06-28 19:39:29,128] Using the golang VNC implementation\n",
      "[2019-06-28 19:39:29,129] Using VNCSession arguments: {'encoding': 'tight', 'compress_level': 0, 'fine_quality_level': 100, 'subsample_level': 0, 'start_timeout': 7}. (Customize by running \"env.configure(vnc_kwargs={...})\"\n",
      "[2019-06-28 19:39:29,206] [0] Connecting to environment: vnc://localhost:5900 password=openai. If desired, you can manually connect a VNC viewer, such as TurboVNC. Most environments provide a convenient in-browser VNC client: http://localhost:15900/viewer/?password=openai\n"
     ]
    },
    {
     "name": "stdout",
     "output_type": "stream",
     "text": [
      "vnc://localhost:5900+15900\n"
     ]
    }
   ],
   "source": [
    "env = gym.make(\"wob.mini.ClickDialog-v0\")\n",
    "url = remotes_url(count=1)\n",
    "print(url)\n",
    "\n",
    "env.configure(remotes=url, docker_image=DOCKER_IMAGE, fps=5, vnc_kwargs={\n",
    "        'encoding': 'tight', 'compress_level': 0,\n",
    "        'fine_quality_level': 100, 'subsample_level': 0\n",
    "    })\n",
    "obs = env.reset()"
   ]
  },
  {
   "cell_type": "code",
   "execution_count": 11,
   "metadata": {},
   "outputs": [
    {
     "name": "stderr",
     "output_type": "stream",
     "text": [
      "[2019-06-28 19:39:33,279] Throttle fell behind by 3.87s; lost 19.35 frames\n",
      "[2019-06-28 19:39:45,636] [0:localhost:5900] Sending reset for env_id=wob.mini.ClickDialog-v0 fps=60 episode_id=0\n",
      "[2019-06-28 19:39:46,144] [0:localhost:5900] Initial reset complete: episode_id=11\n"
     ]
    }
   ],
   "source": [
    "while obs[0] is None:\n",
    "    a = env.action_space.sample()\n",
    "    obs, reward, is_done, info = env.step([a])\n",
    "    time.sleep(1)"
   ]
  },
  {
   "cell_type": "markdown",
   "metadata": {},
   "source": [
    "We've got the first observation. The result is a list of single dict (remember vectorized form of universe observations?) "
   ]
  },
  {
   "cell_type": "code",
   "execution_count": 12,
   "metadata": {},
   "outputs": [
    {
     "data": {
      "text/plain": [
       "[{'vision': array([[[0, 0, 0],\n",
       "          [0, 0, 0],\n",
       "          [0, 0, 0],\n",
       "          ...,\n",
       "          [0, 0, 0],\n",
       "          [0, 0, 0],\n",
       "          [0, 0, 0]],\n",
       "  \n",
       "         [[0, 0, 0],\n",
       "          [0, 0, 0],\n",
       "          [0, 0, 0],\n",
       "          ...,\n",
       "          [0, 0, 0],\n",
       "          [0, 0, 0],\n",
       "          [0, 0, 0]],\n",
       "  \n",
       "         [[0, 0, 0],\n",
       "          [0, 0, 0],\n",
       "          [0, 0, 0],\n",
       "          ...,\n",
       "          [0, 0, 0],\n",
       "          [0, 0, 0],\n",
       "          [0, 0, 0]],\n",
       "  \n",
       "         ...,\n",
       "  \n",
       "         [[0, 0, 0],\n",
       "          [0, 0, 0],\n",
       "          [0, 0, 0],\n",
       "          ...,\n",
       "          [0, 0, 0],\n",
       "          [0, 0, 0],\n",
       "          [0, 0, 0]],\n",
       "  \n",
       "         [[0, 0, 0],\n",
       "          [0, 0, 0],\n",
       "          [0, 0, 0],\n",
       "          ...,\n",
       "          [0, 0, 0],\n",
       "          [0, 0, 0],\n",
       "          [0, 0, 0]],\n",
       "  \n",
       "         [[0, 0, 0],\n",
       "          [0, 0, 0],\n",
       "          [0, 0, 0],\n",
       "          ...,\n",
       "          [0, 0, 0],\n",
       "          [0, 0, 0],\n",
       "          [0, 0, 0]]], dtype=uint8), 'text': []}]"
      ]
     },
     "execution_count": 12,
     "metadata": {},
     "output_type": "execute_result"
    }
   ],
   "source": [
    "obs"
   ]
  },
  {
   "cell_type": "code",
   "execution_count": 13,
   "metadata": {},
   "outputs": [
    {
     "data": {
      "image/png": "[encoded data removed]",
      "text/plain": [
       "<PIL.Image.Image image mode=RGB size=1024x768 at 0x7F5374127DA0>"
      ]
     },
     "execution_count": 13,
     "metadata": {},
     "output_type": "execute_result"
    }
   ],
   "source": [
    "im = Image.fromarray(obs[0]['vision'])\n",
    "im"
   ]
  },
  {
   "cell_type": "markdown",
   "metadata": {},
   "source": [
    "### Image cropper\n",
    "\n",
    "As you can see, image is not cropped which is not very convenient, as relevant part of the problem's field is just tiny portion of the field. Below is the wrapper we'll use to crop the observations"
   ]
  },
  {
   "cell_type": "code",
   "execution_count": 5,
   "metadata": {},
   "outputs": [],
   "source": [
    "class MiniWoBCropper(vectorized.ObservationWrapper):\n",
    "    \"\"\"\n",
    "    Crops the WoB area and converts the observation into PyTorch (C, H, W) format.\n",
    "    \"\"\"\n",
    "    # Area of interest\n",
    "    WIDTH = 160\n",
    "    HEIGHT = 210\n",
    "    X_OFS = 10\n",
    "    Y_OFS = 75\n",
    "    \n",
    "    def __init__(self, env, keep_text=False):\n",
    "        super(MiniWoBCropper, self).__init__(env)\n",
    "        self.keep_text = keep_text\n",
    "        img_space = gym.spaces.Box(low=0, high=255, shape=(3, self.HEIGHT, self.WIDTH))\n",
    "        if keep_text:\n",
    "            self.observation_space = gym.spaces.Tuple(spaces=(img_space, gym.spaces.Space))\n",
    "        else:\n",
    "            self.observation_space = img_space\n",
    "\n",
    "    def _observation(self, observation_n):\n",
    "        res = []\n",
    "        for obs in observation_n:\n",
    "            if obs is None:\n",
    "                res.append(obs)\n",
    "                continue\n",
    "            img = obs['vision'][self.Y_OFS:self.Y_OFS+self.HEIGHT, self.X_OFS:self.X_OFS+self.WIDTH, :]\n",
    "            img = np.transpose(img, (2, 0, 1))\n",
    "            if self.keep_text:\n",
    "                text = \" \".join(map(lambda d: d.get('instruction', ''), obs.get('text', [{}])))\n",
    "                res.append((img, text))\n",
    "            else:\n",
    "                res.append(img)\n",
    "        return res\n"
   ]
  },
  {
   "cell_type": "markdown",
   "metadata": {},
   "source": [
    "Tiny easter egg in MiniWoB: image area has exactly the same dimension as Atari games resultion in ALE.\n",
    "\n",
    "And please note that old gym doesn't support `dtype` in `Box` class, so, it will be wrongly set as float32 (but, in fact, byte)"
   ]
  },
  {
   "cell_type": "code",
   "execution_count": 15,
   "metadata": {},
   "outputs": [
    {
     "name": "stderr",
     "output_type": "stream",
     "text": [
      "[2019-06-28 19:40:13,395] Making new env: wob.mini.ClickDialog-v0\n",
      "[2019-06-28 19:40:13,410] Using the golang VNC implementation\n",
      "[2019-06-28 19:40:13,410] Using VNCSession arguments: {'encoding': 'tight', 'compress_level': 0, 'fine_quality_level': 100, 'subsample_level': 0, 'start_timeout': 7}. (Customize by running \"env.configure(vnc_kwargs={...})\"\n",
      "[2019-06-28 19:40:13,433] [0] Connecting to environment: vnc://localhost:5900 password=openai. If desired, you can manually connect a VNC viewer, such as TurboVNC. Most environments provide a convenient in-browser VNC client: http://localhost:15900/viewer/?password=openai\n"
     ]
    },
    {
     "name": "stdout",
     "output_type": "stream",
     "text": [
      "vnc://localhost:5900+15900\n"
     ]
    }
   ],
   "source": [
    "env = gym.make(\"wob.mini.ClickDialog-v0\")\n",
    "env = MiniWoBCropper(env)\n",
    "url = remotes_url(count=1)\n",
    "print(url)\n",
    "\n",
    "env.configure(remotes=url, docker_image=DOCKER_IMAGE, fps=5, vnc_kwargs={\n",
    "        'encoding': 'tight', 'compress_level': 0,\n",
    "        'fine_quality_level': 100, 'subsample_level': 0\n",
    "    })\n",
    "obs = env.reset()"
   ]
  },
  {
   "cell_type": "code",
   "execution_count": 16,
   "metadata": {},
   "outputs": [
    {
     "name": "stderr",
     "output_type": "stream",
     "text": [
      "[2019-06-28 19:40:15,990] Throttle fell behind by 2.36s; lost 11.78 frames\n",
      "[2019-06-28 19:40:29,771] [0:localhost:5900] Sending reset for env_id=wob.mini.ClickDialog-v0 fps=60 episode_id=0\n",
      "[2019-06-28 19:40:29,797] [0:localhost:5900] Initial reset complete: episode_id=16\n"
     ]
    }
   ],
   "source": [
    "while obs[0] is None:\n",
    "    a = env.action_space.sample()\n",
    "    obs, reward, is_done, info = env.step([a])\n",
    "    time.sleep(1)"
   ]
  },
  {
   "cell_type": "code",
   "execution_count": 17,
   "metadata": {},
   "outputs": [
    {
     "data": {
      "text/plain": [
       "[array([[[181, 182, 182, ..., 182, 182, 182],\n",
       "         [255, 255, 255, ..., 255, 255, 255],\n",
       "         [254, 255, 255, ..., 255, 255, 255],\n",
       "         ...,\n",
       "         [255, 255, 255, ..., 255, 255, 255],\n",
       "         [255, 255, 255, ..., 255, 255, 255],\n",
       "         [255, 255, 255, ..., 255, 255, 255]],\n",
       " \n",
       "        [[179, 180, 180, ..., 180, 180, 180],\n",
       "         [255, 255, 255, ..., 255, 255, 255],\n",
       "         [255, 255, 255, ..., 255, 255, 255],\n",
       "         ...,\n",
       "         [255, 255, 255, ..., 255, 255, 255],\n",
       "         [255, 255, 255, ..., 255, 255, 255],\n",
       "         [255, 255, 255, ..., 255, 255, 255]],\n",
       " \n",
       "        [[182, 183, 183, ..., 183, 183, 183],\n",
       "         [  0,   0,   0, ...,   0,   0,   0],\n",
       "         [  0,   0,   0, ...,   0,   0,   0],\n",
       "         ...,\n",
       "         [255, 255, 255, ..., 255, 255, 255],\n",
       "         [255, 255, 255, ..., 255, 255, 255],\n",
       "         [255, 255, 255, ..., 255, 255, 255]]], dtype=uint8)]"
      ]
     },
     "execution_count": 17,
     "metadata": {},
     "output_type": "execute_result"
    }
   ],
   "source": [
    "obs"
   ]
  },
  {
   "cell_type": "code",
   "execution_count": 18,
   "metadata": {},
   "outputs": [
    {
     "data": {
      "text/plain": [
       "(3, 210, 160)"
      ]
     },
     "execution_count": 18,
     "metadata": {},
     "output_type": "execute_result"
    }
   ],
   "source": [
    "obs[0].shape"
   ]
  },
  {
   "cell_type": "code",
   "execution_count": 19,
   "metadata": {},
   "outputs": [
    {
     "data": {
      "text/plain": [
       "Box(3, 210, 160)"
      ]
     },
     "execution_count": 19,
     "metadata": {},
     "output_type": "execute_result"
    }
   ],
   "source": [
    "env.observation_space"
   ]
  },
  {
   "cell_type": "code",
   "execution_count": 20,
   "metadata": {},
   "outputs": [
    {
     "data": {
      "image/png": "[encoded data removed]",
      "text/plain": [
       "<PIL.Image.Image image mode=RGB size=160x210 at 0x7F5374023550>"
      ]
     },
     "execution_count": 20,
     "metadata": {},
     "output_type": "execute_result"
    }
   ],
   "source": [
    "im = Image.fromarray(obs[0].transpose((1, 2, 0)))\n",
    "im"
   ]
  },
  {
   "cell_type": "markdown",
   "metadata": {},
   "source": [
    "### Action space\n",
    "\n",
    "VNCActionSpace can include mouse click and key press events. To demonstrate how it is done, let's solve environment above by using brute force agent (sometimes this approach works better than sophisticated RL methods!)"
   ]
  },
  {
   "cell_type": "code",
   "execution_count": 21,
   "metadata": {},
   "outputs": [
    {
     "name": "stderr",
     "output_type": "stream",
     "text": [
      "[2019-06-28 19:41:04,629] [0:localhost:5900] Sending reset for env_id=wob.mini.ClickDialog-v0 fps=60 episode_id=0\n"
     ]
    },
    {
     "data": {
      "text/plain": [
       "[None]"
      ]
     },
     "execution_count": 21,
     "metadata": {},
     "output_type": "execute_result"
    }
   ],
   "source": [
    "env.reset()"
   ]
  },
  {
   "cell_type": "code",
   "execution_count": 22,
   "metadata": {},
   "outputs": [],
   "source": [
    "while obs[0] is None:\n",
    "    a = env.action_space.sample()\n",
    "    obs, reward, is_done, info = env.step([a])\n",
    "    time.sleep(1)"
   ]
  },
  {
   "cell_type": "code",
   "execution_count": 23,
   "metadata": {},
   "outputs": [
    {
     "name": "stderr",
     "output_type": "stream",
     "text": [
      "[2019-06-28 19:41:12,920] Throttle fell behind by 8.09s; lost 40.45 frames\n"
     ]
    },
    {
     "name": "stdout",
     "output_type": "stream",
     "text": [
      "Got reward 0.768, clicks done 106\n",
      "Got reward 0.771, clicks done 14\n",
      "Got reward 0.597, clicks done 180\n",
      "Got reward 0.390, clicks done 33\n",
      "Got reward 0.971, clicks done 7\n",
      "Got reward 0.729, clicks done 118\n",
      "Got reward 0.951, clicks done 5\n",
      "Got reward 0.079, clicks done 101\n",
      "Got reward 0.079, clicks done 101\n",
      "Got reward 0.891, clicks done 8\n",
      "Mean reward for 10 solved episodes is 0.623\n"
     ]
    }
   ],
   "source": [
    "# try to solve 10 episodes by doing random clicking\n",
    "rewards = []\n",
    "clicks_done = 0\n",
    "\n",
    "while len(rewards) < 10:\n",
    "    clicks_done += 1\n",
    "    click_x = MiniWoBCropper.X_OFS + np.random.randint(MiniWoBCropper.WIDTH)\n",
    "    click_y = MiniWoBCropper.Y_OFS + np.random.randint(MiniWoBCropper.HEIGHT)\n",
    "\n",
    "    acts = [\n",
    "        universe.spaces.PointerEvent(click_x, click_y, buttonmask=0),\n",
    "        universe.spaces.PointerEvent(click_x, click_y, buttonmask=1),\n",
    "        universe.spaces.PointerEvent(click_x, click_y, buttonmask=0)\n",
    "    ]\n",
    "\n",
    "    obs_n, r_n, end_n, _ = env.step([acts])\n",
    "    if r_n[0] > 0:\n",
    "        rewards.append(r_n[0])\n",
    "        print(\"Got reward %.3f, clicks done %d\" % (r_n[0], clicks_done))\n",
    "        clicks_done = 0\n",
    "        \n",
    "print(\"Mean reward for %d solved episodes is %.3f\" % (len(rewards), np.mean(rewards)))"
   ]
  },
  {
   "cell_type": "markdown",
   "metadata": {},
   "source": [
    "Above approach are sampling from $160*210 = 33600$ action space, which might be too much for RL methods. To simplify our life a bit, we can discretize the area to be clicked by applying some grid and allowing to click only in the center of grid cell.\n",
    "\n",
    "<img src=\"images/wob-actions.png\" alt=\"Drawing\" style=\"width: 500px;\"/>\n",
    "\n",
    "Universe already comes with such preprocessor, called `SoftmaxClickMouse`: https://github.com/openai/universe/blob/master/universe/wrappers/experimental/action_space.py#L65, let's try it in our random clicking approach"
   ]
  },
  {
   "cell_type": "code",
   "execution_count": 6,
   "metadata": {},
   "outputs": [
    {
     "name": "stderr",
     "output_type": "stream",
     "text": [
      "[2019-06-29 12:19:00,985] Making new env: wob.mini.ClickDialog-v0\n",
      "/home/shmuma/anaconda3/envs/miniwob/lib/python3.6/site-packages/gym/envs/registration.py:17: PkgResourcesDeprecationWarning: Parameters to load are deprecated.  Call .resolve and .require separately.\n",
      "  result = entry_point.load(False)\n",
      "[2019-06-29 12:19:01,000] Using SoftmaxClickMouse with action_region=(10, 125, 170, 285), noclick_regions=[]\n",
      "[2019-06-29 12:19:01,000] SoftmaxClickMouse noclick regions removed 0 of 256 actions\n",
      "[2019-06-29 12:19:01,001] Writing logs to file: /tmp/universe-23640.log\n",
      "[2019-06-29 12:19:01,002] Using the golang VNC implementation\n",
      "[2019-06-29 12:19:01,002] Using VNCSession arguments: {'encoding': 'tight', 'compress_level': 0, 'fine_quality_level': 100, 'subsample_level': 0, 'start_timeout': 7}. (Customize by running \"env.configure(vnc_kwargs={...})\"\n",
      "[2019-06-29 12:19:01,016] [0] Connecting to environment: vnc://localhost:5900 password=openai. If desired, you can manually connect a VNC viewer, such as TurboVNC. Most environments provide a convenient in-browser VNC client: http://localhost:15900/viewer/?password=openai\n"
     ]
    }
   ],
   "source": [
    "env = gym.make(\"wob.mini.ClickDialog-v0\")\n",
    "env = MiniWoBCropper(env)\n",
    "env = SoftmaxClickMouse(env)\n",
    "url = remotes_url(count=1)\n",
    "\n",
    "env.configure(remotes=url, docker_image=DOCKER_IMAGE, fps=5, vnc_kwargs={\n",
    "        'encoding': 'tight', 'compress_level': 0,\n",
    "        'fine_quality_level': 100, 'subsample_level': 0\n",
    "    })\n",
    "\n",
    "obs = env.reset()\n"
   ]
  },
  {
   "cell_type": "code",
   "execution_count": 25,
   "metadata": {},
   "outputs": [
    {
     "data": {
      "text/plain": [
       "Discrete(256)"
      ]
     },
     "execution_count": 25,
     "metadata": {},
     "output_type": "execute_result"
    }
   ],
   "source": [
    "env.action_space"
   ]
  },
  {
   "cell_type": "code",
   "execution_count": 26,
   "metadata": {},
   "outputs": [
    {
     "name": "stderr",
     "output_type": "stream",
     "text": [
      "[2019-06-28 19:43:41,958] Throttle fell behind by 7.79s; lost 38.97 frames\n",
      "[2019-06-28 19:43:50,299] [0:localhost:5900] Sending reset for env_id=wob.mini.ClickDialog-v0 fps=60 episode_id=0\n",
      "[2019-06-28 19:43:55,371] [0:localhost:5900] Initial reset complete: episode_id=43\n"
     ]
    }
   ],
   "source": [
    "while obs[0] is None:\n",
    "    a = env.action_space.sample()\n",
    "    obs, reward, is_done, info = env.step([a])\n",
    "    time.sleep(1)"
   ]
  },
  {
   "cell_type": "code",
   "execution_count": 27,
   "metadata": {},
   "outputs": [
    {
     "name": "stderr",
     "output_type": "stream",
     "text": [
      "[2019-06-28 19:43:59,235] Throttle fell behind by 3.05s; lost 15.27 frames\n"
     ]
    },
    {
     "name": "stdout",
     "output_type": "stream",
     "text": [
      "Got reward 0.735, clicks done 16\n",
      "Got reward 0.971, clicks done 4\n",
      "Got reward 0.810, clicks done 12\n",
      "Got reward 0.391, clicks done 33\n",
      "Got reward 0.911, clicks done 7\n",
      "Got reward 0.149, clicks done 45\n",
      "Got reward 0.399, clicks done 85\n",
      "Got reward 0.771, clicks done 14\n",
      "Got reward 0.607, clicks done 232\n",
      "Got reward 0.250, clicks done 40\n",
      "Mean reward for 10 solved episodes is 0.599\n"
     ]
    }
   ],
   "source": [
    "# try to solve 10 episodes by doing random clicking\n",
    "rewards = []\n",
    "clicks_done = 0\n",
    "\n",
    "while len(rewards) < 10:\n",
    "    clicks_done += 1\n",
    "    act = env.action_space.sample()\n",
    "    obs_n, r_n, end_n, _ = env.step([act])\n",
    "    if r_n[0] > 0:\n",
    "        rewards.append(r_n[0])\n",
    "        print(\"Got reward %.3f, clicks done %d\" % (r_n[0], clicks_done))\n",
    "        clicks_done = 0\n",
    "print(\"Mean reward for %d solved episodes is %.3f\" % (len(rewards), np.mean(rewards)))"
   ]
  },
  {
   "cell_type": "markdown",
   "metadata": {},
   "source": [
    "Not much improvements, probably RL will help with this :)."
   ]
  },
  {
   "cell_type": "markdown",
   "metadata": {},
   "source": [
    "# Basic DQN baseline\n",
    "\n",
    "With all those simplifications done, we can implement basic DQN agent to solve some environments."
   ]
  },
  {
   "cell_type": "code",
   "execution_count": 7,
   "metadata": {},
   "outputs": [
    {
     "name": "stderr",
     "output_type": "stream",
     "text": [
      "[2019-06-29 12:19:17,359] [0:localhost:5900] Sending reset for env_id=wob.mini.ClickDialog-v0 fps=60 episode_id=0\n"
     ]
    }
   ],
   "source": [
    "import torch\n",
    "import torch.nn as nn\n",
    "import torch.nn.functional as F\n",
    "import torch.optim as optim"
   ]
  },
  {
   "cell_type": "markdown",
   "metadata": {},
   "source": [
    "## Model \n",
    "\n",
    "Below is the model we're going to use. Nothing fancy, just three convolution layers followed by two FC-layers, returning Q-values for our 256 click locations."
   ]
  },
  {
   "cell_type": "code",
   "execution_count": 8,
   "metadata": {},
   "outputs": [
    {
     "name": "stderr",
     "output_type": "stream",
     "text": [
      "[2019-06-29 12:19:19,384] [0:localhost:5900] Initial reset complete: episode_id=5807\n"
     ]
    }
   ],
   "source": [
    "class Model(nn.Module):\n",
    "    def __init__(self, input_shape, n_actions):\n",
    "        super(Model, self).__init__()\n",
    "\n",
    "        self.conv = nn.Sequential(\n",
    "            nn.Conv2d(input_shape[0], 64, 5, stride=5),\n",
    "            nn.ReLU(),\n",
    "            nn.Conv2d(64, 64, 3, stride=2),\n",
    "            nn.ReLU(),\n",
    "            nn.Conv2d(64, 32, 3, stride=2),\n",
    "            nn.ReLU(),\n",
    "        )\n",
    "\n",
    "        conv_out_size = self._get_conv_out(input_shape)\n",
    "\n",
    "        self.fc = nn.Sequential(\n",
    "            nn.Linear(conv_out_size, 256),\n",
    "            nn.ReLU(),\n",
    "            nn.Linear(256, n_actions),\n",
    "        )\n",
    "\n",
    "    def _get_conv_out(self, shape):\n",
    "        o = self.conv(torch.zeros(1, *shape))\n",
    "        return int(np.prod(o.size()))\n",
    "\n",
    "    def forward(self, x):\n",
    "        fx = x.float() / 256\n",
    "        conv_out = self.conv(fx).view(fx.size()[0], -1)\n",
    "        return self.fc(conv_out)"
   ]
  },
  {
   "cell_type": "markdown",
   "metadata": {
    "heading_collapsed": true
   },
   "source": [
    "## Batch preparation (practice)\n",
    "\n",
    "For data gathering we'll use [`ptan` library](https://github.com/shmuma/ptan/) which is a very thin RL-specific wrapper around Gym. It implement replay buffers, agent logic and other functions frequently required for RL training.\n",
    "\n",
    "Our first warm-up problem will be to write conversion of batch sampled from Replay Buffer into PyTorch tensors suitable for training.\n",
    "\n",
    "Input to the function is a list of `namedtuple` with the following fields ([source code](https://github.com/Shmuma/ptan/blob/master/ptan/experience.py#L155)):\n",
    "* `state`: state `s` in the trajectory, which is a 160x210 array of bytes with shape \\[3, 210, 160\\]\n",
    "* `action`: action executed, which is an integer from 0 to 255 indicating the square in our click grid\n",
    "* `reward`: immediate reward obtained after action execution\n",
    "* `last_state`: state we've got after execution of action. It equals to `None` if episode finished after action.\n",
    "\n",
    "We'll use 1-step DQN, but Ptan can do N-step calculation for you. You can experiment with the difference.\n",
    "\n",
    "The output should be three tensors containing the batch data with:\n",
    "* `state`: in a form of tensor with shape \\[X, Y, ...\\]\n",
    "* `actions`: as a long tensor\n",
    "* `ref values`: approximated Q-values using Bellman equation\n",
    "\n",
    "$Q_{s,a} = r_{s,a} + \\gamma \\cdot max_{a'}Q_{s',a'}$\n"
   ]
  },
  {
   "cell_type": "code",
   "execution_count": null,
   "metadata": {
    "hidden": true
   },
   "outputs": [],
   "source": [
    "@torch.no_grad()\n",
    "def unpack_batch(batch: List[ptan.experience.ExperienceFirstLast], net: nn.Module, gamma: float, device=\"cpu\"):\n",
    "    states = []\n",
    "    actions = []\n",
    "    rewards = []\n",
    "    done_masks = []    # list of booleans, True if this is the last step in the episode\n",
    "    last_states = []\n",
    "    for exp in batch:\n",
    "        # unpack every experience entry into individual lists\n",
    "        raise NotImplementedError\n",
    "\n",
    "    # convert everything to tensors (do not forget to put them into proper devices!)\n",
    "    # apply network and find best Q values of every action (torch.max() is the right function to use (c: )\n",
    "    # zero out q-values according to done_masks\n",
    "    # return the result as tuple of three things: states tensor, actions tensor and \n",
    "    # Q-values approximation tensor"
   ]
  },
  {
   "cell_type": "markdown",
   "metadata": {
    "hidden": true
   },
   "source": [
    "### Tests for your solution\n",
    "\n",
    "There are several test cases you can use to check your solution"
   ]
  },
  {
   "cell_type": "code",
   "execution_count": 31,
   "metadata": {
    "hidden": true
   },
   "outputs": [
    {
     "data": {
      "text/plain": [
       "Model(\n",
       "  (conv): Sequential(\n",
       "    (0): Conv2d(3, 64, kernel_size=(5, 5), stride=(5, 5))\n",
       "    (1): ReLU()\n",
       "    (2): Conv2d(64, 64, kernel_size=(3, 3), stride=(2, 2))\n",
       "    (3): ReLU()\n",
       "    (4): Conv2d(64, 32, kernel_size=(3, 3), stride=(2, 2))\n",
       "    (5): ReLU()\n",
       "  )\n",
       "  (fc): Sequential(\n",
       "    (0): Linear(in_features=2016, out_features=256, bias=True)\n",
       "    (1): ReLU()\n",
       "    (2): Linear(in_features=256, out_features=256, bias=True)\n",
       "  )\n",
       ")"
      ]
     },
     "execution_count": 31,
     "metadata": {},
     "output_type": "execute_result"
    }
   ],
   "source": [
    "# this code also should help you to understand the expectations from your code\n",
    "net = Model(env.observation_space.shape, env.action_space.n)\n",
    "# with eps=1, we don't need parent action selector, as all actions will be random, but that's a corner case!\n",
    "action_selector = ptan.actions.EpsilonGreedyActionSelector(epsilon=1) \n",
    "agent = ptan.agent.DQNAgent(net, action_selector)\n",
    "net"
   ]
  },
  {
   "cell_type": "code",
   "execution_count": 32,
   "metadata": {
    "hidden": true
   },
   "outputs": [
    {
     "name": "stderr",
     "output_type": "stream",
     "text": [
      "[2019-06-28 19:47:26,524] [0:localhost:5900] Sending reset for env_id=wob.mini.ClickDialog-v0 fps=60 episode_id=0\n"
     ]
    }
   ],
   "source": [
    "exp_source = ptan.experience.ExperienceSourceFirstLast(env, agent, gamma=1.0, vectorized=True)\n",
    "batch = [e for _, e in zip(range(5), exp_source)]\n",
    "# add one final state with known reward\n",
    "batch.append(ptan.experience.ExperienceFirstLast(state=batch[0].state, action=0, reward=10.0, last_state=None))"
   ]
  },
  {
   "cell_type": "code",
   "execution_count": 33,
   "metadata": {
    "hidden": true
   },
   "outputs": [],
   "source": [
    "r = unpack_batch(batch, net, gamma=1.0)"
   ]
  },
  {
   "cell_type": "code",
   "execution_count": 34,
   "metadata": {
    "hidden": true
   },
   "outputs": [],
   "source": [
    "assert isinstance(r, tuple)\n",
    "assert len(r) == 3"
   ]
  },
  {
   "cell_type": "code",
   "execution_count": 35,
   "metadata": {
    "hidden": true
   },
   "outputs": [],
   "source": [
    "states, actions, next_q = r"
   ]
  },
  {
   "cell_type": "code",
   "execution_count": 36,
   "metadata": {
    "hidden": true
   },
   "outputs": [],
   "source": [
    "assert isinstance(states, torch.Tensor)\n",
    "assert states.dtype == torch.uint8\n",
    "assert states.size() == (6, 3, 210, 160)\n",
    "\n",
    "assert isinstance(actions, torch.Tensor)\n",
    "assert actions.dtype == torch.long\n",
    "assert actions.size() == (6, )\n",
    "\n",
    "assert isinstance(next_q, torch.Tensor)\n",
    "assert next_q.dtype == torch.float32\n",
    "assert next_q.size() == (6, )\n",
    "\n",
    "assert actions[5] == 0\n",
    "assert next_q[5] == 10.0"
   ]
  },
  {
   "cell_type": "markdown",
   "metadata": {
    "heading_collapsed": true
   },
   "source": [
    "## Batch preparation (solution)\n",
    "\n",
    "Please do not peek inside this, as you'll spoil all the fun :)"
   ]
  },
  {
   "cell_type": "code",
   "execution_count": 9,
   "metadata": {
    "hidden": true
   },
   "outputs": [],
   "source": [
    "@torch.no_grad()\n",
    "def unpack_batch(batch: List[ptan.experience.ExperienceFirstLast], net: nn.Module, gamma: float, device=\"cpu\"):\n",
    "    states = []\n",
    "    actions = []\n",
    "    rewards = []\n",
    "    done_masks = []\n",
    "    last_states = []\n",
    "    for exp in batch:\n",
    "        states.append(exp.state)\n",
    "        actions.append(exp.action)\n",
    "        rewards.append(exp.reward)\n",
    "        done_masks.append(exp.last_state is None)\n",
    "        if exp.last_state is None:\n",
    "            last_states.append(exp.state)\n",
    "        else:\n",
    "            last_states.append(exp.last_state)\n",
    "\n",
    "    states_v = torch.tensor(states).to(device)\n",
    "    actions_v = torch.tensor(actions).to(device)\n",
    "    rewards_v = torch.tensor(rewards).to(device)\n",
    "    last_states_v = torch.tensor(last_states).to(device)\n",
    "    last_state_q_v = net(last_states_v)\n",
    "    best_last_q_v = torch.max(last_state_q_v, dim=1)[0]\n",
    "    best_last_q_v[done_masks] = 0.0\n",
    "    return states_v, actions_v, best_last_q_v + rewards_v"
   ]
  },
  {
   "cell_type": "markdown",
   "metadata": {},
   "source": [
    "## Training loop\n",
    "\n",
    "Now we're ready to implement the training loop"
   ]
  },
  {
   "cell_type": "code",
   "execution_count": 17,
   "metadata": {},
   "outputs": [],
   "source": [
    "GAMMA = 0.9\n",
    "REPLAY_SIZE = 10000\n",
    "MIN_REPLAY = 100\n",
    "TGT_SYNC = 100\n",
    "BATCH_SIZE = 16\n",
    "LR = 1e-3\n",
    "DEVICE = \"cuda\"  \n",
    "#DEVICE = \"cpu\"\n",
    "\n",
    "INITIAL_EPSILON = 1.0\n",
    "FINAL_EPSILON = 0.2\n",
    "STEPS_EPSILON = 1000"
   ]
  },
  {
   "cell_type": "code",
   "execution_count": 78,
   "metadata": {},
   "outputs": [
    {
     "name": "stderr",
     "output_type": "stream",
     "text": [
      "[2019-06-28 23:40:01,162] Making new env: wob.mini.ClickDialog-v0\n",
      "[2019-06-28 23:40:01,166] Using SoftmaxClickMouse with action_region=(10, 125, 170, 285), noclick_regions=[]\n",
      "[2019-06-28 23:40:01,167] SoftmaxClickMouse noclick regions removed 0 of 256 actions\n",
      "[2019-06-28 23:40:01,167] Using the golang VNC implementation\n",
      "[2019-06-28 23:40:01,168] Using VNCSession arguments: {'encoding': 'tight', 'compress_level': 0, 'fine_quality_level': 100, 'subsample_level': 0, 'start_timeout': 7}. (Customize by running \"env.configure(vnc_kwargs={...})\"\n",
      "[2019-06-28 23:40:01,191] [0] Connecting to environment: vnc://localhost:5900 password=openai. If desired, you can manually connect a VNC viewer, such as TurboVNC. Most environments provide a convenient in-browser VNC client: http://localhost:15900/viewer/?password=openai\n"
     ]
    }
   ],
   "source": [
    "env = gym.make(\"wob.mini.ClickDialog-v0\")\n",
    "env = MiniWoBCropper(env)\n",
    "env = SoftmaxClickMouse(env)\n",
    "url = remotes_url(count=1)\n",
    "\n",
    "env.configure(remotes=url, docker_image=DOCKER_IMAGE, fps=1, vnc_kwargs={\n",
    "        'encoding': 'tight', 'compress_level': 0,\n",
    "        'fine_quality_level': 100, 'subsample_level': 0\n",
    "    })\n",
    "obs = env.reset()"
   ]
  },
  {
   "cell_type": "code",
   "execution_count": 79,
   "metadata": {},
   "outputs": [
    {
     "name": "stderr",
     "output_type": "stream",
     "text": [
      "[2019-06-28 23:40:03,482] Throttle fell behind by 1.29s; lost 1.29 frames\n",
      "[2019-06-28 23:40:17,575] [0:localhost:5900] Sending reset for env_id=wob.mini.ClickDialog-v0 fps=60 episode_id=0\n",
      "[2019-06-28 23:40:17,584] [0:localhost:5900] Initial reset complete: episode_id=1464\n"
     ]
    }
   ],
   "source": [
    "while obs[0] is None:\n",
    "    a = env.action_space.sample()\n",
    "    obs, reward, is_done, info = env.step([a])\n",
    "    time.sleep(1)"
   ]
  },
  {
   "cell_type": "code",
   "execution_count": 80,
   "metadata": {},
   "outputs": [],
   "source": [
    "# this code also should help you to understand the expectations from your code\n",
    "net = Model(env.observation_space.shape, env.action_space.n).to(DEVICE)\n",
    "tgt_net = ptan.agent.TargetNet(net)\n",
    "\n",
    "parent_selector = ptan.actions.ArgmaxActionSelector()\n",
    "action_selector = ptan.actions.EpsilonGreedyActionSelector(epsilon=INITIAL_EPSILON, selector=parent_selector) \n",
    "agent = ptan.agent.DQNAgent(net, action_selector, device=DEVICE)\n",
    "exp_source = ptan.experience.ExperienceSourceFirstLast(env, agent, gamma=1.0, vectorized=True)\n",
    "\n",
    "buffer = ptan.experience.ExperienceReplayBuffer(exp_source, REPLAY_SIZE)\n",
    "optimizer = optim.Adam(net.parameters(), LR)"
   ]
  },
  {
   "cell_type": "code",
   "execution_count": 81,
   "metadata": {},
   "outputs": [
    {
     "name": "stderr",
     "output_type": "stream",
     "text": [
      "[2019-06-28 23:40:19,641] [0:localhost:5900] Sending reset for env_id=wob.mini.ClickDialog-v0 fps=60 episode_id=0\n"
     ]
    },
    {
     "name": "stdout",
     "output_type": "stream",
     "text": [
      "9: Done 1 episodes, last 100 means: reward=-1.000, steps=8.000, speed=0.82 steps/s, eps=1.00\n",
      "20: Done 2 episodes, last 100 means: reward=-1.000, steps=9.500, speed=1.00 steps/s, eps=1.00\n",
      "23: Done 3 episodes, last 100 means: reward=-0.409, steps=7.333, speed=1.00 steps/s, eps=1.00\n",
      "33: Done 4 episodes, last 100 means: reward=-0.556, steps=8.000, speed=1.00 steps/s, eps=1.00\n",
      "37: Done 5 episodes, last 100 means: reward=-0.445, steps=7.200, speed=1.00 steps/s, eps=1.00\n",
      "47: Done 6 episodes, last 100 means: reward=-0.538, steps=7.667, speed=1.00 steps/s, eps=1.00\n",
      "58: Done 7 episodes, last 100 means: reward=-0.604, steps=8.143, speed=1.00 steps/s, eps=1.00\n",
      "68: Done 8 episodes, last 100 means: reward=-0.653, steps=8.375, speed=1.00 steps/s, eps=1.00\n",
      "79: Done 9 episodes, last 100 means: reward=-0.692, steps=8.667, speed=1.00 steps/s, eps=1.00\n",
      "89: Done 10 episodes, last 100 means: reward=-0.623, steps=8.800, speed=1.00 steps/s, eps=1.00\n",
      "100: Done 11 episodes, last 100 means: reward=-0.748, steps=9.000, speed=1.00 steps/s, eps=1.00\n",
      "100: nets synced, mean loss for last 100 steps = 0.144\n",
      "110: Done 12 episodes, last 100 means: reward=-0.769, steps=9.083, speed=1.00 steps/s, eps=0.89\n",
      "120: Done 13 episodes, last 100 means: reward=-0.787, steps=9.154, speed=1.00 steps/s, eps=0.88\n",
      "131: Done 14 episodes, last 100 means: reward=-0.802, steps=9.286, speed=1.00 steps/s, eps=0.87\n",
      "141: Done 15 episodes, last 100 means: reward=-0.815, steps=9.333, speed=1.00 steps/s, eps=0.86\n",
      "152: Done 16 episodes, last 100 means: reward=-0.827, steps=9.438, speed=1.00 steps/s, eps=0.85\n",
      "162: Done 17 episodes, last 100 means: reward=-0.837, steps=9.471, speed=1.00 steps/s, eps=0.84\n",
      "173: Done 18 episodes, last 100 means: reward=-0.846, steps=9.556, speed=1.00 steps/s, eps=0.83\n",
      "183: Done 19 episodes, last 100 means: reward=-0.801, steps=9.579, speed=1.00 steps/s, eps=0.82\n",
      "194: Done 20 episodes, last 100 means: reward=-0.811, steps=9.650, speed=1.00 steps/s, eps=0.81\n",
      "200: nets synced, mean loss for last 100 steps = 0.048\n",
      "204: Done 21 episodes, last 100 means: reward=-0.820, steps=9.667, speed=1.00 steps/s, eps=0.80\n",
      "215: Done 22 episodes, last 100 means: reward=-0.828, steps=9.727, speed=1.00 steps/s, eps=0.79\n",
      "225: Done 23 episodes, last 100 means: reward=-0.836, steps=9.739, speed=1.00 steps/s, eps=0.78\n",
      "236: Done 24 episodes, last 100 means: reward=-0.843, steps=9.792, speed=1.00 steps/s, eps=0.77\n",
      "246: Done 25 episodes, last 100 means: reward=-0.849, steps=9.800, speed=1.00 steps/s, eps=0.76\n",
      "249: Done 26 episodes, last 100 means: reward=-0.783, steps=9.538, speed=1.00 steps/s, eps=0.75\n",
      "259: Done 27 episodes, last 100 means: reward=-0.754, steps=9.556, speed=1.00 steps/s, eps=0.74\n",
      "269: Done 28 episodes, last 100 means: reward=-0.763, steps=9.571, speed=1.00 steps/s, eps=0.73\n",
      "280: Done 29 episodes, last 100 means: reward=-0.771, steps=9.621, speed=1.10 steps/s, eps=0.72\n",
      "281: Done 30 episodes, last 100 means: reward=-0.718, steps=9.367, speed=0.33 steps/s, eps=0.72\n",
      "291: Done 31 episodes, last 100 means: reward=-0.727, steps=9.387, speed=1.00 steps/s, eps=0.71\n",
      "300: nets synced, mean loss for last 100 steps = 0.072\n",
      "302: Done 32 episodes, last 100 means: reward=-0.735, steps=9.438, speed=1.00 steps/s, eps=0.70\n",
      "313: Done 33 episodes, last 100 means: reward=-0.743, steps=9.485, speed=1.00 steps/s, eps=0.69\n",
      "322: Done 34 episodes, last 100 means: reward=-0.717, steps=9.471, speed=1.00 steps/s, eps=0.68\n",
      "332: Done 35 episodes, last 100 means: reward=-0.725, steps=9.486, speed=1.00 steps/s, eps=0.67\n",
      "343: Done 36 episodes, last 100 means: reward=-0.733, steps=9.528, speed=1.00 steps/s, eps=0.66\n",
      "353: Done 37 episodes, last 100 means: reward=-0.740, steps=9.541, speed=1.00 steps/s, eps=0.65\n",
      "364: Done 38 episodes, last 100 means: reward=-0.747, steps=9.579, speed=1.00 steps/s, eps=0.64\n",
      "374: Done 39 episodes, last 100 means: reward=-0.753, steps=9.590, speed=1.00 steps/s, eps=0.63\n",
      "385: Done 40 episodes, last 100 means: reward=-0.760, steps=9.625, speed=1.00 steps/s, eps=0.62\n",
      "395: Done 41 episodes, last 100 means: reward=-0.765, steps=9.634, speed=1.00 steps/s, eps=0.61\n",
      "400: nets synced, mean loss for last 100 steps = 0.129\n",
      "406: Done 42 episodes, last 100 means: reward=-0.771, steps=9.667, speed=1.00 steps/s, eps=0.59\n",
      "416: Done 43 episodes, last 100 means: reward=-0.776, steps=9.674, speed=1.00 steps/s, eps=0.58\n",
      "427: Done 44 episodes, last 100 means: reward=-0.781, steps=9.705, speed=1.00 steps/s, eps=0.57\n",
      "437: Done 45 episodes, last 100 means: reward=-0.764, steps=9.711, speed=1.00 steps/s, eps=0.56\n",
      "448: Done 46 episodes, last 100 means: reward=-0.769, steps=9.739, speed=1.00 steps/s, eps=0.55\n",
      "458: Done 47 episodes, last 100 means: reward=-0.774, steps=9.745, speed=1.00 steps/s, eps=0.54\n",
      "469: Done 48 episodes, last 100 means: reward=-0.779, steps=9.771, speed=1.00 steps/s, eps=0.53\n",
      "479: Done 49 episodes, last 100 means: reward=-0.783, steps=9.776, speed=1.00 steps/s, eps=0.52\n",
      "490: Done 50 episodes, last 100 means: reward=-0.788, steps=9.800, speed=1.00 steps/s, eps=0.51\n",
      "500: Done 51 episodes, last 100 means: reward=-0.792, steps=9.804, speed=1.00 steps/s, eps=0.50\n",
      "500: nets synced, mean loss for last 100 steps = 0.186\n",
      "511: Done 52 episodes, last 100 means: reward=-0.796, steps=9.827, speed=1.00 steps/s, eps=0.49\n",
      "521: Done 53 episodes, last 100 means: reward=-0.800, steps=9.830, speed=1.00 steps/s, eps=0.48\n",
      "526: Done 54 episodes, last 100 means: reward=-0.773, steps=9.741, speed=1.00 steps/s, eps=0.47\n",
      "536: Done 55 episodes, last 100 means: reward=-0.778, steps=9.745, speed=1.00 steps/s, eps=0.46\n",
      "547: Done 56 episodes, last 100 means: reward=-0.782, steps=9.768, speed=1.00 steps/s, eps=0.45\n",
      "557: Done 57 episodes, last 100 means: reward=-0.785, steps=9.772, speed=1.00 steps/s, eps=0.44\n",
      "568: Done 58 episodes, last 100 means: reward=-0.789, steps=9.793, speed=1.00 steps/s, eps=0.43\n",
      "578: Done 59 episodes, last 100 means: reward=-0.776, steps=9.797, speed=1.00 steps/s, eps=0.42\n",
      "589: Done 60 episodes, last 100 means: reward=-0.796, steps=9.817, speed=1.00 steps/s, eps=0.41\n",
      "599: Done 61 episodes, last 100 means: reward=-0.799, steps=9.820, speed=1.00 steps/s, eps=0.40\n",
      "600: nets synced, mean loss for last 100 steps = 0.224\n",
      "610: Done 62 episodes, last 100 means: reward=-0.803, steps=9.839, speed=1.00 steps/s, eps=0.39\n",
      "620: Done 63 episodes, last 100 means: reward=-0.806, steps=9.841, speed=1.00 steps/s, eps=0.38\n",
      "623: Done 64 episodes, last 100 means: reward=-0.780, steps=9.734, speed=1.00 steps/s, eps=0.38\n",
      "633: Done 65 episodes, last 100 means: reward=-0.784, steps=9.738, speed=1.00 steps/s, eps=0.37\n",
      "643: Done 66 episodes, last 100 means: reward=-0.787, steps=9.742, speed=1.00 steps/s, eps=0.36\n",
      "653: Done 67 episodes, last 100 means: reward=-0.773, steps=9.746, speed=1.00 steps/s, eps=0.35\n",
      "663: Done 68 episodes, last 100 means: reward=-0.777, steps=9.750, speed=1.00 steps/s, eps=0.34\n",
      "674: Done 69 episodes, last 100 means: reward=-0.780, steps=9.768, speed=1.00 steps/s, eps=0.33\n",
      "682: Done 70 episodes, last 100 means: reward=-0.765, steps=9.743, speed=1.00 steps/s, eps=0.32\n",
      "692: Done 71 episodes, last 100 means: reward=-0.768, steps=9.746, speed=1.00 steps/s, eps=0.31\n",
      "700: nets synced, mean loss for last 100 steps = 0.278\n",
      "703: Done 72 episodes, last 100 means: reward=-0.772, steps=9.764, speed=1.00 steps/s, eps=0.30\n",
      "713: Done 73 episodes, last 100 means: reward=-0.775, steps=9.767, speed=1.00 steps/s, eps=0.29\n",
      "724: Done 74 episodes, last 100 means: reward=-0.778, steps=9.784, speed=1.00 steps/s, eps=0.28\n",
      "734: Done 75 episodes, last 100 means: reward=-0.781, steps=9.787, speed=1.00 steps/s, eps=0.27\n",
      "745: Done 76 episodes, last 100 means: reward=-0.784, steps=9.803, speed=1.00 steps/s, eps=0.26\n",
      "755: Done 77 episodes, last 100 means: reward=-0.786, steps=9.805, speed=1.00 steps/s, eps=0.25\n",
      "766: Done 78 episodes, last 100 means: reward=-0.789, steps=9.821, speed=1.00 steps/s, eps=0.23\n",
      "776: Done 79 episodes, last 100 means: reward=-0.792, steps=9.823, speed=1.00 steps/s, eps=0.22\n",
      "787: Done 80 episodes, last 100 means: reward=-0.794, steps=9.838, speed=1.00 steps/s, eps=0.21\n",
      "797: Done 81 episodes, last 100 means: reward=-0.797, steps=9.840, speed=1.00 steps/s, eps=0.20\n",
      "800: Done 82 episodes, last 100 means: reward=-0.777, steps=9.756, speed=1.00 steps/s, eps=0.20\n",
      "800: nets synced, mean loss for last 100 steps = 0.293\n"
     ]
    },
    {
     "name": "stdout",
     "output_type": "stream",
     "text": [
      "810: Done 83 episodes, last 100 means: reward=-0.780, steps=9.759, speed=1.00 steps/s, eps=0.20\n",
      "820: Done 84 episodes, last 100 means: reward=-0.783, steps=9.762, speed=1.00 steps/s, eps=0.20\n",
      "831: Done 85 episodes, last 100 means: reward=-0.785, steps=9.776, speed=1.00 steps/s, eps=0.20\n",
      "841: Done 86 episodes, last 100 means: reward=-0.788, steps=9.779, speed=1.00 steps/s, eps=0.20\n",
      "852: Done 87 episodes, last 100 means: reward=-0.790, steps=9.793, speed=1.00 steps/s, eps=0.20\n",
      "862: Done 88 episodes, last 100 means: reward=-0.792, steps=9.795, speed=1.00 steps/s, eps=0.20\n",
      "873: Done 89 episodes, last 100 means: reward=-0.795, steps=9.809, speed=1.00 steps/s, eps=0.20\n",
      "883: Done 90 episodes, last 100 means: reward=-0.797, steps=9.811, speed=1.00 steps/s, eps=0.20\n",
      "894: Done 91 episodes, last 100 means: reward=-0.799, steps=9.824, speed=1.00 steps/s, eps=0.20\n",
      "900: nets synced, mean loss for last 100 steps = 0.302\n",
      "904: Done 92 episodes, last 100 means: reward=-0.801, steps=9.826, speed=1.00 steps/s, eps=0.20\n",
      "915: Done 93 episodes, last 100 means: reward=-0.804, steps=9.839, speed=1.00 steps/s, eps=0.20\n",
      "925: Done 94 episodes, last 100 means: reward=-0.806, steps=9.840, speed=1.00 steps/s, eps=0.20\n",
      "936: Done 95 episodes, last 100 means: reward=-0.808, steps=9.853, speed=1.00 steps/s, eps=0.20\n",
      "939: Done 96 episodes, last 100 means: reward=-0.791, steps=9.781, speed=1.00 steps/s, eps=0.20\n",
      "949: Done 97 episodes, last 100 means: reward=-0.793, steps=9.784, speed=1.00 steps/s, eps=0.20\n",
      "959: Done 98 episodes, last 100 means: reward=-0.795, steps=9.786, speed=1.00 steps/s, eps=0.20\n",
      "970: Done 99 episodes, last 100 means: reward=-0.797, steps=9.798, speed=1.00 steps/s, eps=0.20\n",
      "980: Done 100 episodes, last 100 means: reward=-0.799, steps=9.800, speed=1.00 steps/s, eps=0.20\n",
      "991: Done 101 episodes, last 100 means: reward=-0.799, steps=9.830, speed=1.00 steps/s, eps=0.20\n",
      "1000: nets synced, mean loss for last 100 steps = 0.436\n",
      "1001: Done 102 episodes, last 100 means: reward=-0.788, steps=9.820, speed=1.00 steps/s, eps=0.20\n",
      "1011: Done 103 episodes, last 100 means: reward=-0.806, steps=9.890, speed=1.00 steps/s, eps=0.20\n",
      "1022: Done 104 episodes, last 100 means: reward=-0.806, steps=9.900, speed=1.00 steps/s, eps=0.20\n",
      "1032: Done 105 episodes, last 100 means: reward=-0.806, steps=9.960, speed=1.00 steps/s, eps=0.20\n",
      "1043: Done 106 episodes, last 100 means: reward=-0.806, steps=9.970, speed=1.00 steps/s, eps=0.20\n",
      "1053: Done 107 episodes, last 100 means: reward=-0.806, steps=9.960, speed=1.00 steps/s, eps=0.20\n",
      "1064: Done 108 episodes, last 100 means: reward=-0.806, steps=9.970, speed=1.00 steps/s, eps=0.20\n",
      "1074: Done 109 episodes, last 100 means: reward=-0.806, steps=9.960, speed=1.00 steps/s, eps=0.20\n",
      "1085: Done 110 episodes, last 100 means: reward=-0.816, steps=9.970, speed=1.00 steps/s, eps=0.20\n",
      "1095: Done 111 episodes, last 100 means: reward=-0.806, steps=9.960, speed=1.00 steps/s, eps=0.20\n",
      "1100: nets synced, mean loss for last 100 steps = 0.444\n",
      "1106: Done 112 episodes, last 100 means: reward=-0.806, steps=9.970, speed=1.00 steps/s, eps=0.20\n",
      "1116: Done 113 episodes, last 100 means: reward=-0.806, steps=9.970, speed=1.00 steps/s, eps=0.20\n",
      "1127: Done 114 episodes, last 100 means: reward=-0.806, steps=9.970, speed=1.00 steps/s, eps=0.20\n",
      "1137: Done 115 episodes, last 100 means: reward=-0.806, steps=9.970, speed=1.00 steps/s, eps=0.20\n",
      "1148: Done 116 episodes, last 100 means: reward=-0.806, steps=9.970, speed=1.00 steps/s, eps=0.20\n",
      "1158: Done 117 episodes, last 100 means: reward=-0.796, steps=9.970, speed=1.00 steps/s, eps=0.20\n",
      "1169: Done 118 episodes, last 100 means: reward=-0.806, steps=9.970, speed=1.00 steps/s, eps=0.20\n",
      "1174: Done 119 episodes, last 100 means: reward=-0.801, steps=9.920, speed=1.00 steps/s, eps=0.20\n",
      "1184: Done 120 episodes, last 100 means: reward=-0.801, steps=9.910, speed=1.00 steps/s, eps=0.20\n",
      "1195: Done 121 episodes, last 100 means: reward=-0.801, steps=9.920, speed=1.00 steps/s, eps=0.20\n",
      "1200: nets synced, mean loss for last 100 steps = 0.595\n",
      "1204: Done 122 episodes, last 100 means: reward=-0.789, steps=9.900, speed=1.00 steps/s, eps=0.20\n",
      "1214: Done 123 episodes, last 100 means: reward=-0.789, steps=9.900, speed=1.00 steps/s, eps=0.20\n",
      "1225: Done 124 episodes, last 100 means: reward=-0.789, steps=9.900, speed=1.00 steps/s, eps=0.20\n",
      "1235: Done 125 episodes, last 100 means: reward=-0.789, steps=9.900, speed=1.00 steps/s, eps=0.20\n",
      "1246: Done 126 episodes, last 100 means: reward=-0.798, steps=9.980, speed=1.00 steps/s, eps=0.20\n",
      "1256: Done 127 episodes, last 100 means: reward=-0.818, steps=9.980, speed=1.00 steps/s, eps=0.20\n",
      "1267: Done 128 episodes, last 100 means: reward=-0.818, steps=9.990, speed=1.00 steps/s, eps=0.20\n",
      "1277: Done 129 episodes, last 100 means: reward=-0.818, steps=9.980, speed=1.00 steps/s, eps=0.20\n",
      "1288: Done 130 episodes, last 100 means: reward=-0.836, steps=10.070, speed=1.00 steps/s, eps=0.20\n",
      "1298: Done 131 episodes, last 100 means: reward=-0.836, steps=10.070, speed=1.00 steps/s, eps=0.20\n",
      "1300: nets synced, mean loss for last 100 steps = 0.676\n",
      "1309: Done 132 episodes, last 100 means: reward=-0.836, steps=10.070, speed=1.00 steps/s, eps=0.20\n"
     ]
    },
    {
     "ename": "KeyboardInterrupt",
     "evalue": "",
     "output_type": "error",
     "traceback": [
      "\u001b[0;31m---------------------------------------------------------------------------\u001b[0m",
      "\u001b[0;31mKeyboardInterrupt\u001b[0m                         Traceback (most recent call last)",
      "\u001b[0;32m<ipython-input-81-aa7bc7c1a6b7>\u001b[0m in \u001b[0;36m<module>\u001b[0;34m\u001b[0m\n\u001b[1;32m      8\u001b[0m \u001b[0;32mwhile\u001b[0m \u001b[0;32mTrue\u001b[0m\u001b[0;34m:\u001b[0m\u001b[0;34m\u001b[0m\u001b[0;34m\u001b[0m\u001b[0m\n\u001b[1;32m      9\u001b[0m     \u001b[0msteps\u001b[0m \u001b[0;34m+=\u001b[0m \u001b[0;36m1\u001b[0m\u001b[0;34m\u001b[0m\u001b[0;34m\u001b[0m\u001b[0m\n\u001b[0;32m---> 10\u001b[0;31m     \u001b[0mbuffer\u001b[0m\u001b[0;34m.\u001b[0m\u001b[0mpopulate\u001b[0m\u001b[0;34m(\u001b[0m\u001b[0;36m1\u001b[0m\u001b[0;34m)\u001b[0m\u001b[0;34m\u001b[0m\u001b[0;34m\u001b[0m\u001b[0m\n\u001b[0m\u001b[1;32m     11\u001b[0m     \u001b[0mr\u001b[0m \u001b[0;34m=\u001b[0m \u001b[0mexp_source\u001b[0m\u001b[0;34m.\u001b[0m\u001b[0mpop_rewards_steps\u001b[0m\u001b[0;34m(\u001b[0m\u001b[0;34m)\u001b[0m\u001b[0;34m\u001b[0m\u001b[0;34m\u001b[0m\u001b[0m\n\u001b[1;32m     12\u001b[0m     \u001b[0;32mif\u001b[0m \u001b[0mr\u001b[0m\u001b[0;34m:\u001b[0m\u001b[0;34m\u001b[0m\u001b[0;34m\u001b[0m\u001b[0m\n",
      "\u001b[0;32m~/anaconda3/envs/miniwob/lib/python3.6/site-packages/ptan/experience.py\u001b[0m in \u001b[0;36mpopulate\u001b[0;34m(self, samples)\u001b[0m\n\u001b[1;32m    363\u001b[0m         \"\"\"\n\u001b[1;32m    364\u001b[0m         \u001b[0;32mfor\u001b[0m \u001b[0m_\u001b[0m \u001b[0;32min\u001b[0m \u001b[0mrange\u001b[0m\u001b[0;34m(\u001b[0m\u001b[0msamples\u001b[0m\u001b[0;34m)\u001b[0m\u001b[0;34m:\u001b[0m\u001b[0;34m\u001b[0m\u001b[0;34m\u001b[0m\u001b[0m\n\u001b[0;32m--> 365\u001b[0;31m             \u001b[0mentry\u001b[0m \u001b[0;34m=\u001b[0m \u001b[0mnext\u001b[0m\u001b[0;34m(\u001b[0m\u001b[0mself\u001b[0m\u001b[0;34m.\u001b[0m\u001b[0mexperience_source_iter\u001b[0m\u001b[0;34m)\u001b[0m\u001b[0;34m\u001b[0m\u001b[0;34m\u001b[0m\u001b[0m\n\u001b[0m\u001b[1;32m    366\u001b[0m             \u001b[0mself\u001b[0m\u001b[0;34m.\u001b[0m\u001b[0m_add\u001b[0m\u001b[0;34m(\u001b[0m\u001b[0mentry\u001b[0m\u001b[0;34m)\u001b[0m\u001b[0;34m\u001b[0m\u001b[0;34m\u001b[0m\u001b[0m\n\u001b[1;32m    367\u001b[0m \u001b[0;34m\u001b[0m\u001b[0m\n",
      "\u001b[0;32m~/anaconda3/envs/miniwob/lib/python3.6/site-packages/ptan/experience.py\u001b[0m in \u001b[0;36m__iter__\u001b[0;34m(self)\u001b[0m\n\u001b[1;32m    171\u001b[0m \u001b[0;34m\u001b[0m\u001b[0m\n\u001b[1;32m    172\u001b[0m     \u001b[0;32mdef\u001b[0m \u001b[0m__iter__\u001b[0m\u001b[0;34m(\u001b[0m\u001b[0mself\u001b[0m\u001b[0;34m)\u001b[0m\u001b[0;34m:\u001b[0m\u001b[0;34m\u001b[0m\u001b[0;34m\u001b[0m\u001b[0m\n\u001b[0;32m--> 173\u001b[0;31m         \u001b[0;32mfor\u001b[0m \u001b[0mexp\u001b[0m \u001b[0;32min\u001b[0m \u001b[0msuper\u001b[0m\u001b[0;34m(\u001b[0m\u001b[0mExperienceSourceFirstLast\u001b[0m\u001b[0;34m,\u001b[0m \u001b[0mself\u001b[0m\u001b[0;34m)\u001b[0m\u001b[0;34m.\u001b[0m\u001b[0m__iter__\u001b[0m\u001b[0;34m(\u001b[0m\u001b[0;34m)\u001b[0m\u001b[0;34m:\u001b[0m\u001b[0;34m\u001b[0m\u001b[0;34m\u001b[0m\u001b[0m\n\u001b[0m\u001b[1;32m    174\u001b[0m             \u001b[0;32mif\u001b[0m \u001b[0mexp\u001b[0m\u001b[0;34m[\u001b[0m\u001b[0;34m-\u001b[0m\u001b[0;36m1\u001b[0m\u001b[0;34m]\u001b[0m\u001b[0;34m.\u001b[0m\u001b[0mdone\u001b[0m \u001b[0;32mand\u001b[0m \u001b[0mlen\u001b[0m\u001b[0;34m(\u001b[0m\u001b[0mexp\u001b[0m\u001b[0;34m)\u001b[0m \u001b[0;34m<=\u001b[0m \u001b[0mself\u001b[0m\u001b[0;34m.\u001b[0m\u001b[0msteps\u001b[0m\u001b[0;34m:\u001b[0m\u001b[0;34m\u001b[0m\u001b[0;34m\u001b[0m\u001b[0m\n\u001b[1;32m    175\u001b[0m                 \u001b[0mlast_state\u001b[0m \u001b[0;34m=\u001b[0m \u001b[0;32mNone\u001b[0m\u001b[0;34m\u001b[0m\u001b[0;34m\u001b[0m\u001b[0m\n",
      "\u001b[0;32m~/anaconda3/envs/miniwob/lib/python3.6/site-packages/ptan/experience.py\u001b[0m in \u001b[0;36m__iter__\u001b[0;34m(self)\u001b[0m\n\u001b[1;32m     90\u001b[0m             \u001b[0;32mfor\u001b[0m \u001b[0menv_idx\u001b[0m\u001b[0;34m,\u001b[0m \u001b[0;34m(\u001b[0m\u001b[0menv\u001b[0m\u001b[0;34m,\u001b[0m \u001b[0maction_n\u001b[0m\u001b[0;34m)\u001b[0m \u001b[0;32min\u001b[0m \u001b[0menumerate\u001b[0m\u001b[0;34m(\u001b[0m\u001b[0mzip\u001b[0m\u001b[0;34m(\u001b[0m\u001b[0mself\u001b[0m\u001b[0;34m.\u001b[0m\u001b[0mpool\u001b[0m\u001b[0;34m,\u001b[0m \u001b[0mgrouped_actions\u001b[0m\u001b[0;34m)\u001b[0m\u001b[0;34m)\u001b[0m\u001b[0;34m:\u001b[0m\u001b[0;34m\u001b[0m\u001b[0;34m\u001b[0m\u001b[0m\n\u001b[1;32m     91\u001b[0m                 \u001b[0;32mif\u001b[0m \u001b[0mself\u001b[0m\u001b[0;34m.\u001b[0m\u001b[0mvectorized\u001b[0m\u001b[0;34m:\u001b[0m\u001b[0;34m\u001b[0m\u001b[0;34m\u001b[0m\u001b[0m\n\u001b[0;32m---> 92\u001b[0;31m                     \u001b[0mnext_state_n\u001b[0m\u001b[0;34m,\u001b[0m \u001b[0mr_n\u001b[0m\u001b[0;34m,\u001b[0m \u001b[0mis_done_n\u001b[0m\u001b[0;34m,\u001b[0m \u001b[0m_\u001b[0m \u001b[0;34m=\u001b[0m \u001b[0menv\u001b[0m\u001b[0;34m.\u001b[0m\u001b[0mstep\u001b[0m\u001b[0;34m(\u001b[0m\u001b[0maction_n\u001b[0m\u001b[0;34m)\u001b[0m\u001b[0;34m\u001b[0m\u001b[0;34m\u001b[0m\u001b[0m\n\u001b[0m\u001b[1;32m     93\u001b[0m                 \u001b[0;32melse\u001b[0m\u001b[0;34m:\u001b[0m\u001b[0;34m\u001b[0m\u001b[0;34m\u001b[0m\u001b[0m\n\u001b[1;32m     94\u001b[0m                     \u001b[0mnext_state\u001b[0m\u001b[0;34m,\u001b[0m \u001b[0mr\u001b[0m\u001b[0;34m,\u001b[0m \u001b[0mis_done\u001b[0m\u001b[0;34m,\u001b[0m \u001b[0m_\u001b[0m \u001b[0;34m=\u001b[0m \u001b[0menv\u001b[0m\u001b[0;34m.\u001b[0m\u001b[0mstep\u001b[0m\u001b[0;34m(\u001b[0m\u001b[0maction_n\u001b[0m\u001b[0;34m[\u001b[0m\u001b[0;36m0\u001b[0m\u001b[0;34m]\u001b[0m\u001b[0;34m)\u001b[0m\u001b[0;34m\u001b[0m\u001b[0;34m\u001b[0m\u001b[0m\n",
      "\u001b[0;32m~/anaconda3/envs/miniwob/lib/python3.6/site-packages/gym/core.py\u001b[0m in \u001b[0;36mstep\u001b[0;34m(self, action)\u001b[0m\n\u001b[1;32m    108\u001b[0m             \u001b[0minfo\u001b[0m \u001b[0;34m(\u001b[0m\u001b[0mdict\u001b[0m\u001b[0;34m)\u001b[0m\u001b[0;34m:\u001b[0m \u001b[0mcontains\u001b[0m \u001b[0mauxiliary\u001b[0m \u001b[0mdiagnostic\u001b[0m \u001b[0minformation\u001b[0m \u001b[0;34m(\u001b[0m\u001b[0mhelpful\u001b[0m \u001b[0;32mfor\u001b[0m \u001b[0mdebugging\u001b[0m\u001b[0;34m,\u001b[0m \u001b[0;32mand\u001b[0m \u001b[0msometimes\u001b[0m \u001b[0mlearning\u001b[0m\u001b[0;34m)\u001b[0m\u001b[0;34m\u001b[0m\u001b[0;34m\u001b[0m\u001b[0m\n\u001b[1;32m    109\u001b[0m         \"\"\"\n\u001b[0;32m--> 110\u001b[0;31m         \u001b[0mobservation\u001b[0m\u001b[0;34m,\u001b[0m \u001b[0mreward\u001b[0m\u001b[0;34m,\u001b[0m \u001b[0mdone\u001b[0m\u001b[0;34m,\u001b[0m \u001b[0minfo\u001b[0m \u001b[0;34m=\u001b[0m \u001b[0mself\u001b[0m\u001b[0;34m.\u001b[0m\u001b[0m_step\u001b[0m\u001b[0;34m(\u001b[0m\u001b[0maction\u001b[0m\u001b[0;34m)\u001b[0m\u001b[0;34m\u001b[0m\u001b[0;34m\u001b[0m\u001b[0m\n\u001b[0m\u001b[1;32m    111\u001b[0m         \u001b[0;32mreturn\u001b[0m \u001b[0mobservation\u001b[0m\u001b[0;34m,\u001b[0m \u001b[0mreward\u001b[0m\u001b[0;34m,\u001b[0m \u001b[0mdone\u001b[0m\u001b[0;34m,\u001b[0m \u001b[0minfo\u001b[0m\u001b[0;34m\u001b[0m\u001b[0;34m\u001b[0m\u001b[0m\n\u001b[1;32m    112\u001b[0m \u001b[0;34m\u001b[0m\u001b[0m\n",
      "\u001b[0;32m~/anaconda3/envs/miniwob/lib/python3.6/site-packages/gym/core.py\u001b[0m in \u001b[0;36m_step\u001b[0;34m(self, action)\u001b[0m\n\u001b[1;32m    400\u001b[0m     \u001b[0;32mdef\u001b[0m \u001b[0m_step\u001b[0m\u001b[0;34m(\u001b[0m\u001b[0mself\u001b[0m\u001b[0;34m,\u001b[0m \u001b[0maction\u001b[0m\u001b[0;34m)\u001b[0m\u001b[0;34m:\u001b[0m\u001b[0;34m\u001b[0m\u001b[0;34m\u001b[0m\u001b[0m\n\u001b[1;32m    401\u001b[0m         \u001b[0maction\u001b[0m \u001b[0;34m=\u001b[0m \u001b[0mself\u001b[0m\u001b[0;34m.\u001b[0m\u001b[0maction\u001b[0m\u001b[0;34m(\u001b[0m\u001b[0maction\u001b[0m\u001b[0;34m)\u001b[0m\u001b[0;34m\u001b[0m\u001b[0;34m\u001b[0m\u001b[0m\n\u001b[0;32m--> 402\u001b[0;31m         \u001b[0;32mreturn\u001b[0m \u001b[0mself\u001b[0m\u001b[0;34m.\u001b[0m\u001b[0menv\u001b[0m\u001b[0;34m.\u001b[0m\u001b[0mstep\u001b[0m\u001b[0;34m(\u001b[0m\u001b[0maction\u001b[0m\u001b[0;34m)\u001b[0m\u001b[0;34m\u001b[0m\u001b[0;34m\u001b[0m\u001b[0m\n\u001b[0m\u001b[1;32m    403\u001b[0m \u001b[0;34m\u001b[0m\u001b[0m\n\u001b[1;32m    404\u001b[0m     \u001b[0;32mdef\u001b[0m \u001b[0maction\u001b[0m\u001b[0;34m(\u001b[0m\u001b[0mself\u001b[0m\u001b[0;34m,\u001b[0m \u001b[0maction\u001b[0m\u001b[0;34m)\u001b[0m\u001b[0;34m:\u001b[0m\u001b[0;34m\u001b[0m\u001b[0;34m\u001b[0m\u001b[0m\n",
      "\u001b[0;32m~/anaconda3/envs/miniwob/lib/python3.6/site-packages/gym/core.py\u001b[0m in \u001b[0;36mstep\u001b[0;34m(self, action)\u001b[0m\n\u001b[1;32m    108\u001b[0m             \u001b[0minfo\u001b[0m \u001b[0;34m(\u001b[0m\u001b[0mdict\u001b[0m\u001b[0;34m)\u001b[0m\u001b[0;34m:\u001b[0m \u001b[0mcontains\u001b[0m \u001b[0mauxiliary\u001b[0m \u001b[0mdiagnostic\u001b[0m \u001b[0minformation\u001b[0m \u001b[0;34m(\u001b[0m\u001b[0mhelpful\u001b[0m \u001b[0;32mfor\u001b[0m \u001b[0mdebugging\u001b[0m\u001b[0;34m,\u001b[0m \u001b[0;32mand\u001b[0m \u001b[0msometimes\u001b[0m \u001b[0mlearning\u001b[0m\u001b[0;34m)\u001b[0m\u001b[0;34m\u001b[0m\u001b[0;34m\u001b[0m\u001b[0m\n\u001b[1;32m    109\u001b[0m         \"\"\"\n\u001b[0;32m--> 110\u001b[0;31m         \u001b[0mobservation\u001b[0m\u001b[0;34m,\u001b[0m \u001b[0mreward\u001b[0m\u001b[0;34m,\u001b[0m \u001b[0mdone\u001b[0m\u001b[0;34m,\u001b[0m \u001b[0minfo\u001b[0m \u001b[0;34m=\u001b[0m \u001b[0mself\u001b[0m\u001b[0;34m.\u001b[0m\u001b[0m_step\u001b[0m\u001b[0;34m(\u001b[0m\u001b[0maction\u001b[0m\u001b[0;34m)\u001b[0m\u001b[0;34m\u001b[0m\u001b[0;34m\u001b[0m\u001b[0m\n\u001b[0m\u001b[1;32m    111\u001b[0m         \u001b[0;32mreturn\u001b[0m \u001b[0mobservation\u001b[0m\u001b[0;34m,\u001b[0m \u001b[0mreward\u001b[0m\u001b[0;34m,\u001b[0m \u001b[0mdone\u001b[0m\u001b[0;34m,\u001b[0m \u001b[0minfo\u001b[0m\u001b[0;34m\u001b[0m\u001b[0;34m\u001b[0m\u001b[0m\n\u001b[1;32m    112\u001b[0m \u001b[0;34m\u001b[0m\u001b[0m\n",
      "\u001b[0;32m~/anaconda3/envs/miniwob/lib/python3.6/site-packages/gym/core.py\u001b[0m in \u001b[0;36m_step\u001b[0;34m(self, action)\u001b[0m\n\u001b[1;32m    377\u001b[0m \u001b[0;34m\u001b[0m\u001b[0m\n\u001b[1;32m    378\u001b[0m     \u001b[0;32mdef\u001b[0m \u001b[0m_step\u001b[0m\u001b[0;34m(\u001b[0m\u001b[0mself\u001b[0m\u001b[0;34m,\u001b[0m \u001b[0maction\u001b[0m\u001b[0;34m)\u001b[0m\u001b[0;34m:\u001b[0m\u001b[0;34m\u001b[0m\u001b[0;34m\u001b[0m\u001b[0m\n\u001b[0;32m--> 379\u001b[0;31m         \u001b[0mobservation\u001b[0m\u001b[0;34m,\u001b[0m \u001b[0mreward\u001b[0m\u001b[0;34m,\u001b[0m \u001b[0mdone\u001b[0m\u001b[0;34m,\u001b[0m \u001b[0minfo\u001b[0m \u001b[0;34m=\u001b[0m \u001b[0mself\u001b[0m\u001b[0;34m.\u001b[0m\u001b[0menv\u001b[0m\u001b[0;34m.\u001b[0m\u001b[0mstep\u001b[0m\u001b[0;34m(\u001b[0m\u001b[0maction\u001b[0m\u001b[0;34m)\u001b[0m\u001b[0;34m\u001b[0m\u001b[0;34m\u001b[0m\u001b[0m\n\u001b[0m\u001b[1;32m    380\u001b[0m         \u001b[0;32mreturn\u001b[0m \u001b[0mself\u001b[0m\u001b[0;34m.\u001b[0m\u001b[0mobservation\u001b[0m\u001b[0;34m(\u001b[0m\u001b[0mobservation\u001b[0m\u001b[0;34m)\u001b[0m\u001b[0;34m,\u001b[0m \u001b[0mreward\u001b[0m\u001b[0;34m,\u001b[0m \u001b[0mdone\u001b[0m\u001b[0;34m,\u001b[0m \u001b[0minfo\u001b[0m\u001b[0;34m\u001b[0m\u001b[0;34m\u001b[0m\u001b[0m\n\u001b[1;32m    381\u001b[0m \u001b[0;34m\u001b[0m\u001b[0m\n",
      "\u001b[0;32m~/anaconda3/envs/miniwob/lib/python3.6/site-packages/gym/core.py\u001b[0m in \u001b[0;36mstep\u001b[0;34m(self, action)\u001b[0m\n\u001b[1;32m    108\u001b[0m             \u001b[0minfo\u001b[0m \u001b[0;34m(\u001b[0m\u001b[0mdict\u001b[0m\u001b[0;34m)\u001b[0m\u001b[0;34m:\u001b[0m \u001b[0mcontains\u001b[0m \u001b[0mauxiliary\u001b[0m \u001b[0mdiagnostic\u001b[0m \u001b[0minformation\u001b[0m \u001b[0;34m(\u001b[0m\u001b[0mhelpful\u001b[0m \u001b[0;32mfor\u001b[0m \u001b[0mdebugging\u001b[0m\u001b[0;34m,\u001b[0m \u001b[0;32mand\u001b[0m \u001b[0msometimes\u001b[0m \u001b[0mlearning\u001b[0m\u001b[0;34m)\u001b[0m\u001b[0;34m\u001b[0m\u001b[0;34m\u001b[0m\u001b[0m\n\u001b[1;32m    109\u001b[0m         \"\"\"\n\u001b[0;32m--> 110\u001b[0;31m         \u001b[0mobservation\u001b[0m\u001b[0;34m,\u001b[0m \u001b[0mreward\u001b[0m\u001b[0;34m,\u001b[0m \u001b[0mdone\u001b[0m\u001b[0;34m,\u001b[0m \u001b[0minfo\u001b[0m \u001b[0;34m=\u001b[0m \u001b[0mself\u001b[0m\u001b[0;34m.\u001b[0m\u001b[0m_step\u001b[0m\u001b[0;34m(\u001b[0m\u001b[0maction\u001b[0m\u001b[0;34m)\u001b[0m\u001b[0;34m\u001b[0m\u001b[0;34m\u001b[0m\u001b[0m\n\u001b[0m\u001b[1;32m    111\u001b[0m         \u001b[0;32mreturn\u001b[0m \u001b[0mobservation\u001b[0m\u001b[0;34m,\u001b[0m \u001b[0mreward\u001b[0m\u001b[0;34m,\u001b[0m \u001b[0mdone\u001b[0m\u001b[0;34m,\u001b[0m \u001b[0minfo\u001b[0m\u001b[0;34m\u001b[0m\u001b[0;34m\u001b[0m\u001b[0m\n\u001b[1;32m    112\u001b[0m \u001b[0;34m\u001b[0m\u001b[0m\n",
      "\u001b[0;32m~/anaconda3/envs/miniwob/lib/python3.6/site-packages/universe/wrappers/timer.py\u001b[0m in \u001b[0;36m_step\u001b[0;34m(self, action_n)\u001b[0m\n\u001b[1;32m     18\u001b[0m         \u001b[0mstart\u001b[0m \u001b[0;34m=\u001b[0m \u001b[0mtime\u001b[0m\u001b[0;34m.\u001b[0m\u001b[0mtime\u001b[0m\u001b[0;34m(\u001b[0m\u001b[0;34m)\u001b[0m\u001b[0;34m\u001b[0m\u001b[0;34m\u001b[0m\u001b[0m\n\u001b[1;32m     19\u001b[0m         \u001b[0;32mwith\u001b[0m \u001b[0mpyprofile\u001b[0m\u001b[0;34m.\u001b[0m\u001b[0mpush\u001b[0m\u001b[0;34m(\u001b[0m\u001b[0;34m'vnc_env.Timer.step'\u001b[0m\u001b[0;34m)\u001b[0m\u001b[0;34m:\u001b[0m\u001b[0;34m\u001b[0m\u001b[0;34m\u001b[0m\u001b[0m\n\u001b[0;32m---> 20\u001b[0;31m             \u001b[0mobservation_n\u001b[0m\u001b[0;34m,\u001b[0m \u001b[0mreward_n\u001b[0m\u001b[0;34m,\u001b[0m \u001b[0mdone_n\u001b[0m\u001b[0;34m,\u001b[0m \u001b[0minfo\u001b[0m \u001b[0;34m=\u001b[0m \u001b[0mself\u001b[0m\u001b[0;34m.\u001b[0m\u001b[0menv\u001b[0m\u001b[0;34m.\u001b[0m\u001b[0mstep\u001b[0m\u001b[0;34m(\u001b[0m\u001b[0maction_n\u001b[0m\u001b[0;34m)\u001b[0m\u001b[0;34m\u001b[0m\u001b[0;34m\u001b[0m\u001b[0m\n\u001b[0m\u001b[1;32m     21\u001b[0m \u001b[0;34m\u001b[0m\u001b[0m\n\u001b[1;32m     22\u001b[0m         \u001b[0;31m# Calculate how much time was spent actually doing work\u001b[0m\u001b[0;34m\u001b[0m\u001b[0;34m\u001b[0m\u001b[0;34m\u001b[0m\u001b[0m\n",
      "\u001b[0;32m~/anaconda3/envs/miniwob/lib/python3.6/site-packages/gym/core.py\u001b[0m in \u001b[0;36mstep\u001b[0;34m(self, action)\u001b[0m\n\u001b[1;32m    108\u001b[0m             \u001b[0minfo\u001b[0m \u001b[0;34m(\u001b[0m\u001b[0mdict\u001b[0m\u001b[0;34m)\u001b[0m\u001b[0;34m:\u001b[0m \u001b[0mcontains\u001b[0m \u001b[0mauxiliary\u001b[0m \u001b[0mdiagnostic\u001b[0m \u001b[0minformation\u001b[0m \u001b[0;34m(\u001b[0m\u001b[0mhelpful\u001b[0m \u001b[0;32mfor\u001b[0m \u001b[0mdebugging\u001b[0m\u001b[0;34m,\u001b[0m \u001b[0;32mand\u001b[0m \u001b[0msometimes\u001b[0m \u001b[0mlearning\u001b[0m\u001b[0;34m)\u001b[0m\u001b[0;34m\u001b[0m\u001b[0;34m\u001b[0m\u001b[0m\n\u001b[1;32m    109\u001b[0m         \"\"\"\n\u001b[0;32m--> 110\u001b[0;31m         \u001b[0mobservation\u001b[0m\u001b[0;34m,\u001b[0m \u001b[0mreward\u001b[0m\u001b[0;34m,\u001b[0m \u001b[0mdone\u001b[0m\u001b[0;34m,\u001b[0m \u001b[0minfo\u001b[0m \u001b[0;34m=\u001b[0m \u001b[0mself\u001b[0m\u001b[0;34m.\u001b[0m\u001b[0m_step\u001b[0m\u001b[0;34m(\u001b[0m\u001b[0maction\u001b[0m\u001b[0;34m)\u001b[0m\u001b[0;34m\u001b[0m\u001b[0;34m\u001b[0m\u001b[0m\n\u001b[0m\u001b[1;32m    111\u001b[0m         \u001b[0;32mreturn\u001b[0m \u001b[0mobservation\u001b[0m\u001b[0;34m,\u001b[0m \u001b[0mreward\u001b[0m\u001b[0;34m,\u001b[0m \u001b[0mdone\u001b[0m\u001b[0;34m,\u001b[0m \u001b[0minfo\u001b[0m\u001b[0;34m\u001b[0m\u001b[0;34m\u001b[0m\u001b[0m\n\u001b[1;32m    112\u001b[0m \u001b[0;34m\u001b[0m\u001b[0m\n",
      "\u001b[0;32m~/anaconda3/envs/miniwob/lib/python3.6/site-packages/universe/wrappers/render.py\u001b[0m in \u001b[0;36m_step\u001b[0;34m(self, action_n)\u001b[0m\n\u001b[1;32m     28\u001b[0m \u001b[0;34m\u001b[0m\u001b[0m\n\u001b[1;32m     29\u001b[0m     \u001b[0;32mdef\u001b[0m \u001b[0m_step\u001b[0m\u001b[0;34m(\u001b[0m\u001b[0mself\u001b[0m\u001b[0;34m,\u001b[0m \u001b[0maction_n\u001b[0m\u001b[0;34m)\u001b[0m\u001b[0;34m:\u001b[0m\u001b[0;34m\u001b[0m\u001b[0;34m\u001b[0m\u001b[0m\n\u001b[0;32m---> 30\u001b[0;31m         \u001b[0mobservation_n\u001b[0m\u001b[0;34m,\u001b[0m \u001b[0mreward_n\u001b[0m\u001b[0;34m,\u001b[0m \u001b[0mdone_n\u001b[0m\u001b[0;34m,\u001b[0m \u001b[0minfo_n\u001b[0m \u001b[0;34m=\u001b[0m \u001b[0mself\u001b[0m\u001b[0;34m.\u001b[0m\u001b[0menv\u001b[0m\u001b[0;34m.\u001b[0m\u001b[0mstep\u001b[0m\u001b[0;34m(\u001b[0m\u001b[0maction_n\u001b[0m\u001b[0;34m)\u001b[0m\u001b[0;34m\u001b[0m\u001b[0;34m\u001b[0m\u001b[0m\n\u001b[0m\u001b[1;32m     31\u001b[0m         \u001b[0mself\u001b[0m\u001b[0;34m.\u001b[0m\u001b[0m_observation\u001b[0m \u001b[0;34m=\u001b[0m \u001b[0mobservation_n\u001b[0m\u001b[0;34m[\u001b[0m\u001b[0;36m0\u001b[0m\u001b[0;34m]\u001b[0m\u001b[0;34m\u001b[0m\u001b[0;34m\u001b[0m\u001b[0m\n\u001b[1;32m     32\u001b[0m         \u001b[0;32mreturn\u001b[0m \u001b[0mobservation_n\u001b[0m\u001b[0;34m,\u001b[0m \u001b[0mreward_n\u001b[0m\u001b[0;34m,\u001b[0m \u001b[0mdone_n\u001b[0m\u001b[0;34m,\u001b[0m \u001b[0minfo_n\u001b[0m\u001b[0;34m\u001b[0m\u001b[0;34m\u001b[0m\u001b[0m\n",
      "\u001b[0;32m~/anaconda3/envs/miniwob/lib/python3.6/site-packages/gym/core.py\u001b[0m in \u001b[0;36mstep\u001b[0;34m(self, action)\u001b[0m\n\u001b[1;32m    108\u001b[0m             \u001b[0minfo\u001b[0m \u001b[0;34m(\u001b[0m\u001b[0mdict\u001b[0m\u001b[0;34m)\u001b[0m\u001b[0;34m:\u001b[0m \u001b[0mcontains\u001b[0m \u001b[0mauxiliary\u001b[0m \u001b[0mdiagnostic\u001b[0m \u001b[0minformation\u001b[0m \u001b[0;34m(\u001b[0m\u001b[0mhelpful\u001b[0m \u001b[0;32mfor\u001b[0m \u001b[0mdebugging\u001b[0m\u001b[0;34m,\u001b[0m \u001b[0;32mand\u001b[0m \u001b[0msometimes\u001b[0m \u001b[0mlearning\u001b[0m\u001b[0;34m)\u001b[0m\u001b[0;34m\u001b[0m\u001b[0;34m\u001b[0m\u001b[0m\n\u001b[1;32m    109\u001b[0m         \"\"\"\n\u001b[0;32m--> 110\u001b[0;31m         \u001b[0mobservation\u001b[0m\u001b[0;34m,\u001b[0m \u001b[0mreward\u001b[0m\u001b[0;34m,\u001b[0m \u001b[0mdone\u001b[0m\u001b[0;34m,\u001b[0m \u001b[0minfo\u001b[0m \u001b[0;34m=\u001b[0m \u001b[0mself\u001b[0m\u001b[0;34m.\u001b[0m\u001b[0m_step\u001b[0m\u001b[0;34m(\u001b[0m\u001b[0maction\u001b[0m\u001b[0;34m)\u001b[0m\u001b[0;34m\u001b[0m\u001b[0;34m\u001b[0m\u001b[0m\n\u001b[0m\u001b[1;32m    111\u001b[0m         \u001b[0;32mreturn\u001b[0m \u001b[0mobservation\u001b[0m\u001b[0;34m,\u001b[0m \u001b[0mreward\u001b[0m\u001b[0;34m,\u001b[0m \u001b[0mdone\u001b[0m\u001b[0;34m,\u001b[0m \u001b[0minfo\u001b[0m\u001b[0;34m\u001b[0m\u001b[0;34m\u001b[0m\u001b[0m\n\u001b[1;32m    112\u001b[0m \u001b[0;34m\u001b[0m\u001b[0m\n",
      "\u001b[0;32m~/anaconda3/envs/miniwob/lib/python3.6/site-packages/universe/wrappers/throttle.py\u001b[0m in \u001b[0;36m_step\u001b[0;34m(self, action_n)\u001b[0m\n\u001b[1;32m    101\u001b[0m                 \u001b[0mpyprofile\u001b[0m\u001b[0;34m.\u001b[0m\u001b[0mtiming\u001b[0m\u001b[0;34m(\u001b[0m\u001b[0;34m'vnc_env.Throttle.sleep'\u001b[0m\u001b[0;34m,\u001b[0m \u001b[0mdelta\u001b[0m\u001b[0;34m)\u001b[0m\u001b[0;34m\u001b[0m\u001b[0;34m\u001b[0m\u001b[0m\n\u001b[1;32m    102\u001b[0m                 \u001b[0maccum_info\u001b[0m\u001b[0;34m[\u001b[0m\u001b[0;34m'stats.throttle.sleep'\u001b[0m\u001b[0;34m]\u001b[0m \u001b[0;34m+=\u001b[0m \u001b[0mdelta\u001b[0m\u001b[0;34m\u001b[0m\u001b[0;34m\u001b[0m\u001b[0m\n\u001b[0;32m--> 103\u001b[0;31m                 \u001b[0mtime\u001b[0m\u001b[0;34m.\u001b[0m\u001b[0msleep\u001b[0m\u001b[0;34m(\u001b[0m\u001b[0mdelta\u001b[0m\u001b[0;34m)\u001b[0m\u001b[0;34m\u001b[0m\u001b[0;34m\u001b[0m\u001b[0m\n\u001b[0m\u001b[1;32m    104\u001b[0m \u001b[0;34m\u001b[0m\u001b[0m\n\u001b[1;32m    105\u001b[0m                 \u001b[0;31m# We want to merge in the latest reward/done/info so that our\u001b[0m\u001b[0;34m\u001b[0m\u001b[0;34m\u001b[0m\u001b[0;34m\u001b[0m\u001b[0m\n",
      "\u001b[0;31mKeyboardInterrupt\u001b[0m: "
     ]
    }
   ],
   "source": [
    "episode_rewards = []\n",
    "episode_steps = []\n",
    "losses = []\n",
    "steps = 0\n",
    "last_ts = time.time()\n",
    "last_steps = 0\n",
    "\n",
    "while True:\n",
    "    steps += 1\n",
    "    buffer.populate(1)\n",
    "    r = exp_source.pop_rewards_steps()\n",
    "    if r:\n",
    "        for rw, st in r:\n",
    "            episode_rewards.append(rw)\n",
    "            episode_steps.append(st)\n",
    "        speed = (steps - last_steps) / (time.time() - last_ts)\n",
    "        print(\"%d: Done %d episodes, last 100 means: reward=%.3f, steps=%.3f, speed=%.2f steps/s, eps=%.2f\" % (\n",
    "            steps, len(episode_rewards), np.mean(episode_rewards[-100:]), \n",
    "            np.mean(episode_steps[-100:]), speed, action_selector.epsilon\n",
    "        ))\n",
    "        last_ts = time.time()\n",
    "        last_steps = steps\n",
    "        if np.mean(episode_rewards[-100:]) > 0.9:\n",
    "            print(\"You solved the env! Congrats!\")\n",
    "            break\n",
    "    if len(buffer) < MIN_REPLAY:\n",
    "        continue\n",
    "    batch = buffer.sample(BATCH_SIZE)\n",
    "    state_v, actions_v, ref_q_v = unpack_batch(batch, tgt_net.target_model, gamma=GAMMA, device=DEVICE)\n",
    "    optimizer.zero_grad()\n",
    "    q_v = net(state_v)\n",
    "    q_v = q_v.gather(1, actions_v.unsqueeze(-1)).squeeze(-1)\n",
    "    loss_v = F.mse_loss(q_v, ref_q_v)\n",
    "    loss_v.backward()\n",
    "    optimizer.step()\n",
    "    losses.append(loss_v.item())\n",
    "    \n",
    "    if steps % TGT_SYNC == 0:\n",
    "        print(\"%d: nets synced, mean loss for last 100 steps = %.3f\" % (\n",
    "            steps, np.mean(losses[-100:])))\n",
    "        tgt_net.sync()\n",
    "    action_selector.epsilon = max(FINAL_EPSILON, INITIAL_EPSILON - steps / STEPS_EPSILON)"
   ]
  },
  {
   "cell_type": "markdown",
   "metadata": {},
   "source": [
    "# Troubleshooting of Baseline DQN\n",
    "\n",
    "> \"You love Linux, probably you're experienced in troubleshooting...\"\n",
    "> RHCE Exam Instructor @ 2005\n",
    "\n",
    "Code above doesn't converge. Usually, in such situations, tutorial author tweaks the parameters to make it working, so, attendants see only final, polished version. This makes the false impression of ML as smooth and quite obvious process, which very far from truth. Don't know about others, but my code doesn't work 90% of the time :).\n",
    "\n",
    "To learn how to deal with such situations, you're asked to troubleshoot the code above. There are several directions you could explore (of course, you can have your own ideas, that's not the complete list):\n",
    "\n",
    "* check training samples. Do they make sense? Is reward properly assigned to correct observations? Rememer, MiniWoB could have bugs\n",
    "* training gradients. How large they are? What's the ratio of gradients/weight values?\n",
    "* do end-of-episode steps handled properly? Final steps of epsiodes act as an anchor to prevent Q values from growing infinitely, so, it is critical to have them properly handled in Bellman equation\n",
    "* explore Q values produced by the network during the training. Are they growing over time? That's a good practice to have small set of states (including final step and steps before the final) and track their Qs during the training.\n",
    "* how large the difference between trained network and target net used for next-step Bellman approximation? How it changes over time?\n",
    "\n",
    "Full check might take a day, especially if you haven't done it before. In separate notebook (01_miniwob_baseline_debug) you will be shown how to do those checks in this environment, but you should try implement them yourself."
   ]
  },
  {
   "cell_type": "markdown",
   "metadata": {},
   "source": [
    "## Training samples check\n",
    "\n",
    "Here we're going to eyeball our training samples. OpenAI Universe is asynchronous, so, if we're missing a frame or have delays to handle input data, we can get weird training samples.\n",
    "\n",
    "To do this, we implement small `Env` wrapper applied after `MiniWoBCropper` to keep history of training sequences."
   ]
  },
  {
   "cell_type": "code",
   "execution_count": 53,
   "metadata": {},
   "outputs": [],
   "source": [
    "import collections\n",
    "from PIL import Image, ImageDraw\n",
    "import matplotlib.pylab as plt\n",
    "\n",
    "%matplotlib inline"
   ]
  },
  {
   "cell_type": "code",
   "execution_count": 13,
   "metadata": {},
   "outputs": [],
   "source": [
    "class TrajectoryTracking(vectorized.Wrapper):\n",
    "    \"\"\"\n",
    "    Keeps last N trajectories from the environment\n",
    "    \"\"\"\n",
    "    def __init__(self, env, size: int):\n",
    "        super(TrajectoryTracking, self).__init__(env)\n",
    "        self.trajectories = collections.deque(maxlen=size)\n",
    "        self._in_progress = []\n",
    "\n",
    "    def reset(self):\n",
    "        obs_n = self.env.reset()\n",
    "        if not self._in_progress:\n",
    "            self._in_progress = [[] for _ in obs_n]\n",
    "        for t, obs in zip(self._in_progress, obs_n):\n",
    "            if t:\n",
    "                self.trajectories.append(list(t))\n",
    "                t.clear()\n",
    "            t.append(obs)\n",
    "        return obs_n\n",
    "    \n",
    "    def step(self, action_n):\n",
    "        obs_n, r_n, done_n, info_n = self.env.step(action_n)\n",
    "        for t, obs, r, act in zip(self._in_progress, obs_n, r_n, action_n):\n",
    "            t.append((obs, act, r))\n",
    "        for t, done in zip(self._in_progress, done_n):\n",
    "            if done:\n",
    "                self.trajectories.append(list(t))\n",
    "                t.clear()\n",
    "        return obs_n, r_n, done_n, info_n"
   ]
  },
  {
   "cell_type": "markdown",
   "metadata": {},
   "source": [
    "Let's apply it to our training to get trajectories to check"
   ]
  },
  {
   "cell_type": "code",
   "execution_count": 14,
   "metadata": {},
   "outputs": [
    {
     "name": "stderr",
     "output_type": "stream",
     "text": [
      "[2019-06-29 13:06:28,484] Making new env: wob.mini.ClickDialog-v0\n",
      "/home/shmuma/anaconda3/envs/miniwob/lib/python3.6/site-packages/gym/envs/registration.py:17: PkgResourcesDeprecationWarning: Parameters to load are deprecated.  Call .resolve and .require separately.\n",
      "  result = entry_point.load(False)\n",
      "[2019-06-29 13:06:28,487] Using SoftmaxClickMouse with action_region=(10, 125, 170, 285), noclick_regions=[]\n",
      "[2019-06-29 13:06:28,488] SoftmaxClickMouse noclick regions removed 0 of 256 actions\n",
      "[2019-06-29 13:06:28,488] Using the golang VNC implementation\n",
      "[2019-06-29 13:06:28,489] Using VNCSession arguments: {'encoding': 'tight', 'compress_level': 0, 'fine_quality_level': 100, 'subsample_level': 0, 'start_timeout': 7}. (Customize by running \"env.configure(vnc_kwargs={...})\"\n",
      "[2019-06-29 13:06:28,506] [0] Connecting to environment: vnc://localhost:5900 password=openai. If desired, you can manually connect a VNC viewer, such as TurboVNC. Most environments provide a convenient in-browser VNC client: http://localhost:15900/viewer/?password=openai\n",
      "[2019-06-29 13:06:44,843] [0:localhost:5900] Sending reset for env_id=wob.mini.ClickDialog-v0 fps=60 episode_id=0\n",
      "[2019-06-29 13:06:44,889] [0:localhost:5900] Initial reset complete: episode_id=6078\n"
     ]
    }
   ],
   "source": [
    "env = gym.make(\"wob.mini.ClickDialog-v0\")\n",
    "env = MiniWoBCropper(env)\n",
    "env = SoftmaxClickMouse(env)\n",
    "env = TrajectoryTracking(env, size=10)\n",
    "url = remotes_url(count=1)\n",
    "\n",
    "env.configure(remotes=url, docker_image=DOCKER_IMAGE, fps=1, vnc_kwargs={\n",
    "        'encoding': 'tight', 'compress_level': 0,\n",
    "        'fine_quality_level': 100, 'subsample_level': 0\n",
    "    })\n",
    "obs = env.reset()"
   ]
  },
  {
   "cell_type": "code",
   "execution_count": 15,
   "metadata": {},
   "outputs": [
    {
     "name": "stderr",
     "output_type": "stream",
     "text": [
      "[2019-06-29 13:06:46,438] Throttle fell behind by 16.93s; lost 16.93 frames\n"
     ]
    }
   ],
   "source": [
    "while obs[0] is None:\n",
    "    a = env.action_space.sample()\n",
    "    obs, reward, is_done, info = env.step([a])\n",
    "    time.sleep(1)"
   ]
  },
  {
   "cell_type": "code",
   "execution_count": 18,
   "metadata": {},
   "outputs": [],
   "source": [
    "net = Model(env.observation_space.shape, env.action_space.n).to(DEVICE)\n",
    "\n",
    "parent_selector = ptan.actions.ArgmaxActionSelector()\n",
    "action_selector = ptan.actions.EpsilonGreedyActionSelector(epsilon=1, selector=parent_selector) \n",
    "agent = ptan.agent.DQNAgent(net, action_selector, device=DEVICE)\n",
    "exp_source = ptan.experience.ExperienceSourceFirstLast(env, agent, gamma=1.0, vectorized=True)\n",
    "\n",
    "buffer = ptan.experience.ExperienceReplayBuffer(exp_source, REPLAY_SIZE)"
   ]
  },
  {
   "cell_type": "code",
   "execution_count": 19,
   "metadata": {},
   "outputs": [
    {
     "name": "stderr",
     "output_type": "stream",
     "text": [
      "[2019-06-29 13:10:05,696] [0:localhost:5900] Sending reset for env_id=wob.mini.ClickDialog-v0 fps=60 episode_id=0\n"
     ]
    },
    {
     "name": "stdout",
     "output_type": "stream",
     "text": [
      "Episode done with 12 steps and -1.000 reward\n",
      "Episode done with 5 steps and 0.643 reward\n",
      "Episode done with 8 steps and 0.000 reward\n",
      "Episode done with 8 steps and 0.501 reward\n",
      "Episode done with 10 steps and -1.000 reward\n",
      "Episode done with 11 steps and -1.000 reward\n",
      "Episode done with 10 steps and -1.000 reward\n",
      "Episode done with 11 steps and -1.000 reward\n",
      "Episode done with 10 steps and -1.000 reward\n",
      "Episode done with 7 steps and 0.403 reward\n"
     ]
    }
   ],
   "source": [
    "# populate buffer to get some trajectories\n",
    "for _ in range(100):\n",
    "    buffer.populate(1)\n",
    "    for rw, st in exp_source.pop_rewards_steps():\n",
    "        print(\"Episode done with %d steps and %.3f reward\" % (st, rw))"
   ]
  },
  {
   "cell_type": "code",
   "execution_count": 22,
   "metadata": {},
   "outputs": [
    {
     "data": {
      "text/plain": [
       "10"
      ]
     },
     "execution_count": 22,
     "metadata": {},
     "output_type": "execute_result"
    }
   ],
   "source": [
    "len(env.trajectories)"
   ]
  },
  {
   "cell_type": "code",
   "execution_count": 25,
   "metadata": {},
   "outputs": [
    {
     "data": {
      "text/plain": [
       "[5, 8, 8, 10, 11, 10, 11, 10, 7, 10]"
      ]
     },
     "execution_count": 25,
     "metadata": {},
     "output_type": "execute_result"
    }
   ],
   "source": [
    "list(map(len, env.trajectories))"
   ]
  },
  {
   "cell_type": "code",
   "execution_count": 27,
   "metadata": {},
   "outputs": [],
   "source": [
    "# you might want to select different trajectory to check, I've chosen not very long one with positive reward\n",
    "tr = env.trajectories[0]"
   ]
  },
  {
   "cell_type": "code",
   "execution_count": 30,
   "metadata": {},
   "outputs": [],
   "source": [
    "tr_obs, tr_act, tr_rw = zip(*tr)"
   ]
  },
  {
   "cell_type": "code",
   "execution_count": 31,
   "metadata": {},
   "outputs": [
    {
     "data": {
      "text/plain": [
       "(192, 4, 126, 133, 12)"
      ]
     },
     "execution_count": 31,
     "metadata": {},
     "output_type": "execute_result"
    }
   ],
   "source": [
    "tr_act"
   ]
  },
  {
   "cell_type": "code",
   "execution_count": 32,
   "metadata": {},
   "outputs": [
    {
     "data": {
      "text/plain": [
       "(0.0, 0.0, 0.0, 0.0, 0.6432)"
      ]
     },
     "execution_count": 32,
     "metadata": {},
     "output_type": "execute_result"
    }
   ],
   "source": [
    "tr_rw"
   ]
  },
  {
   "cell_type": "code",
   "execution_count": 42,
   "metadata": {},
   "outputs": [],
   "source": [
    "def get_obs_img(obs, action=None, action_step_pix=10, action_y_ofs=50, transpose=True):\n",
    "    \"\"\"\n",
    "    Get the image from observation with optional action place shown\n",
    "    \"\"\"\n",
    "    if transpose:\n",
    "        obs = np.transpose(obs, (1, 2, 0))\n",
    "    img = Image.fromarray(obs)\n",
    "    if action is not None:\n",
    "        draw = ImageDraw.Draw(img)\n",
    "        if isinstance(action, tuple):\n",
    "            x_ofs, y_ofs = action\n",
    "            x_ofs -= X_OFS\n",
    "            y_ofs -= Y_OFS\n",
    "        else:\n",
    "            y_ofs = action_y_ofs + (action % 16) * action_step_pix\n",
    "            x_ofs = (action // 16) * action_step_pix\n",
    "        half_step = action_step_pix//2\n",
    "        draw.ellipse((x_ofs-half_step, y_ofs-half_step, x_ofs+half_step, y_ofs+half_step),\n",
    "                     (0, 0, 255, 128))\n",
    "    return img"
   ]
  },
  {
   "cell_type": "code",
   "execution_count": 46,
   "metadata": {},
   "outputs": [],
   "source": [
    "imgs = [get_obs_img(obs, action=act) for obs, act in zip(tr_obs, tr_act)]"
   ]
  },
  {
   "cell_type": "code",
   "execution_count": 59,
   "metadata": {},
   "outputs": [
    {
     "data": {
      "image/png": "[encoded data removed]",
      "text/plain": [
       "<Figure size 1080x1080 with 5 Axes>"
      ]
     },
     "metadata": {
      "needs_background": "light"
     },
     "output_type": "display_data"
    }
   ],
   "source": [
    "fig = plt.figure(figsize=(15, 15))\n",
    "\n",
    "for i, img in enumerate(imgs, start=1):\n",
    "    fig.add_subplot(1, len(imgs), i)\n",
    "    plt.imshow(img)\n",
    "plt.show()"
   ]
  },
  {
   "cell_type": "markdown",
   "metadata": {},
   "source": [
    "Hm, that doesn't look OK. We've clicked on the wrong places and still got positive reward, let's check another trajectories"
   ]
  },
  {
   "cell_type": "markdown",
   "metadata": {},
   "source": [
    "# Do not forget to stop container"
   ]
  },
  {
   "cell_type": "code",
   "execution_count": 94,
   "metadata": {},
   "outputs": [],
   "source": [
    "env.close()"
   ]
  },
  {
   "cell_type": "code",
   "execution_count": 95,
   "metadata": {},
   "outputs": [
    {
     "name": "stdout",
     "output_type": "stream",
     "text": [
      "0402f763515b\r\n"
     ]
    }
   ],
   "source": [
    "!./containers_stop.sh"
   ]
  },
  {
   "cell_type": "code",
   "execution_count": null,
   "metadata": {},
   "outputs": [],
   "source": []
  }
 ],
 "metadata": {
  "kernelspec": {
   "display_name": "Python 3",
   "language": "python",
   "name": "python3"
  },
  "language_info": {
   "codemirror_mode": {
    "name": "ipython",
    "version": 3
   },
   "file_extension": ".py",
   "mimetype": "text/x-python",
   "name": "python",
   "nbconvert_exporter": "python",
   "pygments_lexer": "ipython3",
   "version": "3.6.8"
  }
 },
 "nbformat": 4,
 "nbformat_minor": 2
}
