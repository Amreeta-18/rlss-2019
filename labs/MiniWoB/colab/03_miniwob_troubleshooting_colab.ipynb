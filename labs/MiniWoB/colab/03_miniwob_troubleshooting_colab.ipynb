{
 "cells": [
  {
   "cell_type": "markdown",
   "metadata": {
    "colab_type": "text",
    "id": "40hlQ-5Spxhn"
   },
   "source": [
    "# Imports/tools\n",
    "\n",
    "Do not forget to attach GPU"
   ]
  },
  {
   "cell_type": "code",
   "execution_count": 0,
   "metadata": {
    "colab": {},
    "colab_type": "code",
    "id": "_yyIz2_Ppxhs"
   },
   "outputs": [],
   "source": [
    "import gym\n",
    "import ptan\n",
    "import time\n",
    "import copy\n",
    "import numpy as np\n",
    "import universe\n",
    "import collections\n",
    "from typing import List, Optional, Tuple\n",
    "from universe import vectorized\n",
    "from universe.wrappers.experimental import SoftmaxClickMouse\n",
    "\n",
    "from PIL import Image, ImageDraw\n",
    "import matplotlib.pylab as plt\n",
    "\n",
    "%matplotlib inline"
   ]
  },
  {
   "cell_type": "code",
   "execution_count": 0,
   "metadata": {
    "colab": {},
    "colab_type": "code",
    "id": "1EsAgEnFpxhw"
   },
   "outputs": [],
   "source": [
    "import torch\n",
    "import torch.nn as nn\n",
    "import torch.nn.functional as F\n",
    "import torch.optim as optim"
   ]
  },
  {
   "cell_type": "code",
   "execution_count": 0,
   "metadata": {
    "colab": {},
    "colab_type": "code",
    "id": "rEmzPsOJpxhy"
   },
   "outputs": [],
   "source": [
    "ENV_NAME = \"wob.mini.ClickDialog-v0\"\n",
    "PORT_OFFSET = <FILLME>\n",
    "VM_ADDRESS = \"193.49.213.5\""
   ]
  },
  {
   "cell_type": "code",
   "execution_count": 0,
   "metadata": {
    "colab": {},
    "colab_type": "code",
    "id": "PLJSZ5KLpxh0"
   },
   "outputs": [],
   "source": [
    "# function to build connection endpoints for set of containers\n",
    "def remotes_url(port_ofs=PORT_OFFSET, hostname=VM_ADDRESS, count=1):\n",
    "    hosts = [\"%s:%d+%d\" % (hostname, 5900 + ofs, 15900 + ofs) for ofs in range(port_ofs, port_ofs+count)]\n",
    "    return \"vnc://\" + \",\".join(hosts)"
   ]
  },
  {
   "cell_type": "code",
   "execution_count": 0,
   "metadata": {
    "colab": {},
    "colab_type": "code",
    "id": "7Se1PgvYpxh2"
   },
   "outputs": [],
   "source": [
    "def make_env(wrapper_func = lambda env: env, count: int = 1, fps: float = 5) -> universe.envs.VNCEnv:\n",
    "    \"\"\"\n",
    "    Builds the vectorized env\n",
    "    \"\"\"\n",
    "    env = gym.make(ENV_NAME)\n",
    "    env = wrapper_func(env)\n",
    "    url = remotes_url(count=count)\n",
    "    print(\"Remotes URL: %s\" % url)\n",
    "\n",
    "    env.configure(remotes=url, fps=fps, vnc_kwargs={\n",
    "            'encoding': 'tight', 'compress_level': 0,\n",
    "            'fine_quality_level': 100, 'subsample_level': 0\n",
    "        })\n",
    "    return env"
   ]
  },
  {
   "cell_type": "code",
   "execution_count": 0,
   "metadata": {
    "colab": {},
    "colab_type": "code",
    "id": "ZzIWBFGdpxh4"
   },
   "outputs": [],
   "source": [
    "def join_env(env: universe.envs.VNCEnv):\n",
    "    \"\"\"\n",
    "    Function performs initial reset of the env and waits for observations to become ready\n",
    "    \"\"\"\n",
    "    obs_n = env.reset()\n",
    "    while any(map(lambda o: o is None, obs_n)):\n",
    "        a = [env.action_space.sample() for _ in obs_n]\n",
    "        obs_n, reward, is_done, info = env.step(a)\n",
    "    return obs_n"
   ]
  },
  {
   "cell_type": "code",
   "execution_count": 0,
   "metadata": {
    "colab": {},
    "colab_type": "code",
    "id": "MrvXw2yQpxh7"
   },
   "outputs": [],
   "source": [
    "class MiniWoBCropper(vectorized.ObservationWrapper):\n",
    "    \"\"\"\n",
    "    Crops the WoB area and converts the observation into PyTorch (C, H, W) format.\n",
    "    \"\"\"\n",
    "    # Area of interest\n",
    "    WIDTH = 160\n",
    "    HEIGHT = 210\n",
    "    X_OFS = 10\n",
    "    Y_OFS = 75\n",
    "    \n",
    "    def __init__(self, env, keep_text=False):\n",
    "        super(MiniWoBCropper, self).__init__(env)\n",
    "        self.keep_text = keep_text\n",
    "        img_space = gym.spaces.Box(low=0, high=255, shape=(3, self.HEIGHT, self.WIDTH))\n",
    "        if keep_text:\n",
    "            self.observation_space = gym.spaces.Tuple(spaces=(img_space, gym.spaces.Space))\n",
    "        else:\n",
    "            self.observation_space = img_space\n",
    "\n",
    "    def _observation(self, observation_n):\n",
    "        res = []\n",
    "        for obs in observation_n:\n",
    "            if obs is None:\n",
    "                res.append(obs)\n",
    "                continue\n",
    "            img = obs['vision'][self.Y_OFS:self.Y_OFS+self.HEIGHT, self.X_OFS:self.X_OFS+self.WIDTH, :]\n",
    "            img = np.transpose(img, (2, 0, 1))\n",
    "            if self.keep_text:\n",
    "                text = \" \".join(map(lambda d: d.get('instruction', ''), obs.get('text', [{}])))\n",
    "                res.append((img, text))\n",
    "            else:\n",
    "                res.append(img)\n",
    "        return res"
   ]
  },
  {
   "cell_type": "code",
   "execution_count": 0,
   "metadata": {
    "colab": {},
    "colab_type": "code",
    "id": "TAcQIdhRpxh-"
   },
   "outputs": [],
   "source": [
    "class Model(nn.Module):\n",
    "    def __init__(self, input_shape, n_actions):\n",
    "        super(Model, self).__init__()\n",
    "\n",
    "        self.conv = nn.Sequential(\n",
    "            nn.Conv2d(input_shape[0], 64, 5, stride=5),\n",
    "            nn.ReLU(),\n",
    "            nn.Conv2d(64, 64, 3, stride=2),\n",
    "            nn.ReLU(),\n",
    "        )\n",
    "\n",
    "        conv_out_size = self._get_conv_out(input_shape)\n",
    "\n",
    "        self.fc = nn.Sequential(\n",
    "            nn.Linear(conv_out_size, n_actions),\n",
    "        )\n",
    "\n",
    "    def _get_conv_out(self, shape):\n",
    "        o = self.conv(torch.zeros(1, *shape))\n",
    "        return int(np.prod(o.size()))\n",
    "\n",
    "    def forward(self, x):\n",
    "        fx = x.float() / 256\n",
    "        conv_out = self.conv(fx).view(fx.size()[0], -1)\n",
    "        return self.fc(conv_out)"
   ]
  },
  {
   "cell_type": "code",
   "execution_count": 0,
   "metadata": {
    "colab": {},
    "colab_type": "code",
    "id": "JbW8-cOGpxiB"
   },
   "outputs": [],
   "source": [
    "@torch.no_grad()\n",
    "def unpack_batch(batch: List[ptan.experience.ExperienceFirstLast], net: nn.Module, gamma: float, device=\"cpu\"):\n",
    "    states = []\n",
    "    actions = []\n",
    "    rewards = []\n",
    "    done_masks = []\n",
    "    last_states = []\n",
    "    for exp in batch:\n",
    "        states.append(exp.state)\n",
    "        actions.append(exp.action)\n",
    "        rewards.append(exp.reward)\n",
    "        done_masks.append(exp.last_state is None)\n",
    "        if exp.last_state is None:\n",
    "            last_states.append(exp.state)\n",
    "        else:\n",
    "            last_states.append(exp.last_state)\n",
    "\n",
    "    states_v = torch.tensor(states).to(device)\n",
    "    actions_v = torch.tensor(actions).to(device)\n",
    "    rewards_v = torch.tensor(rewards).to(device)\n",
    "    last_states_v = torch.tensor(last_states).to(device)\n",
    "    last_state_q_v = net(last_states_v)\n",
    "    best_last_q_v = torch.max(last_state_q_v, dim=1)[0]\n",
    "    best_last_q_v[done_masks] = 0.0\n",
    "    return states_v, actions_v, best_last_q_v + rewards_v"
   ]
  },
  {
   "cell_type": "markdown",
   "metadata": {
    "colab_type": "text",
    "id": "uXmb5PWmpxiD"
   },
   "source": [
    "# Troubleshooting of Baseline DQN\n",
    "\n",
    "> \"You love Linux, probably you're experienced in troubleshooting...\"\n",
    "> RHCE Exam Instructor @ 2005\n",
    "\n",
    "Code above doesn't converge. Usually, in such situations, tutorial author tweaks the parameters to make it working, so, attendants see only final, polished version. This makes the false impression of ML as smooth and quite obvious process, which very far from truth. Don't know about others, but my code doesn't work 90% of the time :).\n",
    "\n",
    "To learn how to deal with such situations, you're asked to troubleshoot the code above. There are several directions you could explore (of course, you can have your own ideas, that's not the complete list):\n",
    "\n",
    "* check training samples. Do they make sense? Is reward properly assigned to correct observations?\n",
    "* training gradients. How large they are? What's the ratio of gradients/weight values?\n",
    "* do end-of-episode steps handled properly? Final steps of epsiodes act as an anchor to prevent Q values from growing infinitely, so, it is critical to have them properly handled in Bellman equation\n",
    "* explore Q values produced by the network during the training. Are they growing over time? That's a good practice to have small set of states (including final step and steps before the final) and track their Qs during the training.\n",
    "* how large the difference between trained network and target net used for next-step Bellman approximation? How it changes over time?\n"
   ]
  },
  {
   "cell_type": "code",
   "execution_count": 0,
   "metadata": {
    "colab": {},
    "colab_type": "code",
    "id": "HIsIerLFpxiE"
   },
   "outputs": [],
   "source": [
    "GAMMA = 0.9\n",
    "REPLAY_SIZE = 10000\n",
    "MIN_REPLAY = 100\n",
    "TGT_SYNC = 100\n",
    "BATCH_SIZE = 16\n",
    "LR = 1e-4\n",
    "DEVICE = \"cuda\"  \n",
    "#DEVICE = \"cpu\"\n",
    "\n",
    "INITIAL_EPSILON = 1.0\n",
    "FINAL_EPSILON = 0.2\n",
    "STEPS_EPSILON = 1000\n",
    "LIMIT_STEPS = 1500"
   ]
  },
  {
   "cell_type": "markdown",
   "metadata": {
    "colab_type": "text",
    "id": "NARHSgGJpxiH"
   },
   "source": [
    "## Training samples check\n",
    "\n",
    "Here we're going to eyeball our training samples. OpenAI Universe is asynchronous, so, if we're missing a frame or have delays to handle input data, we can get weird training samples.\n",
    "\n",
    "To do this, we implement small `Env` wrapper applied after `MiniWoBCropper` to keep history of training sequences."
   ]
  },
  {
   "cell_type": "code",
   "execution_count": 0,
   "metadata": {
    "colab": {},
    "colab_type": "code",
    "id": "AJjtAWG1pxiH"
   },
   "outputs": [],
   "source": [
    "class TrajectoryTracking(vectorized.Wrapper):\n",
    "    \"\"\"\n",
    "    Keeps last N trajectories from the environment\n",
    "    \"\"\"\n",
    "    def __init__(self, env, size: int):\n",
    "        super(TrajectoryTracking, self).__init__(env)\n",
    "        self.trajectories = collections.deque(maxlen=size)\n",
    "        self._in_progress = []\n",
    "\n",
    "    def reset(self):\n",
    "        obs_n = self.env.reset()\n",
    "        if not self._in_progress:\n",
    "            self._in_progress = [[] for _ in obs_n]\n",
    "        for t, obs in zip(self._in_progress, obs_n):\n",
    "            if t:\n",
    "                self.trajectories.append(list(t))\n",
    "                t.clear()\n",
    "            if obs:\n",
    "                t.append(obs)\n",
    "        return obs_n\n",
    "    \n",
    "    def step(self, action_n):\n",
    "        obs_n, r_n, done_n, info_n = self.env.step(action_n)\n",
    "        for t, obs, r, act in zip(self._in_progress, obs_n, r_n, action_n):\n",
    "            t.append((obs, act, r))\n",
    "        for t, done in zip(self._in_progress, done_n):\n",
    "            if done:\n",
    "                self.trajectories.append(list(t))\n",
    "                t.clear()\n",
    "        return obs_n, r_n, done_n, info_n"
   ]
  },
  {
   "cell_type": "markdown",
   "metadata": {
    "colab_type": "text",
    "id": "sJOj7p6-pxiK"
   },
   "source": [
    "Let's apply it to our training to get trajectories to check"
   ]
  },
  {
   "cell_type": "code",
   "execution_count": 12,
   "metadata": {
    "colab": {
     "base_uri": "https://localhost:8080/",
     "height": 258
    },
    "colab_type": "code",
    "id": "yGG07p8HpxiK",
    "outputId": "dccfa769-4d27-4d1a-a785-3593ca0fe135"
   },
   "outputs": [
    {
     "name": "stderr",
     "output_type": "stream",
     "text": [
      "[2019-07-10 11:35:31,547] Making new env: wob.mini.ClickDialog-v0\n",
      "/usr/local/lib/python3.6/dist-packages/gym/envs/registration.py:17: PkgResourcesDeprecationWarning: Parameters to load are deprecated.  Call .resolve and .require separately.\n",
      "  result = entry_point.load(False)\n",
      "[2019-07-10 11:35:31,558] Using SoftmaxClickMouse with action_region=(10, 125, 170, 285), noclick_regions=[]\n",
      "[2019-07-10 11:35:31,560] SoftmaxClickMouse noclick regions removed 0 of 256 actions\n",
      "[2019-07-10 11:35:31,562] Writing logs to file: /tmp/universe-10207.log\n",
      "[2019-07-10 11:35:31,569] Using the golang VNC implementation\n",
      "[2019-07-10 11:35:31,571] Using VNCSession arguments: {'encoding': 'tight', 'compress_level': 0, 'fine_quality_level': 100, 'subsample_level': 0, 'start_timeout': 7}. (Customize by running \"env.configure(vnc_kwargs={...})\"\n",
      "[2019-07-10 11:35:31,578] [0] Connecting to environment: vnc://193.49.213.5:5900 password=openai. If desired, you can manually connect a VNC viewer, such as TurboVNC. Most environments provide a convenient in-browser VNC client: http://193.49.213.5:15900/viewer/?password=openai\n"
     ]
    },
    {
     "name": "stdout",
     "output_type": "stream",
     "text": [
      "Remotes URL: vnc://193.49.213.5:5900+15900\n"
     ]
    },
    {
     "name": "stderr",
     "output_type": "stream",
     "text": [
      "[2019-07-10 11:35:51,806] [0:193.49.213.5:5900] ntpdate -q -p 8 193.49.213.5 call timed out after 20.0s; killing the subprocess. This is ok, but you could have more accurate timings by enabling UDP port 123 traffic to your env. (Alternatively, you can try increasing the timeout by setting environment variable UNIVERSE_NTPDATE_TIMEOUT=10.)\n",
      "[2019-07-10 11:35:53,961] [0:193.49.213.5:5900] Sending reset for env_id=wob.mini.ClickDialog-v0 fps=60 episode_id=0\n",
      "[2019-07-10 11:35:54,160] [0:193.49.213.5:5900] Initial reset complete: episode_id=15217\n"
     ]
    }
   ],
   "source": [
    "def wrapper_func(env):\n",
    "    env = MiniWoBCropper(env)\n",
    "    env = SoftmaxClickMouse(env)\n",
    "    env = TrajectoryTracking(env, size=10)\n",
    "    return env\n",
    "\n",
    "# Note FPS decrease to get smaller amount of images\n",
    "env = make_env(wrapper_func = wrapper_func, fps=1)\n",
    "join_env(env);"
   ]
  },
  {
   "cell_type": "code",
   "execution_count": 0,
   "metadata": {
    "colab": {},
    "colab_type": "code",
    "id": "KnKNy-VGpxiN"
   },
   "outputs": [],
   "source": [
    "net = Model(env.observation_space.shape, env.action_space.n).to(DEVICE)\n",
    "\n",
    "parent_selector = ptan.actions.ArgmaxActionSelector()\n",
    "action_selector = ptan.actions.EpsilonGreedyActionSelector(epsilon=1, selector=parent_selector) \n",
    "agent = ptan.agent.DQNAgent(net, action_selector, device=DEVICE)\n",
    "exp_source = ptan.experience.ExperienceSourceFirstLast(env, agent, gamma=GAMMA, vectorized=True)\n",
    "\n",
    "buffer = ptan.experience.ExperienceReplayBuffer(exp_source, REPLAY_SIZE)"
   ]
  },
  {
   "cell_type": "code",
   "execution_count": 14,
   "metadata": {
    "colab": {
     "base_uri": "https://localhost:8080/",
     "height": 221
    },
    "colab_type": "code",
    "id": "0Oz4MbQDpxiP",
    "outputId": "9405e294-335c-47fa-a02a-98390a9b59b9"
   },
   "outputs": [
    {
     "name": "stderr",
     "output_type": "stream",
     "text": [
      "[2019-07-10 11:36:08,824] [0:193.49.213.5:5900] Sending reset for env_id=wob.mini.ClickDialog-v0 fps=60 episode_id=0\n"
     ]
    },
    {
     "name": "stdout",
     "output_type": "stream",
     "text": [
      "Episode done with 2 steps and -1.000 reward\n",
      "Episode done with 11 steps and -1.000 reward\n",
      "Episode done with 10 steps and -1.000 reward\n",
      "Episode done with 11 steps and -1.000 reward\n",
      "Episode done with 10 steps and -1.000 reward\n",
      "Episode done with 11 steps and -1.000 reward\n",
      "Episode done with 10 steps and -1.000 reward\n",
      "Episode done with 11 steps and -1.000 reward\n",
      "Episode done with 11 steps and -1.000 reward\n",
      "Episode done with 4 steps and 0.638 reward\n",
      "Episode done with 10 steps and -1.000 reward\n"
     ]
    }
   ],
   "source": [
    "# populate buffer to get some trajectories\n",
    "for _ in range(100):\n",
    "    buffer.populate(1)\n",
    "    for rw, st in exp_source.pop_rewards_steps():\n",
    "        print(\"Episode done with %d steps and %.3f reward\" % (st, rw))"
   ]
  },
  {
   "cell_type": "code",
   "execution_count": 15,
   "metadata": {
    "colab": {
     "base_uri": "https://localhost:8080/",
     "height": 34
    },
    "colab_type": "code",
    "id": "KXfQNHglpxiS",
    "outputId": "ee22f878-a348-4f36-d9ee-62c5cdf1f655"
   },
   "outputs": [
    {
     "data": {
      "text/plain": [
       "10"
      ]
     },
     "execution_count": 15,
     "metadata": {
      "tags": []
     },
     "output_type": "execute_result"
    }
   ],
   "source": [
    "len(env.trajectories)"
   ]
  },
  {
   "cell_type": "code",
   "execution_count": 16,
   "metadata": {
    "colab": {
     "base_uri": "https://localhost:8080/",
     "height": 34
    },
    "colab_type": "code",
    "id": "S0aESVfkpxiV",
    "outputId": "885a945f-d4f5-4c1f-e4af-f667de1b94ee"
   },
   "outputs": [
    {
     "data": {
      "text/plain": [
       "[10, 11, 10, 11, 10, 11, 11, 4, 10, 11]"
      ]
     },
     "execution_count": 16,
     "metadata": {
      "tags": []
     },
     "output_type": "execute_result"
    }
   ],
   "source": [
    "list(map(len, env.trajectories))"
   ]
  },
  {
   "cell_type": "code",
   "execution_count": 18,
   "metadata": {
    "colab": {
     "base_uri": "https://localhost:8080/",
     "height": 34
    },
    "colab_type": "code",
    "id": "tiMrb9Copxia",
    "outputId": "66caa1f9-becc-466f-93f3-96cc60b1a0d2"
   },
   "outputs": [
    {
     "data": {
      "text/plain": [
       "((115, 46, 180, 165), (0.0, 0.0, 0.0, 0.6376000000000001))"
      ]
     },
     "execution_count": 18,
     "metadata": {
      "tags": []
     },
     "output_type": "execute_result"
    }
   ],
   "source": [
    "# you might want to select different trajectory to check, I've chosen not very long one with positive reward\n",
    "tr = env.trajectories[-3]\n",
    "tr_obs, tr_act, tr_rw = zip(*tr)\n",
    "tr_act, tr_rw"
   ]
  },
  {
   "cell_type": "code",
   "execution_count": 0,
   "metadata": {
    "colab": {},
    "colab_type": "code",
    "id": "d0BrzoFdpxie"
   },
   "outputs": [],
   "source": [
    "def get_obs_img(obs, action=None, action_step_pix=10, action_y_ofs=50, transpose=True):\n",
    "    \"\"\"\n",
    "    Get the image from observation with optional action place shown\n",
    "    \"\"\"\n",
    "    if transpose:\n",
    "        obs = np.transpose(obs, (1, 2, 0))\n",
    "    img = Image.fromarray(obs)\n",
    "    if action is not None:\n",
    "        draw = ImageDraw.Draw(img)\n",
    "        if isinstance(action, tuple):\n",
    "            x_ofs, y_ofs = action\n",
    "        else:\n",
    "            y_ofs = action_y_ofs + (action % 16) * action_step_pix\n",
    "            x_ofs = (action // 16) * action_step_pix\n",
    "        half_step = action_step_pix//2\n",
    "        draw.ellipse((x_ofs-half_step, y_ofs-half_step, x_ofs+half_step, y_ofs+half_step),\n",
    "                     (0, 0, 255, 128))\n",
    "    return img"
   ]
  },
  {
   "cell_type": "code",
   "execution_count": 0,
   "metadata": {
    "colab": {},
    "colab_type": "code",
    "id": "UdW-UJxspxih"
   },
   "outputs": [],
   "source": [
    "imgs = [get_obs_img(obs, action=act) for obs, act in zip(tr_obs, tr_act)]"
   ]
  },
  {
   "cell_type": "code",
   "execution_count": 21,
   "metadata": {
    "colab": {
     "base_uri": "https://localhost:8080/",
     "height": 595
    },
    "colab_type": "code",
    "id": "IyY6gd6-pxij",
    "outputId": "6c029e8c-cf08-4cb1-af9b-3a93a8a4c28c"
   },
   "outputs": [
    {
     "data": {
      "image/png": "[encoded data removed]",
      "text/plain": [
       "<Figure size 720x720 with 4 Axes>"
      ]
     },
     "metadata": {
      "tags": []
     },
     "output_type": "display_data"
    }
   ],
   "source": [
    "fig = plt.figure(figsize=(10, 10))\n",
    "\n",
    "rows = 2\n",
    "for i, img in enumerate(imgs, start=1):\n",
    "    fig.add_subplot(rows, np.ceil(len(imgs)/rows), i)\n",
    "    plt.imshow(img)\n",
    "plt.show()"
   ]
  },
  {
   "cell_type": "markdown",
   "metadata": {
    "colab_type": "text",
    "id": "aymQnUZXpxin"
   },
   "source": [
    "Ok, looks like reward is assigned to the last step, but not to the step with correct action. Let's check what happens with higher FPS value"
   ]
  },
  {
   "cell_type": "code",
   "execution_count": 22,
   "metadata": {
    "colab": {
     "base_uri": "https://localhost:8080/",
     "height": 241
    },
    "colab_type": "code",
    "id": "2UfTSpJ_pxio",
    "outputId": "5ccbc867-ab89-416a-8ee6-3fd5703ff044"
   },
   "outputs": [
    {
     "name": "stderr",
     "output_type": "stream",
     "text": [
      "[2019-07-10 11:39:02,915] Making new env: wob.mini.ClickDialog-v0\n",
      "/usr/local/lib/python3.6/dist-packages/gym/envs/registration.py:17: PkgResourcesDeprecationWarning: Parameters to load are deprecated.  Call .resolve and .require separately.\n",
      "  result = entry_point.load(False)\n",
      "[2019-07-10 11:39:02,921] Using SoftmaxClickMouse with action_region=(10, 125, 170, 285), noclick_regions=[]\n",
      "[2019-07-10 11:39:02,924] SoftmaxClickMouse noclick regions removed 0 of 256 actions\n",
      "[2019-07-10 11:39:02,929] Using the golang VNC implementation\n",
      "[2019-07-10 11:39:02,931] Using VNCSession arguments: {'encoding': 'tight', 'compress_level': 0, 'fine_quality_level': 100, 'subsample_level': 0, 'start_timeout': 7}. (Customize by running \"env.configure(vnc_kwargs={...})\"\n",
      "[2019-07-10 11:39:02,942] [0] Connecting to environment: vnc://193.49.213.5:5900 password=openai. If desired, you can manually connect a VNC viewer, such as TurboVNC. Most environments provide a convenient in-browser VNC client: http://193.49.213.5:15900/viewer/?password=openai\n"
     ]
    },
    {
     "name": "stdout",
     "output_type": "stream",
     "text": [
      "Remotes URL: vnc://193.49.213.5:5900+15900\n"
     ]
    },
    {
     "name": "stderr",
     "output_type": "stream",
     "text": [
      "[2019-07-10 11:39:23,202] [0:193.49.213.5:5900] ntpdate -q -p 8 193.49.213.5 call timed out after 20.0s; killing the subprocess. This is ok, but you could have more accurate timings by enabling UDP port 123 traffic to your env. (Alternatively, you can try increasing the timeout by setting environment variable UNIVERSE_NTPDATE_TIMEOUT=10.)\n",
      "[2019-07-10 11:39:25,354] [0:193.49.213.5:5900] Sending reset for env_id=wob.mini.ClickDialog-v0 fps=60 episode_id=0\n",
      "[2019-07-10 11:39:25,497] [0:193.49.213.5:5900] Initial reset complete: episode_id=15240\n"
     ]
    }
   ],
   "source": [
    "def wrapper_func(env):\n",
    "    env = MiniWoBCropper(env)\n",
    "    env = SoftmaxClickMouse(env)\n",
    "    env = TrajectoryTracking(env, size=10)\n",
    "    return env\n",
    "\n",
    "env = make_env(wrapper_func = wrapper_func, fps=5)\n",
    "join_env(env);"
   ]
  },
  {
   "cell_type": "code",
   "execution_count": 0,
   "metadata": {
    "colab": {},
    "colab_type": "code",
    "id": "VLER6F8wpxis"
   },
   "outputs": [],
   "source": [
    "net = Model(env.observation_space.shape, env.action_space.n).to(DEVICE)\n",
    "\n",
    "parent_selector = ptan.actions.ArgmaxActionSelector()\n",
    "action_selector = ptan.actions.EpsilonGreedyActionSelector(epsilon=1, selector=parent_selector) \n",
    "agent = ptan.agent.DQNAgent(net, action_selector, device=DEVICE)\n",
    "exp_source = ptan.experience.ExperienceSourceFirstLast(env, agent, gamma=GAMMA, vectorized=True)\n",
    "\n",
    "buffer = ptan.experience.ExperienceReplayBuffer(exp_source, REPLAY_SIZE)"
   ]
  },
  {
   "cell_type": "code",
   "execution_count": 24,
   "metadata": {
    "colab": {
     "base_uri": "https://localhost:8080/",
     "height": 255
    },
    "colab_type": "code",
    "id": "UpeG9tlhpxiv",
    "outputId": "0e475b52-2f2a-47ca-a15e-722161b07573"
   },
   "outputs": [
    {
     "name": "stderr",
     "output_type": "stream",
     "text": [
      "[2019-07-10 11:43:08,582] [0:193.49.213.5:5900] Sending reset for env_id=wob.mini.ClickDialog-v0 fps=60 episode_id=0\n"
     ]
    },
    {
     "name": "stdout",
     "output_type": "stream",
     "text": [
      "Episode done with 32 steps and -1.000 reward\n",
      "Episode done with 28 steps and 0.504 reward\n",
      "Episode done with 17 steps and 0.711 reward\n",
      "Episode done with 52 steps and -1.000 reward\n",
      "Episode done with 53 steps and -1.000 reward\n",
      "Episode done with 21 steps and 1.661 reward\n",
      "Episode done with 53 steps and -1.000 reward\n",
      "Episode done with 15 steps and 0.761 reward\n",
      "Episode done with 52 steps and -1.000 reward\n",
      "Episode done with 47 steps and 0.099 reward\n",
      "Episode done with 53 steps and -1.000 reward\n",
      "Episode done with 52 steps and -1.000 reward\n",
      "Episode done with 24 steps and 0.591 reward\n"
     ]
    }
   ],
   "source": [
    "# populate buffer to get some trajectories\n",
    "for _ in range(500):\n",
    "    buffer.populate(1)\n",
    "    for rw, st in exp_source.pop_rewards_steps():\n",
    "        print(\"Episode done with %d steps and %.3f reward\" % (st, rw))"
   ]
  },
  {
   "cell_type": "markdown",
   "metadata": {
    "colab_type": "text",
    "id": "etcKM-v1pxiz"
   },
   "source": [
    "One thing to notice here: we have much higher success rate due to more clicks done."
   ]
  },
  {
   "cell_type": "code",
   "execution_count": 25,
   "metadata": {
    "colab": {
     "base_uri": "https://localhost:8080/",
     "height": 34
    },
    "colab_type": "code",
    "id": "HEc1sz7Lpxiz",
    "outputId": "6c9521a9-fbd9-4efc-c5c6-946b2eaf84b7"
   },
   "outputs": [
    {
     "data": {
      "text/plain": [
       "[52, 53, 21, 53, 15, 52, 47, 53, 52, 24]"
      ]
     },
     "execution_count": 25,
     "metadata": {
      "tags": []
     },
     "output_type": "execute_result"
    }
   ],
   "source": [
    "list(map(len, env.trajectories))"
   ]
  },
  {
   "cell_type": "code",
   "execution_count": 27,
   "metadata": {
    "colab": {
     "base_uri": "https://localhost:8080/",
     "height": 51
    },
    "colab_type": "code",
    "id": "X-Sxstmmpxi3",
    "outputId": "99ef0ec1-8482-422c-fbea-76c82558f0ea"
   },
   "outputs": [
    {
     "name": "stdout",
     "output_type": "stream",
     "text": [
      "(193, 7, 18, 172, 254, 203, 156, 189, 166, 3, 112, 229, 0, 132, 184, 40, 102, 68, 193, 157, 85, 181, 232, 19)\n",
      "(0.0, 0.0, 0.0, 0.0, 0.0, 0.0, 0.0, 0.0, 0.0, 0.0, 0.0, 0.0, 0.0, 0.0, 0.0, 0.0, 0.0, 0.0, 0.0, 0.0, 0.0, 0.0, 0.0, 0.5908)\n"
     ]
    }
   ],
   "source": [
    "# you might want to select different trajectory to check, I've chosen not very long one with positive reward\n",
    "tr = env.trajectories[-1]\n",
    "tr_obs, tr_act, tr_rw = zip(*tr)\n",
    "print(tr_act)\n",
    "print(tr_rw)"
   ]
  },
  {
   "cell_type": "code",
   "execution_count": 28,
   "metadata": {
    "colab": {
     "base_uri": "https://localhost:8080/",
     "height": 474
    },
    "colab_type": "code",
    "id": "3Y-Lt7i2pxi8",
    "outputId": "8aa73e43-693c-4e7d-fb71-29a4227d8e2e"
   },
   "outputs": [
    {
     "data": {
      "image/png": "[encoded data removed]",
      "text/plain": [
       "<Figure size 720x720 with 10 Axes>"
      ]
     },
     "metadata": {
      "tags": []
     },
     "output_type": "display_data"
    }
   ],
   "source": [
    "imgs = [get_obs_img(obs, action=act) for obs, act in zip(tr_obs, tr_act)]\n",
    "\n",
    "fig = plt.figure(figsize=(10, 10))\n",
    "\n",
    "rows = 2\n",
    "for i, img in enumerate(imgs[-10:], start=1):\n",
    "    fig.add_subplot(rows, np.ceil(len(imgs[-10:])/rows), i)\n",
    "    plt.imshow(img)\n",
    "plt.show()"
   ]
  },
  {
   "cell_type": "markdown",
   "metadata": {
    "colab_type": "text",
    "id": "_moSGg35pxi_"
   },
   "source": [
    "Hm, looks like the last step in the trajectory is confusing. Let's check the contents of the replay buffer"
   ]
  },
  {
   "cell_type": "code",
   "execution_count": 29,
   "metadata": {
    "colab": {
     "base_uri": "https://localhost:8080/",
     "height": 34
    },
    "colab_type": "code",
    "id": "Fj24iOZypxjB",
    "outputId": "54cfbb4a-aed9-47d7-b82d-1be44b46ed84"
   },
   "outputs": [
    {
     "data": {
      "text/plain": [
       "500"
      ]
     },
     "execution_count": 29,
     "metadata": {
      "tags": []
     },
     "output_type": "execute_result"
    }
   ],
   "source": [
    "len(buffer)"
   ]
  },
  {
   "cell_type": "code",
   "execution_count": 30,
   "metadata": {
    "colab": {
     "base_uri": "https://localhost:8080/",
     "height": 34
    },
    "colab_type": "code",
    "id": "cPBvd5l-pxjE",
    "outputId": "a79e6d3d-d42b-4cfe-e26b-fecf099fcab2"
   },
   "outputs": [
    {
     "name": "stdout",
     "output_type": "stream",
     "text": [
      "Found 5 final good states and 7 final bad\n"
     ]
    }
   ],
   "source": [
    "# buffer is just a container of objects of ExperienceFirstLast \n",
    "# (https://github.com/Shmuma/ptan/blob/master/ptan/experience.py#L155)\n",
    "# which just a namedtuple with fields: state, action, reward, last_state\n",
    "final_good = []\n",
    "final_bad = []\n",
    "for s in buffer:\n",
    "    if s.last_state is None:\n",
    "        if s.reward > 0.2:\n",
    "            final_good.append(s)\n",
    "        elif s.reward < -0.2:\n",
    "            final_bad.append(s)\n",
    "print(\"Found %d final good states and %d final bad\" % (len(final_good), len(final_bad)))"
   ]
  },
  {
   "cell_type": "code",
   "execution_count": 0,
   "metadata": {
    "colab": {},
    "colab_type": "code",
    "id": "1LA5PYYBpxjH"
   },
   "outputs": [],
   "source": [
    "final_good_imgs = [get_obs_img(s.state, action=s.action) for s in final_good]\n",
    "final_bad_imgs = [get_obs_img(s.state, action=s.action) for s in final_bad]"
   ]
  },
  {
   "cell_type": "code",
   "execution_count": 32,
   "metadata": {
    "colab": {
     "base_uri": "https://localhost:8080/",
     "height": 867
    },
    "colab_type": "code",
    "id": "PFJg0IOKpxjJ",
    "outputId": "646844b6-e44d-45e2-af84-89e384565c94"
   },
   "outputs": [
    {
     "data": {
      "image/png": "[encoded data removed]",
      "text/plain": [
       "<Figure size 1080x1080 with 5 Axes>"
      ]
     },
     "metadata": {
      "tags": []
     },
     "output_type": "display_data"
    }
   ],
   "source": [
    "fig = plt.figure(figsize=(15, 15))\n",
    "\n",
    "rows = 3\n",
    "for i, img in enumerate(final_good_imgs, start=1):\n",
    "    fig.add_subplot(rows, np.ceil(len(final_good_imgs)/rows), i)\n",
    "    plt.imshow(img)\n",
    "plt.show()"
   ]
  },
  {
   "cell_type": "code",
   "execution_count": 33,
   "metadata": {
    "colab": {
     "base_uri": "https://localhost:8080/",
     "height": 867
    },
    "colab_type": "code",
    "id": "WDPpYzXbpxjM",
    "outputId": "fcc3c3f9-dff4-48d2-fa22-478a5733edec"
   },
   "outputs": [
    {
     "data": {
      "image/png": "[encoded data removed]",
      "text/plain": [
       "<Figure size 1080x1080 with 7 Axes>"
      ]
     },
     "metadata": {
      "tags": []
     },
     "output_type": "display_data"
    }
   ],
   "source": [
    "fig = plt.figure(figsize=(15, 15))\n",
    "\n",
    "rows = 3\n",
    "for i, img in enumerate(final_bad_imgs, start=1):\n",
    "    fig.add_subplot(rows, np.ceil(len(final_bad_imgs)/rows), i)\n",
    "    plt.imshow(img)\n",
    "plt.show()"
   ]
  },
  {
   "cell_type": "markdown",
   "metadata": {
    "colab_type": "text",
    "id": "ThR_ce6YpxjQ"
   },
   "source": [
    "Ok, obviously, async nature of Gym is confusing the training. Let's leave it for now and check other aspects of our training process."
   ]
  },
  {
   "cell_type": "markdown",
   "metadata": {
    "colab_type": "text",
    "id": "LJGNeACNpxjQ"
   },
   "source": [
    "## Overfit to subset of samples\n",
    "\n",
    "Normal approach to debug ML/DL methods is to try to overfit to some known set of samples. This allows us to inspect those samples and check values predicted by the model. It might sound trivial, but I've personally wasted several days debugging proper code, the only issue with which was lack of `loss.backward()`. \n",
    "\n",
    "Overall plan is the following:\n",
    "* reuse our class `TrajectoryTracking` to have access to trajectories,\n",
    "* play 10-20 episodes gathering data\n",
    "* take several final steps of successfull episodes (with positive reward) and several final steps from failed episodes\n",
    "* train on this data for several epoches\n",
    "* check training dynamics and values returned by the model\n",
    "* think\n",
    "\n",
    "If you feel yourself brave enough, you can try to implement this yourself without peeking into the next section."
   ]
  },
  {
   "cell_type": "code",
   "execution_count": 34,
   "metadata": {
    "colab": {
     "base_uri": "https://localhost:8080/",
     "height": 241
    },
    "colab_type": "code",
    "id": "gDTJ45ngpxjR",
    "outputId": "2920aa49-ac87-4ba2-bf0d-1ad8419974ae"
   },
   "outputs": [
    {
     "name": "stderr",
     "output_type": "stream",
     "text": [
      "[2019-07-10 11:46:51,479] Making new env: wob.mini.ClickDialog-v0\n",
      "/usr/local/lib/python3.6/dist-packages/gym/envs/registration.py:17: PkgResourcesDeprecationWarning: Parameters to load are deprecated.  Call .resolve and .require separately.\n",
      "  result = entry_point.load(False)\n",
      "[2019-07-10 11:46:51,488] Using SoftmaxClickMouse with action_region=(10, 125, 170, 285), noclick_regions=[]\n",
      "[2019-07-10 11:46:51,491] SoftmaxClickMouse noclick regions removed 0 of 256 actions\n",
      "[2019-07-10 11:46:51,495] Using the golang VNC implementation\n",
      "[2019-07-10 11:46:51,496] Using VNCSession arguments: {'encoding': 'tight', 'compress_level': 0, 'fine_quality_level': 100, 'subsample_level': 0, 'start_timeout': 7}. (Customize by running \"env.configure(vnc_kwargs={...})\"\n",
      "[2019-07-10 11:46:51,503] [0] Connecting to environment: vnc://193.49.213.5:5900 password=openai. If desired, you can manually connect a VNC viewer, such as TurboVNC. Most environments provide a convenient in-browser VNC client: http://193.49.213.5:15900/viewer/?password=openai\n"
     ]
    },
    {
     "name": "stdout",
     "output_type": "stream",
     "text": [
      "Remotes URL: vnc://193.49.213.5:5900+15900\n"
     ]
    },
    {
     "name": "stderr",
     "output_type": "stream",
     "text": [
      "[2019-07-10 11:47:11,758] [0:193.49.213.5:5900] ntpdate -q -p 8 193.49.213.5 call timed out after 20.0s; killing the subprocess. This is ok, but you could have more accurate timings by enabling UDP port 123 traffic to your env. (Alternatively, you can try increasing the timeout by setting environment variable UNIVERSE_NTPDATE_TIMEOUT=10.)\n",
      "[2019-07-10 11:47:13,913] [0:193.49.213.5:5900] Sending reset for env_id=wob.mini.ClickDialog-v0 fps=60 episode_id=0\n",
      "[2019-07-10 11:47:14,141] [0:193.49.213.5:5900] Initial reset complete: episode_id=15289\n"
     ]
    }
   ],
   "source": [
    "def wrapper_func(env):\n",
    "    env = MiniWoBCropper(env)\n",
    "    env = SoftmaxClickMouse(env)\n",
    "    env = TrajectoryTracking(env, size=10)\n",
    "    return env\n",
    "\n",
    "env = make_env(wrapper_func = wrapper_func, fps=5)\n",
    "join_env(env);"
   ]
  },
  {
   "cell_type": "code",
   "execution_count": 0,
   "metadata": {
    "colab": {},
    "colab_type": "code",
    "id": "zQZ3RwoLpxjY"
   },
   "outputs": [],
   "source": [
    "net = Model(env.observation_space.shape, env.action_space.n).to(DEVICE)\n",
    "\n",
    "parent_selector = ptan.actions.ArgmaxActionSelector()\n",
    "action_selector = ptan.actions.EpsilonGreedyActionSelector(epsilon=1, selector=parent_selector) \n",
    "agent = ptan.agent.DQNAgent(net, action_selector, device=DEVICE)\n",
    "exp_source = ptan.experience.ExperienceSourceFirstLast(env, agent, gamma=GAMMA, vectorized=True)\n",
    "\n",
    "buffer = ptan.experience.ExperienceReplayBuffer(exp_source, REPLAY_SIZE)"
   ]
  },
  {
   "cell_type": "code",
   "execution_count": 36,
   "metadata": {
    "colab": {
     "base_uri": "https://localhost:8080/",
     "height": 187
    },
    "colab_type": "code",
    "id": "hrvtraBypxja",
    "outputId": "fe472427-d74b-44d6-de2f-7c99128942c9"
   },
   "outputs": [
    {
     "name": "stderr",
     "output_type": "stream",
     "text": [
      "[2019-07-10 11:47:20,580] [0:193.49.213.5:5900] Sending reset for env_id=wob.mini.ClickDialog-v0 fps=60 episode_id=0\n"
     ]
    },
    {
     "name": "stdout",
     "output_type": "stream",
     "text": [
      "Episode done with 29 steps and -1.000 reward\n",
      "Episode done with 51 steps and 0.044 reward\n",
      "Episode done with 52 steps and -1.000 reward\n",
      "Episode done with 53 steps and -1.000 reward\n",
      "Episode done with 30 steps and 0.450 reward\n",
      "Episode done with 52 steps and -1.000 reward\n",
      "Episode done with 53 steps and -1.000 reward\n",
      "Episode done with 45 steps and 0.149 reward\n",
      "Episode done with 13 steps and 0.791 reward\n"
     ]
    }
   ],
   "source": [
    "# wait for given amount of trajectories of both kind\n",
    "COUNT_REQUIRED = 2\n",
    "positive_traj = []\n",
    "negative_traj = []\n",
    "\n",
    "while len(positive_traj) < COUNT_REQUIRED or len(negative_traj) < COUNT_REQUIRED:\n",
    "    buffer.populate(1)\n",
    "    for rw, st in exp_source.pop_rewards_steps():\n",
    "        print(\"Episode done with %d steps and %.3f reward\" % (st, rw))\n",
    "        if rw > 0.2  and len(positive_traj) <= COUNT_REQUIRED:\n",
    "            positive_traj.append(env.trajectories[-1])\n",
    "        elif rw < -0.2 and len(negative_traj) <= COUNT_REQUIRED:\n",
    "            negative_traj.append(env.trajectories[-1])"
   ]
  },
  {
   "cell_type": "markdown",
   "metadata": {
    "colab_type": "text",
    "id": "XG3l0yhIpxjd"
   },
   "source": [
    "It might take some time before you get two episodes with positive reward.\n",
    "\n",
    "Btw, sparcity of good examples might be the reason of bad convergence. Possible way dealing with that could be increase of `fps` option on Env creation, just to have more clicks done."
   ]
  },
  {
   "cell_type": "code",
   "execution_count": 37,
   "metadata": {
    "colab": {
     "base_uri": "https://localhost:8080/",
     "height": 527
    },
    "colab_type": "code",
    "id": "rWZWSjxrpxje",
    "outputId": "9b94dc70-fa91-4429-85b4-11042ccb6085"
   },
   "outputs": [
    {
     "name": "stdout",
     "output_type": "stream",
     "text": [
      "212 0.0\n",
      "195 0.0\n",
      "59 0.0\n",
      "104 0.0\n",
      "24 0.0\n",
      "172 0.0\n",
      "109 0.0\n",
      "17 0.0\n",
      "237 0.0\n",
      "227 0.0\n",
      "163 0.0\n",
      "105 0.0\n",
      "221 0.0\n",
      "162 0.0\n",
      "228 0.0\n",
      "10 0.0\n",
      "47 0.0\n",
      "77 0.0\n",
      "195 0.0\n",
      "152 0.0\n",
      "158 0.0\n",
      "230 0.0\n",
      "224 0.0\n",
      "6 0.0\n",
      "173 0.0\n",
      "118 0.0\n",
      "37 0.0\n",
      "131 0.0\n",
      "245 0.0\n",
      "104 0.44980000000000003\n"
     ]
    }
   ],
   "source": [
    "for s in positive_traj[0]:\n",
    "    print(s[1], s[2])"
   ]
  },
  {
   "cell_type": "code",
   "execution_count": 38,
   "metadata": {
    "colab": {
     "base_uri": "https://localhost:8080/",
     "height": 34
    },
    "colab_type": "code",
    "id": "HObFHjtypxjh",
    "outputId": "cfd5c692-f17a-47ff-d43f-8ca1cfa4acb9"
   },
   "outputs": [
    {
     "data": {
      "text/plain": [
       "2"
      ]
     },
     "execution_count": 38,
     "metadata": {
      "tags": []
     },
     "output_type": "execute_result"
    }
   ],
   "source": [
    "training_positive = []\n",
    "\n",
    "# find this sample in our replay buffer\n",
    "for traj in positive_traj:\n",
    "    for sample in buffer:\n",
    "        # note that we're taking the observation from the previous step in trajectory, but action from the last\n",
    "        if (sample.state == traj[-2][0]).all() and sample.action == traj[-1][1] and sample.last_state is None:\n",
    "            training_positive.append(sample)\n",
    "len(training_positive)"
   ]
  },
  {
   "cell_type": "code",
   "execution_count": 39,
   "metadata": {
    "colab": {
     "base_uri": "https://localhost:8080/",
     "height": 34
    },
    "colab_type": "code",
    "id": "8VxdAM3Jpxjk",
    "outputId": "a3aca08b-0f03-40a2-a366-5508176bc3f8"
   },
   "outputs": [
    {
     "data": {
      "text/plain": [
       "3"
      ]
     },
     "execution_count": 39,
     "metadata": {
      "tags": []
     },
     "output_type": "execute_result"
    }
   ],
   "source": [
    "training_negative = []\n",
    "\n",
    "for traj in negative_traj:\n",
    "    for sample in buffer:\n",
    "        if (sample.state == traj[-2][0]).all() and sample.action == traj[-1][1] and sample.last_state is None:\n",
    "            training_negative.append(sample)\n",
    "len(training_negative)            "
   ]
  },
  {
   "cell_type": "code",
   "execution_count": 0,
   "metadata": {
    "colab": {},
    "colab_type": "code",
    "id": "YfOJ_mTYpxjq"
   },
   "outputs": [],
   "source": [
    "batch = list(training_positive)\n",
    "batch.extend(training_negative)"
   ]
  },
  {
   "cell_type": "code",
   "execution_count": 0,
   "metadata": {
    "colab": {},
    "colab_type": "code",
    "id": "Gi132g1Ypxjs"
   },
   "outputs": [],
   "source": [
    "optimizer = optim.Adam(net.parameters(), LR)"
   ]
  },
  {
   "cell_type": "code",
   "execution_count": 0,
   "metadata": {
    "colab": {},
    "colab_type": "code",
    "id": "0wadd1Svpxj2"
   },
   "outputs": [],
   "source": [
    "# training the net\n",
    "losses = []\n",
    "q_vals = []\n",
    "\n",
    "for _ in range(100):\n",
    "    state_v, actions_v, ref_q_v = unpack_batch(batch, net, gamma=GAMMA, device=DEVICE)\n",
    "    optimizer.zero_grad()\n",
    "    q_v = net(state_v)\n",
    "    q_v = q_v.gather(1, actions_v.unsqueeze(-1)).squeeze(-1)\n",
    "    loss_v = F.mse_loss(q_v, ref_q_v)\n",
    "    loss_v.backward()\n",
    "    optimizer.step()\n",
    "    losses.append(loss_v.item())\n",
    "    q_vals.append(q_v.cpu().detach().numpy())"
   ]
  },
  {
   "cell_type": "code",
   "execution_count": 43,
   "metadata": {
    "colab": {
     "base_uri": "https://localhost:8080/",
     "height": 187
    },
    "colab_type": "code",
    "id": "qL3iE_tBpxj5",
    "outputId": "45fb9dd1-ecb0-4b7f-9a28-8848e43dcdd6"
   },
   "outputs": [
    {
     "data": {
      "text/plain": [
       "[0.8212960362434387,\n",
       " 0.5348292589187622,\n",
       " 0.30748891830444336,\n",
       " 0.1400965452194214,\n",
       " 0.043585628271102905,\n",
       " 0.024871738627552986,\n",
       " 0.06505951285362244,\n",
       " 0.1075073704123497,\n",
       " 0.11591682583093643,\n",
       " 0.09477385133504868]"
      ]
     },
     "execution_count": 43,
     "metadata": {
      "tags": []
     },
     "output_type": "execute_result"
    }
   ],
   "source": [
    "losses[:10]"
   ]
  },
  {
   "cell_type": "code",
   "execution_count": 44,
   "metadata": {
    "colab": {
     "base_uri": "https://localhost:8080/",
     "height": 269
    },
    "colab_type": "code",
    "id": "xunp-4lBpxkD",
    "outputId": "4bdf0a9f-e334-4fac-bdac-869a406c0a37"
   },
   "outputs": [
    {
     "data": {
      "image/png": "[encoded data removed]",
      "text/plain": [
       "<Figure size 432x288 with 1 Axes>"
      ]
     },
     "metadata": {
      "tags": []
     },
     "output_type": "display_data"
    }
   ],
   "source": [
    "plt.plot(losses);"
   ]
  },
  {
   "cell_type": "code",
   "execution_count": 45,
   "metadata": {
    "colab": {
     "base_uri": "https://localhost:8080/",
     "height": 34
    },
    "colab_type": "code",
    "id": "gZK_19L0pxkG",
    "outputId": "bc4c57cf-89b4-45a3-af8e-32155fa52971"
   },
   "outputs": [
    {
     "data": {
      "text/plain": [
       "tensor([ 0.4498,  0.7912, -1.0000, -1.0000, -1.0000], device='cuda:0')"
      ]
     },
     "execution_count": 45,
     "metadata": {
      "tags": []
     },
     "output_type": "execute_result"
    }
   ],
   "source": [
    "ref_q_v"
   ]
  },
  {
   "cell_type": "code",
   "execution_count": 47,
   "metadata": {
    "colab": {
     "base_uri": "https://localhost:8080/",
     "height": 269
    },
    "colab_type": "code",
    "id": "1qjwuw1xpxkM",
    "outputId": "3429ddf3-4746-47fb-9d77-ef6f1997887d"
   },
   "outputs": [
    {
     "data": {
      "image/png": "[encoded data removed]",
      "text/plain": [
       "<Figure size 432x288 with 1 Axes>"
      ]
     },
     "metadata": {
      "tags": []
     },
     "output_type": "display_data"
    }
   ],
   "source": [
    "a, b, c, d, *_ = zip(*q_vals)\n",
    "plt.plot(a)\n",
    "plt.plot(b)\n",
    "plt.plot(c)\n",
    "plt.plot(d);"
   ]
  },
  {
   "cell_type": "code",
   "execution_count": 48,
   "metadata": {
    "colab": {
     "base_uri": "https://localhost:8080/",
     "height": 34
    },
    "colab_type": "code",
    "id": "TF7RAWWspxkT",
    "outputId": "3c1ca2b1-1176-4457-9864-4105c43ae4ab"
   },
   "outputs": [
    {
     "data": {
      "text/plain": [
       "tensor([ 0.4498,  0.7912, -1.0000, -1.0000, -1.0000], device='cuda:0')"
      ]
     },
     "execution_count": 48,
     "metadata": {
      "tags": []
     },
     "output_type": "execute_result"
    }
   ],
   "source": [
    "ref_q_v"
   ]
  },
  {
   "cell_type": "markdown",
   "metadata": {
    "colab_type": "text",
    "id": "k7n7krdrpxkf"
   },
   "source": [
    "Looks OK"
   ]
  },
  {
   "cell_type": "markdown",
   "metadata": {
    "colab_type": "text",
    "id": "AZJjxEyVpxkg"
   },
   "source": [
    "# Fixing the weird samples\n",
    "\n",
    "Let's return to our finding of weird samples at the end of trajectories. It is obvious (from Bellman equation) that those samples are extremely important for convergence, as they form the \"basis\" of our Q-values. So, network need to converge to those end-of-episode values and then they will be used to learn more early steps (or find shorter paths to those final states).\n",
    "\n",
    "But our end-of-episodes samples are nasty -- we can click at proper place, but due to timeout get -1 reward on the next step. On the other hand, we can click properly in the beginning, but due to VNC delay, we'll get positive reward several steps later. And those steps will include completely random clicks. This situation also turns our environment into POMDP domain. Indeed, prior clicks are important for subsequent trajectory, but our agent has no idea about the clicks we've done. \n",
    "\n",
    "We can't fix asynchronous nature of things, but we can help our agent by cleaning up the mess a bit.\n",
    "\n",
    "As a very simple approach, we can wait for a some time after every action.\n",
    "\n",
    "To fix the POMDP, we just need to remember previous clicks and pass them to the agent in observation. The simplest way of doing this will be to have a separate \"color plane\" in observations with filled grids we've already clicked.\n",
    "\n",
    "Below is outline of two wrappers we need to write."
   ]
  },
  {
   "cell_type": "markdown",
   "metadata": {
    "colab_type": "text",
    "heading_collapsed": true,
    "id": "nE_X-evGpxkg"
   },
   "source": [
    "## Track clicks wrapper"
   ]
  },
  {
   "cell_type": "code",
   "execution_count": 0,
   "metadata": {
    "colab": {},
    "colab_type": "code",
    "hidden": true,
    "id": "kV-3HzDZpxkh"
   },
   "outputs": [],
   "source": [
    "class MiniWoBTrackClicks(vectorized.Wrapper):\n",
    "    \"\"\"\n",
    "    Track the clicks\n",
    "    \"\"\"\n",
    "    def __init__(self, env):\n",
    "        super(MiniWoBTrackClicks, self).__init__(env)\n",
    "        s = env.observation_space.shape\n",
    "        self.clicks_buf = np.zeros(s[1:], dtype=np.uint8)\n",
    "        self.observation_space = gym.spaces.Box(low=0, high=255, shape=(s[0]+1, s[1], s[2]))\n",
    "\n",
    "    def reset(self):\n",
    "        self.clicks_buf[:] = 0\n",
    "        return self.env.reset()\n",
    "    \n",
    "    def step(self, action_n):\n",
    "        obs_n, r_n, done_n, info_n = self.env.step(action_n)\n",
    "        if obs_n[0] is None:\n",
    "            return obs_n, r_n, done_n, info_n\n",
    "\n",
    "        # track the click\n",
    "        # append the color plane to observation\n",
    "        # if episode is done, reset the click buffer\n",
    "        raise NotImplementedError\n",
    "        return obs_n, r_n, done_n, info_n"
   ]
  },
  {
   "cell_type": "markdown",
   "metadata": {
    "colab_type": "text",
    "heading_collapsed": true,
    "id": "_PiZH1hjpxkj"
   },
   "source": [
    "## Tests"
   ]
  },
  {
   "cell_type": "code",
   "execution_count": 51,
   "metadata": {
    "colab": {
     "base_uri": "https://localhost:8080/",
     "height": 241
    },
    "colab_type": "code",
    "hidden": true,
    "id": "OZoK6Ch1pxkk",
    "outputId": "c105fc02-d725-4308-ec7a-c081e0de2775"
   },
   "outputs": [
    {
     "name": "stderr",
     "output_type": "stream",
     "text": [
      "[2019-07-10 11:53:47,826] Making new env: wob.mini.ClickDialog-v0\n",
      "/usr/local/lib/python3.6/dist-packages/gym/envs/registration.py:17: PkgResourcesDeprecationWarning: Parameters to load are deprecated.  Call .resolve and .require separately.\n",
      "  result = entry_point.load(False)\n",
      "[2019-07-10 11:53:47,837] Using SoftmaxClickMouse with action_region=(10, 125, 170, 285), noclick_regions=[]\n",
      "[2019-07-10 11:53:47,842] SoftmaxClickMouse noclick regions removed 0 of 256 actions\n",
      "[2019-07-10 11:53:47,850] Using the golang VNC implementation\n",
      "[2019-07-10 11:53:47,853] Using VNCSession arguments: {'encoding': 'tight', 'compress_level': 0, 'fine_quality_level': 100, 'subsample_level': 0, 'start_timeout': 7}. (Customize by running \"env.configure(vnc_kwargs={...})\"\n",
      "[2019-07-10 11:53:47,858] [0] Connecting to environment: vnc://193.49.213.5:5900 password=openai. If desired, you can manually connect a VNC viewer, such as TurboVNC. Most environments provide a convenient in-browser VNC client: http://193.49.213.5:15900/viewer/?password=openai\n"
     ]
    },
    {
     "name": "stdout",
     "output_type": "stream",
     "text": [
      "Remotes URL: vnc://193.49.213.5:5900+15900\n"
     ]
    },
    {
     "name": "stderr",
     "output_type": "stream",
     "text": [
      "[2019-07-10 11:54:08,115] [0:193.49.213.5:5900] ntpdate -q -p 8 193.49.213.5 call timed out after 20.0s; killing the subprocess. This is ok, but you could have more accurate timings by enabling UDP port 123 traffic to your env. (Alternatively, you can try increasing the timeout by setting environment variable UNIVERSE_NTPDATE_TIMEOUT=10.)\n",
      "[2019-07-10 11:54:10,270] [0:193.49.213.5:5900] Sending reset for env_id=wob.mini.ClickDialog-v0 fps=60 episode_id=0\n",
      "[2019-07-10 11:54:10,390] [0:193.49.213.5:5900] Initial reset complete: episode_id=15332\n"
     ]
    }
   ],
   "source": [
    "def wrapper_func(env):\n",
    "    env = MiniWoBCropper(env)\n",
    "    env = SoftmaxClickMouse(env)\n",
    "    env = MiniWoBTrackClicks(env)\n",
    "    return env\n",
    "\n",
    "env = make_env(wrapper_func = wrapper_func, fps=5)\n",
    "obs_n = join_env(env);"
   ]
  },
  {
   "cell_type": "code",
   "execution_count": 0,
   "metadata": {
    "colab": {},
    "colab_type": "code",
    "hidden": true,
    "id": "Ymp64aA8pxkn"
   },
   "outputs": [],
   "source": [
    "assert obs_n[0].shape == (4, 210, 160)"
   ]
  },
  {
   "cell_type": "code",
   "execution_count": 53,
   "metadata": {
    "colab": {
     "base_uri": "https://localhost:8080/",
     "height": 34
    },
    "colab_type": "code",
    "hidden": true,
    "id": "KHCcJ-e3pxkp",
    "outputId": "59420023-60e8-4a17-bffe-2257b806dc50"
   },
   "outputs": [
    {
     "name": "stderr",
     "output_type": "stream",
     "text": [
      "[2019-07-10 11:54:24,884] Throttle fell behind by 14.17s; lost 70.85 frames\n"
     ]
    }
   ],
   "source": [
    "# wait for fresh observation\n",
    "while True:\n",
    "    _, _, is_done_n, _ = env.step([0])\n",
    "    if is_done_n[0]:\n",
    "        break\n",
    "o0, _, _, _ = env.step([0])\n",
    "o255, _, _, _ = env.step([255])\n",
    "o15, _, _, _ = env.step([15])"
   ]
  },
  {
   "cell_type": "code",
   "execution_count": 0,
   "metadata": {
    "colab": {},
    "colab_type": "code",
    "hidden": true,
    "id": "I7Z_Y698pxkt"
   },
   "outputs": [],
   "source": [
    "assert (o0[0][3,:,:] == 255).sum() == 100\n",
    "assert (o255[0][3,:,:] == 255).sum() == 200\n",
    "assert (o15[0][3,:,:] == 255).sum() == 300"
   ]
  },
  {
   "cell_type": "code",
   "execution_count": 0,
   "metadata": {
    "colab": {},
    "colab_type": "code",
    "hidden": true,
    "id": "kB6gg1FLpxkv"
   },
   "outputs": [],
   "source": [
    "nz0 = o0[0][3,:,:].nonzero()\n",
    "assert (nz0[0] == [50, 50, 50, 50, 50, 50, 50, 50, 50, 50, 51, 51, 51, 51, 51, 51, 51,\n",
    "        51, 51, 51, 52, 52, 52, 52, 52, 52, 52, 52, 52, 52, 53, 53, 53, 53,\n",
    "        53, 53, 53, 53, 53, 53, 54, 54, 54, 54, 54, 54, 54, 54, 54, 54, 55,\n",
    "        55, 55, 55, 55, 55, 55, 55, 55, 55, 56, 56, 56, 56, 56, 56, 56, 56,\n",
    "        56, 56, 57, 57, 57, 57, 57, 57, 57, 57, 57, 57, 58, 58, 58, 58, 58,\n",
    "        58, 58, 58, 58, 58, 59, 59, 59, 59, 59, 59, 59, 59, 59, 59]).all()\n",
    "assert (nz0[1] == [0, 1, 2, 3, 4, 5, 6, 7, 8, 9, 0, 1, 2, 3, 4, 5, 6, 7, 8, 9, 0, 1,\n",
    "       2, 3, 4, 5, 6, 7, 8, 9, 0, 1, 2, 3, 4, 5, 6, 7, 8, 9, 0, 1, 2, 3,\n",
    "       4, 5, 6, 7, 8, 9, 0, 1, 2, 3, 4, 5, 6, 7, 8, 9, 0, 1, 2, 3, 4, 5,\n",
    "       6, 7, 8, 9, 0, 1, 2, 3, 4, 5, 6, 7, 8, 9, 0, 1, 2, 3, 4, 5, 6, 7,\n",
    "       8, 9, 0, 1, 2, 3, 4, 5, 6, 7, 8, 9]).all()"
   ]
  },
  {
   "cell_type": "code",
   "execution_count": 0,
   "metadata": {
    "colab": {},
    "colab_type": "code",
    "hidden": true,
    "id": "UrHU0xtlpxkx"
   },
   "outputs": [],
   "source": [
    "assert (o15[0][3,200:210,0:10] == 255).all()"
   ]
  },
  {
   "cell_type": "markdown",
   "metadata": {
    "colab_type": "text",
    "heading_collapsed": true,
    "id": "xCm0F-Bcpxkz"
   },
   "source": [
    "## Solution"
   ]
  },
  {
   "cell_type": "code",
   "execution_count": 0,
   "metadata": {
    "colab": {},
    "colab_type": "code",
    "hidden": true,
    "id": "RbjNOCkcpxk0"
   },
   "outputs": [],
   "source": [
    "class MiniWoBTrackClicks(vectorized.Wrapper):\n",
    "    \"\"\"\n",
    "    Track the clicks\n",
    "    \"\"\"\n",
    "    def __init__(self, env):\n",
    "        super(MiniWoBTrackClicks, self).__init__(env)\n",
    "        s = env.observation_space.shape\n",
    "        self.clicks_buf = np.zeros(s[1:], dtype=np.uint8)\n",
    "        self.observation_space = gym.spaces.Box(low=0, high=255, shape=(s[0]+1, s[1], s[2]))\n",
    "\n",
    "    def reset(self):\n",
    "        self.clicks_buf[:] = 0\n",
    "        return self.env.reset()\n",
    "    \n",
    "    def step(self, action_n):\n",
    "        # TODO: implement me properly for N environments :)\n",
    "        obs_n, r_n, done_n, info_n = self.env.step(action_n)\n",
    "        if obs_n[0] is None:\n",
    "            return obs_n, r_n, done_n, info_n\n",
    "\n",
    "        # track the click\n",
    "        x = action_n[0] // 16\n",
    "        y = action_n[0] % 16 + 5    # +5 is needed to offset click region down 50 pixels\n",
    "        self.clicks_buf[y*10:(y+1)*10, x*10:(x+1)*10] = 255\n",
    "        \n",
    "        obs_n[0] = np.vstack((obs_n[0], [self.clicks_buf]))\n",
    "        if done_n[0]:\n",
    "            self.clicks_buf[:] = 0\n",
    "        return obs_n, r_n, done_n, info_n"
   ]
  },
  {
   "cell_type": "markdown",
   "metadata": {
    "colab_type": "text",
    "heading_collapsed": true,
    "id": "wWe8-t6QpxlN"
   },
   "source": [
    "## Click and wait obs transformation"
   ]
  },
  {
   "cell_type": "code",
   "execution_count": 0,
   "metadata": {
    "colab": {},
    "colab_type": "code",
    "hidden": true,
    "id": "k_aJQUYDpxlN"
   },
   "outputs": [],
   "source": [
    "class MiniWoBSlowpoke(vectorized.Wrapper):\n",
    "    \"\"\"\n",
    "    Sleeps after every click\n",
    "    \"\"\"\n",
    "    def __init__(self, env, click_delay: float = 0.5):\n",
    "        super(MiniWoBSlowpoke, self).__init__(env)\n",
    "        self.click_delay = click_delay\n",
    "        self.click_ts = None\n",
    "\n",
    "    def reset(self):\n",
    "        self.click_ts = None\n",
    "        return self.env.reset()\n",
    "    \n",
    "    def step(self, action_n):\n",
    "        # wait if the time budget is positive using time.sleep() function\n",
    "        # do the step\n",
    "        # track the click time (do not forget about the case when done_n[0] == True)\n",
    "        raise NotImplementedError"
   ]
  },
  {
   "cell_type": "markdown",
   "metadata": {
    "colab_type": "text",
    "heading_collapsed": true,
    "id": "J2AGAFdvpxlP"
   },
   "source": [
    "## Tests"
   ]
  },
  {
   "cell_type": "code",
   "execution_count": 58,
   "metadata": {
    "colab": {
     "base_uri": "https://localhost:8080/",
     "height": 241
    },
    "colab_type": "code",
    "hidden": true,
    "id": "nkTsJ1UfpxlP",
    "outputId": "b6f75cf8-b370-441d-e6b9-9513e9032294"
   },
   "outputs": [
    {
     "name": "stderr",
     "output_type": "stream",
     "text": [
      "[2019-07-10 11:54:55,431] Making new env: wob.mini.ClickDialog-v0\n",
      "/usr/local/lib/python3.6/dist-packages/gym/envs/registration.py:17: PkgResourcesDeprecationWarning: Parameters to load are deprecated.  Call .resolve and .require separately.\n",
      "  result = entry_point.load(False)\n",
      "[2019-07-10 11:54:55,442] Using SoftmaxClickMouse with action_region=(10, 125, 170, 285), noclick_regions=[]\n",
      "[2019-07-10 11:54:55,451] SoftmaxClickMouse noclick regions removed 0 of 256 actions\n",
      "[2019-07-10 11:54:55,455] Using the golang VNC implementation\n",
      "[2019-07-10 11:54:55,460] Using VNCSession arguments: {'encoding': 'tight', 'compress_level': 0, 'fine_quality_level': 100, 'subsample_level': 0, 'start_timeout': 7}. (Customize by running \"env.configure(vnc_kwargs={...})\"\n",
      "[2019-07-10 11:54:55,466] [0] Connecting to environment: vnc://193.49.213.5:5900 password=openai. If desired, you can manually connect a VNC viewer, such as TurboVNC. Most environments provide a convenient in-browser VNC client: http://193.49.213.5:15900/viewer/?password=openai\n"
     ]
    },
    {
     "name": "stdout",
     "output_type": "stream",
     "text": [
      "Remotes URL: vnc://193.49.213.5:5900+15900\n"
     ]
    },
    {
     "name": "stderr",
     "output_type": "stream",
     "text": [
      "[2019-07-10 11:55:15,728] [0:193.49.213.5:5900] ntpdate -q -p 8 193.49.213.5 call timed out after 20.0s; killing the subprocess. This is ok, but you could have more accurate timings by enabling UDP port 123 traffic to your env. (Alternatively, you can try increasing the timeout by setting environment variable UNIVERSE_NTPDATE_TIMEOUT=10.)\n",
      "[2019-07-10 11:55:17,882] [0:193.49.213.5:5900] Sending reset for env_id=wob.mini.ClickDialog-v0 fps=60 episode_id=0\n",
      "[2019-07-10 11:55:23,102] [0:193.49.213.5:5900] Initial reset complete: episode_id=15340\n"
     ]
    }
   ],
   "source": [
    "def wrapper_func(env):\n",
    "    env = MiniWoBCropper(env)\n",
    "    env = SoftmaxClickMouse(env)\n",
    "    env = MiniWoBSlowpoke(env, click_delay=1)\n",
    "    return env\n",
    "\n",
    "env = make_env(wrapper_func = wrapper_func, fps=5)\n",
    "join_env(env);"
   ]
  },
  {
   "cell_type": "code",
   "execution_count": 59,
   "metadata": {
    "colab": {
     "base_uri": "https://localhost:8080/",
     "height": 119
    },
    "colab_type": "code",
    "hidden": true,
    "id": "-4rKICWOpxlS",
    "outputId": "ec988acb-132b-4caf-a5b2-daf6d4588fd8"
   },
   "outputs": [
    {
     "name": "stdout",
     "output_type": "stream",
     "text": [
      "Episode done, 5 left\n",
      "Episode done, 4 left\n",
      "Episode done, 3 left\n",
      "Episode done, 2 left\n",
      "Episode done, 1 left\n",
      "Episode done, 0 left\n"
     ]
    }
   ],
   "source": [
    "# FPS=5 should give us 10 frames in wrapped environment and 50 in unwrapped for each episode\n",
    "frames = 0\n",
    "episodes = 6\n",
    "while episodes > 0:\n",
    "    # clicking in top-left corner, we should get no reward from this action\n",
    "    # it should be fine to sleep a bit\n",
    "    time.sleep(0.4)\n",
    "    _, _, is_done_n, _ = env.step([0])\n",
    "    # do not take into account first episode, it will be partial\n",
    "    if episodes < 6:\n",
    "        frames += 1\n",
    "    if is_done_n[0]:\n",
    "        episodes -= 1\n",
    "        print(\"Episode done, %d left\" % episodes)"
   ]
  },
  {
   "cell_type": "code",
   "execution_count": 0,
   "metadata": {
    "colab": {},
    "colab_type": "code",
    "hidden": true,
    "id": "-U6aGJd6pxlU"
   },
   "outputs": [],
   "source": [
    "assert 8 < frames/5 < 13"
   ]
  },
  {
   "cell_type": "markdown",
   "metadata": {
    "colab_type": "text",
    "id": "MyAq9yyqpxlX"
   },
   "source": [
    "## Solution\n",
    "\n",
    "Spoiler alert!"
   ]
  },
  {
   "cell_type": "code",
   "execution_count": 0,
   "metadata": {
    "colab": {},
    "colab_type": "code",
    "id": "NQt4LdHfpxlY"
   },
   "outputs": [],
   "source": [
    "class MiniWoBSlowpoke(vectorized.Wrapper):\n",
    "    \"\"\"\n",
    "    Limits the amount of time we can click.\n",
    "    \"\"\"\n",
    "    def __init__(self, env, click_delay: float = 1):\n",
    "        super(MiniWoBSlowpoke, self).__init__(env)\n",
    "        self.click_delay = click_delay\n",
    "        self.click_ts = None\n",
    "\n",
    "    def reset(self):\n",
    "        self.click_ts = None\n",
    "        return self.env.reset()\n",
    "    \n",
    "    def step(self, action_n):\n",
    "        # TODO: implement me properly for N environments :)\n",
    "        if self.click_ts is not None:\n",
    "            dt = self.click_delay - (time.time() - self.click_ts)\n",
    "            if dt > 0:\n",
    "                time.sleep(dt)\n",
    "        obs_n, r_n, done_n, info_n = self.env.step(action_n)\n",
    "        if done_n[0]:\n",
    "            self.click_ts = None\n",
    "        else:\n",
    "            self.click_ts = time.time()\n",
    "        return obs_n, r_n, done_n, info_n"
   ]
  },
  {
   "cell_type": "markdown",
   "metadata": {
    "colab_type": "text",
    "id": "E0KS6p8ipxlZ"
   },
   "source": [
    "# Checking the effect"
   ]
  },
  {
   "cell_type": "code",
   "execution_count": 0,
   "metadata": {
    "colab": {},
    "colab_type": "code",
    "id": "GYMQ4yzVpxla"
   },
   "outputs": [],
   "source": [
    "GAMMA = 0.9\n",
    "REPLAY_SIZE = 10000\n",
    "MIN_REPLAY = 100\n",
    "TGT_SYNC = 100\n",
    "BATCH_SIZE = 16\n",
    "LR = 1e-4\n",
    "DEVICE = \"cuda\"  \n",
    "#DEVICE = \"cpu\"\n",
    "\n",
    "INITIAL_EPSILON = 1.0\n",
    "FINAL_EPSILON = 0.2\n",
    "STEPS_EPSILON = 1000\n",
    "LIMIT_STEPS = 1500"
   ]
  },
  {
   "cell_type": "code",
   "execution_count": 62,
   "metadata": {
    "colab": {
     "base_uri": "https://localhost:8080/",
     "height": 241
    },
    "colab_type": "code",
    "id": "Tr0tMCsxpxlb",
    "outputId": "745774ca-1310-4a4a-8b05-840c63202cc3"
   },
   "outputs": [
    {
     "name": "stderr",
     "output_type": "stream",
     "text": [
      "[2019-07-10 11:57:01,199] Making new env: wob.mini.ClickDialog-v0\n",
      "/usr/local/lib/python3.6/dist-packages/gym/envs/registration.py:17: PkgResourcesDeprecationWarning: Parameters to load are deprecated.  Call .resolve and .require separately.\n",
      "  result = entry_point.load(False)\n",
      "[2019-07-10 11:57:01,210] Using SoftmaxClickMouse with action_region=(10, 125, 170, 285), noclick_regions=[]\n",
      "[2019-07-10 11:57:01,216] SoftmaxClickMouse noclick regions removed 0 of 256 actions\n",
      "[2019-07-10 11:57:01,221] Using the golang VNC implementation\n",
      "[2019-07-10 11:57:01,222] Using VNCSession arguments: {'encoding': 'tight', 'compress_level': 0, 'fine_quality_level': 100, 'subsample_level': 0, 'start_timeout': 7}. (Customize by running \"env.configure(vnc_kwargs={...})\"\n",
      "[2019-07-10 11:57:01,237] [0] Connecting to environment: vnc://193.49.213.5:5900 password=openai. If desired, you can manually connect a VNC viewer, such as TurboVNC. Most environments provide a convenient in-browser VNC client: http://193.49.213.5:15900/viewer/?password=openai\n"
     ]
    },
    {
     "name": "stdout",
     "output_type": "stream",
     "text": [
      "Remotes URL: vnc://193.49.213.5:5900+15900\n"
     ]
    },
    {
     "name": "stderr",
     "output_type": "stream",
     "text": [
      "[2019-07-10 11:57:21,493] [0:193.49.213.5:5900] ntpdate -q -p 8 193.49.213.5 call timed out after 20.0s; killing the subprocess. This is ok, but you could have more accurate timings by enabling UDP port 123 traffic to your env. (Alternatively, you can try increasing the timeout by setting environment variable UNIVERSE_NTPDATE_TIMEOUT=10.)\n",
      "[2019-07-10 11:57:23,651] [0:193.49.213.5:5900] Sending reset for env_id=wob.mini.ClickDialog-v0 fps=60 episode_id=0\n",
      "[2019-07-10 11:57:23,896] [0:193.49.213.5:5900] Initial reset complete: episode_id=15353\n"
     ]
    }
   ],
   "source": [
    "def wrapper_func(env):\n",
    "    env = MiniWoBCropper(env)\n",
    "    env = SoftmaxClickMouse(env)\n",
    "    env = MiniWoBTrackClicks(env)\n",
    "    env = MiniWoBSlowpoke(env, click_delay=0.5)\n",
    "    return env\n",
    "\n",
    "env = make_env(wrapper_func = wrapper_func, fps=5)\n",
    "obs_n = join_env(env);"
   ]
  },
  {
   "cell_type": "code",
   "execution_count": 0,
   "metadata": {
    "colab": {},
    "colab_type": "code",
    "id": "XLaJZBjTpxld"
   },
   "outputs": [],
   "source": [
    "net = Model(env.observation_space.shape, env.action_space.n).to(DEVICE)\n",
    "tgt_net = ptan.agent.TargetNet(net)\n",
    "\n",
    "parent_selector = ptan.actions.ArgmaxActionSelector()\n",
    "action_selector = ptan.actions.EpsilonGreedyActionSelector(epsilon=INITIAL_EPSILON, selector=parent_selector) \n",
    "agent = ptan.agent.DQNAgent(net, action_selector, device=DEVICE)\n",
    "exp_source = ptan.experience.ExperienceSourceFirstLast(env, agent, gamma=GAMMA, vectorized=True)\n",
    "\n",
    "buffer = ptan.experience.ExperienceReplayBuffer(exp_source, REPLAY_SIZE)\n",
    "optimizer = optim.Adam(net.parameters(), LR)"
   ]
  },
  {
   "cell_type": "code",
   "execution_count": 0,
   "metadata": {
    "colab": {
     "base_uri": "https://localhost:8080/",
     "height": 476
    },
    "colab_type": "code",
    "id": "r-iFUqrApxlf",
    "outputId": "ea356b94-1c0f-4b6c-f716-f58eb3920932"
   },
   "outputs": [
    {
     "name": "stderr",
     "output_type": "stream",
     "text": [
      "[2019-07-10 11:57:24,118] [0:193.49.213.5:5900] Sending reset for env_id=wob.mini.ClickDialog-v0 fps=60 episode_id=0\n"
     ]
    },
    {
     "name": "stdout",
     "output_type": "stream",
     "text": [
      "18: Done 1 episodes, last 10 means: reward=-1.000, steps=18.000, speed=1.81 steps/s, eps=1.00\n",
      "29: Done 2 episodes, last 10 means: reward=-0.260, steps=15.000, speed=1.92 steps/s, eps=1.00\n",
      "50: Done 3 episodes, last 10 means: reward=-0.506, steps=17.333, speed=1.95 steps/s, eps=1.00\n",
      "65: Done 4 episodes, last 10 means: reward=-0.314, steps=17.000, speed=1.94 steps/s, eps=1.00\n",
      "75: Done 5 episodes, last 10 means: reward=-0.145, steps=15.800, speed=1.91 steps/s, eps=1.00\n",
      "96: Done 6 episodes, last 10 means: reward=-0.288, steps=16.833, speed=1.95 steps/s, eps=1.00\n",
      "100: nets synced, mean loss for last 10 steps = 0.054\n",
      "109: Done 7 episodes, last 10 means: reward=-0.247, steps=16.429, speed=1.82 steps/s, eps=0.99\n",
      "129: Done 8 episodes, last 10 means: reward=-0.296, steps=17.000, speed=1.88 steps/s, eps=0.97\n",
      "148: Done 9 episodes, last 10 means: reward=-0.374, steps=17.333, speed=1.88 steps/s, eps=0.95\n",
      "168: Done 10 episodes, last 10 means: reward=-0.437, steps=17.700, speed=1.88 steps/s, eps=0.93\n",
      "188: Done 11 episodes, last 10 means: reward=-0.437, steps=18.000, speed=1.88 steps/s, eps=0.91\n",
      "200: nets synced, mean loss for last 10 steps = 0.039\n",
      "208: Done 12 episodes, last 10 means: reward=-0.585, steps=18.900, speed=1.89 steps/s, eps=0.89\n",
      "228: Done 13 episodes, last 10 means: reward=-0.585, steps=18.800, speed=1.88 steps/s, eps=0.87\n",
      "247: Done 14 episodes, last 10 means: reward=-0.711, steps=19.200, speed=1.88 steps/s, eps=0.85\n",
      "257: Done 15 episodes, last 10 means: reward=-0.712, steps=19.200, speed=1.79 steps/s, eps=0.84\n",
      "277: Done 16 episodes, last 10 means: reward=-0.712, steps=19.100, speed=1.88 steps/s, eps=0.82\n",
      "297: Done 17 episodes, last 10 means: reward=-0.812, steps=19.800, speed=1.88 steps/s, eps=0.80\n",
      "300: nets synced, mean loss for last 10 steps = 0.033\n",
      "303: Done 18 episodes, last 10 means: reward=-0.680, steps=18.400, speed=1.67 steps/s, eps=0.80\n",
      "308: Done 19 episodes, last 10 means: reward=-0.506, steps=17.000, speed=1.63 steps/s, eps=0.79\n",
      "328: Done 20 episodes, last 10 means: reward=-0.506, steps=17.000, speed=1.88 steps/s, eps=0.77\n",
      "348: Done 21 episodes, last 10 means: reward=-0.506, steps=17.000, speed=1.89 steps/s, eps=0.75\n",
      "368: Done 22 episodes, last 10 means: reward=-0.506, steps=17.000, speed=1.89 steps/s, eps=0.73\n",
      "378: Done 23 episodes, last 10 means: reward=-0.359, steps=16.000, speed=1.79 steps/s, eps=0.72\n"
     ]
    }
   ],
   "source": [
    "best_weights = None\n",
    "best_mean10_reward = None\n",
    "episode_rewards = []\n",
    "episode_steps = []\n",
    "losses = []\n",
    "steps = 0\n",
    "last_ts = time.time()\n",
    "last_steps = 0\n",
    "\n",
    "while steps < LIMIT_STEPS:\n",
    "    steps += 1\n",
    "    buffer.populate(1)\n",
    "    r = exp_source.pop_rewards_steps()\n",
    "    if r:\n",
    "        for rw, st in r:\n",
    "            episode_rewards.append(rw)\n",
    "            episode_steps.append(st)\n",
    "        speed = (steps - last_steps) / (time.time() - last_ts)\n",
    "        print(\"%d: Done %d episodes, last 10 means: reward=%.3f, steps=%.3f, speed=%.2f steps/s, eps=%.2f\" % (\n",
    "            steps, len(episode_rewards), np.mean(episode_rewards[-10:]), \n",
    "            np.mean(episode_steps[-10:]), speed, action_selector.epsilon\n",
    "        ))\n",
    "        last_ts = time.time()\n",
    "        last_steps = steps\n",
    "        if np.mean(episode_rewards[-10:]) > 0.9:\n",
    "            print(\"You solved the env! Congrats!\")\n",
    "            break\n",
    "    if len(buffer) < MIN_REPLAY:\n",
    "        continue\n",
    "    batch = buffer.sample(BATCH_SIZE)\n",
    "    state_v, actions_v, ref_q_v = unpack_batch(batch, tgt_net.target_model, gamma=GAMMA, device=DEVICE)\n",
    "    optimizer.zero_grad()\n",
    "    q_v = net(state_v)\n",
    "    q_v = q_v.gather(1, actions_v.unsqueeze(-1)).squeeze(-1)\n",
    "    loss_v = F.mse_loss(q_v, ref_q_v)\n",
    "    loss_v.backward()\n",
    "    optimizer.step()\n",
    "    losses.append(loss_v.item())\n",
    "    \n",
    "    if steps % TGT_SYNC == 0:\n",
    "        print(\"%d: nets synced, mean loss for last 10 steps = %.3f\" % (\n",
    "            steps, np.mean(losses[-10:])))\n",
    "        tgt_net.sync()\n",
    "    action_selector.epsilon = max(FINAL_EPSILON, INITIAL_EPSILON - (steps-MIN_REPLAY) / STEPS_EPSILON)\n",
    "    \n",
    "    if action_selector.epsilon < 0.4:\n",
    "        m10_reward = np.mean(episode_rewards[-10:])\n",
    "        if best_mean10_reward is None or m10_reward > best_mean10_reward:\n",
    "            print(\"%d: best reward updated: %s -> %.3f, weights saved\" % (\n",
    "                steps, best_mean10_reward, m10_reward\n",
    "            ))\n",
    "            best_mean10_reward = m10_reward\n",
    "            # deep copy is required as state_dict() is just reference to tensors which are being kept on GPU\n",
    "            best_weights = copy.deepcopy(net.state_dict())"
   ]
  },
  {
   "cell_type": "code",
   "execution_count": 0,
   "metadata": {
    "colab": {},
    "colab_type": "code",
    "id": "7aBuznvFpxlh"
   },
   "outputs": [],
   "source": [
    "# testing the best weights\n",
    "net.load_state_dict(best_weights)\n",
    "TEST_EPISODES = 10\n",
    "\n",
    "rewards = []\n",
    "steps = []\n",
    "while len(rewards) < TEST_EPISODES:\n",
    "    cur_reward = 0\n",
    "    cur_steps = 0\n",
    "    obs_n = join_env(env)\n",
    "    while True:\n",
    "        obs_t = torch.tensor(obs_n).to(DEVICE)\n",
    "        q_t = net(obs_t)\n",
    "        action = q_t.max(dim=1).indices[0].item()\n",
    "        obs_n, reward_n, is_done_n, _ = env.step([action])\n",
    "        cur_reward += reward_n[0]\n",
    "        cur_steps += 1\n",
    "        if is_done_n[0]:\n",
    "            break\n",
    "    rewards.append(cur_reward)\n",
    "    steps.append(cur_steps)\n",
    "    print(\"Episode done in %d steps with %.3f reward\" % (cur_steps, cur_reward))\n",
    "print(\"Mean reward for %d episodes is %.3f, steps %.3f\" % (TEST_EPISODES, np.mean(rewards), np.mean(steps)))"
   ]
  },
  {
   "cell_type": "markdown",
   "metadata": {
    "colab_type": "text",
    "id": "tPyDaOMfpxlk"
   },
   "source": [
    "Oh, the problem is open-ended! Will give a beer to the first who makes the damn thing working :). Otherwise, the beer will go to TAs, they worth it.\n",
    "\n",
    "The interesting thing is that A2C method converges much better without any tweaking ([code is here](https://github.com/PacktPublishing/Deep-Reinforcement-Learning-Hands-On/tree/master/Chapter13)), but requires 6-8 containers running in parallel due to on-policy.\n"
   ]
  },
  {
   "cell_type": "code",
   "execution_count": 0,
   "metadata": {
    "colab": {},
    "colab_type": "code",
    "id": "9MfcsaXzpxlk"
   },
   "outputs": [],
   "source": [
    ""
   ]
  }
 ],
 "metadata": {
  "accelerator": "GPU",
  "colab": {
   "collapsed_sections": [
    "xCm0F-Bcpxkz",
    "MyAq9yyqpxlX"
   ],
   "name": "03_miniwob_troubleshooting.ipynb",
   "provenance": [],
   "version": "0.3.2"
  },
  "kernelspec": {
   "display_name": "Python 3",
   "name": "python3"
  },
  "language_info": {
   "codemirror_mode": {
    "name": "ipython",
    "version": 3
   },
   "file_extension": ".py",
   "mimetype": "text/x-python",
   "name": "python",
   "nbconvert_exporter": "python",
   "pygments_lexer": "ipython3",
   "version": "3.6.8"
  }
 },
 "nbformat": 4,
 "nbformat_minor": 0
}
