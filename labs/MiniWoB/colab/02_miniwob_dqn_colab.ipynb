{
 "cells": [
  {
   "cell_type": "markdown",
   "metadata": {
    "colab_type": "text",
    "id": "c7qBaQVckqEN"
   },
   "source": [
    "You should attach GPU to your runtime"
   ]
  },
  {
   "cell_type": "markdown",
   "metadata": {
    "colab_type": "text",
    "id": "afT14efUjiVu"
   },
   "source": [
    "# Imports/tools"
   ]
  },
  {
   "cell_type": "code",
   "execution_count": 0,
   "metadata": {
    "colab": {},
    "colab_type": "code",
    "id": "Yhq_mNkwjiV0"
   },
   "outputs": [],
   "source": [
    "import gym\n",
    "import ptan\n",
    "import time\n",
    "import copy\n",
    "import numpy as np\n",
    "import universe\n",
    "from typing import List, Optional, Tuple\n",
    "from universe import vectorized\n",
    "from universe.wrappers.experimental import SoftmaxClickMouse\n",
    "\n",
    "from PIL import Image\n",
    "import matplotlib.pylab as plt\n",
    "\n",
    "%matplotlib inline"
   ]
  },
  {
   "cell_type": "code",
   "execution_count": 0,
   "metadata": {
    "colab": {},
    "colab_type": "code",
    "id": "wWmaw2v7jiV2"
   },
   "outputs": [],
   "source": [
    "ENV_NAME = \"wob.mini.ClickDialog-v0\"\n",
    "PORT_OFFSET = <FILLME>\n",
    "VM_ADDRESS = \"193.49.213.5\""
   ]
  },
  {
   "cell_type": "code",
   "execution_count": 0,
   "metadata": {
    "colab": {},
    "colab_type": "code",
    "id": "Y3H13fo2jiV4"
   },
   "outputs": [],
   "source": [
    "# function to build connection endpoints for set of containers\n",
    "def remotes_url(port_ofs=PORT_OFFSET, hostname=VM_ADDRESS, count=1):\n",
    "    hosts = [\"%s:%d+%d\" % (hostname, 5900 + ofs, 15900 + ofs) for ofs in range(port_ofs, port_ofs+count)]\n",
    "    return \"vnc://\" + \",\".join(hosts)"
   ]
  },
  {
   "cell_type": "code",
   "execution_count": 0,
   "metadata": {
    "colab": {},
    "colab_type": "code",
    "id": "vx1OxWAujiV7"
   },
   "outputs": [],
   "source": [
    "def make_env(wrapper_func = lambda env: env, count: int = 1, fps: float = 5) -> universe.envs.VNCEnv:\n",
    "    \"\"\"\n",
    "    Builds the vectorized env\n",
    "    \"\"\"\n",
    "    env = gym.make(ENV_NAME)\n",
    "    env = wrapper_func(env)\n",
    "    url = remotes_url(count=count)\n",
    "    print(\"Remotes URL: %s\" % url)\n",
    "\n",
    "    env.configure(remotes=url, fps=fps, vnc_kwargs={\n",
    "            'encoding': 'tight', 'compress_level': 0,\n",
    "            'fine_quality_level': 100, 'subsample_level': 0\n",
    "        })\n",
    "    return env"
   ]
  },
  {
   "cell_type": "code",
   "execution_count": 0,
   "metadata": {
    "colab": {},
    "colab_type": "code",
    "id": "obuJddksjiV-"
   },
   "outputs": [],
   "source": [
    "def join_env(env: universe.envs.VNCEnv):\n",
    "    \"\"\"\n",
    "    Function performs initial reset of the env and waits for observations to become ready\n",
    "    \"\"\"\n",
    "    obs_n = env.reset()\n",
    "    while any(map(lambda o: o is None, obs_n)):\n",
    "        a = [env.action_space.sample() for _ in obs_n]\n",
    "        obs_n, reward, is_done, info = env.step(a)\n",
    "    return obs_n"
   ]
  },
  {
   "cell_type": "code",
   "execution_count": 0,
   "metadata": {
    "colab": {},
    "colab_type": "code",
    "id": "5AnKAI8vjiWA"
   },
   "outputs": [],
   "source": [
    "class MiniWoBCropper(vectorized.ObservationWrapper):\n",
    "    \"\"\"\n",
    "    Crops the WoB area and converts the observation into PyTorch (C, H, W) format.\n",
    "    \"\"\"\n",
    "    # Area of interest\n",
    "    WIDTH = 160\n",
    "    HEIGHT = 210\n",
    "    X_OFS = 10\n",
    "    Y_OFS = 75\n",
    "    \n",
    "    def __init__(self, env, keep_text=False):\n",
    "        super(MiniWoBCropper, self).__init__(env)\n",
    "        self.keep_text = keep_text\n",
    "        img_space = gym.spaces.Box(low=0, high=255, shape=(3, self.HEIGHT, self.WIDTH))\n",
    "        if keep_text:\n",
    "            self.observation_space = gym.spaces.Tuple(spaces=(img_space, gym.spaces.Space))\n",
    "        else:\n",
    "            self.observation_space = img_space\n",
    "\n",
    "    def _observation(self, observation_n):\n",
    "        res = []\n",
    "        for obs in observation_n:\n",
    "            if obs is None:\n",
    "                res.append(obs)\n",
    "                continue\n",
    "            img = obs['vision'][self.Y_OFS:self.Y_OFS+self.HEIGHT, self.X_OFS:self.X_OFS+self.WIDTH, :]\n",
    "            img = np.transpose(img, (2, 0, 1))\n",
    "            if self.keep_text:\n",
    "                text = \" \".join(map(lambda d: d.get('instruction', ''), obs.get('text', [{}])))\n",
    "                res.append((img, text))\n",
    "            else:\n",
    "                res.append(img)\n",
    "        return res"
   ]
  },
  {
   "cell_type": "markdown",
   "metadata": {
    "colab_type": "text",
    "id": "WkJwzzatjiWD"
   },
   "source": [
    "# Basic DQN baseline\n",
    "\n",
    "With all those simplifications done, we can implement basic DQN agent to solve some environments."
   ]
  },
  {
   "cell_type": "code",
   "execution_count": 0,
   "metadata": {
    "colab": {},
    "colab_type": "code",
    "id": "qihTYiRpjiWD"
   },
   "outputs": [],
   "source": [
    "import torch\n",
    "import torch.nn as nn\n",
    "import torch.nn.functional as F\n",
    "import torch.optim as optim"
   ]
  },
  {
   "cell_type": "markdown",
   "metadata": {
    "colab_type": "text",
    "id": "fhhSjSZ9jiWG"
   },
   "source": [
    "## Model \n",
    "\n",
    "Below is the model we're going to use. Nothing fancy, just two convolution layers followed by single FC-layer, returning Q-values for our 256 click locations."
   ]
  },
  {
   "cell_type": "code",
   "execution_count": 0,
   "metadata": {
    "colab": {},
    "colab_type": "code",
    "id": "DwzA48BdjiWI"
   },
   "outputs": [],
   "source": [
    "class Model(nn.Module):\n",
    "    def __init__(self, input_shape, n_actions):\n",
    "        super(Model, self).__init__()\n",
    "\n",
    "        self.conv = nn.Sequential(\n",
    "            nn.Conv2d(input_shape[0], 64, 5, stride=5),\n",
    "            nn.ReLU(),\n",
    "            nn.Conv2d(64, 64, 3, stride=2),\n",
    "            nn.ReLU(),\n",
    "        )\n",
    "\n",
    "        conv_out_size = self._get_conv_out(input_shape)\n",
    "\n",
    "        self.fc = nn.Sequential(\n",
    "            nn.Linear(conv_out_size, n_actions),\n",
    "        )\n",
    "\n",
    "    def _get_conv_out(self, shape):\n",
    "        o = self.conv(torch.zeros(1, *shape))\n",
    "        return int(np.prod(o.size()))\n",
    "\n",
    "    def forward(self, x):\n",
    "        fx = x.float() / 256\n",
    "        conv_out = self.conv(fx).view(fx.size()[0], -1)\n",
    "        return self.fc(conv_out)"
   ]
  },
  {
   "cell_type": "markdown",
   "metadata": {
    "colab_type": "text",
    "id": "9lrid95_jiWL"
   },
   "source": [
    "## Batch preparation (practice)\n",
    "\n",
    "For data gathering we'll use [`ptan` library](https://github.com/shmuma/ptan/) which is a very thin RL-specific wrapper around Gym. It implement replay buffers, agent logic and other functions frequently required for RL training.\n",
    "\n",
    "Our first warm-up problem will be to write conversion of batch sampled from Replay Buffer into PyTorch tensors suitable for training.\n",
    "\n",
    "Input to the function is a list of `namedtuple` with the following fields ([source code](https://github.com/Shmuma/ptan/blob/master/ptan/experience.py#L155)):\n",
    "* `state`: state `s` in the trajectory, which is a 160x210 array of bytes with shape \\[3, 210, 160\\]\n",
    "* `action`: action executed, which is an integer from 0 to 255 indicating the square in our click grid\n",
    "* `reward`: immediate reward obtained after action execution\n",
    "* `last_state`: state we've got after execution of action. It equals to `None` if episode finished after action.\n",
    "\n",
    "We'll use 1-step DQN, but Ptan can do N-step calculation for you. You can experiment with the difference.\n",
    "\n",
    "The output should be three tensors containing the batch data with:\n",
    "* `state`: in a form of tensor with shape \\[X, Y, ...\\]\n",
    "* `actions`: as a long tensor\n",
    "* `ref values`: approximated Q-values using Bellman equation\n",
    "\n",
    "$Q_{s,a} = r_{s,a} + \\gamma \\cdot max_{a'}Q_{s',a'}$\n"
   ]
  },
  {
   "cell_type": "code",
   "execution_count": 0,
   "metadata": {
    "colab": {},
    "colab_type": "code",
    "id": "Z1OZbqeXjiWM"
   },
   "outputs": [],
   "source": [
    "@torch.no_grad()\n",
    "def unpack_batch(batch: List[ptan.experience.ExperienceFirstLast], net: nn.Module, gamma: float, device=\"cpu\"):\n",
    "    states = []\n",
    "    actions = []\n",
    "    rewards = []\n",
    "    done_masks = []    # list of booleans, True if this is the last step in the episode\n",
    "    last_states = []\n",
    "    for exp in batch:\n",
    "        # unpack every experience entry into individual lists\n",
    "        raise NotImplementedError\n",
    "\n",
    "    # convert everything to tensors (do not forget to put them into proper devices!)\n",
    "    # apply network and find best Q values of every action (torch.max() is the right function to use (c: )\n",
    "    # zero out q-values according to done_masks\n",
    "    # return the result as tuple of three things: states tensor, actions tensor and \n",
    "    # Q-values approximation tensor"
   ]
  },
  {
   "cell_type": "markdown",
   "metadata": {
    "colab_type": "text",
    "id": "sem4PYKWjiWP"
   },
   "source": [
    "### Tests for your solution\n",
    "\n",
    "There are several test cases you can use to check your solution"
   ]
  },
  {
   "cell_type": "code",
   "execution_count": 11,
   "metadata": {
    "colab": {
     "base_uri": "https://localhost:8080/",
     "height": 258
    },
    "colab_type": "code",
    "id": "H70zV-YijiWR",
    "outputId": "14142966-decf-4ac1-b1b3-58973c2d2b6c"
   },
   "outputs": [
    {
     "name": "stderr",
     "output_type": "stream",
     "text": [
      "[2019-07-10 11:06:50,988] Making new env: wob.mini.ClickDialog-v0\n",
      "/usr/local/lib/python3.6/dist-packages/gym/envs/registration.py:17: PkgResourcesDeprecationWarning: Parameters to load are deprecated.  Call .resolve and .require separately.\n",
      "  result = entry_point.load(False)\n",
      "[2019-07-10 11:06:50,994] Using SoftmaxClickMouse with action_region=(10, 125, 170, 285), noclick_regions=[]\n",
      "[2019-07-10 11:06:51,000] SoftmaxClickMouse noclick regions removed 0 of 256 actions\n",
      "[2019-07-10 11:06:51,002] Writing logs to file: /tmp/universe-6418.log\n",
      "[2019-07-10 11:06:51,009] Using the golang VNC implementation\n",
      "[2019-07-10 11:06:51,010] Using VNCSession arguments: {'encoding': 'tight', 'compress_level': 0, 'fine_quality_level': 100, 'subsample_level': 0, 'start_timeout': 7}. (Customize by running \"env.configure(vnc_kwargs={...})\"\n",
      "[2019-07-10 11:06:51,018] [0] Connecting to environment: vnc://193.49.213.5:5900 password=openai. If desired, you can manually connect a VNC viewer, such as TurboVNC. Most environments provide a convenient in-browser VNC client: http://193.49.213.5:15900/viewer/?password=openai\n"
     ]
    },
    {
     "name": "stdout",
     "output_type": "stream",
     "text": [
      "Remotes URL: vnc://193.49.213.5:5900+15900\n"
     ]
    },
    {
     "name": "stderr",
     "output_type": "stream",
     "text": [
      "[2019-07-10 11:07:11,318] [0:193.49.213.5:5900] ntpdate -q -p 8 193.49.213.5 call timed out after 20.0s; killing the subprocess. This is ok, but you could have more accurate timings by enabling UDP port 123 traffic to your env. (Alternatively, you can try increasing the timeout by setting environment variable UNIVERSE_NTPDATE_TIMEOUT=10.)\n",
      "[2019-07-10 11:07:14,126] [0:193.49.213.5:5900] Sending reset for env_id=wob.mini.ClickDialog-v0 fps=60 episode_id=0\n",
      "[2019-07-10 11:07:14,406] [0:193.49.213.5:5900] Initial reset complete: episode_id=15028\n"
     ]
    }
   ],
   "source": [
    "env = make_env(wrapper_func = lambda env: SoftmaxClickMouse(MiniWoBCropper(env)))\n",
    "join_env(env);"
   ]
  },
  {
   "cell_type": "code",
   "execution_count": 12,
   "metadata": {
    "colab": {
     "base_uri": "https://localhost:8080/",
     "height": 204
    },
    "colab_type": "code",
    "id": "H0_Z-n_NjiWV",
    "outputId": "77c07fd7-a999-4495-c08f-86d563a1e04c"
   },
   "outputs": [
    {
     "data": {
      "text/plain": [
       "Model(\n",
       "  (conv): Sequential(\n",
       "    (0): Conv2d(3, 64, kernel_size=(5, 5), stride=(5, 5))\n",
       "    (1): ReLU()\n",
       "    (2): Conv2d(64, 64, kernel_size=(3, 3), stride=(2, 2))\n",
       "    (3): ReLU()\n",
       "  )\n",
       "  (fc): Sequential(\n",
       "    (0): Linear(in_features=19200, out_features=256, bias=True)\n",
       "  )\n",
       ")"
      ]
     },
     "execution_count": 12,
     "metadata": {
      "tags": []
     },
     "output_type": "execute_result"
    }
   ],
   "source": [
    "# this code also should help you to understand the expectations from your code\n",
    "net = Model(env.observation_space.shape, env.action_space.n)\n",
    "# with eps=1, we don't need parent action selector, as all actions will be random, but that's a corner case!\n",
    "action_selector = ptan.actions.EpsilonGreedyActionSelector(epsilon=1) \n",
    "agent = ptan.agent.DQNAgent(net, action_selector)\n",
    "net"
   ]
  },
  {
   "cell_type": "code",
   "execution_count": 13,
   "metadata": {
    "colab": {
     "base_uri": "https://localhost:8080/",
     "height": 34
    },
    "colab_type": "code",
    "id": "dqx7N_IIjiWZ",
    "outputId": "148b6dc9-33b6-4e2d-9aeb-662a924121b4"
   },
   "outputs": [
    {
     "name": "stderr",
     "output_type": "stream",
     "text": [
      "[2019-07-10 11:07:21,405] [0:193.49.213.5:5900] Sending reset for env_id=wob.mini.ClickDialog-v0 fps=60 episode_id=0\n"
     ]
    }
   ],
   "source": [
    "exp_source = ptan.experience.ExperienceSourceFirstLast(env, agent, gamma=1.0, vectorized=True)\n",
    "batch = [e for _, e in zip(range(5), exp_source)]\n",
    "# add one final state with known reward\n",
    "batch.append(ptan.experience.ExperienceFirstLast(state=batch[0].state, action=0, reward=10.0, last_state=None))"
   ]
  },
  {
   "cell_type": "code",
   "execution_count": 0,
   "metadata": {
    "colab": {},
    "colab_type": "code",
    "id": "yqLSCvsBjiWc"
   },
   "outputs": [],
   "source": [
    "r = unpack_batch(batch, net, gamma=1.0)"
   ]
  },
  {
   "cell_type": "code",
   "execution_count": 0,
   "metadata": {
    "colab": {},
    "colab_type": "code",
    "id": "vCu-mzosjiWe"
   },
   "outputs": [],
   "source": [
    "assert isinstance(r, tuple)\n",
    "assert len(r) == 3"
   ]
  },
  {
   "cell_type": "code",
   "execution_count": 0,
   "metadata": {
    "colab": {},
    "colab_type": "code",
    "id": "NTSHKDF7jiWh"
   },
   "outputs": [],
   "source": [
    "states, actions, next_q = r"
   ]
  },
  {
   "cell_type": "code",
   "execution_count": 0,
   "metadata": {
    "colab": {},
    "colab_type": "code",
    "id": "NazYxCIfjiWk"
   },
   "outputs": [],
   "source": [
    "assert isinstance(states, torch.Tensor)\n",
    "assert states.dtype == torch.uint8\n",
    "assert states.size() == (6, 3, 210, 160)\n",
    "\n",
    "assert isinstance(actions, torch.Tensor)\n",
    "assert actions.dtype == torch.long\n",
    "assert actions.size() == (6, )\n",
    "\n",
    "assert isinstance(next_q, torch.Tensor)\n",
    "assert next_q.dtype == torch.float32\n",
    "assert next_q.size() == (6, )\n",
    "\n",
    "assert actions[5] == 0\n",
    "assert next_q[5] == 10.0"
   ]
  },
  {
   "cell_type": "markdown",
   "metadata": {
    "colab_type": "text",
    "heading_collapsed": true,
    "id": "aWBJQPUZjiWo"
   },
   "source": [
    "## Batch preparation (solution)\n",
    "\n",
    "Please do not peek inside this, as you'll spoil all the fun :)"
   ]
  },
  {
   "cell_type": "code",
   "execution_count": 0,
   "metadata": {
    "colab": {},
    "colab_type": "code",
    "hidden": true,
    "id": "y_uRa9yfjiWo"
   },
   "outputs": [],
   "source": [
    "@torch.no_grad()\n",
    "def unpack_batch(batch: List[ptan.experience.ExperienceFirstLast], net: nn.Module, gamma: float, device=\"cpu\"):\n",
    "    states = []\n",
    "    actions = []\n",
    "    rewards = []\n",
    "    done_masks = []\n",
    "    last_states = []\n",
    "    for exp in batch:\n",
    "        states.append(exp.state)\n",
    "        actions.append(exp.action)\n",
    "        rewards.append(exp.reward)\n",
    "        done_masks.append(exp.last_state is None)\n",
    "        if exp.last_state is None:\n",
    "            last_states.append(exp.state)\n",
    "        else:\n",
    "            last_states.append(exp.last_state)\n",
    "\n",
    "    states_v = torch.tensor(states).to(device)\n",
    "    actions_v = torch.tensor(actions).to(device)\n",
    "    rewards_v = torch.tensor(rewards).to(device)\n",
    "    last_states_v = torch.tensor(last_states).to(device)\n",
    "    last_state_q_v = net(last_states_v)\n",
    "    best_last_q_v = torch.max(last_state_q_v, dim=1)[0]\n",
    "    best_last_q_v[done_masks] = 0.0\n",
    "    return states_v, actions_v, best_last_q_v + rewards_v"
   ]
  },
  {
   "cell_type": "markdown",
   "metadata": {
    "colab_type": "text",
    "id": "uFJWwTq9jiWs"
   },
   "source": [
    "## Training loop\n",
    "\n",
    "Now we're ready to implement the training loop"
   ]
  },
  {
   "cell_type": "code",
   "execution_count": 0,
   "metadata": {
    "colab": {},
    "colab_type": "code",
    "id": "WM8OVTQIjiWt"
   },
   "outputs": [],
   "source": [
    "GAMMA = 0.9\n",
    "REPLAY_SIZE = 10000\n",
    "MIN_REPLAY = 100\n",
    "TGT_SYNC = 100\n",
    "BATCH_SIZE = 16\n",
    "LR = 1e-4\n",
    "DEVICE = \"cuda\"  \n",
    "#DEVICE = \"cpu\"\n",
    "\n",
    "INITIAL_EPSILON = 1.0\n",
    "FINAL_EPSILON = 0.2\n",
    "STEPS_EPSILON = 1000\n",
    "LIMIT_STEPS = 1500"
   ]
  },
  {
   "cell_type": "code",
   "execution_count": 11,
   "metadata": {
    "colab": {
     "base_uri": "https://localhost:8080/",
     "height": 258
    },
    "colab_type": "code",
    "id": "qd-FkuhtjiWv",
    "outputId": "92a40bd4-8501-470b-98b4-0d4a2ab42f24"
   },
   "outputs": [
    {
     "name": "stderr",
     "output_type": "stream",
     "text": [
      "[2019-07-10 11:21:22,409] Making new env: wob.mini.ClickDialog-v0\n",
      "/usr/local/lib/python3.6/dist-packages/gym/envs/registration.py:17: PkgResourcesDeprecationWarning: Parameters to load are deprecated.  Call .resolve and .require separately.\n",
      "  result = entry_point.load(False)\n",
      "[2019-07-10 11:21:22,420] Using SoftmaxClickMouse with action_region=(10, 125, 170, 285), noclick_regions=[]\n",
      "[2019-07-10 11:21:22,423] SoftmaxClickMouse noclick regions removed 0 of 256 actions\n",
      "[2019-07-10 11:21:22,424] Writing logs to file: /tmp/universe-10054.log\n",
      "[2019-07-10 11:21:22,429] Using the golang VNC implementation\n",
      "[2019-07-10 11:21:22,430] Using VNCSession arguments: {'encoding': 'tight', 'compress_level': 0, 'fine_quality_level': 100, 'subsample_level': 0, 'start_timeout': 7}. (Customize by running \"env.configure(vnc_kwargs={...})\"\n",
      "[2019-07-10 11:21:22,438] [0] Connecting to environment: vnc://193.49.213.5:5900 password=openai. If desired, you can manually connect a VNC viewer, such as TurboVNC. Most environments provide a convenient in-browser VNC client: http://193.49.213.5:15900/viewer/?password=openai\n"
     ]
    },
    {
     "name": "stdout",
     "output_type": "stream",
     "text": [
      "Remotes URL: vnc://193.49.213.5:5900+15900\n"
     ]
    },
    {
     "name": "stderr",
     "output_type": "stream",
     "text": [
      "[2019-07-10 11:21:42,667] [0:193.49.213.5:5900] ntpdate -q -p 8 193.49.213.5 call timed out after 20.0s; killing the subprocess. This is ok, but you could have more accurate timings by enabling UDP port 123 traffic to your env. (Alternatively, you can try increasing the timeout by setting environment variable UNIVERSE_NTPDATE_TIMEOUT=10.)\n",
      "[2019-07-10 11:21:44,828] [0:193.49.213.5:5900] Sending reset for env_id=wob.mini.ClickDialog-v0 fps=60 episode_id=0\n",
      "[2019-07-10 11:21:45,092] [0:193.49.213.5:5900] Initial reset complete: episode_id=15114\n"
     ]
    }
   ],
   "source": [
    "env = make_env(wrapper_func = lambda env: SoftmaxClickMouse(MiniWoBCropper(env)))\n",
    "join_env(env);"
   ]
  },
  {
   "cell_type": "code",
   "execution_count": 0,
   "metadata": {
    "colab": {},
    "colab_type": "code",
    "id": "KdIVDoTujiWz"
   },
   "outputs": [],
   "source": [
    "net = Model(env.observation_space.shape, env.action_space.n).to(DEVICE)\n",
    "tgt_net = ptan.agent.TargetNet(net)\n",
    "\n",
    "parent_selector = ptan.actions.ArgmaxActionSelector()\n",
    "action_selector = ptan.actions.EpsilonGreedyActionSelector(epsilon=INITIAL_EPSILON, selector=parent_selector) \n",
    "agent = ptan.agent.DQNAgent(net, action_selector, device=DEVICE)\n",
    "exp_source = ptan.experience.ExperienceSourceFirstLast(env, agent, gamma=GAMMA, vectorized=True)\n",
    "\n",
    "buffer = ptan.experience.ExperienceReplayBuffer(exp_source, REPLAY_SIZE)\n",
    "optimizer = optim.Adam(net.parameters(), LR)"
   ]
  },
  {
   "cell_type": "code",
   "execution_count": 15,
   "metadata": {
    "colab": {
     "base_uri": "https://localhost:8080/",
     "height": 1000
    },
    "colab_type": "code",
    "id": "oAPpXHm8jiW2",
    "outputId": "7643173f-da85-40e3-e582-89252f28d7d5"
   },
   "outputs": [
    {
     "name": "stderr",
     "output_type": "stream",
     "text": [
      "[2019-07-10 11:22:52,669] [0:193.49.213.5:5900] Sending reset for env_id=wob.mini.ClickDialog-v0 fps=60 episode_id=0\n"
     ]
    },
    {
     "name": "stdout",
     "output_type": "stream",
     "text": [
      "12: Done 1 episodes, last 10 means: reward=-1.000, steps=12.000, speed=3.99 steps/s, eps=1.00\n",
      "40: Done 2 episodes, last 10 means: reward=-0.258, steps=20.500, speed=4.81 steps/s, eps=1.00\n",
      "47: Done 3 episodes, last 10 means: reward=0.125, steps=16.333, speed=4.36 steps/s, eps=1.00\n",
      "98: Done 4 episodes, last 10 means: reward=-0.156, steps=25.250, speed=4.89 steps/s, eps=1.00\n",
      "100: nets synced, mean loss for last 10 steps = 0.149\n",
      "130: Done 5 episodes, last 10 means: reward=-0.053, steps=26.800, speed=4.55 steps/s, eps=0.97\n",
      "148: Done 6 episodes, last 10 means: reward=0.059, steps=25.500, speed=4.37 steps/s, eps=0.95\n",
      "152: Done 7 episodes, last 10 means: reward=0.183, steps=22.571, speed=3.29 steps/s, eps=0.95\n",
      "200: Done 8 episodes, last 10 means: reward=0.035, steps=25.875, speed=4.45 steps/s, eps=0.90\n",
      "200: nets synced, mean loss for last 10 steps = 0.014\n",
      "212: Done 9 episodes, last 10 means: reward=0.114, steps=24.444, speed=4.19 steps/s, eps=0.89\n",
      "230: Done 10 episodes, last 10 means: reward=0.166, steps=23.900, speed=4.35 steps/s, eps=0.87\n",
      "279: Done 11 episodes, last 10 means: reward=0.166, steps=27.700, speed=4.62 steps/s, eps=0.82\n",
      "300: nets synced, mean loss for last 10 steps = 0.013\n",
      "328: Done 12 episodes, last 10 means: reward=0.018, steps=29.800, speed=4.67 steps/s, eps=0.77\n",
      "331: Done 13 episodes, last 10 means: reward=0.025, steps=29.400, speed=2.97 steps/s, eps=0.77\n",
      "347: Done 14 episodes, last 10 means: reward=0.191, steps=25.900, speed=4.25 steps/s, eps=0.75\n",
      "397: Done 15 episodes, last 10 means: reward=0.055, steps=27.700, speed=4.66 steps/s, eps=0.70\n",
      "400: nets synced, mean loss for last 10 steps = 0.152\n",
      "443: Done 16 episodes, last 10 means: reward=-0.106, steps=30.500, speed=4.50 steps/s, eps=0.66\n",
      "493: Done 17 episodes, last 10 means: reward=-0.299, steps=35.100, speed=4.70 steps/s, eps=0.61\n",
      "500: nets synced, mean loss for last 10 steps = 0.137\n",
      "541: Done 18 episodes, last 10 means: reward=-0.299, steps=35.100, speed=4.62 steps/s, eps=0.56\n",
      "591: Done 19 episodes, last 10 means: reward=-0.473, steps=38.900, speed=4.70 steps/s, eps=0.51\n",
      "600: nets synced, mean loss for last 10 steps = 0.374\n",
      "639: Done 20 episodes, last 10 means: reward=-0.637, steps=41.900, speed=4.61 steps/s, eps=0.46\n",
      "688: Done 21 episodes, last 10 means: reward=-0.637, steps=41.900, speed=4.57 steps/s, eps=0.41\n",
      "700: nets synced, mean loss for last 10 steps = 0.381\n",
      "701: best reward updated: None -> -0.637, weights saved\n",
      "737: Done 22 episodes, last 10 means: reward=-0.637, steps=41.900, speed=4.67 steps/s, eps=0.36\n",
      "785: Done 23 episodes, last 10 means: reward=-0.834, steps=46.400, speed=4.67 steps/s, eps=0.32\n",
      "800: nets synced, mean loss for last 10 steps = 0.552\n",
      "832: Done 24 episodes, last 10 means: reward=-1.000, steps=49.500, speed=4.42 steps/s, eps=0.27\n",
      "880: Done 25 episodes, last 10 means: reward=-1.000, steps=49.300, speed=4.61 steps/s, eps=0.22\n",
      "900: nets synced, mean loss for last 10 steps = 0.244\n",
      "930: Done 26 episodes, last 10 means: reward=-1.000, steps=49.700, speed=4.66 steps/s, eps=0.20\n",
      "979: Done 27 episodes, last 10 means: reward=-1.000, steps=49.600, speed=4.67 steps/s, eps=0.20\n",
      "1000: nets synced, mean loss for last 10 steps = 0.415\n",
      "1027: Done 28 episodes, last 10 means: reward=-1.000, steps=49.600, speed=4.60 steps/s, eps=0.20\n",
      "1076: Done 29 episodes, last 10 means: reward=-1.000, steps=49.500, speed=4.64 steps/s, eps=0.20\n",
      "1100: nets synced, mean loss for last 10 steps = 1.887\n",
      "1125: Done 30 episodes, last 10 means: reward=-1.000, steps=49.600, speed=4.63 steps/s, eps=0.20\n",
      "1174: Done 31 episodes, last 10 means: reward=-1.000, steps=49.600, speed=4.68 steps/s, eps=0.20\n",
      "1177: Done 32 episodes, last 10 means: reward=-0.802, steps=45.000, speed=2.92 steps/s, eps=0.20\n",
      "1180: Done 33 episodes, last 10 means: reward=-0.609, steps=40.500, speed=2.91 steps/s, eps=0.20\n",
      "1180: best reward updated: -0.6373300000000001 -> -0.609, weights saved\n",
      "1182: Done 34 episodes, last 10 means: reward=-0.412, steps=36.000, speed=2.43 steps/s, eps=0.20\n",
      "1182: best reward updated: -0.60938 -> -0.412, weights saved\n",
      "1194: Done 35 episodes, last 10 means: reward=-0.236, steps=32.400, speed=4.11 steps/s, eps=0.20\n",
      "1194: best reward updated: -0.41239 -> -0.236, weights saved\n",
      "1200: nets synced, mean loss for last 10 steps = 2.218\n",
      "1242: Done 36 episodes, last 10 means: reward=-0.236, steps=32.200, speed=4.62 steps/s, eps=0.20\n",
      "1287: Done 37 episodes, last 10 means: reward=-0.236, steps=31.800, speed=4.26 steps/s, eps=0.20\n",
      "1300: nets synced, mean loss for last 10 steps = 2.857\n",
      "1335: Done 38 episodes, last 10 means: reward=-0.236, steps=31.800, speed=4.56 steps/s, eps=0.20\n",
      "1383: Done 39 episodes, last 10 means: reward=-0.236, steps=31.700, speed=4.58 steps/s, eps=0.20\n",
      "1400: nets synced, mean loss for last 10 steps = 2.453\n",
      "1429: Done 40 episodes, last 10 means: reward=-0.236, steps=31.400, speed=4.40 steps/s, eps=0.20\n",
      "1478: Done 41 episodes, last 10 means: reward=-0.236, steps=31.400, speed=4.62 steps/s, eps=0.20\n",
      "1500: nets synced, mean loss for last 10 steps = 3.388\n"
     ]
    }
   ],
   "source": [
    "best_weights = None\n",
    "best_mean10_reward = None\n",
    "episode_rewards = []\n",
    "episode_steps = []\n",
    "losses = []\n",
    "steps = 0\n",
    "last_ts = time.time()\n",
    "last_steps = 0\n",
    "\n",
    "while steps < LIMIT_STEPS:\n",
    "    steps += 1\n",
    "    buffer.populate(1)\n",
    "    r = exp_source.pop_rewards_steps()\n",
    "    if r:\n",
    "        for rw, st in r:\n",
    "            episode_rewards.append(rw)\n",
    "            episode_steps.append(st)\n",
    "        speed = (steps - last_steps) / (time.time() - last_ts)\n",
    "        print(\"%d: Done %d episodes, last 10 means: reward=%.3f, steps=%.3f, speed=%.2f steps/s, eps=%.2f\" % (\n",
    "            steps, len(episode_rewards), np.mean(episode_rewards[-10:]), \n",
    "            np.mean(episode_steps[-10:]), speed, action_selector.epsilon\n",
    "        ))\n",
    "        last_ts = time.time()\n",
    "        last_steps = steps\n",
    "        if np.mean(episode_rewards[-10:]) > 0.9:\n",
    "            print(\"You solved the env! Congrats!\")\n",
    "            break\n",
    "    if len(buffer) < MIN_REPLAY:\n",
    "        continue\n",
    "    batch = buffer.sample(BATCH_SIZE)\n",
    "    state_v, actions_v, ref_q_v = unpack_batch(batch, tgt_net.target_model, gamma=GAMMA, device=DEVICE)\n",
    "    optimizer.zero_grad()\n",
    "    q_v = net(state_v)\n",
    "    q_v = q_v.gather(1, actions_v.unsqueeze(-1)).squeeze(-1)\n",
    "    loss_v = F.mse_loss(q_v, ref_q_v)\n",
    "    loss_v.backward()\n",
    "    optimizer.step()\n",
    "    losses.append(loss_v.item())\n",
    "    \n",
    "    if steps % TGT_SYNC == 0:\n",
    "        print(\"%d: nets synced, mean loss for last 10 steps = %.3f\" % (\n",
    "            steps, np.mean(losses[-10:])))\n",
    "        tgt_net.sync()\n",
    "    action_selector.epsilon = max(FINAL_EPSILON, INITIAL_EPSILON - (steps-MIN_REPLAY) / STEPS_EPSILON)\n",
    "    \n",
    "    if action_selector.epsilon < 0.4:\n",
    "        m10_reward = np.mean(episode_rewards[-10:])\n",
    "        if best_mean10_reward is None or m10_reward > best_mean10_reward:\n",
    "            print(\"%d: best reward updated: %s -> %.3f, weights saved\" % (\n",
    "                steps, best_mean10_reward, m10_reward\n",
    "            ))\n",
    "            best_mean10_reward = m10_reward\n",
    "            # deep copy is required as state_dict() is just reference to tensors which are being kept on GPU\n",
    "            best_weights = copy.deepcopy(net.state_dict())"
   ]
  },
  {
   "cell_type": "markdown",
   "metadata": {
    "colab_type": "text",
    "id": "N86_JBPhjiW6"
   },
   "source": [
    "Doesn't look good:\n",
    "* convergence is bad, \n",
    "* loss is growing\n",
    "\n",
    "Let's test the best weights"
   ]
  },
  {
   "cell_type": "code",
   "execution_count": 16,
   "metadata": {
    "colab": {
     "base_uri": "https://localhost:8080/",
     "height": 374
    },
    "colab_type": "code",
    "id": "A6d52kY1jiW7",
    "outputId": "81f1d0f0-f0a3-4cb6-9882-439e66de39b4"
   },
   "outputs": [
    {
     "name": "stderr",
     "output_type": "stream",
     "text": [
      "[2019-07-10 11:30:42,268] [0:193.49.213.5:5900] Sending reset for env_id=wob.mini.ClickDialog-v0 fps=60 episode_id=0\n",
      "[2019-07-10 11:30:43,875] [0:193.49.213.5:5900] Sending reset for env_id=wob.mini.ClickDialog-v0 fps=60 episode_id=0\n"
     ]
    },
    {
     "name": "stdout",
     "output_type": "stream",
     "text": [
      "Episode done in 7 steps with -1.000 reward\n"
     ]
    },
    {
     "name": "stderr",
     "output_type": "stream",
     "text": [
      "[2019-07-10 11:30:54,509] [0:193.49.213.5:5900] Sending reset for env_id=wob.mini.ClickDialog-v0 fps=60 episode_id=0\n"
     ]
    },
    {
     "name": "stdout",
     "output_type": "stream",
     "text": [
      "Episode done in 52 steps with -1.000 reward\n"
     ]
    },
    {
     "name": "stderr",
     "output_type": "stream",
     "text": [
      "[2019-07-10 11:31:04,936] [0:193.49.213.5:5900] Sending reset for env_id=wob.mini.ClickDialog-v0 fps=60 episode_id=0\n"
     ]
    },
    {
     "name": "stdout",
     "output_type": "stream",
     "text": [
      "Episode done in 51 steps with -1.000 reward\n"
     ]
    },
    {
     "name": "stderr",
     "output_type": "stream",
     "text": [
      "[2019-07-10 11:31:15,563] [0:193.49.213.5:5900] Sending reset for env_id=wob.mini.ClickDialog-v0 fps=60 episode_id=0\n"
     ]
    },
    {
     "name": "stdout",
     "output_type": "stream",
     "text": [
      "Episode done in 52 steps with -1.000 reward\n"
     ]
    },
    {
     "name": "stderr",
     "output_type": "stream",
     "text": [
      "[2019-07-10 11:31:25,998] [0:193.49.213.5:5900] Sending reset for env_id=wob.mini.ClickDialog-v0 fps=60 episode_id=0\n"
     ]
    },
    {
     "name": "stdout",
     "output_type": "stream",
     "text": [
      "Episode done in 51 steps with -1.000 reward\n"
     ]
    },
    {
     "name": "stderr",
     "output_type": "stream",
     "text": [
      "[2019-07-10 11:31:36,629] [0:193.49.213.5:5900] Sending reset for env_id=wob.mini.ClickDialog-v0 fps=60 episode_id=0\n"
     ]
    },
    {
     "name": "stdout",
     "output_type": "stream",
     "text": [
      "Episode done in 52 steps with -1.000 reward\n"
     ]
    },
    {
     "name": "stderr",
     "output_type": "stream",
     "text": [
      "[2019-07-10 11:31:47,063] [0:193.49.213.5:5900] Sending reset for env_id=wob.mini.ClickDialog-v0 fps=60 episode_id=0\n"
     ]
    },
    {
     "name": "stdout",
     "output_type": "stream",
     "text": [
      "Episode done in 51 steps with -1.000 reward\n"
     ]
    },
    {
     "name": "stderr",
     "output_type": "stream",
     "text": [
      "[2019-07-10 11:31:57,697] [0:193.49.213.5:5900] Sending reset for env_id=wob.mini.ClickDialog-v0 fps=60 episode_id=0\n"
     ]
    },
    {
     "name": "stdout",
     "output_type": "stream",
     "text": [
      "Episode done in 52 steps with -1.000 reward\n"
     ]
    },
    {
     "name": "stderr",
     "output_type": "stream",
     "text": [
      "[2019-07-10 11:32:07,929] [0:193.49.213.5:5900] Sending reset for env_id=wob.mini.ClickDialog-v0 fps=60 episode_id=0\n"
     ]
    },
    {
     "name": "stdout",
     "output_type": "stream",
     "text": [
      "Episode done in 49 steps with -1.000 reward\n",
      "Episode done in 51 steps with -1.000 reward\n",
      "Mean reward for 10 episodes is -1.000, steps 46.800\n"
     ]
    }
   ],
   "source": [
    "# testing the best weights\n",
    "net.load_state_dict(best_weights)\n",
    "TEST_EPISODES = 10\n",
    "\n",
    "rewards = []\n",
    "steps = []\n",
    "while len(rewards) < TEST_EPISODES:\n",
    "    cur_reward = 0\n",
    "    cur_steps = 0\n",
    "    obs_n = join_env(env)\n",
    "    while True:\n",
    "        obs_t = torch.tensor(obs_n).to(DEVICE)\n",
    "        q_t = net(obs_t)\n",
    "        action = q_t.max(dim=1).indices[0].item()\n",
    "        obs_n, reward_n, is_done_n, _ = env.step([action])\n",
    "        cur_reward += reward_n[0]\n",
    "        cur_steps += 1\n",
    "        if is_done_n[0]:\n",
    "            break\n",
    "    rewards.append(cur_reward)\n",
    "    steps.append(cur_steps)\n",
    "    print(\"Episode done in %d steps with %.3f reward\" % (cur_steps, cur_reward))\n",
    "print(\"Mean reward for %d episodes is %.3f, steps %.3f\" % (TEST_EPISODES, np.mean(rewards), np.mean(steps)))"
   ]
  },
  {
   "cell_type": "markdown",
   "metadata": {
    "colab_type": "text",
    "id": "JsYo339ijiW-"
   },
   "source": [
    "# Troubleshooting of Baseline DQN\n",
    "\n",
    "> \"You love Linux, probably you're experienced in troubleshooting...\"\n",
    "> RHCE Exam Instructor @ 2005\n",
    "\n",
    "Code above doesn't converge. Usually, in such situations, tutorial author tweaks the parameters to make it working, so, attendants see only final, polished version. This makes the false impression of ML as smooth and quite obvious process, which very far from truth. Don't know about others, but my code doesn't work 90% of the time :).\n",
    "\n",
    "To learn how to deal with such situations, you're asked to troubleshoot the code above. There are several directions you could explore (of course, you can have your own ideas, that's not the complete list):\n",
    "\n",
    "* check training samples. Do they make sense? Is reward properly assigned to correct observations?\n",
    "* training gradients. How large they are? What's the ratio of gradients/weight values?\n",
    "* do end-of-episode steps handled properly? Final steps of epsiodes act as an anchor to prevent Q values from growing infinitely, so, it is critical to have them properly handled in Bellman equation\n",
    "* explore Q values produced by the network during the training. Are they growing over time? That's a good practice to have small set of states (including final step and steps before the final) and track their Qs during the training.\n",
    "* how large the difference between trained network and target net used for next-step Bellman approximation? How it changes over time?\n",
    "\n",
    "Full check might take a long time, especially if you haven't done it before. In the next notebook (03_miniwob_troubleshooting) you will be given detailed steps of troubleshooting."
   ]
  },
  {
   "cell_type": "code",
   "execution_count": 0,
   "metadata": {
    "colab": {},
    "colab_type": "code",
    "id": "RroAvfjZjiW_"
   },
   "outputs": [],
   "source": [
    "# scratchplace for you to enjoy!"
   ]
  }
 ],
 "metadata": {
  "accelerator": "GPU",
  "colab": {
   "collapsed_sections": [],
   "name": "02_miniwob_dqn.ipynb",
   "provenance": [],
   "version": "0.3.2"
  },
  "kernelspec": {
   "display_name": "Python 3",
   "name": "python3"
  },
  "language_info": {
   "codemirror_mode": {
    "name": "ipython",
    "version": 3
   },
   "file_extension": ".py",
   "mimetype": "text/x-python",
   "name": "python",
   "nbconvert_exporter": "python",
   "pygments_lexer": "ipython3",
   "version": "3.6.8"
  }
 },
 "nbformat": 4,
 "nbformat_minor": 0
}
