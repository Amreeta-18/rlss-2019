{
 "cells": [
  {
   "cell_type": "code",
   "execution_count": 1,
   "metadata": {},
   "outputs": [
    {
     "name": "stderr",
     "output_type": "stream",
     "text": [
      "/anaconda3/envs/miniwob/lib/python3.6/site-packages/universe/runtimes/__init__.py:7: YAMLLoadWarning: calling yaml.load() without Loader=... is deprecated, as the default Loader is unsafe. Please read https://msg.pyyaml.org/load for full details.\n",
      "  spec = yaml.load(f)\n"
     ]
    }
   ],
   "source": [
    "import gym\n",
    "import time\n",
    "import universe\n",
    "\n",
    "from PIL import Image"
   ]
  },
  {
   "cell_type": "code",
   "execution_count": 2,
   "metadata": {},
   "outputs": [],
   "source": [
    "DOCKER_IMAGE = \"shmuma/miniwob:latest\""
   ]
  },
  {
   "cell_type": "markdown",
   "metadata": {},
   "source": [
    "# Start containers on env configuration\n",
    "\n",
    "Very noisy method (probably should be tweaked by changing `logging` machinery)"
   ]
  },
  {
   "cell_type": "code",
   "execution_count": 3,
   "metadata": {},
   "outputs": [
    {
     "name": "stderr",
     "output_type": "stream",
     "text": [
      "[2019-06-24 18:20:20,619] Making new env: wob.mini.ClickDialog-v0\n",
      "/anaconda3/envs/miniwob/lib/python3.6/site-packages/gym/envs/registration.py:17: PkgResourcesDeprecationWarning: Parameters to load are deprecated.  Call .resolve and .require separately.\n",
      "  result = entry_point.load(False)\n"
     ]
    }
   ],
   "source": [
    "env = gym.make(\"wob.mini.ClickDialog-v0\")"
   ]
  },
  {
   "cell_type": "markdown",
   "metadata": {},
   "source": [
    "Argument `remotes` could be list of vnc hosts in a form `vnc://host:port+port`, example: https://github.com/PacktPublishing/Deep-Reinforcement-Learning-Hands-On/blob/master/Chapter13/lib/wob_vnc.py#L22\n"
   ]
  },
  {
   "cell_type": "code",
   "execution_count": 4,
   "metadata": {},
   "outputs": [
    {
     "name": "stderr",
     "output_type": "stream",
     "text": [
      "[2019-06-24 18:20:44,525] Writing logs to file: /tmp/universe-10548.log\n",
      "[2019-06-24 18:20:45,685] Ports used: dict_keys([])\n",
      "[2019-06-24 18:20:45,688] [0] Creating container: image=shmuma/miniwob:latest. Run the same thing by hand as: docker run -p 5900:5900 -p 15900:15900 --privileged --cap-add SYS_ADMIN --ipc host shmuma/miniwob:latest\n",
      "[2019-06-24 18:20:47,109] Remote closed: address=localhost:5900\n",
      "[2019-06-24 18:20:47,114] At least one sockets was closed by the remote. Sleeping 1s...\n"
     ]
    },
    {
     "name": "stdout",
     "output_type": "stream",
     "text": [
      "\u001b[36muniverse-QAOxTI-0 |\u001b[0m Setting VNC and rewarder password: openai\n",
      "\u001b[36muniverse-QAOxTI-0 |\u001b[0m [/app/universe-envs/world-of-bits/init] [Mon Jun 24 16:20:47 UTC 2019] [Warning] Demo mode. Disable outbound network only partially!\n",
      "\u001b[36muniverse-QAOxTI-0 |\u001b[0m Not running in allocator mode\n"
     ]
    },
    {
     "name": "stderr",
     "output_type": "stream",
     "text": [
      "[2019-06-24 18:20:48,119] Remote closed: address=localhost:15900\n",
      "[2019-06-24 18:20:48,122] Remote closed: address=localhost:5900\n",
      "[2019-06-24 18:20:48,125] At least one sockets was closed by the remote. Sleeping 1s...\n",
      "[2019-06-24 18:20:49,127] Remote closed: address=localhost:15900\n",
      "[2019-06-24 18:20:49,130] At least one sockets was closed by the remote. Sleeping 1s...\n",
      "[2019-06-24 18:20:50,133] Remote closed: address=localhost:15900\n",
      "[2019-06-24 18:20:50,135] At least one sockets was closed by the remote. Sleeping 1s...\n",
      "[2019-06-24 18:20:51,137] Remote closed: address=localhost:15900\n",
      "[2019-06-24 18:20:51,140] At least one sockets was closed by the remote. Sleeping 1s...\n"
     ]
    },
    {
     "name": "stdout",
     "output_type": "stream",
     "text": [
      "\u001b[36muniverse-QAOxTI-0 |\u001b[0m [2019-06-24 16:20:51,155] [world-of-bits] Writing env id to file /tmp/demo/env_id.txt\n",
      "\u001b[36muniverse-QAOxTI-0 |\u001b[0m [2019-06-24 16:20:51,157] [EnvStatus] Changing env_state: None (env_id=None) -> None (env_id=wob.mini.ClickTab-v0) (episode_id: 0->0, fps=15)\n",
      "\u001b[36muniverse-QAOxTI-0 |\u001b[0m [2019-06-24 16:20:51,158] Starting Rewarder on port=15900\n",
      "\u001b[36muniverse-QAOxTI-0 |\u001b[0m [2019-06-24 16:20:51,162] Started AgentConn.\n",
      "\u001b[36muniverse-QAOxTI-0 |\u001b[0m [2019-06-24 16:20:51,166] [EnvStatus] Changing env_state: None (env_id=wob.mini.ClickTab-v0) -> resetting (env_id=wob.mini.ClickTab-v0) (episode_id: 0->1, fps=15)\n",
      "\u001b[36muniverse-QAOxTI-0 |\u001b[0m [2019-06-24 16:20:51,167] Rewarder initialized\n",
      "\u001b[36muniverse-QAOxTI-0 |\u001b[0m [2019-06-24 16:20:51,187] Rewarder thread is waiting for the browser instance...\n",
      "\u001b[36muniverse-QAOxTI-0 |\u001b[0m Manhole[1561393251.2319]: Patched <built-in function fork> and <built-in function fork>.\n",
      "\u001b[36muniverse-QAOxTI-0 |\u001b[0m Manhole[1561393251.2324]: Manhole UDS path: /tmp/manhole-51\n",
      "\u001b[36muniverse-QAOxTI-0 |\u001b[0m Manhole[1561393251.2325]: Waiting for new connection (in pid:51) ...\n",
      "\u001b[36muniverse-QAOxTI-0 |\u001b[0m [2019-06-24 16:20:51,440] Rewarder thread is waiting for the browser instance...\n",
      "\u001b[36muniverse-QAOxTI-0 |\u001b[0m [2019-06-24 16:20:51,691] Rewarder thread is waiting for the browser instance...\n",
      "\u001b[36muniverse-QAOxTI-0 |\u001b[0m [2019-06-24 16:20:51,941] Rewarder thread is waiting for the browser instance...\n"
     ]
    },
    {
     "name": "stderr",
     "output_type": "stream",
     "text": [
      "[2019-06-24 18:20:52,143] Remote closed: address=localhost:15900\n",
      "[2019-06-24 18:20:52,146] At least one sockets was closed by the remote. Sleeping 1s...\n"
     ]
    },
    {
     "name": "stdout",
     "output_type": "stream",
     "text": [
      "\u001b[36muniverse-QAOxTI-0 |\u001b[0m [2019-06-24 16:20:52,165] Client connecting: peer=tcp4:127.0.0.1:53418 observer=False\n",
      "\u001b[36muniverse-QAOxTI-0 |\u001b[0m [2019-06-24 16:20:52,174] WebSocket connection established\n",
      "\u001b[36muniverse-QAOxTI-0 |\u001b[0m [2019-06-24 16:20:52,175] Client connecting: peer=tcp4:172.17.0.1:36668 observer=True\n",
      "\u001b[36muniverse-QAOxTI-0 |\u001b[0m [2019-06-24 16:20:52,177] WebSocket connection established\n",
      "\u001b[36muniverse-QAOxTI-0 |\u001b[0m [2019-06-24 16:20:52,185] CONNECTION STATUS: Dropping new connection since already have 1 non-observer conns (2 conns total)\n",
      "\u001b[36muniverse-QAOxTI-0 |\u001b[0m [2019-06-24 16:20:52,185] Sending rewarder message: {'headers': {'sent_at': 1561393252.1859033, 'message_id': 2}, 'method': 'v0.connection.close', 'body': {'message': 'The rewarder already has an active client. (HINT: if you obtained your environment through the allocator, make sure to run .configure(client_id=...) with a different client_id for each concurrent worker.)'}}\n",
      "\u001b[36muniverse-QAOxTI-0 |\u001b[0m [2019-06-24 16:20:52,192] Rewarder thread is waiting for the browser instance...\n",
      "\u001b[36muniverse-QAOxTI-0 |\u001b[0m [2019-06-24 16:20:52,198] WebSocket connection closed: connection was closed uncleanly (peer dropped the TCP connection without previous WebSocket closing handshake)\n",
      "\u001b[36muniverse-QAOxTI-0 |\u001b[0m [2019-06-24 16:20:52,443] Rewarder thread is waiting for the browser instance...\n",
      "\u001b[36muniverse-QAOxTI-0 |\u001b[0m [reward_recorder] [2019-06-24 16:20:50,459] Listening on 0.0.0.0:15899\n",
      "\u001b[36muniverse-QAOxTI-0 |\u001b[0m [reward_recorder] [2019-06-24 16:20:50,625] [RewardProxyServer] [0] Client connecting: tcp4:127.0.0.1:48984\n",
      "\u001b[36muniverse-QAOxTI-0 |\u001b[0m [reward_recorder] [2019-06-24 16:20:50,626] [RewardProxyServer] [0] Websocket connection established\n",
      "\u001b[36muniverse-QAOxTI-0 |\u001b[0m [reward_recorder] [2019-06-24 16:20:50,626] [RewardProxyServer] [0] Connecting to upstream localhost:15900 (try 1/7)\n",
      "\u001b[36muniverse-QAOxTI-0 |\u001b[0m [reward_recorder] [2019-06-24 16:20:50,634] [RewardProxyServer] [0] Connection to localhost:15900 failed: [Failure instance: Traceback (failure with no frames): <class 'twisted.internet.error.ConnectionRefusedError'>: Connection was refused by other side: 111: Connection refused.\n",
      "\u001b[36muniverse-QAOxTI-0 |\u001b[0m [reward_recorder] ]. Try 1/7; going to retry in 1.500000s\n",
      "\u001b[36muniverse-QAOxTI-0 |\u001b[0m [reward_recorder] [2019-06-24 16:20:50,660] [RewardProxyServer] [1] Client connection closed: connection was closed uncleanly (peer dropped the TCP connection without previous WebSocket closing handshake)\n",
      "\u001b[36muniverse-QAOxTI-0 |\u001b[0m [reward_recorder] [2019-06-24 16:20:50,663] [RewardProxyServer] [2] Client connection closed: connection was closed uncleanly (peer dropped the TCP connection without previous WebSocket closing handshake)\n",
      "\u001b[36muniverse-QAOxTI-0 |\u001b[0m [reward_recorder] [2019-06-24 16:20:50,666] [RewardProxyServer] [3] Client connection closed: connection was closed uncleanly (peer dropped the TCP connection without previous WebSocket closing handshake)\n",
      "\u001b[36muniverse-QAOxTI-0 |\u001b[0m [reward_recorder] [2019-06-24 16:20:50,668] [RewardProxyServer] [4] Client connection closed: connection was closed uncleanly (peer dropped the TCP connection without previous WebSocket closing handshake)\n",
      "\u001b[36muniverse-QAOxTI-0 |\u001b[0m [reward_recorder] [2019-06-24 16:20:50,672] [RewardProxyServer] [5] Client connection closed: connection was closed uncleanly (peer dropped the TCP connection without previous WebSocket closing handshake)\n",
      "\u001b[36muniverse-QAOxTI-0 |\u001b[0m [reward_recorder] [2019-06-24 16:20:50,672] [RewardProxyServer] [6] Client connection closed: connection was closed uncleanly (peer dropped the TCP connection without previous WebSocket closing handshake)\n",
      "\u001b[36muniverse-QAOxTI-0 |\u001b[0m [reward_recorder] [2019-06-24 16:20:50,676] [RewardProxyServer] [7] Client connection closed: connection was closed uncleanly (peer dropped the TCP connection without previous WebSocket closing handshake)\n",
      "\u001b[36muniverse-QAOxTI-0 |\u001b[0m [reward_recorder] [2019-06-24 16:20:50,680] [RewardProxyServer] [8] Client connection closed: connection was closed uncleanly (peer dropped the TCP connection without previous WebSocket closing handshake)\n",
      "\u001b[36muniverse-QAOxTI-0 |\u001b[0m [reward_recorder] [2019-06-24 16:20:50,681] [RewardProxyServer] [9] Client connection closed: connection was closed uncleanly (peer dropped the TCP connection without previous WebSocket closing handshake)\n",
      "\u001b[36muniverse-QAOxTI-0 |\u001b[0m [reward_recorder] [2019-06-24 16:20:50,681] [RewardProxyServer] [10] Client connection closed: connection was closed uncleanly (peer dropped the TCP connection without previous WebSocket closing handshake)\n",
      "\u001b[36muniverse-QAOxTI-0 |\u001b[0m [reward_recorder] [2019-06-24 16:20:52,136] [RewardProxyServer] [0] Connecting to upstream localhost:15900 (try 2/7)\n",
      "\u001b[36muniverse-QAOxTI-0 |\u001b[0m [reward_recorder] [2019-06-24 16:20:52,139] [RewardProxyServer] [0] Upstream connection localhost:15900 established\n",
      "\u001b[36muniverse-QAOxTI-0 |\u001b[0m [reward_recorder] [2019-06-24 16:20:52,139] [RewardProxyServer] [0] Starting recording\n",
      "\u001b[36muniverse-QAOxTI-0 |\u001b[0m [reward_recorder] [2019-06-24 16:20:52,149] [RewardProxyServer] [0] n open rewards files incremented: 1\n",
      "\u001b[36muniverse-QAOxTI-0 |\u001b[0m [reward_recorder] [2019-06-24 16:20:52,154] [RewardProxyServer] [0] Wrote version number\n",
      "\u001b[36muniverse-QAOxTI-0 |\u001b[0m [reward_recorder] [2019-06-24 16:20:52,179] [RewardProxyClient] [0] Connected to rewarder\n",
      "\u001b[36muniverse-QAOxTI-0 |\u001b[0m [reward_recorder] [2019-06-24 16:20:52,179] [RewardProxyClient] [0] Flushing 1 buffered messages\n",
      "\u001b[36muniverse-QAOxTI-0 |\u001b[0m [reward_recorder] [2019-06-24 16:20:52,180] [RewardProxyClient] [0] Rewarder websocket connection established\n",
      "\u001b[36muniverse-QAOxTI-0 |\u001b[0m [reward_recorder] [2019-06-24 16:20:52,192] [RewardProxyClient] [0] Rewarder websocket connection closed: connection was closed uncleanly (peer dropped the TCP connection without previous WebSocket closing handshake)\n",
      "\u001b[36muniverse-QAOxTI-0 |\u001b[0m [reward_recorder] [2019-06-24 16:20:52,561] [RewardProxyServer] [0] Client connection closed: connection was closed uncleanly (peer dropped the TCP connection without previous WebSocket closing handshake)\n",
      "\u001b[36muniverse-QAOxTI-0 |\u001b[0m [reward_recorder] [2019-06-24 16:20:52,562] [RewardProxyClient] [0] Closing c[demonstration_agent] [2019-06-24 16:20:50,559] Making new env: wob.mini.ClickTab-v0\n",
      "\u001b[36muniverse-QAOxTI-0 |\u001b[0m [demonstration_agent] [2019-06-24 16:20:50,563] [DemonstrationAgent] Writing env id to file /tmp/demo/env_id.txt\n",
      "\u001b[36muniverse-QAOxTI-0 |\u001b[0m [demonstration_agent] [2019-06-24 16:20:50,564] Writing logs to file: /tmp/universe-49.log\n",
      "\u001b[36muniverse-QAOxTI-0 |\u001b[0m [demonstration_agent] [2019-06-24 16:20:50,565] Configuring VNCEnv\n",
      "\u001b[36muniverse-QAOxTI-0 |\u001b[0m [demonstration_agent] [2019-06-24 16:20:50,581] [0] Connecting to environment: vnc://None password=openai (you can connect to it using your VNC viewer, such as \"open vnc://None\" on OSX)\n",
      "\u001b[36muniverse-QAOxTI-0 |\u001b[0m [demonstration_agent] [2019-06-24 16:20:50,583] [DemonstrationAgent] Starting demonstration with remote=vnc://localhost+15899, your average score will be recorded below...\n",
      "\u001b[36muniverse-QAOxTI-0 |\u001b[0m [demonstration_agent] [2019-06-24 16:20:52,219] [0] Closing rewarder connection\n",
      "\u001b[36muniverse-QAOxTI-0 |\u001b[0m [demonstration_agent] Traceback (most recent call last):\n",
      "\u001b[36muniverse-QAOxTI-0 |\u001b[0m [demonstration_agent]   File \"/app/universe-envs/controlplane/bin/demonstration_agent.py\", line 74, in <module>\n",
      "\u001b[36muniverse-QAOxTI-0 |\u001b[0m [demonstration_agent]     observation, reward, done, info = env.step(action)\n",
      "\u001b[36muniverse-QAOxTI-0 |\u001b[0m [demonstration_agent]   File \"/usr/local/gym/gym/core.py\", line 122, in step\n",
      "\u001b[36muniverse-QAOxTI-0 |\u001b[0m [demonstration_agent]     observation, reward, done, info = self._step(action)\n",
      "\u001b[36muniverse-QAOxTI-0 |\u001b[0m [demonstration_agent]   File \"/app/universe/universe/wrappers/vectorize.py\", line 44, in _step\n",
      "\u001b[36muniverse-QAOxTI-0 |\u001b[0m [demonstration_agent]     observation_n, reward_n, done_n, info = self.env.step(action_n)\n",
      "\u001b[36muniverse-QAOxTI-0 |\u001b[0m [demonstration_agent]   File \"/usr/local/gym/gym/core.py\", line 122, in step\n",
      "\u001b[36muniverse-QAOxTI-0 |\u001b[0m [demonstration_agent]     observation, reward, done, info = self._step(action)\n"
     ]
    },
    {
     "name": "stdout",
     "output_type": "stream",
     "text": [
      "\u001b[36muniverse-QAOxTI-0 |\u001b[0m [demonstration_agent]   File \"/app/universe/universe/wrappers/timer.py\", line 15, in _step\n",
      "\u001b[36muniverse-QAOxTI-0 |\u001b[0m [demonstration_agent]     observation_n, reward_n, done_n, info = self.env.step(action_n)\n",
      "\u001b[36muniverse-QAOxTI-0 |\u001b[0m [demonstration_agent]   File \"/usr/local/gym/gym/core.py\", line 122, in step\n",
      "\u001b[36muniverse-QAOxTI-0 |\u001b[0m [demonstration_agent]     observation, reward, done, info = self._step(action)\n",
      "\u001b[36muniverse-QAOxTI-0 |\u001b[0m [demonstration_agent]   File \"/app/universe/universe/wrappers/render.py\", line 25, in _step\n",
      "\u001b[36muniverse-QAOxTI-0 |\u001b[0m [demonstration_agent]     observation_n, reward_n, done_n, info_n = self.env.step(action_n)\n",
      "\u001b[36muniverse-QAOxTI-0 |\u001b[0m [demonstration_agent]   File \"/usr/local/gym/gym/core.py\", line 122, in step\n",
      "\u001b[36muniverse-QAOxTI-0 |\u001b[0m [demonstration_agent]     observation, reward, done, info = self._step(action)\n",
      "\u001b[36muniverse-QAOxTI-0 |\u001b[0m [demonstration_agent]   File \"/app/universe/universe/wrappers/throttle.py\", line 117, in _step\n",
      "\u001b[36muniverse-QAOxTI-0 |\u001b[0m [demonstration_agent]     observation_n, reward_n, done_n, info = self._substep(action_n)\n",
      "\u001b[36muniverse-QAOxTI-0 |\u001b[0m [demonstration_agent]   File \"/app/universe/universe/wrappers/throttle.py\", line 132, in _substep\n",
      "\u001b[36muniverse-QAOxTI-0 |\u001b[0m [demonstration_agent]     observation_n, reward_n, done_n, info = self.env.step(action_n)\n",
      "\u001b[36muniverse-QAOxTI-0 |\u001b[0m [demonstration_agent]   File \"/usr/local/gym/gym/core.py\", line 122, in step\n",
      "\u001b[36muniverse-QAOxTI-0 |\u001b[0m [demonstration_agent]     observation, reward, done, info = self._step(action)\n",
      "\u001b[36muniverse-QAOxTI-0 |\u001b[0m [demonstration_agent]   File \"/app/universe/universe/envs/vnc_env.py\", line 413, in _step\n",
      "\u001b[36muniverse-QAOxTI-0 |\u001b[0m [demonstration_agent]     self._handle_crashed_n(info_n)\n",
      "\u001b[36muniverse-QAOxTI-0 |\u001b[0m [demonstration_agent]   File \"/app/universe/universe/envs/vnc_env.py\", line 484, in _handle_crashed_n\n",
      "\u001b[36muniverse-QAOxTI-0 |\u001b[0m [demonstration_agent]     raise error.Error('{}/{} environments have crashed! Most recent error: {}'.format(len(self.crashed), self.n, errors))\n",
      "\u001b[36muniverse-QAOxTI-0 |\u001b[0m [demonstration_agent] universe.error.Error: 1/1 environments have crashed! Most recent error: {'0': 'Rewarder session failed: The rewarder already has an active client. (HINT: if you obtained your environment through the allocator, make sure to run .configure(client_id=...) with a different client_id for each concurrent worker.)'}\n",
      "\u001b[36muniverse-QAOxTI-0 |\u001b[0m [2019-06-24 16:20:52,696] Rewarder thread is waiting for the browser instance...\n",
      "\u001b[36muniverse-QAOxTI-0 |\u001b[0m [2019-06-24 16:20:52,947] Rewarder thread is waiting for the browser instance...\n"
     ]
    },
    {
     "name": "stderr",
     "output_type": "stream",
     "text": [
      "[2019-06-24 18:20:53,149] Using the golang VNC implementation\n",
      "[2019-06-24 18:20:53,150] Using VNCSession arguments: {'encoding': 'tight', 'compress_level': 0, 'fine_quality_level': 100, 'subsample_level': 0, 'start_timeout': 7}. (Customize by running \"env.configure(vnc_kwargs={...})\"\n",
      "[2019-06-24 18:20:53,169] [0] Connecting to environment: vnc://localhost:5900 password=openai. If desired, you can manually connect a VNC viewer, such as TurboVNC. Most environments provide a convenient in-browser VNC client: http://localhost:15900/viewer/?password=openai\n"
     ]
    },
    {
     "name": "stdout",
     "output_type": "stream",
     "text": [
      "\u001b[36muniverse-QAOxTI-0 |\u001b[0m [2019-06-24 16:20:53,159] WebSocket connection closed: connection was closed uncleanly (peer dropped the TCP connection without previous WebSocket closing handshake)\n",
      "\u001b[36muniverse-QAOxTI-0 |\u001b[0m [2019-06-24 16:20:53,210] Rewarder thread is waiting for the browser instance...\n",
      "\u001b[36muniverse-QAOxTI-0 |\u001b[0m [2019-06-24 16:20:53,278] Client connecting: peer=tcp4:172.17.0.1:36708 observer=False\n",
      "\u001b[36muniverse-QAOxTI-0 |\u001b[0m [2019-06-24 16:20:53,293] WebSocket connection established\n",
      "\u001b[36muniverse-QAOxTI-0 |\u001b[0m [2019-06-24 16:20:53,413] WebSocket connection closed: connection was closed uncleanly (peer dropped the TCP connection without previous WebSocket closing handshake)\n",
      "\u001b[36muniverse-QAOxTI-0 |\u001b[0m [2019-06-24 16:20:53,434] WebSocket connection closed: connection was closed uncleanly (peer dropped the TCP connection without previous WebSocket closing handshake)\n",
      "\u001b[36muniverse-QAOxTI-0 |\u001b[0m [2019-06-24 16:20:53,448] WebSocket connection closed: connection was closed uncleanly (peer dropped the TCP connection without previous WebSocket closing handshake)\n",
      "\u001b[36muniverse-QAOxTI-0 |\u001b[0m [2019-06-24 16:20:53,464] CONNECTION STATUS: Marking connection as active: observer=False peer=tcp4:172.17.0.1:36708 total_conns=1\n",
      "\u001b[36muniverse-QAOxTI-0 |\u001b[0m [2019-06-24 16:20:53,475] Rewarder thread is waiting for the browser instance...\n",
      "\u001b[36muniverse-QAOxTI-0 |\u001b[0m [2019-06-24 16:20:53,487] WebSocket connection closed: connection was closed uncleanly (peer dropped the TCP connection without previous WebSocket closing handshake)\n",
      "\u001b[36muniverse-QAOxTI-0 |\u001b[0m [2019-06-24 16:20:53,504] WebSocket connection closed: connection was closed uncleanly (peer dropped the TCP connection without previous WebSocket closing handshake)\n",
      "\u001b[36muniverse-QAOxTI-0 |\u001b[0m [2019-06-24 16:20:53,521] WebSocket connection closed: connection was closed uncleanly (peer dropped the TCP connection without previous WebSocket closing handshake)\n",
      "\u001b[36muniverse-QAOxTI-0 |\u001b[0m [2019-06-24 16:20:53,531] WebSocket connection closed: connection was closed uncleanly (peer dropped the TCP connection without previous WebSocket closing handshake)\n",
      "\u001b[36muniverse-QAOxTI-0 |\u001b[0m [2019-06-24 16:20:53,554] WebSocket connection closed: connection was closed uncleanly (peer dropped the TCP connection without previous WebSocket closing handshake)\n",
      "\u001b[36muniverse-QAOxTI-0 |\u001b[0m [2019-06-24 16:20:53,557] WebSocket connection closed: connection was closed uncleanly (peer dropped the TCP connection without previous WebSocket closing handshake)\n",
      "\u001b[36muniverse-QAOxTI-0 |\u001b[0m [2019-06-24 16:20:53,571] WebSocket connection closed: connection was closed uncleanly (peer dropped the TCP connection without previous WebSocket closing handshake)\n"
     ]
    },
    {
     "name": "stderr",
     "output_type": "stream",
     "text": [
      "[2019-06-24 18:20:53,635] [0:localhost:5900] Sending reset for env_id=wob.mini.ClickDialog-v0 fps=60 episode_id=0\n"
     ]
    },
    {
     "name": "stdout",
     "output_type": "stream",
     "text": [
      "\u001b[36muniverse-QAOxTI-0 |\u001b[0m [2019-06-24 16:20:53,646] Received reset message: {'headers': {'sent_at': 1561393253.637295, 'message_id': 10, 'episode_id': '0'}, 'method': 'v0.env.reset', 'body': {'seed': None, 'env_id': 'wob.mini.ClickDialog-v0', 'fps': 60}}\n",
      "\u001b[36muniverse-QAOxTI-0 |\u001b[0m [2019-06-24 16:20:53,727] Rewarder thread is waiting for the browser instance...\n",
      "\u001b[36muniverse-QAOxTI-0 |\u001b[0m [2019-06-24 16:20:53,979] Rewarder thread is waiting for the browser instance...\n",
      "\u001b[36muniverse-QAOxTI-0 |\u001b[0m [2019-06-24 16:20:54,230] Rewarder thread is waiting for the browser instance...\n",
      "\u001b[36muniverse-QAOxTI-0 |\u001b[0m [2019-06-24 16:20:54,487] Rewarder thread is waiting for the browser instance...\n",
      "\u001b[36muniverse-QAOxTI-0 |\u001b[0m [2019-06-24 16:20:54,738] Rewarder thread is waiting for the browser instance...\n",
      "\u001b[36muniverse-QAOxTI-0 |\u001b[0m [2019-06-24 16:20:54,990] Rewarder thread is waiting for the browser instance...\n",
      "\u001b[36muniverse-QAOxTI-0 |\u001b[0m [2019-06-24 16:20:55,242] Rewarder thread is waiting for the browser instance...\n",
      "\u001b[36muniverse-QAOxTI-0 |\u001b[0m [2019-06-24 16:20:55,493] Rewarder thread is waiting for the browser instance...\n",
      "\u001b[36muniverse-QAOxTI-0 |\u001b[0m [2019-06-24 16:20:55,744] Rewarder thread is waiting for first reset to finish...\n",
      "\u001b[36muniverse-QAOxTI-0 |\u001b[0m [2019-06-24 16:20:55,761] changing url to http://localhost/miniwob/click-tab.html\n",
      "\u001b[36muniverse-QAOxTI-0 |\u001b[0m [2019-06-24 16:20:55,997] Rewarder thread is waiting for first reset to finish...\n",
      "\u001b[36muniverse-QAOxTI-0 |\u001b[0m [2019-06-24 16:20:56,247] Rewarder thread is waiting for first reset to finish...\n",
      "\u001b[36muniverse-QAOxTI-0 |\u001b[0m [2019-06-24 16:20:56,499] Rewarder thread is waiting for first reset to finish...\n",
      "\u001b[36muniverse-QAOxTI-0 |\u001b[0m [2019-06-24 16:20:56,750] Rewarder thread is waiting for first reset to finish...\n",
      "\u001b[36muniverse-QAOxTI-0 |\u001b[0m [2019-06-24 16:20:56,787] Waiting for document to load: complete\n",
      "\u001b[36muniverse-QAOxTI-0 |\u001b[0m [2019-06-24 16:20:56,788] [EnvStatus] Changing env_state: resetting (env_id=wob.mini.ClickTab-v0) -> running (env_id=wob.mini.ClickTab-v0) (episode_id: 1->1, fps=15)\n",
      "\u001b[36muniverse-QAOxTI-0 |\u001b[0m [2019-06-24 16:20:56,793] [EnvStatus] Changing env_state: running (env_id=wob.mini.ClickTab-v0) -> resetting (env_id=wob.mini.ClickDialog-v0) (episode_id: 1->2, fps=15)\n",
      "\u001b[36muniverse-QAOxTI-0 |\u001b[0m [2019-06-24 16:20:56,811] changing url to http://localhost/miniwob/click-dialog.html\n",
      "\u001b[36muniverse-QAOxTI-0 |\u001b[0m [2019-06-24 16:20:57,001] Request-sent\n",
      "\u001b[36muniverse-QAOxTI-0 |\u001b[0m [2019-06-24 16:20:57,348] [instruction] Sent env text Close the dialog box by clicking the \"x\".\n",
      "\u001b[36muniverse-QAOxTI-0 |\u001b[0m [2019-06-24 16:20:57,349] instruction generated \n",
      "\u001b[36muniverse-QAOxTI-0 |\u001b[0m [2019-06-24 16:20:57,366] Waiting for document to load: complete\n",
      "\u001b[36muniverse-QAOxTI-0 |\u001b[0m [2019-06-24 16:20:57,366] [EnvStatus] Changing env_state: resetting (env_id=wob.mini.ClickDialog-v0) -> running (env_id=wob.mini.ClickDialog-v0) (episode_id: 2->2, fps=15)\n"
     ]
    },
    {
     "name": "stderr",
     "output_type": "stream",
     "text": [
      "[2019-06-24 18:20:57,366] [0:localhost:5900] Initial reset complete: episode_id=2\n"
     ]
    },
    {
     "name": "stdout",
     "output_type": "stream",
     "text": [
      "\u001b[36muniverse-QAOxTI-0 |\u001b[0m [2019-06-24 16:20:57,371] Sending rewarder message: {'headers': {'sent_at': 1561393257.371164, 'message_id': 16, 'parent_message_id': 10, 'episode_id': '2', 'parent_runtime': 3.72476863861084}, 'method': 'v0.reply.env.reset', 'body': {}}\n"
     ]
    }
   ],
   "source": [
    "env.configure(remotes=1, docker_image=DOCKER_IMAGE, fps=5, vnc_kwargs={\n",
    "        'encoding': 'tight', 'compress_level': 0,\n",
    "        'fine_quality_level': 100, 'subsample_level': 0\n",
    "    })\n",
    "obs = env.reset()"
   ]
  },
  {
   "cell_type": "code",
   "execution_count": 5,
   "metadata": {},
   "outputs": [
    {
     "name": "stderr",
     "output_type": "stream",
     "text": [
      "[2019-06-24 18:21:03,290] Throttle fell behind by 9.92s; lost 49.58 frames\n"
     ]
    },
    {
     "name": "stdout",
     "output_type": "stream",
     "text": [
      "Env is still resetting...\n",
      "\u001b[36muniverse-QAOxTI-0 |\u001b[0m [2019-06-24 16:21:03,387] Rewarder falling behind -0.036989\n",
      "\u001b[36muniverse-QAOxTI-0 |\u001b[0m [2019-06-24 16:21:03,433] Rewarder falling behind -0.016298\n",
      "\u001b[36muniverse-QAOxTI-0 |\u001b[0m [2019-06-24 16:21:07,377] Sending reward to agent: reward=-1.00 done=True\n",
      "\u001b[36muniverse-QAOxTI-0 |\u001b[0m [2019-06-24 16:21:07,381] Triggering a reset on EnvController\n",
      "\u001b[36muniverse-QAOxTI-0 |\u001b[0m [2019-06-24 16:21:07,382] [EnvStatus] Changing env_state: running (env_id=wob.mini.ClickDialog-v0) -> resetting (env_id=wob.mini.ClickDialog-v0) (episode_id: 2->3, fps=15)\n",
      "\u001b[36muniverse-QAOxTI-0 |\u001b[0m [2019-06-24 16:21:07,387] Rewarder waiting for env to be reset\n"
     ]
    }
   ],
   "source": [
    "while obs[0] is None:\n",
    "    a = env.action_space.sample()\n",
    "    obs, reward, is_done, info = env.step([a])\n",
    "    print(\"Env is still resetting...\")\n",
    "    time.sleep(1)"
   ]
  },
  {
   "cell_type": "code",
   "execution_count": 6,
   "metadata": {},
   "outputs": [
    {
     "data": {
      "text/plain": [
       "[{'vision': array([[[0, 0, 0],\n",
       "          [0, 0, 0],\n",
       "          [0, 0, 0],\n",
       "          ...,\n",
       "          [0, 0, 0],\n",
       "          [0, 0, 0],\n",
       "          [0, 0, 0]],\n",
       "  \n",
       "         [[0, 0, 0],\n",
       "          [0, 0, 0],\n",
       "          [0, 0, 0],\n",
       "          ...,\n",
       "          [0, 0, 0],\n",
       "          [0, 0, 0],\n",
       "          [0, 0, 0]],\n",
       "  \n",
       "         [[0, 0, 0],\n",
       "          [0, 0, 0],\n",
       "          [0, 0, 0],\n",
       "          ...,\n",
       "          [0, 0, 0],\n",
       "          [0, 0, 0],\n",
       "          [0, 0, 0]],\n",
       "  \n",
       "         ...,\n",
       "  \n",
       "         [[0, 0, 0],\n",
       "          [0, 0, 0],\n",
       "          [0, 0, 0],\n",
       "          ...,\n",
       "          [0, 0, 0],\n",
       "          [0, 0, 0],\n",
       "          [0, 0, 0]],\n",
       "  \n",
       "         [[0, 0, 0],\n",
       "          [0, 0, 0],\n",
       "          [0, 0, 0],\n",
       "          ...,\n",
       "          [0, 0, 0],\n",
       "          [0, 0, 0],\n",
       "          [0, 0, 0]],\n",
       "  \n",
       "         [[0, 0, 0],\n",
       "          [0, 0, 0],\n",
       "          [0, 0, 0],\n",
       "          ...,\n",
       "          [0, 0, 0],\n",
       "          [0, 0, 0],\n",
       "          [0, 0, 0]]], dtype=uint8),\n",
       "  'text': [{'instruction': 'Close the dialog box by clicking the \"x\".'}]}]"
      ]
     },
     "execution_count": 6,
     "metadata": {},
     "output_type": "execute_result"
    },
    {
     "name": "stdout",
     "output_type": "stream",
     "text": [
      "\u001b[36muniverse-QAOxTI-0 |\u001b[0m [2019-06-24 16:21:07,425] Waiting for document to load: complete\n",
      "\u001b[36muniverse-QAOxTI-0 |\u001b[0m [2019-06-24 16:21:07,425] [EnvStatus] Changing env_state: resetting (env_id=wob.mini.ClickDialog-v0) -> running (env_id=wob.mini.ClickDialog-v0) (episode_id: 3->3, fps=15)\n",
      "\u001b[36muniverse-QAOxTI-0 |\u001b[0m [2019-06-24 16:21:07,499] Waiting for client to reset\n",
      "\u001b[36muniverse-QAOxTI-0 |\u001b[0m [2019-06-24 16:21:07,760] Waiting for client to reset\n",
      "\u001b[36muniverse-QAOxTI-0 |\u001b[0m [2019-06-24 16:21:08,037] [instruction] Sent env text Close the dialog box by clicking the \"x\".\n",
      "\u001b[36muniverse-QAOxTI-0 |\u001b[0m [2019-06-24 16:21:08,038] instruction generated \n",
      "\u001b[36muniverse-QAOxTI-0 |\u001b[0m [2019-06-24 16:21:08,242] Rewarder falling behind -0.001808\n",
      "\u001b[36muniverse-QAOxTI-0 |\u001b[0m [2019-06-24 16:21:09,197] Rewarder falling behind -0.023202\n",
      "\u001b[36muniverse-QAOxTI-0 |\u001b[0m [2019-06-24 16:21:09,248] Rewarder falling behind -0.007343\n"
     ]
    }
   ],
   "source": [
    "obs"
   ]
  },
  {
   "cell_type": "code",
   "execution_count": 7,
   "metadata": {},
   "outputs": [],
   "source": [
    "im = Image.fromarray(obs[0]['vision'])"
   ]
  },
  {
   "cell_type": "code",
   "execution_count": 8,
   "metadata": {},
   "outputs": [
    {
     "data": {
      "image/png": "[encoded data removed]",
      "text/plain": [
       "<PIL.Image.Image image mode=RGB size=1024x768 at 0x112BB2BE0>"
      ]
     },
     "execution_count": 8,
     "metadata": {},
     "output_type": "execute_result"
    },
    {
     "name": "stdout",
     "output_type": "stream",
     "text": [
      "\u001b[36muniverse-QAOxTI-0 |\u001b[0m [2019-06-24 16:21:16,549] Rewarder falling behind -0.708384\n",
      "\u001b[36muniverse-QAOxTI-0 |\u001b[0m [2019-06-24 16:21:16,601] Rewarder falling behind -0.693631\n",
      "\u001b[36muniverse-QAOxTI-0 |\u001b[0m [2019-06-24 16:21:16,659] Rewarder falling behind -0.685759\n",
      "\u001b[36muniverse-QAOxTI-0 |\u001b[0m [2019-06-24 16:21:16,712] Rewarder falling behind -0.671582\n",
      "\u001b[36muniverse-QAOxTI-0 |\u001b[0m [2019-06-24 16:21:16,780] Rewarder falling behind -0.673141\n",
      "\u001b[36muniverse-QAOxTI-0 |\u001b[0m [2019-06-24 16:21:16,827] Rewarder falling behind -0.653585\n",
      "\u001b[36muniverse-QAOxTI-0 |\u001b[0m [2019-06-24 16:21:16,873] Rewarder falling behind -0.632877\n",
      "\u001b[36muniverse-QAOxTI-0 |\u001b[0m [2019-06-24 16:21:16,928] Rewarder falling behind -0.621505\n",
      "\u001b[36muniverse-QAOxTI-0 |\u001b[0m [2019-06-24 16:21:16,964] Rewarder falling behind -0.590335\n"
     ]
    }
   ],
   "source": [
    "im"
   ]
  },
  {
   "cell_type": "code",
   "execution_count": 9,
   "metadata": {},
   "outputs": [
    {
     "name": "stdout",
     "output_type": "stream",
     "text": [
      "\u001b[36muniverse-QAOxTI-0 |\u001b[0m [2019-06-24 16:21:17,000] WebSocket connection closed: closed by RewarderSession.close\n",
      "\u001b[36muniverse-QAOxTI-0 |\u001b[0m [2019-06-24 16:21:17,026] Rewarder falling behind -0.586210\n",
      "\u001b[36muniverse-QAOxTI-0 |\u001b[0m [2019-06-24 16:21:17,072] Rewarder falling behind -0.565111\n",
      "\u001b[36muniverse-QAOxTI-0 |\u001b[0m [2019-06-24 16:21:17,113] Rewarder falling behind -0.539731\n",
      "\u001b[36muniverse-QAOxTI-0 |\u001b[0m [2019-06-24 16:21:17,156] Rewarder falling behind -0.515614\n",
      "\u001b[36muniverse-QAOxTI-0 |\u001b[0m [2019-06-24 16:21:17,194] Rewarder falling behind -0.486784\n",
      "\u001b[36muniverse-QAOxTI-0 |\u001b[0m [2019-06-24 16:21:17,244] Rewarder falling behind -0.470296\n",
      "\u001b[36muniverse-QAOxTI-0 |\u001b[0m [2019-06-24 16:21:17,283] Rewarder falling behind -0.443208\n",
      "\u001b[36muniverse-QAOxTI-0 |\u001b[0m [2019-06-24 16:21:17,325] Rewarder falling behind -0.417698\n",
      "\u001b[36muniverse-QAOxTI-0 |\u001b[0m [2019-06-24 16:21:17,363] Rewarder falling behind -0.389908\n",
      "\u001b[36muniverse-QAOxTI-0 |\u001b[0m [2019-06-24 16:21:17,404] Rewarder falling behind -0.363409\n",
      "\u001b[36muniverse-QAOxTI-0 |\u001b[0m [2019-06-24 16:21:17,448] Rewarder falling behind -0.341410\n",
      "\u001b[36muniverse-QAOxTI-0 |\u001b[0m [2019-06-24 16:21:17,491] Rewarder falling behind -0.317224\n",
      "\u001b[36muniverse-QAOxTI-0 |\u001b[0m [2019-06-24 16:21:17,529] Rewarder falling behind -0.288823\n",
      "\u001b[36muniverse-QAOxTI-0 |\u001b[0m [2019-06-24 16:21:17,565] Rewarder falling behind -0.257882\n",
      "\u001b[36muniverse-QAOxTI-0 |\u001b[0m [2019-06-24 16:21:17,609] Rewarder falling behind -0.235511\n",
      "\u001b[36muniverse-QAOxTI-0 |\u001b[0m [2019-06-24 16:21:17,656] Rewarder falling behind -0.215292\n",
      "\u001b[36muniverse-QAOxTI-0 |\u001b[0m [2019-06-24 16:21:17,710] Rewarder falling behind -0.202873\n",
      "\u001b[36muniverse-QAOxTI-0 |\u001b[0m [2019-06-24 16:21:17,762] Rewarder falling behind -0.188365\n",
      "\u001b[36muniverse-QAOxTI-0 |\u001b[0m [2019-06-24 16:21:17,811] Rewarder falling behind -0.170621\n",
      "\u001b[36muniverse-QAOxTI-0 |\u001b[0m [2019-06-24 16:21:17,846] Rewarder falling behind -0.139390\n",
      "\u001b[36muniverse-QAOxTI-0 |\u001b[0m [2019-06-24 16:21:17,897] Triggering a reset on EnvController\n",
      "\u001b[36muniverse-QAOxTI-0 |\u001b[0m [2019-06-24 16:21:17,898] [EnvStatus] Changing env_state: running (env_id=wob.mini.ClickDialog-v0) -> resetting (env_id=wob.mini.ClickDialog-v0) (episode_id: 3->4, fps=15)\n",
      "\u001b[36muniverse-QAOxTI-0 |\u001b[0m [2019-06-24 16:21:17,902] Rewarder waiting for env to be reset\n",
      "\u001b[36muniverse-QAOxTI-0 |\u001b[0m [2019-06-24 16:21:17,947] Waiting for document to load: complete\n",
      "\u001b[36muniverse-QAOxTI-0 |\u001b[0m [2019-06-24 16:21:17,948] [EnvStatus] Changing env_state: resetting (env_id=wob.mini.ClickDialog-v0) -> running (env_id=wob.mini.ClickDialog-v0) (episode_id: 4->4, fps=15)\n",
      "\u001b[36muniverse-QAOxTI-0 |\u001b[0m [2019-06-24 16:21:18,016] Waiting for client to reset\n",
      "\u001b[36muniverse-QAOxTI-0 |\u001b[0m [2019-06-24 16:21:18,283] Waiting for client to reset\n",
      "\u001b[36muniverse-QAOxTI-0 |\u001b[0m [2019-06-24 16:21:18,527] [instruction] Sent env text Close the dialog box by clicking the \"x\".\n",
      "\u001b[36muniverse-QAOxTI-0 |\u001b[0m [2019-06-24 16:21:18,530] instruction generated \n",
      "\u001b[36muniverse-QAOxTI-0 |\u001b[0m [2019-06-24 16:21:18,637] Sending reward to agent: reward=-1.00 done=False\n"
     ]
    }
   ],
   "source": [
    "env.close()"
   ]
  },
  {
   "cell_type": "code",
   "execution_count": 10,
   "metadata": {},
   "outputs": [
    {
     "name": "stdout",
     "output_type": "stream",
     "text": [
      "CONTAINER ID        IMAGE                   COMMAND                  CREATED             STATUS              PORTS                                                        NAMES\r\n",
      "94c0243232cc        shmuma/miniwob:latest   \"/app/universe-envs/…\"   34 seconds ago      Up 32 seconds       0.0.0.0:5900->5900/tcp, 5899/tcp, 0.0.0.0:15900->15900/tcp   universe-QAOxTI-0\r\n"
     ]
    }
   ],
   "source": [
    "!docker ps"
   ]
  },
  {
   "cell_type": "code",
   "execution_count": 11,
   "metadata": {},
   "outputs": [
    {
     "name": "stdout",
     "output_type": "stream",
     "text": [
      "94c0243232cc\r\n"
     ]
    }
   ],
   "source": [
    "!docker stop `docker ps -q`"
   ]
  },
  {
   "cell_type": "markdown",
   "metadata": {},
   "source": [
    "# Start containers manually"
   ]
  },
  {
   "cell_type": "code",
   "execution_count": 19,
   "metadata": {},
   "outputs": [
    {
     "name": "stdout",
     "output_type": "stream",
     "text": [
      "Starting container 1\n",
      "2e5b21c19ea7fe28bdd7300a8f2985c3bfa8a3343290e58684aee9a08ecac58d\n",
      "Starting container 2\n",
      "02907f19c03af5eb869c1040cf5fc5497d84e27213584e17421c688fbefe4b15\n"
     ]
    }
   ],
   "source": [
    "!./containers_run.sh 2"
   ]
  },
  {
   "cell_type": "code",
   "execution_count": 20,
   "metadata": {},
   "outputs": [],
   "source": [
    "def remotes_url(port_ofs=0, hostname='localhost', count=8):\n",
    "    hosts = [\"%s:%d+%d\" % (hostname, 5900 + ofs, 15900 + ofs) for ofs in range(port_ofs, port_ofs+count)]\n",
    "    return \"vnc://\" + \",\".join(hosts)"
   ]
  },
  {
   "cell_type": "code",
   "execution_count": 21,
   "metadata": {},
   "outputs": [
    {
     "name": "stderr",
     "output_type": "stream",
     "text": [
      "[2019-06-26 08:40:59,101] Making new env: wob.mini.ClickDialog-v0\n",
      "/anaconda3/envs/miniwob/lib/python3.6/site-packages/gym/envs/registration.py:17: PkgResourcesDeprecationWarning: Parameters to load are deprecated.  Call .resolve and .require separately.\n",
      "  result = entry_point.load(False)\n",
      "[2019-06-26 08:40:59,174] Using the golang VNC implementation\n",
      "[2019-06-26 08:40:59,177] Using VNCSession arguments: {'encoding': 'tight', 'compress_level': 0, 'fine_quality_level': 100, 'subsample_level': 0, 'start_timeout': 9}. (Customize by running \"env.configure(vnc_kwargs={...})\"\n",
      "[2019-06-26 08:40:59,213] [0] Connecting to environment: vnc://localhost:5900 password=openai. If desired, you can manually connect a VNC viewer, such as TurboVNC. Most environments provide a convenient in-browser VNC client: http://localhost:15900/viewer/?password=openai\n",
      "[2019-06-26 08:40:59,228] [1] Connecting to environment: vnc://localhost:5901 password=openai. If desired, you can manually connect a VNC viewer, such as TurboVNC. Most environments provide a convenient in-browser VNC client: http://localhost:15901/viewer/?password=openai\n"
     ]
    },
    {
     "name": "stdout",
     "output_type": "stream",
     "text": [
      "vnc://localhost:5900+15900,localhost:5901+15901\n"
     ]
    },
    {
     "name": "stderr",
     "output_type": "stream",
     "text": [
      "[2019-06-26 08:40:59,584] [1:localhost:5901] Sending reset for env_id=wob.mini.ClickDialog-v0 fps=60 episode_id=0\n",
      "[2019-06-26 08:41:02,122] [1:localhost:5901] Initial reset complete: episode_id=2\n"
     ]
    }
   ],
   "source": [
    "env = gym.make(\"wob.mini.ClickDialog-v0\")\n",
    "url = remotes_url(count=2)\n",
    "print(url)\n",
    "\n",
    "env.configure(remotes=url, docker_image=DOCKER_IMAGE, fps=5, vnc_kwargs={\n",
    "        'encoding': 'tight', 'compress_level': 0,\n",
    "        'fine_quality_level': 100, 'subsample_level': 0\n",
    "    })\n",
    "obs = env.reset()"
   ]
  },
  {
   "cell_type": "code",
   "execution_count": 22,
   "metadata": {},
   "outputs": [
    {
     "name": "stderr",
     "output_type": "stream",
     "text": [
      "[2019-06-26 08:41:03,133] Throttle fell behind by 3.68s; lost 18.42 frames\n"
     ]
    },
    {
     "name": "stdout",
     "output_type": "stream",
     "text": [
      "Env is still resetting...\n",
      "Env is still resetting...\n",
      "Env is still resetting...\n",
      "Env is still resetting...\n",
      "Env is still resetting...\n",
      "Env is still resetting...\n",
      "Env is still resetting...\n",
      "Env is still resetting...\n",
      "Env is still resetting...\n",
      "Env is still resetting...\n",
      "Env is still resetting...\n",
      "Env is still resetting...\n",
      "Env is still resetting...\n",
      "Env is still resetting...\n",
      "Env is still resetting...\n",
      "Env is still resetting...\n"
     ]
    },
    {
     "name": "stderr",
     "output_type": "stream",
     "text": [
      "[2019-06-26 08:41:19,395] [0:localhost:5900] ntpdate -q -p 8 localhost call timed out after 20.0s; killing the subprocess. This is ok, but you could have more accurate timings by enabling UDP port 123 traffic to your env. (Alternatively, you can try increasing the timeout by setting environment variable UNIVERSE_NTPDATE_TIMEOUT=10.)\n"
     ]
    },
    {
     "name": "stdout",
     "output_type": "stream",
     "text": [
      "Env is still resetting...\n"
     ]
    },
    {
     "name": "stderr",
     "output_type": "stream",
     "text": [
      "[2019-06-26 08:41:19,685] [0:localhost:5900] Sending reset for env_id=wob.mini.ClickDialog-v0 fps=60 episode_id=0\n"
     ]
    },
    {
     "name": "stdout",
     "output_type": "stream",
     "text": [
      "Env is still resetting...\n",
      "Env is still resetting...\n"
     ]
    },
    {
     "name": "stderr",
     "output_type": "stream",
     "text": [
      "[2019-06-26 08:41:21,873] [0:localhost:5900] Initial reset complete: episode_id=3\n"
     ]
    },
    {
     "name": "stdout",
     "output_type": "stream",
     "text": [
      "Env is still resetting...\n"
     ]
    }
   ],
   "source": [
    "while obs[0] is None:\n",
    "    a = env.action_space.sample()\n",
    "    obs, reward, is_done, info = env.step([a])\n",
    "    print(\"Env is still resetting...\")\n",
    "    time.sleep(1)"
   ]
  },
  {
   "cell_type": "code",
   "execution_count": 29,
   "metadata": {},
   "outputs": [
    {
     "data": {
      "text/plain": [
       "{'vision': array([[[0, 0, 0],\n",
       "         [0, 0, 0],\n",
       "         [0, 0, 0],\n",
       "         ...,\n",
       "         [0, 0, 0],\n",
       "         [0, 0, 0],\n",
       "         [0, 0, 0]],\n",
       " \n",
       "        [[0, 0, 0],\n",
       "         [0, 0, 0],\n",
       "         [0, 0, 0],\n",
       "         ...,\n",
       "         [0, 0, 0],\n",
       "         [0, 0, 0],\n",
       "         [0, 0, 0]],\n",
       " \n",
       "        [[0, 0, 0],\n",
       "         [0, 0, 0],\n",
       "         [0, 0, 0],\n",
       "         ...,\n",
       "         [0, 0, 0],\n",
       "         [0, 0, 0],\n",
       "         [0, 0, 0]],\n",
       " \n",
       "        ...,\n",
       " \n",
       "        [[0, 0, 0],\n",
       "         [0, 0, 0],\n",
       "         [0, 0, 0],\n",
       "         ...,\n",
       "         [0, 0, 0],\n",
       "         [0, 0, 0],\n",
       "         [0, 0, 0]],\n",
       " \n",
       "        [[0, 0, 0],\n",
       "         [0, 0, 0],\n",
       "         [0, 0, 0],\n",
       "         ...,\n",
       "         [0, 0, 0],\n",
       "         [0, 0, 0],\n",
       "         [0, 0, 0]],\n",
       " \n",
       "        [[0, 0, 0],\n",
       "         [0, 0, 0],\n",
       "         [0, 0, 0],\n",
       "         ...,\n",
       "         [0, 0, 0],\n",
       "         [0, 0, 0],\n",
       "         [0, 0, 0]]], dtype=uint8), 'text': []}"
      ]
     },
     "execution_count": 29,
     "metadata": {},
     "output_type": "execute_result"
    }
   ],
   "source": [
    "obs[0]"
   ]
  },
  {
   "cell_type": "code",
   "execution_count": 24,
   "metadata": {},
   "outputs": [
    {
     "data": {
      "text/plain": [
       "<universe.spaces.vnc_action_space.VNCActionSpace at 0x11fc87e10>"
      ]
     },
     "execution_count": 24,
     "metadata": {},
     "output_type": "execute_result"
    }
   ],
   "source": [
    "env.action_space"
   ]
  },
  {
   "cell_type": "code",
   "execution_count": 25,
   "metadata": {},
   "outputs": [
    {
     "data": {
      "text/plain": [
       "<universe.spaces.vnc_observation_space.VNCObservationSpace at 0x11fc87198>"
      ]
     },
     "execution_count": 25,
     "metadata": {},
     "output_type": "execute_result"
    }
   ],
   "source": [
    "env.observation_space"
   ]
  },
  {
   "cell_type": "code",
   "execution_count": 16,
   "metadata": {},
   "outputs": [
    {
     "data": {
      "image/png": "[encoded data removed]",
      "text/plain": [
       "<PIL.Image.Image image mode=RGB size=1024x768 at 0x11E401C50>"
      ]
     },
     "execution_count": 16,
     "metadata": {},
     "output_type": "execute_result"
    }
   ],
   "source": [
    "im = Image.fromarray(obs[0]['vision'])\n",
    "im"
   ]
  },
  {
   "cell_type": "code",
   "execution_count": 26,
   "metadata": {},
   "outputs": [],
   "source": [
    "env.close()"
   ]
  },
  {
   "cell_type": "code",
   "execution_count": 27,
   "metadata": {},
   "outputs": [
    {
     "name": "stdout",
     "output_type": "stream",
     "text": [
      "02907f19c03a\r\n",
      "2e5b21c19ea7\r\n"
     ]
    }
   ],
   "source": [
    "!./containers_stop.sh"
   ]
  },
  {
   "cell_type": "markdown",
   "metadata": {},
   "source": [
    "# Logs redirection\n",
    "\n",
    "As universe is very noisy\n",
    "TODO\n",
    "\n",
    "Check this:\n",
    "https://github.com/openai/universe/pull/185/files"
   ]
  },
  {
   "cell_type": "code",
   "execution_count": null,
   "metadata": {},
   "outputs": [],
   "source": []
  }
 ],
 "metadata": {
  "kernelspec": {
   "display_name": "Python 3",
   "language": "python",
   "name": "python3"
  },
  "language_info": {
   "codemirror_mode": {
    "name": "ipython",
    "version": 3
   },
   "file_extension": ".py",
   "mimetype": "text/x-python",
   "name": "python",
   "nbconvert_exporter": "python",
   "pygments_lexer": "ipython3",
   "version": "3.6.8"
  }
 },
 "nbformat": 4,
 "nbformat_minor": 2
}
