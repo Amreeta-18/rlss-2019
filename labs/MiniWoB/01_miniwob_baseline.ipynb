{
 "cells": [
  {
   "cell_type": "markdown",
   "metadata": {},
   "source": [
    "# MiniWoB intro\n"
   ]
  },
  {
   "cell_type": "markdown",
   "metadata": {},
   "source": [
    "Mini World of Bits (MiniWoB) is an RL benchmark introduced by OpenAI researchers in 2017.\n",
    "\n",
    "Their original paper http://proceedings.mlr.press/v70/shi17a/shi17a.pdf\n",
    "\n",
    "The core idea is to create a set of browser-based tasks to be solved using RL methods. Every task is a small dynamic webpage, which could be interacted using a mouse or keyboard. The reward is given for executing correct sequence of actions. Description of the goal is included into the webpage.\n",
    "\n",
    "In total it introduced 80 problems of varying complexity -- from the trivial like clicking the form button to very challenging, for example booking the flight following the criterias.\n",
    "\n",
    "The problems are available here: https://stanfordnlp.github.io/miniwob-plusplus/\n",
    "\n",
    "Unfortunately, OpenAI discontinued MiniWoB project, so, it hasn't gained popularity it deserves. After OpenAI paper in 2017, MiniWoB was used in several research papers, the most notable ones:\n",
    "\n",
    "* [1802.08802 Reinforcement Learning on Web Interfaces Using Workflow-Guided Exploration](https://arxiv.org/abs/1802.08802)\n",
    "* [1812.09195 Learning to Navigate the Web](https://arxiv.org/abs/1812.09195v1)\n",
    "* [1902.07257v1 DOM-Q-NET: Grounded RL on Structured Language](https://arxiv.org/abs/1902.07257v1)\n",
    "\n",
    "But that's almost nothing in comparison to Atari games popularity. To fix this mistake, let's play with MiniWoB in this tutorial.\n",
    "\n",
    "This tutorial uses the original MiniWoB. There exists the imroved version from Stanford researches, called [MiniWoB++](https://stanfordnlp.github.io/miniwob-plusplus/)\n"
   ]
  },
  {
   "cell_type": "markdown",
   "metadata": {},
   "source": [
    "## Why that's still relevant for RL\n",
    "\n",
    "You might ask, why do we need to play with two discontinued projects published two years ago (almost eternity by ML/DL field pace). There are several reasons for that:\n",
    "\n",
    "* MiniWoB problems are still very far from being solved. \n",
    "* Some of them are much harder and much close to real-life human behaviour than Atari games. \n",
    "* MiniWoB has practical application in automated software testing, web data extraction and automation.\n",
    "* Universe with all its issues, allows fast integration of applications into RL experiments without modifying the source code.\n",
    "* The most important: it's fun!"
   ]
  },
  {
   "cell_type": "markdown",
   "metadata": {},
   "source": [
    "## Architecture\n",
    "\n",
    "MiniWoB is implemented as a part of [OpenAI Universe](https://github.com/openai/universe) (another frozen project of OpenAI). The idea of Universe is to use VNC protocol to connect RL agent with GUI applications. As VNC is a cross-platform protocol used by humans to communicate with remote GUI applications, RL agent also achieves this ability (is RL agent smart enough to communicate is a different question). \n",
    "\n",
    "MiniWoB is a part of Universe, where GUI app is a browser with loaded dynamic webpages.\n",
    "\n",
    "Overall architecture of Universe is shown below\n",
    "\n",
    "![Arch](images/arch.png)\n",
    "\n",
    "The original MiniWoB docker image is available [on quay.io](https://quay.io/repository/openai/universe.world-of-bits), but I suggest you to use my version with fixed stability issues. The fixed version is available [on dockerhub](https://cloud.docker.com/u/shmuma/repository/docker/shmuma/miniwob). If you want to build your own version of the fixed image, you can follow [instructions here](https://github.com/PacktPublishing/Deep-Reinforcement-Learning-Hands-On/tree/master/Chapter13/wob_fixes)\n"
   ]
  },
  {
   "cell_type": "markdown",
   "metadata": {},
   "source": [
    "## Starting the container\n",
    "\n",
    "If you have docker installed, you can start the single container running the following command:\n",
    "\n",
    "`docker run -d -p 5900:5900 -p 15900:15900 --privileged --ipc host --cap-add SYS_ADMIN shmuma/miniwob run`\n",
    "\n",
    "Here, the options:\n",
    "* `-d` detaches container from terminal and keeps it running in background\n",
    "* `-p 5900:5900` forwards VNC port to the host machine\n",
    "* `-p 15900:15900` forwards rewarder port \n",
    "* `--privileged` gives extended privileges to this container (not sure is this needed or not, that was written in OpenAI manual)\n",
    "* `--ipc host` uses host's IPC namespace\n",
    "* `--cap-add SYS_ADMIN` extends container privileges\n",
    "* `shmuma/miniwob` name of the container image to start, you can use `quay.io/openai/universe.world-of- bits:0.20.0` to start original MiniWoB image\n",
    "* `run` command to start inside container\n",
    "\n",
    "During the training, several containers could be started (to decrease training samples correlation), to simplify this process, this repo includes two scripts: `containers_run.sh` and `containers_stop.sh`. The first starts the required amount of containers (given in command line), the second script stops all started containers (be careful, it just stops ALL containers, not only started by `containers_run.sh` script)."
   ]
  },
  {
   "cell_type": "code",
   "execution_count": 1,
   "metadata": {},
   "outputs": [
    {
     "name": "stdout",
     "output_type": "stream",
     "text": [
      "#!/usr/bin/env bash\r\n",
      "IMAGE_NAME=shmuma/miniwob\r\n",
      "\r\n",
      "count=`docker ps -q | wc -l`\r\n",
      "\r\n",
      "if test $count -ne 0 ; then\r\n",
      "    echo You already have $count containers running, are you sure you want more?\r\n",
      "    exit\r\n",
      "fi\r\n",
      "\r\n",
      "for i in `seq 1 ${1:-1}`; do\r\n",
      "    echo Starting container $i\r\n",
      "    P1=$((5900+$i-1))\r\n",
      "    P2=$((15900+$i-1))\r\n",
      "    docker run -d -p $P1:5900 -p $P2:15900 --privileged --ipc host --cap-add SYS_ADMIN $IMAGE_NAME run\r\n",
      "done\r\n"
     ]
    }
   ],
   "source": [
    "!cat containers_run.sh"
   ]
  },
  {
   "cell_type": "code",
   "execution_count": 2,
   "metadata": {},
   "outputs": [
    {
     "name": "stdout",
     "output_type": "stream",
     "text": [
      "#!/usr/bin/env bash\r\n",
      "\r\n",
      "docker stop `docker ps -q`\r\n"
     ]
    }
   ],
   "source": [
    "!cat containers_stop.sh"
   ]
  },
  {
   "cell_type": "code",
   "execution_count": 20,
   "metadata": {},
   "outputs": [
    {
     "name": "stdout",
     "output_type": "stream",
     "text": [
      "Starting container 1\n",
      "1d3bec40b6477cc8f0398915ffe4de5af2d87a6713994e2521d4e76b447b4e06\n"
     ]
    }
   ],
   "source": [
    "!./containers_run.sh 1"
   ]
  },
  {
   "cell_type": "code",
   "execution_count": 1,
   "metadata": {},
   "outputs": [
    {
     "name": "stdout",
     "output_type": "stream",
     "text": [
      "CONTAINER ID        IMAGE               COMMAND                  CREATED             STATUS              PORTS                                                        NAMES\r\n",
      "8319c2e80620        shmuma/miniwob      \"/app/universe-envs/…\"   25 minutes ago      Up 25 minutes       0.0.0.0:5900->5900/tcp, 5899/tcp, 0.0.0.0:15900->15900/tcp   sad_jackson\r\n"
     ]
    }
   ],
   "source": [
    "!docker ps"
   ]
  },
  {
   "cell_type": "markdown",
   "metadata": {},
   "source": [
    "After this you can connect to the started container using one of many VNC clients available. If you're using MacOS, VNC client is already included in OS, in Finder press `Command+K` and then connect to 'vnc://localhost:5900'. Password for connection is `openai`\n",
    "\n",
    "![](images/vnc.png)"
   ]
  },
  {
   "cell_type": "markdown",
   "metadata": {},
   "source": [
    "Do not forget to stop containers, as they are quite CPU-hungry "
   ]
  },
  {
   "cell_type": "code",
   "execution_count": 7,
   "metadata": {},
   "outputs": [
    {
     "name": "stdout",
     "output_type": "stream",
     "text": [
      "af325a282347\r\n"
     ]
    }
   ],
   "source": [
    "!./containers_stop.sh"
   ]
  },
  {
   "cell_type": "markdown",
   "metadata": {},
   "source": [
    "# Imports"
   ]
  },
  {
   "cell_type": "code",
   "execution_count": 2,
   "metadata": {},
   "outputs": [
    {
     "name": "stderr",
     "output_type": "stream",
     "text": [
      "/anaconda3/envs/miniwob/lib/python3.6/site-packages/universe/runtimes/__init__.py:7: YAMLLoadWarning: calling yaml.load() without Loader=... is deprecated, as the default Loader is unsafe. Please read https://msg.pyyaml.org/load for full details.\n",
      "  spec = yaml.load(f)\n"
     ]
    }
   ],
   "source": [
    "import gym\n",
    "import time\n",
    "import numpy as np\n",
    "import universe\n",
    "from universe import vectorized\n",
    "from universe.wrappers.experimental import SoftmaxClickMouse\n",
    "\n",
    "from PIL import Image"
   ]
  },
  {
   "cell_type": "code",
   "execution_count": 3,
   "metadata": {},
   "outputs": [],
   "source": [
    "DOCKER_IMAGE = \"shmuma/miniwob:latest\""
   ]
  },
  {
   "cell_type": "code",
   "execution_count": 4,
   "metadata": {},
   "outputs": [],
   "source": [
    "# function to build connection endpoints for set of containers\n",
    "def remotes_url(port_ofs=0, hostname='localhost', count=8):\n",
    "    hosts = [\"%s:%d+%d\" % (hostname, 5900 + ofs, 15900 + ofs) for ofs in range(port_ofs, port_ofs+count)]\n",
    "    return \"vnc://\" + \",\".join(hosts)"
   ]
  },
  {
   "cell_type": "markdown",
   "metadata": {},
   "source": [
    "# Gym actions/observations"
   ]
  },
  {
   "cell_type": "markdown",
   "metadata": {},
   "source": [
    "## Universe vectorized observations/actions\n",
    "\n",
    "Before we start looking at actual MiniWoB action and observation spaces, we need to state one quite important difference between OpenAI Gym and OpenAI Universe. \n",
    "\n",
    "Gym API is **synchronous** in terms of agent's calls to `step()` function and internal environment state. For example, if the agent playing Atari decided to download the 10GB model file (between calls to `step()`), Atari 2600 emulator and the game it emulates notice nothing, as Atari knows nothing about wall clock time, only about ticks of 6507 MCU and internal emulated hardware state. Gym can do this, because it has the full control over every environment it exposes to the developer.\n",
    "\n",
    "In contrast, Universe has much less knowledge and control over the software it communicates with. VNC protocol provides remote framebuffer interface (low-level name of VNC protocol is RFB), capturing the image on the remote machine and transferring it to VNC client running in front of you. Your actions, like mouse movements and key presses are recorded and being sent to the VNC server. So, VNC is relatively thin protocol providing the impression that remote applications are running locally. This simplifies application integration, but at the same time if you've missed same frame from the input images stream, you've missed it. So, Universe Gym API is **asynchronous**:\n",
    "\n",
    "* agent needs to be fast enough to process observations and keep the desired framerate. This might be important in cases when something qick is happening on the screen\n",
    "* on `reset()` call, environment takes some time to start producing observations. To indicate this transient states, it returns None for observations, which means you need to wait and repeat the request.\n",
    "\n",
    "Another difference is in native support of several environments running in parallel. On creation of environment you can specify how many of them need to be created and system will start several docker images running in parallel. Alternatively, you can provide several ports of already running docker images (possibly on remote machines in the cloud). As a result, Universe `Env` instance returns vectors of observations from `reset()` and `step()` calls and expects you to provide vector of actions for `step()`. This breaks the API, but simplifies the development. \n",
    "\n",
    "Ptan library supports both vectorized and old-style environments, which also makes your life a little bit easier. "
   ]
  },
  {
   "cell_type": "markdown",
   "metadata": {},
   "source": [
    "## Observations and actions\n",
    "\n",
    "Universe exposes two new subclasses of Gym `Space` class: [`VNCActionSpace`](https://github.com/openai/universe/blob/master/universe/spaces/vnc_action_space.py) and `VNCObservationSpace`\n",
    "\n",
    "Action space is a container for `VNCKeyEvent` or `VNCPointerEvent`: https://github.com/openai/universe/blob/master/universe/spaces/vnc_event.py\n",
    "\n",
    "Observation from single environment is a dictionary with two keys: `vision` with image pixels and `text` with text description from the environment."
   ]
  },
  {
   "cell_type": "code",
   "execution_count": 54,
   "metadata": {},
   "outputs": [
    {
     "name": "stdout",
     "output_type": "stream",
     "text": [
      "Starting container 1\n",
      "8319c2e80620079ed417f324ef9727d3ebb84d519302108b4afcccd63b01ac92\n"
     ]
    }
   ],
   "source": [
    "!./containers_run.sh 1"
   ]
  },
  {
   "cell_type": "code",
   "execution_count": 5,
   "metadata": {},
   "outputs": [
    {
     "name": "stderr",
     "output_type": "stream",
     "text": [
      "[2019-06-27 12:36:43,922] Making new env: wob.mini.ClickDialog-v0\n",
      "/anaconda3/envs/miniwob/lib/python3.6/site-packages/gym/envs/registration.py:17: PkgResourcesDeprecationWarning: Parameters to load are deprecated.  Call .resolve and .require separately.\n",
      "  result = entry_point.load(False)\n",
      "[2019-06-27 12:36:43,930] Writing logs to file: /tmp/universe-17822.log\n",
      "[2019-06-27 12:36:43,937] Using the golang VNC implementation\n",
      "[2019-06-27 12:36:43,939] Using VNCSession arguments: {'encoding': 'tight', 'compress_level': 0, 'fine_quality_level': 100, 'subsample_level': 0, 'start_timeout': 7}. (Customize by running \"env.configure(vnc_kwargs={...})\"\n",
      "[2019-06-27 12:36:43,949] [0] Connecting to environment: vnc://localhost:5900 password=openai. If desired, you can manually connect a VNC viewer, such as TurboVNC. Most environments provide a convenient in-browser VNC client: http://localhost:15900/viewer/?password=openai\n"
     ]
    },
    {
     "name": "stdout",
     "output_type": "stream",
     "text": [
      "vnc://localhost:5900+15900\n"
     ]
    },
    {
     "name": "stderr",
     "output_type": "stream",
     "text": [
      "[2019-06-27 12:36:44,202] [0:localhost:5900] Sending reset for env_id=wob.mini.ClickDialog-v0 fps=60 episode_id=0\n",
      "[2019-06-27 12:36:48,311] [0:localhost:5900] Initial reset complete: episode_id=164\n"
     ]
    }
   ],
   "source": [
    "env = gym.make(\"wob.mini.ClickDialog-v0\")\n",
    "url = remotes_url(count=1)\n",
    "print(url)\n",
    "\n",
    "env.configure(remotes=url, docker_image=DOCKER_IMAGE, fps=5, vnc_kwargs={\n",
    "        'encoding': 'tight', 'compress_level': 0,\n",
    "        'fine_quality_level': 100, 'subsample_level': 0\n",
    "    })\n",
    "obs = env.reset()"
   ]
  },
  {
   "cell_type": "code",
   "execution_count": 6,
   "metadata": {},
   "outputs": [
    {
     "name": "stderr",
     "output_type": "stream",
     "text": [
      "[2019-06-27 12:36:50,672] Throttle fell behind by 6.52s; lost 32.60 frames\n"
     ]
    }
   ],
   "source": [
    "while obs[0] is None:\n",
    "    a = env.action_space.sample()\n",
    "    obs, reward, is_done, info = env.step([a])\n",
    "    time.sleep(1)"
   ]
  },
  {
   "cell_type": "markdown",
   "metadata": {},
   "source": [
    "We've got the first observation. The result is a list of single dict (remember vectorized form of universe observations?) "
   ]
  },
  {
   "cell_type": "code",
   "execution_count": 7,
   "metadata": {},
   "outputs": [
    {
     "data": {
      "text/plain": [
       "[{'vision': array([[[0, 0, 0],\n",
       "          [0, 0, 0],\n",
       "          [0, 0, 0],\n",
       "          ...,\n",
       "          [0, 0, 0],\n",
       "          [0, 0, 0],\n",
       "          [0, 0, 0]],\n",
       "  \n",
       "         [[0, 0, 0],\n",
       "          [0, 0, 0],\n",
       "          [0, 0, 0],\n",
       "          ...,\n",
       "          [0, 0, 0],\n",
       "          [0, 0, 0],\n",
       "          [0, 0, 0]],\n",
       "  \n",
       "         [[0, 0, 0],\n",
       "          [0, 0, 0],\n",
       "          [0, 0, 0],\n",
       "          ...,\n",
       "          [0, 0, 0],\n",
       "          [0, 0, 0],\n",
       "          [0, 0, 0]],\n",
       "  \n",
       "         ...,\n",
       "  \n",
       "         [[0, 0, 0],\n",
       "          [0, 0, 0],\n",
       "          [0, 0, 0],\n",
       "          ...,\n",
       "          [0, 0, 0],\n",
       "          [0, 0, 0],\n",
       "          [0, 0, 0]],\n",
       "  \n",
       "         [[0, 0, 0],\n",
       "          [0, 0, 0],\n",
       "          [0, 0, 0],\n",
       "          ...,\n",
       "          [0, 0, 0],\n",
       "          [0, 0, 0],\n",
       "          [0, 0, 0]],\n",
       "  \n",
       "         [[0, 0, 0],\n",
       "          [0, 0, 0],\n",
       "          [0, 0, 0],\n",
       "          ...,\n",
       "          [0, 0, 0],\n",
       "          [0, 0, 0],\n",
       "          [0, 0, 0]]], dtype=uint8),\n",
       "  'text': [{'instruction': 'Close the dialog box by clicking the \"x\".'}]}]"
      ]
     },
     "execution_count": 7,
     "metadata": {},
     "output_type": "execute_result"
    }
   ],
   "source": [
    "obs"
   ]
  },
  {
   "cell_type": "code",
   "execution_count": 8,
   "metadata": {},
   "outputs": [
    {
     "data": {
      "image/png": "[encoded data removed]",
      "text/plain": [
       "<PIL.Image.Image image mode=RGB size=1024x768 at 0x1101CA080>"
      ]
     },
     "execution_count": 8,
     "metadata": {},
     "output_type": "execute_result"
    }
   ],
   "source": [
    "im = Image.fromarray(obs[0]['vision'])\n",
    "im"
   ]
  },
  {
   "cell_type": "markdown",
   "metadata": {},
   "source": [
    "### Image cropper\n",
    "\n",
    "As you can see, image is not cropped which is not very convenient, as relevant part of the problem's field is just tiny portion of the field. Below is the wrapper we'll use to crop the observations"
   ]
  },
  {
   "cell_type": "code",
   "execution_count": 9,
   "metadata": {},
   "outputs": [],
   "source": [
    "class MiniWoBCropper(vectorized.ObservationWrapper):\n",
    "    \"\"\"\n",
    "    Crops the WoB area and converts the observation into PyTorch (C, H, W) format.\n",
    "    \"\"\"\n",
    "    # Area of interest\n",
    "    WIDTH = 160\n",
    "    HEIGHT = 210\n",
    "    X_OFS = 10\n",
    "    Y_OFS = 75\n",
    "    \n",
    "    def __init__(self, env, keep_text=False):\n",
    "        super(MiniWoBCropper, self).__init__(env)\n",
    "        self.keep_text = keep_text\n",
    "\n",
    "    def _observation(self, observation_n):\n",
    "        res = []\n",
    "        for obs in observation_n:\n",
    "            if obs is None:\n",
    "                res.append(obs)\n",
    "                continue\n",
    "            img = obs['vision'][self.Y_OFS:self.Y_OFS+self.HEIGHT, self.X_OFS:self.X_OFS+self.WIDTH, :]\n",
    "            img = np.transpose(img, (2, 0, 1))\n",
    "            if self.keep_text:\n",
    "                text = \" \".join(map(lambda d: d.get('instruction', ''), obs.get('text', [{}])))\n",
    "                res.append((img, text))\n",
    "            else:\n",
    "                res.append(img)\n",
    "        return res\n"
   ]
  },
  {
   "cell_type": "markdown",
   "metadata": {},
   "source": [
    "Tiny easter egg in MiniWoB: image area has exactly the same dimension as Atari games resultion in ALE."
   ]
  },
  {
   "cell_type": "code",
   "execution_count": 10,
   "metadata": {},
   "outputs": [
    {
     "name": "stderr",
     "output_type": "stream",
     "text": [
      "[2019-06-27 12:37:08,856] Making new env: wob.mini.ClickDialog-v0\n",
      "[2019-06-27 12:37:08,862] Using the golang VNC implementation\n",
      "[2019-06-27 12:37:08,865] Using VNCSession arguments: {'encoding': 'tight', 'compress_level': 0, 'fine_quality_level': 100, 'subsample_level': 0, 'start_timeout': 7}. (Customize by running \"env.configure(vnc_kwargs={...})\"\n",
      "[2019-06-27 12:37:08,877] [0] Connecting to environment: vnc://localhost:5900 password=openai. If desired, you can manually connect a VNC viewer, such as TurboVNC. Most environments provide a convenient in-browser VNC client: http://localhost:15900/viewer/?password=openai\n"
     ]
    },
    {
     "name": "stdout",
     "output_type": "stream",
     "text": [
      "vnc://localhost:5900+15900\n"
     ]
    },
    {
     "name": "stderr",
     "output_type": "stream",
     "text": [
      "[2019-06-27 12:37:09,146] [0:localhost:5900] Sending reset for env_id=wob.mini.ClickDialog-v0 fps=60 episode_id=0\n",
      "[2019-06-27 12:37:09,201] [0:localhost:5900] Initial reset complete: episode_id=167\n"
     ]
    }
   ],
   "source": [
    "env = gym.make(\"wob.mini.ClickDialog-v0\")\n",
    "env = MiniWoBCropper(env)\n",
    "url = remotes_url(count=1)\n",
    "print(url)\n",
    "\n",
    "env.configure(remotes=url, docker_image=DOCKER_IMAGE, fps=5, vnc_kwargs={\n",
    "        'encoding': 'tight', 'compress_level': 0,\n",
    "        'fine_quality_level': 100, 'subsample_level': 0\n",
    "    })\n",
    "obs = env.reset()"
   ]
  },
  {
   "cell_type": "code",
   "execution_count": 11,
   "metadata": {},
   "outputs": [
    {
     "name": "stderr",
     "output_type": "stream",
     "text": [
      "[2019-06-27 12:37:14,404] Throttle fell behind by 5.32s; lost 26.62 frames\n"
     ]
    }
   ],
   "source": [
    "while obs[0] is None:\n",
    "    a = env.action_space.sample()\n",
    "    obs, reward, is_done, info = env.step([a])\n",
    "    time.sleep(1)"
   ]
  },
  {
   "cell_type": "code",
   "execution_count": 12,
   "metadata": {},
   "outputs": [
    {
     "data": {
      "text/plain": [
       "[array([[[181, 182, 182, ..., 182, 182, 182],\n",
       "         [255, 255, 255, ..., 255, 255, 255],\n",
       "         [254, 255, 255, ..., 255, 255, 255],\n",
       "         ...,\n",
       "         [255, 255, 255, ..., 255, 255, 255],\n",
       "         [255, 255, 255, ..., 255, 255, 255],\n",
       "         [255, 255, 255, ..., 255, 255, 255]],\n",
       " \n",
       "        [[179, 180, 180, ..., 180, 180, 180],\n",
       "         [255, 255, 255, ..., 255, 255, 255],\n",
       "         [255, 255, 255, ..., 255, 255, 255],\n",
       "         ...,\n",
       "         [255, 255, 255, ..., 255, 255, 255],\n",
       "         [255, 255, 255, ..., 255, 255, 255],\n",
       "         [255, 255, 255, ..., 255, 255, 255]],\n",
       " \n",
       "        [[182, 183, 183, ..., 183, 183, 183],\n",
       "         [  0,   0,   0, ...,   0,   0,   0],\n",
       "         [  0,   0,   0, ...,   0,   0,   0],\n",
       "         ...,\n",
       "         [255, 255, 255, ..., 255, 255, 255],\n",
       "         [255, 255, 255, ..., 255, 255, 255],\n",
       "         [255, 255, 255, ..., 255, 255, 255]]], dtype=uint8)]"
      ]
     },
     "execution_count": 12,
     "metadata": {},
     "output_type": "execute_result"
    }
   ],
   "source": [
    "obs"
   ]
  },
  {
   "cell_type": "code",
   "execution_count": 13,
   "metadata": {},
   "outputs": [
    {
     "data": {
      "text/plain": [
       "(3, 210, 160)"
      ]
     },
     "execution_count": 13,
     "metadata": {},
     "output_type": "execute_result"
    }
   ],
   "source": [
    "obs[0].shape"
   ]
  },
  {
   "cell_type": "code",
   "execution_count": 14,
   "metadata": {},
   "outputs": [
    {
     "data": {
      "image/png": "[encoded data removed]",
      "text/plain": [
       "<PIL.Image.Image image mode=RGB size=160x210 at 0x11B050EF0>"
      ]
     },
     "execution_count": 14,
     "metadata": {},
     "output_type": "execute_result"
    }
   ],
   "source": [
    "im = Image.fromarray(obs[0].transpose((1, 2, 0)))\n",
    "im"
   ]
  },
  {
   "cell_type": "markdown",
   "metadata": {},
   "source": [
    "### Action space\n",
    "\n",
    "VNCActionSpace can include mouse click and key press events. To demonstrate how it is done, let's solve environment above by using brute force agent (sometimes this approach works better than sophisticated RL methods!)"
   ]
  },
  {
   "cell_type": "code",
   "execution_count": 15,
   "metadata": {},
   "outputs": [
    {
     "name": "stderr",
     "output_type": "stream",
     "text": [
      "[2019-06-27 12:37:25,898] [0:localhost:5900] Sending reset for env_id=wob.mini.ClickDialog-v0 fps=60 episode_id=0\n"
     ]
    },
    {
     "data": {
      "text/plain": [
       "[None]"
      ]
     },
     "execution_count": 15,
     "metadata": {},
     "output_type": "execute_result"
    }
   ],
   "source": [
    "env.reset()"
   ]
  },
  {
   "cell_type": "code",
   "execution_count": 16,
   "metadata": {},
   "outputs": [],
   "source": [
    "while obs[0] is None:\n",
    "    a = env.action_space.sample()\n",
    "    obs, reward, is_done, info = env.step([a])\n",
    "    time.sleep(1)"
   ]
  },
  {
   "cell_type": "code",
   "execution_count": 17,
   "metadata": {},
   "outputs": [
    {
     "name": "stderr",
     "output_type": "stream",
     "text": [
      "[2019-06-27 12:37:35,944] Throttle fell behind by 9.85s; lost 49.23 frames\n"
     ]
    },
    {
     "name": "stdout",
     "output_type": "stream",
     "text": [
      "Got reward 0.640, clicks done 151\n",
      "Got reward 0.980, clicks done 102\n",
      "Got reward 0.590, clicks done 23\n",
      "Got reward 0.296, clicks done 93\n",
      "Got reward 0.752, clicks done 12\n",
      "Got reward 0.941, clicks done 58\n",
      "Got reward 0.441, clicks done 139\n",
      "Got reward 0.854, clicks done 10\n",
      "Got reward 0.070, clicks done 151\n",
      "Got reward 0.487, clicks done 133\n",
      "Mean reward for 10 solved episodes is 0.605\n"
     ]
    }
   ],
   "source": [
    "# try to solve 10 episodes by doing random clicking\n",
    "rewards = []\n",
    "clicks_done = 0\n",
    "\n",
    "while len(rewards) < 10:\n",
    "    clicks_done += 1\n",
    "    click_x = MiniWoBCropper.X_OFS + np.random.randint(MiniWoBCropper.WIDTH)\n",
    "    click_y = MiniWoBCropper.Y_OFS + np.random.randint(MiniWoBCropper.HEIGHT)\n",
    "\n",
    "    acts = [\n",
    "        universe.spaces.PointerEvent(click_x, click_y, buttonmask=0),\n",
    "        universe.spaces.PointerEvent(click_x, click_y, buttonmask=1),\n",
    "        universe.spaces.PointerEvent(click_x, click_y, buttonmask=0)\n",
    "    ]\n",
    "\n",
    "    obs_n, r_n, end_n, _ = env.step([acts])\n",
    "    if r_n[0] > 0:\n",
    "        rewards.append(r_n[0])\n",
    "        print(\"Got reward %.3f, clicks done %d\" % (r_n[0], clicks_done))\n",
    "        clicks_done = 0\n",
    "        \n",
    "print(\"Mean reward for %d solved episodes is %.3f\" % (len(rewards), np.mean(rewards)))"
   ]
  },
  {
   "cell_type": "markdown",
   "metadata": {},
   "source": [
    "Above approach are sampling from $160*210 = 33600$ action space, which might be too much for RL methods. To simplify our life a bit, we can discretize the area to be clicked by applying some grid and allowing to click only in the center of grid cell.\n",
    "\n",
    "<img src=\"images/wob-actions.png\" alt=\"Drawing\" style=\"width: 500px;\"/>\n",
    "\n",
    "Universe already comes with such preprocessor, called `SoftmaxClickMouse`: https://github.com/openai/universe/blob/master/universe/wrappers/experimental/action_space.py#L65, let's try it in our random clicking approach"
   ]
  },
  {
   "cell_type": "code",
   "execution_count": 18,
   "metadata": {},
   "outputs": [
    {
     "name": "stderr",
     "output_type": "stream",
     "text": [
      "[2019-06-27 12:41:25,479] Making new env: wob.mini.ClickDialog-v0\n",
      "[2019-06-27 12:41:25,488] Using SoftmaxClickMouse with action_region=(10, 125, 170, 285), noclick_regions=[]\n",
      "[2019-06-27 12:41:25,491] SoftmaxClickMouse noclick regions removed 0 of 256 actions\n",
      "[2019-06-27 12:41:25,495] Using the golang VNC implementation\n",
      "[2019-06-27 12:41:25,497] Using VNCSession arguments: {'encoding': 'tight', 'compress_level': 0, 'fine_quality_level': 100, 'subsample_level': 0, 'start_timeout': 7}. (Customize by running \"env.configure(vnc_kwargs={...})\"\n",
      "[2019-06-27 12:41:25,505] [0] Connecting to environment: vnc://localhost:5900 password=openai. If desired, you can manually connect a VNC viewer, such as TurboVNC. Most environments provide a convenient in-browser VNC client: http://localhost:15900/viewer/?password=openai\n"
     ]
    }
   ],
   "source": [
    "env = gym.make(\"wob.mini.ClickDialog-v0\")\n",
    "env = MiniWoBCropper(env)\n",
    "env = SoftmaxClickMouse(env)\n",
    "url = remotes_url(count=1)\n",
    "\n",
    "env.configure(remotes=url, docker_image=DOCKER_IMAGE, fps=5, vnc_kwargs={\n",
    "        'encoding': 'tight', 'compress_level': 0,\n",
    "        'fine_quality_level': 100, 'subsample_level': 0\n",
    "    })\n",
    "\n",
    "obs = env.reset()\n"
   ]
  },
  {
   "cell_type": "code",
   "execution_count": 19,
   "metadata": {},
   "outputs": [
    {
     "data": {
      "text/plain": [
       "Discrete(256)"
      ]
     },
     "execution_count": 19,
     "metadata": {},
     "output_type": "execute_result"
    }
   ],
   "source": [
    "env.action_space"
   ]
  },
  {
   "cell_type": "code",
   "execution_count": 20,
   "metadata": {},
   "outputs": [
    {
     "name": "stderr",
     "output_type": "stream",
     "text": [
      "[2019-06-27 12:41:29,953] Throttle fell behind by 4.24s; lost 21.21 frames\n",
      "[2019-06-27 12:41:45,547] [0:localhost:5900] ntpdate -q -p 8 localhost call timed out after 20.0s; killing the subprocess. This is ok, but you could have more accurate timings by enabling UDP port 123 traffic to your env. (Alternatively, you can try increasing the timeout by setting environment variable UNIVERSE_NTPDATE_TIMEOUT=10.)\n",
      "[2019-06-27 12:41:45,699] [0:localhost:5900] Sending reset for env_id=wob.mini.ClickDialog-v0 fps=60 episode_id=0\n",
      "[2019-06-27 12:41:46,779] [0:localhost:5900] Initial reset complete: episode_id=201\n"
     ]
    }
   ],
   "source": [
    "while obs[0] is None:\n",
    "    a = env.action_space.sample()\n",
    "    obs, reward, is_done, info = env.step([a])\n",
    "    time.sleep(1)"
   ]
  },
  {
   "cell_type": "code",
   "execution_count": 21,
   "metadata": {},
   "outputs": [
    {
     "name": "stdout",
     "output_type": "stream",
     "text": [
      "Got reward 0.013, clicks done 38\n",
      "Got reward 0.089, clicks done 55\n",
      "Got reward 0.816, clicks done 12\n",
      "Got reward 0.813, clicks done 12\n",
      "Got reward 0.632, clicks done 21\n",
      "Got reward 0.082, clicks done 269\n",
      "Got reward 0.491, clicks done 24\n",
      "Got reward 0.584, clicks done 132\n",
      "Got reward 0.581, clicks done 20\n",
      "Got reward 0.450, clicks done 70\n",
      "Mean reward for 10 solved episodes is 0.455\n"
     ]
    }
   ],
   "source": [
    "# try to solve 10 episodes by doing random clicking\n",
    "rewards = []\n",
    "clicks_done = 0\n",
    "\n",
    "while len(rewards) < 10:\n",
    "    clicks_done += 1\n",
    "    act = env.action_space.sample()\n",
    "    obs_n, r_n, end_n, _ = env.step([act])\n",
    "    if r_n[0] > 0:\n",
    "        rewards.append(r_n[0])\n",
    "        print(\"Got reward %.3f, clicks done %d\" % (r_n[0], clicks_done))\n",
    "        clicks_done = 0\n",
    "print(\"Mean reward for %d solved episodes is %.3f\" % (len(rewards), np.mean(rewards)))"
   ]
  },
  {
   "cell_type": "markdown",
   "metadata": {},
   "source": [
    "Not much improvements, probably RL will help with this :)."
   ]
  },
  {
   "cell_type": "markdown",
   "metadata": {},
   "source": [
    "# Do not forget to stop container"
   ]
  },
  {
   "cell_type": "code",
   "execution_count": 22,
   "metadata": {},
   "outputs": [],
   "source": [
    "env.close()"
   ]
  },
  {
   "cell_type": "code",
   "execution_count": 23,
   "metadata": {},
   "outputs": [
    {
     "name": "stdout",
     "output_type": "stream",
     "text": [
      "8319c2e80620\r\n"
     ]
    }
   ],
   "source": [
    "!./containers_stop.sh"
   ]
  },
  {
   "cell_type": "code",
   "execution_count": null,
   "metadata": {},
   "outputs": [],
   "source": []
  }
 ],
 "metadata": {
  "kernelspec": {
   "display_name": "Python 3",
   "language": "python",
   "name": "python3"
  },
  "language_info": {
   "codemirror_mode": {
    "name": "ipython",
    "version": 3
   },
   "file_extension": ".py",
   "mimetype": "text/x-python",
   "name": "python",
   "nbconvert_exporter": "python",
   "pygments_lexer": "ipython3",
   "version": "3.6.8"
  }
 },
 "nbformat": 4,
 "nbformat_minor": 2
}
