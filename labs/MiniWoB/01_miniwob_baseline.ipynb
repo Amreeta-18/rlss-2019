{
 "cells": [
  {
   "cell_type": "markdown",
   "metadata": {},
   "source": [
    "# MiniWoB intro\n"
   ]
  },
  {
   "cell_type": "markdown",
   "metadata": {},
   "source": [
    "Mini World of Bits (MiniWoB) is an RL benchmark introduced by OpenAI researchers in 2017.\n",
    "\n",
    "Their original paper http://proceedings.mlr.press/v70/shi17a/shi17a.pdf\n",
    "\n",
    "The core idea is to create a set of browser-based tasks to be solved using RL methods. Every task is a small dynamic webpage, which could be interacted using a mouse or keyboard. The reward is given for executing correct sequence of actions. Description of the goal is included into the webpage.\n",
    "\n",
    "In total it introduced 80 problems of varying complexity -- from the trivial like clicking the form button to very challenging, for example booking the flight following the criterias.\n",
    "\n",
    "The problems are available here: https://stanfordnlp.github.io/miniwob-plusplus/\n",
    "\n",
    "Unfortunately, OpenAI discontinued MiniWoB project, so, it hasn't gained popularity it deserves. After OpenAI paper in 2017, MiniWoB was used in several research papers, the most notable ones:\n",
    "\n",
    "* [1802.08802 Reinforcement Learning on Web Interfaces Using Workflow-Guided Exploration](https://arxiv.org/abs/1802.08802)\n",
    "* [1812.09195 Learning to Navigate the Web](https://arxiv.org/abs/1812.09195v1)\n",
    "* [1902.07257v1 DOM-Q-NET: Grounded RL on Structured Language](https://arxiv.org/abs/1902.07257v1)\n",
    "\n",
    "But that's almost nothing in comparison to Atari games popularity. To fix this mistake, let's play with MiniWoB in this tutorial.\n",
    "\n",
    "This tutorial uses the original MiniWoB. There exists the imroved version from Stanford researches, called [MiniWoB++](https://stanfordnlp.github.io/miniwob-plusplus/)\n"
   ]
  },
  {
   "cell_type": "markdown",
   "metadata": {},
   "source": [
    "## Why that's still relevant for RL\n",
    "\n",
    "You might ask, why do we need to play with two discontinued projects published two years ago (almost eternity by ML/DL field pace). There are several reasons for that:\n",
    "\n",
    "* MiniWoB problems are still very far from being solved. \n",
    "* Some of them are much harder and much close to real-life human behaviour than Atari games. \n",
    "* MiniWoB has practical application in automated software testing, web data extraction and automation.\n",
    "* Universe with all its issues, allows fast integration of applications into RL experiments without modifying the source code.\n",
    "* The most important: it's fun!"
   ]
  },
  {
   "cell_type": "markdown",
   "metadata": {},
   "source": [
    "## Architecture\n",
    "\n",
    "MiniWoB is implemented as a part of [OpenAI Universe](https://github.com/openai/universe) (another frozen project of OpenAI). The idea of Universe is to use VNC protocol to connect RL agent with GUI applications. As VNC is a cross-platform protocol used by humans to communicate with remote GUI applications, RL agent also achieves this ability (is RL agent smart enough to communicate is a different question). \n",
    "\n",
    "MiniWoB is a part of Universe, where GUI app is a browser with loaded dynamic webpages.\n",
    "\n",
    "Overall architecture of Universe is shown below\n",
    "\n",
    "![Arch](images/arch.png)\n",
    "\n",
    "The original MiniWoB docker image is available [on quay.io](https://quay.io/repository/openai/universe.world-of-bits), but I suggest you to use my version with fixed stability issues. The fixed version is available [on dockerhub](https://cloud.docker.com/u/shmuma/repository/docker/shmuma/miniwob). If you want to build your own version of the fixed image, you can follow [instructions here](https://github.com/PacktPublishing/Deep-Reinforcement-Learning-Hands-On/tree/master/Chapter13/wob_fixes)\n"
   ]
  },
  {
   "cell_type": "markdown",
   "metadata": {},
   "source": [
    "## Starting the container\n",
    "\n",
    "If you have docker installed, you can start the single container running the following command:\n",
    "\n",
    "`docker run -d -p 5900:5900 -p 15900:15900 --privileged --ipc host --cap-add SYS_ADMIN shmuma/miniwob run`\n",
    "\n",
    "Here, the options:\n",
    "* `-d` detaches container from terminal and keeps it running in background\n",
    "* `-p 5900:5900` forwards VNC port to the host machine\n",
    "* `-p 15900:15900` forwards rewarder port \n",
    "* `--privileged` gives extended privileges to this container (not sure is this needed or not, that was written in OpenAI manual)\n",
    "* `--ipc host` uses host's IPC namespace\n",
    "* `--cap-add SYS_ADMIN` extends container privileges\n",
    "* `shmuma/miniwob` name of the container image to start, you can use `quay.io/openai/universe.world-of- bits:0.20.0` to start original MiniWoB image\n",
    "* `run` command to start inside container\n",
    "\n",
    "During the training, several containers could be started (to decrease training samples correlation), to simplify this process, this repo includes two scripts: `containers_run.sh` and `containers_stop.sh`. The first starts the required amount of containers (given in command line), the second script stops all started containers (be careful, it just stops ALL containers, not only started by `containers_run.sh` script)."
   ]
  },
  {
   "cell_type": "code",
   "execution_count": 1,
   "metadata": {},
   "outputs": [
    {
     "name": "stdout",
     "output_type": "stream",
     "text": [
      "#!/usr/bin/env bash\r\n",
      "IMAGE_NAME=shmuma/miniwob\r\n",
      "\r\n",
      "count=`docker ps -q | wc -l`\r\n",
      "\r\n",
      "if test $count -ne 0 ; then\r\n",
      "    echo You already have $count containers running, are you sure you want more?\r\n",
      "    exit\r\n",
      "fi\r\n",
      "\r\n",
      "for i in `seq 1 ${1:-1}`; do\r\n",
      "    echo Starting container $i\r\n",
      "    P1=$((5900+$i-1))\r\n",
      "    P2=$((15900+$i-1))\r\n",
      "    docker run -d -p $P1:5900 -p $P2:15900 --privileged --ipc host --cap-add SYS_ADMIN $IMAGE_NAME run\r\n",
      "done\r\n"
     ]
    }
   ],
   "source": [
    "!cat containers_run.sh"
   ]
  },
  {
   "cell_type": "code",
   "execution_count": 2,
   "metadata": {},
   "outputs": [
    {
     "name": "stdout",
     "output_type": "stream",
     "text": [
      "#!/usr/bin/env bash\r\n",
      "\r\n",
      "docker stop `docker ps -q`\r\n"
     ]
    }
   ],
   "source": [
    "!cat containers_stop.sh"
   ]
  },
  {
   "cell_type": "code",
   "execution_count": 3,
   "metadata": {},
   "outputs": [
    {
     "name": "stdout",
     "output_type": "stream",
     "text": [
      "Starting container 1\n",
      "e94f531c4888a90d878b4383936eca99b4aa55cad8ce9e8e074a59b66396b531\n"
     ]
    }
   ],
   "source": [
    "!./containers_run.sh 1"
   ]
  },
  {
   "cell_type": "code",
   "execution_count": 4,
   "metadata": {},
   "outputs": [
    {
     "name": "stdout",
     "output_type": "stream",
     "text": [
      "CONTAINER ID        IMAGE               COMMAND                  CREATED             STATUS                  PORTS                                                        NAMES\r\n",
      "e94f531c4888        shmuma/miniwob      \"/app/universe-envs/…\"   5 seconds ago       Up Less than a second   0.0.0.0:5900->5900/tcp, 5899/tcp, 0.0.0.0:15900->15900/tcp   xenodochial_varahamihira\r\n"
     ]
    }
   ],
   "source": [
    "!docker ps"
   ]
  },
  {
   "cell_type": "markdown",
   "metadata": {},
   "source": [
    "After this you can connect to the started container using one of many VNC clients available. If you're using MacOS, VNC client is already included in OS, in Finder press `Command+K` and then connect to 'vnc://localhost:5900'. Password for connection is `openai`\n",
    "\n",
    "![](images/vnc.png)"
   ]
  },
  {
   "cell_type": "markdown",
   "metadata": {},
   "source": [
    "Do not forget to stop containers, as they are quite CPU-hungry "
   ]
  },
  {
   "cell_type": "code",
   "execution_count": 7,
   "metadata": {},
   "outputs": [
    {
     "name": "stdout",
     "output_type": "stream",
     "text": [
      "af325a282347\r\n"
     ]
    }
   ],
   "source": [
    "!./containers_stop.sh"
   ]
  },
  {
   "cell_type": "markdown",
   "metadata": {},
   "source": [
    "# Imports"
   ]
  },
  {
   "cell_type": "code",
   "execution_count": 7,
   "metadata": {},
   "outputs": [
    {
     "name": "stderr",
     "output_type": "stream",
     "text": [
      "/home/shmuma/anaconda3/envs/miniwob/lib/python3.6/site-packages/universe/runtimes/__init__.py:7: YAMLLoadWarning: calling yaml.load() without Loader=... is deprecated, as the default Loader is unsafe. Please read https://msg.pyyaml.org/load for full details.\n",
      "  spec = yaml.load(f)\n"
     ]
    }
   ],
   "source": [
    "import gym\n",
    "import ptan\n",
    "import time\n",
    "import numpy as np\n",
    "import universe\n",
    "from typing import List, Optional, Tuple\n",
    "from universe import vectorized\n",
    "from universe.wrappers.experimental import SoftmaxClickMouse\n",
    "\n",
    "from PIL import Image"
   ]
  },
  {
   "cell_type": "code",
   "execution_count": 8,
   "metadata": {},
   "outputs": [],
   "source": [
    "DOCKER_IMAGE = \"shmuma/miniwob:latest\""
   ]
  },
  {
   "cell_type": "code",
   "execution_count": 9,
   "metadata": {},
   "outputs": [],
   "source": [
    "# function to build connection endpoints for set of containers\n",
    "def remotes_url(port_ofs=0, hostname='localhost', count=8):\n",
    "    hosts = [\"%s:%d+%d\" % (hostname, 5900 + ofs, 15900 + ofs) for ofs in range(port_ofs, port_ofs+count)]\n",
    "    return \"vnc://\" + \",\".join(hosts)"
   ]
  },
  {
   "cell_type": "markdown",
   "metadata": {},
   "source": [
    "# Gym actions/observations"
   ]
  },
  {
   "cell_type": "markdown",
   "metadata": {},
   "source": [
    "## Universe vectorized observations/actions\n",
    "\n",
    "Before we start looking at actual MiniWoB action and observation spaces, we need to state one quite important difference between OpenAI Gym and OpenAI Universe. \n",
    "\n",
    "Gym API is **synchronous** in terms of agent's calls to `step()` function and internal environment state. For example, if the agent playing Atari decided to download the 10GB model file (between calls to `step()`), Atari 2600 emulator and the game it emulates notice nothing, as Atari knows nothing about wall clock time, only about ticks of 6507 MCU and internal emulated hardware state. Gym can do this, because it has the full control over every environment it exposes to the developer.\n",
    "\n",
    "In contrast, Universe has much less knowledge and control over the software it communicates with. VNC protocol provides remote framebuffer interface (low-level name of VNC protocol is RFB), capturing the image on the remote machine and transferring it to VNC client running in front of you. Your actions, like mouse movements and key presses are recorded and being sent to the VNC server. So, VNC is relatively thin protocol providing the impression that remote applications are running locally. This simplifies application integration, but at the same time if you've missed same frame from the input images stream, you've missed it. So, Universe Gym API is **asynchronous**:\n",
    "\n",
    "* agent needs to be fast enough to process observations and keep the desired framerate. This might be important in cases when something qick is happening on the screen\n",
    "* on `reset()` call, environment takes some time to start producing observations. To indicate this transient states, it returns None for observations, which means you need to wait and repeat the request.\n",
    "\n",
    "Another difference is in native support of several environments running in parallel. On creation of environment you can specify how many of them need to be created and system will start several docker images running in parallel. Alternatively, you can provide several ports of already running docker images (possibly on remote machines in the cloud). As a result, Universe `Env` instance returns vectors of observations from `reset()` and `step()` calls and expects you to provide vector of actions for `step()`. This breaks the API, but simplifies the development. \n",
    "\n",
    "Ptan library supports both vectorized and old-style environments, which also makes your life a little bit easier. "
   ]
  },
  {
   "cell_type": "markdown",
   "metadata": {},
   "source": [
    "## Observations and actions\n",
    "\n",
    "Universe exposes two new subclasses of Gym `Space` class: [`VNCActionSpace`](https://github.com/openai/universe/blob/master/universe/spaces/vnc_action_space.py) and `VNCObservationSpace`\n",
    "\n",
    "Action space is a container for `VNCKeyEvent` or `VNCPointerEvent`: https://github.com/openai/universe/blob/master/universe/spaces/vnc_event.py\n",
    "\n",
    "Observation from single environment is a dictionary with two keys: `vision` with image pixels and `text` with text description from the environment."
   ]
  },
  {
   "cell_type": "code",
   "execution_count": 167,
   "metadata": {},
   "outputs": [
    {
     "name": "stdout",
     "output_type": "stream",
     "text": [
      "Starting container 1\n",
      "7a4cf35f77375bd6487400a460d9ffb71de52f7992cfe208823cb251cc692c12\n"
     ]
    }
   ],
   "source": [
    "!./containers_run.sh 1"
   ]
  },
  {
   "cell_type": "code",
   "execution_count": 10,
   "metadata": {},
   "outputs": [
    {
     "name": "stderr",
     "output_type": "stream",
     "text": [
      "[2019-06-28 19:39:29,123] Making new env: wob.mini.ClickDialog-v0\n",
      "/home/shmuma/anaconda3/envs/miniwob/lib/python3.6/site-packages/gym/envs/registration.py:17: PkgResourcesDeprecationWarning: Parameters to load are deprecated.  Call .resolve and .require separately.\n",
      "  result = entry_point.load(False)\n",
      "[2019-06-28 19:39:29,125] Writing logs to file: /tmp/universe-21835.log\n",
      "[2019-06-28 19:39:29,128] Using the golang VNC implementation\n",
      "[2019-06-28 19:39:29,129] Using VNCSession arguments: {'encoding': 'tight', 'compress_level': 0, 'fine_quality_level': 100, 'subsample_level': 0, 'start_timeout': 7}. (Customize by running \"env.configure(vnc_kwargs={...})\"\n",
      "[2019-06-28 19:39:29,206] [0] Connecting to environment: vnc://localhost:5900 password=openai. If desired, you can manually connect a VNC viewer, such as TurboVNC. Most environments provide a convenient in-browser VNC client: http://localhost:15900/viewer/?password=openai\n"
     ]
    },
    {
     "name": "stdout",
     "output_type": "stream",
     "text": [
      "vnc://localhost:5900+15900\n"
     ]
    }
   ],
   "source": [
    "env = gym.make(\"wob.mini.ClickDialog-v0\")\n",
    "url = remotes_url(count=1)\n",
    "print(url)\n",
    "\n",
    "env.configure(remotes=url, docker_image=DOCKER_IMAGE, fps=5, vnc_kwargs={\n",
    "        'encoding': 'tight', 'compress_level': 0,\n",
    "        'fine_quality_level': 100, 'subsample_level': 0\n",
    "    })\n",
    "obs = env.reset()"
   ]
  },
  {
   "cell_type": "code",
   "execution_count": 11,
   "metadata": {},
   "outputs": [
    {
     "name": "stderr",
     "output_type": "stream",
     "text": [
      "[2019-06-28 19:39:33,279] Throttle fell behind by 3.87s; lost 19.35 frames\n",
      "[2019-06-28 19:39:45,636] [0:localhost:5900] Sending reset for env_id=wob.mini.ClickDialog-v0 fps=60 episode_id=0\n",
      "[2019-06-28 19:39:46,144] [0:localhost:5900] Initial reset complete: episode_id=11\n"
     ]
    }
   ],
   "source": [
    "while obs[0] is None:\n",
    "    a = env.action_space.sample()\n",
    "    obs, reward, is_done, info = env.step([a])\n",
    "    time.sleep(1)"
   ]
  },
  {
   "cell_type": "markdown",
   "metadata": {},
   "source": [
    "We've got the first observation. The result is a list of single dict (remember vectorized form of universe observations?) "
   ]
  },
  {
   "cell_type": "code",
   "execution_count": 12,
   "metadata": {},
   "outputs": [
    {
     "data": {
      "text/plain": [
       "[{'vision': array([[[0, 0, 0],\n",
       "          [0, 0, 0],\n",
       "          [0, 0, 0],\n",
       "          ...,\n",
       "          [0, 0, 0],\n",
       "          [0, 0, 0],\n",
       "          [0, 0, 0]],\n",
       "  \n",
       "         [[0, 0, 0],\n",
       "          [0, 0, 0],\n",
       "          [0, 0, 0],\n",
       "          ...,\n",
       "          [0, 0, 0],\n",
       "          [0, 0, 0],\n",
       "          [0, 0, 0]],\n",
       "  \n",
       "         [[0, 0, 0],\n",
       "          [0, 0, 0],\n",
       "          [0, 0, 0],\n",
       "          ...,\n",
       "          [0, 0, 0],\n",
       "          [0, 0, 0],\n",
       "          [0, 0, 0]],\n",
       "  \n",
       "         ...,\n",
       "  \n",
       "         [[0, 0, 0],\n",
       "          [0, 0, 0],\n",
       "          [0, 0, 0],\n",
       "          ...,\n",
       "          [0, 0, 0],\n",
       "          [0, 0, 0],\n",
       "          [0, 0, 0]],\n",
       "  \n",
       "         [[0, 0, 0],\n",
       "          [0, 0, 0],\n",
       "          [0, 0, 0],\n",
       "          ...,\n",
       "          [0, 0, 0],\n",
       "          [0, 0, 0],\n",
       "          [0, 0, 0]],\n",
       "  \n",
       "         [[0, 0, 0],\n",
       "          [0, 0, 0],\n",
       "          [0, 0, 0],\n",
       "          ...,\n",
       "          [0, 0, 0],\n",
       "          [0, 0, 0],\n",
       "          [0, 0, 0]]], dtype=uint8), 'text': []}]"
      ]
     },
     "execution_count": 12,
     "metadata": {},
     "output_type": "execute_result"
    }
   ],
   "source": [
    "obs"
   ]
  },
  {
   "cell_type": "code",
   "execution_count": 13,
   "metadata": {},
   "outputs": [
    {
     "data": {
      "image/png": "[encoded data removed]",
      "text/plain": [
       "<PIL.Image.Image image mode=RGB size=1024x768 at 0x7F5374127DA0>"
      ]
     },
     "execution_count": 13,
     "metadata": {},
     "output_type": "execute_result"
    }
   ],
   "source": [
    "im = Image.fromarray(obs[0]['vision'])\n",
    "im"
   ]
  },
  {
   "cell_type": "markdown",
   "metadata": {},
   "source": [
    "### Image cropper\n",
    "\n",
    "As you can see, image is not cropped which is not very convenient, as relevant part of the problem's field is just tiny portion of the field. Below is the wrapper we'll use to crop the observations"
   ]
  },
  {
   "cell_type": "code",
   "execution_count": 14,
   "metadata": {},
   "outputs": [],
   "source": [
    "class MiniWoBCropper(vectorized.ObservationWrapper):\n",
    "    \"\"\"\n",
    "    Crops the WoB area and converts the observation into PyTorch (C, H, W) format.\n",
    "    \"\"\"\n",
    "    # Area of interest\n",
    "    WIDTH = 160\n",
    "    HEIGHT = 210\n",
    "    X_OFS = 10\n",
    "    Y_OFS = 75\n",
    "    \n",
    "    def __init__(self, env, keep_text=False):\n",
    "        super(MiniWoBCropper, self).__init__(env)\n",
    "        self.keep_text = keep_text\n",
    "        img_space = gym.spaces.Box(low=0, high=255, shape=(3, self.HEIGHT, self.WIDTH))\n",
    "        if keep_text:\n",
    "            self.observation_space = gym.spaces.Tuple(spaces=(img_space, gym.spaces.Space))\n",
    "        else:\n",
    "            self.observation_space = img_space\n",
    "\n",
    "    def _observation(self, observation_n):\n",
    "        res = []\n",
    "        for obs in observation_n:\n",
    "            if obs is None:\n",
    "                res.append(obs)\n",
    "                continue\n",
    "            img = obs['vision'][self.Y_OFS:self.Y_OFS+self.HEIGHT, self.X_OFS:self.X_OFS+self.WIDTH, :]\n",
    "            img = np.transpose(img, (2, 0, 1))\n",
    "            if self.keep_text:\n",
    "                text = \" \".join(map(lambda d: d.get('instruction', ''), obs.get('text', [{}])))\n",
    "                res.append((img, text))\n",
    "            else:\n",
    "                res.append(img)\n",
    "        return res\n"
   ]
  },
  {
   "cell_type": "markdown",
   "metadata": {},
   "source": [
    "Tiny easter egg in MiniWoB: image area has exactly the same dimension as Atari games resultion in ALE.\n",
    "\n",
    "And please note that old gym doesn't support `dtype` in `Box` class, so, it will be wrongly set as float32 (but, in fact, byte)"
   ]
  },
  {
   "cell_type": "code",
   "execution_count": 15,
   "metadata": {},
   "outputs": [
    {
     "name": "stderr",
     "output_type": "stream",
     "text": [
      "[2019-06-28 19:40:13,395] Making new env: wob.mini.ClickDialog-v0\n",
      "[2019-06-28 19:40:13,410] Using the golang VNC implementation\n",
      "[2019-06-28 19:40:13,410] Using VNCSession arguments: {'encoding': 'tight', 'compress_level': 0, 'fine_quality_level': 100, 'subsample_level': 0, 'start_timeout': 7}. (Customize by running \"env.configure(vnc_kwargs={...})\"\n",
      "[2019-06-28 19:40:13,433] [0] Connecting to environment: vnc://localhost:5900 password=openai. If desired, you can manually connect a VNC viewer, such as TurboVNC. Most environments provide a convenient in-browser VNC client: http://localhost:15900/viewer/?password=openai\n"
     ]
    },
    {
     "name": "stdout",
     "output_type": "stream",
     "text": [
      "vnc://localhost:5900+15900\n"
     ]
    }
   ],
   "source": [
    "env = gym.make(\"wob.mini.ClickDialog-v0\")\n",
    "env = MiniWoBCropper(env)\n",
    "url = remotes_url(count=1)\n",
    "print(url)\n",
    "\n",
    "env.configure(remotes=url, docker_image=DOCKER_IMAGE, fps=5, vnc_kwargs={\n",
    "        'encoding': 'tight', 'compress_level': 0,\n",
    "        'fine_quality_level': 100, 'subsample_level': 0\n",
    "    })\n",
    "obs = env.reset()"
   ]
  },
  {
   "cell_type": "code",
   "execution_count": 16,
   "metadata": {},
   "outputs": [
    {
     "name": "stderr",
     "output_type": "stream",
     "text": [
      "[2019-06-28 19:40:15,990] Throttle fell behind by 2.36s; lost 11.78 frames\n",
      "[2019-06-28 19:40:29,771] [0:localhost:5900] Sending reset for env_id=wob.mini.ClickDialog-v0 fps=60 episode_id=0\n",
      "[2019-06-28 19:40:29,797] [0:localhost:5900] Initial reset complete: episode_id=16\n"
     ]
    }
   ],
   "source": [
    "while obs[0] is None:\n",
    "    a = env.action_space.sample()\n",
    "    obs, reward, is_done, info = env.step([a])\n",
    "    time.sleep(1)"
   ]
  },
  {
   "cell_type": "code",
   "execution_count": 17,
   "metadata": {},
   "outputs": [
    {
     "data": {
      "text/plain": [
       "[array([[[181, 182, 182, ..., 182, 182, 182],\n",
       "         [255, 255, 255, ..., 255, 255, 255],\n",
       "         [254, 255, 255, ..., 255, 255, 255],\n",
       "         ...,\n",
       "         [255, 255, 255, ..., 255, 255, 255],\n",
       "         [255, 255, 255, ..., 255, 255, 255],\n",
       "         [255, 255, 255, ..., 255, 255, 255]],\n",
       " \n",
       "        [[179, 180, 180, ..., 180, 180, 180],\n",
       "         [255, 255, 255, ..., 255, 255, 255],\n",
       "         [255, 255, 255, ..., 255, 255, 255],\n",
       "         ...,\n",
       "         [255, 255, 255, ..., 255, 255, 255],\n",
       "         [255, 255, 255, ..., 255, 255, 255],\n",
       "         [255, 255, 255, ..., 255, 255, 255]],\n",
       " \n",
       "        [[182, 183, 183, ..., 183, 183, 183],\n",
       "         [  0,   0,   0, ...,   0,   0,   0],\n",
       "         [  0,   0,   0, ...,   0,   0,   0],\n",
       "         ...,\n",
       "         [255, 255, 255, ..., 255, 255, 255],\n",
       "         [255, 255, 255, ..., 255, 255, 255],\n",
       "         [255, 255, 255, ..., 255, 255, 255]]], dtype=uint8)]"
      ]
     },
     "execution_count": 17,
     "metadata": {},
     "output_type": "execute_result"
    }
   ],
   "source": [
    "obs"
   ]
  },
  {
   "cell_type": "code",
   "execution_count": 18,
   "metadata": {},
   "outputs": [
    {
     "data": {
      "text/plain": [
       "(3, 210, 160)"
      ]
     },
     "execution_count": 18,
     "metadata": {},
     "output_type": "execute_result"
    }
   ],
   "source": [
    "obs[0].shape"
   ]
  },
  {
   "cell_type": "code",
   "execution_count": 19,
   "metadata": {},
   "outputs": [
    {
     "data": {
      "text/plain": [
       "Box(3, 210, 160)"
      ]
     },
     "execution_count": 19,
     "metadata": {},
     "output_type": "execute_result"
    }
   ],
   "source": [
    "env.observation_space"
   ]
  },
  {
   "cell_type": "code",
   "execution_count": 20,
   "metadata": {},
   "outputs": [
    {
     "data": {
      "image/png": "[encoded data removed]",
      "text/plain": [
       "<PIL.Image.Image image mode=RGB size=160x210 at 0x7F5374023550>"
      ]
     },
     "execution_count": 20,
     "metadata": {},
     "output_type": "execute_result"
    }
   ],
   "source": [
    "im = Image.fromarray(obs[0].transpose((1, 2, 0)))\n",
    "im"
   ]
  },
  {
   "cell_type": "markdown",
   "metadata": {},
   "source": [
    "### Action space\n",
    "\n",
    "VNCActionSpace can include mouse click and key press events. To demonstrate how it is done, let's solve environment above by using brute force agent (sometimes this approach works better than sophisticated RL methods!)"
   ]
  },
  {
   "cell_type": "code",
   "execution_count": 21,
   "metadata": {},
   "outputs": [
    {
     "name": "stderr",
     "output_type": "stream",
     "text": [
      "[2019-06-28 19:41:04,629] [0:localhost:5900] Sending reset for env_id=wob.mini.ClickDialog-v0 fps=60 episode_id=0\n"
     ]
    },
    {
     "data": {
      "text/plain": [
       "[None]"
      ]
     },
     "execution_count": 21,
     "metadata": {},
     "output_type": "execute_result"
    }
   ],
   "source": [
    "env.reset()"
   ]
  },
  {
   "cell_type": "code",
   "execution_count": 22,
   "metadata": {},
   "outputs": [],
   "source": [
    "while obs[0] is None:\n",
    "    a = env.action_space.sample()\n",
    "    obs, reward, is_done, info = env.step([a])\n",
    "    time.sleep(1)"
   ]
  },
  {
   "cell_type": "code",
   "execution_count": 23,
   "metadata": {},
   "outputs": [
    {
     "name": "stderr",
     "output_type": "stream",
     "text": [
      "[2019-06-28 19:41:12,920] Throttle fell behind by 8.09s; lost 40.45 frames\n"
     ]
    },
    {
     "name": "stdout",
     "output_type": "stream",
     "text": [
      "Got reward 0.768, clicks done 106\n",
      "Got reward 0.771, clicks done 14\n",
      "Got reward 0.597, clicks done 180\n",
      "Got reward 0.390, clicks done 33\n",
      "Got reward 0.971, clicks done 7\n",
      "Got reward 0.729, clicks done 118\n",
      "Got reward 0.951, clicks done 5\n",
      "Got reward 0.079, clicks done 101\n",
      "Got reward 0.079, clicks done 101\n",
      "Got reward 0.891, clicks done 8\n",
      "Mean reward for 10 solved episodes is 0.623\n"
     ]
    }
   ],
   "source": [
    "# try to solve 10 episodes by doing random clicking\n",
    "rewards = []\n",
    "clicks_done = 0\n",
    "\n",
    "while len(rewards) < 10:\n",
    "    clicks_done += 1\n",
    "    click_x = MiniWoBCropper.X_OFS + np.random.randint(MiniWoBCropper.WIDTH)\n",
    "    click_y = MiniWoBCropper.Y_OFS + np.random.randint(MiniWoBCropper.HEIGHT)\n",
    "\n",
    "    acts = [\n",
    "        universe.spaces.PointerEvent(click_x, click_y, buttonmask=0),\n",
    "        universe.spaces.PointerEvent(click_x, click_y, buttonmask=1),\n",
    "        universe.spaces.PointerEvent(click_x, click_y, buttonmask=0)\n",
    "    ]\n",
    "\n",
    "    obs_n, r_n, end_n, _ = env.step([acts])\n",
    "    if r_n[0] > 0:\n",
    "        rewards.append(r_n[0])\n",
    "        print(\"Got reward %.3f, clicks done %d\" % (r_n[0], clicks_done))\n",
    "        clicks_done = 0\n",
    "        \n",
    "print(\"Mean reward for %d solved episodes is %.3f\" % (len(rewards), np.mean(rewards)))"
   ]
  },
  {
   "cell_type": "markdown",
   "metadata": {},
   "source": [
    "Above approach are sampling from $160*210 = 33600$ action space, which might be too much for RL methods. To simplify our life a bit, we can discretize the area to be clicked by applying some grid and allowing to click only in the center of grid cell.\n",
    "\n",
    "<img src=\"images/wob-actions.png\" alt=\"Drawing\" style=\"width: 500px;\"/>\n",
    "\n",
    "Universe already comes with such preprocessor, called `SoftmaxClickMouse`: https://github.com/openai/universe/blob/master/universe/wrappers/experimental/action_space.py#L65, let's try it in our random clicking approach"
   ]
  },
  {
   "cell_type": "code",
   "execution_count": 24,
   "metadata": {},
   "outputs": [
    {
     "name": "stderr",
     "output_type": "stream",
     "text": [
      "[2019-06-28 19:43:33,939] Making new env: wob.mini.ClickDialog-v0\n",
      "[2019-06-28 19:43:33,942] Using SoftmaxClickMouse with action_region=(10, 125, 170, 285), noclick_regions=[]\n",
      "[2019-06-28 19:43:33,943] SoftmaxClickMouse noclick regions removed 0 of 256 actions\n",
      "[2019-06-28 19:43:33,944] Using the golang VNC implementation\n",
      "[2019-06-28 19:43:33,945] Using VNCSession arguments: {'encoding': 'tight', 'compress_level': 0, 'fine_quality_level': 100, 'subsample_level': 0, 'start_timeout': 7}. (Customize by running \"env.configure(vnc_kwargs={...})\"\n",
      "[2019-06-28 19:43:33,964] [0] Connecting to environment: vnc://localhost:5900 password=openai. If desired, you can manually connect a VNC viewer, such as TurboVNC. Most environments provide a convenient in-browser VNC client: http://localhost:15900/viewer/?password=openai\n"
     ]
    }
   ],
   "source": [
    "env = gym.make(\"wob.mini.ClickDialog-v0\")\n",
    "env = MiniWoBCropper(env)\n",
    "env = SoftmaxClickMouse(env)\n",
    "url = remotes_url(count=1)\n",
    "\n",
    "env.configure(remotes=url, docker_image=DOCKER_IMAGE, fps=5, vnc_kwargs={\n",
    "        'encoding': 'tight', 'compress_level': 0,\n",
    "        'fine_quality_level': 100, 'subsample_level': 0\n",
    "    })\n",
    "\n",
    "obs = env.reset()\n"
   ]
  },
  {
   "cell_type": "code",
   "execution_count": 25,
   "metadata": {},
   "outputs": [
    {
     "data": {
      "text/plain": [
       "Discrete(256)"
      ]
     },
     "execution_count": 25,
     "metadata": {},
     "output_type": "execute_result"
    }
   ],
   "source": [
    "env.action_space"
   ]
  },
  {
   "cell_type": "code",
   "execution_count": 26,
   "metadata": {},
   "outputs": [
    {
     "name": "stderr",
     "output_type": "stream",
     "text": [
      "[2019-06-28 19:43:41,958] Throttle fell behind by 7.79s; lost 38.97 frames\n",
      "[2019-06-28 19:43:50,299] [0:localhost:5900] Sending reset for env_id=wob.mini.ClickDialog-v0 fps=60 episode_id=0\n",
      "[2019-06-28 19:43:55,371] [0:localhost:5900] Initial reset complete: episode_id=43\n"
     ]
    }
   ],
   "source": [
    "while obs[0] is None:\n",
    "    a = env.action_space.sample()\n",
    "    obs, reward, is_done, info = env.step([a])\n",
    "    time.sleep(1)"
   ]
  },
  {
   "cell_type": "code",
   "execution_count": 27,
   "metadata": {},
   "outputs": [
    {
     "name": "stderr",
     "output_type": "stream",
     "text": [
      "[2019-06-28 19:43:59,235] Throttle fell behind by 3.05s; lost 15.27 frames\n"
     ]
    },
    {
     "name": "stdout",
     "output_type": "stream",
     "text": [
      "Got reward 0.735, clicks done 16\n",
      "Got reward 0.971, clicks done 4\n",
      "Got reward 0.810, clicks done 12\n",
      "Got reward 0.391, clicks done 33\n",
      "Got reward 0.911, clicks done 7\n",
      "Got reward 0.149, clicks done 45\n",
      "Got reward 0.399, clicks done 85\n",
      "Got reward 0.771, clicks done 14\n",
      "Got reward 0.607, clicks done 232\n",
      "Got reward 0.250, clicks done 40\n",
      "Mean reward for 10 solved episodes is 0.599\n"
     ]
    }
   ],
   "source": [
    "# try to solve 10 episodes by doing random clicking\n",
    "rewards = []\n",
    "clicks_done = 0\n",
    "\n",
    "while len(rewards) < 10:\n",
    "    clicks_done += 1\n",
    "    act = env.action_space.sample()\n",
    "    obs_n, r_n, end_n, _ = env.step([act])\n",
    "    if r_n[0] > 0:\n",
    "        rewards.append(r_n[0])\n",
    "        print(\"Got reward %.3f, clicks done %d\" % (r_n[0], clicks_done))\n",
    "        clicks_done = 0\n",
    "print(\"Mean reward for %d solved episodes is %.3f\" % (len(rewards), np.mean(rewards)))"
   ]
  },
  {
   "cell_type": "markdown",
   "metadata": {},
   "source": [
    "Not much improvements, probably RL will help with this :)."
   ]
  },
  {
   "cell_type": "markdown",
   "metadata": {},
   "source": [
    "# Basic DQN baseline\n",
    "\n",
    "With all those simplifications done, we can implement basic DQN agent to solve some environments."
   ]
  },
  {
   "cell_type": "code",
   "execution_count": 28,
   "metadata": {},
   "outputs": [],
   "source": [
    "import torch\n",
    "import torch.nn as nn\n",
    "import torch.nn.functional as F\n",
    "import torch.optim as optim"
   ]
  },
  {
   "cell_type": "markdown",
   "metadata": {},
   "source": [
    "## Model \n",
    "\n",
    "Below is the model we're going to use. Nothing fancy, just three convolution layers followed by two FC-layers, returning Q-values for our 256 click locations."
   ]
  },
  {
   "cell_type": "code",
   "execution_count": 29,
   "metadata": {},
   "outputs": [],
   "source": [
    "class Model(nn.Module):\n",
    "    def __init__(self, input_shape, n_actions):\n",
    "        super(Model, self).__init__()\n",
    "\n",
    "        self.conv = nn.Sequential(\n",
    "            nn.Conv2d(input_shape[0], 64, 5, stride=5),\n",
    "            nn.ReLU(),\n",
    "            nn.Conv2d(64, 64, 3, stride=2),\n",
    "            nn.ReLU(),\n",
    "            nn.Conv2d(64, 32, 3, stride=2),\n",
    "            nn.ReLU(),\n",
    "        )\n",
    "\n",
    "        conv_out_size = self._get_conv_out(input_shape)\n",
    "\n",
    "        self.fc = nn.Sequential(\n",
    "            nn.Linear(conv_out_size, 256),\n",
    "            nn.ReLU(),\n",
    "            nn.Linear(256, n_actions),\n",
    "        )\n",
    "\n",
    "    def _get_conv_out(self, shape):\n",
    "        o = self.conv(torch.zeros(1, *shape))\n",
    "        return int(np.prod(o.size()))\n",
    "\n",
    "    def forward(self, x):\n",
    "        fx = x.float() / 256\n",
    "        conv_out = self.conv(fx).view(fx.size()[0], -1)\n",
    "        return self.fc(conv_out)"
   ]
  },
  {
   "cell_type": "markdown",
   "metadata": {
    "heading_collapsed": true
   },
   "source": [
    "## Batch preparation (practice)\n",
    "\n",
    "For data gathering we'll use [`ptan` library](https://github.com/shmuma/ptan/) which is a very thin RL-specific wrapper around Gym. It implement replay buffers, agent logic and other functions frequently required for RL training.\n",
    "\n",
    "Our first warm-up problem will be to write conversion of batch sampled from Replay Buffer into PyTorch tensors suitable for training.\n",
    "\n",
    "Input to the function is a list of `namedtuple` with the following fields ([source code](https://github.com/Shmuma/ptan/blob/master/ptan/experience.py#L155)):\n",
    "* `state`: state `s` in the trajectory, which is a 160x210 array of bytes with shape \\[3, 210, 160\\]\n",
    "* `action`: action executed, which is an integer from 0 to 255 indicating the square in our click grid\n",
    "* `reward`: immediate reward obtained after action execution\n",
    "* `last_state`: state we've got after execution of action. It equals to `None` if episode finished after action.\n",
    "\n",
    "We'll use 1-step DQN, but Ptan can do N-step calculation for you. You can experiment with the difference.\n",
    "\n",
    "The output should be three tensors containing the batch data with:\n",
    "* `state`: in a form of tensor with shape \\[X, Y, ...\\]\n",
    "* `actions`: as a long tensor\n",
    "* `ref values`: approximated Q-values using Bellman equation\n",
    "\n",
    "$Q_{s,a} = r_{s,a} + \\gamma \\cdot max_{a'}Q_{s',a'}$\n"
   ]
  },
  {
   "cell_type": "code",
   "execution_count": null,
   "metadata": {
    "hidden": true
   },
   "outputs": [],
   "source": [
    "@torch.no_grad()\n",
    "def unpack_batch(batch: List[ptan.experience.ExperienceFirstLast], net: nn.Module, gamma: float, device=\"cpu\"):\n",
    "    states = []\n",
    "    actions = []\n",
    "    rewards = []\n",
    "    done_masks = []    # list of booleans, True if this is the last step in the episode\n",
    "    last_states = []\n",
    "    for exp in batch:\n",
    "        # unpack every experience entry into individual lists\n",
    "        raise NotImplementedError\n",
    "\n",
    "    # convert everything to tensors (do not forget to put them into proper devices!)\n",
    "    # apply network and find best Q values of every action (torch.max() is the right function to use (c: )\n",
    "    # zero out q-values according to done_masks\n",
    "    # return the result as tuple of three things: states tensor, actions tensor and \n",
    "    # Q-values approximation tensor"
   ]
  },
  {
   "cell_type": "markdown",
   "metadata": {
    "hidden": true
   },
   "source": [
    "### Tests for your solution\n",
    "\n",
    "There are several test cases you can use to check your solution"
   ]
  },
  {
   "cell_type": "code",
   "execution_count": 31,
   "metadata": {
    "hidden": true
   },
   "outputs": [
    {
     "data": {
      "text/plain": [
       "Model(\n",
       "  (conv): Sequential(\n",
       "    (0): Conv2d(3, 64, kernel_size=(5, 5), stride=(5, 5))\n",
       "    (1): ReLU()\n",
       "    (2): Conv2d(64, 64, kernel_size=(3, 3), stride=(2, 2))\n",
       "    (3): ReLU()\n",
       "    (4): Conv2d(64, 32, kernel_size=(3, 3), stride=(2, 2))\n",
       "    (5): ReLU()\n",
       "  )\n",
       "  (fc): Sequential(\n",
       "    (0): Linear(in_features=2016, out_features=256, bias=True)\n",
       "    (1): ReLU()\n",
       "    (2): Linear(in_features=256, out_features=256, bias=True)\n",
       "  )\n",
       ")"
      ]
     },
     "execution_count": 31,
     "metadata": {},
     "output_type": "execute_result"
    }
   ],
   "source": [
    "# this code also should help you to understand the expectations from your code\n",
    "net = Model(env.observation_space.shape, env.action_space.n)\n",
    "# with eps=1, we don't need parent action selector, as all actions will be random, but that's a corner case!\n",
    "action_selector = ptan.actions.EpsilonGreedyActionSelector(epsilon=1) \n",
    "agent = ptan.agent.DQNAgent(net, action_selector)\n",
    "net"
   ]
  },
  {
   "cell_type": "code",
   "execution_count": 32,
   "metadata": {
    "hidden": true
   },
   "outputs": [
    {
     "name": "stderr",
     "output_type": "stream",
     "text": [
      "[2019-06-28 19:47:26,524] [0:localhost:5900] Sending reset for env_id=wob.mini.ClickDialog-v0 fps=60 episode_id=0\n"
     ]
    }
   ],
   "source": [
    "exp_source = ptan.experience.ExperienceSourceFirstLast(env, agent, gamma=1.0, vectorized=True)\n",
    "batch = [e for _, e in zip(range(5), exp_source)]\n",
    "# add one final state with known reward\n",
    "batch.append(ptan.experience.ExperienceFirstLast(state=batch[0].state, action=0, reward=10.0, last_state=None))"
   ]
  },
  {
   "cell_type": "code",
   "execution_count": 33,
   "metadata": {
    "hidden": true
   },
   "outputs": [],
   "source": [
    "r = unpack_batch(batch, net, gamma=1.0)"
   ]
  },
  {
   "cell_type": "code",
   "execution_count": 34,
   "metadata": {
    "hidden": true
   },
   "outputs": [],
   "source": [
    "assert isinstance(r, tuple)\n",
    "assert len(r) == 3"
   ]
  },
  {
   "cell_type": "code",
   "execution_count": 35,
   "metadata": {
    "hidden": true
   },
   "outputs": [],
   "source": [
    "states, actions, next_q = r"
   ]
  },
  {
   "cell_type": "code",
   "execution_count": 36,
   "metadata": {
    "hidden": true
   },
   "outputs": [],
   "source": [
    "assert isinstance(states, torch.Tensor)\n",
    "assert states.dtype == torch.uint8\n",
    "assert states.size() == (6, 3, 210, 160)\n",
    "\n",
    "assert isinstance(actions, torch.Tensor)\n",
    "assert actions.dtype == torch.long\n",
    "assert actions.size() == (6, )\n",
    "\n",
    "assert isinstance(next_q, torch.Tensor)\n",
    "assert next_q.dtype == torch.float32\n",
    "assert next_q.size() == (6, )\n",
    "\n",
    "assert actions[5] == 0\n",
    "assert next_q[5] == 10.0"
   ]
  },
  {
   "cell_type": "markdown",
   "metadata": {
    "heading_collapsed": true
   },
   "source": [
    "## Batch preparation (solution)\n",
    "\n",
    "Please do not peek inside this, as you'll spoil all the fun :)"
   ]
  },
  {
   "cell_type": "code",
   "execution_count": 30,
   "metadata": {
    "hidden": true
   },
   "outputs": [],
   "source": [
    "@torch.no_grad()\n",
    "def unpack_batch(batch: List[ptan.experience.ExperienceFirstLast], net: nn.Module, gamma: float, device=\"cpu\"):\n",
    "    states = []\n",
    "    actions = []\n",
    "    rewards = []\n",
    "    done_masks = []\n",
    "    last_states = []\n",
    "    for exp in batch:\n",
    "        states.append(exp.state)\n",
    "        actions.append(exp.action)\n",
    "        rewards.append(exp.reward)\n",
    "        done_masks.append(exp.last_state is None)\n",
    "        if exp.last_state is None:\n",
    "            last_states.append(exp.state)\n",
    "        else:\n",
    "            last_states.append(exp.last_state)\n",
    "\n",
    "    states_v = torch.tensor(states).to(device)\n",
    "    actions_v = torch.tensor(actions).to(device)\n",
    "    rewards_v = torch.tensor(rewards).to(device)\n",
    "    last_states_v = torch.tensor(last_states).to(device)\n",
    "    last_state_q_v = net(last_states_v)\n",
    "    best_last_q_v = torch.max(last_state_q_v, dim=1)[0]\n",
    "    best_last_q_v[done_masks] = 0.0\n",
    "    return states_v, actions_v, best_last_q_v + rewards_v"
   ]
  },
  {
   "cell_type": "markdown",
   "metadata": {},
   "source": [
    "## Training loop\n",
    "\n",
    "Now we're ready to implement the training loop"
   ]
  },
  {
   "cell_type": "code",
   "execution_count": 37,
   "metadata": {},
   "outputs": [],
   "source": [
    "GAMMA = 0.99\n",
    "REPLAY_SIZE = 10000\n",
    "MIN_REPLAY = 100\n",
    "BATCH_SIZE = 64\n",
    "LR = 1e-4\n",
    "#DEVICE = \"cpu\"\n",
    "DEVICE = \"cuda\"  "
   ]
  },
  {
   "cell_type": "code",
   "execution_count": 38,
   "metadata": {},
   "outputs": [
    {
     "name": "stderr",
     "output_type": "stream",
     "text": [
      "[2019-06-28 19:48:12,546] Making new env: wob.mini.ClickDialog-v0\n",
      "[2019-06-28 19:48:12,549] Using SoftmaxClickMouse with action_region=(10, 125, 170, 285), noclick_regions=[]\n",
      "[2019-06-28 19:48:12,550] SoftmaxClickMouse noclick regions removed 0 of 256 actions\n",
      "[2019-06-28 19:48:12,551] Using the golang VNC implementation\n",
      "[2019-06-28 19:48:12,552] Using VNCSession arguments: {'encoding': 'tight', 'compress_level': 0, 'fine_quality_level': 100, 'subsample_level': 0, 'start_timeout': 7}. (Customize by running \"env.configure(vnc_kwargs={...})\"\n",
      "[2019-06-28 19:48:12,571] [0] Connecting to environment: vnc://localhost:5900 password=openai. If desired, you can manually connect a VNC viewer, such as TurboVNC. Most environments provide a convenient in-browser VNC client: http://localhost:15900/viewer/?password=openai\n"
     ]
    }
   ],
   "source": [
    "env = gym.make(\"wob.mini.ClickDialog-v0\")\n",
    "env = MiniWoBCropper(env)\n",
    "env = SoftmaxClickMouse(env)\n",
    "url = remotes_url(count=1)\n",
    "\n",
    "env.configure(remotes=url, docker_image=DOCKER_IMAGE, fps=5, vnc_kwargs={\n",
    "        'encoding': 'tight', 'compress_level': 0,\n",
    "        'fine_quality_level': 100, 'subsample_level': 0\n",
    "    })\n",
    "obs = env.reset()"
   ]
  },
  {
   "cell_type": "code",
   "execution_count": 39,
   "metadata": {},
   "outputs": [
    {
     "name": "stderr",
     "output_type": "stream",
     "text": [
      "[2019-06-28 19:48:15,760] Throttle fell behind by 2.99s; lost 14.94 frames\n",
      "[2019-06-28 19:48:28,918] [0:localhost:5900] Sending reset for env_id=wob.mini.ClickDialog-v0 fps=60 episode_id=0\n",
      "[2019-06-28 19:48:28,949] [0:localhost:5900] Initial reset complete: episode_id=77\n"
     ]
    }
   ],
   "source": [
    "while obs[0] is None:\n",
    "    a = env.action_space.sample()\n",
    "    obs, reward, is_done, info = env.step([a])\n",
    "    time.sleep(1)"
   ]
  },
  {
   "cell_type": "code",
   "execution_count": 43,
   "metadata": {},
   "outputs": [],
   "source": [
    "# this code also should help you to understand the expectations from your code\n",
    "net = Model(env.observation_space.shape, env.action_space.n).to(DEVICE)\n",
    "parent_selector = ptan.actions.ArgmaxActionSelector()\n",
    "action_selector = ptan.actions.EpsilonGreedyActionSelector(epsilon=1, selector=parent_selector) \n",
    "agent = ptan.agent.DQNAgent(net, action_selector, device=DEVICE)\n",
    "exp_source = ptan.experience.ExperienceSourceFirstLast(env, agent, gamma=1.0, vectorized=True)\n",
    "\n",
    "buffer = ptan.experience.ExperienceReplayBuffer(exp_source, REPLAY_SIZE)\n",
    "optimizer = optim.Adam(net.parameters(), LR)"
   ]
  },
  {
   "cell_type": "code",
   "execution_count": null,
   "metadata": {},
   "outputs": [
    {
     "name": "stderr",
     "output_type": "stream",
     "text": [
      "[2019-06-28 19:51:09,280] Throttle fell behind by 58.57s; lost 292.83 frames\n"
     ]
    },
    {
     "name": "stdout",
     "output_type": "stream",
     "text": [
      "Done 1 episodes, last 100 means: reward=-1.000, steps=4.000, speed=6.31 steps/s\n",
      "Done 2 episodes, last 100 means: reward=-0.369, steps=5.000, speed=4.99 steps/s\n",
      "Done 3 episodes, last 100 means: reward=-0.246, steps=20.667, speed=4.99 steps/s\n",
      "Done 4 episodes, last 100 means: reward=0.031, steps=18.000, speed=4.99 steps/s\n"
     ]
    },
    {
     "name": "stderr",
     "output_type": "stream",
     "text": [
      "[2019-06-28 19:51:36,434] Throttle fell behind by 2.75s; lost 13.73 frames\n"
     ]
    },
    {
     "name": "stdout",
     "output_type": "stream",
     "text": [
      "Done 5 episodes, last 100 means: reward=0.034, steps=18.600, speed=1.57 steps/s\n"
     ]
    },
    {
     "name": "stderr",
     "output_type": "stream",
     "text": [
      "[2019-06-28 19:51:46,365] Throttle fell behind by 2.61s; lost 13.05 frames\n"
     ]
    },
    {
     "name": "stdout",
     "output_type": "stream",
     "text": [
      "Done 6 episodes, last 100 means: reward=-0.138, steps=17.167, speed=1.01 steps/s\n"
     ]
    },
    {
     "name": "stderr",
     "output_type": "stream",
     "text": [
      "[2019-06-28 19:51:56,522] Throttle fell behind by 2.64s; lost 13.19 frames\n"
     ]
    },
    {
     "name": "stdout",
     "output_type": "stream",
     "text": [
      "Done 7 episodes, last 100 means: reward=-0.261, steps=16.143, speed=0.98 steps/s\n"
     ]
    },
    {
     "name": "stderr",
     "output_type": "stream",
     "text": [
      "[2019-06-28 19:52:07,891] Throttle fell behind by 2.66s; lost 13.29 frames\n"
     ]
    },
    {
     "name": "stdout",
     "output_type": "stream",
     "text": [
      "Done 8 episodes, last 100 means: reward=-0.354, steps=15.500, speed=0.97 steps/s\n"
     ]
    },
    {
     "name": "stderr",
     "output_type": "stream",
     "text": [
      "[2019-06-28 19:52:18,105] Throttle fell behind by 2.77s; lost 13.83 frames\n"
     ]
    },
    {
     "name": "stdout",
     "output_type": "stream",
     "text": [
      "Done 9 episodes, last 100 means: reward=-0.426, steps=14.889, speed=0.98 steps/s\n"
     ]
    },
    {
     "name": "stderr",
     "output_type": "stream",
     "text": [
      "[2019-06-28 19:52:28,222] Throttle fell behind by 2.84s; lost 14.20 frames\n"
     ]
    },
    {
     "name": "stdout",
     "output_type": "stream",
     "text": [
      "Done 10 episodes, last 100 means: reward=-0.483, steps=14.400, speed=0.99 steps/s\n"
     ]
    },
    {
     "name": "stderr",
     "output_type": "stream",
     "text": [
      "[2019-06-28 19:52:39,467] Throttle fell behind by 2.86s; lost 14.31 frames\n"
     ]
    },
    {
     "name": "stdout",
     "output_type": "stream",
     "text": [
      "Done 11 episodes, last 100 means: reward=-0.530, steps=14.091, speed=0.98 steps/s\n"
     ]
    },
    {
     "name": "stderr",
     "output_type": "stream",
     "text": [
      "[2019-06-28 19:52:49,867] Throttle fell behind by 2.67s; lost 13.37 frames\n"
     ]
    },
    {
     "name": "stdout",
     "output_type": "stream",
     "text": [
      "Done 12 episodes, last 100 means: reward=-0.569, steps=13.750, speed=0.96 steps/s\n"
     ]
    },
    {
     "name": "stderr",
     "output_type": "stream",
     "text": [
      "[2019-06-28 19:52:59,790] Throttle fell behind by 2.67s; lost 13.35 frames\n"
     ]
    },
    {
     "name": "stdout",
     "output_type": "stream",
     "text": [
      "Done 13 episodes, last 100 means: reward=-0.525, steps=13.462, speed=1.01 steps/s\n"
     ]
    },
    {
     "name": "stderr",
     "output_type": "stream",
     "text": [
      "[2019-06-28 19:53:10,979] Throttle fell behind by 2.67s; lost 13.34 frames\n"
     ]
    },
    {
     "name": "stdout",
     "output_type": "stream",
     "text": [
      "Done 14 episodes, last 100 means: reward=-0.559, steps=13.286, speed=0.98 steps/s\n"
     ]
    },
    {
     "name": "stderr",
     "output_type": "stream",
     "text": [
      "[2019-06-28 19:53:21,287] Throttle fell behind by 2.67s; lost 13.34 frames\n"
     ]
    },
    {
     "name": "stdout",
     "output_type": "stream",
     "text": [
      "Done 15 episodes, last 100 means: reward=-0.589, steps=13.067, speed=0.97 steps/s\n"
     ]
    },
    {
     "name": "stderr",
     "output_type": "stream",
     "text": [
      "[2019-06-28 19:53:31,556] Throttle fell behind by 2.77s; lost 13.87 frames\n"
     ]
    },
    {
     "name": "stdout",
     "output_type": "stream",
     "text": [
      "Done 16 episodes, last 100 means: reward=-0.614, steps=12.875, speed=0.97 steps/s\n"
     ]
    }
   ],
   "source": [
    "episode_rewards = []\n",
    "episode_steps = []\n",
    "losses = []\n",
    "steps = 0\n",
    "last_ts = time.time()\n",
    "last_steps = 0\n",
    "\n",
    "while True:\n",
    "    steps += 1\n",
    "    buffer.populate(1)\n",
    "    r = exp_source.pop_rewards_steps()\n",
    "    if r:\n",
    "        for rw, st in r:\n",
    "            episode_rewards.append(rw)\n",
    "            episode_steps.append(st)\n",
    "        speed = (steps - last_steps) / (time.time() - last_ts)\n",
    "        print(\"Done %d episodes, last 100 means: reward=%.3f, steps=%.3f, speed=%.2f steps/s\" % (\n",
    "            len(episode_rewards), np.mean(episode_rewards[-100:]), np.mean(episode_steps[-100:]),\n",
    "            speed\n",
    "        ))\n",
    "        last_ts = time.time()\n",
    "        last_steps = steps\n",
    "        if np.mean(episode_rewards[-100:]) > 0.9:\n",
    "            print(\"You solved the env! Congrats!\")\n",
    "            break\n",
    "    if len(buffer) < MIN_REPLAY:\n",
    "        continue\n",
    "    batch = buffer.sample(BATCH_SIZE)\n",
    "    state_v, actions_v, ref_q_v = unpack_batch(batch, net, gamma=GAMMA, device=DEVICE)\n",
    "    optimizer.zero_grad()\n",
    "    q_v = net(state_v)\n",
    "    q_v = q_v.gather(1, actions_v.unsqueeze(-1)).squeeze(-1)\n",
    "    loss_v = F.mse_loss(q_v, ref_q_v)\n",
    "    loss_v.backward()\n",
    "    optimizer.step()\n",
    "    losses.append(loss_v.item())\n",
    "    \n",
    "    pass"
   ]
  },
  {
   "cell_type": "markdown",
   "metadata": {},
   "source": [
    "# Do not forget to stop container"
   ]
  },
  {
   "cell_type": "code",
   "execution_count": 94,
   "metadata": {},
   "outputs": [],
   "source": [
    "env.close()"
   ]
  },
  {
   "cell_type": "code",
   "execution_count": 95,
   "metadata": {},
   "outputs": [
    {
     "name": "stdout",
     "output_type": "stream",
     "text": [
      "0402f763515b\r\n"
     ]
    }
   ],
   "source": [
    "!./containers_stop.sh"
   ]
  },
  {
   "cell_type": "code",
   "execution_count": null,
   "metadata": {},
   "outputs": [],
   "source": []
  }
 ],
 "metadata": {
  "kernelspec": {
   "display_name": "Python 3",
   "language": "python",
   "name": "python3"
  },
  "language_info": {
   "codemirror_mode": {
    "name": "ipython",
    "version": 3
   },
   "file_extension": ".py",
   "mimetype": "text/x-python",
   "name": "python",
   "nbconvert_exporter": "python",
   "pygments_lexer": "ipython3",
   "version": "3.6.8"
  }
 },
 "nbformat": 4,
 "nbformat_minor": 2
}
