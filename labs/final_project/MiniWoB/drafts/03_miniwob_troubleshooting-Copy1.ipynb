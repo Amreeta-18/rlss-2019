{
 "cells": [
  {
   "cell_type": "markdown",
   "metadata": {
    "heading_collapsed": true
   },
   "source": [
    "# Imports/tools"
   ]
  },
  {
   "cell_type": "code",
   "execution_count": 147,
   "metadata": {
    "hidden": true
   },
   "outputs": [
    {
     "name": "stdout",
     "output_type": "stream",
     "text": [
      "Starting container 1\n",
      "74945919425dce3484f01a5129892be1b5e3628bd4d9d62835f1f359c3d774bb\n"
     ]
    }
   ],
   "source": [
    "!./containers_run.sh"
   ]
  },
  {
   "cell_type": "code",
   "execution_count": 2,
   "metadata": {
    "hidden": true
   },
   "outputs": [
    {
     "name": "stderr",
     "output_type": "stream",
     "text": [
      "/home/shmuma/anaconda3/envs/miniwob/lib/python3.6/site-packages/universe/runtimes/__init__.py:7: YAMLLoadWarning: calling yaml.load() without Loader=... is deprecated, as the default Loader is unsafe. Please read https://msg.pyyaml.org/load for full details.\n",
      "  spec = yaml.load(f)\n"
     ]
    }
   ],
   "source": [
    "import gym\n",
    "import ptan\n",
    "import time\n",
    "import copy\n",
    "import numpy as np\n",
    "import universe\n",
    "import collections\n",
    "from typing import List, Optional, Tuple\n",
    "from universe import vectorized\n",
    "from universe.wrappers.experimental import SoftmaxClickMouse\n",
    "\n",
    "from PIL import Image, ImageDraw\n",
    "import matplotlib.pylab as plt\n",
    "\n",
    "%matplotlib inline"
   ]
  },
  {
   "cell_type": "code",
   "execution_count": 3,
   "metadata": {
    "hidden": true
   },
   "outputs": [],
   "source": [
    "import torch\n",
    "import torch.nn as nn\n",
    "import torch.nn.functional as F\n",
    "import torch.optim as optim"
   ]
  },
  {
   "cell_type": "code",
   "execution_count": 4,
   "metadata": {
    "hidden": true
   },
   "outputs": [],
   "source": [
    "DOCKER_IMAGE = \"shmuma/miniwob:latest\"\n",
    "ENV_NAME = \"wob.mini.ClickDialog-v0\""
   ]
  },
  {
   "cell_type": "code",
   "execution_count": 5,
   "metadata": {
    "hidden": true
   },
   "outputs": [],
   "source": [
    "# function to build connection endpoints for set of containers\n",
    "# you should tweak its args if you're not using standalone installation\n",
    "def remotes_url(port_ofs=0, hostname='localhost', count=8):\n",
    "    hosts = [\"%s:%d+%d\" % (hostname, 5900 + ofs, 15900 + ofs) for ofs in range(port_ofs, port_ofs+count)]\n",
    "    return \"vnc://\" + \",\".join(hosts)"
   ]
  },
  {
   "cell_type": "code",
   "execution_count": 6,
   "metadata": {
    "hidden": true
   },
   "outputs": [],
   "source": [
    "def make_env(wrapper_func = lambda env: env, count: int = 1, fps: float = 5) -> universe.envs.VNCEnv:\n",
    "    \"\"\"\n",
    "    Builds the vectorized env\n",
    "    \"\"\"\n",
    "    env = gym.make(ENV_NAME)\n",
    "    env = wrapper_func(env)\n",
    "    url = remotes_url(count=count)\n",
    "    print(\"Remotes URL: %s\" % url)\n",
    "\n",
    "    env.configure(remotes=url, docker_image=DOCKER_IMAGE, fps=fps, vnc_kwargs={\n",
    "            'encoding': 'tight', 'compress_level': 0,\n",
    "            'fine_quality_level': 100, 'subsample_level': 0\n",
    "        })\n",
    "    return env"
   ]
  },
  {
   "cell_type": "code",
   "execution_count": 7,
   "metadata": {
    "hidden": true
   },
   "outputs": [],
   "source": [
    "def join_env(env: universe.envs.VNCEnv):\n",
    "    \"\"\"\n",
    "    Function performs initial reset of the env and waits for observations to become ready\n",
    "    \"\"\"\n",
    "    obs_n = env.reset()\n",
    "    while any(map(lambda o: o is None, obs_n)):\n",
    "        a = [env.action_space.sample() for _ in obs_n]\n",
    "        obs_n, reward, is_done, info = env.step(a)\n",
    "    return obs_n"
   ]
  },
  {
   "cell_type": "code",
   "execution_count": 8,
   "metadata": {
    "hidden": true
   },
   "outputs": [],
   "source": [
    "class MiniWoBCropper(vectorized.ObservationWrapper):\n",
    "    \"\"\"\n",
    "    Crops the WoB area and converts the observation into PyTorch (C, H, W) format.\n",
    "    \"\"\"\n",
    "    # Area of interest\n",
    "    WIDTH = 160\n",
    "    HEIGHT = 210\n",
    "    X_OFS = 10\n",
    "    Y_OFS = 75\n",
    "    \n",
    "    def __init__(self, env, keep_text=False):\n",
    "        super(MiniWoBCropper, self).__init__(env)\n",
    "        self.keep_text = keep_text\n",
    "        img_space = gym.spaces.Box(low=0, high=255, shape=(3, self.HEIGHT, self.WIDTH))\n",
    "        if keep_text:\n",
    "            self.observation_space = gym.spaces.Tuple(spaces=(img_space, gym.spaces.Space))\n",
    "        else:\n",
    "            self.observation_space = img_space\n",
    "\n",
    "    def _observation(self, observation_n):\n",
    "        res = []\n",
    "        for obs in observation_n:\n",
    "            if obs is None:\n",
    "                res.append(obs)\n",
    "                continue\n",
    "            img = obs['vision'][self.Y_OFS:self.Y_OFS+self.HEIGHT, self.X_OFS:self.X_OFS+self.WIDTH, :]\n",
    "            img = np.transpose(img, (2, 0, 1))\n",
    "            if self.keep_text:\n",
    "                text = \" \".join(map(lambda d: d.get('instruction', ''), obs.get('text', [{}])))\n",
    "                res.append((img, text))\n",
    "            else:\n",
    "                res.append(img)\n",
    "        return res"
   ]
  },
  {
   "cell_type": "code",
   "execution_count": 17,
   "metadata": {
    "hidden": true
   },
   "outputs": [],
   "source": [
    "class Model(nn.Module):\n",
    "    def __init__(self, input_shape, n_actions):\n",
    "        super(Model, self).__init__()\n",
    "\n",
    "        self.conv = nn.Sequential(\n",
    "            nn.Conv2d(input_shape[0], 64, 5, stride=5),\n",
    "            nn.ReLU(),\n",
    "            nn.Conv2d(64, 64, 3, stride=2),\n",
    "            nn.ReLU(),\n",
    "        )\n",
    "\n",
    "        conv_out_size = self._get_conv_out(input_shape)\n",
    "\n",
    "        self.fc = nn.Sequential(\n",
    "            nn.Linear(conv_out_size, n_actions),\n",
    "        )\n",
    "\n",
    "    def _get_conv_out(self, shape):\n",
    "        o = self.conv(torch.zeros(1, *shape))\n",
    "        return int(np.prod(o.size()))\n",
    "\n",
    "    def forward(self, x):\n",
    "        fx = x.float() / 256\n",
    "        conv_out = self.conv(fx).view(fx.size()[0], -1)\n",
    "        return self.fc(conv_out)"
   ]
  },
  {
   "cell_type": "code",
   "execution_count": 10,
   "metadata": {
    "hidden": true
   },
   "outputs": [],
   "source": [
    "@torch.no_grad()\n",
    "def unpack_batch(batch: List[ptan.experience.ExperienceFirstLast], net: nn.Module, gamma: float, device=\"cpu\"):\n",
    "    states = []\n",
    "    actions = []\n",
    "    rewards = []\n",
    "    done_masks = []\n",
    "    last_states = []\n",
    "    for exp in batch:\n",
    "        states.append(exp.state)\n",
    "        actions.append(exp.action)\n",
    "        rewards.append(exp.reward)\n",
    "        done_masks.append(exp.last_state is None)\n",
    "        if exp.last_state is None:\n",
    "            last_states.append(exp.state)\n",
    "        else:\n",
    "            last_states.append(exp.last_state)\n",
    "\n",
    "    states_v = torch.tensor(states).to(device)\n",
    "    actions_v = torch.tensor(actions).to(device)\n",
    "    rewards_v = torch.tensor(rewards).to(device)\n",
    "    last_states_v = torch.tensor(last_states).to(device)\n",
    "    last_state_q_v = net(last_states_v)\n",
    "    best_last_q_v = torch.max(last_state_q_v, dim=1)[0]\n",
    "    best_last_q_v[done_masks] = 0.0\n",
    "    return states_v, actions_v, best_last_q_v + rewards_v"
   ]
  },
  {
   "cell_type": "markdown",
   "metadata": {},
   "source": [
    "# Troubleshooting of Baseline DQN\n",
    "\n",
    "> \"You love Linux, probably you're experienced in troubleshooting...\"\n",
    "> RHCE Exam Instructor @ 2005\n",
    "\n",
    "Code above doesn't converge. Usually, in such situations, tutorial author tweaks the parameters to make it working, so, attendants see only final, polished version. This makes the false impression of ML as smooth and quite obvious process, which very far from truth. Don't know about others, but my code doesn't work 90% of the time :).\n",
    "\n",
    "To learn how to deal with such situations, you're asked to troubleshoot the code above. There are several directions you could explore (of course, you can have your own ideas, that's not the complete list):\n",
    "\n",
    "* check training samples. Do they make sense? Is reward properly assigned to correct observations?\n",
    "* training gradients. How large they are? What's the ratio of gradients/weight values?\n",
    "* do end-of-episode steps handled properly? Final steps of epsiodes act as an anchor to prevent Q values from growing infinitely, so, it is critical to have them properly handled in Bellman equation\n",
    "* explore Q values produced by the network during the training. Are they growing over time? That's a good practice to have small set of states (including final step and steps before the final) and track their Qs during the training.\n",
    "* how large the difference between trained network and target net used for next-step Bellman approximation? How it changes over time?\n",
    "\n",
    "Full check might take a long time, especially if you haven't done it before. In the next notebook (03_miniwob_troubleshooting) you will be shown how to do those checks in this environment, but you should try to play with the list above for yourself."
   ]
  },
  {
   "cell_type": "code",
   "execution_count": 11,
   "metadata": {},
   "outputs": [],
   "source": [
    "GAMMA = 0.9\n",
    "REPLAY_SIZE = 10000\n",
    "MIN_REPLAY = 100\n",
    "TGT_SYNC = 100\n",
    "BATCH_SIZE = 16\n",
    "LR = 1e-3\n",
    "DEVICE = \"cuda\"  \n",
    "#DEVICE = \"cpu\"\n",
    "\n",
    "INITIAL_EPSILON = 1.0\n",
    "FINAL_EPSILON = 0.2\n",
    "STEPS_EPSILON = 1000"
   ]
  },
  {
   "cell_type": "markdown",
   "metadata": {
    "heading_collapsed": true
   },
   "source": [
    "## Training samples check\n",
    "\n",
    "Here we're going to eyeball our training samples. OpenAI Universe is asynchronous, so, if we're missing a frame or have delays to handle input data, we can get weird training samples.\n",
    "\n",
    "To do this, we implement small `Env` wrapper applied after `MiniWoBCropper` to keep history of training sequences."
   ]
  },
  {
   "cell_type": "code",
   "execution_count": 52,
   "metadata": {
    "hidden": true
   },
   "outputs": [],
   "source": [
    "class TrajectoryTracking(vectorized.Wrapper):\n",
    "    \"\"\"\n",
    "    Keeps last N trajectories from the environment\n",
    "    \"\"\"\n",
    "    def __init__(self, env, size: int):\n",
    "        super(TrajectoryTracking, self).__init__(env)\n",
    "        self.trajectories = collections.deque(maxlen=size)\n",
    "        self._in_progress = []\n",
    "\n",
    "    def reset(self):\n",
    "        obs_n = self.env.reset()\n",
    "        if not self._in_progress:\n",
    "            self._in_progress = [[] for _ in obs_n]\n",
    "        for t, obs in zip(self._in_progress, obs_n):\n",
    "            if t:\n",
    "                self.trajectories.append(list(t))\n",
    "                t.clear()\n",
    "            if obs:\n",
    "                t.append(obs)\n",
    "        return obs_n\n",
    "    \n",
    "    def step(self, action_n):\n",
    "        obs_n, r_n, done_n, info_n = self.env.step(action_n)\n",
    "        for t, obs, r, act in zip(self._in_progress, obs_n, r_n, action_n):\n",
    "            t.append((obs, act, r))\n",
    "        for t, done in zip(self._in_progress, done_n):\n",
    "            if done:\n",
    "                self.trajectories.append(list(t))\n",
    "                t.clear()\n",
    "        return obs_n, r_n, done_n, info_n"
   ]
  },
  {
   "cell_type": "markdown",
   "metadata": {
    "hidden": true
   },
   "source": [
    "Let's apply it to our training to get trajectories to check"
   ]
  },
  {
   "cell_type": "code",
   "execution_count": 32,
   "metadata": {
    "hidden": true
   },
   "outputs": [
    {
     "name": "stderr",
     "output_type": "stream",
     "text": [
      "[2019-07-02 13:31:10,031] Making new env: wob.mini.ClickDialog-v0\n",
      "[2019-07-02 13:31:10,034] Using SoftmaxClickMouse with action_region=(10, 125, 170, 285), noclick_regions=[]\n",
      "[2019-07-02 13:31:10,034] SoftmaxClickMouse noclick regions removed 0 of 256 actions\n",
      "[2019-07-02 13:31:10,035] Using the golang VNC implementation\n",
      "[2019-07-02 13:31:10,035] Using VNCSession arguments: {'encoding': 'tight', 'compress_level': 0, 'fine_quality_level': 100, 'subsample_level': 0, 'start_timeout': 7}. (Customize by running \"env.configure(vnc_kwargs={...})\"\n",
      "[2019-07-02 13:31:10,062] [0] Connecting to environment: vnc://localhost:5900 password=openai. If desired, you can manually connect a VNC viewer, such as TurboVNC. Most environments provide a convenient in-browser VNC client: http://localhost:15900/viewer/?password=openai\n"
     ]
    },
    {
     "name": "stdout",
     "output_type": "stream",
     "text": [
      "Remotes URL: vnc://localhost:5900+15900\n"
     ]
    },
    {
     "name": "stderr",
     "output_type": "stream",
     "text": [
      "[2019-07-02 13:31:26,450] [0:localhost:5900] Sending reset for env_id=wob.mini.ClickDialog-v0 fps=60 episode_id=0\n",
      "[2019-07-02 13:31:26,495] [0:localhost:5900] Initial reset complete: episode_id=80\n"
     ]
    }
   ],
   "source": [
    "def wrapper_func(env):\n",
    "    env = MiniWoBCropper(env)\n",
    "    env = SoftmaxClickMouse(env)\n",
    "    env = TrajectoryTracking(env, size=10)\n",
    "    return env\n",
    "\n",
    "# Note FPS decrease to get smaller amount of images\n",
    "env = make_env(wrapper_func = wrapper_func, fps=1)\n",
    "join_env(env);"
   ]
  },
  {
   "cell_type": "code",
   "execution_count": 33,
   "metadata": {
    "hidden": true
   },
   "outputs": [],
   "source": [
    "net = Model(env.observation_space.shape, env.action_space.n).to(DEVICE)\n",
    "\n",
    "parent_selector = ptan.actions.ArgmaxActionSelector()\n",
    "action_selector = ptan.actions.EpsilonGreedyActionSelector(epsilon=1, selector=parent_selector) \n",
    "agent = ptan.agent.DQNAgent(net, action_selector, device=DEVICE)\n",
    "exp_source = ptan.experience.ExperienceSourceFirstLast(env, agent, gamma=GAMMA, vectorized=True)\n",
    "\n",
    "buffer = ptan.experience.ExperienceReplayBuffer(exp_source, REPLAY_SIZE)"
   ]
  },
  {
   "cell_type": "code",
   "execution_count": 34,
   "metadata": {
    "hidden": true
   },
   "outputs": [
    {
     "name": "stderr",
     "output_type": "stream",
     "text": [
      "[2019-07-02 13:31:27,169] [0:localhost:5900] Sending reset for env_id=wob.mini.ClickDialog-v0 fps=60 episode_id=0\n"
     ]
    },
    {
     "name": "stdout",
     "output_type": "stream",
     "text": [
      "Episode done with 4 steps and 0.009 reward\n",
      "Episode done with 10 steps and -1.000 reward\n",
      "Episode done with 11 steps and -1.000 reward\n",
      "Episode done with 10 steps and -1.000 reward\n",
      "Episode done with 11 steps and -1.000 reward\n",
      "Episode done with 3 steps and 0.755 reward\n",
      "Episode done with 10 steps and -1.000 reward\n",
      "Episode done with 11 steps and -1.000 reward\n",
      "Episode done with 10 steps and -1.000 reward\n",
      "Episode done with 11 steps and -1.000 reward\n",
      "Episode done with 10 steps and 0.000 reward\n"
     ]
    }
   ],
   "source": [
    "# populate buffer to get some trajectories\n",
    "for _ in range(100):\n",
    "    buffer.populate(1)\n",
    "    for rw, st in exp_source.pop_rewards_steps():\n",
    "        print(\"Episode done with %d steps and %.3f reward\" % (st, rw))"
   ]
  },
  {
   "cell_type": "code",
   "execution_count": 41,
   "metadata": {
    "hidden": true
   },
   "outputs": [
    {
     "data": {
      "text/plain": [
       "10"
      ]
     },
     "execution_count": 41,
     "metadata": {},
     "output_type": "execute_result"
    }
   ],
   "source": [
    "len(env.trajectories)"
   ]
  },
  {
   "cell_type": "code",
   "execution_count": 42,
   "metadata": {
    "hidden": true
   },
   "outputs": [
    {
     "data": {
      "text/plain": [
       "[11, 10, 11, 3, 10, 11, 10, 11, 10, 11]"
      ]
     },
     "execution_count": 42,
     "metadata": {},
     "output_type": "execute_result"
    }
   ],
   "source": [
    "list(map(len, env.trajectories))"
   ]
  },
  {
   "cell_type": "code",
   "execution_count": 43,
   "metadata": {
    "hidden": true
   },
   "outputs": [],
   "source": [
    "# you might want to select different trajectory to check, I've chosen not very long one with positive reward\n",
    "tr = env.trajectories[3]\n",
    "tr_obs, tr_act, tr_rw = zip(*tr)\n",
    "tr_act, tr_rw"
   ]
  },
  {
   "cell_type": "code",
   "execution_count": 46,
   "metadata": {
    "hidden": true
   },
   "outputs": [
    {
     "data": {
      "text/plain": [
       "(0.0, 0.0, 0.7554000000000001)"
      ]
     },
     "execution_count": 46,
     "metadata": {},
     "output_type": "execute_result"
    }
   ],
   "source": [
    "tr_rw"
   ]
  },
  {
   "cell_type": "code",
   "execution_count": 21,
   "metadata": {
    "hidden": true
   },
   "outputs": [],
   "source": [
    "def get_obs_img(obs, action=None, action_step_pix=10, action_y_ofs=50, transpose=True):\n",
    "    \"\"\"\n",
    "    Get the image from observation with optional action place shown\n",
    "    \"\"\"\n",
    "    if transpose:\n",
    "        obs = np.transpose(obs, (1, 2, 0))\n",
    "    img = Image.fromarray(obs)\n",
    "    if action is not None:\n",
    "        draw = ImageDraw.Draw(img)\n",
    "        if isinstance(action, tuple):\n",
    "            x_ofs, y_ofs = action\n",
    "        else:\n",
    "            y_ofs = action_y_ofs + (action % 16) * action_step_pix\n",
    "            x_ofs = (action // 16) * action_step_pix\n",
    "        half_step = action_step_pix//2\n",
    "        draw.ellipse((x_ofs-half_step, y_ofs-half_step, x_ofs+half_step, y_ofs+half_step),\n",
    "                     (0, 0, 255, 128))\n",
    "    return img"
   ]
  },
  {
   "cell_type": "code",
   "execution_count": 48,
   "metadata": {
    "hidden": true
   },
   "outputs": [],
   "source": [
    "imgs = [get_obs_img(obs, action=act) for obs, act in zip(tr_obs, tr_act)]"
   ]
  },
  {
   "cell_type": "code",
   "execution_count": 49,
   "metadata": {
    "hidden": true
   },
   "outputs": [
    {
     "data": {
      "image/png": "[encoded data removed]",
      "text/plain": [
       "<Figure size 720x720 with 3 Axes>"
      ]
     },
     "metadata": {
      "needs_background": "light"
     },
     "output_type": "display_data"
    }
   ],
   "source": [
    "fig = plt.figure(figsize=(10, 10))\n",
    "\n",
    "rows = 1\n",
    "for i, img in enumerate(imgs, start=1):\n",
    "    fig.add_subplot(rows, np.ceil(len(imgs)/rows), i)\n",
    "    plt.imshow(img)\n",
    "plt.show()"
   ]
  },
  {
   "cell_type": "markdown",
   "metadata": {
    "hidden": true
   },
   "source": [
    "Ok, looks like reward is assigned to the last step, but not to the step with correct action. Let's check what happens with higher FPS value"
   ]
  },
  {
   "cell_type": "code",
   "execution_count": 50,
   "metadata": {
    "hidden": true
   },
   "outputs": [
    {
     "name": "stderr",
     "output_type": "stream",
     "text": [
      "[2019-07-02 13:44:20,133] Making new env: wob.mini.ClickDialog-v0\n",
      "[2019-07-02 13:44:20,136] Using SoftmaxClickMouse with action_region=(10, 125, 170, 285), noclick_regions=[]\n",
      "[2019-07-02 13:44:20,136] SoftmaxClickMouse noclick regions removed 0 of 256 actions\n",
      "[2019-07-02 13:44:20,137] Using the golang VNC implementation\n",
      "[2019-07-02 13:44:20,137] Using VNCSession arguments: {'encoding': 'tight', 'compress_level': 0, 'fine_quality_level': 100, 'subsample_level': 0, 'start_timeout': 7}. (Customize by running \"env.configure(vnc_kwargs={...})\"\n",
      "[2019-07-02 13:44:20,154] [0] Connecting to environment: vnc://localhost:5900 password=openai. If desired, you can manually connect a VNC viewer, such as TurboVNC. Most environments provide a convenient in-browser VNC client: http://localhost:15900/viewer/?password=openai\n"
     ]
    },
    {
     "name": "stdout",
     "output_type": "stream",
     "text": [
      "Remotes URL: vnc://localhost:5900+15900\n"
     ]
    },
    {
     "name": "stderr",
     "output_type": "stream",
     "text": [
      "[2019-07-02 13:44:36,559] [0:localhost:5900] Sending reset for env_id=wob.mini.ClickDialog-v0 fps=60 episode_id=0\n",
      "[2019-07-02 13:44:36,624] [0:localhost:5900] Initial reset complete: episode_id=158\n"
     ]
    }
   ],
   "source": [
    "def wrapper_func(env):\n",
    "    env = MiniWoBCropper(env)\n",
    "    env = SoftmaxClickMouse(env)\n",
    "    env = TrajectoryTracking(env, size=10)\n",
    "    return env\n",
    "\n",
    "env = make_env(wrapper_func = wrapper_func, fps=5)\n",
    "join_env(env);"
   ]
  },
  {
   "cell_type": "code",
   "execution_count": 51,
   "metadata": {
    "hidden": true
   },
   "outputs": [],
   "source": [
    "net = Model(env.observation_space.shape, env.action_space.n).to(DEVICE)\n",
    "\n",
    "parent_selector = ptan.actions.ArgmaxActionSelector()\n",
    "action_selector = ptan.actions.EpsilonGreedyActionSelector(epsilon=1, selector=parent_selector) \n",
    "agent = ptan.agent.DQNAgent(net, action_selector, device=DEVICE)\n",
    "exp_source = ptan.experience.ExperienceSourceFirstLast(env, agent, gamma=GAMMA, vectorized=True)\n",
    "\n",
    "buffer = ptan.experience.ExperienceReplayBuffer(exp_source, REPLAY_SIZE)"
   ]
  },
  {
   "cell_type": "code",
   "execution_count": 52,
   "metadata": {
    "hidden": true
   },
   "outputs": [
    {
     "name": "stderr",
     "output_type": "stream",
     "text": [
      "[2019-07-02 13:44:58,856] [0:localhost:5900] Sending reset for env_id=wob.mini.ClickDialog-v0 fps=60 episode_id=0\n"
     ]
    },
    {
     "name": "stdout",
     "output_type": "stream",
     "text": [
      "Episode done with 14 steps and -1.000 reward\n",
      "Episode done with 12 steps and 0.823 reward\n",
      "Episode done with 37 steps and 0.310 reward\n",
      "Episode done with 41 steps and 0.230 reward\n",
      "Episode done with 52 steps and -1.000 reward\n",
      "Episode done with 6 steps and 0.930 reward\n",
      "Episode done with 22 steps and 0.613 reward\n",
      "Episode done with 22 steps and 0.611 reward\n",
      "Episode done with 8 steps and 0.891 reward\n",
      "Episode done with 52 steps and -1.000 reward\n",
      "Episode done with 53 steps and -1.000 reward\n",
      "Episode done with 52 steps and -1.000 reward\n",
      "Episode done with 53 steps and -1.000 reward\n",
      "Episode done with 52 steps and -1.000 reward\n"
     ]
    }
   ],
   "source": [
    "# populate buffer to get some trajectories\n",
    "for _ in range(500):\n",
    "    buffer.populate(1)\n",
    "    for rw, st in exp_source.pop_rewards_steps():\n",
    "        print(\"Episode done with %d steps and %.3f reward\" % (st, rw))"
   ]
  },
  {
   "cell_type": "markdown",
   "metadata": {
    "hidden": true
   },
   "source": [
    "One thing to notice here: we have much higher success rate due to more clicks done."
   ]
  },
  {
   "cell_type": "code",
   "execution_count": 53,
   "metadata": {
    "hidden": true
   },
   "outputs": [
    {
     "data": {
      "text/plain": [
       "[52, 6, 22, 22, 8, 52, 53, 52, 53, 52]"
      ]
     },
     "execution_count": 53,
     "metadata": {},
     "output_type": "execute_result"
    }
   ],
   "source": [
    "list(map(len, env.trajectories))"
   ]
  },
  {
   "cell_type": "code",
   "execution_count": 62,
   "metadata": {
    "hidden": true
   },
   "outputs": [
    {
     "name": "stdout",
     "output_type": "stream",
     "text": [
      "(61, 201, 61, 174, 196, 73)\n",
      "(0.0, 0.0, 0.0, 0.0, 0.0, 0.9298000000000001)\n"
     ]
    }
   ],
   "source": [
    "# you might want to select different trajectory to check, I've chosen not very long one with positive reward\n",
    "tr = env.trajectories[1]\n",
    "tr_obs, tr_act, tr_rw = zip(*tr)\n",
    "print(tr_act)\n",
    "print(tr_rw)"
   ]
  },
  {
   "cell_type": "code",
   "execution_count": 63,
   "metadata": {
    "hidden": true
   },
   "outputs": [
    {
     "data": {
      "image/png": "[encoded data removed]",
      "text/plain": [
       "<Figure size 720x720 with 6 Axes>"
      ]
     },
     "metadata": {
      "needs_background": "light"
     },
     "output_type": "display_data"
    }
   ],
   "source": [
    "imgs = [get_obs_img(obs, action=act) for obs, act in zip(tr_obs, tr_act)]\n",
    "\n",
    "fig = plt.figure(figsize=(10, 10))\n",
    "\n",
    "rows = 2\n",
    "for i, img in enumerate(imgs, start=1):\n",
    "    fig.add_subplot(rows, np.ceil(len(imgs)/rows), i)\n",
    "    plt.imshow(img)\n",
    "plt.show()"
   ]
  },
  {
   "cell_type": "markdown",
   "metadata": {
    "hidden": true
   },
   "source": [
    "Hm, looks like the last step in the trajectory is confusing. Let's check the contents of the replay buffer"
   ]
  },
  {
   "cell_type": "code",
   "execution_count": 65,
   "metadata": {
    "hidden": true
   },
   "outputs": [
    {
     "data": {
      "text/plain": [
       "500"
      ]
     },
     "execution_count": 65,
     "metadata": {},
     "output_type": "execute_result"
    }
   ],
   "source": [
    "len(buffer)"
   ]
  },
  {
   "cell_type": "code",
   "execution_count": 64,
   "metadata": {
    "hidden": true
   },
   "outputs": [
    {
     "name": "stdout",
     "output_type": "stream",
     "text": [
      "Found 7 final good states and 7 final bad\n"
     ]
    }
   ],
   "source": [
    "# buffer is just a container of objects of ExperienceFirstLast \n",
    "# (https://github.com/Shmuma/ptan/blob/master/ptan/experience.py#L155)\n",
    "# which just a namedtuple with fields: state, action, reward, last_state\n",
    "final_good = []\n",
    "final_bad = []\n",
    "for s in buffer:\n",
    "    if s.last_state is None:\n",
    "        if s.reward > 0.2:\n",
    "            final_good.append(s)\n",
    "        elif s.reward < -0.2:\n",
    "            final_bad.append(s)\n",
    "print(\"Found %d final good states and %d final bad\" % (len(final_good), len(final_bad)))"
   ]
  },
  {
   "cell_type": "code",
   "execution_count": 66,
   "metadata": {
    "hidden": true
   },
   "outputs": [],
   "source": [
    "final_good_imgs = [get_obs_img(s.state, action=s.action) for s in final_good]\n",
    "final_bad_imgs = [get_obs_img(s.state, action=s.action) for s in final_bad]"
   ]
  },
  {
   "cell_type": "code",
   "execution_count": 67,
   "metadata": {
    "hidden": true
   },
   "outputs": [
    {
     "data": {
      "image/png": "[encoded data removed]",
      "text/plain": [
       "<Figure size 1080x1080 with 7 Axes>"
      ]
     },
     "metadata": {
      "needs_background": "light"
     },
     "output_type": "display_data"
    }
   ],
   "source": [
    "fig = plt.figure(figsize=(15, 15))\n",
    "\n",
    "rows = 3\n",
    "for i, img in enumerate(final_good_imgs, start=1):\n",
    "    fig.add_subplot(rows, np.ceil(len(final_good_imgs)/rows), i)\n",
    "    plt.imshow(img)\n",
    "plt.show()"
   ]
  },
  {
   "cell_type": "code",
   "execution_count": 68,
   "metadata": {
    "hidden": true
   },
   "outputs": [
    {
     "data": {
      "image/png": "[encoded data removed]",
      "text/plain": [
       "<Figure size 1080x1080 with 7 Axes>"
      ]
     },
     "metadata": {
      "needs_background": "light"
     },
     "output_type": "display_data"
    }
   ],
   "source": [
    "fig = plt.figure(figsize=(15, 15))\n",
    "\n",
    "rows = 3\n",
    "for i, img in enumerate(final_bad_imgs, start=1):\n",
    "    fig.add_subplot(rows, np.ceil(len(final_bad_imgs)/rows), i)\n",
    "    plt.imshow(img)\n",
    "plt.show()"
   ]
  },
  {
   "cell_type": "markdown",
   "metadata": {
    "hidden": true
   },
   "source": [
    "Ok, obviously, async nature of Gym is confusing the training. Let's leave it for now and check other aspects of our training process."
   ]
  },
  {
   "cell_type": "markdown",
   "metadata": {
    "heading_collapsed": true
   },
   "source": [
    "## Overfit to subset of samples\n",
    "\n",
    "Normal approach to debug ML/DL methods is to try to overfit to some known set of samples. This allows us to inspect those samples and check values predicted by the model. It might sound trivial, but I've personally wasted several days debugging proper code, the only issue with which was lack of `loss.backward()`. \n",
    "\n",
    "Overall plan is the following:\n",
    "* reuse our class `TrajectoryTracking` to have access to trajectories,\n",
    "* play 10-20 episodes gathering data\n",
    "* take several final steps of successfull episodes (with positive reward) and several final steps from failed episodes\n",
    "* train on this data for several epoches\n",
    "* check training dynamics and values returned by the model\n",
    "* think\n",
    "\n",
    "If you feel yourself brave enough, you can try to implement this yourself without peeking into the next section."
   ]
  },
  {
   "cell_type": "code",
   "execution_count": 16,
   "metadata": {
    "hidden": true
   },
   "outputs": [
    {
     "name": "stderr",
     "output_type": "stream",
     "text": [
      "[2019-07-02 16:03:29,270] Making new env: wob.mini.ClickDialog-v0\n",
      "[2019-07-02 16:03:29,272] Using SoftmaxClickMouse with action_region=(10, 125, 170, 285), noclick_regions=[]\n",
      "[2019-07-02 16:03:29,273] SoftmaxClickMouse noclick regions removed 0 of 256 actions\n",
      "[2019-07-02 16:03:29,274] Using the golang VNC implementation\n",
      "[2019-07-02 16:03:29,274] Using VNCSession arguments: {'encoding': 'tight', 'compress_level': 0, 'fine_quality_level': 100, 'subsample_level': 0, 'start_timeout': 7}. (Customize by running \"env.configure(vnc_kwargs={...})\"\n",
      "[2019-07-02 16:03:29,301] [0] Connecting to environment: vnc://localhost:5900 password=openai. If desired, you can manually connect a VNC viewer, such as TurboVNC. Most environments provide a convenient in-browser VNC client: http://localhost:15900/viewer/?password=openai\n"
     ]
    },
    {
     "name": "stdout",
     "output_type": "stream",
     "text": [
      "Remotes URL: vnc://localhost:5900+15900\n"
     ]
    },
    {
     "name": "stderr",
     "output_type": "stream",
     "text": [
      "[2019-07-02 16:03:45,676] [0:localhost:5900] Sending reset for env_id=wob.mini.ClickDialog-v0 fps=60 episode_id=0\n",
      "[2019-07-02 16:03:45,705] [0:localhost:5900] Initial reset complete: episode_id=961\n"
     ]
    }
   ],
   "source": [
    "def wrapper_func(env):\n",
    "    env = MiniWoBCropper(env)\n",
    "    env = SoftmaxClickMouse(env)\n",
    "    env = TrajectoryTracking(env, size=10)\n",
    "    return env\n",
    "\n",
    "env = make_env(wrapper_func = wrapper_func, fps=5)\n",
    "join_env(env);"
   ]
  },
  {
   "cell_type": "code",
   "execution_count": 17,
   "metadata": {
    "hidden": true
   },
   "outputs": [],
   "source": [
    "net = Model(env.observation_space.shape, env.action_space.n).to(DEVICE)\n",
    "\n",
    "parent_selector = ptan.actions.ArgmaxActionSelector()\n",
    "action_selector = ptan.actions.EpsilonGreedyActionSelector(epsilon=1, selector=parent_selector) \n",
    "agent = ptan.agent.DQNAgent(net, action_selector, device=DEVICE)\n",
    "exp_source = ptan.experience.ExperienceSourceFirstLast(env, agent, gamma=GAMMA, vectorized=True)\n",
    "\n",
    "buffer = ptan.experience.ExperienceReplayBuffer(exp_source, REPLAY_SIZE)"
   ]
  },
  {
   "cell_type": "code",
   "execution_count": 18,
   "metadata": {
    "hidden": true
   },
   "outputs": [
    {
     "name": "stderr",
     "output_type": "stream",
     "text": [
      "[2019-07-02 16:03:50,158] [0:localhost:5900] Sending reset for env_id=wob.mini.ClickDialog-v0 fps=60 episode_id=0\n"
     ]
    },
    {
     "name": "stdout",
     "output_type": "stream",
     "text": [
      "Episode done with 15 steps and -1.000 reward\n",
      "Episode done with 53 steps and -1.000 reward\n",
      "Episode done with 22 steps and 0.617 reward\n",
      "Episode done with 52 steps and -1.000 reward\n",
      "Episode done with 16 steps and 0.741 reward\n"
     ]
    }
   ],
   "source": [
    "# wait for given amount of trajectories of both kind\n",
    "COUNT_REQUIRED = 2\n",
    "positive_traj = []\n",
    "negative_traj = []\n",
    "\n",
    "while len(positive_traj) < COUNT_REQUIRED or len(negative_traj) < COUNT_REQUIRED:\n",
    "    buffer.populate(1)\n",
    "    for rw, st in exp_source.pop_rewards_steps():\n",
    "        print(\"Episode done with %d steps and %.3f reward\" % (st, rw))\n",
    "        if rw > 0.2:\n",
    "            positive_traj.append(env.trajectories[-1])\n",
    "        elif rw < -0.2 and len(negative_traj) <= COUNT_REQUIRED:\n",
    "            negative_traj.append(env.trajectories[-1])"
   ]
  },
  {
   "cell_type": "markdown",
   "metadata": {
    "hidden": true
   },
   "source": [
    "It might take some time before you get two episodes with positive reward.\n",
    "\n",
    "Btw, sparcity of good examples might be the reason of bad convergence. One of the way of dealing with that could be increase of `fps` option on Env creation, just to have more clicks done."
   ]
  },
  {
   "cell_type": "code",
   "execution_count": 19,
   "metadata": {
    "hidden": true
   },
   "outputs": [
    {
     "name": "stdout",
     "output_type": "stream",
     "text": [
      "84 0.0\n",
      "38 0.0\n",
      "237 0.0\n",
      "84 0.0\n",
      "159 0.0\n",
      "203 0.0\n",
      "228 0.0\n",
      "79 0.0\n",
      "63 0.0\n",
      "39 0.0\n",
      "246 0.0\n",
      "87 0.0\n",
      "126 0.0\n",
      "10 0.0\n",
      "133 0.0\n",
      "104 0.0\n",
      "48 0.0\n",
      "158 0.0\n",
      "208 0.0\n",
      "151 0.0\n",
      "212 0.0\n",
      "195 0.6171\n"
     ]
    }
   ],
   "source": [
    "for s in positive_traj[0]:\n",
    "    print(s[1], s[2])"
   ]
  },
  {
   "cell_type": "code",
   "execution_count": 23,
   "metadata": {
    "hidden": true
   },
   "outputs": [
    {
     "data": {
      "image/png": "[encoded data removed]",
      "text/plain": [
       "<PIL.Image.Image image mode=RGB size=160x210 at 0x7FE65C1EEC18>"
      ]
     },
     "execution_count": 23,
     "metadata": {},
     "output_type": "execute_result"
    }
   ],
   "source": [
    "img = get_obs_img(positive_traj[0][-1][0], action=positive_traj[0][-1][1])\n",
    "img"
   ]
  },
  {
   "cell_type": "code",
   "execution_count": 26,
   "metadata": {
    "hidden": true
   },
   "outputs": [
    {
     "data": {
      "image/png": "[encoded data removed]",
      "text/plain": [
       "<PIL.Image.Image image mode=RGB size=160x210 at 0x7FE65C1FA5F8>"
      ]
     },
     "execution_count": 26,
     "metadata": {},
     "output_type": "execute_result"
    }
   ],
   "source": [
    "img = get_obs_img(positive_traj[1][-1][0], action=positive_traj[1][-1][1])\n",
    "img"
   ]
  },
  {
   "cell_type": "code",
   "execution_count": 27,
   "metadata": {
    "hidden": true
   },
   "outputs": [
    {
     "data": {
      "image/png": "[encoded data removed]",
      "text/plain": [
       "<PIL.Image.Image image mode=RGB size=160x210 at 0x7FE65C1FA8D0>"
      ]
     },
     "execution_count": 27,
     "metadata": {},
     "output_type": "execute_result"
    }
   ],
   "source": [
    "img = get_obs_img(positive_traj[1][-1][0], action=positive_traj[1][-2][1])\n",
    "img"
   ]
  },
  {
   "cell_type": "code",
   "execution_count": 29,
   "metadata": {
    "hidden": true
   },
   "outputs": [
    {
     "data": {
      "text/plain": [
       "2"
      ]
     },
     "execution_count": 29,
     "metadata": {},
     "output_type": "execute_result"
    }
   ],
   "source": [
    "training_positive = []\n",
    "\n",
    "# find this sample in our replay buffer\n",
    "for traj in positive_traj:\n",
    "    for sample in buffer:\n",
    "        if (sample.state == traj[-1][0]).all() and sample.action == traj[-1][1] and sample.last_state is None:\n",
    "            training_positive.append(sample)\n",
    "len(training_positive)"
   ]
  },
  {
   "cell_type": "code",
   "execution_count": 30,
   "metadata": {
    "hidden": true
   },
   "outputs": [
    {
     "data": {
      "text/plain": [
       "2"
      ]
     },
     "execution_count": 30,
     "metadata": {},
     "output_type": "execute_result"
    }
   ],
   "source": [
    "training_negative = []\n",
    "\n",
    "for traj in negative_traj:\n",
    "    for sample in buffer:\n",
    "        if (sample.state == traj[-1][0]).all() and sample.action == traj[-1][1] and sample.last_state is None:\n",
    "            training_negative.append(sample)\n",
    "len(training_negative)            "
   ]
  },
  {
   "cell_type": "code",
   "execution_count": 31,
   "metadata": {
    "hidden": true
   },
   "outputs": [],
   "source": [
    "batch = list(training_positive)\n",
    "batch.extend(training_negative)"
   ]
  },
  {
   "cell_type": "code",
   "execution_count": 32,
   "metadata": {
    "hidden": true
   },
   "outputs": [],
   "source": [
    "optimizer = optim.Adam(net.parameters(), LR)"
   ]
  },
  {
   "cell_type": "code",
   "execution_count": 33,
   "metadata": {
    "hidden": true
   },
   "outputs": [],
   "source": [
    "# training the net\n",
    "losses = []\n",
    "q_vals = []\n",
    "\n",
    "for _ in range(100):\n",
    "    state_v, actions_v, ref_q_v = unpack_batch(batch, net, gamma=GAMMA, device=DEVICE)\n",
    "    optimizer.zero_grad()\n",
    "    q_v = net(state_v)\n",
    "    q_v = q_v.gather(1, actions_v.unsqueeze(-1)).squeeze(-1)\n",
    "    loss_v = F.mse_loss(q_v, ref_q_v)\n",
    "    loss_v.backward()\n",
    "    optimizer.step()\n",
    "    losses.append(loss_v.item())\n",
    "    q_vals.append(q_v.cpu().detach().numpy())"
   ]
  },
  {
   "cell_type": "code",
   "execution_count": 34,
   "metadata": {
    "hidden": true
   },
   "outputs": [
    {
     "data": {
      "text/plain": [
       "[0.7020667195320129,\n",
       " 0.5762248039245605,\n",
       " 0.29705360531806946,\n",
       " 0.006723565515130758,\n",
       " 0.6064431071281433,\n",
       " 0.06643851101398468,\n",
       " 0.024490099400281906,\n",
       " 0.13058587908744812,\n",
       " 0.2066664695739746,\n",
       " 0.23621362447738647]"
      ]
     },
     "execution_count": 34,
     "metadata": {},
     "output_type": "execute_result"
    }
   ],
   "source": [
    "losses[:10]"
   ]
  },
  {
   "cell_type": "code",
   "execution_count": 35,
   "metadata": {
    "hidden": true
   },
   "outputs": [
    {
     "data": {
      "image/png": "[encoded data removed]",
      "text/plain": [
       "<Figure size 432x288 with 1 Axes>"
      ]
     },
     "metadata": {
      "needs_background": "light"
     },
     "output_type": "display_data"
    }
   ],
   "source": [
    "plt.plot(losses);"
   ]
  },
  {
   "cell_type": "code",
   "execution_count": 36,
   "metadata": {
    "hidden": true
   },
   "outputs": [
    {
     "data": {
      "text/plain": [
       "tensor([ 0.6171,  0.7411, -1.0000, -1.0000], device='cuda:0')"
      ]
     },
     "execution_count": 36,
     "metadata": {},
     "output_type": "execute_result"
    }
   ],
   "source": [
    "ref_q_v"
   ]
  },
  {
   "cell_type": "code",
   "execution_count": 37,
   "metadata": {
    "hidden": true
   },
   "outputs": [
    {
     "data": {
      "image/png": "[encoded data removed]",
      "text/plain": [
       "<Figure size 432x288 with 1 Axes>"
      ]
     },
     "metadata": {
      "needs_background": "light"
     },
     "output_type": "display_data"
    }
   ],
   "source": [
    "a, b, c, d = zip(*q_vals)\n",
    "plt.plot(a)\n",
    "plt.plot(b)\n",
    "plt.plot(c)\n",
    "plt.plot(d);"
   ]
  },
  {
   "cell_type": "markdown",
   "metadata": {
    "hidden": true
   },
   "source": [
    "Looks OK"
   ]
  },
  {
   "cell_type": "markdown",
   "metadata": {},
   "source": [
    "# Fixing the weird samples\n",
    "\n",
    "Let's return to our finding of weird samples at the end of trajectories. It is obvious (from Bellman equation) that those samples are extremely important for convergence, as they form the \"basis\" of our Q-values. So, network need to converge to those end-of-episode values and then they will be used to learn more early steps (or find shorter paths to those final states).\n",
    "\n",
    "But our end-of-episodes samples are nasty -- we can click at proper place, but due to timeout get -1 reward on the next step. On the other hand, we can click properly in the beginning, but due to VNC delay, we'll get positive reward several steps later. And those steps will include completely random clicks. This situation also turns our environment into POMDP domain. Indeed, prior clicks are important for subsequent trajectory, but our agent has no idea about the clicks we've done. \n",
    "\n",
    "We can't fix asynchronous nature of things, but we can help our agent by cleaning up the mess a bit.\n",
    "\n",
    "As a very simple approach, we can allow the agent to do N clicks after the environment reset and then wait for the end of the episode. All MiniWoB environments lasts for 10 seconds, so, half of this time sounds reasonable.\n",
    "\n",
    "To fix the POMDP, we just need to remember previous clicks and pass them to the agent in observation. The simplest way of doing this will be to have a separate \"color plane\" in observations with filled grids we've already clicked.\n",
    "\n",
    "Below is outline of two wrappers we need to write."
   ]
  },
  {
   "cell_type": "markdown",
   "metadata": {
    "heading_collapsed": true
   },
   "source": [
    "## Time limit wrapper"
   ]
  },
  {
   "cell_type": "code",
   "execution_count": null,
   "metadata": {
    "hidden": true
   },
   "outputs": [],
   "source": [
    "class MiniWoBTimeBudget(vectorized.Wrapper):\n",
    "    \"\"\"\n",
    "    Limits the amount of time we can click.\n",
    "    \"\"\"\n",
    "    def __init__(self, env, time_budget: float = 5):\n",
    "        super(MiniWoBTimeBudget, self).__init__(env)\n",
    "        self.time_budget = time_budget\n",
    "        self.reset_ts = None\n",
    "\n",
    "    def reset(self):\n",
    "        self.reset_ts = time.time()\n",
    "        return self.env.reset()\n",
    "    \n",
    "    def step(self, action_n):\n",
    "        # TODO: implement me properly for N environments :)\n",
    "        obs_n, r_n, done_n, info_n = self.env.step(action_n)\n",
    "        # check the time bugdet. We we have time, just return the result, allowing the agent to click more,\n",
    "        # otherwise repeat the action (accumulating the reward for the rest of the trajectory)\n",
    "        # do not forget to reset self.reset_ts (as reset method is only called once)\n",
    "        raise NotImplementedError\n",
    "        return obs_n, r_n, done_n, info_n"
   ]
  },
  {
   "cell_type": "markdown",
   "metadata": {},
   "source": [
    "## Tests"
   ]
  },
  {
   "cell_type": "code",
   "execution_count": 43,
   "metadata": {},
   "outputs": [
    {
     "name": "stderr",
     "output_type": "stream",
     "text": [
      "[2019-07-02 16:38:25,340] Making new env: wob.mini.ClickDialog-v0\n",
      "[2019-07-02 16:38:25,342] Using SoftmaxClickMouse with action_region=(10, 125, 170, 285), noclick_regions=[]\n",
      "[2019-07-02 16:38:25,343] SoftmaxClickMouse noclick regions removed 0 of 256 actions\n",
      "[2019-07-02 16:38:25,344] Using the golang VNC implementation\n",
      "[2019-07-02 16:38:25,344] Using VNCSession arguments: {'encoding': 'tight', 'compress_level': 0, 'fine_quality_level': 100, 'subsample_level': 0, 'start_timeout': 7}. (Customize by running \"env.configure(vnc_kwargs={...})\"\n",
      "[2019-07-02 16:38:25,368] [0] Connecting to environment: vnc://localhost:5900 password=openai. If desired, you can manually connect a VNC viewer, such as TurboVNC. Most environments provide a convenient in-browser VNC client: http://localhost:15900/viewer/?password=openai\n"
     ]
    },
    {
     "name": "stdout",
     "output_type": "stream",
     "text": [
      "Remotes URL: vnc://localhost:5900+15900\n"
     ]
    },
    {
     "name": "stderr",
     "output_type": "stream",
     "text": [
      "[2019-07-02 16:38:41,750] [0:localhost:5900] Sending reset for env_id=wob.mini.ClickDialog-v0 fps=60 episode_id=0\n",
      "[2019-07-02 16:38:41,792] [0:localhost:5900] Initial reset complete: episode_id=1165\n"
     ]
    }
   ],
   "source": [
    "def wrapper_func(env):\n",
    "    env = MiniWoBCropper(env)\n",
    "    env = SoftmaxClickMouse(env)\n",
    "    env = MiniWoBTimeBudget(env)\n",
    "    return env\n",
    "\n",
    "env = make_env(wrapper_func = wrapper_func, fps=5)\n",
    "join_env(env);"
   ]
  },
  {
   "cell_type": "code",
   "execution_count": 44,
   "metadata": {},
   "outputs": [
    {
     "name": "stdout",
     "output_type": "stream",
     "text": [
      "Episode done, 5 left\n",
      "Episode done, 4 left\n",
      "Episode done, 3 left\n",
      "Episode done, 2 left\n",
      "Episode done, 1 left\n",
      "Episode done, 0 left\n"
     ]
    }
   ],
   "source": [
    "# FPS=5 should give us 25 frames in wrapped environment and 50 in unwrapped\n",
    "frames = 0\n",
    "episodes = 6\n",
    "while episodes > 0:\n",
    "    # clicking in top-left corner, we should get no reward from this action\n",
    "    _, _, is_done_n, _ = env.step([0])\n",
    "    # do not take into account first episode, it will be partial\n",
    "    if episodes < 6:\n",
    "        frames += 1\n",
    "    if is_done_n[0]:\n",
    "        episodes -= 1\n",
    "        print(\"Episode done, %d left\" % episodes)"
   ]
  },
  {
   "cell_type": "code",
   "execution_count": 47,
   "metadata": {},
   "outputs": [],
   "source": [
    "assert 20 < frames/5 < 30"
   ]
  },
  {
   "cell_type": "markdown",
   "metadata": {},
   "source": [
    "## Solution\n",
    "\n",
    "Spoiler alert!"
   ]
  },
  {
   "cell_type": "code",
   "execution_count": 55,
   "metadata": {},
   "outputs": [],
   "source": [
    "class MiniWoBTimeBudget(vectorized.Wrapper):\n",
    "    \"\"\"\n",
    "    Limits the amount of time we can click.\n",
    "    \"\"\"\n",
    "    def __init__(self, env, time_budget: float = 5):\n",
    "        super(MiniWoBTimeBudget, self).__init__(env)\n",
    "        self.time_budget = time_budget\n",
    "        self.reset_ts = None\n",
    "\n",
    "    def reset(self):\n",
    "        self.reset_ts = time.time()\n",
    "        return self.env.reset()\n",
    "    \n",
    "    def step(self, action_n):\n",
    "        # TODO: implement me properly for N environments :)\n",
    "        obs_n, r_n, done_n, info_n = self.env.step(action_n)\n",
    "        if time.time() - self.reset_ts < self.time_budget:\n",
    "            return obs_n, r_n, done_n, info_n\n",
    "        while not done_n[0]:\n",
    "            _, rr_n, done_n, info_n = self.env.step(action_n)\n",
    "            r_n[0] += rr_n[0]\n",
    "        self.reset_ts = time.time()\n",
    "        return obs_n, r_n, done_n, info_n"
   ]
  },
  {
   "cell_type": "markdown",
   "metadata": {
    "heading_collapsed": true
   },
   "source": [
    "## Track clicks wrapper"
   ]
  },
  {
   "cell_type": "code",
   "execution_count": 35,
   "metadata": {
    "hidden": true
   },
   "outputs": [],
   "source": [
    "class MiniWoBTrackClicks(vectorized.Wrapper):\n",
    "    \"\"\"\n",
    "    Track the clicks\n",
    "    \"\"\"\n",
    "    def __init__(self, env):\n",
    "        super(MiniWoBTrackClicks, self).__init__(env)\n",
    "        s = env.observation_space.shape\n",
    "        self.clicks_buf = np.zeros(s[1:], dtype=np.uint8)\n",
    "        self.observation_space = gym.spaces.Box(low=0, high=255, shape=(s[0]+1, s[1], s[2]))\n",
    "\n",
    "    def reset(self):\n",
    "        self.clicks_buf[:] = 0\n",
    "        return self.env.reset()\n",
    "    \n",
    "    def step(self, action_n):\n",
    "        obs_n, r_n, done_n, info_n = self.env.step(action_n)\n",
    "        if obs_n[0] is None:\n",
    "            return obs_n, r_n, done_n, info_n\n",
    "\n",
    "        # track the click\n",
    "        # append the color plane to observation\n",
    "        # if episode is done, reset the click buffer\n",
    "        raise NotImplementedError\n",
    "        return obs_n, r_n, done_n, info_n"
   ]
  },
  {
   "cell_type": "markdown",
   "metadata": {
    "heading_collapsed": true
   },
   "source": [
    "## Tests"
   ]
  },
  {
   "cell_type": "code",
   "execution_count": 115,
   "metadata": {
    "hidden": true
   },
   "outputs": [
    {
     "name": "stderr",
     "output_type": "stream",
     "text": [
      "[2019-07-02 17:11:26,599] Making new env: wob.mini.ClickDialog-v0\n",
      "/home/shmuma/anaconda3/envs/miniwob/lib/python3.6/site-packages/gym/envs/registration.py:17: PkgResourcesDeprecationWarning: Parameters to load are deprecated.  Call .resolve and .require separately.\n",
      "  result = entry_point.load(False)\n",
      "[2019-07-02 17:11:26,602] Using SoftmaxClickMouse with action_region=(10, 125, 170, 285), noclick_regions=[]\n",
      "[2019-07-02 17:11:26,602] SoftmaxClickMouse noclick regions removed 0 of 256 actions\n",
      "[2019-07-02 17:11:26,604] Using the golang VNC implementation\n",
      "[2019-07-02 17:11:26,605] Using VNCSession arguments: {'encoding': 'tight', 'compress_level': 0, 'fine_quality_level': 100, 'subsample_level': 0, 'start_timeout': 7}. (Customize by running \"env.configure(vnc_kwargs={...})\"\n",
      "[2019-07-02 17:11:26,629] [0] Connecting to environment: vnc://localhost:5900 password=openai. If desired, you can manually connect a VNC viewer, such as TurboVNC. Most environments provide a convenient in-browser VNC client: http://localhost:15900/viewer/?password=openai\n"
     ]
    },
    {
     "name": "stdout",
     "output_type": "stream",
     "text": [
      "Remotes URL: vnc://localhost:5900+15900\n"
     ]
    },
    {
     "name": "stderr",
     "output_type": "stream",
     "text": [
      "[2019-07-02 17:11:43,117] [0:localhost:5900] Sending reset for env_id=wob.mini.ClickDialog-v0 fps=60 episode_id=0\n",
      "[2019-07-02 17:11:43,139] [0:localhost:5900] Initial reset complete: episode_id=1359\n"
     ]
    }
   ],
   "source": [
    "def wrapper_func(env):\n",
    "    env = MiniWoBCropper(env)\n",
    "    env = SoftmaxClickMouse(env)\n",
    "    env = MiniWoBTrackClicks(env)\n",
    "    return env\n",
    "\n",
    "env = make_env(wrapper_func = wrapper_func, fps=5)\n",
    "obs_n = join_env(env);"
   ]
  },
  {
   "cell_type": "code",
   "execution_count": 116,
   "metadata": {
    "hidden": true
   },
   "outputs": [],
   "source": [
    "assert obs_n[0].shape == (4, 210, 160)"
   ]
  },
  {
   "cell_type": "code",
   "execution_count": 117,
   "metadata": {
    "hidden": true
   },
   "outputs": [
    {
     "name": "stderr",
     "output_type": "stream",
     "text": [
      "[2019-07-02 17:11:47,991] Throttle fell behind by 4.53s; lost 22.64 frames\n"
     ]
    }
   ],
   "source": [
    "# wait for fresh observation\n",
    "while True:\n",
    "    _, _, is_done_n, _ = env.step([0])\n",
    "    if is_done_n[0]:\n",
    "        break\n",
    "o0, _, _, _ = env.step([0])\n",
    "o255, _, _, _ = env.step([255])\n",
    "o15, _, _, _ = env.step([15])"
   ]
  },
  {
   "cell_type": "code",
   "execution_count": 127,
   "metadata": {
    "hidden": true
   },
   "outputs": [],
   "source": [
    "assert (o0[0][3,:,:] == 255).sum() == 100\n",
    "assert (o255[0][3,:,:] == 255).sum() == 200\n",
    "assert (o15[0][3,:,:] == 255).sum() == 300"
   ]
  },
  {
   "cell_type": "code",
   "execution_count": 131,
   "metadata": {
    "hidden": true
   },
   "outputs": [],
   "source": [
    "nz0 = o0[0][3,:,:].nonzero()\n",
    "assert (nz0[0] == [50, 50, 50, 50, 50, 50, 50, 50, 50, 50, 51, 51, 51, 51, 51, 51, 51,\n",
    "        51, 51, 51, 52, 52, 52, 52, 52, 52, 52, 52, 52, 52, 53, 53, 53, 53,\n",
    "        53, 53, 53, 53, 53, 53, 54, 54, 54, 54, 54, 54, 54, 54, 54, 54, 55,\n",
    "        55, 55, 55, 55, 55, 55, 55, 55, 55, 56, 56, 56, 56, 56, 56, 56, 56,\n",
    "        56, 56, 57, 57, 57, 57, 57, 57, 57, 57, 57, 57, 58, 58, 58, 58, 58,\n",
    "        58, 58, 58, 58, 58, 59, 59, 59, 59, 59, 59, 59, 59, 59, 59]).all()\n",
    "assert (nz0[1] == [0, 1, 2, 3, 4, 5, 6, 7, 8, 9, 0, 1, 2, 3, 4, 5, 6, 7, 8, 9, 0, 1,\n",
    "       2, 3, 4, 5, 6, 7, 8, 9, 0, 1, 2, 3, 4, 5, 6, 7, 8, 9, 0, 1, 2, 3,\n",
    "       4, 5, 6, 7, 8, 9, 0, 1, 2, 3, 4, 5, 6, 7, 8, 9, 0, 1, 2, 3, 4, 5,\n",
    "       6, 7, 8, 9, 0, 1, 2, 3, 4, 5, 6, 7, 8, 9, 0, 1, 2, 3, 4, 5, 6, 7,\n",
    "       8, 9, 0, 1, 2, 3, 4, 5, 6, 7, 8, 9]).all()"
   ]
  },
  {
   "cell_type": "code",
   "execution_count": 136,
   "metadata": {
    "hidden": true
   },
   "outputs": [],
   "source": [
    "assert (o15[0][3,200:210,0:10] == 255).all()"
   ]
  },
  {
   "cell_type": "markdown",
   "metadata": {
    "heading_collapsed": true
   },
   "source": [
    "## Solution"
   ]
  },
  {
   "cell_type": "code",
   "execution_count": 54,
   "metadata": {
    "hidden": true
   },
   "outputs": [],
   "source": [
    "class MiniWoBTrackClicks(vectorized.Wrapper):\n",
    "    \"\"\"\n",
    "    Track the clicks\n",
    "    \"\"\"\n",
    "    def __init__(self, env):\n",
    "        super(MiniWoBTrackClicks, self).__init__(env)\n",
    "        s = env.observation_space.shape\n",
    "        self.clicks_buf = np.zeros(s[1:], dtype=np.uint8)\n",
    "        self.observation_space = gym.spaces.Box(low=0, high=255, shape=(s[0]+1, s[1], s[2]))\n",
    "\n",
    "    def reset(self):\n",
    "        self.clicks_buf[:] = 0\n",
    "        return self.env.reset()\n",
    "    \n",
    "    def step(self, action_n):\n",
    "        # TODO: implement me properly for N environments :)\n",
    "        obs_n, r_n, done_n, info_n = self.env.step(action_n)\n",
    "        if obs_n[0] is None:\n",
    "            return obs_n, r_n, done_n, info_n\n",
    "\n",
    "        # track the click\n",
    "        x = action_n[0] // 16\n",
    "        y = action_n[0] % 16 + 5    # +5 is needed to offset click region down 50 pixels\n",
    "        self.clicks_buf[y*10:(y+1)*10, x*10:(x+1)*10] = 255\n",
    "        \n",
    "        obs_n[0] = np.vstack((obs_n[0], [self.clicks_buf]))\n",
    "        if done_n[0]:\n",
    "            self.clicks_buf[:] = 0\n",
    "        return obs_n, r_n, done_n, info_n"
   ]
  },
  {
   "cell_type": "markdown",
   "metadata": {
    "heading_collapsed": true
   },
   "source": [
    "# Test of our fix"
   ]
  },
  {
   "cell_type": "code",
   "execution_count": 13,
   "metadata": {
    "hidden": true
   },
   "outputs": [],
   "source": [
    "GAMMA = 0.9\n",
    "REPLAY_SIZE = 10000\n",
    "MIN_REPLAY = 100\n",
    "TGT_SYNC = 100\n",
    "BATCH_SIZE = 16\n",
    "LR = 1e-3\n",
    "DEVICE = \"cuda\"  \n",
    "#DEVICE = \"cpu\"\n",
    "\n",
    "INITIAL_EPSILON = 1.0\n",
    "FINAL_EPSILON = 0.2\n",
    "STEPS_EPSILON = 1000"
   ]
  },
  {
   "cell_type": "code",
   "execution_count": 14,
   "metadata": {
    "hidden": true
   },
   "outputs": [
    {
     "name": "stderr",
     "output_type": "stream",
     "text": [
      "[2019-07-07 19:17:48,257] Making new env: wob.mini.ClickDialog-v0\n",
      "/home/shmuma/anaconda3/envs/miniwob/lib/python3.6/site-packages/gym/envs/registration.py:17: PkgResourcesDeprecationWarning: Parameters to load are deprecated.  Call .resolve and .require separately.\n",
      "  result = entry_point.load(False)\n",
      "[2019-07-07 19:17:48,510] Using SoftmaxClickMouse with action_region=(10, 125, 170, 285), noclick_regions=[]\n",
      "[2019-07-07 19:17:48,511] SoftmaxClickMouse noclick regions removed 0 of 256 actions\n",
      "[2019-07-07 19:17:48,513] Writing logs to file: /tmp/universe-4182.log\n",
      "[2019-07-07 19:17:48,517] Using the golang VNC implementation\n",
      "[2019-07-07 19:17:48,518] Using VNCSession arguments: {'encoding': 'tight', 'compress_level': 0, 'fine_quality_level': 100, 'subsample_level': 0, 'start_timeout': 7}. (Customize by running \"env.configure(vnc_kwargs={...})\"\n",
      "[2019-07-07 19:17:48,592] [0] Connecting to environment: vnc://localhost:5900 password=openai. If desired, you can manually connect a VNC viewer, such as TurboVNC. Most environments provide a convenient in-browser VNC client: http://localhost:15900/viewer/?password=openai\n"
     ]
    },
    {
     "name": "stdout",
     "output_type": "stream",
     "text": [
      "Remotes URL: vnc://localhost:5900+15900\n"
     ]
    },
    {
     "name": "stderr",
     "output_type": "stream",
     "text": [
      "[2019-07-07 19:18:04,988] [0:localhost:5900] Sending reset for env_id=wob.mini.ClickDialog-v0 fps=60 episode_id=0\n",
      "[2019-07-07 19:18:05,251] [0:localhost:5900] Initial reset complete: episode_id=54\n"
     ]
    }
   ],
   "source": [
    "def wrapper_func(env):\n",
    "    env = MiniWoBCropper(env)\n",
    "    env = SoftmaxClickMouse(env)\n",
    "    env = MiniWoBTrackClicks(env)\n",
    "    env = MiniWoBTimeBudget(env)\n",
    "    return env\n",
    "\n",
    "env = make_env(wrapper_func = wrapper_func, fps=5)\n",
    "obs_n = join_env(env);"
   ]
  },
  {
   "cell_type": "code",
   "execution_count": 147,
   "metadata": {
    "hidden": true
   },
   "outputs": [],
   "source": [
    "net = Model(env.observation_space.shape, env.action_space.n).to(DEVICE)\n",
    "tgt_net = ptan.agent.TargetNet(net)\n",
    "\n",
    "parent_selector = ptan.actions.ArgmaxActionSelector()\n",
    "action_selector = ptan.actions.EpsilonGreedyActionSelector(epsilon=INITIAL_EPSILON, selector=parent_selector) \n",
    "agent = ptan.agent.DQNAgent(net, action_selector, device=DEVICE)\n",
    "exp_source = ptan.experience.ExperienceSourceFirstLast(env, agent, gamma=GAMMA, vectorized=True)\n",
    "\n",
    "buffer = ptan.experience.ExperienceReplayBuffer(exp_source, REPLAY_SIZE)\n",
    "optimizer = optim.Adam(net.parameters(), LR)"
   ]
  },
  {
   "cell_type": "code",
   "execution_count": 148,
   "metadata": {
    "hidden": true
   },
   "outputs": [
    {
     "name": "stderr",
     "output_type": "stream",
     "text": [
      "[2019-07-02 17:22:22,522] [0:localhost:5900] Sending reset for env_id=wob.mini.ClickDialog-v0 fps=60 episode_id=0\n"
     ]
    },
    {
     "name": "stdout",
     "output_type": "stream",
     "text": [
      "25: Done 1 episodes, last 10 means: reward=-1.000, steps=25.000, speed=2.31 steps/s, eps=1.00\n",
      "49: Done 2 episodes, last 10 means: reward=-0.503, steps=25.000, speed=2.18 steps/s, eps=1.00\n",
      "73: Done 3 episodes, last 10 means: reward=-0.669, steps=25.000, speed=2.30 steps/s, eps=1.00\n",
      "82: Done 4 episodes, last 10 means: reward=-0.285, steps=21.250, speed=4.50 steps/s, eps=1.00\n",
      "96: Done 5 episodes, last 10 means: reward=-0.428, steps=20.000, speed=1.34 steps/s, eps=1.00\n",
      "100: nets synced, mean loss for last 10 steps = 0.012\n",
      "106: Done 6 episodes, last 10 means: reward=-0.222, steps=18.500, speed=3.63 steps/s, eps=0.99\n",
      "115: Done 7 episodes, last 10 means: reward=-0.333, steps=17.286, speed=0.85 steps/s, eps=0.99\n",
      "134: Done 8 episodes, last 10 means: reward=-0.417, steps=17.625, speed=1.83 steps/s, eps=0.97\n",
      "151: Done 10 episodes, last 10 means: reward=-0.376, steps=16.000, speed=1.12 steps/s, eps=0.95\n",
      "171: Done 11 episodes, last 10 means: reward=-0.376, steps=15.600, speed=1.89 steps/s, eps=0.93\n",
      "175: Done 12 episodes, last 10 means: reward=-0.283, steps=13.600, speed=3.11 steps/s, eps=0.93\n",
      "189: Done 13 episodes, last 10 means: reward=-0.283, steps=12.600, speed=1.32 steps/s, eps=0.91\n",
      "193: Done 14 episodes, last 10 means: reward=-0.278, steps=12.100, speed=3.10 steps/s, eps=0.91\n",
      "200: nets synced, mean loss for last 10 steps = 0.013\n",
      "207: Done 15 episodes, last 10 means: reward=-0.278, steps=12.100, speed=1.34 steps/s, eps=0.89\n",
      "226: Done 16 episodes, last 10 means: reward=-0.459, steps=13.000, speed=1.80 steps/s, eps=0.88\n",
      "247: Done 17 episodes, last 10 means: reward=-0.459, steps=14.200, speed=2.00 steps/s, eps=0.85\n",
      "265: Done 18 episodes, last 10 means: reward=-0.459, steps=14.100, speed=1.70 steps/s, eps=0.84\n",
      "284: Done 19 episodes, last 10 means: reward=-0.616, steps=14.300, speed=1.80 steps/s, eps=0.82\n",
      "300: Done 20 episodes, last 10 means: reward=-0.460, steps=15.900, speed=2.96 steps/s, eps=0.80\n",
      "300: nets synced, mean loss for last 10 steps = 0.016\n",
      "318: Done 21 episodes, last 10 means: reward=-0.460, steps=15.700, speed=1.80 steps/s, eps=0.78\n",
      "335: Done 22 episodes, last 10 means: reward=-0.653, steps=17.000, speed=1.62 steps/s, eps=0.77\n",
      "353: Done 23 episodes, last 10 means: reward=-0.553, steps=17.400, speed=1.72 steps/s, eps=0.75\n",
      "373: Done 24 episodes, last 10 means: reward=-0.844, steps=19.000, speed=1.89 steps/s, eps=0.73\n",
      "392: Done 25 episodes, last 10 means: reward=-0.844, steps=19.500, speed=1.83 steps/s, eps=0.71\n",
      "400: nets synced, mean loss for last 10 steps = 0.017\n",
      "411: Done 26 episodes, last 10 means: reward=-0.844, steps=19.500, speed=1.78 steps/s, eps=0.69\n",
      "420: Done 27 episodes, last 10 means: reward=-0.666, steps=18.300, speed=3.51 steps/s, eps=0.68\n",
      "430: Done 28 episodes, last 10 means: reward=-0.666, steps=17.500, speed=0.94 steps/s, eps=0.67\n",
      "447: Done 29 episodes, last 10 means: reward=-0.666, steps=17.300, speed=1.63 steps/s, eps=0.65\n",
      "467: Done 30 episodes, last 10 means: reward=-0.822, steps=17.700, speed=1.92 steps/s, eps=0.63\n",
      "486: Done 31 episodes, last 10 means: reward=-0.722, steps=17.800, speed=1.82 steps/s, eps=0.61\n",
      "496: Done 32 episodes, last 10 means: reward=-0.545, steps=17.100, speed=3.46 steps/s, eps=0.60\n",
      "500: nets synced, mean loss for last 10 steps = 0.088\n",
      "504: Done 33 episodes, last 10 means: reward=-0.645, steps=16.100, speed=0.75 steps/s, eps=0.60\n",
      "523: Done 34 episodes, last 10 means: reward=-0.545, steps=16.000, speed=1.82 steps/s, eps=0.58\n",
      "543: Done 35 episodes, last 10 means: reward=-0.545, steps=16.100, speed=1.90 steps/s, eps=0.56\n",
      "560: Done 36 episodes, last 10 means: reward=-0.545, steps=15.900, speed=1.63 steps/s, eps=0.54\n",
      "578: Done 37 episodes, last 10 means: reward=-0.723, steps=16.800, speed=1.71 steps/s, eps=0.52\n",
      "596: Done 38 episodes, last 10 means: reward=-0.723, steps=17.600, speed=1.72 steps/s, eps=0.51\n",
      "600: nets synced, mean loss for last 10 steps = 0.122\n",
      "617: Done 39 episodes, last 10 means: reward=-0.723, steps=18.000, speed=2.00 steps/s, eps=0.48\n",
      "637: Done 40 episodes, last 10 means: reward=-0.723, steps=18.000, speed=1.87 steps/s, eps=0.46\n",
      "655: Done 41 episodes, last 10 means: reward=-0.823, steps=17.900, speed=1.73 steps/s, eps=0.45\n",
      "658: Done 42 episodes, last 10 means: reward=-0.804, steps=17.200, speed=2.71 steps/s, eps=0.44\n",
      "660: Done 43 episodes, last 10 means: reward=-0.608, steps=16.600, speed=2.48 steps/s, eps=0.44\n",
      "672: Done 44 episodes, last 10 means: reward=-0.608, steps=15.900, speed=1.14 steps/s, eps=0.43\n",
      "692: Done 45 episodes, last 10 means: reward=-0.608, steps=15.900, speed=1.91 steps/s, eps=0.41\n",
      "700: nets synced, mean loss for last 10 steps = 0.136\n",
      "704: Done 46 episodes, last 10 means: reward=-0.440, steps=15.400, speed=3.35 steps/s, eps=0.40\n",
      "709: Done 47 episodes, last 10 means: reward=-0.440, steps=14.100, speed=0.47 steps/s, eps=0.39\n",
      "728: Done 48 episodes, last 10 means: reward=-0.440, steps=14.200, speed=1.83 steps/s, eps=0.37\n",
      "743: Done 49 episodes, last 10 means: reward=-0.280, steps=13.600, speed=1.05 steps/s, eps=0.36\n",
      "744: Done 50 episodes, last 10 means: reward=-0.280, steps=11.700, speed=1.65 steps/s, eps=0.36\n",
      "755: Done 51 episodes, last 10 means: reward=-0.106, steps=11.000, speed=3.47 steps/s, eps=0.35\n",
      "762: Done 53 episodes, last 10 means: reward=-0.313, steps=11.200, speed=0.56 steps/s, eps=0.34\n",
      "785: Done 54 episodes, last 10 means: reward=-0.313, steps=12.300, speed=2.14 steps/s, eps=0.32\n",
      "800: nets synced, mean loss for last 10 steps = 0.237\n",
      "804: Done 55 episodes, last 10 means: reward=-0.313, steps=12.200, speed=1.82 steps/s, eps=0.30\n",
      "810: Done 56 episodes, last 10 means: reward=-0.295, steps=11.600, speed=3.05 steps/s, eps=0.29\n",
      "821: Done 57 episodes, last 10 means: reward=-0.295, steps=12.200, speed=1.05 steps/s, eps=0.28\n",
      "840: Done 58 episodes, last 10 means: reward=-0.295, steps=12.200, speed=1.80 steps/s, eps=0.26\n",
      "861: Done 59 episodes, last 10 means: reward=-0.307, steps=12.800, speed=3.72 steps/s, eps=0.24\n",
      "863: Done 60 episodes, last 10 means: reward=-0.110, steps=12.900, speed=2.49 steps/s, eps=0.24\n",
      "880: Done 61 episodes, last 10 means: reward=-0.284, steps=13.500, speed=1.62 steps/s, eps=0.22\n",
      "889: Done 62 episodes, last 10 means: reward=-0.288, steps=13.700, speed=3.63 steps/s, eps=0.21\n",
      "892: Done 63 episodes, last 10 means: reward=-0.092, steps=14.000, speed=2.95 steps/s, eps=0.21\n",
      "897: Done 64 episodes, last 10 means: reward=-0.092, steps=12.200, speed=0.48 steps/s, eps=0.20\n",
      "900: nets synced, mean loss for last 10 steps = 0.286\n",
      "916: Done 65 episodes, last 10 means: reward=0.061, steps=12.200, speed=3.57 steps/s, eps=0.20\n",
      "933: Done 66 episodes, last 10 means: reward=0.034, steps=13.300, speed=1.19 steps/s, eps=0.20\n",
      "934: Done 67 episodes, last 10 means: reward=0.034, steps=12.300, speed=1.65 steps/s, eps=0.20\n",
      "954: Done 68 episodes, last 10 means: reward=0.133, steps=12.400, speed=1.76 steps/s, eps=0.20\n",
      "971: Done 69 episodes, last 10 means: reward=-0.016, steps=12.000, speed=1.62 steps/s, eps=0.20\n",
      "983: Done 70 episodes, last 10 means: reward=-0.044, steps=13.000, speed=3.23 steps/s, eps=0.20\n",
      "988: Done 71 episodes, last 10 means: reward=-0.044, steps=11.800, speed=0.49 steps/s, eps=0.20\n",
      "1000: nets synced, mean loss for last 10 steps = 0.402\n",
      "1008: Done 72 episodes, last 10 means: reward=-0.124, steps=12.900, speed=1.90 steps/s, eps=0.20\n",
      "1026: Done 73 episodes, last 10 means: reward=-0.420, steps=14.400, speed=1.69 steps/s, eps=0.20\n",
      "1040: Done 74 episodes, last 10 means: reward=-0.420, steps=15.300, speed=1.34 steps/s, eps=0.20\n",
      "1059: Done 75 episodes, last 10 means: reward=-0.573, steps=15.300, speed=1.81 steps/s, eps=0.20\n",
      "1076: Done 76 episodes, last 10 means: reward=-0.732, steps=15.300, speed=1.62 steps/s, eps=0.20\n",
      "1079: Done 77 episodes, last 10 means: reward=-0.537, steps=15.500, speed=2.90 steps/s, eps=0.20\n",
      "1095: Done 78 episodes, last 10 means: reward=-0.636, steps=15.100, speed=1.54 steps/s, eps=0.20\n",
      "1100: nets synced, mean loss for last 10 steps = 0.658\n",
      "1113: Done 79 episodes, last 10 means: reward=-0.636, steps=15.200, speed=1.70 steps/s, eps=0.20\n",
      "1131: Done 80 episodes, last 10 means: reward=-0.805, steps=15.800, speed=1.73 steps/s, eps=0.20\n",
      "1150: Done 81 episodes, last 10 means: reward=-0.805, steps=17.200, speed=1.81 steps/s, eps=0.20\n",
      "1168: Done 82 episodes, last 10 means: reward=-0.905, steps=17.000, speed=1.68 steps/s, eps=0.20\n"
     ]
    },
    {
     "name": "stdout",
     "output_type": "stream",
     "text": [
      "1188: Done 83 episodes, last 10 means: reward=-0.805, steps=17.200, speed=1.95 steps/s, eps=0.20\n",
      "1200: nets synced, mean loss for last 10 steps = 2.230\n",
      "1208: Done 84 episodes, last 10 means: reward=-0.805, steps=17.800, speed=1.91 steps/s, eps=0.20\n"
     ]
    },
    {
     "ename": "KeyboardInterrupt",
     "evalue": "",
     "output_type": "error",
     "traceback": [
      "\u001b[0;31m---------------------------------------------------------------------------\u001b[0m",
      "\u001b[0;31mKeyboardInterrupt\u001b[0m                         Traceback (most recent call last)",
      "\u001b[0;32m<ipython-input-148-466a0c642d50>\u001b[0m in \u001b[0;36m<module>\u001b[0;34m\u001b[0m\n\u001b[1;32m      8\u001b[0m \u001b[0;32mwhile\u001b[0m \u001b[0;32mTrue\u001b[0m\u001b[0;34m:\u001b[0m\u001b[0;34m\u001b[0m\u001b[0;34m\u001b[0m\u001b[0m\n\u001b[1;32m      9\u001b[0m     \u001b[0msteps\u001b[0m \u001b[0;34m+=\u001b[0m \u001b[0;36m1\u001b[0m\u001b[0;34m\u001b[0m\u001b[0;34m\u001b[0m\u001b[0m\n\u001b[0;32m---> 10\u001b[0;31m     \u001b[0mbuffer\u001b[0m\u001b[0;34m.\u001b[0m\u001b[0mpopulate\u001b[0m\u001b[0;34m(\u001b[0m\u001b[0;36m1\u001b[0m\u001b[0;34m)\u001b[0m\u001b[0;34m\u001b[0m\u001b[0;34m\u001b[0m\u001b[0m\n\u001b[0m\u001b[1;32m     11\u001b[0m     \u001b[0mr\u001b[0m \u001b[0;34m=\u001b[0m \u001b[0mexp_source\u001b[0m\u001b[0;34m.\u001b[0m\u001b[0mpop_rewards_steps\u001b[0m\u001b[0;34m(\u001b[0m\u001b[0;34m)\u001b[0m\u001b[0;34m\u001b[0m\u001b[0;34m\u001b[0m\u001b[0m\n\u001b[1;32m     12\u001b[0m     \u001b[0;32mif\u001b[0m \u001b[0mr\u001b[0m\u001b[0;34m:\u001b[0m\u001b[0;34m\u001b[0m\u001b[0;34m\u001b[0m\u001b[0m\n",
      "\u001b[0;32m~/work/ptan/ptan/experience.py\u001b[0m in \u001b[0;36mpopulate\u001b[0;34m(self, samples)\u001b[0m\n\u001b[1;32m    366\u001b[0m         \"\"\"\n\u001b[1;32m    367\u001b[0m         \u001b[0;32mfor\u001b[0m \u001b[0m_\u001b[0m \u001b[0;32min\u001b[0m \u001b[0mrange\u001b[0m\u001b[0;34m(\u001b[0m\u001b[0msamples\u001b[0m\u001b[0;34m)\u001b[0m\u001b[0;34m:\u001b[0m\u001b[0;34m\u001b[0m\u001b[0;34m\u001b[0m\u001b[0m\n\u001b[0;32m--> 368\u001b[0;31m             \u001b[0mentry\u001b[0m \u001b[0;34m=\u001b[0m \u001b[0mnext\u001b[0m\u001b[0;34m(\u001b[0m\u001b[0mself\u001b[0m\u001b[0;34m.\u001b[0m\u001b[0mexperience_source_iter\u001b[0m\u001b[0;34m)\u001b[0m\u001b[0;34m\u001b[0m\u001b[0;34m\u001b[0m\u001b[0m\n\u001b[0m\u001b[1;32m    369\u001b[0m             \u001b[0mself\u001b[0m\u001b[0;34m.\u001b[0m\u001b[0m_add\u001b[0m\u001b[0;34m(\u001b[0m\u001b[0mentry\u001b[0m\u001b[0;34m)\u001b[0m\u001b[0;34m\u001b[0m\u001b[0;34m\u001b[0m\u001b[0m\n\u001b[1;32m    370\u001b[0m \u001b[0;34m\u001b[0m\u001b[0m\n",
      "\u001b[0;32m~/work/ptan/ptan/experience.py\u001b[0m in \u001b[0;36m__iter__\u001b[0;34m(self)\u001b[0m\n\u001b[1;32m    174\u001b[0m \u001b[0;34m\u001b[0m\u001b[0m\n\u001b[1;32m    175\u001b[0m     \u001b[0;32mdef\u001b[0m \u001b[0m__iter__\u001b[0m\u001b[0;34m(\u001b[0m\u001b[0mself\u001b[0m\u001b[0;34m)\u001b[0m\u001b[0;34m:\u001b[0m\u001b[0;34m\u001b[0m\u001b[0;34m\u001b[0m\u001b[0m\n\u001b[0;32m--> 176\u001b[0;31m         \u001b[0;32mfor\u001b[0m \u001b[0mexp\u001b[0m \u001b[0;32min\u001b[0m \u001b[0msuper\u001b[0m\u001b[0;34m(\u001b[0m\u001b[0mExperienceSourceFirstLast\u001b[0m\u001b[0;34m,\u001b[0m \u001b[0mself\u001b[0m\u001b[0;34m)\u001b[0m\u001b[0;34m.\u001b[0m\u001b[0m__iter__\u001b[0m\u001b[0;34m(\u001b[0m\u001b[0;34m)\u001b[0m\u001b[0;34m:\u001b[0m\u001b[0;34m\u001b[0m\u001b[0;34m\u001b[0m\u001b[0m\n\u001b[0m\u001b[1;32m    177\u001b[0m             \u001b[0;32mif\u001b[0m \u001b[0mexp\u001b[0m\u001b[0;34m[\u001b[0m\u001b[0;34m-\u001b[0m\u001b[0;36m1\u001b[0m\u001b[0;34m]\u001b[0m\u001b[0;34m.\u001b[0m\u001b[0mdone\u001b[0m \u001b[0;32mand\u001b[0m \u001b[0mlen\u001b[0m\u001b[0;34m(\u001b[0m\u001b[0mexp\u001b[0m\u001b[0;34m)\u001b[0m \u001b[0;34m<=\u001b[0m \u001b[0mself\u001b[0m\u001b[0;34m.\u001b[0m\u001b[0msteps\u001b[0m\u001b[0;34m:\u001b[0m\u001b[0;34m\u001b[0m\u001b[0;34m\u001b[0m\u001b[0m\n\u001b[1;32m    178\u001b[0m                 \u001b[0mlast_state\u001b[0m \u001b[0;34m=\u001b[0m \u001b[0;32mNone\u001b[0m\u001b[0;34m\u001b[0m\u001b[0;34m\u001b[0m\u001b[0m\n",
      "\u001b[0;32m~/work/ptan/ptan/experience.py\u001b[0m in \u001b[0;36m__iter__\u001b[0;34m(self)\u001b[0m\n\u001b[1;32m     90\u001b[0m             \u001b[0;32mfor\u001b[0m \u001b[0menv_idx\u001b[0m\u001b[0;34m,\u001b[0m \u001b[0;34m(\u001b[0m\u001b[0menv\u001b[0m\u001b[0;34m,\u001b[0m \u001b[0maction_n\u001b[0m\u001b[0;34m)\u001b[0m \u001b[0;32min\u001b[0m \u001b[0menumerate\u001b[0m\u001b[0;34m(\u001b[0m\u001b[0mzip\u001b[0m\u001b[0;34m(\u001b[0m\u001b[0mself\u001b[0m\u001b[0;34m.\u001b[0m\u001b[0mpool\u001b[0m\u001b[0;34m,\u001b[0m \u001b[0mgrouped_actions\u001b[0m\u001b[0;34m)\u001b[0m\u001b[0;34m)\u001b[0m\u001b[0;34m:\u001b[0m\u001b[0;34m\u001b[0m\u001b[0;34m\u001b[0m\u001b[0m\n\u001b[1;32m     91\u001b[0m                 \u001b[0;32mif\u001b[0m \u001b[0mself\u001b[0m\u001b[0;34m.\u001b[0m\u001b[0mvectorized\u001b[0m\u001b[0;34m:\u001b[0m\u001b[0;34m\u001b[0m\u001b[0;34m\u001b[0m\u001b[0m\n\u001b[0;32m---> 92\u001b[0;31m                     \u001b[0mnext_state_n\u001b[0m\u001b[0;34m,\u001b[0m \u001b[0mr_n\u001b[0m\u001b[0;34m,\u001b[0m \u001b[0mis_done_n\u001b[0m\u001b[0;34m,\u001b[0m \u001b[0m_\u001b[0m \u001b[0;34m=\u001b[0m \u001b[0menv\u001b[0m\u001b[0;34m.\u001b[0m\u001b[0mstep\u001b[0m\u001b[0;34m(\u001b[0m\u001b[0maction_n\u001b[0m\u001b[0;34m)\u001b[0m\u001b[0;34m\u001b[0m\u001b[0;34m\u001b[0m\u001b[0m\n\u001b[0m\u001b[1;32m     93\u001b[0m                 \u001b[0;32melse\u001b[0m\u001b[0;34m:\u001b[0m\u001b[0;34m\u001b[0m\u001b[0;34m\u001b[0m\u001b[0m\n\u001b[1;32m     94\u001b[0m                     \u001b[0mnext_state\u001b[0m\u001b[0;34m,\u001b[0m \u001b[0mr\u001b[0m\u001b[0;34m,\u001b[0m \u001b[0mis_done\u001b[0m\u001b[0;34m,\u001b[0m \u001b[0m_\u001b[0m \u001b[0;34m=\u001b[0m \u001b[0menv\u001b[0m\u001b[0;34m.\u001b[0m\u001b[0mstep\u001b[0m\u001b[0;34m(\u001b[0m\u001b[0maction_n\u001b[0m\u001b[0;34m[\u001b[0m\u001b[0;36m0\u001b[0m\u001b[0;34m]\u001b[0m\u001b[0;34m)\u001b[0m\u001b[0;34m\u001b[0m\u001b[0;34m\u001b[0m\u001b[0m\n",
      "\u001b[0;32m<ipython-input-38-2b5b5d0a61ab>\u001b[0m in \u001b[0;36mstep\u001b[0;34m(self, action_n)\u001b[0m\n\u001b[1;32m     14\u001b[0m     \u001b[0;32mdef\u001b[0m \u001b[0mstep\u001b[0m\u001b[0;34m(\u001b[0m\u001b[0mself\u001b[0m\u001b[0;34m,\u001b[0m \u001b[0maction_n\u001b[0m\u001b[0;34m)\u001b[0m\u001b[0;34m:\u001b[0m\u001b[0;34m\u001b[0m\u001b[0;34m\u001b[0m\u001b[0m\n\u001b[1;32m     15\u001b[0m         \u001b[0;31m# TODO: implement me properly for N environments :)\u001b[0m\u001b[0;34m\u001b[0m\u001b[0;34m\u001b[0m\u001b[0;34m\u001b[0m\u001b[0m\n\u001b[0;32m---> 16\u001b[0;31m         \u001b[0mobs_n\u001b[0m\u001b[0;34m,\u001b[0m \u001b[0mr_n\u001b[0m\u001b[0;34m,\u001b[0m \u001b[0mdone_n\u001b[0m\u001b[0;34m,\u001b[0m \u001b[0minfo_n\u001b[0m \u001b[0;34m=\u001b[0m \u001b[0mself\u001b[0m\u001b[0;34m.\u001b[0m\u001b[0menv\u001b[0m\u001b[0;34m.\u001b[0m\u001b[0mstep\u001b[0m\u001b[0;34m(\u001b[0m\u001b[0maction_n\u001b[0m\u001b[0;34m)\u001b[0m\u001b[0;34m\u001b[0m\u001b[0;34m\u001b[0m\u001b[0m\n\u001b[0m\u001b[1;32m     17\u001b[0m         \u001b[0;32mif\u001b[0m \u001b[0mtime\u001b[0m\u001b[0;34m.\u001b[0m\u001b[0mtime\u001b[0m\u001b[0;34m(\u001b[0m\u001b[0;34m)\u001b[0m \u001b[0;34m-\u001b[0m \u001b[0mself\u001b[0m\u001b[0;34m.\u001b[0m\u001b[0mreset_ts\u001b[0m \u001b[0;34m<\u001b[0m \u001b[0mself\u001b[0m\u001b[0;34m.\u001b[0m\u001b[0mtime_budget\u001b[0m\u001b[0;34m:\u001b[0m\u001b[0;34m\u001b[0m\u001b[0;34m\u001b[0m\u001b[0m\n\u001b[1;32m     18\u001b[0m             \u001b[0;32mreturn\u001b[0m \u001b[0mobs_n\u001b[0m\u001b[0;34m,\u001b[0m \u001b[0mr_n\u001b[0m\u001b[0;34m,\u001b[0m \u001b[0mdone_n\u001b[0m\u001b[0;34m,\u001b[0m \u001b[0minfo_n\u001b[0m\u001b[0;34m\u001b[0m\u001b[0;34m\u001b[0m\u001b[0m\n",
      "\u001b[0;32m<ipython-input-140-b1a3104cf4f7>\u001b[0m in \u001b[0;36mstep\u001b[0;34m(self, action_n)\u001b[0m\n\u001b[1;32m     15\u001b[0m     \u001b[0;32mdef\u001b[0m \u001b[0mstep\u001b[0m\u001b[0;34m(\u001b[0m\u001b[0mself\u001b[0m\u001b[0;34m,\u001b[0m \u001b[0maction_n\u001b[0m\u001b[0;34m)\u001b[0m\u001b[0;34m:\u001b[0m\u001b[0;34m\u001b[0m\u001b[0;34m\u001b[0m\u001b[0m\n\u001b[1;32m     16\u001b[0m         \u001b[0;31m# TODO: implement me properly for N environments :)\u001b[0m\u001b[0;34m\u001b[0m\u001b[0;34m\u001b[0m\u001b[0;34m\u001b[0m\u001b[0m\n\u001b[0;32m---> 17\u001b[0;31m         \u001b[0mobs_n\u001b[0m\u001b[0;34m,\u001b[0m \u001b[0mr_n\u001b[0m\u001b[0;34m,\u001b[0m \u001b[0mdone_n\u001b[0m\u001b[0;34m,\u001b[0m \u001b[0minfo_n\u001b[0m \u001b[0;34m=\u001b[0m \u001b[0mself\u001b[0m\u001b[0;34m.\u001b[0m\u001b[0menv\u001b[0m\u001b[0;34m.\u001b[0m\u001b[0mstep\u001b[0m\u001b[0;34m(\u001b[0m\u001b[0maction_n\u001b[0m\u001b[0;34m)\u001b[0m\u001b[0;34m\u001b[0m\u001b[0;34m\u001b[0m\u001b[0m\n\u001b[0m\u001b[1;32m     18\u001b[0m         \u001b[0;32mif\u001b[0m \u001b[0mobs_n\u001b[0m\u001b[0;34m[\u001b[0m\u001b[0;36m0\u001b[0m\u001b[0;34m]\u001b[0m \u001b[0;32mis\u001b[0m \u001b[0;32mNone\u001b[0m\u001b[0;34m:\u001b[0m\u001b[0;34m\u001b[0m\u001b[0;34m\u001b[0m\u001b[0m\n\u001b[1;32m     19\u001b[0m             \u001b[0;32mreturn\u001b[0m \u001b[0mobs_n\u001b[0m\u001b[0;34m,\u001b[0m \u001b[0mr_n\u001b[0m\u001b[0;34m,\u001b[0m \u001b[0mdone_n\u001b[0m\u001b[0;34m,\u001b[0m \u001b[0minfo_n\u001b[0m\u001b[0;34m\u001b[0m\u001b[0;34m\u001b[0m\u001b[0m\n",
      "\u001b[0;32m~/anaconda3/envs/miniwob/lib/python3.6/site-packages/gym/core.py\u001b[0m in \u001b[0;36mstep\u001b[0;34m(self, action)\u001b[0m\n\u001b[1;32m    108\u001b[0m             \u001b[0minfo\u001b[0m \u001b[0;34m(\u001b[0m\u001b[0mdict\u001b[0m\u001b[0;34m)\u001b[0m\u001b[0;34m:\u001b[0m \u001b[0mcontains\u001b[0m \u001b[0mauxiliary\u001b[0m \u001b[0mdiagnostic\u001b[0m \u001b[0minformation\u001b[0m \u001b[0;34m(\u001b[0m\u001b[0mhelpful\u001b[0m \u001b[0;32mfor\u001b[0m \u001b[0mdebugging\u001b[0m\u001b[0;34m,\u001b[0m \u001b[0;32mand\u001b[0m \u001b[0msometimes\u001b[0m \u001b[0mlearning\u001b[0m\u001b[0;34m)\u001b[0m\u001b[0;34m\u001b[0m\u001b[0;34m\u001b[0m\u001b[0m\n\u001b[1;32m    109\u001b[0m         \"\"\"\n\u001b[0;32m--> 110\u001b[0;31m         \u001b[0mobservation\u001b[0m\u001b[0;34m,\u001b[0m \u001b[0mreward\u001b[0m\u001b[0;34m,\u001b[0m \u001b[0mdone\u001b[0m\u001b[0;34m,\u001b[0m \u001b[0minfo\u001b[0m \u001b[0;34m=\u001b[0m \u001b[0mself\u001b[0m\u001b[0;34m.\u001b[0m\u001b[0m_step\u001b[0m\u001b[0;34m(\u001b[0m\u001b[0maction\u001b[0m\u001b[0;34m)\u001b[0m\u001b[0;34m\u001b[0m\u001b[0;34m\u001b[0m\u001b[0m\n\u001b[0m\u001b[1;32m    111\u001b[0m         \u001b[0;32mreturn\u001b[0m \u001b[0mobservation\u001b[0m\u001b[0;34m,\u001b[0m \u001b[0mreward\u001b[0m\u001b[0;34m,\u001b[0m \u001b[0mdone\u001b[0m\u001b[0;34m,\u001b[0m \u001b[0minfo\u001b[0m\u001b[0;34m\u001b[0m\u001b[0;34m\u001b[0m\u001b[0m\n\u001b[1;32m    112\u001b[0m \u001b[0;34m\u001b[0m\u001b[0m\n",
      "\u001b[0;32m~/anaconda3/envs/miniwob/lib/python3.6/site-packages/gym/core.py\u001b[0m in \u001b[0;36m_step\u001b[0;34m(self, action)\u001b[0m\n\u001b[1;32m    400\u001b[0m     \u001b[0;32mdef\u001b[0m \u001b[0m_step\u001b[0m\u001b[0;34m(\u001b[0m\u001b[0mself\u001b[0m\u001b[0;34m,\u001b[0m \u001b[0maction\u001b[0m\u001b[0;34m)\u001b[0m\u001b[0;34m:\u001b[0m\u001b[0;34m\u001b[0m\u001b[0;34m\u001b[0m\u001b[0m\n\u001b[1;32m    401\u001b[0m         \u001b[0maction\u001b[0m \u001b[0;34m=\u001b[0m \u001b[0mself\u001b[0m\u001b[0;34m.\u001b[0m\u001b[0maction\u001b[0m\u001b[0;34m(\u001b[0m\u001b[0maction\u001b[0m\u001b[0;34m)\u001b[0m\u001b[0;34m\u001b[0m\u001b[0;34m\u001b[0m\u001b[0m\n\u001b[0;32m--> 402\u001b[0;31m         \u001b[0;32mreturn\u001b[0m \u001b[0mself\u001b[0m\u001b[0;34m.\u001b[0m\u001b[0menv\u001b[0m\u001b[0;34m.\u001b[0m\u001b[0mstep\u001b[0m\u001b[0;34m(\u001b[0m\u001b[0maction\u001b[0m\u001b[0;34m)\u001b[0m\u001b[0;34m\u001b[0m\u001b[0;34m\u001b[0m\u001b[0m\n\u001b[0m\u001b[1;32m    403\u001b[0m \u001b[0;34m\u001b[0m\u001b[0m\n\u001b[1;32m    404\u001b[0m     \u001b[0;32mdef\u001b[0m \u001b[0maction\u001b[0m\u001b[0;34m(\u001b[0m\u001b[0mself\u001b[0m\u001b[0;34m,\u001b[0m \u001b[0maction\u001b[0m\u001b[0;34m)\u001b[0m\u001b[0;34m:\u001b[0m\u001b[0;34m\u001b[0m\u001b[0;34m\u001b[0m\u001b[0m\n",
      "\u001b[0;32m~/anaconda3/envs/miniwob/lib/python3.6/site-packages/gym/core.py\u001b[0m in \u001b[0;36mstep\u001b[0;34m(self, action)\u001b[0m\n\u001b[1;32m    108\u001b[0m             \u001b[0minfo\u001b[0m \u001b[0;34m(\u001b[0m\u001b[0mdict\u001b[0m\u001b[0;34m)\u001b[0m\u001b[0;34m:\u001b[0m \u001b[0mcontains\u001b[0m \u001b[0mauxiliary\u001b[0m \u001b[0mdiagnostic\u001b[0m \u001b[0minformation\u001b[0m \u001b[0;34m(\u001b[0m\u001b[0mhelpful\u001b[0m \u001b[0;32mfor\u001b[0m \u001b[0mdebugging\u001b[0m\u001b[0;34m,\u001b[0m \u001b[0;32mand\u001b[0m \u001b[0msometimes\u001b[0m \u001b[0mlearning\u001b[0m\u001b[0;34m)\u001b[0m\u001b[0;34m\u001b[0m\u001b[0;34m\u001b[0m\u001b[0m\n\u001b[1;32m    109\u001b[0m         \"\"\"\n\u001b[0;32m--> 110\u001b[0;31m         \u001b[0mobservation\u001b[0m\u001b[0;34m,\u001b[0m \u001b[0mreward\u001b[0m\u001b[0;34m,\u001b[0m \u001b[0mdone\u001b[0m\u001b[0;34m,\u001b[0m \u001b[0minfo\u001b[0m \u001b[0;34m=\u001b[0m \u001b[0mself\u001b[0m\u001b[0;34m.\u001b[0m\u001b[0m_step\u001b[0m\u001b[0;34m(\u001b[0m\u001b[0maction\u001b[0m\u001b[0;34m)\u001b[0m\u001b[0;34m\u001b[0m\u001b[0;34m\u001b[0m\u001b[0m\n\u001b[0m\u001b[1;32m    111\u001b[0m         \u001b[0;32mreturn\u001b[0m \u001b[0mobservation\u001b[0m\u001b[0;34m,\u001b[0m \u001b[0mreward\u001b[0m\u001b[0;34m,\u001b[0m \u001b[0mdone\u001b[0m\u001b[0;34m,\u001b[0m \u001b[0minfo\u001b[0m\u001b[0;34m\u001b[0m\u001b[0;34m\u001b[0m\u001b[0m\n\u001b[1;32m    112\u001b[0m \u001b[0;34m\u001b[0m\u001b[0m\n",
      "\u001b[0;32m~/anaconda3/envs/miniwob/lib/python3.6/site-packages/gym/core.py\u001b[0m in \u001b[0;36m_step\u001b[0;34m(self, action)\u001b[0m\n\u001b[1;32m    377\u001b[0m \u001b[0;34m\u001b[0m\u001b[0m\n\u001b[1;32m    378\u001b[0m     \u001b[0;32mdef\u001b[0m \u001b[0m_step\u001b[0m\u001b[0;34m(\u001b[0m\u001b[0mself\u001b[0m\u001b[0;34m,\u001b[0m \u001b[0maction\u001b[0m\u001b[0;34m)\u001b[0m\u001b[0;34m:\u001b[0m\u001b[0;34m\u001b[0m\u001b[0;34m\u001b[0m\u001b[0m\n\u001b[0;32m--> 379\u001b[0;31m         \u001b[0mobservation\u001b[0m\u001b[0;34m,\u001b[0m \u001b[0mreward\u001b[0m\u001b[0;34m,\u001b[0m \u001b[0mdone\u001b[0m\u001b[0;34m,\u001b[0m \u001b[0minfo\u001b[0m \u001b[0;34m=\u001b[0m \u001b[0mself\u001b[0m\u001b[0;34m.\u001b[0m\u001b[0menv\u001b[0m\u001b[0;34m.\u001b[0m\u001b[0mstep\u001b[0m\u001b[0;34m(\u001b[0m\u001b[0maction\u001b[0m\u001b[0;34m)\u001b[0m\u001b[0;34m\u001b[0m\u001b[0;34m\u001b[0m\u001b[0m\n\u001b[0m\u001b[1;32m    380\u001b[0m         \u001b[0;32mreturn\u001b[0m \u001b[0mself\u001b[0m\u001b[0;34m.\u001b[0m\u001b[0mobservation\u001b[0m\u001b[0;34m(\u001b[0m\u001b[0mobservation\u001b[0m\u001b[0;34m)\u001b[0m\u001b[0;34m,\u001b[0m \u001b[0mreward\u001b[0m\u001b[0;34m,\u001b[0m \u001b[0mdone\u001b[0m\u001b[0;34m,\u001b[0m \u001b[0minfo\u001b[0m\u001b[0;34m\u001b[0m\u001b[0;34m\u001b[0m\u001b[0m\n\u001b[1;32m    381\u001b[0m \u001b[0;34m\u001b[0m\u001b[0m\n",
      "\u001b[0;32m~/anaconda3/envs/miniwob/lib/python3.6/site-packages/gym/core.py\u001b[0m in \u001b[0;36mstep\u001b[0;34m(self, action)\u001b[0m\n\u001b[1;32m    108\u001b[0m             \u001b[0minfo\u001b[0m \u001b[0;34m(\u001b[0m\u001b[0mdict\u001b[0m\u001b[0;34m)\u001b[0m\u001b[0;34m:\u001b[0m \u001b[0mcontains\u001b[0m \u001b[0mauxiliary\u001b[0m \u001b[0mdiagnostic\u001b[0m \u001b[0minformation\u001b[0m \u001b[0;34m(\u001b[0m\u001b[0mhelpful\u001b[0m \u001b[0;32mfor\u001b[0m \u001b[0mdebugging\u001b[0m\u001b[0;34m,\u001b[0m \u001b[0;32mand\u001b[0m \u001b[0msometimes\u001b[0m \u001b[0mlearning\u001b[0m\u001b[0;34m)\u001b[0m\u001b[0;34m\u001b[0m\u001b[0;34m\u001b[0m\u001b[0m\n\u001b[1;32m    109\u001b[0m         \"\"\"\n\u001b[0;32m--> 110\u001b[0;31m         \u001b[0mobservation\u001b[0m\u001b[0;34m,\u001b[0m \u001b[0mreward\u001b[0m\u001b[0;34m,\u001b[0m \u001b[0mdone\u001b[0m\u001b[0;34m,\u001b[0m \u001b[0minfo\u001b[0m \u001b[0;34m=\u001b[0m \u001b[0mself\u001b[0m\u001b[0;34m.\u001b[0m\u001b[0m_step\u001b[0m\u001b[0;34m(\u001b[0m\u001b[0maction\u001b[0m\u001b[0;34m)\u001b[0m\u001b[0;34m\u001b[0m\u001b[0;34m\u001b[0m\u001b[0m\n\u001b[0m\u001b[1;32m    111\u001b[0m         \u001b[0;32mreturn\u001b[0m \u001b[0mobservation\u001b[0m\u001b[0;34m,\u001b[0m \u001b[0mreward\u001b[0m\u001b[0;34m,\u001b[0m \u001b[0mdone\u001b[0m\u001b[0;34m,\u001b[0m \u001b[0minfo\u001b[0m\u001b[0;34m\u001b[0m\u001b[0;34m\u001b[0m\u001b[0m\n\u001b[1;32m    112\u001b[0m \u001b[0;34m\u001b[0m\u001b[0m\n",
      "\u001b[0;32m~/anaconda3/envs/miniwob/lib/python3.6/site-packages/universe/wrappers/timer.py\u001b[0m in \u001b[0;36m_step\u001b[0;34m(self, action_n)\u001b[0m\n\u001b[1;32m     18\u001b[0m         \u001b[0mstart\u001b[0m \u001b[0;34m=\u001b[0m \u001b[0mtime\u001b[0m\u001b[0;34m.\u001b[0m\u001b[0mtime\u001b[0m\u001b[0;34m(\u001b[0m\u001b[0;34m)\u001b[0m\u001b[0;34m\u001b[0m\u001b[0;34m\u001b[0m\u001b[0m\n\u001b[1;32m     19\u001b[0m         \u001b[0;32mwith\u001b[0m \u001b[0mpyprofile\u001b[0m\u001b[0;34m.\u001b[0m\u001b[0mpush\u001b[0m\u001b[0;34m(\u001b[0m\u001b[0;34m'vnc_env.Timer.step'\u001b[0m\u001b[0;34m)\u001b[0m\u001b[0;34m:\u001b[0m\u001b[0;34m\u001b[0m\u001b[0;34m\u001b[0m\u001b[0m\n\u001b[0;32m---> 20\u001b[0;31m             \u001b[0mobservation_n\u001b[0m\u001b[0;34m,\u001b[0m \u001b[0mreward_n\u001b[0m\u001b[0;34m,\u001b[0m \u001b[0mdone_n\u001b[0m\u001b[0;34m,\u001b[0m \u001b[0minfo\u001b[0m \u001b[0;34m=\u001b[0m \u001b[0mself\u001b[0m\u001b[0;34m.\u001b[0m\u001b[0menv\u001b[0m\u001b[0;34m.\u001b[0m\u001b[0mstep\u001b[0m\u001b[0;34m(\u001b[0m\u001b[0maction_n\u001b[0m\u001b[0;34m)\u001b[0m\u001b[0;34m\u001b[0m\u001b[0;34m\u001b[0m\u001b[0m\n\u001b[0m\u001b[1;32m     21\u001b[0m \u001b[0;34m\u001b[0m\u001b[0m\n\u001b[1;32m     22\u001b[0m         \u001b[0;31m# Calculate how much time was spent actually doing work\u001b[0m\u001b[0;34m\u001b[0m\u001b[0;34m\u001b[0m\u001b[0;34m\u001b[0m\u001b[0m\n",
      "\u001b[0;32m~/anaconda3/envs/miniwob/lib/python3.6/site-packages/gym/core.py\u001b[0m in \u001b[0;36mstep\u001b[0;34m(self, action)\u001b[0m\n\u001b[1;32m    108\u001b[0m             \u001b[0minfo\u001b[0m \u001b[0;34m(\u001b[0m\u001b[0mdict\u001b[0m\u001b[0;34m)\u001b[0m\u001b[0;34m:\u001b[0m \u001b[0mcontains\u001b[0m \u001b[0mauxiliary\u001b[0m \u001b[0mdiagnostic\u001b[0m \u001b[0minformation\u001b[0m \u001b[0;34m(\u001b[0m\u001b[0mhelpful\u001b[0m \u001b[0;32mfor\u001b[0m \u001b[0mdebugging\u001b[0m\u001b[0;34m,\u001b[0m \u001b[0;32mand\u001b[0m \u001b[0msometimes\u001b[0m \u001b[0mlearning\u001b[0m\u001b[0;34m)\u001b[0m\u001b[0;34m\u001b[0m\u001b[0;34m\u001b[0m\u001b[0m\n\u001b[1;32m    109\u001b[0m         \"\"\"\n\u001b[0;32m--> 110\u001b[0;31m         \u001b[0mobservation\u001b[0m\u001b[0;34m,\u001b[0m \u001b[0mreward\u001b[0m\u001b[0;34m,\u001b[0m \u001b[0mdone\u001b[0m\u001b[0;34m,\u001b[0m \u001b[0minfo\u001b[0m \u001b[0;34m=\u001b[0m \u001b[0mself\u001b[0m\u001b[0;34m.\u001b[0m\u001b[0m_step\u001b[0m\u001b[0;34m(\u001b[0m\u001b[0maction\u001b[0m\u001b[0;34m)\u001b[0m\u001b[0;34m\u001b[0m\u001b[0;34m\u001b[0m\u001b[0m\n\u001b[0m\u001b[1;32m    111\u001b[0m         \u001b[0;32mreturn\u001b[0m \u001b[0mobservation\u001b[0m\u001b[0;34m,\u001b[0m \u001b[0mreward\u001b[0m\u001b[0;34m,\u001b[0m \u001b[0mdone\u001b[0m\u001b[0;34m,\u001b[0m \u001b[0minfo\u001b[0m\u001b[0;34m\u001b[0m\u001b[0;34m\u001b[0m\u001b[0m\n\u001b[1;32m    112\u001b[0m \u001b[0;34m\u001b[0m\u001b[0m\n",
      "\u001b[0;32m~/anaconda3/envs/miniwob/lib/python3.6/site-packages/universe/wrappers/render.py\u001b[0m in \u001b[0;36m_step\u001b[0;34m(self, action_n)\u001b[0m\n\u001b[1;32m     28\u001b[0m \u001b[0;34m\u001b[0m\u001b[0m\n\u001b[1;32m     29\u001b[0m     \u001b[0;32mdef\u001b[0m \u001b[0m_step\u001b[0m\u001b[0;34m(\u001b[0m\u001b[0mself\u001b[0m\u001b[0;34m,\u001b[0m \u001b[0maction_n\u001b[0m\u001b[0;34m)\u001b[0m\u001b[0;34m:\u001b[0m\u001b[0;34m\u001b[0m\u001b[0;34m\u001b[0m\u001b[0m\n\u001b[0;32m---> 30\u001b[0;31m         \u001b[0mobservation_n\u001b[0m\u001b[0;34m,\u001b[0m \u001b[0mreward_n\u001b[0m\u001b[0;34m,\u001b[0m \u001b[0mdone_n\u001b[0m\u001b[0;34m,\u001b[0m \u001b[0minfo_n\u001b[0m \u001b[0;34m=\u001b[0m \u001b[0mself\u001b[0m\u001b[0;34m.\u001b[0m\u001b[0menv\u001b[0m\u001b[0;34m.\u001b[0m\u001b[0mstep\u001b[0m\u001b[0;34m(\u001b[0m\u001b[0maction_n\u001b[0m\u001b[0;34m)\u001b[0m\u001b[0;34m\u001b[0m\u001b[0;34m\u001b[0m\u001b[0m\n\u001b[0m\u001b[1;32m     31\u001b[0m         \u001b[0mself\u001b[0m\u001b[0;34m.\u001b[0m\u001b[0m_observation\u001b[0m \u001b[0;34m=\u001b[0m \u001b[0mobservation_n\u001b[0m\u001b[0;34m[\u001b[0m\u001b[0;36m0\u001b[0m\u001b[0;34m]\u001b[0m\u001b[0;34m\u001b[0m\u001b[0;34m\u001b[0m\u001b[0m\n\u001b[1;32m     32\u001b[0m         \u001b[0;32mreturn\u001b[0m \u001b[0mobservation_n\u001b[0m\u001b[0;34m,\u001b[0m \u001b[0mreward_n\u001b[0m\u001b[0;34m,\u001b[0m \u001b[0mdone_n\u001b[0m\u001b[0;34m,\u001b[0m \u001b[0minfo_n\u001b[0m\u001b[0;34m\u001b[0m\u001b[0;34m\u001b[0m\u001b[0m\n",
      "\u001b[0;32m~/anaconda3/envs/miniwob/lib/python3.6/site-packages/gym/core.py\u001b[0m in \u001b[0;36mstep\u001b[0;34m(self, action)\u001b[0m\n\u001b[1;32m    108\u001b[0m             \u001b[0minfo\u001b[0m \u001b[0;34m(\u001b[0m\u001b[0mdict\u001b[0m\u001b[0;34m)\u001b[0m\u001b[0;34m:\u001b[0m \u001b[0mcontains\u001b[0m \u001b[0mauxiliary\u001b[0m \u001b[0mdiagnostic\u001b[0m \u001b[0minformation\u001b[0m \u001b[0;34m(\u001b[0m\u001b[0mhelpful\u001b[0m \u001b[0;32mfor\u001b[0m \u001b[0mdebugging\u001b[0m\u001b[0;34m,\u001b[0m \u001b[0;32mand\u001b[0m \u001b[0msometimes\u001b[0m \u001b[0mlearning\u001b[0m\u001b[0;34m)\u001b[0m\u001b[0;34m\u001b[0m\u001b[0;34m\u001b[0m\u001b[0m\n\u001b[1;32m    109\u001b[0m         \"\"\"\n\u001b[0;32m--> 110\u001b[0;31m         \u001b[0mobservation\u001b[0m\u001b[0;34m,\u001b[0m \u001b[0mreward\u001b[0m\u001b[0;34m,\u001b[0m \u001b[0mdone\u001b[0m\u001b[0;34m,\u001b[0m \u001b[0minfo\u001b[0m \u001b[0;34m=\u001b[0m \u001b[0mself\u001b[0m\u001b[0;34m.\u001b[0m\u001b[0m_step\u001b[0m\u001b[0;34m(\u001b[0m\u001b[0maction\u001b[0m\u001b[0;34m)\u001b[0m\u001b[0;34m\u001b[0m\u001b[0;34m\u001b[0m\u001b[0m\n\u001b[0m\u001b[1;32m    111\u001b[0m         \u001b[0;32mreturn\u001b[0m \u001b[0mobservation\u001b[0m\u001b[0;34m,\u001b[0m \u001b[0mreward\u001b[0m\u001b[0;34m,\u001b[0m \u001b[0mdone\u001b[0m\u001b[0;34m,\u001b[0m \u001b[0minfo\u001b[0m\u001b[0;34m\u001b[0m\u001b[0;34m\u001b[0m\u001b[0m\n\u001b[1;32m    112\u001b[0m \u001b[0;34m\u001b[0m\u001b[0m\n",
      "\u001b[0;32m~/anaconda3/envs/miniwob/lib/python3.6/site-packages/universe/wrappers/throttle.py\u001b[0m in \u001b[0;36m_step\u001b[0;34m(self, action_n)\u001b[0m\n\u001b[1;32m    101\u001b[0m                 \u001b[0mpyprofile\u001b[0m\u001b[0;34m.\u001b[0m\u001b[0mtiming\u001b[0m\u001b[0;34m(\u001b[0m\u001b[0;34m'vnc_env.Throttle.sleep'\u001b[0m\u001b[0;34m,\u001b[0m \u001b[0mdelta\u001b[0m\u001b[0;34m)\u001b[0m\u001b[0;34m\u001b[0m\u001b[0;34m\u001b[0m\u001b[0m\n\u001b[1;32m    102\u001b[0m                 \u001b[0maccum_info\u001b[0m\u001b[0;34m[\u001b[0m\u001b[0;34m'stats.throttle.sleep'\u001b[0m\u001b[0;34m]\u001b[0m \u001b[0;34m+=\u001b[0m \u001b[0mdelta\u001b[0m\u001b[0;34m\u001b[0m\u001b[0;34m\u001b[0m\u001b[0m\n\u001b[0;32m--> 103\u001b[0;31m                 \u001b[0mtime\u001b[0m\u001b[0;34m.\u001b[0m\u001b[0msleep\u001b[0m\u001b[0;34m(\u001b[0m\u001b[0mdelta\u001b[0m\u001b[0;34m)\u001b[0m\u001b[0;34m\u001b[0m\u001b[0;34m\u001b[0m\u001b[0m\n\u001b[0m\u001b[1;32m    104\u001b[0m \u001b[0;34m\u001b[0m\u001b[0m\n\u001b[1;32m    105\u001b[0m                 \u001b[0;31m# We want to merge in the latest reward/done/info so that our\u001b[0m\u001b[0;34m\u001b[0m\u001b[0;34m\u001b[0m\u001b[0;34m\u001b[0m\u001b[0m\n",
      "\u001b[0;31mKeyboardInterrupt\u001b[0m: "
     ]
    }
   ],
   "source": [
    "episode_rewards = []\n",
    "episode_steps = []\n",
    "losses = []\n",
    "steps = 0\n",
    "last_ts = time.time()\n",
    "last_steps = 0\n",
    "\n",
    "while True:\n",
    "    steps += 1\n",
    "    buffer.populate(1)\n",
    "    r = exp_source.pop_rewards_steps()\n",
    "    if r:\n",
    "        for rw, st in r:\n",
    "            episode_rewards.append(rw)\n",
    "            episode_steps.append(st)\n",
    "        speed = (steps - last_steps) / (time.time() - last_ts)\n",
    "        print(\"%d: Done %d episodes, last 10 means: reward=%.3f, steps=%.3f, speed=%.2f steps/s, eps=%.2f\" % (\n",
    "            steps, len(episode_rewards), np.mean(episode_rewards[-10:]), \n",
    "            np.mean(episode_steps[-10:]), speed, action_selector.epsilon\n",
    "        ))\n",
    "        last_ts = time.time()\n",
    "        last_steps = steps\n",
    "        if np.mean(episode_rewards[-10:]) > 0.9:\n",
    "            print(\"You solved the env! Congrats!\")\n",
    "            break\n",
    "    if len(buffer) < MIN_REPLAY:\n",
    "        continue\n",
    "    batch = buffer.sample(BATCH_SIZE)\n",
    "    state_v, actions_v, ref_q_v = unpack_batch(batch, tgt_net.target_model, gamma=GAMMA, device=DEVICE)\n",
    "    optimizer.zero_grad()\n",
    "    q_v = net(state_v)\n",
    "    q_v = q_v.gather(1, actions_v.unsqueeze(-1)).squeeze(-1)\n",
    "    loss_v = F.mse_loss(q_v, ref_q_v)\n",
    "    loss_v.backward()\n",
    "    optimizer.step()\n",
    "    losses.append(loss_v.item())\n",
    "    \n",
    "    if steps % TGT_SYNC == 0:\n",
    "        print(\"%d: nets synced, mean loss for last 10 steps = %.3f\" % (\n",
    "            steps, np.mean(losses[-10:])))\n",
    "        tgt_net.sync()\n",
    "    action_selector.epsilon = max(FINAL_EPSILON, INITIAL_EPSILON - (steps-MIN_REPLAY) / STEPS_EPSILON)"
   ]
  },
  {
   "cell_type": "code",
   "execution_count": 149,
   "metadata": {
    "hidden": true
   },
   "outputs": [
    {
     "data": {
      "text/plain": [
       "[<matplotlib.lines.Line2D at 0x7fe5edaf2860>]"
      ]
     },
     "execution_count": 149,
     "metadata": {},
     "output_type": "execute_result"
    },
    {
     "data": {
      "image/png": "[encoded data removed]",
      "text/plain": [
       "<Figure size 432x288 with 1 Axes>"
      ]
     },
     "metadata": {
      "needs_background": "light"
     },
     "output_type": "display_data"
    }
   ],
   "source": [
    "plt.plot(losses)"
   ]
  },
  {
   "cell_type": "code",
   "execution_count": 150,
   "metadata": {
    "hidden": true
   },
   "outputs": [
    {
     "data": {
      "text/plain": [
       "[<matplotlib.lines.Line2D at 0x7fe5edf02f60>]"
      ]
     },
     "execution_count": 150,
     "metadata": {},
     "output_type": "execute_result"
    },
    {
     "data": {
      "image/png": "[encoded data removed]",
      "text/plain": [
       "<Figure size 432x288 with 1 Axes>"
      ]
     },
     "metadata": {
      "needs_background": "light"
     },
     "output_type": "display_data"
    }
   ],
   "source": [
    "plt.plot(episode_rewards)"
   ]
  },
  {
   "cell_type": "markdown",
   "metadata": {
    "hidden": true
   },
   "source": [
    "Looks better, but looks like LR is too high, tweaking"
   ]
  },
  {
   "cell_type": "code",
   "execution_count": 148,
   "metadata": {
    "hidden": true
   },
   "outputs": [],
   "source": [
    "GAMMA = 0.9\n",
    "REPLAY_SIZE = 10000\n",
    "MIN_REPLAY = 100\n",
    "TGT_SYNC = 100\n",
    "BATCH_SIZE = 16\n",
    "LR = 1e-4\n",
    "DEVICE = \"cuda\"  \n",
    "#DEVICE = \"cpu\"\n",
    "\n",
    "INITIAL_EPSILON = 1.0\n",
    "FINAL_EPSILON = 0.05\n",
    "STEPS_EPSILON = 1000"
   ]
  },
  {
   "cell_type": "code",
   "execution_count": 177,
   "metadata": {
    "hidden": true
   },
   "outputs": [
    {
     "name": "stderr",
     "output_type": "stream",
     "text": [
      "[2019-07-08 09:03:15,043] Making new env: wob.mini.ClickDialog-v0\n",
      "[2019-07-08 09:03:15,046] Using SoftmaxClickMouse with action_region=(10, 125, 170, 285), noclick_regions=[]\n",
      "[2019-07-08 09:03:15,047] SoftmaxClickMouse noclick regions removed 0 of 256 actions\n",
      "[2019-07-08 09:03:15,049] Using the golang VNC implementation\n",
      "[2019-07-08 09:03:15,051] Using VNCSession arguments: {'encoding': 'tight', 'compress_level': 0, 'fine_quality_level': 100, 'subsample_level': 0, 'start_timeout': 7}. (Customize by running \"env.configure(vnc_kwargs={...})\"\n",
      "[2019-07-08 09:03:15,077] [0] Connecting to environment: vnc://localhost:5900 password=openai. If desired, you can manually connect a VNC viewer, such as TurboVNC. Most environments provide a convenient in-browser VNC client: http://localhost:15900/viewer/?password=openai\n"
     ]
    },
    {
     "name": "stdout",
     "output_type": "stream",
     "text": [
      "Remotes URL: vnc://localhost:5900+15900\n"
     ]
    },
    {
     "name": "stderr",
     "output_type": "stream",
     "text": [
      "[2019-07-08 09:03:31,492] [0:localhost:5900] Sending reset for env_id=wob.mini.ClickDialog-v0 fps=60 episode_id=0\n",
      "[2019-07-08 09:03:33,529] [0:localhost:5900] Initial reset complete: episode_id=383\n"
     ]
    }
   ],
   "source": [
    "def wrapper_func(env):\n",
    "    env = MiniWoBCropper(env)\n",
    "    env = SoftmaxClickMouse(env)\n",
    "    env = MiniWoBTrackClicks(env)\n",
    "#    env = MiniWoBTimeClickBudget(env)\n",
    "    env = TrajectoryTracking(env, size=20)\n",
    "    return env\n",
    "\n",
    "env = make_env(wrapper_func = wrapper_func, fps=5)\n",
    "obs_n = join_env(env);"
   ]
  },
  {
   "cell_type": "code",
   "execution_count": 150,
   "metadata": {
    "hidden": true
   },
   "outputs": [],
   "source": [
    "net = Model(env.observation_space.shape, env.action_space.n).to(DEVICE)\n",
    "tgt_net = ptan.agent.TargetNet(net)\n",
    "\n",
    "parent_selector = ptan.actions.ArgmaxActionSelector()\n",
    "action_selector = ptan.actions.EpsilonGreedyActionSelector(epsilon=INITIAL_EPSILON, selector=parent_selector) \n",
    "agent = ptan.agent.DQNAgent(net, action_selector, device=DEVICE)\n",
    "exp_source = ptan.experience.ExperienceSourceFirstLast(env, agent, gamma=GAMMA, vectorized=True)\n",
    "\n",
    "buffer = ptan.experience.ExperienceReplayBuffer(exp_source, REPLAY_SIZE)\n",
    "optimizer = optim.Adam(net.parameters(), LR)"
   ]
  },
  {
   "cell_type": "code",
   "execution_count": 151,
   "metadata": {
    "hidden": true
   },
   "outputs": [
    {
     "name": "stderr",
     "output_type": "stream",
     "text": [
      "[2019-07-08 07:58:06,002] [0:localhost:5900] Sending reset for env_id=wob.mini.ClickDialog-v0 fps=60 episode_id=0\n"
     ]
    },
    {
     "name": "stdout",
     "output_type": "stream",
     "text": [
      "Episode done with 4 steps and -1.000 reward\n",
      "Episode done with 4 steps and -1.000 reward\n",
      "Episode done with 4 steps and -1.000 reward\n",
      "Episode done with 4 steps and -1.000 reward\n",
      "Episode done with 4 steps and -1.000 reward\n",
      "Episode done with 4 steps and 0.983 reward\n"
     ]
    }
   ],
   "source": [
    "# populate buffer to get some trajectories\n",
    "rw = 0\n",
    "for _ in range(1000):\n",
    "    buffer.populate(1)\n",
    "    for rw, st in exp_source.pop_rewards_steps():\n",
    "        print(\"Episode done with %d steps and %.3f reward\" % (st, rw))\n",
    "    if rw > 0.2:\n",
    "        break"
   ]
  },
  {
   "cell_type": "code",
   "execution_count": 152,
   "metadata": {
    "hidden": true
   },
   "outputs": [
    {
     "data": {
      "text/plain": [
       "[4, 4, 4, 4, 4, 4, 4]"
      ]
     },
     "execution_count": 152,
     "metadata": {},
     "output_type": "execute_result"
    }
   ],
   "source": [
    "list(map(len, env.trajectories))"
   ]
  },
  {
   "cell_type": "code",
   "execution_count": 153,
   "metadata": {
    "hidden": true
   },
   "outputs": [
    {
     "name": "stdout",
     "output_type": "stream",
     "text": [
      "(0.0, 0.0, 0.0, 0.9833000000000001)\n"
     ]
    }
   ],
   "source": [
    "# you might want to select different trajectory to check, I've chosen not very long one with positive reward\n",
    "tr = env.trajectories[-1]\n",
    "tr_obs, tr_act, tr_rw = zip(*tr)\n",
    "print(tr_rw)"
   ]
  },
  {
   "cell_type": "code",
   "execution_count": 154,
   "metadata": {
    "hidden": true
   },
   "outputs": [],
   "source": [
    "def get_obs_img(obs, actions=None, action_step_pix=10, action_y_ofs=50, transpose=True):\n",
    "    \"\"\"\n",
    "    Get the image from observation with optional action place shown\n",
    "    \"\"\"\n",
    "    if transpose:\n",
    "        obs = np.transpose(obs, (1, 2, 0))\n",
    "    img = Image.fromarray(obs[:,:,:3])\n",
    "    if actions is not None:\n",
    "        for action in actions:\n",
    "            draw = ImageDraw.Draw(img)\n",
    "            if isinstance(action, tuple):\n",
    "                x_ofs, y_ofs = action\n",
    "            else:\n",
    "                y_ofs = action_y_ofs + (action % 16) * action_step_pix\n",
    "                x_ofs = (action // 16) * action_step_pix\n",
    "            half_step = action_step_pix//2\n",
    "            draw.ellipse((x_ofs-half_step, y_ofs-half_step, x_ofs+half_step, y_ofs+half_step),\n",
    "                         (0, 0, 255, 128))\n",
    "    mask = Image.fromarray(obs[:,:,3])\n",
    "    fig = plt.figure()\n",
    "    fig.add_subplot(1, 2, 1)\n",
    "    plt.imshow(img)\n",
    "    fig.add_subplot(1, 2, 2)\n",
    "    plt.imshow(mask)\n",
    "    plt.show()\n",
    "    return img, mask"
   ]
  },
  {
   "cell_type": "code",
   "execution_count": 176,
   "metadata": {
    "hidden": true
   },
   "outputs": [
    {
     "data": {
      "image/png": "[encoded data removed]",
      "text/plain": [
       "<Figure size 432x288 with 2 Axes>"
      ]
     },
     "metadata": {
      "needs_background": "light"
     },
     "output_type": "display_data"
    },
    {
     "data": {
      "text/plain": [
       "(<PIL.Image.Image image mode=RGB size=160x210 at 0x7F37EBD2FFD0>,\n",
       " <PIL.Image.Image image mode=L size=160x210 at 0x7F37EBE4A198>)"
      ]
     },
     "execution_count": 176,
     "metadata": {},
     "output_type": "execute_result"
    }
   ],
   "source": [
    "get_obs_img(tr_obs[-3], actions=(160,220))"
   ]
  },
  {
   "cell_type": "code",
   "execution_count": 171,
   "metadata": {
    "hidden": true
   },
   "outputs": [
    {
     "data": {
      "text/plain": [
       "(40, 152, 165, 231)"
      ]
     },
     "execution_count": 171,
     "metadata": {},
     "output_type": "execute_result"
    }
   ],
   "source": [
    "tr_act"
   ]
  },
  {
   "cell_type": "code",
   "execution_count": 118,
   "metadata": {
    "hidden": true
   },
   "outputs": [
    {
     "data": {
      "text/plain": [
       "4"
      ]
     },
     "execution_count": 118,
     "metadata": {},
     "output_type": "execute_result"
    }
   ],
   "source": [
    "len(tr_obs)"
   ]
  },
  {
   "cell_type": "markdown",
   "metadata": {
    "heading_collapsed": true
   },
   "source": [
    "# Check the obs sequence\n"
   ]
  },
  {
   "cell_type": "code",
   "execution_count": 275,
   "metadata": {
    "hidden": true
   },
   "outputs": [],
   "source": [
    "class MiniWoBTimeClickBudget(vectorized.Wrapper):\n",
    "    \"\"\"\n",
    "    Limits the amount of time we can click.\n",
    "    \"\"\"\n",
    "    def __init__(self, env, time_budget: float = 5, clicks_budget: int = 3):\n",
    "        super(MiniWoBTimeClickBudget, self).__init__(env)\n",
    "        self.time_budget = time_budget\n",
    "        self.clicks_budget = clicks_budget\n",
    "        self.reset_ts = None\n",
    "        self.clicks_done = 0\n",
    "\n",
    "    def reset(self):\n",
    "        self.reset_ts = time.time()\n",
    "        self.clicks_done = 0\n",
    "        return self.env.reset()\n",
    "    \n",
    "    def step(self, action_n):\n",
    "        # TODO: implement me properly for N environments :)\n",
    "        if self.clicks_done < self.clicks_budget and time.time()-self.reset_ts < self.time_budget:\n",
    "            obs_n, r_n, done_n, info_n = self.env.step(action_n)\n",
    "            self.last_action = action_n\n",
    "            self.clicks_done += 1\n",
    "            return obs_n, r_n, done_n, info_n\n",
    "        \n",
    "        obs_n, r_n, done_n, info_n = self.env.step(self.last_action)\n",
    "        obs_n = [np.array(obs_n[0])]\n",
    "        while not done_n[0]:\n",
    "            _, rr_n, done_n, info_n = self.env.step(self.last_action)\n",
    "            r_n[0] += rr_n[0]\n",
    "        self.reset_ts = time.time()\n",
    "        self.clicks_done = 0\n",
    "        return obs_n, r_n, done_n, info_n"
   ]
  },
  {
   "cell_type": "code",
   "execution_count": 244,
   "metadata": {
    "hidden": true
   },
   "outputs": [
    {
     "name": "stderr",
     "output_type": "stream",
     "text": [
      "[2019-07-08 09:23:57,850] Making new env: wob.mini.ClickDialog-v0\n",
      "/home/shmuma/anaconda3/envs/miniwob/lib/python3.6/site-packages/gym/envs/registration.py:17: PkgResourcesDeprecationWarning: Parameters to load are deprecated.  Call .resolve and .require separately.\n",
      "  result = entry_point.load(False)\n",
      "[2019-07-08 09:23:57,853] Using SoftmaxClickMouse with action_region=(10, 125, 170, 285), noclick_regions=[]\n",
      "[2019-07-08 09:23:57,855] SoftmaxClickMouse noclick regions removed 0 of 256 actions\n",
      "[2019-07-08 09:23:57,857] Using the golang VNC implementation\n",
      "[2019-07-08 09:23:57,857] Using VNCSession arguments: {'encoding': 'tight', 'compress_level': 0, 'fine_quality_level': 100, 'subsample_level': 0, 'start_timeout': 7}. (Customize by running \"env.configure(vnc_kwargs={...})\"\n",
      "[2019-07-08 09:23:57,894] [0] Connecting to environment: vnc://localhost:5900 password=openai. If desired, you can manually connect a VNC viewer, such as TurboVNC. Most environments provide a convenient in-browser VNC client: http://localhost:15900/viewer/?password=openai\n"
     ]
    },
    {
     "name": "stdout",
     "output_type": "stream",
     "text": [
      "Remotes URL: vnc://localhost:5900+15900\n"
     ]
    },
    {
     "name": "stderr",
     "output_type": "stream",
     "text": [
      "[2019-07-08 09:24:14,283] [0:localhost:5900] Sending reset for env_id=wob.mini.ClickDialog-v0 fps=60 episode_id=0\n",
      "[2019-07-08 09:24:14,452] [0:localhost:5900] Initial reset complete: episode_id=5\n"
     ]
    }
   ],
   "source": [
    "def wrapper_func(env):\n",
    "    env = MiniWoBCropper(env)\n",
    "    env = SoftmaxClickMouse(env)\n",
    "    env = MiniWoBTrackClicks(env)\n",
    "#    env = MiniWoBTimeClickBudget(env)\n",
    "    env = TrajectoryTracking(env, size=20)\n",
    "    return env\n",
    "\n",
    "env = make_env(wrapper_func = wrapper_func, fps=5)\n",
    "obs_n = join_env(env);"
   ]
  },
  {
   "cell_type": "code",
   "execution_count": 245,
   "metadata": {
    "hidden": true
   },
   "outputs": [
    {
     "name": "stderr",
     "output_type": "stream",
     "text": [
      "[2019-07-08 09:24:18,850] Throttle fell behind by 4.13s; lost 20.64 frames\n"
     ]
    },
    {
     "name": "stdout",
     "output_type": "stream",
     "text": [
      "Done, reward = 0.539\n",
      "Done, reward = -1.0\n",
      "Done, reward = 0.9814\n",
      "Done, reward = 0.7305\n",
      "Done, reward = 0.9510000000000001\n",
      "Done, reward = 0.9911000000000001\n"
     ]
    },
    {
     "ename": "KeyboardInterrupt",
     "evalue": "",
     "output_type": "error",
     "traceback": [
      "\u001b[0;31m---------------------------------------------------------------------------\u001b[0m",
      "\u001b[0;31mKeyboardInterrupt\u001b[0m                         Traceback (most recent call last)",
      "\u001b[0;32m<ipython-input-245-47ea239f24d6>\u001b[0m in \u001b[0;36m<module>\u001b[0;34m\u001b[0m\n\u001b[1;32m      6\u001b[0m     \u001b[0mact\u001b[0m \u001b[0;34m=\u001b[0m \u001b[0mnp\u001b[0m\u001b[0;34m.\u001b[0m\u001b[0mrandom\u001b[0m\u001b[0;34m.\u001b[0m\u001b[0mrandint\u001b[0m\u001b[0;34m(\u001b[0m\u001b[0;36m160\u001b[0m\u001b[0;34m,\u001b[0m \u001b[0;36m220\u001b[0m\u001b[0;34m)\u001b[0m\u001b[0;34m\u001b[0m\u001b[0;34m\u001b[0m\u001b[0m\n\u001b[1;32m      7\u001b[0m     \u001b[0macts\u001b[0m\u001b[0;34m.\u001b[0m\u001b[0mappend\u001b[0m\u001b[0;34m(\u001b[0m\u001b[0mact\u001b[0m\u001b[0;34m)\u001b[0m\u001b[0;34m\u001b[0m\u001b[0;34m\u001b[0m\u001b[0m\n\u001b[0;32m----> 8\u001b[0;31m     \u001b[0mobs\u001b[0m\u001b[0;34m,\u001b[0m \u001b[0mr\u001b[0m\u001b[0;34m,\u001b[0m \u001b[0mdone\u001b[0m\u001b[0;34m,\u001b[0m \u001b[0m_\u001b[0m \u001b[0;34m=\u001b[0m \u001b[0menv\u001b[0m\u001b[0;34m.\u001b[0m\u001b[0mstep\u001b[0m\u001b[0;34m(\u001b[0m\u001b[0;34m[\u001b[0m\u001b[0mact\u001b[0m\u001b[0;34m]\u001b[0m\u001b[0;34m)\u001b[0m\u001b[0;34m\u001b[0m\u001b[0;34m\u001b[0m\u001b[0m\n\u001b[0m\u001b[1;32m      9\u001b[0m     \u001b[0mobses\u001b[0m\u001b[0;34m.\u001b[0m\u001b[0mappend\u001b[0m\u001b[0;34m(\u001b[0m\u001b[0mobs\u001b[0m\u001b[0;34m[\u001b[0m\u001b[0;36m0\u001b[0m\u001b[0;34m]\u001b[0m\u001b[0;34m)\u001b[0m\u001b[0;34m\u001b[0m\u001b[0;34m\u001b[0m\u001b[0m\n\u001b[1;32m     10\u001b[0m     \u001b[0mrwds\u001b[0m\u001b[0;34m.\u001b[0m\u001b[0mappend\u001b[0m\u001b[0;34m(\u001b[0m\u001b[0mr\u001b[0m\u001b[0;34m[\u001b[0m\u001b[0;36m0\u001b[0m\u001b[0;34m]\u001b[0m\u001b[0;34m)\u001b[0m\u001b[0;34m\u001b[0m\u001b[0;34m\u001b[0m\u001b[0m\n",
      "\u001b[0;32m<ipython-input-52-07ac97903bef>\u001b[0m in \u001b[0;36mstep\u001b[0;34m(self, action_n)\u001b[0m\n\u001b[1;32m     21\u001b[0m \u001b[0;34m\u001b[0m\u001b[0m\n\u001b[1;32m     22\u001b[0m     \u001b[0;32mdef\u001b[0m \u001b[0mstep\u001b[0m\u001b[0;34m(\u001b[0m\u001b[0mself\u001b[0m\u001b[0;34m,\u001b[0m \u001b[0maction_n\u001b[0m\u001b[0;34m)\u001b[0m\u001b[0;34m:\u001b[0m\u001b[0;34m\u001b[0m\u001b[0;34m\u001b[0m\u001b[0m\n\u001b[0;32m---> 23\u001b[0;31m         \u001b[0mobs_n\u001b[0m\u001b[0;34m,\u001b[0m \u001b[0mr_n\u001b[0m\u001b[0;34m,\u001b[0m \u001b[0mdone_n\u001b[0m\u001b[0;34m,\u001b[0m \u001b[0minfo_n\u001b[0m \u001b[0;34m=\u001b[0m \u001b[0mself\u001b[0m\u001b[0;34m.\u001b[0m\u001b[0menv\u001b[0m\u001b[0;34m.\u001b[0m\u001b[0mstep\u001b[0m\u001b[0;34m(\u001b[0m\u001b[0maction_n\u001b[0m\u001b[0;34m)\u001b[0m\u001b[0;34m\u001b[0m\u001b[0;34m\u001b[0m\u001b[0m\n\u001b[0m\u001b[1;32m     24\u001b[0m         \u001b[0;32mfor\u001b[0m \u001b[0mt\u001b[0m\u001b[0;34m,\u001b[0m \u001b[0mobs\u001b[0m\u001b[0;34m,\u001b[0m \u001b[0mr\u001b[0m\u001b[0;34m,\u001b[0m \u001b[0mact\u001b[0m \u001b[0;32min\u001b[0m \u001b[0mzip\u001b[0m\u001b[0;34m(\u001b[0m\u001b[0mself\u001b[0m\u001b[0;34m.\u001b[0m\u001b[0m_in_progress\u001b[0m\u001b[0;34m,\u001b[0m \u001b[0mobs_n\u001b[0m\u001b[0;34m,\u001b[0m \u001b[0mr_n\u001b[0m\u001b[0;34m,\u001b[0m \u001b[0maction_n\u001b[0m\u001b[0;34m)\u001b[0m\u001b[0;34m:\u001b[0m\u001b[0;34m\u001b[0m\u001b[0;34m\u001b[0m\u001b[0m\n\u001b[1;32m     25\u001b[0m             \u001b[0mt\u001b[0m\u001b[0;34m.\u001b[0m\u001b[0mappend\u001b[0m\u001b[0;34m(\u001b[0m\u001b[0;34m(\u001b[0m\u001b[0mobs\u001b[0m\u001b[0;34m,\u001b[0m \u001b[0mact\u001b[0m\u001b[0;34m,\u001b[0m \u001b[0mr\u001b[0m\u001b[0;34m)\u001b[0m\u001b[0;34m)\u001b[0m\u001b[0;34m\u001b[0m\u001b[0;34m\u001b[0m\u001b[0m\n",
      "\u001b[0;32m<ipython-input-54-e0cf445cf7b5>\u001b[0m in \u001b[0;36mstep\u001b[0;34m(self, action_n)\u001b[0m\n\u001b[1;32m     15\u001b[0m     \u001b[0;32mdef\u001b[0m \u001b[0mstep\u001b[0m\u001b[0;34m(\u001b[0m\u001b[0mself\u001b[0m\u001b[0;34m,\u001b[0m \u001b[0maction_n\u001b[0m\u001b[0;34m)\u001b[0m\u001b[0;34m:\u001b[0m\u001b[0;34m\u001b[0m\u001b[0;34m\u001b[0m\u001b[0m\n\u001b[1;32m     16\u001b[0m         \u001b[0;31m# TODO: implement me properly for N environments :)\u001b[0m\u001b[0;34m\u001b[0m\u001b[0;34m\u001b[0m\u001b[0;34m\u001b[0m\u001b[0m\n\u001b[0;32m---> 17\u001b[0;31m         \u001b[0mobs_n\u001b[0m\u001b[0;34m,\u001b[0m \u001b[0mr_n\u001b[0m\u001b[0;34m,\u001b[0m \u001b[0mdone_n\u001b[0m\u001b[0;34m,\u001b[0m \u001b[0minfo_n\u001b[0m \u001b[0;34m=\u001b[0m \u001b[0mself\u001b[0m\u001b[0;34m.\u001b[0m\u001b[0menv\u001b[0m\u001b[0;34m.\u001b[0m\u001b[0mstep\u001b[0m\u001b[0;34m(\u001b[0m\u001b[0maction_n\u001b[0m\u001b[0;34m)\u001b[0m\u001b[0;34m\u001b[0m\u001b[0;34m\u001b[0m\u001b[0m\n\u001b[0m\u001b[1;32m     18\u001b[0m         \u001b[0;32mif\u001b[0m \u001b[0mobs_n\u001b[0m\u001b[0;34m[\u001b[0m\u001b[0;36m0\u001b[0m\u001b[0;34m]\u001b[0m \u001b[0;32mis\u001b[0m \u001b[0;32mNone\u001b[0m\u001b[0;34m:\u001b[0m\u001b[0;34m\u001b[0m\u001b[0;34m\u001b[0m\u001b[0m\n\u001b[1;32m     19\u001b[0m             \u001b[0;32mreturn\u001b[0m \u001b[0mobs_n\u001b[0m\u001b[0;34m,\u001b[0m \u001b[0mr_n\u001b[0m\u001b[0;34m,\u001b[0m \u001b[0mdone_n\u001b[0m\u001b[0;34m,\u001b[0m \u001b[0minfo_n\u001b[0m\u001b[0;34m\u001b[0m\u001b[0;34m\u001b[0m\u001b[0m\n",
      "\u001b[0;32m~/anaconda3/envs/miniwob/lib/python3.6/site-packages/gym/core.py\u001b[0m in \u001b[0;36mstep\u001b[0;34m(self, action)\u001b[0m\n\u001b[1;32m    108\u001b[0m             \u001b[0minfo\u001b[0m \u001b[0;34m(\u001b[0m\u001b[0mdict\u001b[0m\u001b[0;34m)\u001b[0m\u001b[0;34m:\u001b[0m \u001b[0mcontains\u001b[0m \u001b[0mauxiliary\u001b[0m \u001b[0mdiagnostic\u001b[0m \u001b[0minformation\u001b[0m \u001b[0;34m(\u001b[0m\u001b[0mhelpful\u001b[0m \u001b[0;32mfor\u001b[0m \u001b[0mdebugging\u001b[0m\u001b[0;34m,\u001b[0m \u001b[0;32mand\u001b[0m \u001b[0msometimes\u001b[0m \u001b[0mlearning\u001b[0m\u001b[0;34m)\u001b[0m\u001b[0;34m\u001b[0m\u001b[0;34m\u001b[0m\u001b[0m\n\u001b[1;32m    109\u001b[0m         \"\"\"\n\u001b[0;32m--> 110\u001b[0;31m         \u001b[0mobservation\u001b[0m\u001b[0;34m,\u001b[0m \u001b[0mreward\u001b[0m\u001b[0;34m,\u001b[0m \u001b[0mdone\u001b[0m\u001b[0;34m,\u001b[0m \u001b[0minfo\u001b[0m \u001b[0;34m=\u001b[0m \u001b[0mself\u001b[0m\u001b[0;34m.\u001b[0m\u001b[0m_step\u001b[0m\u001b[0;34m(\u001b[0m\u001b[0maction\u001b[0m\u001b[0;34m)\u001b[0m\u001b[0;34m\u001b[0m\u001b[0;34m\u001b[0m\u001b[0m\n\u001b[0m\u001b[1;32m    111\u001b[0m         \u001b[0;32mreturn\u001b[0m \u001b[0mobservation\u001b[0m\u001b[0;34m,\u001b[0m \u001b[0mreward\u001b[0m\u001b[0;34m,\u001b[0m \u001b[0mdone\u001b[0m\u001b[0;34m,\u001b[0m \u001b[0minfo\u001b[0m\u001b[0;34m\u001b[0m\u001b[0;34m\u001b[0m\u001b[0m\n\u001b[1;32m    112\u001b[0m \u001b[0;34m\u001b[0m\u001b[0m\n",
      "\u001b[0;32m~/anaconda3/envs/miniwob/lib/python3.6/site-packages/gym/core.py\u001b[0m in \u001b[0;36m_step\u001b[0;34m(self, action)\u001b[0m\n\u001b[1;32m    400\u001b[0m     \u001b[0;32mdef\u001b[0m \u001b[0m_step\u001b[0m\u001b[0;34m(\u001b[0m\u001b[0mself\u001b[0m\u001b[0;34m,\u001b[0m \u001b[0maction\u001b[0m\u001b[0;34m)\u001b[0m\u001b[0;34m:\u001b[0m\u001b[0;34m\u001b[0m\u001b[0;34m\u001b[0m\u001b[0m\n\u001b[1;32m    401\u001b[0m         \u001b[0maction\u001b[0m \u001b[0;34m=\u001b[0m \u001b[0mself\u001b[0m\u001b[0;34m.\u001b[0m\u001b[0maction\u001b[0m\u001b[0;34m(\u001b[0m\u001b[0maction\u001b[0m\u001b[0;34m)\u001b[0m\u001b[0;34m\u001b[0m\u001b[0;34m\u001b[0m\u001b[0m\n\u001b[0;32m--> 402\u001b[0;31m         \u001b[0;32mreturn\u001b[0m \u001b[0mself\u001b[0m\u001b[0;34m.\u001b[0m\u001b[0menv\u001b[0m\u001b[0;34m.\u001b[0m\u001b[0mstep\u001b[0m\u001b[0;34m(\u001b[0m\u001b[0maction\u001b[0m\u001b[0;34m)\u001b[0m\u001b[0;34m\u001b[0m\u001b[0;34m\u001b[0m\u001b[0m\n\u001b[0m\u001b[1;32m    403\u001b[0m \u001b[0;34m\u001b[0m\u001b[0m\n\u001b[1;32m    404\u001b[0m     \u001b[0;32mdef\u001b[0m \u001b[0maction\u001b[0m\u001b[0;34m(\u001b[0m\u001b[0mself\u001b[0m\u001b[0;34m,\u001b[0m \u001b[0maction\u001b[0m\u001b[0;34m)\u001b[0m\u001b[0;34m:\u001b[0m\u001b[0;34m\u001b[0m\u001b[0;34m\u001b[0m\u001b[0m\n",
      "\u001b[0;32m~/anaconda3/envs/miniwob/lib/python3.6/site-packages/gym/core.py\u001b[0m in \u001b[0;36mstep\u001b[0;34m(self, action)\u001b[0m\n\u001b[1;32m    108\u001b[0m             \u001b[0minfo\u001b[0m \u001b[0;34m(\u001b[0m\u001b[0mdict\u001b[0m\u001b[0;34m)\u001b[0m\u001b[0;34m:\u001b[0m \u001b[0mcontains\u001b[0m \u001b[0mauxiliary\u001b[0m \u001b[0mdiagnostic\u001b[0m \u001b[0minformation\u001b[0m \u001b[0;34m(\u001b[0m\u001b[0mhelpful\u001b[0m \u001b[0;32mfor\u001b[0m \u001b[0mdebugging\u001b[0m\u001b[0;34m,\u001b[0m \u001b[0;32mand\u001b[0m \u001b[0msometimes\u001b[0m \u001b[0mlearning\u001b[0m\u001b[0;34m)\u001b[0m\u001b[0;34m\u001b[0m\u001b[0;34m\u001b[0m\u001b[0m\n\u001b[1;32m    109\u001b[0m         \"\"\"\n\u001b[0;32m--> 110\u001b[0;31m         \u001b[0mobservation\u001b[0m\u001b[0;34m,\u001b[0m \u001b[0mreward\u001b[0m\u001b[0;34m,\u001b[0m \u001b[0mdone\u001b[0m\u001b[0;34m,\u001b[0m \u001b[0minfo\u001b[0m \u001b[0;34m=\u001b[0m \u001b[0mself\u001b[0m\u001b[0;34m.\u001b[0m\u001b[0m_step\u001b[0m\u001b[0;34m(\u001b[0m\u001b[0maction\u001b[0m\u001b[0;34m)\u001b[0m\u001b[0;34m\u001b[0m\u001b[0;34m\u001b[0m\u001b[0m\n\u001b[0m\u001b[1;32m    111\u001b[0m         \u001b[0;32mreturn\u001b[0m \u001b[0mobservation\u001b[0m\u001b[0;34m,\u001b[0m \u001b[0mreward\u001b[0m\u001b[0;34m,\u001b[0m \u001b[0mdone\u001b[0m\u001b[0;34m,\u001b[0m \u001b[0minfo\u001b[0m\u001b[0;34m\u001b[0m\u001b[0;34m\u001b[0m\u001b[0m\n\u001b[1;32m    112\u001b[0m \u001b[0;34m\u001b[0m\u001b[0m\n",
      "\u001b[0;32m~/anaconda3/envs/miniwob/lib/python3.6/site-packages/gym/core.py\u001b[0m in \u001b[0;36m_step\u001b[0;34m(self, action)\u001b[0m\n\u001b[1;32m    377\u001b[0m \u001b[0;34m\u001b[0m\u001b[0m\n\u001b[1;32m    378\u001b[0m     \u001b[0;32mdef\u001b[0m \u001b[0m_step\u001b[0m\u001b[0;34m(\u001b[0m\u001b[0mself\u001b[0m\u001b[0;34m,\u001b[0m \u001b[0maction\u001b[0m\u001b[0;34m)\u001b[0m\u001b[0;34m:\u001b[0m\u001b[0;34m\u001b[0m\u001b[0;34m\u001b[0m\u001b[0m\n\u001b[0;32m--> 379\u001b[0;31m         \u001b[0mobservation\u001b[0m\u001b[0;34m,\u001b[0m \u001b[0mreward\u001b[0m\u001b[0;34m,\u001b[0m \u001b[0mdone\u001b[0m\u001b[0;34m,\u001b[0m \u001b[0minfo\u001b[0m \u001b[0;34m=\u001b[0m \u001b[0mself\u001b[0m\u001b[0;34m.\u001b[0m\u001b[0menv\u001b[0m\u001b[0;34m.\u001b[0m\u001b[0mstep\u001b[0m\u001b[0;34m(\u001b[0m\u001b[0maction\u001b[0m\u001b[0;34m)\u001b[0m\u001b[0;34m\u001b[0m\u001b[0;34m\u001b[0m\u001b[0m\n\u001b[0m\u001b[1;32m    380\u001b[0m         \u001b[0;32mreturn\u001b[0m \u001b[0mself\u001b[0m\u001b[0;34m.\u001b[0m\u001b[0mobservation\u001b[0m\u001b[0;34m(\u001b[0m\u001b[0mobservation\u001b[0m\u001b[0;34m)\u001b[0m\u001b[0;34m,\u001b[0m \u001b[0mreward\u001b[0m\u001b[0;34m,\u001b[0m \u001b[0mdone\u001b[0m\u001b[0;34m,\u001b[0m \u001b[0minfo\u001b[0m\u001b[0;34m\u001b[0m\u001b[0;34m\u001b[0m\u001b[0m\n\u001b[1;32m    381\u001b[0m \u001b[0;34m\u001b[0m\u001b[0m\n",
      "\u001b[0;32m~/anaconda3/envs/miniwob/lib/python3.6/site-packages/gym/core.py\u001b[0m in \u001b[0;36mstep\u001b[0;34m(self, action)\u001b[0m\n\u001b[1;32m    108\u001b[0m             \u001b[0minfo\u001b[0m \u001b[0;34m(\u001b[0m\u001b[0mdict\u001b[0m\u001b[0;34m)\u001b[0m\u001b[0;34m:\u001b[0m \u001b[0mcontains\u001b[0m \u001b[0mauxiliary\u001b[0m \u001b[0mdiagnostic\u001b[0m \u001b[0minformation\u001b[0m \u001b[0;34m(\u001b[0m\u001b[0mhelpful\u001b[0m \u001b[0;32mfor\u001b[0m \u001b[0mdebugging\u001b[0m\u001b[0;34m,\u001b[0m \u001b[0;32mand\u001b[0m \u001b[0msometimes\u001b[0m \u001b[0mlearning\u001b[0m\u001b[0;34m)\u001b[0m\u001b[0;34m\u001b[0m\u001b[0;34m\u001b[0m\u001b[0m\n\u001b[1;32m    109\u001b[0m         \"\"\"\n\u001b[0;32m--> 110\u001b[0;31m         \u001b[0mobservation\u001b[0m\u001b[0;34m,\u001b[0m \u001b[0mreward\u001b[0m\u001b[0;34m,\u001b[0m \u001b[0mdone\u001b[0m\u001b[0;34m,\u001b[0m \u001b[0minfo\u001b[0m \u001b[0;34m=\u001b[0m \u001b[0mself\u001b[0m\u001b[0;34m.\u001b[0m\u001b[0m_step\u001b[0m\u001b[0;34m(\u001b[0m\u001b[0maction\u001b[0m\u001b[0;34m)\u001b[0m\u001b[0;34m\u001b[0m\u001b[0;34m\u001b[0m\u001b[0m\n\u001b[0m\u001b[1;32m    111\u001b[0m         \u001b[0;32mreturn\u001b[0m \u001b[0mobservation\u001b[0m\u001b[0;34m,\u001b[0m \u001b[0mreward\u001b[0m\u001b[0;34m,\u001b[0m \u001b[0mdone\u001b[0m\u001b[0;34m,\u001b[0m \u001b[0minfo\u001b[0m\u001b[0;34m\u001b[0m\u001b[0;34m\u001b[0m\u001b[0m\n\u001b[1;32m    112\u001b[0m \u001b[0;34m\u001b[0m\u001b[0m\n",
      "\u001b[0;32m~/anaconda3/envs/miniwob/lib/python3.6/site-packages/universe/wrappers/timer.py\u001b[0m in \u001b[0;36m_step\u001b[0;34m(self, action_n)\u001b[0m\n\u001b[1;32m     18\u001b[0m         \u001b[0mstart\u001b[0m \u001b[0;34m=\u001b[0m \u001b[0mtime\u001b[0m\u001b[0;34m.\u001b[0m\u001b[0mtime\u001b[0m\u001b[0;34m(\u001b[0m\u001b[0;34m)\u001b[0m\u001b[0;34m\u001b[0m\u001b[0;34m\u001b[0m\u001b[0m\n\u001b[1;32m     19\u001b[0m         \u001b[0;32mwith\u001b[0m \u001b[0mpyprofile\u001b[0m\u001b[0;34m.\u001b[0m\u001b[0mpush\u001b[0m\u001b[0;34m(\u001b[0m\u001b[0;34m'vnc_env.Timer.step'\u001b[0m\u001b[0;34m)\u001b[0m\u001b[0;34m:\u001b[0m\u001b[0;34m\u001b[0m\u001b[0;34m\u001b[0m\u001b[0m\n\u001b[0;32m---> 20\u001b[0;31m             \u001b[0mobservation_n\u001b[0m\u001b[0;34m,\u001b[0m \u001b[0mreward_n\u001b[0m\u001b[0;34m,\u001b[0m \u001b[0mdone_n\u001b[0m\u001b[0;34m,\u001b[0m \u001b[0minfo\u001b[0m \u001b[0;34m=\u001b[0m \u001b[0mself\u001b[0m\u001b[0;34m.\u001b[0m\u001b[0menv\u001b[0m\u001b[0;34m.\u001b[0m\u001b[0mstep\u001b[0m\u001b[0;34m(\u001b[0m\u001b[0maction_n\u001b[0m\u001b[0;34m)\u001b[0m\u001b[0;34m\u001b[0m\u001b[0;34m\u001b[0m\u001b[0m\n\u001b[0m\u001b[1;32m     21\u001b[0m \u001b[0;34m\u001b[0m\u001b[0m\n\u001b[1;32m     22\u001b[0m         \u001b[0;31m# Calculate how much time was spent actually doing work\u001b[0m\u001b[0;34m\u001b[0m\u001b[0;34m\u001b[0m\u001b[0;34m\u001b[0m\u001b[0m\n",
      "\u001b[0;32m~/anaconda3/envs/miniwob/lib/python3.6/site-packages/gym/core.py\u001b[0m in \u001b[0;36mstep\u001b[0;34m(self, action)\u001b[0m\n\u001b[1;32m    108\u001b[0m             \u001b[0minfo\u001b[0m \u001b[0;34m(\u001b[0m\u001b[0mdict\u001b[0m\u001b[0;34m)\u001b[0m\u001b[0;34m:\u001b[0m \u001b[0mcontains\u001b[0m \u001b[0mauxiliary\u001b[0m \u001b[0mdiagnostic\u001b[0m \u001b[0minformation\u001b[0m \u001b[0;34m(\u001b[0m\u001b[0mhelpful\u001b[0m \u001b[0;32mfor\u001b[0m \u001b[0mdebugging\u001b[0m\u001b[0;34m,\u001b[0m \u001b[0;32mand\u001b[0m \u001b[0msometimes\u001b[0m \u001b[0mlearning\u001b[0m\u001b[0;34m)\u001b[0m\u001b[0;34m\u001b[0m\u001b[0;34m\u001b[0m\u001b[0m\n\u001b[1;32m    109\u001b[0m         \"\"\"\n\u001b[0;32m--> 110\u001b[0;31m         \u001b[0mobservation\u001b[0m\u001b[0;34m,\u001b[0m \u001b[0mreward\u001b[0m\u001b[0;34m,\u001b[0m \u001b[0mdone\u001b[0m\u001b[0;34m,\u001b[0m \u001b[0minfo\u001b[0m \u001b[0;34m=\u001b[0m \u001b[0mself\u001b[0m\u001b[0;34m.\u001b[0m\u001b[0m_step\u001b[0m\u001b[0;34m(\u001b[0m\u001b[0maction\u001b[0m\u001b[0;34m)\u001b[0m\u001b[0;34m\u001b[0m\u001b[0;34m\u001b[0m\u001b[0m\n\u001b[0m\u001b[1;32m    111\u001b[0m         \u001b[0;32mreturn\u001b[0m \u001b[0mobservation\u001b[0m\u001b[0;34m,\u001b[0m \u001b[0mreward\u001b[0m\u001b[0;34m,\u001b[0m \u001b[0mdone\u001b[0m\u001b[0;34m,\u001b[0m \u001b[0minfo\u001b[0m\u001b[0;34m\u001b[0m\u001b[0;34m\u001b[0m\u001b[0m\n\u001b[1;32m    112\u001b[0m \u001b[0;34m\u001b[0m\u001b[0m\n",
      "\u001b[0;32m~/anaconda3/envs/miniwob/lib/python3.6/site-packages/universe/wrappers/render.py\u001b[0m in \u001b[0;36m_step\u001b[0;34m(self, action_n)\u001b[0m\n\u001b[1;32m     28\u001b[0m \u001b[0;34m\u001b[0m\u001b[0m\n\u001b[1;32m     29\u001b[0m     \u001b[0;32mdef\u001b[0m \u001b[0m_step\u001b[0m\u001b[0;34m(\u001b[0m\u001b[0mself\u001b[0m\u001b[0;34m,\u001b[0m \u001b[0maction_n\u001b[0m\u001b[0;34m)\u001b[0m\u001b[0;34m:\u001b[0m\u001b[0;34m\u001b[0m\u001b[0;34m\u001b[0m\u001b[0m\n\u001b[0;32m---> 30\u001b[0;31m         \u001b[0mobservation_n\u001b[0m\u001b[0;34m,\u001b[0m \u001b[0mreward_n\u001b[0m\u001b[0;34m,\u001b[0m \u001b[0mdone_n\u001b[0m\u001b[0;34m,\u001b[0m \u001b[0minfo_n\u001b[0m \u001b[0;34m=\u001b[0m \u001b[0mself\u001b[0m\u001b[0;34m.\u001b[0m\u001b[0menv\u001b[0m\u001b[0;34m.\u001b[0m\u001b[0mstep\u001b[0m\u001b[0;34m(\u001b[0m\u001b[0maction_n\u001b[0m\u001b[0;34m)\u001b[0m\u001b[0;34m\u001b[0m\u001b[0;34m\u001b[0m\u001b[0m\n\u001b[0m\u001b[1;32m     31\u001b[0m         \u001b[0mself\u001b[0m\u001b[0;34m.\u001b[0m\u001b[0m_observation\u001b[0m \u001b[0;34m=\u001b[0m \u001b[0mobservation_n\u001b[0m\u001b[0;34m[\u001b[0m\u001b[0;36m0\u001b[0m\u001b[0;34m]\u001b[0m\u001b[0;34m\u001b[0m\u001b[0;34m\u001b[0m\u001b[0m\n\u001b[1;32m     32\u001b[0m         \u001b[0;32mreturn\u001b[0m \u001b[0mobservation_n\u001b[0m\u001b[0;34m,\u001b[0m \u001b[0mreward_n\u001b[0m\u001b[0;34m,\u001b[0m \u001b[0mdone_n\u001b[0m\u001b[0;34m,\u001b[0m \u001b[0minfo_n\u001b[0m\u001b[0;34m\u001b[0m\u001b[0;34m\u001b[0m\u001b[0m\n",
      "\u001b[0;32m~/anaconda3/envs/miniwob/lib/python3.6/site-packages/gym/core.py\u001b[0m in \u001b[0;36mstep\u001b[0;34m(self, action)\u001b[0m\n\u001b[1;32m    108\u001b[0m             \u001b[0minfo\u001b[0m \u001b[0;34m(\u001b[0m\u001b[0mdict\u001b[0m\u001b[0;34m)\u001b[0m\u001b[0;34m:\u001b[0m \u001b[0mcontains\u001b[0m \u001b[0mauxiliary\u001b[0m \u001b[0mdiagnostic\u001b[0m \u001b[0minformation\u001b[0m \u001b[0;34m(\u001b[0m\u001b[0mhelpful\u001b[0m \u001b[0;32mfor\u001b[0m \u001b[0mdebugging\u001b[0m\u001b[0;34m,\u001b[0m \u001b[0;32mand\u001b[0m \u001b[0msometimes\u001b[0m \u001b[0mlearning\u001b[0m\u001b[0;34m)\u001b[0m\u001b[0;34m\u001b[0m\u001b[0;34m\u001b[0m\u001b[0m\n\u001b[1;32m    109\u001b[0m         \"\"\"\n\u001b[0;32m--> 110\u001b[0;31m         \u001b[0mobservation\u001b[0m\u001b[0;34m,\u001b[0m \u001b[0mreward\u001b[0m\u001b[0;34m,\u001b[0m \u001b[0mdone\u001b[0m\u001b[0;34m,\u001b[0m \u001b[0minfo\u001b[0m \u001b[0;34m=\u001b[0m \u001b[0mself\u001b[0m\u001b[0;34m.\u001b[0m\u001b[0m_step\u001b[0m\u001b[0;34m(\u001b[0m\u001b[0maction\u001b[0m\u001b[0;34m)\u001b[0m\u001b[0;34m\u001b[0m\u001b[0;34m\u001b[0m\u001b[0m\n\u001b[0m\u001b[1;32m    111\u001b[0m         \u001b[0;32mreturn\u001b[0m \u001b[0mobservation\u001b[0m\u001b[0;34m,\u001b[0m \u001b[0mreward\u001b[0m\u001b[0;34m,\u001b[0m \u001b[0mdone\u001b[0m\u001b[0;34m,\u001b[0m \u001b[0minfo\u001b[0m\u001b[0;34m\u001b[0m\u001b[0;34m\u001b[0m\u001b[0m\n\u001b[1;32m    112\u001b[0m \u001b[0;34m\u001b[0m\u001b[0m\n",
      "\u001b[0;32m~/anaconda3/envs/miniwob/lib/python3.6/site-packages/universe/wrappers/throttle.py\u001b[0m in \u001b[0;36m_step\u001b[0;34m(self, action_n)\u001b[0m\n\u001b[1;32m    101\u001b[0m                 \u001b[0mpyprofile\u001b[0m\u001b[0;34m.\u001b[0m\u001b[0mtiming\u001b[0m\u001b[0;34m(\u001b[0m\u001b[0;34m'vnc_env.Throttle.sleep'\u001b[0m\u001b[0;34m,\u001b[0m \u001b[0mdelta\u001b[0m\u001b[0;34m)\u001b[0m\u001b[0;34m\u001b[0m\u001b[0;34m\u001b[0m\u001b[0m\n\u001b[1;32m    102\u001b[0m                 \u001b[0maccum_info\u001b[0m\u001b[0;34m[\u001b[0m\u001b[0;34m'stats.throttle.sleep'\u001b[0m\u001b[0;34m]\u001b[0m \u001b[0;34m+=\u001b[0m \u001b[0mdelta\u001b[0m\u001b[0;34m\u001b[0m\u001b[0;34m\u001b[0m\u001b[0m\n\u001b[0;32m--> 103\u001b[0;31m                 \u001b[0mtime\u001b[0m\u001b[0;34m.\u001b[0m\u001b[0msleep\u001b[0m\u001b[0;34m(\u001b[0m\u001b[0mdelta\u001b[0m\u001b[0;34m)\u001b[0m\u001b[0;34m\u001b[0m\u001b[0;34m\u001b[0m\u001b[0m\n\u001b[0m\u001b[1;32m    104\u001b[0m \u001b[0;34m\u001b[0m\u001b[0m\n\u001b[1;32m    105\u001b[0m                 \u001b[0;31m# We want to merge in the latest reward/done/info so that our\u001b[0m\u001b[0;34m\u001b[0m\u001b[0;34m\u001b[0m\u001b[0;34m\u001b[0m\u001b[0m\n",
      "\u001b[0;31mKeyboardInterrupt\u001b[0m: "
     ]
    }
   ],
   "source": [
    "obses = []\n",
    "rwds = []\n",
    "dones = []\n",
    "acts = []\n",
    "for _ in range(200):\n",
    "    act = np.random.randint(160, 220)\n",
    "    acts.append(act)\n",
    "    obs, r, done, _ = env.step([act])\n",
    "    obses.append(obs[0])\n",
    "    rwds.append(r[0])\n",
    "    dones.append(done[0])\n",
    "    if done[0]:\n",
    "        print(\"Done, reward = %s\" % r[0])\n",
    "        \n"
   ]
  },
  {
   "cell_type": "code",
   "execution_count": 273,
   "metadata": {
    "hidden": true
   },
   "outputs": [
    {
     "data": {
      "image/png": "[encoded data removed]",
      "text/plain": [
       "<Figure size 432x288 with 2 Axes>"
      ]
     },
     "metadata": {
      "needs_background": "light"
     },
     "output_type": "display_data"
    }
   ],
   "source": [
    "get_obs_img(obses[74], actions=acts[60:75]);"
   ]
  },
  {
   "cell_type": "code",
   "execution_count": 242,
   "metadata": {
    "hidden": true
   },
   "outputs": [
    {
     "name": "stdout",
     "output_type": "stream",
     "text": [
      "74945919425d\r\n"
     ]
    }
   ],
   "source": [
    "!./containers_stop.sh"
   ]
  },
  {
   "cell_type": "code",
   "execution_count": 243,
   "metadata": {
    "hidden": true
   },
   "outputs": [
    {
     "name": "stdout",
     "output_type": "stream",
     "text": [
      "Starting container 1\n",
      "7cc1db27f4a815f529c1a1db53457b1938905ddceaabcd2453b6d929c6f461e1\n"
     ]
    }
   ],
   "source": [
    "!./containers_run.sh"
   ]
  },
  {
   "cell_type": "code",
   "execution_count": 274,
   "metadata": {
    "hidden": true
   },
   "outputs": [
    {
     "data": {
      "text/plain": [
       "[(0, False),\n",
       " (1, False),\n",
       " (2, False),\n",
       " (3, True),\n",
       " (4, False),\n",
       " (5, False),\n",
       " (6, False),\n",
       " (7, False),\n",
       " (8, False),\n",
       " (9, False),\n",
       " (10, False),\n",
       " (11, False),\n",
       " (12, False),\n",
       " (13, False),\n",
       " (14, False),\n",
       " (15, False),\n",
       " (16, False),\n",
       " (17, False),\n",
       " (18, False),\n",
       " (19, False),\n",
       " (20, False),\n",
       " (21, False),\n",
       " (22, False),\n",
       " (23, False),\n",
       " (24, False),\n",
       " (25, False),\n",
       " (26, False),\n",
       " (27, False),\n",
       " (28, False),\n",
       " (29, False),\n",
       " (30, False),\n",
       " (31, False),\n",
       " (32, False),\n",
       " (33, False),\n",
       " (34, False),\n",
       " (35, False),\n",
       " (36, False),\n",
       " (37, False),\n",
       " (38, False),\n",
       " (39, False),\n",
       " (40, False),\n",
       " (41, False),\n",
       " (42, False),\n",
       " (43, False),\n",
       " (44, False),\n",
       " (45, False),\n",
       " (46, False),\n",
       " (47, False),\n",
       " (48, False),\n",
       " (49, False),\n",
       " (50, False),\n",
       " (51, False),\n",
       " (52, False),\n",
       " (53, False),\n",
       " (54, False),\n",
       " (55, True),\n",
       " (56, False),\n",
       " (57, False),\n",
       " (58, False),\n",
       " (59, True),\n",
       " (60, False),\n",
       " (61, False),\n",
       " (62, False),\n",
       " (63, False),\n",
       " (64, False),\n",
       " (65, False),\n",
       " (66, False),\n",
       " (67, False),\n",
       " (68, False),\n",
       " (69, False),\n",
       " (70, False),\n",
       " (71, False),\n",
       " (72, False),\n",
       " (73, False),\n",
       " (74, False),\n",
       " (75, True),\n",
       " (76, False),\n",
       " (77, False),\n",
       " (78, False),\n",
       " (79, False),\n",
       " (80, True),\n",
       " (81, False),\n",
       " (82, False),\n",
       " (83, True),\n",
       " (84, False),\n",
       " (85, False),\n",
       " (86, False),\n",
       " (87, False),\n",
       " (88, False),\n",
       " (89, False),\n",
       " (90, False),\n",
       " (91, False),\n",
       " (92, False),\n",
       " (93, False),\n",
       " (94, False),\n",
       " (95, False),\n",
       " (96, False),\n",
       " (97, False),\n",
       " (98, False),\n",
       " (99, False),\n",
       " (100, False),\n",
       " (101, False),\n",
       " (102, False),\n",
       " (103, False),\n",
       " (104, False),\n",
       " (105, False)]"
      ]
     },
     "execution_count": 274,
     "metadata": {},
     "output_type": "execute_result"
    }
   ],
   "source": [
    "list(enumerate(dones))"
   ]
  },
  {
   "cell_type": "code",
   "execution_count": 246,
   "metadata": {
    "hidden": true
   },
   "outputs": [
    {
     "data": {
      "text/plain": [
       "[(0, 0.0),\n",
       " (1, 0.0),\n",
       " (2, 0.0),\n",
       " (3, 0.539),\n",
       " (4, 0.0),\n",
       " (5, 0.0),\n",
       " (6, 0.0),\n",
       " (7, 0.0),\n",
       " (8, 0.0),\n",
       " (9, 0.0),\n",
       " (10, 0.0),\n",
       " (11, 0.0),\n",
       " (12, 0.0),\n",
       " (13, 0.0),\n",
       " (14, 0.0),\n",
       " (15, 0.0),\n",
       " (16, 0.0),\n",
       " (17, 0.0),\n",
       " (18, 0.0),\n",
       " (19, 0.0),\n",
       " (20, 0.0),\n",
       " (21, 0.0),\n",
       " (22, 0.0),\n",
       " (23, 0.0),\n",
       " (24, 0.0),\n",
       " (25, 0.0),\n",
       " (26, 0.0),\n",
       " (27, 0.0),\n",
       " (28, 0.0),\n",
       " (29, 0.0),\n",
       " (30, 0.0),\n",
       " (31, 0.0),\n",
       " (32, 0.0),\n",
       " (33, 0.0),\n",
       " (34, 0.0),\n",
       " (35, 0.0),\n",
       " (36, 0.0),\n",
       " (37, 0.0),\n",
       " (38, 0.0),\n",
       " (39, 0.0),\n",
       " (40, 0.0),\n",
       " (41, 0.0),\n",
       " (42, 0.0),\n",
       " (43, 0.0),\n",
       " (44, 0.0),\n",
       " (45, 0.0),\n",
       " (46, 0.0),\n",
       " (47, 0.0),\n",
       " (48, 0.0),\n",
       " (49, 0.0),\n",
       " (50, 0.0),\n",
       " (51, 0.0),\n",
       " (52, 0.0),\n",
       " (53, 0.0),\n",
       " (54, 0.0),\n",
       " (55, -1.0),\n",
       " (56, 0.0),\n",
       " (57, 0.0),\n",
       " (58, 0.0),\n",
       " (59, 0.9814),\n",
       " (60, 0.0),\n",
       " (61, 0.0),\n",
       " (62, 0.0),\n",
       " (63, 0.0),\n",
       " (64, 0.0),\n",
       " (65, 0.0),\n",
       " (66, 0.0),\n",
       " (67, 0.0),\n",
       " (68, 0.0),\n",
       " (69, 0.0),\n",
       " (70, 0.0),\n",
       " (71, 0.0),\n",
       " (72, 0.0),\n",
       " (73, 0.0),\n",
       " (74, 0.0),\n",
       " (75, 0.7305),\n",
       " (76, 0.0),\n",
       " (77, 0.0),\n",
       " (78, 0.0),\n",
       " (79, 0.0),\n",
       " (80, 0.9510000000000001),\n",
       " (81, 0.0),\n",
       " (82, 0.0),\n",
       " (83, 0.9911000000000001),\n",
       " (84, 0.0),\n",
       " (85, 0.0),\n",
       " (86, 0.0),\n",
       " (87, 0.0),\n",
       " (88, 0.0),\n",
       " (89, 0.0),\n",
       " (90, 0.0),\n",
       " (91, 0.0),\n",
       " (92, 0.0),\n",
       " (93, 0.0),\n",
       " (94, 0.0),\n",
       " (95, 0.0),\n",
       " (96, 0.0),\n",
       " (97, 0.0),\n",
       " (98, 0.0),\n",
       " (99, 0.0),\n",
       " (100, 0.0),\n",
       " (101, 0.0),\n",
       " (102, 0.0),\n",
       " (103, 0.0),\n",
       " (104, 0.0),\n",
       " (105, 0.0)]"
      ]
     },
     "execution_count": 246,
     "metadata": {},
     "output_type": "execute_result"
    }
   ],
   "source": [
    "list(enumerate(rwds))"
   ]
  },
  {
   "cell_type": "markdown",
   "metadata": {
    "heading_collapsed": true
   },
   "source": [
    "# Second check"
   ]
  },
  {
   "cell_type": "code",
   "execution_count": 313,
   "metadata": {
    "hidden": true
   },
   "outputs": [
    {
     "name": "stdout",
     "output_type": "stream",
     "text": [
      "d90b74e44f24\r\n"
     ]
    }
   ],
   "source": [
    "!./containers_stop.sh"
   ]
  },
  {
   "cell_type": "code",
   "execution_count": 314,
   "metadata": {
    "hidden": true
   },
   "outputs": [
    {
     "name": "stdout",
     "output_type": "stream",
     "text": [
      "Starting container 1\n",
      "f997974f156ca41d0d0498843b45dd3325f6cd7b6cab9a92a92c983568dc7793\n"
     ]
    }
   ],
   "source": [
    "!./containers_run.sh"
   ]
  },
  {
   "cell_type": "code",
   "execution_count": 337,
   "metadata": {
    "hidden": true
   },
   "outputs": [],
   "source": [
    "GAMMA = 0.5\n",
    "REPLAY_SIZE = 10000\n",
    "MIN_REPLAY = 100\n",
    "TGT_SYNC = 100\n",
    "BATCH_SIZE = 16\n",
    "LR = 1e-4\n",
    "DEVICE = \"cuda\"  \n",
    "#DEVICE = \"cpu\"\n",
    "\n",
    "INITIAL_EPSILON = 1.0\n",
    "FINAL_EPSILON = 0.2\n",
    "STEPS_EPSILON = 1000"
   ]
  },
  {
   "cell_type": "code",
   "execution_count": 338,
   "metadata": {
    "hidden": true
   },
   "outputs": [
    {
     "name": "stderr",
     "output_type": "stream",
     "text": [
      "[2019-07-08 14:30:08,694] Making new env: wob.mini.ClickDialog-v0\n",
      "[2019-07-08 14:30:08,696] Using SoftmaxClickMouse with action_region=(10, 125, 170, 285), noclick_regions=[]\n",
      "[2019-07-08 14:30:08,697] SoftmaxClickMouse noclick regions removed 0 of 256 actions\n",
      "[2019-07-08 14:30:08,699] Using the golang VNC implementation\n",
      "[2019-07-08 14:30:08,700] Using VNCSession arguments: {'encoding': 'tight', 'compress_level': 0, 'fine_quality_level': 100, 'subsample_level': 0, 'start_timeout': 7}. (Customize by running \"env.configure(vnc_kwargs={...})\"\n",
      "[2019-07-08 14:30:08,711] [0] Connecting to environment: vnc://localhost:5900 password=openai. If desired, you can manually connect a VNC viewer, such as TurboVNC. Most environments provide a convenient in-browser VNC client: http://localhost:15900/viewer/?password=openai\n"
     ]
    },
    {
     "name": "stdout",
     "output_type": "stream",
     "text": [
      "Remotes URL: vnc://localhost:5900+15900\n"
     ]
    },
    {
     "name": "stderr",
     "output_type": "stream",
     "text": [
      "[2019-07-08 14:30:25,143] [0:localhost:5900] Sending reset for env_id=wob.mini.ClickDialog-v0 fps=60 episode_id=0\n",
      "[2019-07-08 14:30:25,270] [0:localhost:5900] Initial reset complete: episode_id=490\n"
     ]
    }
   ],
   "source": [
    "def wrapper_func(env):\n",
    "    env = MiniWoBCropper(env)\n",
    "    env = SoftmaxClickMouse(env)\n",
    "    env = MiniWoBTrackClicks(env)\n",
    "    env = MiniWoBTimeClickBudget(env, clicks_budget=10)\n",
    "    return env\n",
    "\n",
    "env = make_env(wrapper_func = wrapper_func, fps=5)\n",
    "obs_n = join_env(env);"
   ]
  },
  {
   "cell_type": "code",
   "execution_count": 339,
   "metadata": {
    "hidden": true
   },
   "outputs": [],
   "source": [
    "net = Model(env.observation_space.shape, env.action_space.n).to(DEVICE)\n",
    "tgt_net = ptan.agent.TargetNet(net)\n",
    "\n",
    "parent_selector = ptan.actions.ArgmaxActionSelector()\n",
    "action_selector = ptan.actions.EpsilonGreedyActionSelector(epsilon=INITIAL_EPSILON, selector=parent_selector) \n",
    "agent = ptan.agent.DQNAgent(net, action_selector, device=DEVICE)\n",
    "exp_source = ptan.experience.ExperienceSourceFirstLast(env, agent, gamma=GAMMA, vectorized=True)\n",
    "\n",
    "buffer = ptan.experience.ExperienceReplayBuffer(exp_source, REPLAY_SIZE)\n",
    "optimizer = optim.Adam(net.parameters(), LR)"
   ]
  },
  {
   "cell_type": "code",
   "execution_count": 345,
   "metadata": {
    "hidden": true
   },
   "outputs": [
    {
     "ename": "StopIteration",
     "evalue": "",
     "output_type": "error",
     "traceback": [
      "\u001b[0;31m---------------------------------------------------------------------------\u001b[0m",
      "\u001b[0;31mStopIteration\u001b[0m                             Traceback (most recent call last)",
      "\u001b[0;32m<ipython-input-345-3fa3e9c40c38>\u001b[0m in \u001b[0;36m<module>\u001b[0;34m\u001b[0m\n\u001b[1;32m      8\u001b[0m \u001b[0;32mwhile\u001b[0m \u001b[0;32mTrue\u001b[0m\u001b[0;34m:\u001b[0m\u001b[0;34m\u001b[0m\u001b[0;34m\u001b[0m\u001b[0m\n\u001b[1;32m      9\u001b[0m     \u001b[0msteps\u001b[0m \u001b[0;34m+=\u001b[0m \u001b[0;36m1\u001b[0m\u001b[0;34m\u001b[0m\u001b[0;34m\u001b[0m\u001b[0m\n\u001b[0;32m---> 10\u001b[0;31m     \u001b[0mbuffer\u001b[0m\u001b[0;34m.\u001b[0m\u001b[0mpopulate\u001b[0m\u001b[0;34m(\u001b[0m\u001b[0;36m1\u001b[0m\u001b[0;34m)\u001b[0m\u001b[0;34m\u001b[0m\u001b[0;34m\u001b[0m\u001b[0m\n\u001b[0m\u001b[1;32m     11\u001b[0m     \u001b[0mr\u001b[0m \u001b[0;34m=\u001b[0m \u001b[0mexp_source\u001b[0m\u001b[0;34m.\u001b[0m\u001b[0mpop_rewards_steps\u001b[0m\u001b[0;34m(\u001b[0m\u001b[0;34m)\u001b[0m\u001b[0;34m\u001b[0m\u001b[0;34m\u001b[0m\u001b[0m\n\u001b[1;32m     12\u001b[0m     \u001b[0;32mif\u001b[0m \u001b[0mr\u001b[0m\u001b[0;34m:\u001b[0m\u001b[0;34m\u001b[0m\u001b[0;34m\u001b[0m\u001b[0m\n",
      "\u001b[0;32m~/work/ptan/ptan/experience.py\u001b[0m in \u001b[0;36mpopulate\u001b[0;34m(self, samples)\u001b[0m\n\u001b[1;32m    366\u001b[0m         \"\"\"\n\u001b[1;32m    367\u001b[0m         \u001b[0;32mfor\u001b[0m \u001b[0m_\u001b[0m \u001b[0;32min\u001b[0m \u001b[0mrange\u001b[0m\u001b[0;34m(\u001b[0m\u001b[0msamples\u001b[0m\u001b[0;34m)\u001b[0m\u001b[0;34m:\u001b[0m\u001b[0;34m\u001b[0m\u001b[0;34m\u001b[0m\u001b[0m\n\u001b[0;32m--> 368\u001b[0;31m             \u001b[0mentry\u001b[0m \u001b[0;34m=\u001b[0m \u001b[0mnext\u001b[0m\u001b[0;34m(\u001b[0m\u001b[0mself\u001b[0m\u001b[0;34m.\u001b[0m\u001b[0mexperience_source_iter\u001b[0m\u001b[0;34m)\u001b[0m\u001b[0;34m\u001b[0m\u001b[0;34m\u001b[0m\u001b[0m\n\u001b[0m\u001b[1;32m    369\u001b[0m             \u001b[0mself\u001b[0m\u001b[0;34m.\u001b[0m\u001b[0m_add\u001b[0m\u001b[0;34m(\u001b[0m\u001b[0mentry\u001b[0m\u001b[0;34m)\u001b[0m\u001b[0;34m\u001b[0m\u001b[0;34m\u001b[0m\u001b[0m\n\u001b[1;32m    370\u001b[0m \u001b[0;34m\u001b[0m\u001b[0m\n",
      "\u001b[0;31mStopIteration\u001b[0m: "
     ]
    }
   ],
   "source": [
    "episode_rewards = []\n",
    "episode_steps = []\n",
    "losses = []\n",
    "steps = 0\n",
    "last_ts = time.time()\n",
    "last_steps = 0\n",
    "\n",
    "while True:\n",
    "    steps += 1\n",
    "    buffer.populate(1)\n",
    "    r = exp_source.pop_rewards_steps()\n",
    "    if r:\n",
    "        for rw, st in r:\n",
    "            episode_rewards.append(rw)\n",
    "            episode_steps.append(st)\n",
    "        speed = (steps - last_steps) / (time.time() - last_ts)\n",
    "        print(\"%d: Done %d episodes, last 10 means: reward=%.3f, steps=%.3f, speed=%.2f steps/s, eps=%.2f\" % (\n",
    "            steps, len(episode_rewards), np.mean(episode_rewards[-10:]), \n",
    "            np.mean(episode_steps[-10:]), speed, action_selector.epsilon\n",
    "        ))\n",
    "        last_ts = time.time()\n",
    "        last_steps = steps\n",
    "        if np.mean(episode_rewards[-10:]) > 0.9:\n",
    "            print(\"You solved the env! Congrats!\")\n",
    "            break\n",
    "    if len(buffer) < MIN_REPLAY:\n",
    "        continue\n",
    "    batch = buffer.sample(BATCH_SIZE)\n",
    "    state_v, actions_v, ref_q_v = unpack_batch(batch, tgt_net.target_model, gamma=GAMMA, device=DEVICE)\n",
    "    optimizer.zero_grad()\n",
    "    q_v = net(state_v)\n",
    "    q_v = q_v.gather(1, actions_v.unsqueeze(-1)).squeeze(-1)\n",
    "    loss_v = F.mse_loss(q_v, ref_q_v)\n",
    "    loss_v.backward()\n",
    "    optimizer.step()\n",
    "    losses.append(loss_v.item())\n",
    "    \n",
    "    if steps % TGT_SYNC == 0:\n",
    "        print(\"%d: nets synced, mean loss for last 10 steps = %.3f\" % (\n",
    "            steps, np.mean(losses[-10:])))\n",
    "        tgt_net.sync()\n",
    "    action_selector.epsilon = max(FINAL_EPSILON, INITIAL_EPSILON - (steps-MIN_REPLAY) / STEPS_EPSILON)"
   ]
  },
  {
   "cell_type": "code",
   "execution_count": 309,
   "metadata": {
    "hidden": true
   },
   "outputs": [
    {
     "name": "stderr",
     "output_type": "stream",
     "text": [
      "[2019-07-08 13:13:15,361] [0:localhost:5900] Sending reset for env_id=wob.mini.ClickDialog-v0 fps=60 episode_id=0\n"
     ]
    },
    {
     "data": {
      "text/plain": [
       "[None]"
      ]
     },
     "execution_count": 309,
     "metadata": {},
     "output_type": "execute_result"
    }
   ],
   "source": [
    "env.reset()"
   ]
  },
  {
   "cell_type": "code",
   "execution_count": 341,
   "metadata": {
    "hidden": true
   },
   "outputs": [
    {
     "data": {
      "text/plain": [
       "[<matplotlib.lines.Line2D at 0x7f375e691470>]"
      ]
     },
     "execution_count": 341,
     "metadata": {},
     "output_type": "execute_result"
    },
    {
     "data": {
      "image/png": "[encoded data removed]",
      "text/plain": [
       "<Figure size 432x288 with 1 Axes>"
      ]
     },
     "metadata": {
      "needs_background": "light"
     },
     "output_type": "display_data"
    }
   ],
   "source": [
    "plt.plot(losses)"
   ]
  },
  {
   "cell_type": "code",
   "execution_count": 342,
   "metadata": {
    "hidden": true
   },
   "outputs": [
    {
     "data": {
      "text/plain": [
       "[<matplotlib.lines.Line2D at 0x7f37ead23470>]"
      ]
     },
     "execution_count": 342,
     "metadata": {},
     "output_type": "execute_result"
    },
    {
     "data": {
      "image/png": "[encoded data removed]",
      "text/plain": [
       "<Figure size 432x288 with 1 Axes>"
      ]
     },
     "metadata": {
      "needs_background": "light"
     },
     "output_type": "display_data"
    }
   ],
   "source": [
    "plt.plot(episode_rewards)"
   ]
  },
  {
   "cell_type": "code",
   "execution_count": 344,
   "metadata": {
    "hidden": true
   },
   "outputs": [
    {
     "data": {
      "text/plain": [
       "912"
      ]
     },
     "execution_count": 344,
     "metadata": {},
     "output_type": "execute_result"
    }
   ],
   "source": [
    "len(buffer)"
   ]
  },
  {
   "cell_type": "markdown",
   "metadata": {},
   "source": [
    "# Check values of known final states"
   ]
  },
  {
   "cell_type": "code",
   "execution_count": 351,
   "metadata": {},
   "outputs": [],
   "source": [
    "GAMMA = 0.9\n",
    "REPLAY_SIZE = 10000\n",
    "MIN_REPLAY = 100\n",
    "TGT_SYNC = 100\n",
    "BATCH_SIZE = 16\n",
    "LR = 1e-4\n",
    "DEVICE = \"cuda\"  \n",
    "#DEVICE = \"cpu\"\n",
    "\n",
    "INITIAL_EPSILON = 1.0\n",
    "FINAL_EPSILON = 0.2\n",
    "STEPS_EPSILON = 1000"
   ]
  },
  {
   "cell_type": "code",
   "execution_count": 368,
   "metadata": {},
   "outputs": [
    {
     "name": "stderr",
     "output_type": "stream",
     "text": [
      "[2019-07-08 15:26:57,422] Making new env: wob.mini.ClickDialog-v0\n",
      "/home/shmuma/anaconda3/envs/miniwob/lib/python3.6/site-packages/gym/envs/registration.py:17: PkgResourcesDeprecationWarning: Parameters to load are deprecated.  Call .resolve and .require separately.\n",
      "  result = entry_point.load(False)\n",
      "[2019-07-08 15:26:57,424] Using SoftmaxClickMouse with action_region=(10, 125, 170, 285), noclick_regions=[]\n",
      "[2019-07-08 15:26:57,425] SoftmaxClickMouse noclick regions removed 0 of 256 actions\n",
      "[2019-07-08 15:26:57,427] Using the golang VNC implementation\n",
      "[2019-07-08 15:26:57,427] Using VNCSession arguments: {'encoding': 'tight', 'compress_level': 0, 'fine_quality_level': 100, 'subsample_level': 0, 'start_timeout': 7}. (Customize by running \"env.configure(vnc_kwargs={...})\"\n",
      "[2019-07-08 15:26:57,463] [0] Connecting to environment: vnc://localhost:5900 password=openai. If desired, you can manually connect a VNC viewer, such as TurboVNC. Most environments provide a convenient in-browser VNC client: http://localhost:15900/viewer/?password=openai\n"
     ]
    },
    {
     "name": "stdout",
     "output_type": "stream",
     "text": [
      "Remotes URL: vnc://localhost:5900+15900\n"
     ]
    },
    {
     "name": "stderr",
     "output_type": "stream",
     "text": [
      "[2019-07-08 15:27:13,837] [0:localhost:5900] Sending reset for env_id=wob.mini.ClickDialog-v0 fps=60 episode_id=0\n",
      "[2019-07-08 15:27:14,012] [0:localhost:5900] Initial reset complete: episode_id=833\n"
     ]
    }
   ],
   "source": [
    "def wrapper_func(env):\n",
    "    env = MiniWoBCropper(env)\n",
    "    env = SoftmaxClickMouse(env)\n",
    "    env = MiniWoBTrackClicks(env)\n",
    "    env = MiniWoBTimeClickBudget(env, clicks_budget=1)\n",
    "    return env\n",
    "\n",
    "env = make_env(wrapper_func = wrapper_func, fps=5)\n",
    "obs_n = join_env(env);"
   ]
  },
  {
   "cell_type": "code",
   "execution_count": 370,
   "metadata": {},
   "outputs": [
    {
     "name": "stderr",
     "output_type": "stream",
     "text": [
      "[2019-07-08 15:29:33,187] Throttle fell behind by 7.04s; lost 35.21 frames\n"
     ]
    },
    {
     "name": "stdout",
     "output_type": "stream",
     "text": [
      "Got new obs: 0.984\n"
     ]
    },
    {
     "ename": "KeyboardInterrupt",
     "evalue": "",
     "output_type": "error",
     "traceback": [
      "\u001b[0;31m---------------------------------------------------------------------------\u001b[0m",
      "\u001b[0;31mKeyboardInterrupt\u001b[0m                         Traceback (most recent call last)",
      "\u001b[0;32m<ipython-input-370-0dfafef16bfa>\u001b[0m in \u001b[0;36m<module>\u001b[0;34m\u001b[0m\n\u001b[1;32m      7\u001b[0m \u001b[0;32mwhile\u001b[0m \u001b[0mlen\u001b[0m\u001b[0;34m(\u001b[0m\u001b[0mfinal_obs\u001b[0m\u001b[0;34m)\u001b[0m \u001b[0;34m<\u001b[0m \u001b[0mTGT_FINAL_COUNT\u001b[0m\u001b[0;34m:\u001b[0m\u001b[0;34m\u001b[0m\u001b[0;34m\u001b[0m\u001b[0m\n\u001b[1;32m      8\u001b[0m     \u001b[0mact\u001b[0m \u001b[0;34m=\u001b[0m \u001b[0mnp\u001b[0m\u001b[0;34m.\u001b[0m\u001b[0mrandom\u001b[0m\u001b[0;34m.\u001b[0m\u001b[0mrandint\u001b[0m\u001b[0;34m(\u001b[0m\u001b[0;36m140\u001b[0m\u001b[0;34m,\u001b[0m \u001b[0;36m220\u001b[0m\u001b[0;34m)\u001b[0m\u001b[0;34m\u001b[0m\u001b[0;34m\u001b[0m\u001b[0m\n\u001b[0;32m----> 9\u001b[0;31m     \u001b[0mobs_n\u001b[0m\u001b[0;34m,\u001b[0m \u001b[0mrw_n\u001b[0m\u001b[0;34m,\u001b[0m \u001b[0mdone_n\u001b[0m\u001b[0;34m,\u001b[0m \u001b[0m_\u001b[0m \u001b[0;34m=\u001b[0m \u001b[0menv\u001b[0m\u001b[0;34m.\u001b[0m\u001b[0mstep\u001b[0m\u001b[0;34m(\u001b[0m\u001b[0;34m[\u001b[0m\u001b[0mact\u001b[0m\u001b[0;34m]\u001b[0m\u001b[0;34m)\u001b[0m\u001b[0;34m\u001b[0m\u001b[0;34m\u001b[0m\u001b[0m\n\u001b[0m\u001b[1;32m     10\u001b[0m     \u001b[0;32mif\u001b[0m \u001b[0;32mnot\u001b[0m \u001b[0mdone_n\u001b[0m\u001b[0;34m[\u001b[0m\u001b[0;36m0\u001b[0m\u001b[0;34m]\u001b[0m\u001b[0;34m:\u001b[0m\u001b[0;34m\u001b[0m\u001b[0;34m\u001b[0m\u001b[0m\n\u001b[1;32m     11\u001b[0m         \u001b[0mprev_obs\u001b[0m \u001b[0;34m=\u001b[0m \u001b[0mobs_n\u001b[0m\u001b[0;34m[\u001b[0m\u001b[0;36m0\u001b[0m\u001b[0;34m]\u001b[0m\u001b[0;34m\u001b[0m\u001b[0;34m\u001b[0m\u001b[0m\n",
      "\u001b[0;32m<ipython-input-275-a5dc4fe31416>\u001b[0m in \u001b[0;36mstep\u001b[0;34m(self, action_n)\u001b[0m\n\u001b[1;32m     26\u001b[0m         \u001b[0mobs_n\u001b[0m \u001b[0;34m=\u001b[0m \u001b[0;34m[\u001b[0m\u001b[0mnp\u001b[0m\u001b[0;34m.\u001b[0m\u001b[0marray\u001b[0m\u001b[0;34m(\u001b[0m\u001b[0mobs_n\u001b[0m\u001b[0;34m[\u001b[0m\u001b[0;36m0\u001b[0m\u001b[0;34m]\u001b[0m\u001b[0;34m)\u001b[0m\u001b[0;34m]\u001b[0m\u001b[0;34m\u001b[0m\u001b[0;34m\u001b[0m\u001b[0m\n\u001b[1;32m     27\u001b[0m         \u001b[0;32mwhile\u001b[0m \u001b[0;32mnot\u001b[0m \u001b[0mdone_n\u001b[0m\u001b[0;34m[\u001b[0m\u001b[0;36m0\u001b[0m\u001b[0;34m]\u001b[0m\u001b[0;34m:\u001b[0m\u001b[0;34m\u001b[0m\u001b[0;34m\u001b[0m\u001b[0m\n\u001b[0;32m---> 28\u001b[0;31m             \u001b[0m_\u001b[0m\u001b[0;34m,\u001b[0m \u001b[0mrr_n\u001b[0m\u001b[0;34m,\u001b[0m \u001b[0mdone_n\u001b[0m\u001b[0;34m,\u001b[0m \u001b[0minfo_n\u001b[0m \u001b[0;34m=\u001b[0m \u001b[0mself\u001b[0m\u001b[0;34m.\u001b[0m\u001b[0menv\u001b[0m\u001b[0;34m.\u001b[0m\u001b[0mstep\u001b[0m\u001b[0;34m(\u001b[0m\u001b[0mself\u001b[0m\u001b[0;34m.\u001b[0m\u001b[0mlast_action\u001b[0m\u001b[0;34m)\u001b[0m\u001b[0;34m\u001b[0m\u001b[0;34m\u001b[0m\u001b[0m\n\u001b[0m\u001b[1;32m     29\u001b[0m             \u001b[0mr_n\u001b[0m\u001b[0;34m[\u001b[0m\u001b[0;36m0\u001b[0m\u001b[0;34m]\u001b[0m \u001b[0;34m+=\u001b[0m \u001b[0mrr_n\u001b[0m\u001b[0;34m[\u001b[0m\u001b[0;36m0\u001b[0m\u001b[0;34m]\u001b[0m\u001b[0;34m\u001b[0m\u001b[0;34m\u001b[0m\u001b[0m\n\u001b[1;32m     30\u001b[0m         \u001b[0mself\u001b[0m\u001b[0;34m.\u001b[0m\u001b[0mreset_ts\u001b[0m \u001b[0;34m=\u001b[0m \u001b[0mtime\u001b[0m\u001b[0;34m.\u001b[0m\u001b[0mtime\u001b[0m\u001b[0;34m(\u001b[0m\u001b[0;34m)\u001b[0m\u001b[0;34m\u001b[0m\u001b[0;34m\u001b[0m\u001b[0m\n",
      "\u001b[0;32m<ipython-input-54-e0cf445cf7b5>\u001b[0m in \u001b[0;36mstep\u001b[0;34m(self, action_n)\u001b[0m\n\u001b[1;32m     15\u001b[0m     \u001b[0;32mdef\u001b[0m \u001b[0mstep\u001b[0m\u001b[0;34m(\u001b[0m\u001b[0mself\u001b[0m\u001b[0;34m,\u001b[0m \u001b[0maction_n\u001b[0m\u001b[0;34m)\u001b[0m\u001b[0;34m:\u001b[0m\u001b[0;34m\u001b[0m\u001b[0;34m\u001b[0m\u001b[0m\n\u001b[1;32m     16\u001b[0m         \u001b[0;31m# TODO: implement me properly for N environments :)\u001b[0m\u001b[0;34m\u001b[0m\u001b[0;34m\u001b[0m\u001b[0;34m\u001b[0m\u001b[0m\n\u001b[0;32m---> 17\u001b[0;31m         \u001b[0mobs_n\u001b[0m\u001b[0;34m,\u001b[0m \u001b[0mr_n\u001b[0m\u001b[0;34m,\u001b[0m \u001b[0mdone_n\u001b[0m\u001b[0;34m,\u001b[0m \u001b[0minfo_n\u001b[0m \u001b[0;34m=\u001b[0m \u001b[0mself\u001b[0m\u001b[0;34m.\u001b[0m\u001b[0menv\u001b[0m\u001b[0;34m.\u001b[0m\u001b[0mstep\u001b[0m\u001b[0;34m(\u001b[0m\u001b[0maction_n\u001b[0m\u001b[0;34m)\u001b[0m\u001b[0;34m\u001b[0m\u001b[0;34m\u001b[0m\u001b[0m\n\u001b[0m\u001b[1;32m     18\u001b[0m         \u001b[0;32mif\u001b[0m \u001b[0mobs_n\u001b[0m\u001b[0;34m[\u001b[0m\u001b[0;36m0\u001b[0m\u001b[0;34m]\u001b[0m \u001b[0;32mis\u001b[0m \u001b[0;32mNone\u001b[0m\u001b[0;34m:\u001b[0m\u001b[0;34m\u001b[0m\u001b[0;34m\u001b[0m\u001b[0m\n\u001b[1;32m     19\u001b[0m             \u001b[0;32mreturn\u001b[0m \u001b[0mobs_n\u001b[0m\u001b[0;34m,\u001b[0m \u001b[0mr_n\u001b[0m\u001b[0;34m,\u001b[0m \u001b[0mdone_n\u001b[0m\u001b[0;34m,\u001b[0m \u001b[0minfo_n\u001b[0m\u001b[0;34m\u001b[0m\u001b[0;34m\u001b[0m\u001b[0m\n",
      "\u001b[0;32m~/anaconda3/envs/miniwob/lib/python3.6/site-packages/gym/core.py\u001b[0m in \u001b[0;36mstep\u001b[0;34m(self, action)\u001b[0m\n\u001b[1;32m    108\u001b[0m             \u001b[0minfo\u001b[0m \u001b[0;34m(\u001b[0m\u001b[0mdict\u001b[0m\u001b[0;34m)\u001b[0m\u001b[0;34m:\u001b[0m \u001b[0mcontains\u001b[0m \u001b[0mauxiliary\u001b[0m \u001b[0mdiagnostic\u001b[0m \u001b[0minformation\u001b[0m \u001b[0;34m(\u001b[0m\u001b[0mhelpful\u001b[0m \u001b[0;32mfor\u001b[0m \u001b[0mdebugging\u001b[0m\u001b[0;34m,\u001b[0m \u001b[0;32mand\u001b[0m \u001b[0msometimes\u001b[0m \u001b[0mlearning\u001b[0m\u001b[0;34m)\u001b[0m\u001b[0;34m\u001b[0m\u001b[0;34m\u001b[0m\u001b[0m\n\u001b[1;32m    109\u001b[0m         \"\"\"\n\u001b[0;32m--> 110\u001b[0;31m         \u001b[0mobservation\u001b[0m\u001b[0;34m,\u001b[0m \u001b[0mreward\u001b[0m\u001b[0;34m,\u001b[0m \u001b[0mdone\u001b[0m\u001b[0;34m,\u001b[0m \u001b[0minfo\u001b[0m \u001b[0;34m=\u001b[0m \u001b[0mself\u001b[0m\u001b[0;34m.\u001b[0m\u001b[0m_step\u001b[0m\u001b[0;34m(\u001b[0m\u001b[0maction\u001b[0m\u001b[0;34m)\u001b[0m\u001b[0;34m\u001b[0m\u001b[0;34m\u001b[0m\u001b[0m\n\u001b[0m\u001b[1;32m    111\u001b[0m         \u001b[0;32mreturn\u001b[0m \u001b[0mobservation\u001b[0m\u001b[0;34m,\u001b[0m \u001b[0mreward\u001b[0m\u001b[0;34m,\u001b[0m \u001b[0mdone\u001b[0m\u001b[0;34m,\u001b[0m \u001b[0minfo\u001b[0m\u001b[0;34m\u001b[0m\u001b[0;34m\u001b[0m\u001b[0m\n\u001b[1;32m    112\u001b[0m \u001b[0;34m\u001b[0m\u001b[0m\n",
      "\u001b[0;32m~/anaconda3/envs/miniwob/lib/python3.6/site-packages/gym/core.py\u001b[0m in \u001b[0;36m_step\u001b[0;34m(self, action)\u001b[0m\n\u001b[1;32m    400\u001b[0m     \u001b[0;32mdef\u001b[0m \u001b[0m_step\u001b[0m\u001b[0;34m(\u001b[0m\u001b[0mself\u001b[0m\u001b[0;34m,\u001b[0m \u001b[0maction\u001b[0m\u001b[0;34m)\u001b[0m\u001b[0;34m:\u001b[0m\u001b[0;34m\u001b[0m\u001b[0;34m\u001b[0m\u001b[0m\n\u001b[1;32m    401\u001b[0m         \u001b[0maction\u001b[0m \u001b[0;34m=\u001b[0m \u001b[0mself\u001b[0m\u001b[0;34m.\u001b[0m\u001b[0maction\u001b[0m\u001b[0;34m(\u001b[0m\u001b[0maction\u001b[0m\u001b[0;34m)\u001b[0m\u001b[0;34m\u001b[0m\u001b[0;34m\u001b[0m\u001b[0m\n\u001b[0;32m--> 402\u001b[0;31m         \u001b[0;32mreturn\u001b[0m \u001b[0mself\u001b[0m\u001b[0;34m.\u001b[0m\u001b[0menv\u001b[0m\u001b[0;34m.\u001b[0m\u001b[0mstep\u001b[0m\u001b[0;34m(\u001b[0m\u001b[0maction\u001b[0m\u001b[0;34m)\u001b[0m\u001b[0;34m\u001b[0m\u001b[0;34m\u001b[0m\u001b[0m\n\u001b[0m\u001b[1;32m    403\u001b[0m \u001b[0;34m\u001b[0m\u001b[0m\n\u001b[1;32m    404\u001b[0m     \u001b[0;32mdef\u001b[0m \u001b[0maction\u001b[0m\u001b[0;34m(\u001b[0m\u001b[0mself\u001b[0m\u001b[0;34m,\u001b[0m \u001b[0maction\u001b[0m\u001b[0;34m)\u001b[0m\u001b[0;34m:\u001b[0m\u001b[0;34m\u001b[0m\u001b[0;34m\u001b[0m\u001b[0m\n",
      "\u001b[0;32m~/anaconda3/envs/miniwob/lib/python3.6/site-packages/gym/core.py\u001b[0m in \u001b[0;36mstep\u001b[0;34m(self, action)\u001b[0m\n\u001b[1;32m    108\u001b[0m             \u001b[0minfo\u001b[0m \u001b[0;34m(\u001b[0m\u001b[0mdict\u001b[0m\u001b[0;34m)\u001b[0m\u001b[0;34m:\u001b[0m \u001b[0mcontains\u001b[0m \u001b[0mauxiliary\u001b[0m \u001b[0mdiagnostic\u001b[0m \u001b[0minformation\u001b[0m \u001b[0;34m(\u001b[0m\u001b[0mhelpful\u001b[0m \u001b[0;32mfor\u001b[0m \u001b[0mdebugging\u001b[0m\u001b[0;34m,\u001b[0m \u001b[0;32mand\u001b[0m \u001b[0msometimes\u001b[0m \u001b[0mlearning\u001b[0m\u001b[0;34m)\u001b[0m\u001b[0;34m\u001b[0m\u001b[0;34m\u001b[0m\u001b[0m\n\u001b[1;32m    109\u001b[0m         \"\"\"\n\u001b[0;32m--> 110\u001b[0;31m         \u001b[0mobservation\u001b[0m\u001b[0;34m,\u001b[0m \u001b[0mreward\u001b[0m\u001b[0;34m,\u001b[0m \u001b[0mdone\u001b[0m\u001b[0;34m,\u001b[0m \u001b[0minfo\u001b[0m \u001b[0;34m=\u001b[0m \u001b[0mself\u001b[0m\u001b[0;34m.\u001b[0m\u001b[0m_step\u001b[0m\u001b[0;34m(\u001b[0m\u001b[0maction\u001b[0m\u001b[0;34m)\u001b[0m\u001b[0;34m\u001b[0m\u001b[0;34m\u001b[0m\u001b[0m\n\u001b[0m\u001b[1;32m    111\u001b[0m         \u001b[0;32mreturn\u001b[0m \u001b[0mobservation\u001b[0m\u001b[0;34m,\u001b[0m \u001b[0mreward\u001b[0m\u001b[0;34m,\u001b[0m \u001b[0mdone\u001b[0m\u001b[0;34m,\u001b[0m \u001b[0minfo\u001b[0m\u001b[0;34m\u001b[0m\u001b[0;34m\u001b[0m\u001b[0m\n\u001b[1;32m    112\u001b[0m \u001b[0;34m\u001b[0m\u001b[0m\n",
      "\u001b[0;32m~/anaconda3/envs/miniwob/lib/python3.6/site-packages/gym/core.py\u001b[0m in \u001b[0;36m_step\u001b[0;34m(self, action)\u001b[0m\n\u001b[1;32m    377\u001b[0m \u001b[0;34m\u001b[0m\u001b[0m\n\u001b[1;32m    378\u001b[0m     \u001b[0;32mdef\u001b[0m \u001b[0m_step\u001b[0m\u001b[0;34m(\u001b[0m\u001b[0mself\u001b[0m\u001b[0;34m,\u001b[0m \u001b[0maction\u001b[0m\u001b[0;34m)\u001b[0m\u001b[0;34m:\u001b[0m\u001b[0;34m\u001b[0m\u001b[0;34m\u001b[0m\u001b[0m\n\u001b[0;32m--> 379\u001b[0;31m         \u001b[0mobservation\u001b[0m\u001b[0;34m,\u001b[0m \u001b[0mreward\u001b[0m\u001b[0;34m,\u001b[0m \u001b[0mdone\u001b[0m\u001b[0;34m,\u001b[0m \u001b[0minfo\u001b[0m \u001b[0;34m=\u001b[0m \u001b[0mself\u001b[0m\u001b[0;34m.\u001b[0m\u001b[0menv\u001b[0m\u001b[0;34m.\u001b[0m\u001b[0mstep\u001b[0m\u001b[0;34m(\u001b[0m\u001b[0maction\u001b[0m\u001b[0;34m)\u001b[0m\u001b[0;34m\u001b[0m\u001b[0;34m\u001b[0m\u001b[0m\n\u001b[0m\u001b[1;32m    380\u001b[0m         \u001b[0;32mreturn\u001b[0m \u001b[0mself\u001b[0m\u001b[0;34m.\u001b[0m\u001b[0mobservation\u001b[0m\u001b[0;34m(\u001b[0m\u001b[0mobservation\u001b[0m\u001b[0;34m)\u001b[0m\u001b[0;34m,\u001b[0m \u001b[0mreward\u001b[0m\u001b[0;34m,\u001b[0m \u001b[0mdone\u001b[0m\u001b[0;34m,\u001b[0m \u001b[0minfo\u001b[0m\u001b[0;34m\u001b[0m\u001b[0;34m\u001b[0m\u001b[0m\n\u001b[1;32m    381\u001b[0m \u001b[0;34m\u001b[0m\u001b[0m\n",
      "\u001b[0;32m~/anaconda3/envs/miniwob/lib/python3.6/site-packages/gym/core.py\u001b[0m in \u001b[0;36mstep\u001b[0;34m(self, action)\u001b[0m\n\u001b[1;32m    108\u001b[0m             \u001b[0minfo\u001b[0m \u001b[0;34m(\u001b[0m\u001b[0mdict\u001b[0m\u001b[0;34m)\u001b[0m\u001b[0;34m:\u001b[0m \u001b[0mcontains\u001b[0m \u001b[0mauxiliary\u001b[0m \u001b[0mdiagnostic\u001b[0m \u001b[0minformation\u001b[0m \u001b[0;34m(\u001b[0m\u001b[0mhelpful\u001b[0m \u001b[0;32mfor\u001b[0m \u001b[0mdebugging\u001b[0m\u001b[0;34m,\u001b[0m \u001b[0;32mand\u001b[0m \u001b[0msometimes\u001b[0m \u001b[0mlearning\u001b[0m\u001b[0;34m)\u001b[0m\u001b[0;34m\u001b[0m\u001b[0;34m\u001b[0m\u001b[0m\n\u001b[1;32m    109\u001b[0m         \"\"\"\n\u001b[0;32m--> 110\u001b[0;31m         \u001b[0mobservation\u001b[0m\u001b[0;34m,\u001b[0m \u001b[0mreward\u001b[0m\u001b[0;34m,\u001b[0m \u001b[0mdone\u001b[0m\u001b[0;34m,\u001b[0m \u001b[0minfo\u001b[0m \u001b[0;34m=\u001b[0m \u001b[0mself\u001b[0m\u001b[0;34m.\u001b[0m\u001b[0m_step\u001b[0m\u001b[0;34m(\u001b[0m\u001b[0maction\u001b[0m\u001b[0;34m)\u001b[0m\u001b[0;34m\u001b[0m\u001b[0;34m\u001b[0m\u001b[0m\n\u001b[0m\u001b[1;32m    111\u001b[0m         \u001b[0;32mreturn\u001b[0m \u001b[0mobservation\u001b[0m\u001b[0;34m,\u001b[0m \u001b[0mreward\u001b[0m\u001b[0;34m,\u001b[0m \u001b[0mdone\u001b[0m\u001b[0;34m,\u001b[0m \u001b[0minfo\u001b[0m\u001b[0;34m\u001b[0m\u001b[0;34m\u001b[0m\u001b[0m\n\u001b[1;32m    112\u001b[0m \u001b[0;34m\u001b[0m\u001b[0m\n",
      "\u001b[0;32m~/anaconda3/envs/miniwob/lib/python3.6/site-packages/universe/wrappers/timer.py\u001b[0m in \u001b[0;36m_step\u001b[0;34m(self, action_n)\u001b[0m\n\u001b[1;32m     18\u001b[0m         \u001b[0mstart\u001b[0m \u001b[0;34m=\u001b[0m \u001b[0mtime\u001b[0m\u001b[0;34m.\u001b[0m\u001b[0mtime\u001b[0m\u001b[0;34m(\u001b[0m\u001b[0;34m)\u001b[0m\u001b[0;34m\u001b[0m\u001b[0;34m\u001b[0m\u001b[0m\n\u001b[1;32m     19\u001b[0m         \u001b[0;32mwith\u001b[0m \u001b[0mpyprofile\u001b[0m\u001b[0;34m.\u001b[0m\u001b[0mpush\u001b[0m\u001b[0;34m(\u001b[0m\u001b[0;34m'vnc_env.Timer.step'\u001b[0m\u001b[0;34m)\u001b[0m\u001b[0;34m:\u001b[0m\u001b[0;34m\u001b[0m\u001b[0;34m\u001b[0m\u001b[0m\n\u001b[0;32m---> 20\u001b[0;31m             \u001b[0mobservation_n\u001b[0m\u001b[0;34m,\u001b[0m \u001b[0mreward_n\u001b[0m\u001b[0;34m,\u001b[0m \u001b[0mdone_n\u001b[0m\u001b[0;34m,\u001b[0m \u001b[0minfo\u001b[0m \u001b[0;34m=\u001b[0m \u001b[0mself\u001b[0m\u001b[0;34m.\u001b[0m\u001b[0menv\u001b[0m\u001b[0;34m.\u001b[0m\u001b[0mstep\u001b[0m\u001b[0;34m(\u001b[0m\u001b[0maction_n\u001b[0m\u001b[0;34m)\u001b[0m\u001b[0;34m\u001b[0m\u001b[0;34m\u001b[0m\u001b[0m\n\u001b[0m\u001b[1;32m     21\u001b[0m \u001b[0;34m\u001b[0m\u001b[0m\n\u001b[1;32m     22\u001b[0m         \u001b[0;31m# Calculate how much time was spent actually doing work\u001b[0m\u001b[0;34m\u001b[0m\u001b[0;34m\u001b[0m\u001b[0;34m\u001b[0m\u001b[0m\n",
      "\u001b[0;32m~/anaconda3/envs/miniwob/lib/python3.6/site-packages/gym/core.py\u001b[0m in \u001b[0;36mstep\u001b[0;34m(self, action)\u001b[0m\n\u001b[1;32m    108\u001b[0m             \u001b[0minfo\u001b[0m \u001b[0;34m(\u001b[0m\u001b[0mdict\u001b[0m\u001b[0;34m)\u001b[0m\u001b[0;34m:\u001b[0m \u001b[0mcontains\u001b[0m \u001b[0mauxiliary\u001b[0m \u001b[0mdiagnostic\u001b[0m \u001b[0minformation\u001b[0m \u001b[0;34m(\u001b[0m\u001b[0mhelpful\u001b[0m \u001b[0;32mfor\u001b[0m \u001b[0mdebugging\u001b[0m\u001b[0;34m,\u001b[0m \u001b[0;32mand\u001b[0m \u001b[0msometimes\u001b[0m \u001b[0mlearning\u001b[0m\u001b[0;34m)\u001b[0m\u001b[0;34m\u001b[0m\u001b[0;34m\u001b[0m\u001b[0m\n\u001b[1;32m    109\u001b[0m         \"\"\"\n\u001b[0;32m--> 110\u001b[0;31m         \u001b[0mobservation\u001b[0m\u001b[0;34m,\u001b[0m \u001b[0mreward\u001b[0m\u001b[0;34m,\u001b[0m \u001b[0mdone\u001b[0m\u001b[0;34m,\u001b[0m \u001b[0minfo\u001b[0m \u001b[0;34m=\u001b[0m \u001b[0mself\u001b[0m\u001b[0;34m.\u001b[0m\u001b[0m_step\u001b[0m\u001b[0;34m(\u001b[0m\u001b[0maction\u001b[0m\u001b[0;34m)\u001b[0m\u001b[0;34m\u001b[0m\u001b[0;34m\u001b[0m\u001b[0m\n\u001b[0m\u001b[1;32m    111\u001b[0m         \u001b[0;32mreturn\u001b[0m \u001b[0mobservation\u001b[0m\u001b[0;34m,\u001b[0m \u001b[0mreward\u001b[0m\u001b[0;34m,\u001b[0m \u001b[0mdone\u001b[0m\u001b[0;34m,\u001b[0m \u001b[0minfo\u001b[0m\u001b[0;34m\u001b[0m\u001b[0;34m\u001b[0m\u001b[0m\n\u001b[1;32m    112\u001b[0m \u001b[0;34m\u001b[0m\u001b[0m\n",
      "\u001b[0;32m~/anaconda3/envs/miniwob/lib/python3.6/site-packages/universe/wrappers/render.py\u001b[0m in \u001b[0;36m_step\u001b[0;34m(self, action_n)\u001b[0m\n\u001b[1;32m     28\u001b[0m \u001b[0;34m\u001b[0m\u001b[0m\n\u001b[1;32m     29\u001b[0m     \u001b[0;32mdef\u001b[0m \u001b[0m_step\u001b[0m\u001b[0;34m(\u001b[0m\u001b[0mself\u001b[0m\u001b[0;34m,\u001b[0m \u001b[0maction_n\u001b[0m\u001b[0;34m)\u001b[0m\u001b[0;34m:\u001b[0m\u001b[0;34m\u001b[0m\u001b[0;34m\u001b[0m\u001b[0m\n\u001b[0;32m---> 30\u001b[0;31m         \u001b[0mobservation_n\u001b[0m\u001b[0;34m,\u001b[0m \u001b[0mreward_n\u001b[0m\u001b[0;34m,\u001b[0m \u001b[0mdone_n\u001b[0m\u001b[0;34m,\u001b[0m \u001b[0minfo_n\u001b[0m \u001b[0;34m=\u001b[0m \u001b[0mself\u001b[0m\u001b[0;34m.\u001b[0m\u001b[0menv\u001b[0m\u001b[0;34m.\u001b[0m\u001b[0mstep\u001b[0m\u001b[0;34m(\u001b[0m\u001b[0maction_n\u001b[0m\u001b[0;34m)\u001b[0m\u001b[0;34m\u001b[0m\u001b[0;34m\u001b[0m\u001b[0m\n\u001b[0m\u001b[1;32m     31\u001b[0m         \u001b[0mself\u001b[0m\u001b[0;34m.\u001b[0m\u001b[0m_observation\u001b[0m \u001b[0;34m=\u001b[0m \u001b[0mobservation_n\u001b[0m\u001b[0;34m[\u001b[0m\u001b[0;36m0\u001b[0m\u001b[0;34m]\u001b[0m\u001b[0;34m\u001b[0m\u001b[0;34m\u001b[0m\u001b[0m\n\u001b[1;32m     32\u001b[0m         \u001b[0;32mreturn\u001b[0m \u001b[0mobservation_n\u001b[0m\u001b[0;34m,\u001b[0m \u001b[0mreward_n\u001b[0m\u001b[0;34m,\u001b[0m \u001b[0mdone_n\u001b[0m\u001b[0;34m,\u001b[0m \u001b[0minfo_n\u001b[0m\u001b[0;34m\u001b[0m\u001b[0;34m\u001b[0m\u001b[0m\n",
      "\u001b[0;32m~/anaconda3/envs/miniwob/lib/python3.6/site-packages/gym/core.py\u001b[0m in \u001b[0;36mstep\u001b[0;34m(self, action)\u001b[0m\n\u001b[1;32m    108\u001b[0m             \u001b[0minfo\u001b[0m \u001b[0;34m(\u001b[0m\u001b[0mdict\u001b[0m\u001b[0;34m)\u001b[0m\u001b[0;34m:\u001b[0m \u001b[0mcontains\u001b[0m \u001b[0mauxiliary\u001b[0m \u001b[0mdiagnostic\u001b[0m \u001b[0minformation\u001b[0m \u001b[0;34m(\u001b[0m\u001b[0mhelpful\u001b[0m \u001b[0;32mfor\u001b[0m \u001b[0mdebugging\u001b[0m\u001b[0;34m,\u001b[0m \u001b[0;32mand\u001b[0m \u001b[0msometimes\u001b[0m \u001b[0mlearning\u001b[0m\u001b[0;34m)\u001b[0m\u001b[0;34m\u001b[0m\u001b[0;34m\u001b[0m\u001b[0m\n\u001b[1;32m    109\u001b[0m         \"\"\"\n\u001b[0;32m--> 110\u001b[0;31m         \u001b[0mobservation\u001b[0m\u001b[0;34m,\u001b[0m \u001b[0mreward\u001b[0m\u001b[0;34m,\u001b[0m \u001b[0mdone\u001b[0m\u001b[0;34m,\u001b[0m \u001b[0minfo\u001b[0m \u001b[0;34m=\u001b[0m \u001b[0mself\u001b[0m\u001b[0;34m.\u001b[0m\u001b[0m_step\u001b[0m\u001b[0;34m(\u001b[0m\u001b[0maction\u001b[0m\u001b[0;34m)\u001b[0m\u001b[0;34m\u001b[0m\u001b[0;34m\u001b[0m\u001b[0m\n\u001b[0m\u001b[1;32m    111\u001b[0m         \u001b[0;32mreturn\u001b[0m \u001b[0mobservation\u001b[0m\u001b[0;34m,\u001b[0m \u001b[0mreward\u001b[0m\u001b[0;34m,\u001b[0m \u001b[0mdone\u001b[0m\u001b[0;34m,\u001b[0m \u001b[0minfo\u001b[0m\u001b[0;34m\u001b[0m\u001b[0;34m\u001b[0m\u001b[0m\n\u001b[1;32m    112\u001b[0m \u001b[0;34m\u001b[0m\u001b[0m\n",
      "\u001b[0;32m~/anaconda3/envs/miniwob/lib/python3.6/site-packages/universe/wrappers/throttle.py\u001b[0m in \u001b[0;36m_step\u001b[0;34m(self, action_n)\u001b[0m\n\u001b[1;32m    101\u001b[0m                 \u001b[0mpyprofile\u001b[0m\u001b[0;34m.\u001b[0m\u001b[0mtiming\u001b[0m\u001b[0;34m(\u001b[0m\u001b[0;34m'vnc_env.Throttle.sleep'\u001b[0m\u001b[0;34m,\u001b[0m \u001b[0mdelta\u001b[0m\u001b[0;34m)\u001b[0m\u001b[0;34m\u001b[0m\u001b[0;34m\u001b[0m\u001b[0m\n\u001b[1;32m    102\u001b[0m                 \u001b[0maccum_info\u001b[0m\u001b[0;34m[\u001b[0m\u001b[0;34m'stats.throttle.sleep'\u001b[0m\u001b[0;34m]\u001b[0m \u001b[0;34m+=\u001b[0m \u001b[0mdelta\u001b[0m\u001b[0;34m\u001b[0m\u001b[0;34m\u001b[0m\u001b[0m\n\u001b[0;32m--> 103\u001b[0;31m                 \u001b[0mtime\u001b[0m\u001b[0;34m.\u001b[0m\u001b[0msleep\u001b[0m\u001b[0;34m(\u001b[0m\u001b[0mdelta\u001b[0m\u001b[0;34m)\u001b[0m\u001b[0;34m\u001b[0m\u001b[0;34m\u001b[0m\u001b[0m\n\u001b[0m\u001b[1;32m    104\u001b[0m \u001b[0;34m\u001b[0m\u001b[0m\n\u001b[1;32m    105\u001b[0m                 \u001b[0;31m# We want to merge in the latest reward/done/info so that our\u001b[0m\u001b[0;34m\u001b[0m\u001b[0;34m\u001b[0m\u001b[0;34m\u001b[0m\u001b[0m\n",
      "\u001b[0;31mKeyboardInterrupt\u001b[0m: "
     ]
    }
   ],
   "source": [
    "# sample the env randomly to get required amount of observations\n",
    "TGT_FINAL_COUNT = 10\n",
    "final_obs = []\n",
    "final_rewards = []\n",
    "prev_obs = None\n",
    "\n",
    "while len(final_obs) < TGT_FINAL_COUNT:\n",
    "    act = np.random.randint(140, 220)\n",
    "    obs_n, rw_n, done_n, _ = env.step([act])\n",
    "    if not done_n[0]:\n",
    "        prev_obs = obs_n[0]\n",
    "    elif rw_n[0] > 0.2 and prev_obs is not None:\n",
    "        final_obs.append(prev_obs)\n",
    "        final_rewards.append(rw_n[0])\n",
    "        print(\"Got new obs:\", rw_n[0])\n"
   ]
  },
  {
   "cell_type": "code",
   "execution_count": 371,
   "metadata": {},
   "outputs": [
    {
     "data": {
      "image/png": "[encoded data removed]",
      "text/plain": [
       "<Figure size 432x288 with 2 Axes>"
      ]
     },
     "metadata": {
      "needs_background": "light"
     },
     "output_type": "display_data"
    },
    {
     "data": {
      "text/plain": [
       "(<PIL.Image.Image image mode=RGB size=160x210 at 0x7F376CA3F2B0>,\n",
       " <PIL.Image.Image image mode=L size=160x210 at 0x7F376CA3F518>)"
      ]
     },
     "execution_count": 371,
     "metadata": {},
     "output_type": "execute_result"
    }
   ],
   "source": [
    "get_obs_img(final_obs[0])"
   ]
  },
  {
   "cell_type": "code",
   "execution_count": 348,
   "metadata": {},
   "outputs": [],
   "source": [
    "net = Model(env.observation_space.shape, env.action_space.n).to(DEVICE)\n",
    "tgt_net = ptan.agent.TargetNet(net)\n",
    "\n",
    "parent_selector = ptan.actions.ArgmaxActionSelector()\n",
    "action_selector = ptan.actions.EpsilonGreedyActionSelector(epsilon=INITIAL_EPSILON, selector=parent_selector) \n",
    "agent = ptan.agent.DQNAgent(net, action_selector, device=DEVICE)\n",
    "exp_source = ptan.experience.ExperienceSourceFirstLast(env, agent, gamma=GAMMA, vectorized=True)\n",
    "\n",
    "buffer = ptan.experience.ExperienceReplayBuffer(exp_source, REPLAY_SIZE)\n",
    "optimizer = optim.Adam(net.parameters(), LR)"
   ]
  },
  {
   "cell_type": "code",
   "execution_count": 345,
   "metadata": {},
   "outputs": [
    {
     "ename": "StopIteration",
     "evalue": "",
     "output_type": "error",
     "traceback": [
      "\u001b[0;31m---------------------------------------------------------------------------\u001b[0m",
      "\u001b[0;31mStopIteration\u001b[0m                             Traceback (most recent call last)",
      "\u001b[0;32m<ipython-input-345-3fa3e9c40c38>\u001b[0m in \u001b[0;36m<module>\u001b[0;34m\u001b[0m\n\u001b[1;32m      8\u001b[0m \u001b[0;32mwhile\u001b[0m \u001b[0;32mTrue\u001b[0m\u001b[0;34m:\u001b[0m\u001b[0;34m\u001b[0m\u001b[0;34m\u001b[0m\u001b[0m\n\u001b[1;32m      9\u001b[0m     \u001b[0msteps\u001b[0m \u001b[0;34m+=\u001b[0m \u001b[0;36m1\u001b[0m\u001b[0;34m\u001b[0m\u001b[0;34m\u001b[0m\u001b[0m\n\u001b[0;32m---> 10\u001b[0;31m     \u001b[0mbuffer\u001b[0m\u001b[0;34m.\u001b[0m\u001b[0mpopulate\u001b[0m\u001b[0;34m(\u001b[0m\u001b[0;36m1\u001b[0m\u001b[0;34m)\u001b[0m\u001b[0;34m\u001b[0m\u001b[0;34m\u001b[0m\u001b[0m\n\u001b[0m\u001b[1;32m     11\u001b[0m     \u001b[0mr\u001b[0m \u001b[0;34m=\u001b[0m \u001b[0mexp_source\u001b[0m\u001b[0;34m.\u001b[0m\u001b[0mpop_rewards_steps\u001b[0m\u001b[0;34m(\u001b[0m\u001b[0;34m)\u001b[0m\u001b[0;34m\u001b[0m\u001b[0;34m\u001b[0m\u001b[0m\n\u001b[1;32m     12\u001b[0m     \u001b[0;32mif\u001b[0m \u001b[0mr\u001b[0m\u001b[0;34m:\u001b[0m\u001b[0;34m\u001b[0m\u001b[0;34m\u001b[0m\u001b[0m\n",
      "\u001b[0;32m~/work/ptan/ptan/experience.py\u001b[0m in \u001b[0;36mpopulate\u001b[0;34m(self, samples)\u001b[0m\n\u001b[1;32m    366\u001b[0m         \"\"\"\n\u001b[1;32m    367\u001b[0m         \u001b[0;32mfor\u001b[0m \u001b[0m_\u001b[0m \u001b[0;32min\u001b[0m \u001b[0mrange\u001b[0m\u001b[0;34m(\u001b[0m\u001b[0msamples\u001b[0m\u001b[0;34m)\u001b[0m\u001b[0;34m:\u001b[0m\u001b[0;34m\u001b[0m\u001b[0;34m\u001b[0m\u001b[0m\n\u001b[0;32m--> 368\u001b[0;31m             \u001b[0mentry\u001b[0m \u001b[0;34m=\u001b[0m \u001b[0mnext\u001b[0m\u001b[0;34m(\u001b[0m\u001b[0mself\u001b[0m\u001b[0;34m.\u001b[0m\u001b[0mexperience_source_iter\u001b[0m\u001b[0;34m)\u001b[0m\u001b[0;34m\u001b[0m\u001b[0;34m\u001b[0m\u001b[0m\n\u001b[0m\u001b[1;32m    369\u001b[0m             \u001b[0mself\u001b[0m\u001b[0;34m.\u001b[0m\u001b[0m_add\u001b[0m\u001b[0;34m(\u001b[0m\u001b[0mentry\u001b[0m\u001b[0;34m)\u001b[0m\u001b[0;34m\u001b[0m\u001b[0;34m\u001b[0m\u001b[0m\n\u001b[1;32m    370\u001b[0m \u001b[0;34m\u001b[0m\u001b[0m\n",
      "\u001b[0;31mStopIteration\u001b[0m: "
     ]
    }
   ],
   "source": [
    "episode_rewards = []\n",
    "episode_steps = []\n",
    "losses = []\n",
    "steps = 0\n",
    "last_ts = time.time()\n",
    "last_steps = 0\n",
    "\n",
    "while True:\n",
    "    steps += 1\n",
    "    buffer.populate(1)\n",
    "    r = exp_source.pop_rewards_steps()\n",
    "    if r:\n",
    "        for rw, st in r:\n",
    "            episode_rewards.append(rw)\n",
    "            episode_steps.append(st)\n",
    "        speed = (steps - last_steps) / (time.time() - last_ts)\n",
    "        print(\"%d: Done %d episodes, last 10 means: reward=%.3f, steps=%.3f, speed=%.2f steps/s, eps=%.2f\" % (\n",
    "            steps, len(episode_rewards), np.mean(episode_rewards[-10:]), \n",
    "            np.mean(episode_steps[-10:]), speed, action_selector.epsilon\n",
    "        ))\n",
    "        last_ts = time.time()\n",
    "        last_steps = steps\n",
    "        if np.mean(episode_rewards[-10:]) > 0.9:\n",
    "            print(\"You solved the env! Congrats!\")\n",
    "            break\n",
    "    if len(buffer) < MIN_REPLAY:\n",
    "        continue\n",
    "    batch = buffer.sample(BATCH_SIZE)\n",
    "    state_v, actions_v, ref_q_v = unpack_batch(batch, tgt_net.target_model, gamma=GAMMA, device=DEVICE)\n",
    "    optimizer.zero_grad()\n",
    "    q_v = net(state_v)\n",
    "    q_v = q_v.gather(1, actions_v.unsqueeze(-1)).squeeze(-1)\n",
    "    loss_v = F.mse_loss(q_v, ref_q_v)\n",
    "    loss_v.backward()\n",
    "    optimizer.step()\n",
    "    losses.append(loss_v.item())\n",
    "    \n",
    "    if steps % TGT_SYNC == 0:\n",
    "        print(\"%d: nets synced, mean loss for last 10 steps = %.3f\" % (\n",
    "            steps, np.mean(losses[-10:])))\n",
    "        tgt_net.sync()\n",
    "    action_selector.epsilon = max(FINAL_EPSILON, INITIAL_EPSILON - (steps-MIN_REPLAY) / STEPS_EPSILON)"
   ]
  },
  {
   "cell_type": "markdown",
   "metadata": {},
   "source": [
    "# Click and wait obs transformation"
   ]
  },
  {
   "cell_type": "code",
   "execution_count": 475,
   "metadata": {},
   "outputs": [],
   "source": [
    "class MiniWoBSlowpoke(vectorized.Wrapper):\n",
    "    \"\"\"\n",
    "    Limits the amount of time we can click.\n",
    "    \"\"\"\n",
    "    def __init__(self, env, click_delay: float = 0.5):\n",
    "        super(MiniWoBSlowpoke, self).__init__(env)\n",
    "        self.click_delay = click_delay\n",
    "        self.click_ts = None\n",
    "\n",
    "    def reset(self):\n",
    "        self.click_ts = None\n",
    "        return self.env.reset()\n",
    "    \n",
    "    def step(self, action_n):\n",
    "        # TODO: implement me properly for N environments :)\n",
    "        if self.click_ts is not None:\n",
    "            dt = self.click_delay - (time.time() - self.click_ts)\n",
    "            if dt > 0:\n",
    "                time.sleep(dt)\n",
    "        obs_n, r_n, done_n, info_n = self.env.step(action_n)\n",
    "        if done_n[0]:\n",
    "            self.click_ts = None\n",
    "        else:\n",
    "            self.click_ts = time.time()\n",
    "        return obs_n, r_n, done_n, info_n"
   ]
  },
  {
   "cell_type": "code",
   "execution_count": 476,
   "metadata": {},
   "outputs": [],
   "source": [
    "GAMMA = 0.9\n",
    "REPLAY_SIZE = 10000\n",
    "MIN_REPLAY = 100\n",
    "TGT_SYNC = 100\n",
    "BATCH_SIZE = 16\n",
    "LR = 1e-4\n",
    "DEVICE = \"cuda\"  \n",
    "#DEVICE = \"cpu\"\n",
    "\n",
    "INITIAL_EPSILON = 1.0\n",
    "FINAL_EPSILON = 0.2\n",
    "STEPS_EPSILON = 1000"
   ]
  },
  {
   "cell_type": "code",
   "execution_count": 477,
   "metadata": {},
   "outputs": [
    {
     "name": "stderr",
     "output_type": "stream",
     "text": [
      "[2019-07-08 17:45:19,597] Making new env: wob.mini.ClickDialog-v0\n",
      "/home/shmuma/anaconda3/envs/miniwob/lib/python3.6/site-packages/gym/envs/registration.py:17: PkgResourcesDeprecationWarning: Parameters to load are deprecated.  Call .resolve and .require separately.\n",
      "  result = entry_point.load(False)\n",
      "[2019-07-08 17:45:19,605] Using SoftmaxClickMouse with action_region=(10, 125, 170, 285), noclick_regions=[]\n",
      "[2019-07-08 17:45:19,606] SoftmaxClickMouse noclick regions removed 0 of 256 actions\n",
      "[2019-07-08 17:45:19,608] Using the golang VNC implementation\n",
      "[2019-07-08 17:45:19,609] Using VNCSession arguments: {'encoding': 'tight', 'compress_level': 0, 'fine_quality_level': 100, 'subsample_level': 0, 'start_timeout': 7}. (Customize by running \"env.configure(vnc_kwargs={...})\"\n",
      "[2019-07-08 17:45:19,640] [0] Connecting to environment: vnc://localhost:5900 password=openai. If desired, you can manually connect a VNC viewer, such as TurboVNC. Most environments provide a convenient in-browser VNC client: http://localhost:15900/viewer/?password=openai\n"
     ]
    },
    {
     "name": "stdout",
     "output_type": "stream",
     "text": [
      "Remotes URL: vnc://localhost:5900+15900\n"
     ]
    },
    {
     "name": "stderr",
     "output_type": "stream",
     "text": [
      "[2019-07-08 17:45:36,165] [0:localhost:5900] Sending reset for env_id=wob.mini.ClickDialog-v0 fps=60 episode_id=0\n",
      "[2019-07-08 17:45:36,237] [0:localhost:5900] Initial reset complete: episode_id=1694\n"
     ]
    }
   ],
   "source": [
    "def wrapper_func(env):\n",
    "    env = MiniWoBCropper(env)\n",
    "    env = SoftmaxClickMouse(env)\n",
    "    env = MiniWoBTrackClicks(env)\n",
    "    env = MiniWoBSlowpoke(env)\n",
    "    return env\n",
    "\n",
    "env = make_env(wrapper_func = wrapper_func, fps=5)\n",
    "obs_n = join_env(env);"
   ]
  },
  {
   "cell_type": "code",
   "execution_count": 478,
   "metadata": {},
   "outputs": [
    {
     "name": "stderr",
     "output_type": "stream",
     "text": [
      "[2019-07-08 17:45:38,291] Throttle fell behind by 1.72s; lost 8.58 frames\n"
     ]
    },
    {
     "name": "stdout",
     "output_type": "stream",
     "text": [
      "Got new obs: 0.6103000000000001\n",
      "Got new obs: 0.3291\n",
      "Got new obs: 0.6799000000000001\n",
      "Got new obs: 0.329\n",
      "Got new obs: 0.5579000000000001\n",
      "Got new obs: 0.9306000000000001\n",
      "Got new obs: 0.9308000000000001\n",
      "Got new obs: 0.5079\n",
      "Got new obs: 0.36460000000000004\n",
      "Got new obs: 0.379\n"
     ]
    }
   ],
   "source": [
    "# sample the env randomly to get required amount of observations\n",
    "TGT_FINAL_COUNT = 10\n",
    "final_obs = []\n",
    "final_rewards = []\n",
    "final_acts = []\n",
    "prev_obs = None\n",
    "prev_act = None\n",
    "\n",
    "while len(final_obs) < TGT_FINAL_COUNT:\n",
    "    act = np.random.randint(140, 220)\n",
    "    obs_n, rw_n, done_n, _ = env.step([act])\n",
    "    if not done_n[0]:\n",
    "        prev_obs = obs_n[0]\n",
    "        prev_act = act\n",
    "    elif rw_n[0] > 0.2 and prev_obs is not None:\n",
    "        final_obs.append(prev_obs)\n",
    "        final_rewards.append(rw_n[0])\n",
    "        final_acts.append(prev_act)\n",
    "        print(\"Got new obs:\", rw_n[0])\n"
   ]
  },
  {
   "cell_type": "code",
   "execution_count": 484,
   "metadata": {},
   "outputs": [
    {
     "data": {
      "image/png": "[encoded data removed]",
      "text/plain": [
       "<Figure size 432x288 with 2 Axes>"
      ]
     },
     "metadata": {
      "needs_background": "light"
     },
     "output_type": "display_data"
    },
    {
     "data": {
      "text/plain": [
       "(<PIL.Image.Image image mode=RGB size=160x210 at 0x7F37EAD2F3C8>,\n",
       " <PIL.Image.Image image mode=L size=160x210 at 0x7F37EAE9ACC0>)"
      ]
     },
     "execution_count": 484,
     "metadata": {},
     "output_type": "execute_result"
    }
   ],
   "source": [
    "o = 6\n",
    "get_obs_img(final_obs[o], actions=final_acts[o:o+1])"
   ]
  },
  {
   "cell_type": "markdown",
   "metadata": {},
   "source": [
    "# Check"
   ]
  },
  {
   "cell_type": "code",
   "execution_count": 485,
   "metadata": {},
   "outputs": [],
   "source": [
    "GAMMA = 0.9\n",
    "REPLAY_SIZE = 10000\n",
    "MIN_REPLAY = 100\n",
    "TGT_SYNC = 100\n",
    "BATCH_SIZE = 16\n",
    "LR = 1e-4\n",
    "DEVICE = \"cuda\"  \n",
    "#DEVICE = \"cpu\"\n",
    "\n",
    "INITIAL_EPSILON = 1.0\n",
    "FINAL_EPSILON = 0.2\n",
    "STEPS_EPSILON = 1000"
   ]
  },
  {
   "cell_type": "code",
   "execution_count": 496,
   "metadata": {},
   "outputs": [
    {
     "name": "stderr",
     "output_type": "stream",
     "text": [
      "[2019-07-08 18:49:08,594] Making new env: wob.mini.ClickDialog-v0\n",
      "/home/shmuma/anaconda3/envs/miniwob/lib/python3.6/site-packages/gym/envs/registration.py:17: PkgResourcesDeprecationWarning: Parameters to load are deprecated.  Call .resolve and .require separately.\n",
      "  result = entry_point.load(False)\n",
      "[2019-07-08 18:49:08,596] Using SoftmaxClickMouse with action_region=(10, 125, 170, 285), noclick_regions=[]\n",
      "[2019-07-08 18:49:08,597] SoftmaxClickMouse noclick regions removed 0 of 256 actions\n",
      "[2019-07-08 18:49:08,598] Using the golang VNC implementation\n",
      "[2019-07-08 18:49:08,599] Using VNCSession arguments: {'encoding': 'tight', 'compress_level': 0, 'fine_quality_level': 100, 'subsample_level': 0, 'start_timeout': 7}. (Customize by running \"env.configure(vnc_kwargs={...})\"\n",
      "[2019-07-08 18:49:08,614] [0] Connecting to environment: vnc://localhost:5900 password=openai. If desired, you can manually connect a VNC viewer, such as TurboVNC. Most environments provide a convenient in-browser VNC client: http://localhost:15900/viewer/?password=openai\n"
     ]
    },
    {
     "name": "stdout",
     "output_type": "stream",
     "text": [
      "Remotes URL: vnc://localhost:5900+15900\n"
     ]
    },
    {
     "name": "stderr",
     "output_type": "stream",
     "text": [
      "[2019-07-08 18:49:25,012] [0:localhost:5900] Sending reset for env_id=wob.mini.ClickDialog-v0 fps=60 episode_id=0\n",
      "[2019-07-08 18:49:25,329] [0:localhost:5900] Initial reset complete: episode_id=30\n"
     ]
    }
   ],
   "source": [
    "def wrapper_func(env):\n",
    "    env = MiniWoBCropper(env)\n",
    "    env = SoftmaxClickMouse(env)\n",
    "    env = MiniWoBTrackClicks(env)\n",
    "    env = MiniWoBSlowpoke(env)\n",
    "    return env\n",
    "\n",
    "env = make_env(wrapper_func = wrapper_func, fps=5)\n",
    "obs_n = join_env(env);"
   ]
  },
  {
   "cell_type": "code",
   "execution_count": null,
   "metadata": {},
   "outputs": [],
   "source": []
  },
  {
   "cell_type": "code",
   "execution_count": 400,
   "metadata": {},
   "outputs": [],
   "source": [
    "net = Model(env.observation_space.shape, env.action_space.n).to(DEVICE)\n",
    "tgt_net = ptan.agent.TargetNet(net)\n",
    "\n",
    "parent_selector = ptan.actions.ArgmaxActionSelector()\n",
    "action_selector = ptan.actions.EpsilonGreedyActionSelector(epsilon=INITIAL_EPSILON, selector=parent_selector) \n",
    "agent = ptan.agent.DQNAgent(net, action_selector, device=DEVICE)\n",
    "exp_source = ptan.experience.ExperienceSourceFirstLast(env, agent, gamma=GAMMA, vectorized=True)\n",
    "\n",
    "buffer = ptan.experience.ExperienceReplayBuffer(exp_source, REPLAY_SIZE)\n",
    "optimizer = optim.Adam(net.parameters(), LR)"
   ]
  },
  {
   "cell_type": "code",
   "execution_count": 401,
   "metadata": {},
   "outputs": [
    {
     "name": "stderr",
     "output_type": "stream",
     "text": [
      "[2019-07-08 15:55:09,186] [0:localhost:5900] Sending reset for env_id=wob.mini.ClickDialog-v0 fps=60 episode_id=0\n"
     ]
    },
    {
     "name": "stdout",
     "output_type": "stream",
     "text": [
      "2: Done 1 episodes, last 10 means: reward=-1.000, steps=2.000, speed=0.74 steps/s, eps=1.00\n",
      "21: Done 2 episodes, last 10 means: reward=-1.000, steps=11.000, speed=1.88 steps/s, eps=1.00\n",
      "36: Done 3 episodes, last 10 means: reward=-0.572, steps=12.667, speed=1.86 steps/s, eps=1.00\n",
      "55: Done 4 episodes, last 10 means: reward=-0.679, steps=14.500, speed=1.89 steps/s, eps=1.00\n",
      "75: Done 5 episodes, last 10 means: reward=-0.743, steps=15.800, speed=1.89 steps/s, eps=1.00\n",
      "82: Done 6 episodes, last 10 means: reward=-0.505, steps=14.500, speed=1.73 steps/s, eps=1.00\n",
      "100: nets synced, mean loss for last 10 steps = 0.254\n",
      "102: Done 7 episodes, last 10 means: reward=-0.433, steps=15.429, speed=1.79 steps/s, eps=1.00\n"
     ]
    },
    {
     "name": "stderr",
     "output_type": "stream",
     "text": [
      "[2019-07-08 15:56:08,336] Throttle fell behind by 1.09s; lost 5.46 frames\n"
     ]
    },
    {
     "name": "stdout",
     "output_type": "stream",
     "text": [
      "114: Done 8 episodes, last 10 means: reward=-0.629, steps=15.125, speed=1.13 steps/s, eps=0.99\n",
      "126: Done 9 episodes, last 10 means: reward=-0.670, steps=14.889, speed=1.19 steps/s, eps=0.97\n",
      "139: Done 10 episodes, last 10 means: reward=-0.703, steps=14.800, speed=1.19 steps/s, eps=0.96\n",
      "151: Done 11 episodes, last 10 means: reward=-0.703, steps=15.900, speed=1.19 steps/s, eps=0.95\n",
      "164: Done 12 episodes, last 10 means: reward=-0.703, steps=15.300, speed=1.19 steps/s, eps=0.94\n",
      "176: Done 13 episodes, last 10 means: reward=-0.831, steps=15.000, speed=1.18 steps/s, eps=0.93\n",
      "189: Done 14 episodes, last 10 means: reward=-0.831, steps=14.400, speed=1.19 steps/s, eps=0.91\n",
      "200: nets synced, mean loss for last 10 steps = 0.036\n",
      "201: Done 15 episodes, last 10 means: reward=-0.831, steps=13.600, speed=1.18 steps/s, eps=0.90\n",
      "214: Done 16 episodes, last 10 means: reward=-1.000, steps=14.200, speed=1.19 steps/s, eps=0.89\n",
      "225: Done 17 episodes, last 10 means: reward=-0.988, steps=13.300, speed=1.18 steps/s, eps=0.88\n",
      "237: Done 18 episodes, last 10 means: reward=-0.888, steps=13.300, speed=1.18 steps/s, eps=0.86\n",
      "250: Done 19 episodes, last 10 means: reward=-0.888, steps=13.400, speed=1.19 steps/s, eps=0.85\n",
      "252: Done 20 episodes, last 10 means: reward=-0.708, steps=12.300, speed=0.95 steps/s, eps=0.85\n",
      "264: Done 21 episodes, last 10 means: reward=-0.708, steps=12.300, speed=1.18 steps/s, eps=0.84\n",
      "277: Done 22 episodes, last 10 means: reward=-0.708, steps=12.300, speed=1.19 steps/s, eps=0.82\n",
      "289: Done 23 episodes, last 10 means: reward=-0.708, steps=12.300, speed=1.18 steps/s, eps=0.81\n",
      "300: nets synced, mean loss for last 10 steps = 0.081\n",
      "302: Done 24 episodes, last 10 means: reward=-0.708, steps=12.300, speed=1.19 steps/s, eps=0.80\n",
      "314: Done 25 episodes, last 10 means: reward=-0.708, steps=12.300, speed=1.19 steps/s, eps=0.79\n",
      "327: Done 26 episodes, last 10 means: reward=-0.708, steps=12.300, speed=1.19 steps/s, eps=0.77\n"
     ]
    },
    {
     "name": "stderr",
     "output_type": "stream",
     "text": [
      "[2019-07-08 15:59:26,921] Throttle fell behind by 1.16s; lost 5.82 frames\n"
     ]
    },
    {
     "name": "stdout",
     "output_type": "stream",
     "text": [
      "339: Done 27 episodes, last 10 means: reward=-0.820, steps=12.400, speed=1.09 steps/s, eps=0.76\n",
      "351: Done 29 episodes, last 10 means: reward=-0.522, steps=11.100, speed=1.13 steps/s, eps=0.75\n",
      "363: Done 30 episodes, last 10 means: reward=-0.702, steps=12.100, speed=1.18 steps/s, eps=0.74\n",
      "376: Done 31 episodes, last 10 means: reward=-0.702, steps=12.200, speed=1.19 steps/s, eps=0.72\n",
      "389: Done 32 episodes, last 10 means: reward=-0.702, steps=12.200, speed=1.19 steps/s, eps=0.71\n",
      "400: nets synced, mean loss for last 10 steps = 0.072\n",
      "401: Done 33 episodes, last 10 means: reward=-0.702, steps=12.200, speed=1.19 steps/s, eps=0.70\n",
      "414: Done 34 episodes, last 10 means: reward=-0.702, steps=12.200, speed=1.19 steps/s, eps=0.69\n",
      "426: Done 35 episodes, last 10 means: reward=-0.702, steps=12.200, speed=1.18 steps/s, eps=0.68\n",
      "438: Done 36 episodes, last 10 means: reward=-0.702, steps=12.100, speed=1.19 steps/s, eps=0.66\n",
      "451: Done 37 episodes, last 10 means: reward=-0.702, steps=12.200, speed=1.19 steps/s, eps=0.65\n",
      "463: Done 38 episodes, last 10 means: reward=-0.803, steps=12.200, speed=1.19 steps/s, eps=0.64\n",
      "476: Done 39 episodes, last 10 means: reward=-1.000, steps=13.500, speed=1.19 steps/s, eps=0.62\n",
      "480: Done 40 episodes, last 10 means: reward=-0.830, steps=12.700, speed=1.08 steps/s, eps=0.62\n",
      "492: Done 41 episodes, last 10 means: reward=-0.830, steps=12.600, speed=1.18 steps/s, eps=0.61\n",
      "500: nets synced, mean loss for last 10 steps = 0.103\n",
      "504: Done 42 episodes, last 10 means: reward=-0.830, steps=12.500, speed=1.18 steps/s, eps=0.60\n",
      "517: Done 43 episodes, last 10 means: reward=-0.830, steps=12.600, speed=1.19 steps/s, eps=0.58\n",
      "529: Done 44 episodes, last 10 means: reward=-0.830, steps=12.500, speed=1.19 steps/s, eps=0.57\n",
      "542: Done 45 episodes, last 10 means: reward=-0.830, steps=12.600, speed=1.19 steps/s, eps=0.56\n",
      "555: Done 46 episodes, last 10 means: reward=-0.830, steps=12.700, speed=1.20 steps/s, eps=0.55\n",
      "567: Done 47 episodes, last 10 means: reward=-0.830, steps=12.600, speed=1.19 steps/s, eps=0.53\n",
      "580: Done 48 episodes, last 10 means: reward=-0.830, steps=12.700, speed=1.19 steps/s, eps=0.52\n",
      "592: Done 49 episodes, last 10 means: reward=-0.830, steps=12.600, speed=1.19 steps/s, eps=0.51\n",
      "600: nets synced, mean loss for last 10 steps = 0.130\n",
      "602: Done 50 episodes, last 10 means: reward=-0.876, steps=13.200, speed=1.17 steps/s, eps=0.50\n",
      "614: Done 51 episodes, last 10 means: reward=-0.876, steps=13.200, speed=1.19 steps/s, eps=0.49\n",
      "626: Done 52 episodes, last 10 means: reward=-0.876, steps=13.200, speed=1.19 steps/s, eps=0.47\n",
      "639: Done 53 episodes, last 10 means: reward=-0.876, steps=13.200, speed=1.19 steps/s, eps=0.46\n",
      "652: Done 54 episodes, last 10 means: reward=-0.876, steps=13.300, speed=1.19 steps/s, eps=0.45\n",
      "664: Done 55 episodes, last 10 means: reward=-0.876, steps=13.200, speed=1.19 steps/s, eps=0.44\n",
      "677: Done 56 episodes, last 10 means: reward=-0.876, steps=13.200, speed=1.19 steps/s, eps=0.42\n",
      "689: Done 57 episodes, last 10 means: reward=-0.876, steps=13.200, speed=1.18 steps/s, eps=0.41\n",
      "698: Done 58 episodes, last 10 means: reward=-0.745, steps=12.800, speed=1.17 steps/s, eps=0.40\n",
      "700: nets synced, mean loss for last 10 steps = 0.122\n",
      "710: Done 59 episodes, last 10 means: reward=-0.745, steps=12.800, speed=1.19 steps/s, eps=0.39\n",
      "723: Done 60 episodes, last 10 means: reward=-0.869, steps=13.100, speed=1.19 steps/s, eps=0.38\n",
      "735: Done 61 episodes, last 10 means: reward=-0.869, steps=13.100, speed=1.18 steps/s, eps=0.37\n",
      "747: Done 62 episodes, last 10 means: reward=-0.869, steps=13.100, speed=1.18 steps/s, eps=0.35\n",
      "760: Done 63 episodes, last 10 means: reward=-0.869, steps=13.100, speed=1.18 steps/s, eps=0.34\n",
      "772: Done 64 episodes, last 10 means: reward=-0.869, steps=13.000, speed=1.18 steps/s, eps=0.33\n",
      "785: Done 65 episodes, last 10 means: reward=-0.869, steps=13.100, speed=1.18 steps/s, eps=0.32\n",
      "797: Done 66 episodes, last 10 means: reward=-0.869, steps=13.000, speed=1.18 steps/s, eps=0.30\n",
      "800: nets synced, mean loss for last 10 steps = 0.154\n",
      "801: Done 68 episodes, last 10 means: reward=-0.632, steps=11.300, speed=0.95 steps/s, eps=0.30\n",
      "814: Done 69 episodes, last 10 means: reward=-0.632, steps=11.400, speed=1.19 steps/s, eps=0.29\n",
      "826: Done 70 episodes, last 10 means: reward=-0.632, steps=11.300, speed=1.19 steps/s, eps=0.28\n",
      "839: Done 71 episodes, last 10 means: reward=-0.632, steps=11.400, speed=1.19 steps/s, eps=0.26\n",
      "851: Done 72 episodes, last 10 means: reward=-0.632, steps=11.400, speed=1.24 steps/s, eps=0.25\n",
      "852: Done 73 episodes, last 10 means: reward=-0.444, steps=10.200, speed=0.55 steps/s, eps=0.25\n",
      "865: Done 74 episodes, last 10 means: reward=-0.444, steps=10.300, speed=1.19 steps/s, eps=0.24\n",
      "877: Done 75 episodes, last 10 means: reward=-0.444, steps=10.200, speed=1.18 steps/s, eps=0.22\n",
      "890: Done 76 episodes, last 10 means: reward=-0.444, steps=10.300, speed=1.19 steps/s, eps=0.21\n",
      "900: nets synced, mean loss for last 10 steps = 0.334\n",
      "902: Done 77 episodes, last 10 means: reward=-0.615, steps=11.100, speed=1.19 steps/s, eps=0.20\n",
      "915: Done 78 episodes, last 10 means: reward=-0.812, steps=12.400, speed=1.19 steps/s, eps=0.20\n",
      "927: Done 79 episodes, last 10 means: reward=-0.812, steps=12.300, speed=1.19 steps/s, eps=0.20\n",
      "940: Done 80 episodes, last 10 means: reward=-0.812, steps=12.400, speed=1.19 steps/s, eps=0.20\n",
      "952: Done 81 episodes, last 10 means: reward=-0.812, steps=12.300, speed=1.19 steps/s, eps=0.20\n",
      "965: Done 82 episodes, last 10 means: reward=-0.812, steps=12.400, speed=1.19 steps/s, eps=0.20\n",
      "967: Done 83 episodes, last 10 means: reward=-0.818, steps=12.500, speed=0.95 steps/s, eps=0.20\n",
      "980: Done 84 episodes, last 10 means: reward=-0.818, steps=12.500, speed=1.19 steps/s, eps=0.20\n",
      "992: Done 85 episodes, last 10 means: reward=-0.818, steps=12.500, speed=1.18 steps/s, eps=0.20\n",
      "1000: nets synced, mean loss for last 10 steps = 0.227\n",
      "1005: Done 86 episodes, last 10 means: reward=-0.818, steps=12.500, speed=1.19 steps/s, eps=0.20\n",
      "1017: Done 87 episodes, last 10 means: reward=-0.818, steps=12.500, speed=1.18 steps/s, eps=0.20\n",
      "1029: Done 88 episodes, last 10 means: reward=-0.818, steps=12.400, speed=1.18 steps/s, eps=0.20\n",
      "1042: Done 89 episodes, last 10 means: reward=-0.818, steps=12.500, speed=1.18 steps/s, eps=0.20\n",
      "1054: Done 90 episodes, last 10 means: reward=-0.818, steps=12.400, speed=1.18 steps/s, eps=0.20\n",
      "1066: Done 91 episodes, last 10 means: reward=-0.818, steps=12.400, speed=1.18 steps/s, eps=0.20\n",
      "1079: Done 92 episodes, last 10 means: reward=-0.818, steps=12.400, speed=1.20 steps/s, eps=0.20\n",
      "1092: Done 93 episodes, last 10 means: reward=-1.000, steps=13.500, speed=1.19 steps/s, eps=0.20\n",
      "1100: nets synced, mean loss for last 10 steps = 0.399\n",
      "1104: Done 94 episodes, last 10 means: reward=-1.000, steps=13.400, speed=1.19 steps/s, eps=0.20\n",
      "1116: Done 95 episodes, last 10 means: reward=-1.000, steps=13.400, speed=1.18 steps/s, eps=0.20\n",
      "1129: Done 96 episodes, last 10 means: reward=-1.000, steps=13.400, speed=1.19 steps/s, eps=0.20\n",
      "1141: Done 97 episodes, last 10 means: reward=-1.000, steps=13.400, speed=1.19 steps/s, eps=0.20\n",
      "1154: Done 98 episodes, last 10 means: reward=-1.000, steps=13.500, speed=1.19 steps/s, eps=0.20\n",
      "1166: Done 99 episodes, last 10 means: reward=-1.000, steps=13.400, speed=1.19 steps/s, eps=0.20\n",
      "1179: Done 100 episodes, last 10 means: reward=-1.000, steps=13.500, speed=1.19 steps/s, eps=0.20\n",
      "1191: Done 101 episodes, last 10 means: reward=-1.000, steps=13.500, speed=1.18 steps/s, eps=0.20\n",
      "1200: nets synced, mean loss for last 10 steps = 0.991\n",
      "1204: Done 102 episodes, last 10 means: reward=-1.000, steps=13.500, speed=1.19 steps/s, eps=0.20\n",
      "1209: Done 103 episodes, last 10 means: reward=-0.839, steps=12.700, speed=1.11 steps/s, eps=0.20\n",
      "1221: Done 104 episodes, last 10 means: reward=-0.839, steps=12.700, speed=1.18 steps/s, eps=0.20\n",
      "1233: Done 105 episodes, last 10 means: reward=-0.839, steps=12.700, speed=1.18 steps/s, eps=0.20\n",
      "1246: Done 106 episodes, last 10 means: reward=-0.839, steps=12.700, speed=1.19 steps/s, eps=0.20\n",
      "1259: Done 107 episodes, last 10 means: reward=-0.839, steps=12.800, speed=1.19 steps/s, eps=0.20\n",
      "1271: Done 108 episodes, last 10 means: reward=-0.839, steps=12.700, speed=1.18 steps/s, eps=0.20\n"
     ]
    },
    {
     "name": "stdout",
     "output_type": "stream",
     "text": [
      "1284: Done 109 episodes, last 10 means: reward=-0.839, steps=12.800, speed=1.19 steps/s, eps=0.20\n",
      "1296: Done 110 episodes, last 10 means: reward=-0.839, steps=12.700, speed=1.18 steps/s, eps=0.20\n",
      "1300: nets synced, mean loss for last 10 steps = 0.918\n",
      "1309: Done 111 episodes, last 10 means: reward=-0.839, steps=12.800, speed=1.19 steps/s, eps=0.20\n",
      "1321: Done 112 episodes, last 10 means: reward=-0.839, steps=12.700, speed=1.18 steps/s, eps=0.20\n",
      "1333: Done 113 episodes, last 10 means: reward=-1.000, steps=13.400, speed=1.19 steps/s, eps=0.20\n",
      "1346: Done 114 episodes, last 10 means: reward=-1.000, steps=13.500, speed=1.19 steps/s, eps=0.20\n",
      "1348: Done 115 episodes, last 10 means: reward=-0.817, steps=12.500, speed=0.95 steps/s, eps=0.20\n",
      "1361: Done 116 episodes, last 10 means: reward=-0.717, steps=12.500, speed=1.20 steps/s, eps=0.20\n",
      "1364: Done 117 episodes, last 10 means: reward=-0.536, steps=11.500, speed=1.04 steps/s, eps=0.20\n",
      "1376: Done 118 episodes, last 10 means: reward=-0.536, steps=11.500, speed=1.19 steps/s, eps=0.20\n",
      "1389: Done 119 episodes, last 10 means: reward=-0.536, steps=11.500, speed=1.19 steps/s, eps=0.20\n",
      "1400: nets synced, mean loss for last 10 steps = 1.450\n",
      "1401: Done 120 episodes, last 10 means: reward=-0.536, steps=11.500, speed=1.19 steps/s, eps=0.20\n",
      "1414: Done 121 episodes, last 10 means: reward=-0.536, steps=11.500, speed=1.19 steps/s, eps=0.20\n",
      "1416: Done 122 episodes, last 10 means: reward=-0.355, steps=10.500, speed=0.95 steps/s, eps=0.20\n",
      "1429: Done 123 episodes, last 10 means: reward=-0.355, steps=10.600, speed=1.19 steps/s, eps=0.20\n",
      "1441: Done 124 episodes, last 10 means: reward=-0.355, steps=10.500, speed=1.19 steps/s, eps=0.20\n",
      "1453: Done 125 episodes, last 10 means: reward=-0.538, steps=11.500, speed=1.19 steps/s, eps=0.20\n"
     ]
    },
    {
     "name": "stderr",
     "output_type": "stream",
     "text": [
      "[2019-07-08 16:15:18,017] Throttle fell behind by 1.09s; lost 5.43 frames\n"
     ]
    },
    {
     "name": "stdout",
     "output_type": "stream",
     "text": [
      "1466: Done 126 episodes, last 10 means: reward=-0.638, steps=11.500, speed=1.14 steps/s, eps=0.20\n",
      "1478: Done 127 episodes, last 10 means: reward=-0.819, steps=12.400, speed=1.19 steps/s, eps=0.20\n",
      "1490: Done 128 episodes, last 10 means: reward=-0.819, steps=12.400, speed=1.19 steps/s, eps=0.20\n",
      "1500: nets synced, mean loss for last 10 steps = 0.967\n",
      "1503: Done 129 episodes, last 10 means: reward=-0.819, steps=12.400, speed=1.19 steps/s, eps=0.20\n",
      "1515: Done 130 episodes, last 10 means: reward=-0.819, steps=12.400, speed=1.18 steps/s, eps=0.20\n",
      "1528: Done 131 episodes, last 10 means: reward=-0.819, steps=12.400, speed=1.19 steps/s, eps=0.20\n",
      "1540: Done 132 episodes, last 10 means: reward=-1.000, steps=13.400, speed=1.19 steps/s, eps=0.20\n",
      "1553: Done 133 episodes, last 10 means: reward=-1.000, steps=13.400, speed=1.19 steps/s, eps=0.20\n",
      "1565: Done 134 episodes, last 10 means: reward=-1.000, steps=13.400, speed=1.18 steps/s, eps=0.20\n",
      "1571: Done 135 episodes, last 10 means: reward=-0.843, steps=12.800, speed=1.13 steps/s, eps=0.20\n",
      "1583: Done 136 episodes, last 10 means: reward=-0.843, steps=12.700, speed=1.18 steps/s, eps=0.20\n",
      "1595: Done 137 episodes, last 10 means: reward=-0.843, steps=12.700, speed=1.18 steps/s, eps=0.20\n",
      "1600: nets synced, mean loss for last 10 steps = 2.882\n",
      "1608: Done 138 episodes, last 10 means: reward=-0.843, steps=12.800, speed=1.19 steps/s, eps=0.20\n",
      "1620: Done 139 episodes, last 10 means: reward=-0.843, steps=12.700, speed=1.19 steps/s, eps=0.20\n",
      "1633: Done 140 episodes, last 10 means: reward=-0.843, steps=12.800, speed=1.19 steps/s, eps=0.20\n",
      "1645: Done 141 episodes, last 10 means: reward=-0.843, steps=12.700, speed=1.19 steps/s, eps=0.20\n",
      "1658: Done 142 episodes, last 10 means: reward=-0.843, steps=12.800, speed=1.19 steps/s, eps=0.20\n",
      "1670: Done 143 episodes, last 10 means: reward=-0.843, steps=12.700, speed=1.19 steps/s, eps=0.20\n",
      "1683: Done 144 episodes, last 10 means: reward=-0.843, steps=12.800, speed=1.19 steps/s, eps=0.20\n",
      "1695: Done 145 episodes, last 10 means: reward=-1.000, steps=13.400, speed=1.18 steps/s, eps=0.20\n"
     ]
    },
    {
     "name": "stderr",
     "output_type": "stream",
     "text": [
      "[2019-07-08 16:18:35,467] Throttle fell behind by 1.15s; lost 5.77 frames\n"
     ]
    },
    {
     "name": "stdout",
     "output_type": "stream",
     "text": [
      "1700: nets synced, mean loss for last 10 steps = 3.547\n",
      "1707: Done 146 episodes, last 10 means: reward=-1.000, steps=13.400, speed=1.12 steps/s, eps=0.20\n",
      "1720: Done 147 episodes, last 10 means: reward=-1.000, steps=13.500, speed=1.19 steps/s, eps=0.20\n",
      "1732: Done 148 episodes, last 10 means: reward=-1.000, steps=13.400, speed=1.19 steps/s, eps=0.20\n",
      "1745: Done 149 episodes, last 10 means: reward=-1.000, steps=13.500, speed=1.19 steps/s, eps=0.20\n",
      "1757: Done 150 episodes, last 10 means: reward=-1.000, steps=13.400, speed=1.19 steps/s, eps=0.20\n",
      "1770: Done 151 episodes, last 10 means: reward=-1.000, steps=13.500, speed=1.19 steps/s, eps=0.20\n",
      "1782: Done 152 episodes, last 10 means: reward=-1.000, steps=13.400, speed=1.19 steps/s, eps=0.20\n",
      "1795: Done 153 episodes, last 10 means: reward=-1.000, steps=13.500, speed=1.19 steps/s, eps=0.20\n",
      "1800: nets synced, mean loss for last 10 steps = 2.760\n",
      "1807: Done 154 episodes, last 10 means: reward=-1.000, steps=13.400, speed=1.19 steps/s, eps=0.20\n",
      "1820: Done 155 episodes, last 10 means: reward=-1.000, steps=13.500, speed=1.19 steps/s, eps=0.20\n",
      "1832: Done 156 episodes, last 10 means: reward=-1.000, steps=13.500, speed=1.19 steps/s, eps=0.20\n",
      "1845: Done 157 episodes, last 10 means: reward=-1.000, steps=13.500, speed=1.20 steps/s, eps=0.20\n",
      "1857: Done 158 episodes, last 10 means: reward=-1.000, steps=13.500, speed=1.18 steps/s, eps=0.20\n",
      "1870: Done 159 episodes, last 10 means: reward=-1.000, steps=13.500, speed=1.19 steps/s, eps=0.20\n",
      "1882: Done 160 episodes, last 10 means: reward=-1.000, steps=13.500, speed=1.19 steps/s, eps=0.20\n",
      "1895: Done 161 episodes, last 10 means: reward=-1.000, steps=13.500, speed=1.20 steps/s, eps=0.20\n",
      "1900: nets synced, mean loss for last 10 steps = 5.124\n",
      "1907: Done 162 episodes, last 10 means: reward=-1.000, steps=13.500, speed=1.19 steps/s, eps=0.20\n",
      "1920: Done 163 episodes, last 10 means: reward=-1.000, steps=13.500, speed=1.19 steps/s, eps=0.20\n",
      "1932: Done 164 episodes, last 10 means: reward=-1.000, steps=13.500, speed=1.19 steps/s, eps=0.20\n",
      "1945: Done 165 episodes, last 10 means: reward=-1.000, steps=13.500, speed=1.19 steps/s, eps=0.20\n",
      "1957: Done 166 episodes, last 10 means: reward=-1.000, steps=13.500, speed=1.19 steps/s, eps=0.20\n",
      "1970: Done 167 episodes, last 10 means: reward=-1.000, steps=13.500, speed=1.19 steps/s, eps=0.20\n",
      "1982: Done 168 episodes, last 10 means: reward=-1.000, steps=13.500, speed=1.19 steps/s, eps=0.20\n"
     ]
    },
    {
     "ename": "KeyboardInterrupt",
     "evalue": "",
     "output_type": "error",
     "traceback": [
      "\u001b[0;31m---------------------------------------------------------------------------\u001b[0m",
      "\u001b[0;31mKeyboardInterrupt\u001b[0m                         Traceback (most recent call last)",
      "\u001b[0;32m<ipython-input-401-466a0c642d50>\u001b[0m in \u001b[0;36m<module>\u001b[0;34m\u001b[0m\n\u001b[1;32m     27\u001b[0m         \u001b[0;32mcontinue\u001b[0m\u001b[0;34m\u001b[0m\u001b[0;34m\u001b[0m\u001b[0m\n\u001b[1;32m     28\u001b[0m     \u001b[0mbatch\u001b[0m \u001b[0;34m=\u001b[0m \u001b[0mbuffer\u001b[0m\u001b[0;34m.\u001b[0m\u001b[0msample\u001b[0m\u001b[0;34m(\u001b[0m\u001b[0mBATCH_SIZE\u001b[0m\u001b[0;34m)\u001b[0m\u001b[0;34m\u001b[0m\u001b[0;34m\u001b[0m\u001b[0m\n\u001b[0;32m---> 29\u001b[0;31m     \u001b[0mstate_v\u001b[0m\u001b[0;34m,\u001b[0m \u001b[0mactions_v\u001b[0m\u001b[0;34m,\u001b[0m \u001b[0mref_q_v\u001b[0m \u001b[0;34m=\u001b[0m \u001b[0munpack_batch\u001b[0m\u001b[0;34m(\u001b[0m\u001b[0mbatch\u001b[0m\u001b[0;34m,\u001b[0m \u001b[0mtgt_net\u001b[0m\u001b[0;34m.\u001b[0m\u001b[0mtarget_model\u001b[0m\u001b[0;34m,\u001b[0m \u001b[0mgamma\u001b[0m\u001b[0;34m=\u001b[0m\u001b[0mGAMMA\u001b[0m\u001b[0;34m,\u001b[0m \u001b[0mdevice\u001b[0m\u001b[0;34m=\u001b[0m\u001b[0mDEVICE\u001b[0m\u001b[0;34m)\u001b[0m\u001b[0;34m\u001b[0m\u001b[0;34m\u001b[0m\u001b[0m\n\u001b[0m\u001b[1;32m     30\u001b[0m     \u001b[0moptimizer\u001b[0m\u001b[0;34m.\u001b[0m\u001b[0mzero_grad\u001b[0m\u001b[0;34m(\u001b[0m\u001b[0;34m)\u001b[0m\u001b[0;34m\u001b[0m\u001b[0;34m\u001b[0m\u001b[0m\n\u001b[1;32m     31\u001b[0m     \u001b[0mq_v\u001b[0m \u001b[0;34m=\u001b[0m \u001b[0mnet\u001b[0m\u001b[0;34m(\u001b[0m\u001b[0mstate_v\u001b[0m\u001b[0;34m)\u001b[0m\u001b[0;34m\u001b[0m\u001b[0;34m\u001b[0m\u001b[0m\n",
      "\u001b[0;32m~/anaconda3/envs/miniwob/lib/python3.6/site-packages/torch/autograd/grad_mode.py\u001b[0m in \u001b[0;36mdecorate_no_grad\u001b[0;34m(*args, **kwargs)\u001b[0m\n\u001b[1;32m     41\u001b[0m         \u001b[0;32mdef\u001b[0m \u001b[0mdecorate_no_grad\u001b[0m\u001b[0;34m(\u001b[0m\u001b[0;34m*\u001b[0m\u001b[0margs\u001b[0m\u001b[0;34m,\u001b[0m \u001b[0;34m**\u001b[0m\u001b[0mkwargs\u001b[0m\u001b[0;34m)\u001b[0m\u001b[0;34m:\u001b[0m\u001b[0;34m\u001b[0m\u001b[0;34m\u001b[0m\u001b[0m\n\u001b[1;32m     42\u001b[0m             \u001b[0;32mwith\u001b[0m \u001b[0mself\u001b[0m\u001b[0;34m:\u001b[0m\u001b[0;34m\u001b[0m\u001b[0;34m\u001b[0m\u001b[0m\n\u001b[0;32m---> 43\u001b[0;31m                 \u001b[0;32mreturn\u001b[0m \u001b[0mfunc\u001b[0m\u001b[0;34m(\u001b[0m\u001b[0;34m*\u001b[0m\u001b[0margs\u001b[0m\u001b[0;34m,\u001b[0m \u001b[0;34m**\u001b[0m\u001b[0mkwargs\u001b[0m\u001b[0;34m)\u001b[0m\u001b[0;34m\u001b[0m\u001b[0;34m\u001b[0m\u001b[0m\n\u001b[0m\u001b[1;32m     44\u001b[0m         \u001b[0;32mreturn\u001b[0m \u001b[0mdecorate_no_grad\u001b[0m\u001b[0;34m\u001b[0m\u001b[0;34m\u001b[0m\u001b[0m\n\u001b[1;32m     45\u001b[0m \u001b[0;34m\u001b[0m\u001b[0m\n",
      "\u001b[0;32m<ipython-input-10-422d98b5f252>\u001b[0m in \u001b[0;36munpack_batch\u001b[0;34m(batch, net, gamma, device)\u001b[0m\n\u001b[1;32m     19\u001b[0m     \u001b[0mactions_v\u001b[0m \u001b[0;34m=\u001b[0m \u001b[0mtorch\u001b[0m\u001b[0;34m.\u001b[0m\u001b[0mtensor\u001b[0m\u001b[0;34m(\u001b[0m\u001b[0mactions\u001b[0m\u001b[0;34m)\u001b[0m\u001b[0;34m.\u001b[0m\u001b[0mto\u001b[0m\u001b[0;34m(\u001b[0m\u001b[0mdevice\u001b[0m\u001b[0;34m)\u001b[0m\u001b[0;34m\u001b[0m\u001b[0;34m\u001b[0m\u001b[0m\n\u001b[1;32m     20\u001b[0m     \u001b[0mrewards_v\u001b[0m \u001b[0;34m=\u001b[0m \u001b[0mtorch\u001b[0m\u001b[0;34m.\u001b[0m\u001b[0mtensor\u001b[0m\u001b[0;34m(\u001b[0m\u001b[0mrewards\u001b[0m\u001b[0;34m)\u001b[0m\u001b[0;34m.\u001b[0m\u001b[0mto\u001b[0m\u001b[0;34m(\u001b[0m\u001b[0mdevice\u001b[0m\u001b[0;34m)\u001b[0m\u001b[0;34m\u001b[0m\u001b[0;34m\u001b[0m\u001b[0m\n\u001b[0;32m---> 21\u001b[0;31m     \u001b[0mlast_states_v\u001b[0m \u001b[0;34m=\u001b[0m \u001b[0mtorch\u001b[0m\u001b[0;34m.\u001b[0m\u001b[0mtensor\u001b[0m\u001b[0;34m(\u001b[0m\u001b[0mlast_states\u001b[0m\u001b[0;34m)\u001b[0m\u001b[0;34m.\u001b[0m\u001b[0mto\u001b[0m\u001b[0;34m(\u001b[0m\u001b[0mdevice\u001b[0m\u001b[0;34m)\u001b[0m\u001b[0;34m\u001b[0m\u001b[0;34m\u001b[0m\u001b[0m\n\u001b[0m\u001b[1;32m     22\u001b[0m     \u001b[0mlast_state_q_v\u001b[0m \u001b[0;34m=\u001b[0m \u001b[0mnet\u001b[0m\u001b[0;34m(\u001b[0m\u001b[0mlast_states_v\u001b[0m\u001b[0;34m)\u001b[0m\u001b[0;34m\u001b[0m\u001b[0;34m\u001b[0m\u001b[0m\n\u001b[1;32m     23\u001b[0m     \u001b[0mbest_last_q_v\u001b[0m \u001b[0;34m=\u001b[0m \u001b[0mtorch\u001b[0m\u001b[0;34m.\u001b[0m\u001b[0mmax\u001b[0m\u001b[0;34m(\u001b[0m\u001b[0mlast_state_q_v\u001b[0m\u001b[0;34m,\u001b[0m \u001b[0mdim\u001b[0m\u001b[0;34m=\u001b[0m\u001b[0;36m1\u001b[0m\u001b[0;34m)\u001b[0m\u001b[0;34m[\u001b[0m\u001b[0;36m0\u001b[0m\u001b[0;34m]\u001b[0m\u001b[0;34m\u001b[0m\u001b[0;34m\u001b[0m\u001b[0m\n",
      "\u001b[0;31mKeyboardInterrupt\u001b[0m: "
     ]
    }
   ],
   "source": [
    "episode_rewards = []\n",
    "episode_steps = []\n",
    "losses = []\n",
    "steps = 0\n",
    "last_ts = time.time()\n",
    "last_steps = 0\n",
    "\n",
    "while True:\n",
    "    steps += 1\n",
    "    buffer.populate(1)\n",
    "    r = exp_source.pop_rewards_steps()\n",
    "    if r:\n",
    "        for rw, st in r:\n",
    "            episode_rewards.append(rw)\n",
    "            episode_steps.append(st)\n",
    "        speed = (steps - last_steps) / (time.time() - last_ts)\n",
    "        print(\"%d: Done %d episodes, last 10 means: reward=%.3f, steps=%.3f, speed=%.2f steps/s, eps=%.2f\" % (\n",
    "            steps, len(episode_rewards), np.mean(episode_rewards[-10:]), \n",
    "            np.mean(episode_steps[-10:]), speed, action_selector.epsilon\n",
    "        ))\n",
    "        last_ts = time.time()\n",
    "        last_steps = steps\n",
    "        if np.mean(episode_rewards[-10:]) > 0.9:\n",
    "            print(\"You solved the env! Congrats!\")\n",
    "            break\n",
    "    if len(buffer) < MIN_REPLAY:\n",
    "        continue\n",
    "    batch = buffer.sample(BATCH_SIZE)\n",
    "    state_v, actions_v, ref_q_v = unpack_batch(batch, tgt_net.target_model, gamma=GAMMA, device=DEVICE)\n",
    "    optimizer.zero_grad()\n",
    "    q_v = net(state_v)\n",
    "    q_v = q_v.gather(1, actions_v.unsqueeze(-1)).squeeze(-1)\n",
    "    loss_v = F.mse_loss(q_v, ref_q_v)\n",
    "    loss_v.backward()\n",
    "    optimizer.step()\n",
    "    losses.append(loss_v.item())\n",
    "    \n",
    "    if steps % TGT_SYNC == 0:\n",
    "        print(\"%d: nets synced, mean loss for last 10 steps = %.3f\" % (\n",
    "            steps, np.mean(losses[-10:])))\n",
    "        tgt_net.sync()\n",
    "    action_selector.epsilon = max(FINAL_EPSILON, INITIAL_EPSILON - (steps-MIN_REPLAY) / STEPS_EPSILON)"
   ]
  },
  {
   "cell_type": "code",
   "execution_count": 402,
   "metadata": {},
   "outputs": [
    {
     "name": "stderr",
     "output_type": "stream",
     "text": [
      "[2019-07-08 16:24:26,125] Throttle fell behind by 103.73s; lost 518.64 frames\n"
     ]
    },
    {
     "name": "stdout",
     "output_type": "stream",
     "text": [
      "Got new obs: 0.8988\n",
      "Got new obs: 0.24910000000000002\n",
      "Got new obs: 0.8003\n",
      "Got new obs: 0.797\n",
      "Got new obs: 0.5461\n",
      "Got new obs: 0.5997\n",
      "Got new obs: 0.5496\n",
      "Got new obs: 0.8502000000000001\n",
      "Got new obs: 0.3991\n",
      "Got new obs: 0.7985\n"
     ]
    }
   ],
   "source": [
    "# sample the env randomly to get required amount of observations\n",
    "TGT_FINAL_COUNT = 10\n",
    "final_obs = []\n",
    "final_rewards = []\n",
    "prev_obs = None\n",
    "\n",
    "while len(final_obs) < TGT_FINAL_COUNT:\n",
    "    act = np.random.randint(140, 220)\n",
    "    obs_n, rw_n, done_n, _ = env.step([act])\n",
    "    if not done_n[0]:\n",
    "        prev_obs = obs_n[0]\n",
    "    elif rw_n[0] > 0.2 and prev_obs is not None:\n",
    "        final_obs.append(prev_obs)\n",
    "        final_rewards.append(rw_n[0])\n",
    "        print(\"Got new obs:\", rw_n[0])"
   ]
  },
  {
   "cell_type": "code",
   "execution_count": 411,
   "metadata": {},
   "outputs": [
    {
     "data": {
      "image/png": "[encoded data removed]",
      "text/plain": [
       "<Figure size 432x288 with 2 Axes>"
      ]
     },
     "metadata": {
      "needs_background": "light"
     },
     "output_type": "display_data"
    },
    {
     "data": {
      "text/plain": [
       "(<PIL.Image.Image image mode=RGB size=160x210 at 0x7F37EBA3B240>,\n",
       " <PIL.Image.Image image mode=L size=160x210 at 0x7F37A132B240>)"
      ]
     },
     "execution_count": 411,
     "metadata": {},
     "output_type": "execute_result"
    }
   ],
   "source": [
    "o = 7\n",
    "get_obs_img(final_obs[o], actions=final_acts)"
   ]
  },
  {
   "cell_type": "code",
   "execution_count": 519,
   "metadata": {},
   "outputs": [],
   "source": [
    "GAMMA = 0.9\n",
    "REPLAY_SIZE = 10000\n",
    "MIN_REPLAY = 100\n",
    "TGT_SYNC = 500\n",
    "BATCH_SIZE = 16\n",
    "LR = 1e-4\n",
    "DEVICE = \"cuda\"  \n",
    "#DEVICE = \"cpu\"\n",
    "\n",
    "INITIAL_EPSILON = 1.0\n",
    "FINAL_EPSILON = 0.2\n",
    "STEPS_EPSILON = 5000"
   ]
  },
  {
   "cell_type": "code",
   "execution_count": 520,
   "metadata": {},
   "outputs": [],
   "source": [
    "class Model(nn.Module):\n",
    "    def __init__(self, input_shape, n_actions):\n",
    "        super(Model, self).__init__()\n",
    "\n",
    "        self.conv = nn.Sequential(\n",
    "            nn.Conv2d(input_shape[0], 64, 5, stride=5),\n",
    "            nn.ReLU(),\n",
    "            nn.Conv2d(64, 64, 3, stride=2),\n",
    "            nn.ReLU(),\n",
    "        )\n",
    "\n",
    "        conv_out_size = self._get_conv_out(input_shape)\n",
    "\n",
    "        self.fc = nn.Sequential(\n",
    "            nn.Linear(conv_out_size, n_actions),\n",
    "        )\n",
    "\n",
    "    def _get_conv_out(self, shape):\n",
    "        o = self.conv(torch.zeros(1, *shape))\n",
    "        return int(np.prod(o.size()))\n",
    "\n",
    "    def forward(self, x):\n",
    "        fx = x.float() / 256\n",
    "        conv_out = self.conv(fx).view(fx.size()[0], -1)\n",
    "        return self.fc(conv_out)"
   ]
  },
  {
   "cell_type": "code",
   "execution_count": 521,
   "metadata": {},
   "outputs": [],
   "source": [
    "net = Model(env.observation_space.shape, env.action_space.n).to(DEVICE)\n",
    "tgt_net = ptan.agent.TargetNet(net)\n",
    "\n",
    "parent_selector = ptan.actions.ArgmaxActionSelector()\n",
    "action_selector = ptan.actions.EpsilonGreedyActionSelector(epsilon=INITIAL_EPSILON, selector=parent_selector) \n",
    "agent = ptan.agent.DQNAgent(net, action_selector, device=DEVICE)\n",
    "exp_source = ptan.experience.ExperienceSourceFirstLast(env, agent, gamma=GAMMA, vectorized=True)\n",
    "\n",
    "buffer = ptan.experience.ExperienceReplayBuffer(exp_source, REPLAY_SIZE)\n",
    "optimizer = optim.Adam(net.parameters(), LR)"
   ]
  },
  {
   "cell_type": "code",
   "execution_count": 522,
   "metadata": {},
   "outputs": [
    {
     "name": "stderr",
     "output_type": "stream",
     "text": [
      "[2019-07-08 21:04:14,737] [0:localhost:5900] Sending reset for env_id=wob.mini.ClickDialog-v0 fps=60 episode_id=0\n"
     ]
    },
    {
     "name": "stdout",
     "output_type": "stream",
     "text": [
      "12: Done 1 episodes, last 10 means: reward=0.186, steps=12.000, speed=1.73 steps/s, eps=1.00\n",
      "29: Done 2 episodes, last 10 means: reward=0.182, steps=15.000, speed=1.95 steps/s, eps=1.00\n",
      "49: Done 3 episodes, last 10 means: reward=-0.212, steps=17.000, speed=1.96 steps/s, eps=1.00\n",
      "65: Done 4 episodes, last 10 means: reward=-0.159, steps=17.000, speed=1.95 steps/s, eps=1.00\n",
      "85: Done 5 episodes, last 10 means: reward=-0.327, steps=17.800, speed=1.96 steps/s, eps=1.00\n",
      "100: mean max_q = 0.2760, min_q = -0.2012, mean_q = 0.0069\n",
      "106: Done 6 episodes, last 10 means: reward=-0.439, steps=18.500, speed=1.88 steps/s, eps=1.00\n",
      "124: Done 7 episodes, last 10 means: reward=-0.364, steps=18.571, speed=1.86 steps/s, eps=1.00\n",
      "143: Done 8 episodes, last 10 means: reward=-0.443, steps=18.750, speed=1.86 steps/s, eps=0.99\n",
      "150: mean max_q = 0.3432, min_q = -0.4218, mean_q = 0.0763\n",
      "163: Done 9 episodes, last 10 means: reward=-0.505, steps=19.000, speed=1.88 steps/s, eps=0.99\n",
      "182: Done 10 episodes, last 10 means: reward=-0.555, steps=19.100, speed=1.80 steps/s, eps=0.98\n",
      "199: Done 11 episodes, last 10 means: reward=-0.558, steps=19.700, speed=1.86 steps/s, eps=0.98\n",
      "200: mean max_q = 0.4512, min_q = -0.7163, mean_q = 0.1028\n",
      "201: Done 12 episodes, last 10 means: reward=-0.488, steps=18.200, speed=1.16 steps/s, eps=0.98\n",
      "220: Done 13 episodes, last 10 means: reward=-0.488, steps=18.100, speed=1.87 steps/s, eps=0.98\n",
      "240: Done 14 episodes, last 10 means: reward=-0.588, steps=18.500, speed=1.88 steps/s, eps=0.97\n",
      "245: Done 15 episodes, last 10 means: reward=-0.412, steps=17.000, speed=1.59 steps/s, eps=0.97\n",
      "250: mean max_q = 0.3686, min_q = -0.8189, mean_q = 0.1226\n",
      "265: Done 16 episodes, last 10 means: reward=-0.412, steps=16.900, speed=1.88 steps/s, eps=0.97\n",
      "270: Done 17 episodes, last 10 means: reward=-0.349, steps=15.600, speed=1.59 steps/s, eps=0.97\n",
      "289: Done 18 episodes, last 10 means: reward=-0.349, steps=15.600, speed=1.87 steps/s, eps=0.96\n",
      "295: Done 19 episodes, last 10 means: reward=-0.177, steps=14.200, speed=1.65 steps/s, eps=0.96\n",
      "300: mean max_q = 0.4933, min_q = -0.7848, mean_q = 0.1161\n",
      "314: Done 20 episodes, last 10 means: reward=-0.177, steps=14.200, speed=1.87 steps/s, eps=0.96\n",
      "334: Done 21 episodes, last 10 means: reward=-0.291, steps=14.500, speed=1.97 steps/s, eps=0.95\n",
      "335: Done 22 episodes, last 10 means: reward=-0.284, steps=14.400, speed=0.76 steps/s, eps=0.95\n",
      "339: Done 23 episodes, last 10 means: reward=-0.102, steps=12.900, speed=1.52 steps/s, eps=0.95\n",
      "348: Done 24 episodes, last 10 means: reward=0.051, steps=11.800, speed=1.94 steps/s, eps=0.95\n",
      "349: Done 25 episodes, last 10 means: reward=0.070, steps=11.400, speed=0.76 steps/s, eps=0.95\n",
      "350: mean max_q = 0.5266, min_q = -0.8503, mean_q = 0.1448\n",
      "359: Done 26 episodes, last 10 means: reward=0.222, steps=10.400, speed=1.77 steps/s, eps=0.95\n",
      "365: Done 27 episodes, last 10 means: reward=0.218, steps=10.500, speed=1.64 steps/s, eps=0.95\n",
      "369: Done 28 episodes, last 10 means: reward=0.397, steps=9.000, speed=1.52 steps/s, eps=0.95\n",
      "389: Done 29 episodes, last 10 means: reward=0.224, steps=10.400, speed=1.88 steps/s, eps=0.94\n",
      "400: mean max_q = 0.5572, min_q = -0.6914, mean_q = 0.1216\n",
      "408: Done 30 episodes, last 10 means: reward=0.224, steps=10.400, speed=1.88 steps/s, eps=0.94\n",
      "428: Done 31 episodes, last 10 means: reward=0.224, steps=10.400, speed=1.88 steps/s, eps=0.93\n",
      "448: Done 32 episodes, last 10 means: reward=0.028, steps=12.300, speed=1.88 steps/s, eps=0.93\n",
      "450: mean max_q = 0.6365, min_q = -0.6533, mean_q = 0.1510\n",
      "467: Done 33 episodes, last 10 means: reward=-0.153, steps=13.800, speed=1.88 steps/s, eps=0.93\n",
      "487: Done 34 episodes, last 10 means: reward=-0.307, steps=14.900, speed=1.88 steps/s, eps=0.92\n",
      "500: mean max_q = 0.6866, min_q = -0.6898, mean_q = 0.1581\n",
      "500: nets synced, mean loss for last 10 steps = 0.012\n",
      "507: Done 35 episodes, last 10 means: reward=-0.501, steps=16.800, speed=1.88 steps/s, eps=0.92\n",
      "527: Done 36 episodes, last 10 means: reward=-0.653, steps=17.800, speed=1.88 steps/s, eps=0.91\n",
      "546: Done 37 episodes, last 10 means: reward=-0.821, steps=19.100, speed=1.88 steps/s, eps=0.91\n",
      "550: mean max_q = 0.8527, min_q = -1.0478, mean_q = 0.4027\n",
      "566: Done 38 episodes, last 10 means: reward=-1.000, steps=20.700, speed=1.88 steps/s, eps=0.91\n",
      "586: Done 39 episodes, last 10 means: reward=-1.000, steps=20.700, speed=1.88 steps/s, eps=0.90\n",
      "600: mean max_q = 0.7903, min_q = -0.6334, mean_q = 0.4051\n",
      "606: Done 40 episodes, last 10 means: reward=-1.000, steps=20.800, speed=1.97 steps/s, eps=0.90\n",
      "607: Done 41 episodes, last 10 means: reward=-0.806, steps=18.900, speed=0.76 steps/s, eps=0.90\n",
      "627: Done 42 episodes, last 10 means: reward=-0.806, steps=18.900, speed=1.88 steps/s, eps=0.89\n",
      "647: Done 43 episodes, last 10 means: reward=-0.806, steps=19.000, speed=1.88 steps/s, eps=0.89\n",
      "650: mean max_q = 0.8379, min_q = -0.6751, mean_q = 0.4367\n",
      "666: Done 44 episodes, last 10 means: reward=-0.806, steps=18.900, speed=1.88 steps/s, eps=0.89\n",
      "686: Done 45 episodes, last 10 means: reward=-0.806, steps=18.900, speed=1.88 steps/s, eps=0.88\n",
      "700: mean max_q = 0.8311, min_q = -0.6601, mean_q = 0.4548\n",
      "706: Done 46 episodes, last 10 means: reward=-0.806, steps=18.900, speed=1.88 steps/s, eps=0.88\n",
      "726: Done 47 episodes, last 10 means: reward=-0.806, steps=19.000, speed=1.88 steps/s, eps=0.88\n",
      "745: Done 48 episodes, last 10 means: reward=-0.806, steps=18.900, speed=1.88 steps/s, eps=0.87\n",
      "750: mean max_q = 0.7567, min_q = -0.4329, mean_q = 0.4204\n",
      "765: Done 49 episodes, last 10 means: reward=-0.806, steps=18.900, speed=1.86 steps/s, eps=0.87\n",
      "785: Done 50 episodes, last 10 means: reward=-0.806, steps=18.900, speed=1.88 steps/s, eps=0.86\n",
      "800: mean max_q = 0.7903, min_q = -0.3691, mean_q = 0.4508\n",
      "805: Done 51 episodes, last 10 means: reward=-1.000, steps=20.800, speed=1.88 steps/s, eps=0.86\n",
      "824: Done 52 episodes, last 10 means: reward=-1.000, steps=20.700, speed=1.88 steps/s, eps=0.86\n",
      "844: Done 53 episodes, last 10 means: reward=-1.000, steps=20.700, speed=1.88 steps/s, eps=0.85\n",
      "850: mean max_q = 0.8545, min_q = -0.4537, mean_q = 0.4536\n",
      "864: Done 54 episodes, last 10 means: reward=-1.000, steps=20.800, speed=1.88 steps/s, eps=0.85\n",
      "884: Done 55 episodes, last 10 means: reward=-1.000, steps=20.800, speed=1.88 steps/s, eps=0.84\n",
      "899: Done 56 episodes, last 10 means: reward=-0.876, steps=20.300, speed=1.85 steps/s, eps=0.84\n",
      "900: mean max_q = 0.8323, min_q = -0.2200, mean_q = 0.4742\n",
      "919: Done 57 episodes, last 10 means: reward=-0.876, steps=20.300, speed=1.88 steps/s, eps=0.84\n",
      "924: Done 58 episodes, last 10 means: reward=-0.703, steps=18.900, speed=1.61 steps/s, eps=0.84\n",
      "943: Done 59 episodes, last 10 means: reward=-0.703, steps=18.800, speed=1.88 steps/s, eps=0.83\n",
      "948: Done 60 episodes, last 10 means: reward=-0.525, steps=17.300, speed=1.61 steps/s, eps=0.83\n",
      "950: mean max_q = 0.8088, min_q = -0.2351, mean_q = 0.4509\n",
      "967: Done 61 episodes, last 10 means: reward=-0.525, steps=17.200, speed=1.88 steps/s, eps=0.83\n",
      "987: Done 62 episodes, last 10 means: reward=-0.525, steps=17.300, speed=1.97 steps/s, eps=0.82\n",
      "988: Done 63 episodes, last 10 means: reward=-0.329, steps=15.400, speed=0.77 steps/s, eps=0.82\n",
      "1000: mean max_q = 0.8016, min_q = -0.1879, mean_q = 0.4654\n",
      "1000: nets synced, mean loss for last 10 steps = 0.012\n",
      "1008: Done 64 episodes, last 10 means: reward=-0.329, steps=15.400, speed=1.88 steps/s, eps=0.82\n",
      "1028: Done 65 episodes, last 10 means: reward=-0.329, steps=15.400, speed=1.88 steps/s, eps=0.81\n",
      "1047: Done 66 episodes, last 10 means: reward=-0.453, steps=15.800, speed=1.88 steps/s, eps=0.81\n",
      "1050: mean max_q = 1.0210, min_q = -0.1987, mean_q = 0.6142\n",
      "1067: Done 67 episodes, last 10 means: reward=-0.453, steps=15.800, speed=1.88 steps/s, eps=0.81\n",
      "1087: Done 68 episodes, last 10 means: reward=-0.625, steps=17.300, speed=1.88 steps/s, eps=0.80\n",
      "1100: mean max_q = 1.0212, min_q = -0.1403, mean_q = 0.6116\n",
      "1107: Done 69 episodes, last 10 means: reward=-0.625, steps=17.400, speed=1.88 steps/s, eps=0.80\n",
      "1127: Done 70 episodes, last 10 means: reward=-0.803, steps=18.900, speed=1.88 steps/s, eps=0.79\n",
      "1144: Done 71 episodes, last 10 means: reward=-0.689, steps=18.700, speed=1.86 steps/s, eps=0.79\n",
      "1150: mean max_q = 1.0095, min_q = -0.1716, mean_q = 0.6182\n"
     ]
    },
    {
     "name": "stdout",
     "output_type": "stream",
     "text": [
      "1163: Done 72 episodes, last 10 means: reward=-0.689, steps=18.600, speed=1.88 steps/s, eps=0.79\n",
      "1183: Done 73 episodes, last 10 means: reward=-0.886, steps=20.500, speed=1.88 steps/s, eps=0.78\n",
      "1200: mean max_q = 0.9937, min_q = -0.1728, mean_q = 0.6121\n",
      "1203: Done 74 episodes, last 10 means: reward=-0.886, steps=20.500, speed=1.87 steps/s, eps=0.78\n",
      "1223: Done 75 episodes, last 10 means: reward=-0.886, steps=20.500, speed=1.88 steps/s, eps=0.78\n",
      "1225: Done 76 episodes, last 10 means: reward=-0.697, steps=18.800, speed=1.25 steps/s, eps=0.78\n",
      "1244: Done 77 episodes, last 10 means: reward=-0.697, steps=18.700, speed=1.88 steps/s, eps=0.77\n",
      "1250: mean max_q = 0.8763, min_q = -0.3456, mean_q = 0.5731\n",
      "1264: Done 78 episodes, last 10 means: reward=-0.697, steps=18.700, speed=1.88 steps/s, eps=0.77\n",
      "1284: Done 79 episodes, last 10 means: reward=-0.697, steps=18.700, speed=1.88 steps/s, eps=0.76\n",
      "1300: mean max_q = 0.8907, min_q = -0.3759, mean_q = 0.5874\n",
      "1304: Done 80 episodes, last 10 means: reward=-0.697, steps=18.700, speed=1.88 steps/s, eps=0.76\n",
      "1323: Done 81 episodes, last 10 means: reward=-0.811, steps=18.900, speed=1.88 steps/s, eps=0.76\n",
      "1343: Done 82 episodes, last 10 means: reward=-0.811, steps=19.000, speed=1.88 steps/s, eps=0.75\n",
      "1350: mean max_q = 0.9233, min_q = -0.3552, mean_q = 0.5849\n",
      "1363: Done 83 episodes, last 10 means: reward=-0.811, steps=19.000, speed=1.88 steps/s, eps=0.75\n",
      "1383: Done 84 episodes, last 10 means: reward=-0.811, steps=19.000, speed=1.88 steps/s, eps=0.74\n",
      "1400: mean max_q = 0.9848, min_q = -0.4695, mean_q = 0.6256\n",
      "1402: Done 85 episodes, last 10 means: reward=-0.811, steps=18.900, speed=1.86 steps/s, eps=0.74\n",
      "1416: Done 86 episodes, last 10 means: reward=-0.868, steps=20.100, speed=1.83 steps/s, eps=0.74\n",
      "1435: Done 87 episodes, last 10 means: reward=-0.868, steps=20.100, speed=1.88 steps/s, eps=0.73\n",
      "1450: mean max_q = 0.9370, min_q = -0.5418, mean_q = 0.6228\n",
      "1455: Done 88 episodes, last 10 means: reward=-0.868, steps=20.100, speed=1.88 steps/s, eps=0.73\n",
      "1468: Done 89 episodes, last 10 means: reward=-0.731, steps=19.400, speed=1.83 steps/s, eps=0.73\n",
      "1487: Done 90 episodes, last 10 means: reward=-0.731, steps=19.300, speed=1.88 steps/s, eps=0.72\n",
      "1493: Done 91 episodes, last 10 means: reward=-0.559, steps=18.000, speed=1.66 steps/s, eps=0.72\n",
      "1500: mean max_q = 0.9070, min_q = -0.5400, mean_q = 0.6026\n",
      "1500: nets synced, mean loss for last 10 steps = 0.038\n",
      "1512: Done 92 episodes, last 10 means: reward=-0.559, steps=17.900, speed=1.87 steps/s, eps=0.72\n",
      "1532: Done 93 episodes, last 10 means: reward=-0.559, steps=17.900, speed=1.88 steps/s, eps=0.71\n",
      "1550: mean max_q = 1.1093, min_q = -0.6011, mean_q = 0.7372\n",
      "1552: Done 94 episodes, last 10 means: reward=-0.559, steps=17.900, speed=1.87 steps/s, eps=0.71\n",
      "1555: Done 95 episodes, last 10 means: reward=-0.374, steps=16.300, speed=1.87 steps/s, eps=0.71\n",
      "1556: Done 96 episodes, last 10 means: reward=-0.312, steps=15.000, speed=0.77 steps/s, eps=0.71\n",
      "1571: Done 97 episodes, last 10 means: reward=-0.186, steps=14.600, speed=1.85 steps/s, eps=0.71\n",
      "1590: Done 98 episodes, last 10 means: reward=-0.186, steps=14.500, speed=1.97 steps/s, eps=0.70\n",
      "1591: Done 99 episodes, last 10 means: reward=-0.124, steps=13.300, speed=0.77 steps/s, eps=0.70\n",
      "1600: mean max_q = 1.0627, min_q = -0.6060, mean_q = 0.7262\n",
      "1611: Done 100 episodes, last 10 means: reward=-0.124, steps=13.400, speed=1.88 steps/s, eps=0.70\n",
      "1631: Done 101 episodes, last 10 means: reward=-0.297, steps=14.800, speed=1.88 steps/s, eps=0.69\n",
      "1650: mean max_q = 1.1331, min_q = -0.6226, mean_q = 0.7784\n",
      "1651: Done 102 episodes, last 10 means: reward=-0.297, steps=14.900, speed=1.87 steps/s, eps=0.69\n",
      "1670: Done 103 episodes, last 10 means: reward=-0.297, steps=14.800, speed=1.88 steps/s, eps=0.69\n",
      "1690: Done 104 episodes, last 10 means: reward=-0.297, steps=14.800, speed=1.88 steps/s, eps=0.68\n",
      "1700: mean max_q = 1.0444, min_q = -0.4158, mean_q = 0.7116\n",
      "1710: Done 105 episodes, last 10 means: reward=-0.481, steps=16.500, speed=1.88 steps/s, eps=0.68\n",
      "1729: Done 106 episodes, last 10 means: reward=-0.675, steps=18.300, speed=1.87 steps/s, eps=0.67\n",
      "1734: Done 107 episodes, last 10 means: reward=-0.624, steps=17.300, speed=1.60 steps/s, eps=0.67\n",
      "1742: Done 108 episodes, last 10 means: reward=-0.466, steps=16.200, speed=1.73 steps/s, eps=0.67\n",
      "1750: mean max_q = 1.0137, min_q = -0.4923, mean_q = 0.7063\n",
      "1761: Done 109 episodes, last 10 means: reward=-0.663, steps=18.000, speed=1.88 steps/s, eps=0.67\n",
      "1781: Done 110 episodes, last 10 means: reward=-0.663, steps=18.000, speed=1.88 steps/s, eps=0.66\n",
      "1786: Done 111 episodes, last 10 means: reward=-0.487, steps=16.500, speed=1.61 steps/s, eps=0.66\n",
      "1800: mean max_q = 1.0367, min_q = -0.5060, mean_q = 0.7155\n",
      "1805: Done 112 episodes, last 10 means: reward=-0.487, steps=16.400, speed=1.88 steps/s, eps=0.66\n",
      "1825: Done 113 episodes, last 10 means: reward=-0.487, steps=16.500, speed=1.88 steps/s, eps=0.66\n",
      "1828: Done 114 episodes, last 10 means: reward=-0.300, steps=14.800, speed=1.42 steps/s, eps=0.65\n",
      "1847: Done 115 episodes, last 10 means: reward=-0.300, steps=14.700, speed=1.88 steps/s, eps=0.65\n",
      "1850: mean max_q = 1.0643, min_q = -0.5400, mean_q = 0.7637\n",
      "1867: Done 116 episodes, last 10 means: reward=-0.300, steps=14.800, speed=1.88 steps/s, eps=0.65\n",
      "1887: Done 117 episodes, last 10 means: reward=-0.478, steps=16.300, speed=1.88 steps/s, eps=0.64\n",
      "1900: mean max_q = 0.9975, min_q = -0.5112, mean_q = 0.7130\n",
      "1907: Done 118 episodes, last 10 means: reward=-0.637, steps=17.500, speed=1.88 steps/s, eps=0.64\n",
      "1926: Done 119 episodes, last 10 means: reward=-0.637, steps=17.500, speed=1.88 steps/s, eps=0.64\n",
      "1946: Done 120 episodes, last 10 means: reward=-0.637, steps=17.500, speed=1.88 steps/s, eps=0.63\n",
      "1950: mean max_q = 1.0270, min_q = -0.4841, mean_q = 0.7448\n",
      "1966: Done 121 episodes, last 10 means: reward=-0.814, steps=19.000, speed=1.88 steps/s, eps=0.63\n",
      "1986: Done 122 episodes, last 10 means: reward=-0.814, steps=19.100, speed=1.88 steps/s, eps=0.62\n",
      "2000: mean max_q = 0.9662, min_q = -0.0890, mean_q = 0.6991\n",
      "2000: nets synced, mean loss for last 10 steps = 0.056\n",
      "2005: Done 123 episodes, last 10 means: reward=-0.814, steps=19.000, speed=1.88 steps/s, eps=0.62\n",
      "2025: Done 124 episodes, last 10 means: reward=-1.000, steps=20.700, speed=1.88 steps/s, eps=0.62\n",
      "2033: Done 125 episodes, last 10 means: reward=-0.838, steps=19.600, speed=1.74 steps/s, eps=0.61\n",
      "2050: mean max_q = 1.1958, min_q = -0.1063, mean_q = 0.8124\n",
      "2052: Done 126 episodes, last 10 means: reward=-0.838, steps=19.500, speed=1.86 steps/s, eps=0.61\n",
      "2072: Done 127 episodes, last 10 means: reward=-0.838, steps=19.500, speed=1.88 steps/s, eps=0.61\n",
      "2092: Done 128 episodes, last 10 means: reward=-0.838, steps=19.500, speed=1.88 steps/s, eps=0.60\n",
      "2100: mean max_q = 1.1496, min_q = 0.0601, mean_q = 0.8382\n",
      "2112: Done 129 episodes, last 10 means: reward=-0.838, steps=19.600, speed=1.88 steps/s, eps=0.60\n",
      "2131: Done 130 episodes, last 10 means: reward=-0.838, steps=19.500, speed=1.88 steps/s, eps=0.59\n",
      "2150: mean max_q = 1.1460, min_q = -0.0257, mean_q = 0.8164\n",
      "2151: Done 131 episodes, last 10 means: reward=-0.838, steps=19.500, speed=1.86 steps/s, eps=0.59\n",
      "2171: Done 132 episodes, last 10 means: reward=-0.838, steps=19.500, speed=1.88 steps/s, eps=0.59\n",
      "2190: Done 133 episodes, last 10 means: reward=-0.838, steps=19.500, speed=1.88 steps/s, eps=0.58\n",
      "2200: mean max_q = 1.0911, min_q = -0.0354, mean_q = 0.7973\n",
      "2210: Done 134 episodes, last 10 means: reward=-0.838, steps=19.500, speed=1.88 steps/s, eps=0.58\n",
      "2213: Done 135 episodes, last 10 means: reward=-0.813, steps=19.000, speed=1.42 steps/s, eps=0.58\n",
      "2233: Done 136 episodes, last 10 means: reward=-0.813, steps=19.100, speed=1.88 steps/s, eps=0.57\n",
      "2250: mean max_q = 1.1643, min_q = 0.0708, mean_q = 0.8097\n",
      "2252: Done 137 episodes, last 10 means: reward=-0.813, steps=19.000, speed=1.86 steps/s, eps=0.57\n",
      "2272: Done 138 episodes, last 10 means: reward=-0.813, steps=19.000, speed=1.88 steps/s, eps=0.57\n",
      "2292: Done 139 episodes, last 10 means: reward=-0.813, steps=19.000, speed=1.88 steps/s, eps=0.56\n",
      "2300: mean max_q = 1.1853, min_q = 0.1877, mean_q = 0.8564\n",
      "2311: Done 140 episodes, last 10 means: reward=-0.813, steps=19.000, speed=1.88 steps/s, eps=0.56\n"
     ]
    },
    {
     "name": "stdout",
     "output_type": "stream",
     "text": [
      "2321: Done 141 episodes, last 10 means: reward=-0.661, steps=18.000, speed=1.78 steps/s, eps=0.56\n",
      "2340: Done 142 episodes, last 10 means: reward=-0.661, steps=17.900, speed=1.88 steps/s, eps=0.55\n",
      "2350: mean max_q = 1.1348, min_q = 0.1954, mean_q = 0.8339\n",
      "2360: Done 143 episodes, last 10 means: reward=-0.661, steps=18.000, speed=1.88 steps/s, eps=0.55\n",
      "2363: Done 144 episodes, last 10 means: reward=-0.474, steps=16.300, speed=1.43 steps/s, eps=0.55\n",
      "2382: Done 145 episodes, last 10 means: reward=-0.661, steps=17.900, speed=1.88 steps/s, eps=0.54\n",
      "2400: mean max_q = 1.1271, min_q = 0.1563, mean_q = 0.7979\n",
      "2402: Done 146 episodes, last 10 means: reward=-0.661, steps=17.900, speed=1.87 steps/s, eps=0.54\n",
      "2422: Done 147 episodes, last 10 means: reward=-0.661, steps=18.000, speed=1.88 steps/s, eps=0.54\n",
      "2437: Done 148 episodes, last 10 means: reward=-0.536, steps=17.500, speed=1.85 steps/s, eps=0.53\n",
      "2450: mean max_q = 1.0696, min_q = 0.1851, mean_q = 0.7862\n",
      "2457: Done 149 episodes, last 10 means: reward=-0.536, steps=17.500, speed=1.88 steps/s, eps=0.53\n",
      "2473: Done 150 episodes, last 10 means: reward=-0.418, steps=17.200, speed=1.86 steps/s, eps=0.53\n",
      "2476: Done 151 episodes, last 10 means: reward=-0.386, steps=16.500, speed=1.43 steps/s, eps=0.53\n",
      "2482: Done 152 episodes, last 10 means: reward=-0.217, steps=15.200, speed=1.67 steps/s, eps=0.52\n",
      "2500: mean max_q = 1.0819, min_q = 0.1734, mean_q = 0.7777\n",
      "2500: nets synced, mean loss for last 10 steps = 0.026\n",
      "2501: Done 153 episodes, last 10 means: reward=-0.217, steps=15.100, speed=1.86 steps/s, eps=0.52\n",
      "2521: Done 154 episodes, last 10 means: reward=-0.404, steps=16.800, speed=1.88 steps/s, eps=0.52\n",
      "2541: Done 155 episodes, last 10 means: reward=-0.404, steps=16.900, speed=1.88 steps/s, eps=0.51\n",
      "2550: mean max_q = 1.2401, min_q = 0.1021, mean_q = 0.9046\n",
      "2561: Done 156 episodes, last 10 means: reward=-0.404, steps=16.900, speed=1.88 steps/s, eps=0.51\n",
      "2580: Done 157 episodes, last 10 means: reward=-0.404, steps=16.800, speed=1.88 steps/s, eps=0.50\n",
      "2600: Done 158 episodes, last 10 means: reward=-0.529, steps=17.300, speed=1.88 steps/s, eps=0.50\n",
      "2600: mean max_q = 1.3225, min_q = 0.1025, mean_q = 0.9253\n",
      "2620: Done 159 episodes, last 10 means: reward=-0.529, steps=17.300, speed=1.88 steps/s, eps=0.50\n",
      "2628: Done 160 episodes, last 10 means: reward=-0.487, steps=16.500, speed=1.74 steps/s, eps=0.49\n",
      "2638: Done 161 episodes, last 10 means: reward=-0.522, steps=17.200, speed=1.78 steps/s, eps=0.49\n",
      "2650: mean max_q = 1.3100, min_q = 0.1549, mean_q = 0.9433\n",
      "2657: Done 162 episodes, last 10 means: reward=-0.691, steps=18.500, speed=1.88 steps/s, eps=0.49\n",
      "2677: Done 163 episodes, last 10 means: reward=-0.691, steps=18.600, speed=1.88 steps/s, eps=0.48\n",
      "2697: Done 164 episodes, last 10 means: reward=-0.691, steps=18.600, speed=1.88 steps/s, eps=0.48\n",
      "2700: mean max_q = 1.3600, min_q = 0.1369, mean_q = 0.9056\n",
      "2717: Done 165 episodes, last 10 means: reward=-0.691, steps=18.600, speed=1.88 steps/s, eps=0.48\n",
      "2737: Done 166 episodes, last 10 means: reward=-0.691, steps=18.600, speed=1.88 steps/s, eps=0.47\n",
      "2750: mean max_q = 1.2921, min_q = 0.0943, mean_q = 0.8735\n",
      "2756: Done 167 episodes, last 10 means: reward=-0.691, steps=18.600, speed=1.88 steps/s, eps=0.47\n",
      "2776: Done 168 episodes, last 10 means: reward=-0.691, steps=18.600, speed=1.88 steps/s, eps=0.46\n",
      "2785: Done 169 episodes, last 10 means: reward=-0.535, steps=17.500, speed=1.76 steps/s, eps=0.46\n",
      "2800: mean max_q = 1.3212, min_q = 0.1097, mean_q = 0.9207\n",
      "2804: Done 170 episodes, last 10 means: reward=-0.695, steps=18.600, speed=1.87 steps/s, eps=0.46\n",
      "2824: Done 171 episodes, last 10 means: reward=-0.844, steps=19.600, speed=1.88 steps/s, eps=0.46\n",
      "2844: Done 172 episodes, last 10 means: reward=-0.844, steps=19.700, speed=1.88 steps/s, eps=0.45\n",
      "2850: mean max_q = 1.2479, min_q = 0.1086, mean_q = 0.8880\n",
      "2864: Done 173 episodes, last 10 means: reward=-0.844, steps=19.700, speed=1.88 steps/s, eps=0.45\n",
      "2884: Done 174 episodes, last 10 means: reward=-0.844, steps=19.700, speed=1.88 steps/s, eps=0.44\n",
      "2900: mean max_q = 1.2316, min_q = 0.1195, mean_q = 0.9001\n",
      "2903: Done 175 episodes, last 10 means: reward=-0.844, steps=19.600, speed=1.87 steps/s, eps=0.44\n",
      "2923: Done 176 episodes, last 10 means: reward=-0.844, steps=19.600, speed=1.88 steps/s, eps=0.44\n",
      "2943: Done 177 episodes, last 10 means: reward=-0.844, steps=19.700, speed=1.88 steps/s, eps=0.43\n",
      "2950: mean max_q = 1.2218, min_q = 0.1073, mean_q = 0.8722\n",
      "2963: Done 178 episodes, last 10 means: reward=-0.844, steps=19.700, speed=1.88 steps/s, eps=0.43\n",
      "2982: Done 179 episodes, last 10 means: reward=-1.000, steps=20.700, speed=1.88 steps/s, eps=0.42\n",
      "3000: mean max_q = 1.2035, min_q = 0.0896, mean_q = 0.8566\n",
      "3000: nets synced, mean loss for last 10 steps = 0.067\n",
      "3002: Done 180 episodes, last 10 means: reward=-1.000, steps=20.800, speed=1.87 steps/s, eps=0.42\n",
      "3022: Done 181 episodes, last 10 means: reward=-1.000, steps=20.800, speed=1.88 steps/s, eps=0.42\n",
      "3042: Done 183 episodes, last 10 means: reward=-0.801, steps=18.800, speed=1.85 steps/s, eps=0.41\n",
      "3044: Done 184 episodes, last 10 means: reward=-0.609, steps=17.000, speed=1.25 steps/s, eps=0.41\n",
      "3050: mean max_q = 1.4446, min_q = 0.1227, mean_q = 1.0079\n",
      "3064: Done 185 episodes, last 10 means: reward=-0.609, steps=17.100, speed=1.88 steps/s, eps=0.41\n",
      "3083: Done 186 episodes, last 10 means: reward=-0.609, steps=17.000, speed=1.88 steps/s, eps=0.40\n",
      "3100: mean max_q = 1.3857, min_q = 0.1081, mean_q = 0.9870\n",
      "3103: Done 187 episodes, last 10 means: reward=-0.609, steps=17.000, speed=1.88 steps/s, eps=0.40\n",
      "3123: Done 188 episodes, last 10 means: reward=-0.609, steps=17.000, speed=1.88 steps/s, eps=0.40\n",
      "3143: Done 189 episodes, last 10 means: reward=-0.609, steps=17.100, speed=1.88 steps/s, eps=0.39\n",
      "3150: mean max_q = 1.4019, min_q = 0.0880, mean_q = 0.9634\n",
      "3162: Done 190 episodes, last 10 means: reward=-0.609, steps=17.000, speed=1.88 steps/s, eps=0.39\n",
      "3182: Done 191 episodes, last 10 means: reward=-0.609, steps=17.000, speed=1.88 steps/s, eps=0.38\n",
      "3200: mean max_q = 1.3671, min_q = 0.0958, mean_q = 0.9435\n",
      "3202: Done 192 episodes, last 10 means: reward=-0.609, steps=17.000, speed=1.87 steps/s, eps=0.38\n",
      "3221: Done 193 episodes, last 10 means: reward=-0.808, steps=18.900, speed=1.88 steps/s, eps=0.38\n",
      "3241: Done 194 episodes, last 10 means: reward=-1.000, steps=20.700, speed=1.88 steps/s, eps=0.37\n",
      "3250: mean max_q = 1.4352, min_q = 0.1137, mean_q = 1.0127\n",
      "3261: Done 195 episodes, last 10 means: reward=-1.000, steps=20.700, speed=1.88 steps/s, eps=0.37\n",
      "3281: Done 196 episodes, last 10 means: reward=-1.000, steps=20.800, speed=1.88 steps/s, eps=0.36\n",
      "3300: Done 197 episodes, last 10 means: reward=-1.000, steps=20.700, speed=1.88 steps/s, eps=0.36\n",
      "3300: mean max_q = 1.3847, min_q = 0.2772, mean_q = 0.9910\n",
      "3320: Done 198 episodes, last 10 means: reward=-1.000, steps=20.700, speed=1.88 steps/s, eps=0.36\n",
      "3340: Done 199 episodes, last 10 means: reward=-1.000, steps=20.700, speed=1.88 steps/s, eps=0.35\n",
      "3350: mean max_q = 1.3542, min_q = 0.2852, mean_q = 0.9612\n",
      "3360: Done 200 episodes, last 10 means: reward=-1.000, steps=20.800, speed=1.88 steps/s, eps=0.35\n",
      "3380: Done 201 episodes, last 10 means: reward=-1.000, steps=20.800, speed=1.88 steps/s, eps=0.34\n",
      "3387: Done 202 episodes, last 10 means: reward=-0.836, steps=19.500, speed=1.70 steps/s, eps=0.34\n",
      "3400: mean max_q = 1.4151, min_q = 0.3709, mean_q = 1.0123\n",
      "3406: Done 203 episodes, last 10 means: reward=-0.836, steps=19.500, speed=1.88 steps/s, eps=0.34\n",
      "3414: Done 204 episodes, last 10 means: reward=-0.673, steps=18.300, speed=1.74 steps/s, eps=0.34\n",
      "3424: Done 205 episodes, last 10 means: reward=-0.524, steps=17.300, speed=1.78 steps/s, eps=0.34\n",
      "3432: Done 206 episodes, last 10 means: reward=-0.365, steps=16.100, speed=1.74 steps/s, eps=0.33\n",
      "3450: mean max_q = 1.4360, min_q = 0.2890, mean_q = 0.9910\n",
      "3452: Done 207 episodes, last 10 means: reward=-0.365, steps=16.200, speed=1.87 steps/s, eps=0.33\n",
      "3471: Done 208 episodes, last 10 means: reward=-0.365, steps=16.100, speed=1.88 steps/s, eps=0.33\n",
      "3491: Done 209 episodes, last 10 means: reward=-0.365, steps=16.100, speed=1.88 steps/s, eps=0.32\n",
      "3500: mean max_q = 1.4329, min_q = 0.2887, mean_q = 0.9884\n",
      "3500: nets synced, mean loss for last 10 steps = 0.067\n"
     ]
    },
    {
     "name": "stdout",
     "output_type": "stream",
     "text": [
      "3510: Done 210 episodes, last 10 means: reward=-0.365, steps=16.000, speed=1.88 steps/s, eps=0.32\n",
      "3522: Done 211 episodes, last 10 means: reward=-0.222, steps=15.200, speed=1.82 steps/s, eps=0.32\n",
      "3541: Done 212 episodes, last 10 means: reward=-0.385, steps=16.400, speed=1.88 steps/s, eps=0.31\n",
      "3550: mean max_q = 1.6026, min_q = 0.3198, mean_q = 1.1223\n",
      "3561: Done 213 episodes, last 10 means: reward=-0.385, steps=16.500, speed=1.88 steps/s, eps=0.31\n",
      "3581: Done 214 episodes, last 10 means: reward=-0.548, steps=17.700, speed=1.88 steps/s, eps=0.30\n",
      "3600: mean max_q = 1.5576, min_q = 0.3656, mean_q = 1.1048\n",
      "3601: Done 215 episodes, last 10 means: reward=-0.697, steps=18.700, speed=1.87 steps/s, eps=0.30\n",
      "3620: Done 216 episodes, last 10 means: reward=-0.856, steps=19.800, speed=1.88 steps/s, eps=0.30\n",
      "3640: Done 217 episodes, last 10 means: reward=-0.856, steps=19.800, speed=1.88 steps/s, eps=0.29\n",
      "3650: mean max_q = 1.6304, min_q = 0.4083, mean_q = 1.1614\n",
      "3660: Done 218 episodes, last 10 means: reward=-0.856, steps=19.900, speed=1.88 steps/s, eps=0.29\n",
      "3680: Done 219 episodes, last 10 means: reward=-0.856, steps=19.900, speed=1.88 steps/s, eps=0.28\n",
      "3700: Done 220 episodes, last 10 means: reward=-0.856, steps=20.000, speed=1.88 steps/s, eps=0.28\n",
      "3700: mean max_q = 1.5337, min_q = 0.3539, mean_q = 1.1065\n",
      "3703: Done 221 episodes, last 10 means: reward=-0.817, steps=19.100, speed=1.37 steps/s, eps=0.28\n",
      "3722: Done 222 episodes, last 10 means: reward=-0.817, steps=19.100, speed=1.88 steps/s, eps=0.28\n",
      "3742: Done 223 episodes, last 10 means: reward=-0.817, steps=19.100, speed=1.88 steps/s, eps=0.27\n",
      "3750: mean max_q = 1.5661, min_q = 0.3812, mean_q = 1.1182\n",
      "3762: Done 224 episodes, last 10 means: reward=-0.817, steps=19.100, speed=1.88 steps/s, eps=0.27\n",
      "3782: Done 225 episodes, last 10 means: reward=-0.817, steps=19.100, speed=1.88 steps/s, eps=0.26\n",
      "3800: mean max_q = 1.5338, min_q = 0.3986, mean_q = 1.0934\n",
      "3801: Done 226 episodes, last 10 means: reward=-0.817, steps=19.100, speed=1.86 steps/s, eps=0.26\n",
      "3821: Done 227 episodes, last 10 means: reward=-0.817, steps=19.100, speed=1.88 steps/s, eps=0.26\n",
      "3841: Done 228 episodes, last 10 means: reward=-0.817, steps=19.100, speed=1.88 steps/s, eps=0.25\n",
      "3850: mean max_q = 1.4857, min_q = 0.3279, mean_q = 1.0482\n",
      "3861: Done 229 episodes, last 10 means: reward=-0.817, steps=19.100, speed=1.88 steps/s, eps=0.25\n",
      "3880: Done 230 episodes, last 10 means: reward=-0.817, steps=19.000, speed=1.83 steps/s, eps=0.24\n",
      "3900: Done 231 episodes, last 10 means: reward=-1.000, steps=20.700, speed=1.88 steps/s, eps=0.24\n",
      "3900: mean max_q = 1.5592, min_q = 0.3758, mean_q = 1.1107\n",
      "3919: Done 232 episodes, last 10 means: reward=-1.000, steps=20.700, speed=1.88 steps/s, eps=0.24\n",
      "3927: Done 233 episodes, last 10 means: reward=-0.838, steps=19.500, speed=1.73 steps/s, eps=0.23\n",
      "3947: Done 234 episodes, last 10 means: reward=-0.838, steps=19.500, speed=1.88 steps/s, eps=0.23\n",
      "3950: mean max_q = 1.5781, min_q = 0.4151, mean_q = 1.1436\n",
      "3966: Done 235 episodes, last 10 means: reward=-0.838, steps=19.400, speed=1.88 steps/s, eps=0.23\n",
      "3986: Done 236 episodes, last 10 means: reward=-0.838, steps=19.500, speed=1.88 steps/s, eps=0.22\n",
      "4000: mean max_q = 1.5557, min_q = 0.3752, mean_q = 1.1266\n",
      "4000: nets synced, mean loss for last 10 steps = 0.093\n",
      "4006: Done 237 episodes, last 10 means: reward=-0.838, steps=19.500, speed=1.88 steps/s, eps=0.22\n",
      "4026: Done 238 episodes, last 10 means: reward=-0.838, steps=19.500, speed=1.88 steps/s, eps=0.21\n",
      "4046: Done 239 episodes, last 10 means: reward=-0.838, steps=19.500, speed=1.86 steps/s, eps=0.21\n",
      "4050: mean max_q = 1.8083, min_q = 0.4852, mean_q = 1.3133\n",
      "4065: Done 240 episodes, last 10 means: reward=-0.838, steps=19.500, speed=1.88 steps/s, eps=0.21\n",
      "4085: Done 241 episodes, last 10 means: reward=-0.838, steps=19.500, speed=1.88 steps/s, eps=0.20\n",
      "4100: mean max_q = 1.8301, min_q = 0.4446, mean_q = 1.2914\n",
      "4104: Done 242 episodes, last 10 means: reward=-0.838, steps=19.500, speed=1.88 steps/s, eps=0.20\n",
      "4124: Done 243 episodes, last 10 means: reward=-1.000, steps=20.700, speed=1.88 steps/s, eps=0.20\n",
      "4128: Done 244 episodes, last 10 means: reward=-0.819, steps=19.100, speed=1.53 steps/s, eps=0.20\n",
      "4148: Done 245 episodes, last 10 means: reward=-0.819, steps=19.200, speed=1.88 steps/s, eps=0.20\n",
      "4150: mean max_q = 1.8283, min_q = 0.4957, mean_q = 1.3087\n",
      "4166: Done 246 episodes, last 10 means: reward=-0.711, steps=19.000, speed=1.87 steps/s, eps=0.20\n",
      "4185: Done 247 episodes, last 10 means: reward=-0.711, steps=18.900, speed=1.88 steps/s, eps=0.20\n",
      "4200: mean max_q = 1.7805, min_q = 0.4585, mean_q = 1.2165\n",
      "4205: Done 248 episodes, last 10 means: reward=-0.711, steps=18.900, speed=1.88 steps/s, eps=0.20\n",
      "4225: Done 249 episodes, last 10 means: reward=-0.711, steps=18.900, speed=1.88 steps/s, eps=0.20\n",
      "4245: Done 250 episodes, last 10 means: reward=-0.711, steps=19.000, speed=1.88 steps/s, eps=0.20\n",
      "4250: mean max_q = 1.8222, min_q = 0.5547, mean_q = 1.2800\n",
      "4264: Done 251 episodes, last 10 means: reward=-0.711, steps=18.900, speed=1.87 steps/s, eps=0.20\n",
      "4284: Done 252 episodes, last 10 means: reward=-0.711, steps=19.000, speed=1.88 steps/s, eps=0.20\n",
      "4300: mean max_q = 1.7935, min_q = 0.5342, mean_q = 1.3120\n",
      "4304: Done 253 episodes, last 10 means: reward=-0.711, steps=19.000, speed=1.88 steps/s, eps=0.20\n",
      "4324: Done 254 episodes, last 10 means: reward=-0.892, steps=20.600, speed=1.88 steps/s, eps=0.20\n"
     ]
    },
    {
     "name": "stderr",
     "output_type": "stream",
     "text": [
      "[2019-07-08 21:42:57,263] Throttle fell behind by 1.21s; lost 6.03 frames\n"
     ]
    },
    {
     "name": "stdout",
     "output_type": "stream",
     "text": [
      "4342: Done 255 episodes, last 10 means: reward=-0.892, steps=20.400, speed=1.71 steps/s, eps=0.20\n",
      "4350: mean max_q = 1.7835, min_q = 0.5404, mean_q = 1.2961\n",
      "4361: Done 256 episodes, last 10 means: reward=-1.000, steps=20.500, speed=1.88 steps/s, eps=0.20\n",
      "4381: Done 257 episodes, last 10 means: reward=-1.000, steps=20.600, speed=1.88 steps/s, eps=0.20\n",
      "4400: mean max_q = 1.7429, min_q = 0.5102, mean_q = 1.2526\n",
      "4401: Done 258 episodes, last 10 means: reward=-1.000, steps=20.600, speed=1.96 steps/s, eps=0.20\n",
      "4402: Done 259 episodes, last 10 means: reward=-0.805, steps=18.700, speed=0.76 steps/s, eps=0.20\n",
      "4422: Done 260 episodes, last 10 means: reward=-0.805, steps=18.700, speed=1.88 steps/s, eps=0.20\n",
      "4442: Done 261 episodes, last 10 means: reward=-0.805, steps=18.800, speed=1.88 steps/s, eps=0.20\n",
      "4450: mean max_q = 1.6931, min_q = 0.5274, mean_q = 1.2495\n",
      "4462: Done 262 episodes, last 10 means: reward=-0.805, steps=18.800, speed=1.88 steps/s, eps=0.20\n",
      "4481: Done 263 episodes, last 10 means: reward=-0.805, steps=18.700, speed=1.88 steps/s, eps=0.20\n",
      "4500: mean max_q = 1.7320, min_q = 0.5051, mean_q = 1.2633\n",
      "4500: nets synced, mean loss for last 10 steps = 0.117\n",
      "4501: Done 264 episodes, last 10 means: reward=-0.805, steps=18.700, speed=1.87 steps/s, eps=0.20\n",
      "4521: Done 265 episodes, last 10 means: reward=-0.805, steps=18.900, speed=1.88 steps/s, eps=0.20\n",
      "4541: Done 266 episodes, last 10 means: reward=-0.805, steps=19.000, speed=1.88 steps/s, eps=0.20\n",
      "4543: Done 267 episodes, last 10 means: reward=-0.617, steps=17.200, speed=1.25 steps/s, eps=0.20\n",
      "4550: mean max_q = 2.0439, min_q = 0.6558, mean_q = 1.4882\n",
      "4563: Done 268 episodes, last 10 means: reward=-0.617, steps=17.200, speed=1.88 steps/s, eps=0.20\n",
      "4582: Done 269 episodes, last 10 means: reward=-0.812, steps=19.000, speed=1.88 steps/s, eps=0.20\n",
      "4600: mean max_q = 1.9914, min_q = 0.5935, mean_q = 1.4249\n",
      "4602: Done 270 episodes, last 10 means: reward=-0.812, steps=19.000, speed=1.87 steps/s, eps=0.20\n",
      "4621: Done 271 episodes, last 10 means: reward=-0.812, steps=18.900, speed=1.88 steps/s, eps=0.20\n",
      "4641: Done 272 episodes, last 10 means: reward=-0.812, steps=18.900, speed=1.88 steps/s, eps=0.20\n",
      "4650: mean max_q = 2.0148, min_q = 0.6019, mean_q = 1.4726\n",
      "4661: Done 273 episodes, last 10 means: reward=-0.812, steps=19.000, speed=1.88 steps/s, eps=0.20\n",
      "4672: Done 274 episodes, last 10 means: reward=-0.666, steps=18.100, speed=1.80 steps/s, eps=0.20\n",
      "4692: Done 275 episodes, last 10 means: reward=-0.666, steps=18.100, speed=1.88 steps/s, eps=0.20\n",
      "4700: mean max_q = 1.9995, min_q = 0.5038, mean_q = 1.4319\n",
      "4711: Done 276 episodes, last 10 means: reward=-0.666, steps=18.000, speed=1.88 steps/s, eps=0.20\n",
      "4717: Done 277 episodes, last 10 means: reward=-0.682, steps=18.400, speed=1.66 steps/s, eps=0.20\n",
      "4737: Done 278 episodes, last 10 means: reward=-0.682, steps=18.400, speed=1.88 steps/s, eps=0.20\n",
      "4750: mean max_q = 1.9436, min_q = 0.5606, mean_q = 1.4219\n",
      "4756: Done 279 episodes, last 10 means: reward=-0.682, steps=18.400, speed=1.88 steps/s, eps=0.20\n",
      "4776: Done 280 episodes, last 10 means: reward=-0.682, steps=18.400, speed=1.88 steps/s, eps=0.20\n",
      "4796: Done 281 episodes, last 10 means: reward=-0.682, steps=18.500, speed=1.88 steps/s, eps=0.20\n",
      "4800: mean max_q = 2.0051, min_q = 0.6634, mean_q = 1.4698\n",
      "4816: Done 282 episodes, last 10 means: reward=-0.682, steps=18.500, speed=1.88 steps/s, eps=0.20\n",
      "4836: Done 283 episodes, last 10 means: reward=-0.682, steps=18.500, speed=1.88 steps/s, eps=0.20\n",
      "4850: mean max_q = 1.9119, min_q = 0.6349, mean_q = 1.4099\n",
      "4855: Done 284 episodes, last 10 means: reward=-0.828, steps=19.300, speed=1.88 steps/s, eps=0.20\n",
      "4860: Done 285 episodes, last 10 means: reward=-0.652, steps=17.800, speed=1.61 steps/s, eps=0.20\n",
      "4876: Done 286 episodes, last 10 means: reward=-0.533, steps=17.500, speed=1.86 steps/s, eps=0.20\n",
      "4895: Done 287 episodes, last 10 means: reward=-0.705, steps=18.800, speed=1.88 steps/s, eps=0.20\n",
      "4900: mean max_q = 1.9556, min_q = 0.6041, mean_q = 1.4153\n",
      "4915: Done 288 episodes, last 10 means: reward=-0.705, steps=18.800, speed=1.88 steps/s, eps=0.20\n",
      "4935: Done 289 episodes, last 10 means: reward=-0.705, steps=18.900, speed=1.88 steps/s, eps=0.20\n",
      "4950: mean max_q = 2.0005, min_q = 0.5944, mean_q = 1.4145\n",
      "4951: Done 290 episodes, last 10 means: reward=-0.584, steps=18.500, speed=1.84 steps/s, eps=0.20\n",
      "4970: Done 291 episodes, last 10 means: reward=-0.584, steps=18.400, speed=1.88 steps/s, eps=0.20\n",
      "4990: Done 292 episodes, last 10 means: reward=-0.584, steps=18.400, speed=1.88 steps/s, eps=0.20\n",
      "5000: mean max_q = 1.9091, min_q = 0.5679, mean_q = 1.3755\n",
      "5000: nets synced, mean loss for last 10 steps = 0.251\n",
      "5010: Done 293 episodes, last 10 means: reward=-0.584, steps=18.400, speed=1.88 steps/s, eps=0.20\n",
      "5030: Done 294 episodes, last 10 means: reward=-0.584, steps=18.500, speed=1.88 steps/s, eps=0.20\n",
      "5049: Done 295 episodes, last 10 means: reward=-0.760, steps=19.900, speed=1.88 steps/s, eps=0.20\n",
      "5050: mean max_q = 2.2000, min_q = 0.7013, mean_q = 1.5734\n",
      "5069: Done 296 episodes, last 10 means: reward=-0.879, steps=20.300, speed=1.88 steps/s, eps=0.20\n",
      "5089: Done 297 episodes, last 10 means: reward=-0.879, steps=20.400, speed=1.88 steps/s, eps=0.20\n",
      "5100: mean max_q = 2.2458, min_q = 0.6595, mean_q = 1.6041\n",
      "5109: Done 298 episodes, last 10 means: reward=-0.879, steps=20.400, speed=1.88 steps/s, eps=0.20\n",
      "5128: Done 299 episodes, last 10 means: reward=-0.879, steps=20.300, speed=1.88 steps/s, eps=0.20\n",
      "5148: Done 300 episodes, last 10 means: reward=-1.000, steps=20.700, speed=1.88 steps/s, eps=0.20\n",
      "5150: mean max_q = 2.1848, min_q = 0.6947, mean_q = 1.5696\n",
      "5166: Done 301 episodes, last 10 means: reward=-0.889, steps=20.600, speed=1.87 steps/s, eps=0.20\n",
      "5185: Done 302 episodes, last 10 means: reward=-0.889, steps=20.500, speed=1.88 steps/s, eps=0.20\n",
      "5200: mean max_q = 2.2471, min_q = 0.8099, mean_q = 1.6299\n",
      "5205: Done 303 episodes, last 10 means: reward=-0.889, steps=20.500, speed=1.88 steps/s, eps=0.20\n",
      "5225: Done 304 episodes, last 10 means: reward=-0.889, steps=20.500, speed=1.88 steps/s, eps=0.20\n",
      "5245: Done 305 episodes, last 10 means: reward=-0.889, steps=20.600, speed=1.88 steps/s, eps=0.20\n",
      "5250: mean max_q = 2.2586, min_q = 0.7635, mean_q = 1.5570\n",
      "5265: Done 306 episodes, last 10 means: reward=-0.889, steps=20.600, speed=1.88 steps/s, eps=0.20\n",
      "5284: Done 307 episodes, last 10 means: reward=-0.889, steps=20.500, speed=1.88 steps/s, eps=0.20\n",
      "5300: mean max_q = 2.2524, min_q = 0.7794, mean_q = 1.6392\n",
      "5304: Done 308 episodes, last 10 means: reward=-0.889, steps=20.500, speed=1.88 steps/s, eps=0.20\n",
      "5324: Done 309 episodes, last 10 means: reward=-0.889, steps=20.600, speed=1.86 steps/s, eps=0.20\n",
      "5343: Done 310 episodes, last 10 means: reward=-0.889, steps=20.500, speed=1.88 steps/s, eps=0.20\n",
      "5350: mean max_q = 2.1751, min_q = 0.8485, mean_q = 1.6304\n",
      "5363: Done 311 episodes, last 10 means: reward=-1.000, steps=20.700, speed=1.88 steps/s, eps=0.20\n",
      "5383: Done 312 episodes, last 10 means: reward=-1.000, steps=20.800, speed=1.88 steps/s, eps=0.20\n",
      "5400: mean max_q = 2.1819, min_q = 0.6643, mean_q = 1.5303\n",
      "5403: Done 313 episodes, last 10 means: reward=-1.000, steps=20.800, speed=1.88 steps/s, eps=0.20\n",
      "5423: Done 314 episodes, last 10 means: reward=-1.000, steps=20.800, speed=1.88 steps/s, eps=0.20\n",
      "5442: Done 315 episodes, last 10 means: reward=-1.000, steps=20.700, speed=1.88 steps/s, eps=0.20\n",
      "5450: mean max_q = 2.2045, min_q = 0.7308, mean_q = 1.5667\n",
      "5462: Done 316 episodes, last 10 means: reward=-1.000, steps=20.700, speed=1.88 steps/s, eps=0.20\n",
      "5482: Done 317 episodes, last 10 means: reward=-1.000, steps=20.800, speed=1.88 steps/s, eps=0.20\n",
      "5500: mean max_q = 2.1171, min_q = 0.6951, mean_q = 1.5226\n",
      "5500: nets synced, mean loss for last 10 steps = 0.266\n",
      "5502: Done 318 episodes, last 10 means: reward=-1.000, steps=20.800, speed=1.87 steps/s, eps=0.20\n",
      "5521: Done 319 episodes, last 10 means: reward=-1.000, steps=20.700, speed=1.97 steps/s, eps=0.20\n",
      "5522: Done 320 episodes, last 10 means: reward=-0.803, steps=18.900, speed=0.77 steps/s, eps=0.20\n",
      "5541: Done 321 episodes, last 10 means: reward=-0.697, steps=18.800, speed=1.88 steps/s, eps=0.20\n",
      "5550: mean max_q = 2.3920, min_q = 0.7966, mean_q = 1.7058\n"
     ]
    },
    {
     "name": "stdout",
     "output_type": "stream",
     "text": [
      "5561: Done 322 episodes, last 10 means: reward=-0.697, steps=18.800, speed=1.88 steps/s, eps=0.20\n",
      "5568: Done 323 episodes, last 10 means: reward=-0.534, steps=17.500, speed=1.70 steps/s, eps=0.20\n",
      "5587: Done 324 episodes, last 10 means: reward=-0.534, steps=17.400, speed=1.88 steps/s, eps=0.20\n",
      "5600: mean max_q = 2.4093, min_q = 0.7782, mean_q = 1.7056\n",
      "5607: Done 325 episodes, last 10 means: reward=-0.534, steps=17.500, speed=1.88 steps/s, eps=0.20\n",
      "5617: Done 326 episodes, last 10 means: reward=-0.382, steps=16.500, speed=1.78 steps/s, eps=0.20\n",
      "5636: Done 327 episodes, last 10 means: reward=-0.382, steps=16.400, speed=1.87 steps/s, eps=0.20\n",
      "5650: mean max_q = 2.4389, min_q = 0.8225, mean_q = 1.7519\n",
      "5656: Done 328 episodes, last 10 means: reward=-0.382, steps=16.400, speed=1.88 steps/s, eps=0.20\n",
      "5676: Done 329 episodes, last 10 means: reward=-0.382, steps=16.500, speed=1.88 steps/s, eps=0.20\n",
      "5696: Done 330 episodes, last 10 means: reward=-0.578, steps=18.400, speed=1.88 steps/s, eps=0.20\n",
      "5700: mean max_q = 2.3806, min_q = 0.8336, mean_q = 1.7241\n",
      "5704: Done 331 episodes, last 10 means: reward=-0.526, steps=17.300, speed=1.72 steps/s, eps=0.20\n",
      "5724: Done 332 episodes, last 10 means: reward=-0.526, steps=17.300, speed=1.88 steps/s, eps=0.20\n",
      "5743: Done 333 episodes, last 10 means: reward=-0.689, steps=18.500, speed=1.88 steps/s, eps=0.20\n",
      "5750: mean max_q = 2.4261, min_q = 0.8328, mean_q = 1.7571\n",
      "5763: Done 334 episodes, last 10 means: reward=-0.689, steps=18.600, speed=1.88 steps/s, eps=0.20\n",
      "5783: Done 335 episodes, last 10 means: reward=-0.689, steps=18.600, speed=1.87 steps/s, eps=0.20\n",
      "5800: mean max_q = 2.4077, min_q = 0.7875, mean_q = 1.7215\n",
      "5802: Done 336 episodes, last 10 means: reward=-0.841, steps=19.500, speed=1.86 steps/s, eps=0.20\n",
      "5822: Done 337 episodes, last 10 means: reward=-0.841, steps=19.600, speed=1.88 steps/s, eps=0.20\n",
      "5842: Done 338 episodes, last 10 means: reward=-0.841, steps=19.600, speed=1.88 steps/s, eps=0.20\n",
      "5850: mean max_q = 2.4155, min_q = 0.7697, mean_q = 1.7343\n",
      "5862: Done 339 episodes, last 10 means: reward=-0.841, steps=19.600, speed=1.88 steps/s, eps=0.20\n",
      "5881: Done 340 episodes, last 10 means: reward=-0.841, steps=19.500, speed=1.88 steps/s, eps=0.20\n",
      "5900: Done 341 episodes, last 10 means: reward=-0.893, steps=20.600, speed=1.88 steps/s, eps=0.20\n",
      "5900: mean max_q = 2.3079, min_q = 0.8383, mean_q = 1.7173\n",
      "5920: Done 342 episodes, last 10 means: reward=-0.893, steps=20.600, speed=1.88 steps/s, eps=0.20\n",
      "5939: Done 343 episodes, last 10 means: reward=-0.893, steps=20.600, speed=1.88 steps/s, eps=0.20\n",
      "5950: mean max_q = 2.2241, min_q = 0.7427, mean_q = 1.6440\n",
      "5959: Done 344 episodes, last 10 means: reward=-0.893, steps=20.600, speed=1.88 steps/s, eps=0.20\n",
      "5979: Done 345 episodes, last 10 means: reward=-0.893, steps=20.600, speed=1.88 steps/s, eps=0.20\n",
      "5999: Done 346 episodes, last 10 means: reward=-0.893, steps=20.700, speed=1.88 steps/s, eps=0.20\n",
      "6000: mean max_q = 2.3539, min_q = 0.8228, mean_q = 1.7433\n",
      "6000: nets synced, mean loss for last 10 steps = 0.226\n",
      "6018: Done 347 episodes, last 10 means: reward=-0.893, steps=20.600, speed=1.88 steps/s, eps=0.20\n",
      "6038: Done 348 episodes, last 10 means: reward=-0.893, steps=20.600, speed=1.88 steps/s, eps=0.20\n",
      "6050: mean max_q = 2.7388, min_q = 0.9297, mean_q = 1.9978\n",
      "6058: Done 349 episodes, last 10 means: reward=-0.893, steps=20.600, speed=1.88 steps/s, eps=0.20\n",
      "6069: Done 350 episodes, last 10 means: reward=-0.748, steps=19.800, speed=1.80 steps/s, eps=0.20\n",
      "6088: Done 351 episodes, last 10 means: reward=-0.855, steps=19.800, speed=1.86 steps/s, eps=0.20\n",
      "6090: Done 352 episodes, last 10 means: reward=-0.663, steps=18.000, speed=1.24 steps/s, eps=0.20\n",
      "6100: mean max_q = 2.6818, min_q = 0.9526, mean_q = 1.9601\n",
      "6109: Done 353 episodes, last 10 means: reward=-0.663, steps=18.000, speed=1.88 steps/s, eps=0.20\n",
      "6129: Done 354 episodes, last 10 means: reward=-0.663, steps=18.000, speed=1.88 steps/s, eps=0.20\n",
      "6136: Done 355 episodes, last 10 means: reward=-0.496, steps=16.700, speed=1.70 steps/s, eps=0.20\n",
      "6150: mean max_q = 2.6520, min_q = 0.8611, mean_q = 1.9793\n",
      "6155: Done 356 episodes, last 10 means: reward=-0.496, steps=16.600, speed=1.88 steps/s, eps=0.20\n",
      "6175: Done 357 episodes, last 10 means: reward=-0.496, steps=16.700, speed=1.88 steps/s, eps=0.20\n",
      "6195: Done 358 episodes, last 10 means: reward=-0.496, steps=16.700, speed=1.88 steps/s, eps=0.20\n",
      "6200: mean max_q = 2.5634, min_q = 0.8719, mean_q = 1.9014\n",
      "6215: Done 359 episodes, last 10 means: reward=-0.496, steps=16.700, speed=1.88 steps/s, eps=0.20\n",
      "6221: Done 360 episodes, last 10 means: reward=-0.472, steps=16.200, speed=1.66 steps/s, eps=0.20\n",
      "6240: Done 361 episodes, last 10 means: reward=-0.472, steps=16.200, speed=1.87 steps/s, eps=0.20\n",
      "6250: mean max_q = 2.7784, min_q = 0.9419, mean_q = 2.0394\n",
      "6260: Done 362 episodes, last 10 means: reward=-0.664, steps=18.000, speed=1.88 steps/s, eps=0.20\n",
      "6280: Done 363 episodes, last 10 means: reward=-0.664, steps=18.100, speed=1.88 steps/s, eps=0.20\n",
      "6300: Done 364 episodes, last 10 means: reward=-0.664, steps=18.100, speed=1.88 steps/s, eps=0.20\n",
      "6300: mean max_q = 2.5786, min_q = 0.8237, mean_q = 1.8490\n",
      "6320: Done 365 episodes, last 10 means: reward=-0.830, steps=19.400, speed=1.88 steps/s, eps=0.20\n",
      "6339: Done 366 episodes, last 10 means: reward=-0.830, steps=19.400, speed=1.88 steps/s, eps=0.20\n",
      "6350: mean max_q = 2.8252, min_q = 0.9417, mean_q = 2.0863\n",
      "6359: Done 367 episodes, last 10 means: reward=-0.830, steps=19.400, speed=1.88 steps/s, eps=0.20\n",
      "6379: Done 368 episodes, last 10 means: reward=-0.830, steps=19.400, speed=1.88 steps/s, eps=0.20\n",
      "6399: Done 369 episodes, last 10 means: reward=-0.830, steps=19.400, speed=1.88 steps/s, eps=0.20\n",
      "6400: mean max_q = 2.5893, min_q = 0.8205, mean_q = 1.8799\n"
     ]
    },
    {
     "ename": "KeyboardInterrupt",
     "evalue": "",
     "output_type": "error",
     "traceback": [
      "\u001b[0;31m---------------------------------------------------------------------------\u001b[0m",
      "\u001b[0;31mKeyboardInterrupt\u001b[0m                         Traceback (most recent call last)",
      "\u001b[0;32m<ipython-input-522-18269e979eae>\u001b[0m in \u001b[0;36m<module>\u001b[0;34m\u001b[0m\n\u001b[1;32m     30\u001b[0m         \u001b[0;32mcontinue\u001b[0m\u001b[0;34m\u001b[0m\u001b[0;34m\u001b[0m\u001b[0m\n\u001b[1;32m     31\u001b[0m     \u001b[0mbatch\u001b[0m \u001b[0;34m=\u001b[0m \u001b[0mbuffer\u001b[0m\u001b[0;34m.\u001b[0m\u001b[0msample\u001b[0m\u001b[0;34m(\u001b[0m\u001b[0mBATCH_SIZE\u001b[0m\u001b[0;34m)\u001b[0m\u001b[0;34m\u001b[0m\u001b[0;34m\u001b[0m\u001b[0m\n\u001b[0;32m---> 32\u001b[0;31m     \u001b[0mstate_v\u001b[0m\u001b[0;34m,\u001b[0m \u001b[0mactions_v\u001b[0m\u001b[0;34m,\u001b[0m \u001b[0mref_q_v\u001b[0m \u001b[0;34m=\u001b[0m \u001b[0munpack_batch\u001b[0m\u001b[0;34m(\u001b[0m\u001b[0mbatch\u001b[0m\u001b[0;34m,\u001b[0m \u001b[0mtgt_net\u001b[0m\u001b[0;34m.\u001b[0m\u001b[0mtarget_model\u001b[0m\u001b[0;34m,\u001b[0m \u001b[0mgamma\u001b[0m\u001b[0;34m=\u001b[0m\u001b[0mGAMMA\u001b[0m\u001b[0;34m,\u001b[0m \u001b[0mdevice\u001b[0m\u001b[0;34m=\u001b[0m\u001b[0mDEVICE\u001b[0m\u001b[0;34m)\u001b[0m\u001b[0;34m\u001b[0m\u001b[0;34m\u001b[0m\u001b[0m\n\u001b[0m\u001b[1;32m     33\u001b[0m     \u001b[0moptimizer\u001b[0m\u001b[0;34m.\u001b[0m\u001b[0mzero_grad\u001b[0m\u001b[0;34m(\u001b[0m\u001b[0;34m)\u001b[0m\u001b[0;34m\u001b[0m\u001b[0;34m\u001b[0m\u001b[0m\n\u001b[1;32m     34\u001b[0m     \u001b[0mq_v\u001b[0m \u001b[0;34m=\u001b[0m \u001b[0mnet\u001b[0m\u001b[0;34m(\u001b[0m\u001b[0mstate_v\u001b[0m\u001b[0;34m)\u001b[0m\u001b[0;34m\u001b[0m\u001b[0;34m\u001b[0m\u001b[0m\n",
      "\u001b[0;32m~/anaconda3/envs/miniwob/lib/python3.6/site-packages/torch/autograd/grad_mode.py\u001b[0m in \u001b[0;36mdecorate_no_grad\u001b[0;34m(*args, **kwargs)\u001b[0m\n\u001b[1;32m     41\u001b[0m         \u001b[0;32mdef\u001b[0m \u001b[0mdecorate_no_grad\u001b[0m\u001b[0;34m(\u001b[0m\u001b[0;34m*\u001b[0m\u001b[0margs\u001b[0m\u001b[0;34m,\u001b[0m \u001b[0;34m**\u001b[0m\u001b[0mkwargs\u001b[0m\u001b[0;34m)\u001b[0m\u001b[0;34m:\u001b[0m\u001b[0;34m\u001b[0m\u001b[0;34m\u001b[0m\u001b[0m\n\u001b[1;32m     42\u001b[0m             \u001b[0;32mwith\u001b[0m \u001b[0mself\u001b[0m\u001b[0;34m:\u001b[0m\u001b[0;34m\u001b[0m\u001b[0;34m\u001b[0m\u001b[0m\n\u001b[0;32m---> 43\u001b[0;31m                 \u001b[0;32mreturn\u001b[0m \u001b[0mfunc\u001b[0m\u001b[0;34m(\u001b[0m\u001b[0;34m*\u001b[0m\u001b[0margs\u001b[0m\u001b[0;34m,\u001b[0m \u001b[0;34m**\u001b[0m\u001b[0mkwargs\u001b[0m\u001b[0;34m)\u001b[0m\u001b[0;34m\u001b[0m\u001b[0;34m\u001b[0m\u001b[0m\n\u001b[0m\u001b[1;32m     44\u001b[0m         \u001b[0;32mreturn\u001b[0m \u001b[0mdecorate_no_grad\u001b[0m\u001b[0;34m\u001b[0m\u001b[0;34m\u001b[0m\u001b[0m\n\u001b[1;32m     45\u001b[0m \u001b[0;34m\u001b[0m\u001b[0m\n",
      "\u001b[0;32m<ipython-input-10-422d98b5f252>\u001b[0m in \u001b[0;36munpack_batch\u001b[0;34m(batch, net, gamma, device)\u001b[0m\n\u001b[1;32m     16\u001b[0m             \u001b[0mlast_states\u001b[0m\u001b[0;34m.\u001b[0m\u001b[0mappend\u001b[0m\u001b[0;34m(\u001b[0m\u001b[0mexp\u001b[0m\u001b[0;34m.\u001b[0m\u001b[0mlast_state\u001b[0m\u001b[0;34m)\u001b[0m\u001b[0;34m\u001b[0m\u001b[0;34m\u001b[0m\u001b[0m\n\u001b[1;32m     17\u001b[0m \u001b[0;34m\u001b[0m\u001b[0m\n\u001b[0;32m---> 18\u001b[0;31m     \u001b[0mstates_v\u001b[0m \u001b[0;34m=\u001b[0m \u001b[0mtorch\u001b[0m\u001b[0;34m.\u001b[0m\u001b[0mtensor\u001b[0m\u001b[0;34m(\u001b[0m\u001b[0mstates\u001b[0m\u001b[0;34m)\u001b[0m\u001b[0;34m.\u001b[0m\u001b[0mto\u001b[0m\u001b[0;34m(\u001b[0m\u001b[0mdevice\u001b[0m\u001b[0;34m)\u001b[0m\u001b[0;34m\u001b[0m\u001b[0;34m\u001b[0m\u001b[0m\n\u001b[0m\u001b[1;32m     19\u001b[0m     \u001b[0mactions_v\u001b[0m \u001b[0;34m=\u001b[0m \u001b[0mtorch\u001b[0m\u001b[0;34m.\u001b[0m\u001b[0mtensor\u001b[0m\u001b[0;34m(\u001b[0m\u001b[0mactions\u001b[0m\u001b[0;34m)\u001b[0m\u001b[0;34m.\u001b[0m\u001b[0mto\u001b[0m\u001b[0;34m(\u001b[0m\u001b[0mdevice\u001b[0m\u001b[0;34m)\u001b[0m\u001b[0;34m\u001b[0m\u001b[0;34m\u001b[0m\u001b[0m\n\u001b[1;32m     20\u001b[0m     \u001b[0mrewards_v\u001b[0m \u001b[0;34m=\u001b[0m \u001b[0mtorch\u001b[0m\u001b[0;34m.\u001b[0m\u001b[0mtensor\u001b[0m\u001b[0;34m(\u001b[0m\u001b[0mrewards\u001b[0m\u001b[0;34m)\u001b[0m\u001b[0;34m.\u001b[0m\u001b[0mto\u001b[0m\u001b[0;34m(\u001b[0m\u001b[0mdevice\u001b[0m\u001b[0;34m)\u001b[0m\u001b[0;34m\u001b[0m\u001b[0;34m\u001b[0m\u001b[0m\n",
      "\u001b[0;31mKeyboardInterrupt\u001b[0m: "
     ]
    }
   ],
   "source": [
    "episode_rewards = []\n",
    "episode_steps = []\n",
    "losses = []\n",
    "m_rewards = []\n",
    "steps = 0\n",
    "last_ts = time.time()\n",
    "last_steps = 0\n",
    "ref_q_vals = []\n",
    "\n",
    "while True:\n",
    "    steps += 1\n",
    "    buffer.populate(1)\n",
    "    r = exp_source.pop_rewards_steps()\n",
    "    if r:\n",
    "        for rw, st in r:\n",
    "            episode_rewards.append(rw)\n",
    "            episode_steps.append(st)\n",
    "        speed = (steps - last_steps) / (time.time() - last_ts)\n",
    "        print(\"%d: Done %d episodes, last 10 means: reward=%.3f, steps=%.3f, speed=%.2f steps/s, eps=%.2f\" % (\n",
    "            steps, len(episode_rewards), np.mean(episode_rewards[-10:]), \n",
    "            np.mean(episode_steps[-10:]), speed, action_selector.epsilon\n",
    "        ))\n",
    "        m_rewards.append(np.mean(episode_rewards[-10:]))\n",
    "        last_ts = time.time()\n",
    "        last_steps = steps\n",
    "        if np.mean(episode_rewards[-10:]) > 0.9:\n",
    "            print(\"You solved the env! Congrats!\")\n",
    "            break\n",
    "    if len(buffer) < MIN_REPLAY:\n",
    "        continue\n",
    "    batch = buffer.sample(BATCH_SIZE)\n",
    "    state_v, actions_v, ref_q_v = unpack_batch(batch, tgt_net.target_model, gamma=GAMMA, device=DEVICE)\n",
    "    optimizer.zero_grad()\n",
    "    q_v = net(state_v)\n",
    "    q_v = q_v.gather(1, actions_v.unsqueeze(-1)).squeeze(-1)\n",
    "    loss_v = F.mse_loss(q_v, ref_q_v)\n",
    "    loss_v.backward()\n",
    "    optimizer.step()\n",
    "    losses.append(loss_v.item())\n",
    "    if (steps % 50 == 0):\n",
    "        # periodically evaluate reference observations\n",
    "        obs_t = torch.tensor(final_obs).to(DEVICE)\n",
    "        q_t = net(obs_t)\n",
    "        final_q = q_t.detach().cpu().numpy()\n",
    "        best_q = final_q.max(axis=1)\n",
    "        worst_q = final_q.min(axis=1)\n",
    "        print(\"%d: mean max_q = %.4f, min_q = %.4f, mean_q = %.4f\" % (\n",
    "            steps, np.mean(best_q), np.mean(worst_q), np.mean(final_q)))\n",
    "        ref_q_vals.append(mean_q)\n",
    "        \n",
    "#        ofs = 0\n",
    "#        plt.imshow(get_obs_img(final_obs[ofs])[0]);\n",
    "\n",
    "#        q = q_t.detach().cpu().numpy()\n",
    "#        q = np.reshape(q[0], (16, 16))\n",
    "#        plt.imshow(q, cmap='hot');\n",
    "#        plt.show()\n",
    "    \n",
    "    if steps % TGT_SYNC == 0:\n",
    "        print(\"%d: nets synced, mean loss for last 10 steps = %.3f\" % (\n",
    "            steps, np.mean(losses[-10:])))\n",
    "        tgt_net.sync()\n",
    "    action_selector.epsilon = max(FINAL_EPSILON, INITIAL_EPSILON - (steps-MIN_REPLAY) / STEPS_EPSILON)"
   ]
  },
  {
   "cell_type": "code",
   "execution_count": 502,
   "metadata": {},
   "outputs": [
    {
     "data": {
      "text/plain": [
       "[<matplotlib.lines.Line2D at 0x7f374d32fe80>]"
      ]
     },
     "execution_count": 502,
     "metadata": {},
     "output_type": "execute_result"
    },
    {
     "data": {
      "image/png": "[encoded data removed]",
      "text/plain": [
       "<Figure size 432x288 with 1 Axes>"
      ]
     },
     "metadata": {
      "needs_background": "light"
     },
     "output_type": "display_data"
    }
   ],
   "source": [
    "plt.plot(episode_rewards)"
   ]
  },
  {
   "cell_type": "code",
   "execution_count": 503,
   "metadata": {},
   "outputs": [
    {
     "data": {
      "text/plain": [
       "6724"
      ]
     },
     "execution_count": 503,
     "metadata": {},
     "output_type": "execute_result"
    }
   ],
   "source": [
    "len(buffer)"
   ]
  },
  {
   "cell_type": "code",
   "execution_count": null,
   "metadata": {},
   "outputs": [],
   "source": []
  }
 ],
 "metadata": {
  "kernelspec": {
   "display_name": "Python 3",
   "language": "python",
   "name": "python3"
  },
  "language_info": {
   "codemirror_mode": {
    "name": "ipython",
    "version": 3
   },
   "file_extension": ".py",
   "mimetype": "text/x-python",
   "name": "python",
   "nbconvert_exporter": "python",
   "pygments_lexer": "ipython3",
   "version": "3.6.8"
  }
 },
 "nbformat": 4,
 "nbformat_minor": 2
}
