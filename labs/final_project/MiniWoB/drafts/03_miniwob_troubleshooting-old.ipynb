{
 "cells": [
  {
   "cell_type": "markdown",
   "metadata": {},
   "source": [
    "# Imports/tools"
   ]
  },
  {
   "cell_type": "code",
   "execution_count": 1,
   "metadata": {},
   "outputs": [
    {
     "name": "stdout",
     "output_type": "stream",
     "text": [
      "You already have 1 containers running, are you sure you want more?\r\n"
     ]
    }
   ],
   "source": [
    "!./containers_run.sh"
   ]
  },
  {
   "cell_type": "code",
   "execution_count": 2,
   "metadata": {},
   "outputs": [
    {
     "name": "stderr",
     "output_type": "stream",
     "text": [
      "/home/shmuma/anaconda3/envs/miniwob/lib/python3.6/site-packages/universe/runtimes/__init__.py:7: YAMLLoadWarning: calling yaml.load() without Loader=... is deprecated, as the default Loader is unsafe. Please read https://msg.pyyaml.org/load for full details.\n",
      "  spec = yaml.load(f)\n"
     ]
    }
   ],
   "source": [
    "import gym\n",
    "import ptan\n",
    "import time\n",
    "import numpy as np\n",
    "import universe\n",
    "import collections\n",
    "from typing import List, Optional, Tuple\n",
    "from universe import vectorized\n",
    "from universe.wrappers.experimental import SoftmaxClickMouse\n",
    "\n",
    "from PIL import Image, ImageDraw\n",
    "import matplotlib.pylab as plt\n",
    "\n",
    "%matplotlib inline"
   ]
  },
  {
   "cell_type": "code",
   "execution_count": 3,
   "metadata": {},
   "outputs": [],
   "source": [
    "import torch\n",
    "import torch.nn as nn\n",
    "import torch.nn.functional as F\n",
    "import torch.optim as optim"
   ]
  },
  {
   "cell_type": "code",
   "execution_count": 4,
   "metadata": {},
   "outputs": [],
   "source": [
    "DOCKER_IMAGE = \"shmuma/miniwob:latest\"\n",
    "ENV_NAME = \"wob.mini.ClickDialog-v0\""
   ]
  },
  {
   "cell_type": "code",
   "execution_count": 5,
   "metadata": {},
   "outputs": [],
   "source": [
    "# function to build connection endpoints for set of containers\n",
    "# you should tweak its args if you're not using standalone installation\n",
    "def remotes_url(port_ofs=0, hostname='localhost', count=8):\n",
    "    hosts = [\"%s:%d+%d\" % (hostname, 5900 + ofs, 15900 + ofs) for ofs in range(port_ofs, port_ofs+count)]\n",
    "    return \"vnc://\" + \",\".join(hosts)"
   ]
  },
  {
   "cell_type": "code",
   "execution_count": 6,
   "metadata": {},
   "outputs": [],
   "source": [
    "def make_env(wrapper_func = lambda env: env, count: int = 1, fps: float = 5) -> universe.envs.VNCEnv:\n",
    "    \"\"\"\n",
    "    Builds the vectorized env\n",
    "    \"\"\"\n",
    "    env = gym.make(ENV_NAME)\n",
    "    env = wrapper_func(env)\n",
    "    url = remotes_url(count=count)\n",
    "    print(\"Remotes URL: %s\" % url)\n",
    "\n",
    "    env.configure(remotes=url, docker_image=DOCKER_IMAGE, fps=fps, vnc_kwargs={\n",
    "            'encoding': 'tight', 'compress_level': 0,\n",
    "            'fine_quality_level': 100, 'subsample_level': 0\n",
    "        })\n",
    "    return env"
   ]
  },
  {
   "cell_type": "code",
   "execution_count": 7,
   "metadata": {},
   "outputs": [],
   "source": [
    "def join_env(env: universe.envs.VNCEnv):\n",
    "    \"\"\"\n",
    "    Function performs initial reset of the env and waits for observations to become ready\n",
    "    \"\"\"\n",
    "    obs_n = env.reset()\n",
    "    while any(map(lambda o: o is None, obs_n)):\n",
    "        a = [env.action_space.sample() for _ in obs_n]\n",
    "        obs_n, reward, is_done, info = env.step(a)\n",
    "    return obs_n"
   ]
  },
  {
   "cell_type": "code",
   "execution_count": 8,
   "metadata": {},
   "outputs": [],
   "source": [
    "class MiniWoBCropper(vectorized.ObservationWrapper):\n",
    "    \"\"\"\n",
    "    Crops the WoB area and converts the observation into PyTorch (C, H, W) format.\n",
    "    \"\"\"\n",
    "    # Area of interest\n",
    "    WIDTH = 160\n",
    "    HEIGHT = 210\n",
    "    X_OFS = 10\n",
    "    Y_OFS = 75\n",
    "    \n",
    "    def __init__(self, env, keep_text=False):\n",
    "        super(MiniWoBCropper, self).__init__(env)\n",
    "        self.keep_text = keep_text\n",
    "        img_space = gym.spaces.Box(low=0, high=255, shape=(3, self.HEIGHT, self.WIDTH))\n",
    "        if keep_text:\n",
    "            self.observation_space = gym.spaces.Tuple(spaces=(img_space, gym.spaces.Space))\n",
    "        else:\n",
    "            self.observation_space = img_space\n",
    "\n",
    "    def _observation(self, observation_n):\n",
    "        res = []\n",
    "        for obs in observation_n:\n",
    "            if obs is None:\n",
    "                res.append(obs)\n",
    "                continue\n",
    "            img = obs['vision'][self.Y_OFS:self.Y_OFS+self.HEIGHT, self.X_OFS:self.X_OFS+self.WIDTH, :]\n",
    "            img = np.transpose(img, (2, 0, 1))\n",
    "            if self.keep_text:\n",
    "                text = \" \".join(map(lambda d: d.get('instruction', ''), obs.get('text', [{}])))\n",
    "                res.append((img, text))\n",
    "            else:\n",
    "                res.append(img)\n",
    "        return res"
   ]
  },
  {
   "cell_type": "code",
   "execution_count": 9,
   "metadata": {},
   "outputs": [],
   "source": [
    "class Model(nn.Module):\n",
    "    def __init__(self, input_shape, n_actions):\n",
    "        super(Model, self).__init__()\n",
    "\n",
    "        self.conv = nn.Sequential(\n",
    "            nn.Conv2d(input_shape[0], 64, 5, stride=5),\n",
    "            nn.ReLU(),\n",
    "            nn.Conv2d(64, 64, 3, stride=2),\n",
    "            nn.ReLU(),\n",
    "            nn.Conv2d(64, 32, 3, stride=2),\n",
    "            nn.ReLU(),\n",
    "        )\n",
    "\n",
    "        conv_out_size = self._get_conv_out(input_shape)\n",
    "\n",
    "        self.fc = nn.Sequential(\n",
    "            nn.Linear(conv_out_size, 256),\n",
    "            nn.ReLU(),\n",
    "            nn.Linear(256, n_actions),\n",
    "        )\n",
    "\n",
    "    def _get_conv_out(self, shape):\n",
    "        o = self.conv(torch.zeros(1, *shape))\n",
    "        return int(np.prod(o.size()))\n",
    "\n",
    "    def forward(self, x):\n",
    "        fx = x.float() / 256\n",
    "        conv_out = self.conv(fx).view(fx.size()[0], -1)\n",
    "        return self.fc(conv_out)"
   ]
  },
  {
   "cell_type": "code",
   "execution_count": 10,
   "metadata": {},
   "outputs": [],
   "source": [
    "@torch.no_grad()\n",
    "def unpack_batch(batch: List[ptan.experience.ExperienceFirstLast], net: nn.Module, gamma: float, device=\"cpu\"):\n",
    "    states = []\n",
    "    actions = []\n",
    "    rewards = []\n",
    "    done_masks = []\n",
    "    last_states = []\n",
    "    for exp in batch:\n",
    "        states.append(exp.state)\n",
    "        actions.append(exp.action)\n",
    "        rewards.append(exp.reward)\n",
    "        done_masks.append(exp.last_state is None)\n",
    "        if exp.last_state is None:\n",
    "            last_states.append(exp.state)\n",
    "        else:\n",
    "            last_states.append(exp.last_state)\n",
    "\n",
    "    states_v = torch.tensor(states).to(device)\n",
    "    actions_v = torch.tensor(actions).to(device)\n",
    "    rewards_v = torch.tensor(rewards).to(device)\n",
    "    last_states_v = torch.tensor(last_states).to(device)\n",
    "    last_state_q_v = net(last_states_v)\n",
    "    best_last_q_v = torch.max(last_state_q_v, dim=1)[0]\n",
    "    best_last_q_v[done_masks] = 0.0\n",
    "    return states_v, actions_v, best_last_q_v + rewards_v"
   ]
  },
  {
   "cell_type": "markdown",
   "metadata": {},
   "source": [
    "# Troubleshooting of Baseline DQN\n",
    "\n",
    "> \"You love Linux, probably you're experienced in troubleshooting...\"\n",
    "> RHCE Exam Instructor @ 2005\n",
    "\n",
    "Code above doesn't converge. Usually, in such situations, tutorial author tweaks the parameters to make it working, so, attendants see only final, polished version. This makes the false impression of ML as smooth and quite obvious process, which very far from truth. Don't know about others, but my code doesn't work 90% of the time :).\n",
    "\n",
    "To learn how to deal with such situations, you're asked to troubleshoot the code above. There are several directions you could explore (of course, you can have your own ideas, that's not the complete list):\n",
    "\n",
    "* check training samples. Do they make sense? Is reward properly assigned to correct observations?\n",
    "* training gradients. How large they are? What's the ratio of gradients/weight values?\n",
    "* do end-of-episode steps handled properly? Final steps of epsiodes act as an anchor to prevent Q values from growing infinitely, so, it is critical to have them properly handled in Bellman equation\n",
    "* explore Q values produced by the network during the training. Are they growing over time? That's a good practice to have small set of states (including final step and steps before the final) and track their Qs during the training.\n",
    "* how large the difference between trained network and target net used for next-step Bellman approximation? How it changes over time?\n",
    "\n",
    "Full check might take a long time, especially if you haven't done it before. In the next notebook (03_miniwob_troubleshooting) you will be shown how to do those checks in this environment, but you should try to play with the list above for yourself."
   ]
  },
  {
   "cell_type": "code",
   "execution_count": 11,
   "metadata": {},
   "outputs": [],
   "source": [
    "GAMMA = 0.9\n",
    "REPLAY_SIZE = 10000\n",
    "MIN_REPLAY = 100\n",
    "TGT_SYNC = 100\n",
    "BATCH_SIZE = 16\n",
    "LR = 1e-3\n",
    "DEVICE = \"cuda\"  \n",
    "#DEVICE = \"cpu\"\n",
    "\n",
    "INITIAL_EPSILON = 1.0\n",
    "FINAL_EPSILON = 0.2\n",
    "STEPS_EPSILON = 1000"
   ]
  },
  {
   "cell_type": "markdown",
   "metadata": {},
   "source": [
    "## Training samples check\n",
    "\n",
    "Here we're going to eyeball our training samples. OpenAI Universe is asynchronous, so, if we're missing a frame or have delays to handle input data, we can get weird training samples.\n",
    "\n",
    "To do this, we implement small `Env` wrapper applied after `MiniWoBCropper` to keep history of training sequences."
   ]
  },
  {
   "cell_type": "code",
   "execution_count": 12,
   "metadata": {},
   "outputs": [],
   "source": [
    "class TrajectoryTracking(vectorized.Wrapper):\n",
    "    \"\"\"\n",
    "    Keeps last N trajectories from the environment\n",
    "    \"\"\"\n",
    "    def __init__(self, env, size: int):\n",
    "        super(TrajectoryTracking, self).__init__(env)\n",
    "        self.trajectories = collections.deque(maxlen=size)\n",
    "        self._in_progress = []\n",
    "\n",
    "    def reset(self):\n",
    "        obs_n = self.env.reset()\n",
    "        if not self._in_progress:\n",
    "            self._in_progress = [[] for _ in obs_n]\n",
    "        for t, obs in zip(self._in_progress, obs_n):\n",
    "            if t:\n",
    "                self.trajectories.append(list(t))\n",
    "                t.clear()\n",
    "            if obs:\n",
    "                t.append(obs)\n",
    "        return obs_n\n",
    "    \n",
    "    def step(self, action_n):\n",
    "        obs_n, r_n, done_n, info_n = self.env.step(action_n)\n",
    "        for t, obs, r, act in zip(self._in_progress, obs_n, r_n, action_n):\n",
    "            t.append((obs, act, r))\n",
    "        for t, done in zip(self._in_progress, done_n):\n",
    "            if done:\n",
    "                self.trajectories.append(list(t))\n",
    "                t.clear()\n",
    "        return obs_n, r_n, done_n, info_n"
   ]
  },
  {
   "cell_type": "markdown",
   "metadata": {},
   "source": [
    "Let's apply it to our training to get trajectories to check"
   ]
  },
  {
   "cell_type": "code",
   "execution_count": 32,
   "metadata": {},
   "outputs": [
    {
     "name": "stderr",
     "output_type": "stream",
     "text": [
      "[2019-07-02 13:31:10,031] Making new env: wob.mini.ClickDialog-v0\n",
      "[2019-07-02 13:31:10,034] Using SoftmaxClickMouse with action_region=(10, 125, 170, 285), noclick_regions=[]\n",
      "[2019-07-02 13:31:10,034] SoftmaxClickMouse noclick regions removed 0 of 256 actions\n",
      "[2019-07-02 13:31:10,035] Using the golang VNC implementation\n",
      "[2019-07-02 13:31:10,035] Using VNCSession arguments: {'encoding': 'tight', 'compress_level': 0, 'fine_quality_level': 100, 'subsample_level': 0, 'start_timeout': 7}. (Customize by running \"env.configure(vnc_kwargs={...})\"\n",
      "[2019-07-02 13:31:10,062] [0] Connecting to environment: vnc://localhost:5900 password=openai. If desired, you can manually connect a VNC viewer, such as TurboVNC. Most environments provide a convenient in-browser VNC client: http://localhost:15900/viewer/?password=openai\n"
     ]
    },
    {
     "name": "stdout",
     "output_type": "stream",
     "text": [
      "Remotes URL: vnc://localhost:5900+15900\n"
     ]
    },
    {
     "name": "stderr",
     "output_type": "stream",
     "text": [
      "[2019-07-02 13:31:26,450] [0:localhost:5900] Sending reset for env_id=wob.mini.ClickDialog-v0 fps=60 episode_id=0\n",
      "[2019-07-02 13:31:26,495] [0:localhost:5900] Initial reset complete: episode_id=80\n"
     ]
    }
   ],
   "source": [
    "def wrapper_func(env):\n",
    "    env = MiniWoBCropper(env)\n",
    "    env = SoftmaxClickMouse(env)\n",
    "    env = TrajectoryTracking(env, size=10)\n",
    "    return env\n",
    "\n",
    "# Note FPS decrease to get smaller amount of images\n",
    "env = make_env(wrapper_func = wrapper_func, fps=1)\n",
    "join_env(env);"
   ]
  },
  {
   "cell_type": "code",
   "execution_count": 33,
   "metadata": {},
   "outputs": [],
   "source": [
    "net = Model(env.observation_space.shape, env.action_space.n).to(DEVICE)\n",
    "\n",
    "parent_selector = ptan.actions.ArgmaxActionSelector()\n",
    "action_selector = ptan.actions.EpsilonGreedyActionSelector(epsilon=1, selector=parent_selector) \n",
    "agent = ptan.agent.DQNAgent(net, action_selector, device=DEVICE)\n",
    "exp_source = ptan.experience.ExperienceSourceFirstLast(env, agent, gamma=GAMMA, vectorized=True)\n",
    "\n",
    "buffer = ptan.experience.ExperienceReplayBuffer(exp_source, REPLAY_SIZE)"
   ]
  },
  {
   "cell_type": "code",
   "execution_count": 34,
   "metadata": {},
   "outputs": [
    {
     "name": "stderr",
     "output_type": "stream",
     "text": [
      "[2019-07-02 13:31:27,169] [0:localhost:5900] Sending reset for env_id=wob.mini.ClickDialog-v0 fps=60 episode_id=0\n"
     ]
    },
    {
     "name": "stdout",
     "output_type": "stream",
     "text": [
      "Episode done with 4 steps and 0.009 reward\n",
      "Episode done with 10 steps and -1.000 reward\n",
      "Episode done with 11 steps and -1.000 reward\n",
      "Episode done with 10 steps and -1.000 reward\n",
      "Episode done with 11 steps and -1.000 reward\n",
      "Episode done with 3 steps and 0.755 reward\n",
      "Episode done with 10 steps and -1.000 reward\n",
      "Episode done with 11 steps and -1.000 reward\n",
      "Episode done with 10 steps and -1.000 reward\n",
      "Episode done with 11 steps and -1.000 reward\n",
      "Episode done with 10 steps and 0.000 reward\n"
     ]
    }
   ],
   "source": [
    "# populate buffer to get some trajectories\n",
    "for _ in range(100):\n",
    "    buffer.populate(1)\n",
    "    for rw, st in exp_source.pop_rewards_steps():\n",
    "        print(\"Episode done with %d steps and %.3f reward\" % (st, rw))"
   ]
  },
  {
   "cell_type": "code",
   "execution_count": 41,
   "metadata": {},
   "outputs": [
    {
     "data": {
      "text/plain": [
       "10"
      ]
     },
     "execution_count": 41,
     "metadata": {},
     "output_type": "execute_result"
    }
   ],
   "source": [
    "len(env.trajectories)"
   ]
  },
  {
   "cell_type": "code",
   "execution_count": 42,
   "metadata": {},
   "outputs": [
    {
     "data": {
      "text/plain": [
       "[11, 10, 11, 3, 10, 11, 10, 11, 10, 11]"
      ]
     },
     "execution_count": 42,
     "metadata": {},
     "output_type": "execute_result"
    }
   ],
   "source": [
    "list(map(len, env.trajectories))"
   ]
  },
  {
   "cell_type": "code",
   "execution_count": 43,
   "metadata": {},
   "outputs": [],
   "source": [
    "# you might want to select different trajectory to check, I've chosen not very long one with positive reward\n",
    "tr = env.trajectories[3]\n",
    "tr_obs, tr_act, tr_rw = zip(*tr)\n",
    "tr_act, tr_rw"
   ]
  },
  {
   "cell_type": "code",
   "execution_count": 46,
   "metadata": {},
   "outputs": [
    {
     "data": {
      "text/plain": [
       "(0.0, 0.0, 0.7554000000000001)"
      ]
     },
     "execution_count": 46,
     "metadata": {},
     "output_type": "execute_result"
    }
   ],
   "source": [
    "tr_rw"
   ]
  },
  {
   "cell_type": "code",
   "execution_count": 21,
   "metadata": {},
   "outputs": [],
   "source": [
    "def get_obs_img(obs, action=None, action_step_pix=10, action_y_ofs=50, transpose=True):\n",
    "    \"\"\"\n",
    "    Get the image from observation with optional action place shown\n",
    "    \"\"\"\n",
    "    if transpose:\n",
    "        obs = np.transpose(obs, (1, 2, 0))\n",
    "    img = Image.fromarray(obs)\n",
    "    if action is not None:\n",
    "        draw = ImageDraw.Draw(img)\n",
    "        if isinstance(action, tuple):\n",
    "            x_ofs, y_ofs = action\n",
    "        else:\n",
    "            y_ofs = action_y_ofs + (action % 16) * action_step_pix\n",
    "            x_ofs = (action // 16) * action_step_pix\n",
    "        half_step = action_step_pix//2\n",
    "        draw.ellipse((x_ofs-half_step, y_ofs-half_step, x_ofs+half_step, y_ofs+half_step),\n",
    "                     (0, 0, 255, 128))\n",
    "    return img"
   ]
  },
  {
   "cell_type": "code",
   "execution_count": 48,
   "metadata": {},
   "outputs": [],
   "source": [
    "imgs = [get_obs_img(obs, action=act) for obs, act in zip(tr_obs, tr_act)]"
   ]
  },
  {
   "cell_type": "code",
   "execution_count": 49,
   "metadata": {},
   "outputs": [
    {
     "data": {
      "image/png": "[encoded data removed]",
      "text/plain": [
       "<Figure size 720x720 with 3 Axes>"
      ]
     },
     "metadata": {
      "needs_background": "light"
     },
     "output_type": "display_data"
    }
   ],
   "source": [
    "fig = plt.figure(figsize=(10, 10))\n",
    "\n",
    "rows = 1\n",
    "for i, img in enumerate(imgs, start=1):\n",
    "    fig.add_subplot(rows, np.ceil(len(imgs)/rows), i)\n",
    "    plt.imshow(img)\n",
    "plt.show()"
   ]
  },
  {
   "cell_type": "markdown",
   "metadata": {},
   "source": [
    "Ok, looks like reward is assigned to the last step, but not to the step with correct action. Let's check what happens with higher FPS value"
   ]
  },
  {
   "cell_type": "code",
   "execution_count": 50,
   "metadata": {},
   "outputs": [
    {
     "name": "stderr",
     "output_type": "stream",
     "text": [
      "[2019-07-02 13:44:20,133] Making new env: wob.mini.ClickDialog-v0\n",
      "[2019-07-02 13:44:20,136] Using SoftmaxClickMouse with action_region=(10, 125, 170, 285), noclick_regions=[]\n",
      "[2019-07-02 13:44:20,136] SoftmaxClickMouse noclick regions removed 0 of 256 actions\n",
      "[2019-07-02 13:44:20,137] Using the golang VNC implementation\n",
      "[2019-07-02 13:44:20,137] Using VNCSession arguments: {'encoding': 'tight', 'compress_level': 0, 'fine_quality_level': 100, 'subsample_level': 0, 'start_timeout': 7}. (Customize by running \"env.configure(vnc_kwargs={...})\"\n",
      "[2019-07-02 13:44:20,154] [0] Connecting to environment: vnc://localhost:5900 password=openai. If desired, you can manually connect a VNC viewer, such as TurboVNC. Most environments provide a convenient in-browser VNC client: http://localhost:15900/viewer/?password=openai\n"
     ]
    },
    {
     "name": "stdout",
     "output_type": "stream",
     "text": [
      "Remotes URL: vnc://localhost:5900+15900\n"
     ]
    },
    {
     "name": "stderr",
     "output_type": "stream",
     "text": [
      "[2019-07-02 13:44:36,559] [0:localhost:5900] Sending reset for env_id=wob.mini.ClickDialog-v0 fps=60 episode_id=0\n",
      "[2019-07-02 13:44:36,624] [0:localhost:5900] Initial reset complete: episode_id=158\n"
     ]
    }
   ],
   "source": [
    "def wrapper_func(env):\n",
    "    env = MiniWoBCropper(env)\n",
    "    env = SoftmaxClickMouse(env)\n",
    "    env = TrajectoryTracking(env, size=10)\n",
    "    return env\n",
    "\n",
    "env = make_env(wrapper_func = wrapper_func, fps=5)\n",
    "join_env(env);"
   ]
  },
  {
   "cell_type": "code",
   "execution_count": 51,
   "metadata": {},
   "outputs": [],
   "source": [
    "net = Model(env.observation_space.shape, env.action_space.n).to(DEVICE)\n",
    "\n",
    "parent_selector = ptan.actions.ArgmaxActionSelector()\n",
    "action_selector = ptan.actions.EpsilonGreedyActionSelector(epsilon=1, selector=parent_selector) \n",
    "agent = ptan.agent.DQNAgent(net, action_selector, device=DEVICE)\n",
    "exp_source = ptan.experience.ExperienceSourceFirstLast(env, agent, gamma=GAMMA, vectorized=True)\n",
    "\n",
    "buffer = ptan.experience.ExperienceReplayBuffer(exp_source, REPLAY_SIZE)"
   ]
  },
  {
   "cell_type": "markdown",
   "metadata": {},
   "source": [
    "Hm, that doesn't look OK. We've clicked on the wrong places and still got positive reward."
   ]
  },
  {
   "cell_type": "code",
   "execution_count": 52,
   "metadata": {},
   "outputs": [
    {
     "name": "stderr",
     "output_type": "stream",
     "text": [
      "[2019-07-02 13:44:58,856] [0:localhost:5900] Sending reset for env_id=wob.mini.ClickDialog-v0 fps=60 episode_id=0\n"
     ]
    },
    {
     "name": "stdout",
     "output_type": "stream",
     "text": [
      "Episode done with 14 steps and -1.000 reward\n",
      "Episode done with 12 steps and 0.823 reward\n",
      "Episode done with 37 steps and 0.310 reward\n",
      "Episode done with 41 steps and 0.230 reward\n",
      "Episode done with 52 steps and -1.000 reward\n",
      "Episode done with 6 steps and 0.930 reward\n",
      "Episode done with 22 steps and 0.613 reward\n",
      "Episode done with 22 steps and 0.611 reward\n",
      "Episode done with 8 steps and 0.891 reward\n",
      "Episode done with 52 steps and -1.000 reward\n",
      "Episode done with 53 steps and -1.000 reward\n",
      "Episode done with 52 steps and -1.000 reward\n",
      "Episode done with 53 steps and -1.000 reward\n",
      "Episode done with 52 steps and -1.000 reward\n"
     ]
    }
   ],
   "source": [
    "# populate buffer to get some trajectories\n",
    "for _ in range(500):\n",
    "    buffer.populate(1)\n",
    "    for rw, st in exp_source.pop_rewards_steps():\n",
    "        print(\"Episode done with %d steps and %.3f reward\" % (st, rw))"
   ]
  },
  {
   "cell_type": "markdown",
   "metadata": {},
   "source": [
    "One thing to notice here: we have much higher success rate due to more clicks done."
   ]
  },
  {
   "cell_type": "code",
   "execution_count": 53,
   "metadata": {},
   "outputs": [
    {
     "data": {
      "text/plain": [
       "[52, 6, 22, 22, 8, 52, 53, 52, 53, 52]"
      ]
     },
     "execution_count": 53,
     "metadata": {},
     "output_type": "execute_result"
    }
   ],
   "source": [
    "list(map(len, env.trajectories))"
   ]
  },
  {
   "cell_type": "code",
   "execution_count": 62,
   "metadata": {},
   "outputs": [
    {
     "name": "stdout",
     "output_type": "stream",
     "text": [
      "(61, 201, 61, 174, 196, 73)\n",
      "(0.0, 0.0, 0.0, 0.0, 0.0, 0.9298000000000001)\n"
     ]
    }
   ],
   "source": [
    "# you might want to select different trajectory to check, I've chosen not very long one with positive reward\n",
    "tr = env.trajectories[1]\n",
    "tr_obs, tr_act, tr_rw = zip(*tr)\n",
    "print(tr_act)\n",
    "print(tr_rw)"
   ]
  },
  {
   "cell_type": "code",
   "execution_count": 63,
   "metadata": {},
   "outputs": [
    {
     "data": {
      "image/png": "[encoded data removed]",
      "text/plain": [
       "<Figure size 720x720 with 6 Axes>"
      ]
     },
     "metadata": {
      "needs_background": "light"
     },
     "output_type": "display_data"
    }
   ],
   "source": [
    "imgs = [get_obs_img(obs, action=act) for obs, act in zip(tr_obs, tr_act)]\n",
    "\n",
    "fig = plt.figure(figsize=(10, 10))\n",
    "\n",
    "rows = 2\n",
    "for i, img in enumerate(imgs, start=1):\n",
    "    fig.add_subplot(rows, np.ceil(len(imgs)/rows), i)\n",
    "    plt.imshow(img)\n",
    "plt.show()"
   ]
  },
  {
   "cell_type": "markdown",
   "metadata": {},
   "source": [
    "Hm, looks like the last step in the trajectory is confusing. Let's check the contents of the replay buffer"
   ]
  },
  {
   "cell_type": "code",
   "execution_count": 65,
   "metadata": {},
   "outputs": [
    {
     "data": {
      "text/plain": [
       "500"
      ]
     },
     "execution_count": 65,
     "metadata": {},
     "output_type": "execute_result"
    }
   ],
   "source": [
    "len(buffer)"
   ]
  },
  {
   "cell_type": "code",
   "execution_count": 64,
   "metadata": {},
   "outputs": [
    {
     "name": "stdout",
     "output_type": "stream",
     "text": [
      "Found 7 final good states and 7 final bad\n"
     ]
    }
   ],
   "source": [
    "# buffer is just a container of objects of ExperienceFirstLast \n",
    "# (https://github.com/Shmuma/ptan/blob/master/ptan/experience.py#L155)\n",
    "# which just a namedtuple with fields: state, action, reward, last_state\n",
    "final_good = []\n",
    "final_bad = []\n",
    "for s in buffer:\n",
    "    if s.last_state is None:\n",
    "        if s.reward > 0.2:\n",
    "            final_good.append(s)\n",
    "        elif s.reward < -0.2:\n",
    "            final_bad.append(s)\n",
    "print(\"Found %d final good states and %d final bad\" % (len(final_good), len(final_bad)))"
   ]
  },
  {
   "cell_type": "code",
   "execution_count": 66,
   "metadata": {},
   "outputs": [],
   "source": [
    "final_good_imgs = [get_obs_img(s.state, action=s.action) for s in final_good]\n",
    "final_bad_imgs = [get_obs_img(s.state, action=s.action) for s in final_bad]"
   ]
  },
  {
   "cell_type": "code",
   "execution_count": 67,
   "metadata": {},
   "outputs": [
    {
     "data": {
      "image/png": "[encoded data removed]",
      "text/plain": [
       "<Figure size 1080x1080 with 7 Axes>"
      ]
     },
     "metadata": {
      "needs_background": "light"
     },
     "output_type": "display_data"
    }
   ],
   "source": [
    "fig = plt.figure(figsize=(15, 15))\n",
    "\n",
    "rows = 3\n",
    "for i, img in enumerate(final_good_imgs, start=1):\n",
    "    fig.add_subplot(rows, np.ceil(len(final_good_imgs)/rows), i)\n",
    "    plt.imshow(img)\n",
    "plt.show()"
   ]
  },
  {
   "cell_type": "code",
   "execution_count": 68,
   "metadata": {},
   "outputs": [
    {
     "data": {
      "image/png": "[encoded data removed]",
      "text/plain": [
       "<Figure size 1080x1080 with 7 Axes>"
      ]
     },
     "metadata": {
      "needs_background": "light"
     },
     "output_type": "display_data"
    }
   ],
   "source": [
    "fig = plt.figure(figsize=(15, 15))\n",
    "\n",
    "rows = 3\n",
    "for i, img in enumerate(final_bad_imgs, start=1):\n",
    "    fig.add_subplot(rows, np.ceil(len(final_bad_imgs)/rows), i)\n",
    "    plt.imshow(img)\n",
    "plt.show()"
   ]
  },
  {
   "cell_type": "markdown",
   "metadata": {},
   "source": [
    "Ok, obviously, async nature of Gym is confusing the training. Let's leave it for now and check other aspects of our training process."
   ]
  },
  {
   "cell_type": "markdown",
   "metadata": {},
   "source": [
    "## Overfit to subset of samples\n",
    "\n",
    "Normal approach to debug ML/DL methods is to try to overfit to some known set of samples. This allows us to inspect those samples and check values predicted by the model. It might sound trivial, but I've personally wasted several days debugging proper code, the only issue with which was lack of `loss.backward()`. \n",
    "\n",
    "Overall plan is the following:\n",
    "* reuse our class `TrajectoryTracking` to have access to trajectories,\n",
    "* play 10-20 episodes gathering data\n",
    "* take several final steps of successfull episodes (with positive reward) and several final steps from failed episodes\n",
    "* train on this data for several epoches\n",
    "* check training dynamics and values returned by the model\n",
    "* think\n",
    "\n",
    "If you feel yourself brave enough, you can try to implement this yourself without peeking into the next section."
   ]
  },
  {
   "cell_type": "code",
   "execution_count": 16,
   "metadata": {},
   "outputs": [
    {
     "name": "stderr",
     "output_type": "stream",
     "text": [
      "[2019-07-02 16:03:29,270] Making new env: wob.mini.ClickDialog-v0\n",
      "[2019-07-02 16:03:29,272] Using SoftmaxClickMouse with action_region=(10, 125, 170, 285), noclick_regions=[]\n",
      "[2019-07-02 16:03:29,273] SoftmaxClickMouse noclick regions removed 0 of 256 actions\n",
      "[2019-07-02 16:03:29,274] Using the golang VNC implementation\n",
      "[2019-07-02 16:03:29,274] Using VNCSession arguments: {'encoding': 'tight', 'compress_level': 0, 'fine_quality_level': 100, 'subsample_level': 0, 'start_timeout': 7}. (Customize by running \"env.configure(vnc_kwargs={...})\"\n",
      "[2019-07-02 16:03:29,301] [0] Connecting to environment: vnc://localhost:5900 password=openai. If desired, you can manually connect a VNC viewer, such as TurboVNC. Most environments provide a convenient in-browser VNC client: http://localhost:15900/viewer/?password=openai\n"
     ]
    },
    {
     "name": "stdout",
     "output_type": "stream",
     "text": [
      "Remotes URL: vnc://localhost:5900+15900\n"
     ]
    },
    {
     "name": "stderr",
     "output_type": "stream",
     "text": [
      "[2019-07-02 16:03:45,676] [0:localhost:5900] Sending reset for env_id=wob.mini.ClickDialog-v0 fps=60 episode_id=0\n",
      "[2019-07-02 16:03:45,705] [0:localhost:5900] Initial reset complete: episode_id=961\n"
     ]
    }
   ],
   "source": [
    "def wrapper_func(env):\n",
    "    env = MiniWoBCropper(env)\n",
    "    env = SoftmaxClickMouse(env)\n",
    "    env = TrajectoryTracking(env, size=10)\n",
    "    return env\n",
    "\n",
    "env = make_env(wrapper_func = wrapper_func, fps=5)\n",
    "join_env(env);"
   ]
  },
  {
   "cell_type": "code",
   "execution_count": 17,
   "metadata": {},
   "outputs": [],
   "source": [
    "net = Model(env.observation_space.shape, env.action_space.n).to(DEVICE)\n",
    "\n",
    "parent_selector = ptan.actions.ArgmaxActionSelector()\n",
    "action_selector = ptan.actions.EpsilonGreedyActionSelector(epsilon=1, selector=parent_selector) \n",
    "agent = ptan.agent.DQNAgent(net, action_selector, device=DEVICE)\n",
    "exp_source = ptan.experience.ExperienceSourceFirstLast(env, agent, gamma=GAMMA, vectorized=True)\n",
    "\n",
    "buffer = ptan.experience.ExperienceReplayBuffer(exp_source, REPLAY_SIZE)"
   ]
  },
  {
   "cell_type": "code",
   "execution_count": 18,
   "metadata": {},
   "outputs": [
    {
     "name": "stderr",
     "output_type": "stream",
     "text": [
      "[2019-07-02 16:03:50,158] [0:localhost:5900] Sending reset for env_id=wob.mini.ClickDialog-v0 fps=60 episode_id=0\n"
     ]
    },
    {
     "name": "stdout",
     "output_type": "stream",
     "text": [
      "Episode done with 15 steps and -1.000 reward\n",
      "Episode done with 53 steps and -1.000 reward\n",
      "Episode done with 22 steps and 0.617 reward\n",
      "Episode done with 52 steps and -1.000 reward\n",
      "Episode done with 16 steps and 0.741 reward\n"
     ]
    }
   ],
   "source": [
    "# wait for given amount of trajectories of both kind\n",
    "COUNT_REQUIRED = 2\n",
    "positive_traj = []\n",
    "negative_traj = []\n",
    "\n",
    "while len(positive_traj) < COUNT_REQUIRED or len(negative_traj) < COUNT_REQUIRED:\n",
    "    buffer.populate(1)\n",
    "    for rw, st in exp_source.pop_rewards_steps():\n",
    "        print(\"Episode done with %d steps and %.3f reward\" % (st, rw))\n",
    "        if rw > 0.2:\n",
    "            positive_traj.append(env.trajectories[-1])\n",
    "        elif rw < -0.2 and len(negative_traj) <= COUNT_REQUIRED:\n",
    "            negative_traj.append(env.trajectories[-1])"
   ]
  },
  {
   "cell_type": "markdown",
   "metadata": {},
   "source": [
    "It might take some time before you get two episodes with positive reward.\n",
    "\n",
    "Btw, sparcity of good examples might be the reason of bad convergence. One of the way of dealing with that could be increase of `fps` option on Env creation, just to have more clicks done."
   ]
  },
  {
   "cell_type": "code",
   "execution_count": 19,
   "metadata": {},
   "outputs": [
    {
     "name": "stdout",
     "output_type": "stream",
     "text": [
      "84 0.0\n",
      "38 0.0\n",
      "237 0.0\n",
      "84 0.0\n",
      "159 0.0\n",
      "203 0.0\n",
      "228 0.0\n",
      "79 0.0\n",
      "63 0.0\n",
      "39 0.0\n",
      "246 0.0\n",
      "87 0.0\n",
      "126 0.0\n",
      "10 0.0\n",
      "133 0.0\n",
      "104 0.0\n",
      "48 0.0\n",
      "158 0.0\n",
      "208 0.0\n",
      "151 0.0\n",
      "212 0.0\n",
      "195 0.6171\n"
     ]
    }
   ],
   "source": [
    "for s in positive_traj[0]:\n",
    "    print(s[1], s[2])"
   ]
  },
  {
   "cell_type": "code",
   "execution_count": 23,
   "metadata": {},
   "outputs": [
    {
     "data": {
      "image/png": "[encoded data removed]",
      "text/plain": [
       "<PIL.Image.Image image mode=RGB size=160x210 at 0x7FE65C1EEC18>"
      ]
     },
     "execution_count": 23,
     "metadata": {},
     "output_type": "execute_result"
    }
   ],
   "source": [
    "img = get_obs_img(positive_traj[0][-1][0], action=positive_traj[0][-1][1])\n",
    "img"
   ]
  },
  {
   "cell_type": "code",
   "execution_count": 26,
   "metadata": {},
   "outputs": [
    {
     "data": {
      "image/png": "[encoded data removed]",
      "text/plain": [
       "<PIL.Image.Image image mode=RGB size=160x210 at 0x7FE65C1FA5F8>"
      ]
     },
     "execution_count": 26,
     "metadata": {},
     "output_type": "execute_result"
    }
   ],
   "source": [
    "img = get_obs_img(positive_traj[1][-1][0], action=positive_traj[1][-1][1])\n",
    "img"
   ]
  },
  {
   "cell_type": "code",
   "execution_count": 27,
   "metadata": {},
   "outputs": [
    {
     "data": {
      "image/png": "[encoded data removed]",
      "text/plain": [
       "<PIL.Image.Image image mode=RGB size=160x210 at 0x7FE65C1FA8D0>"
      ]
     },
     "execution_count": 27,
     "metadata": {},
     "output_type": "execute_result"
    }
   ],
   "source": [
    "img = get_obs_img(positive_traj[1][-1][0], action=positive_traj[1][-2][1])\n",
    "img"
   ]
  },
  {
   "cell_type": "code",
   "execution_count": 29,
   "metadata": {},
   "outputs": [
    {
     "data": {
      "text/plain": [
       "2"
      ]
     },
     "execution_count": 29,
     "metadata": {},
     "output_type": "execute_result"
    }
   ],
   "source": [
    "training_positive = []\n",
    "\n",
    "# find this sample in our replay buffer\n",
    "for traj in positive_traj:\n",
    "    for sample in buffer:\n",
    "        if (sample.state == traj[-1][0]).all() and sample.action == traj[-1][1] and sample.last_state is None:\n",
    "            training_positive.append(sample)\n",
    "len(training_positive)"
   ]
  },
  {
   "cell_type": "code",
   "execution_count": 30,
   "metadata": {},
   "outputs": [
    {
     "data": {
      "text/plain": [
       "2"
      ]
     },
     "execution_count": 30,
     "metadata": {},
     "output_type": "execute_result"
    }
   ],
   "source": [
    "training_negative = []\n",
    "\n",
    "for traj in negative_traj:\n",
    "    for sample in buffer:\n",
    "        if (sample.state == traj[-1][0]).all() and sample.action == traj[-1][1] and sample.last_state is None:\n",
    "            training_negative.append(sample)\n",
    "len(training_negative)            "
   ]
  },
  {
   "cell_type": "code",
   "execution_count": 31,
   "metadata": {},
   "outputs": [],
   "source": [
    "batch = list(training_positive)\n",
    "batch.extend(training_negative)"
   ]
  },
  {
   "cell_type": "code",
   "execution_count": 32,
   "metadata": {},
   "outputs": [],
   "source": [
    "optimizer = optim.Adam(net.parameters(), LR)"
   ]
  },
  {
   "cell_type": "code",
   "execution_count": 33,
   "metadata": {},
   "outputs": [],
   "source": [
    "# training the net\n",
    "losses = []\n",
    "q_vals = []\n",
    "\n",
    "for _ in range(100):\n",
    "    state_v, actions_v, ref_q_v = unpack_batch(batch, net, gamma=GAMMA, device=DEVICE)\n",
    "    optimizer.zero_grad()\n",
    "    q_v = net(state_v)\n",
    "    q_v = q_v.gather(1, actions_v.unsqueeze(-1)).squeeze(-1)\n",
    "    loss_v = F.mse_loss(q_v, ref_q_v)\n",
    "    loss_v.backward()\n",
    "    optimizer.step()\n",
    "    losses.append(loss_v.item())\n",
    "    q_vals.append(q_v.cpu().detach().numpy())"
   ]
  },
  {
   "cell_type": "code",
   "execution_count": 34,
   "metadata": {},
   "outputs": [
    {
     "data": {
      "text/plain": [
       "[0.7020667195320129,\n",
       " 0.5762248039245605,\n",
       " 0.29705360531806946,\n",
       " 0.006723565515130758,\n",
       " 0.6064431071281433,\n",
       " 0.06643851101398468,\n",
       " 0.024490099400281906,\n",
       " 0.13058587908744812,\n",
       " 0.2066664695739746,\n",
       " 0.23621362447738647]"
      ]
     },
     "execution_count": 34,
     "metadata": {},
     "output_type": "execute_result"
    }
   ],
   "source": [
    "losses[:10]"
   ]
  },
  {
   "cell_type": "code",
   "execution_count": 35,
   "metadata": {},
   "outputs": [
    {
     "data": {
      "image/png": "[encoded data removed]",
      "text/plain": [
       "<Figure size 432x288 with 1 Axes>"
      ]
     },
     "metadata": {
      "needs_background": "light"
     },
     "output_type": "display_data"
    }
   ],
   "source": [
    "plt.plot(losses);"
   ]
  },
  {
   "cell_type": "code",
   "execution_count": 36,
   "metadata": {},
   "outputs": [
    {
     "data": {
      "text/plain": [
       "tensor([ 0.6171,  0.7411, -1.0000, -1.0000], device='cuda:0')"
      ]
     },
     "execution_count": 36,
     "metadata": {},
     "output_type": "execute_result"
    }
   ],
   "source": [
    "ref_q_v"
   ]
  },
  {
   "cell_type": "code",
   "execution_count": 37,
   "metadata": {},
   "outputs": [
    {
     "data": {
      "image/png": "[encoded data removed]",
      "text/plain": [
       "<Figure size 432x288 with 1 Axes>"
      ]
     },
     "metadata": {
      "needs_background": "light"
     },
     "output_type": "display_data"
    }
   ],
   "source": [
    "a, b, c, d = zip(*q_vals)\n",
    "plt.plot(a)\n",
    "plt.plot(b)\n",
    "plt.plot(c)\n",
    "plt.plot(d);"
   ]
  },
  {
   "cell_type": "markdown",
   "metadata": {},
   "source": [
    "Looks OK"
   ]
  },
  {
   "cell_type": "markdown",
   "metadata": {},
   "source": [
    "# Fixing the weird samples\n",
    "\n",
    "Let's return to our finding of weird samples at the end of trajectories. It is obvious (from Bellman equation) that those samples are extremely important for convergence, as they form the \"basis\" of our Q-values. So, network need to converge to those end-of-episode values and then they will be used to learn more early steps (or find shorter paths to those final states).\n",
    "\n",
    "But our end-of-episodes samples are nasty -- we can click at proper place, but due to timeout get -1 reward on the next step. On the other hand, we can click properly in the beginning, but due to VNC delay, we'll get positive reward several steps later. And those steps will include completely random clicks. This situation also turns our environment into POMDP domain. Indeed, prior clicks are important for subsequent trajectory, but our agent has no idea about the clicks we've done. \n",
    "\n",
    "We can't fix asynchronous nature of things, but we can help our agent by cleaning up the mess a bit.\n",
    "\n",
    "As a very simple approach, we can allow the agent to do N clicks after the environment reset and then wait for the end of the episode. All MiniWoB environments lasts for 10 seconds, so, half of this time sounds reasonable.\n",
    "\n",
    "To fix the POMDP, we just need to remember previous clicks and pass them to the agent in observation. The simplest way of doing this will be to have a separate \"color plane\" in observations with filled grids we've already clicked.\n",
    "\n",
    "Below is outline of two wrappers we need to write."
   ]
  },
  {
   "cell_type": "markdown",
   "metadata": {},
   "source": [
    "## Time limit wrapper"
   ]
  },
  {
   "cell_type": "code",
   "execution_count": null,
   "metadata": {},
   "outputs": [],
   "source": [
    "class MiniWoBTimeBudget(vectorized.Wrapper):\n",
    "    \"\"\"\n",
    "    Limits the amount of time we can click.\n",
    "    \"\"\"\n",
    "    def __init__(self, env, time_budget: float = 5):\n",
    "        super(MiniWoBTimeBudget, self).__init__(env)\n",
    "        self.time_budget = time_budget\n",
    "        self.reset_ts = None\n",
    "\n",
    "    def reset(self):\n",
    "        self.reset_ts = time.time()\n",
    "        return self.env.reset()\n",
    "    \n",
    "    def step(self, action_n):\n",
    "        # TODO: implement me properly for N environments :)\n",
    "        obs_n, r_n, done_n, info_n = self.env.step(action_n)\n",
    "        # check the time bugdet. We we have time, just return the result, allowing the agent to click more,\n",
    "        # otherwise repeat the action (accumulating the reward for the rest of the trajectory)\n",
    "        # do not forget to reset self.reset_ts (as reset method is only called once)\n",
    "        raise NotImplementedError\n",
    "        return obs_n, r_n, done_n, info_n"
   ]
  },
  {
   "cell_type": "markdown",
   "metadata": {},
   "source": [
    "## Tests"
   ]
  },
  {
   "cell_type": "code",
   "execution_count": 43,
   "metadata": {},
   "outputs": [
    {
     "name": "stderr",
     "output_type": "stream",
     "text": [
      "[2019-07-02 16:38:25,340] Making new env: wob.mini.ClickDialog-v0\n",
      "[2019-07-02 16:38:25,342] Using SoftmaxClickMouse with action_region=(10, 125, 170, 285), noclick_regions=[]\n",
      "[2019-07-02 16:38:25,343] SoftmaxClickMouse noclick regions removed 0 of 256 actions\n",
      "[2019-07-02 16:38:25,344] Using the golang VNC implementation\n",
      "[2019-07-02 16:38:25,344] Using VNCSession arguments: {'encoding': 'tight', 'compress_level': 0, 'fine_quality_level': 100, 'subsample_level': 0, 'start_timeout': 7}. (Customize by running \"env.configure(vnc_kwargs={...})\"\n",
      "[2019-07-02 16:38:25,368] [0] Connecting to environment: vnc://localhost:5900 password=openai. If desired, you can manually connect a VNC viewer, such as TurboVNC. Most environments provide a convenient in-browser VNC client: http://localhost:15900/viewer/?password=openai\n"
     ]
    },
    {
     "name": "stdout",
     "output_type": "stream",
     "text": [
      "Remotes URL: vnc://localhost:5900+15900\n"
     ]
    },
    {
     "name": "stderr",
     "output_type": "stream",
     "text": [
      "[2019-07-02 16:38:41,750] [0:localhost:5900] Sending reset for env_id=wob.mini.ClickDialog-v0 fps=60 episode_id=0\n",
      "[2019-07-02 16:38:41,792] [0:localhost:5900] Initial reset complete: episode_id=1165\n"
     ]
    }
   ],
   "source": [
    "def wrapper_func(env):\n",
    "    env = MiniWoBCropper(env)\n",
    "    env = SoftmaxClickMouse(env)\n",
    "    env = MiniWoBTimeBudget(env)\n",
    "    return env\n",
    "\n",
    "env = make_env(wrapper_func = wrapper_func, fps=5)\n",
    "join_env(env);"
   ]
  },
  {
   "cell_type": "code",
   "execution_count": 44,
   "metadata": {},
   "outputs": [
    {
     "name": "stdout",
     "output_type": "stream",
     "text": [
      "Episode done, 5 left\n",
      "Episode done, 4 left\n",
      "Episode done, 3 left\n",
      "Episode done, 2 left\n",
      "Episode done, 1 left\n",
      "Episode done, 0 left\n"
     ]
    }
   ],
   "source": [
    "# FPS=5 should give us 25 frames in wrapped environment and 50 in unwrapped\n",
    "frames = 0\n",
    "episodes = 6\n",
    "while episodes > 0:\n",
    "    # clicking in top-left corner, we should get no reward from this action\n",
    "    _, _, is_done_n, _ = env.step([0])\n",
    "    # do not take into account first episode, it will be partial\n",
    "    if episodes < 6:\n",
    "        frames += 1\n",
    "    if is_done_n[0]:\n",
    "        episodes -= 1\n",
    "        print(\"Episode done, %d left\" % episodes)"
   ]
  },
  {
   "cell_type": "code",
   "execution_count": 47,
   "metadata": {},
   "outputs": [],
   "source": [
    "assert 20 < frames/5 < 30"
   ]
  },
  {
   "cell_type": "markdown",
   "metadata": {},
   "source": [
    "## Solution\n",
    "\n",
    "Spoiler alert!"
   ]
  },
  {
   "cell_type": "code",
   "execution_count": 38,
   "metadata": {},
   "outputs": [],
   "source": [
    "class MiniWoBTimeBudget(vectorized.Wrapper):\n",
    "    \"\"\"\n",
    "    Limits the amount of time we can click.\n",
    "    \"\"\"\n",
    "    def __init__(self, env, time_budget: float = 5):\n",
    "        super(MiniWoBTimeBudget, self).__init__(env)\n",
    "        self.time_budget = time_budget\n",
    "        self.reset_ts = None\n",
    "\n",
    "    def reset(self):\n",
    "        self.reset_ts = time.time()\n",
    "        return self.env.reset()\n",
    "    \n",
    "    def step(self, action_n):\n",
    "        # TODO: implement me properly for N environments :)\n",
    "        obs_n, r_n, done_n, info_n = self.env.step(action_n)\n",
    "        if time.time() - self.reset_ts < self.time_budget:\n",
    "            return obs_n, r_n, done_n, info_n\n",
    "        while not done_n[0]:\n",
    "            _, rr_n, done_n, info_n = self.env.step(action_n)\n",
    "            r_n[0] += rr_n[0]\n",
    "        self.reset_ts = time.time()\n",
    "        return obs_n, r_n, done_n, info_n"
   ]
  },
  {
   "cell_type": "markdown",
   "metadata": {},
   "source": [
    "## Track clicks wrapper"
   ]
  },
  {
   "cell_type": "code",
   "execution_count": 137,
   "metadata": {},
   "outputs": [],
   "source": [
    "class MiniWoBTrackClicks(vectorized.Wrapper):\n",
    "    \"\"\"\n",
    "    Limits the amount of time we can click.\n",
    "    \"\"\"\n",
    "    def __init__(self, env):\n",
    "        super(MiniWoBTrackClicks, self).__init__(env)\n",
    "        s = env.observation_space.shape\n",
    "        self.clicks_buf = np.zeros(s[1:], dtype=np.uint8)\n",
    "        self.observation_space = gym.spaces.Box(low=0, high=255, shape=(s[0]+1, s[1], s[2]))\n",
    "\n",
    "    def reset(self):\n",
    "        self.clicks_buf[:] = 0\n",
    "        return self.env.reset()\n",
    "    \n",
    "    def step(self, action_n):\n",
    "        obs_n, r_n, done_n, info_n = self.env.step(action_n)\n",
    "        if obs_n[0] is None:\n",
    "            return obs_n, r_n, done_n, info_n\n",
    "\n",
    "        # track the click\n",
    "        # append the color plane to observation\n",
    "        # if episode is done, reset the click buffer\n",
    "        raise NotImplementedError\n",
    "        return obs_n, r_n, done_n, info_n"
   ]
  },
  {
   "cell_type": "markdown",
   "metadata": {},
   "source": [
    "## Tests"
   ]
  },
  {
   "cell_type": "code",
   "execution_count": 115,
   "metadata": {},
   "outputs": [
    {
     "name": "stderr",
     "output_type": "stream",
     "text": [
      "[2019-07-02 17:11:26,599] Making new env: wob.mini.ClickDialog-v0\n",
      "/home/shmuma/anaconda3/envs/miniwob/lib/python3.6/site-packages/gym/envs/registration.py:17: PkgResourcesDeprecationWarning: Parameters to load are deprecated.  Call .resolve and .require separately.\n",
      "  result = entry_point.load(False)\n",
      "[2019-07-02 17:11:26,602] Using SoftmaxClickMouse with action_region=(10, 125, 170, 285), noclick_regions=[]\n",
      "[2019-07-02 17:11:26,602] SoftmaxClickMouse noclick regions removed 0 of 256 actions\n",
      "[2019-07-02 17:11:26,604] Using the golang VNC implementation\n",
      "[2019-07-02 17:11:26,605] Using VNCSession arguments: {'encoding': 'tight', 'compress_level': 0, 'fine_quality_level': 100, 'subsample_level': 0, 'start_timeout': 7}. (Customize by running \"env.configure(vnc_kwargs={...})\"\n",
      "[2019-07-02 17:11:26,629] [0] Connecting to environment: vnc://localhost:5900 password=openai. If desired, you can manually connect a VNC viewer, such as TurboVNC. Most environments provide a convenient in-browser VNC client: http://localhost:15900/viewer/?password=openai\n"
     ]
    },
    {
     "name": "stdout",
     "output_type": "stream",
     "text": [
      "Remotes URL: vnc://localhost:5900+15900\n"
     ]
    },
    {
     "name": "stderr",
     "output_type": "stream",
     "text": [
      "[2019-07-02 17:11:43,117] [0:localhost:5900] Sending reset for env_id=wob.mini.ClickDialog-v0 fps=60 episode_id=0\n",
      "[2019-07-02 17:11:43,139] [0:localhost:5900] Initial reset complete: episode_id=1359\n"
     ]
    }
   ],
   "source": [
    "def wrapper_func(env):\n",
    "    env = MiniWoBCropper(env)\n",
    "    env = SoftmaxClickMouse(env)\n",
    "    env = MiniWoBTrackClicks(env)\n",
    "    return env\n",
    "\n",
    "env = make_env(wrapper_func = wrapper_func, fps=5)\n",
    "obs_n = join_env(env);"
   ]
  },
  {
   "cell_type": "code",
   "execution_count": 116,
   "metadata": {},
   "outputs": [],
   "source": [
    "assert obs_n[0].shape == (4, 210, 160)"
   ]
  },
  {
   "cell_type": "code",
   "execution_count": 117,
   "metadata": {},
   "outputs": [
    {
     "name": "stderr",
     "output_type": "stream",
     "text": [
      "[2019-07-02 17:11:47,991] Throttle fell behind by 4.53s; lost 22.64 frames\n"
     ]
    }
   ],
   "source": [
    "# wait for fresh observation\n",
    "while True:\n",
    "    _, _, is_done_n, _ = env.step([0])\n",
    "    if is_done_n[0]:\n",
    "        break\n",
    "o0, _, _, _ = env.step([0])\n",
    "o255, _, _, _ = env.step([255])\n",
    "o15, _, _, _ = env.step([15])"
   ]
  },
  {
   "cell_type": "code",
   "execution_count": 127,
   "metadata": {},
   "outputs": [],
   "source": [
    "assert (o0[0][3,:,:] == 255).sum() == 100\n",
    "assert (o255[0][3,:,:] == 255).sum() == 200\n",
    "assert (o15[0][3,:,:] == 255).sum() == 300"
   ]
  },
  {
   "cell_type": "code",
   "execution_count": 131,
   "metadata": {},
   "outputs": [],
   "source": [
    "nz0 = o0[0][3,:,:].nonzero()\n",
    "assert (nz0[0] == [50, 50, 50, 50, 50, 50, 50, 50, 50, 50, 51, 51, 51, 51, 51, 51, 51,\n",
    "        51, 51, 51, 52, 52, 52, 52, 52, 52, 52, 52, 52, 52, 53, 53, 53, 53,\n",
    "        53, 53, 53, 53, 53, 53, 54, 54, 54, 54, 54, 54, 54, 54, 54, 54, 55,\n",
    "        55, 55, 55, 55, 55, 55, 55, 55, 55, 56, 56, 56, 56, 56, 56, 56, 56,\n",
    "        56, 56, 57, 57, 57, 57, 57, 57, 57, 57, 57, 57, 58, 58, 58, 58, 58,\n",
    "        58, 58, 58, 58, 58, 59, 59, 59, 59, 59, 59, 59, 59, 59, 59]).all()\n",
    "assert (nz0[1] == [0, 1, 2, 3, 4, 5, 6, 7, 8, 9, 0, 1, 2, 3, 4, 5, 6, 7, 8, 9, 0, 1,\n",
    "       2, 3, 4, 5, 6, 7, 8, 9, 0, 1, 2, 3, 4, 5, 6, 7, 8, 9, 0, 1, 2, 3,\n",
    "       4, 5, 6, 7, 8, 9, 0, 1, 2, 3, 4, 5, 6, 7, 8, 9, 0, 1, 2, 3, 4, 5,\n",
    "       6, 7, 8, 9, 0, 1, 2, 3, 4, 5, 6, 7, 8, 9, 0, 1, 2, 3, 4, 5, 6, 7,\n",
    "       8, 9, 0, 1, 2, 3, 4, 5, 6, 7, 8, 9]).all()"
   ]
  },
  {
   "cell_type": "code",
   "execution_count": 136,
   "metadata": {},
   "outputs": [],
   "source": [
    "assert (o15[0][3,200:210,0:10] == 255).all()"
   ]
  },
  {
   "cell_type": "markdown",
   "metadata": {},
   "source": [
    "## Solution"
   ]
  },
  {
   "cell_type": "code",
   "execution_count": 140,
   "metadata": {},
   "outputs": [],
   "source": [
    "class MiniWoBTrackClicks(vectorized.Wrapper):\n",
    "    \"\"\"\n",
    "    Limits the amount of time we can click.\n",
    "    \"\"\"\n",
    "    def __init__(self, env):\n",
    "        super(MiniWoBTrackClicks, self).__init__(env)\n",
    "        s = env.observation_space.shape\n",
    "        self.clicks_buf = np.zeros(s[1:], dtype=np.uint8)\n",
    "        self.observation_space = gym.spaces.Box(low=0, high=255, shape=(s[0]+1, s[1], s[2]))\n",
    "\n",
    "    def reset(self):\n",
    "        self.clicks_buf[:] = 0\n",
    "        return self.env.reset()\n",
    "    \n",
    "    def step(self, action_n):\n",
    "        # TODO: implement me properly for N environments :)\n",
    "        obs_n, r_n, done_n, info_n = self.env.step(action_n)\n",
    "        if obs_n[0] is None:\n",
    "            return obs_n, r_n, done_n, info_n\n",
    "\n",
    "        # track the click\n",
    "        x = action_n[0] // 16\n",
    "        y = action_n[0] % 16 + 5    # +5 is needed to offset click region down 50 pixels\n",
    "        self.clicks_buf[y*10:(y+1)*10, x*10:(x+1)*10] = 255\n",
    "        \n",
    "        obs_n[0] = np.vstack((obs_n[0], [self.clicks_buf]))\n",
    "        if done_n[0]:\n",
    "            self.clicks_buf[:] = 0\n",
    "        return obs_n, r_n, done_n, info_n"
   ]
  },
  {
   "cell_type": "markdown",
   "metadata": {},
   "source": [
    "# Test of our fix"
   ]
  },
  {
   "cell_type": "code",
   "execution_count": 145,
   "metadata": {},
   "outputs": [],
   "source": [
    "GAMMA = 0.9\n",
    "REPLAY_SIZE = 10000\n",
    "MIN_REPLAY = 100\n",
    "TGT_SYNC = 100\n",
    "BATCH_SIZE = 16\n",
    "LR = 1e-3\n",
    "DEVICE = \"cuda\"  \n",
    "#DEVICE = \"cpu\"\n",
    "\n",
    "INITIAL_EPSILON = 1.0\n",
    "FINAL_EPSILON = 0.2\n",
    "STEPS_EPSILON = 1000"
   ]
  },
  {
   "cell_type": "code",
   "execution_count": 146,
   "metadata": {},
   "outputs": [
    {
     "name": "stderr",
     "output_type": "stream",
     "text": [
      "[2019-07-02 17:21:59,541] Making new env: wob.mini.ClickDialog-v0\n",
      "[2019-07-02 17:21:59,546] Using SoftmaxClickMouse with action_region=(10, 125, 170, 285), noclick_regions=[]\n",
      "[2019-07-02 17:21:59,547] SoftmaxClickMouse noclick regions removed 0 of 256 actions\n",
      "[2019-07-02 17:21:59,550] Using the golang VNC implementation\n",
      "[2019-07-02 17:21:59,551] Using VNCSession arguments: {'encoding': 'tight', 'compress_level': 0, 'fine_quality_level': 100, 'subsample_level': 0, 'start_timeout': 7}. (Customize by running \"env.configure(vnc_kwargs={...})\"\n",
      "[2019-07-02 17:21:59,575] [0] Connecting to environment: vnc://localhost:5900 password=openai. If desired, you can manually connect a VNC viewer, such as TurboVNC. Most environments provide a convenient in-browser VNC client: http://localhost:15900/viewer/?password=openai\n"
     ]
    },
    {
     "name": "stdout",
     "output_type": "stream",
     "text": [
      "Remotes URL: vnc://localhost:5900+15900\n"
     ]
    },
    {
     "name": "stderr",
     "output_type": "stream",
     "text": [
      "[2019-07-02 17:22:16,057] [0:localhost:5900] Sending reset for env_id=wob.mini.ClickDialog-v0 fps=60 episode_id=0\n",
      "[2019-07-02 17:22:16,126] [0:localhost:5900] Initial reset complete: episode_id=1424\n"
     ]
    }
   ],
   "source": [
    "def wrapper_func(env):\n",
    "    env = MiniWoBCropper(env)\n",
    "    env = SoftmaxClickMouse(env)\n",
    "    env = MiniWoBTrackClicks(env)\n",
    "    env = MiniWoBTimeBudget(env)\n",
    "    return env\n",
    "\n",
    "env = make_env(wrapper_func = wrapper_func, fps=5)\n",
    "obs_n = join_env(env);"
   ]
  },
  {
   "cell_type": "code",
   "execution_count": 147,
   "metadata": {},
   "outputs": [],
   "source": [
    "net = Model(env.observation_space.shape, env.action_space.n).to(DEVICE)\n",
    "tgt_net = ptan.agent.TargetNet(net)\n",
    "\n",
    "parent_selector = ptan.actions.ArgmaxActionSelector()\n",
    "action_selector = ptan.actions.EpsilonGreedyActionSelector(epsilon=INITIAL_EPSILON, selector=parent_selector) \n",
    "agent = ptan.agent.DQNAgent(net, action_selector, device=DEVICE)\n",
    "exp_source = ptan.experience.ExperienceSourceFirstLast(env, agent, gamma=GAMMA, vectorized=True)\n",
    "\n",
    "buffer = ptan.experience.ExperienceReplayBuffer(exp_source, REPLAY_SIZE)\n",
    "optimizer = optim.Adam(net.parameters(), LR)"
   ]
  },
  {
   "cell_type": "code",
   "execution_count": 148,
   "metadata": {},
   "outputs": [
    {
     "name": "stderr",
     "output_type": "stream",
     "text": [
      "[2019-07-02 17:22:22,522] [0:localhost:5900] Sending reset for env_id=wob.mini.ClickDialog-v0 fps=60 episode_id=0\n"
     ]
    },
    {
     "name": "stdout",
     "output_type": "stream",
     "text": [
      "25: Done 1 episodes, last 10 means: reward=-1.000, steps=25.000, speed=2.31 steps/s, eps=1.00\n",
      "49: Done 2 episodes, last 10 means: reward=-0.503, steps=25.000, speed=2.18 steps/s, eps=1.00\n",
      "73: Done 3 episodes, last 10 means: reward=-0.669, steps=25.000, speed=2.30 steps/s, eps=1.00\n",
      "82: Done 4 episodes, last 10 means: reward=-0.285, steps=21.250, speed=4.50 steps/s, eps=1.00\n",
      "96: Done 5 episodes, last 10 means: reward=-0.428, steps=20.000, speed=1.34 steps/s, eps=1.00\n",
      "100: nets synced, mean loss for last 10 steps = 0.012\n",
      "106: Done 6 episodes, last 10 means: reward=-0.222, steps=18.500, speed=3.63 steps/s, eps=0.99\n",
      "115: Done 7 episodes, last 10 means: reward=-0.333, steps=17.286, speed=0.85 steps/s, eps=0.99\n",
      "134: Done 8 episodes, last 10 means: reward=-0.417, steps=17.625, speed=1.83 steps/s, eps=0.97\n",
      "151: Done 10 episodes, last 10 means: reward=-0.376, steps=16.000, speed=1.12 steps/s, eps=0.95\n",
      "171: Done 11 episodes, last 10 means: reward=-0.376, steps=15.600, speed=1.89 steps/s, eps=0.93\n",
      "175: Done 12 episodes, last 10 means: reward=-0.283, steps=13.600, speed=3.11 steps/s, eps=0.93\n",
      "189: Done 13 episodes, last 10 means: reward=-0.283, steps=12.600, speed=1.32 steps/s, eps=0.91\n",
      "193: Done 14 episodes, last 10 means: reward=-0.278, steps=12.100, speed=3.10 steps/s, eps=0.91\n",
      "200: nets synced, mean loss for last 10 steps = 0.013\n",
      "207: Done 15 episodes, last 10 means: reward=-0.278, steps=12.100, speed=1.34 steps/s, eps=0.89\n",
      "226: Done 16 episodes, last 10 means: reward=-0.459, steps=13.000, speed=1.80 steps/s, eps=0.88\n",
      "247: Done 17 episodes, last 10 means: reward=-0.459, steps=14.200, speed=2.00 steps/s, eps=0.85\n",
      "265: Done 18 episodes, last 10 means: reward=-0.459, steps=14.100, speed=1.70 steps/s, eps=0.84\n",
      "284: Done 19 episodes, last 10 means: reward=-0.616, steps=14.300, speed=1.80 steps/s, eps=0.82\n",
      "300: Done 20 episodes, last 10 means: reward=-0.460, steps=15.900, speed=2.96 steps/s, eps=0.80\n",
      "300: nets synced, mean loss for last 10 steps = 0.016\n",
      "318: Done 21 episodes, last 10 means: reward=-0.460, steps=15.700, speed=1.80 steps/s, eps=0.78\n",
      "335: Done 22 episodes, last 10 means: reward=-0.653, steps=17.000, speed=1.62 steps/s, eps=0.77\n",
      "353: Done 23 episodes, last 10 means: reward=-0.553, steps=17.400, speed=1.72 steps/s, eps=0.75\n",
      "373: Done 24 episodes, last 10 means: reward=-0.844, steps=19.000, speed=1.89 steps/s, eps=0.73\n",
      "392: Done 25 episodes, last 10 means: reward=-0.844, steps=19.500, speed=1.83 steps/s, eps=0.71\n",
      "400: nets synced, mean loss for last 10 steps = 0.017\n",
      "411: Done 26 episodes, last 10 means: reward=-0.844, steps=19.500, speed=1.78 steps/s, eps=0.69\n",
      "420: Done 27 episodes, last 10 means: reward=-0.666, steps=18.300, speed=3.51 steps/s, eps=0.68\n",
      "430: Done 28 episodes, last 10 means: reward=-0.666, steps=17.500, speed=0.94 steps/s, eps=0.67\n",
      "447: Done 29 episodes, last 10 means: reward=-0.666, steps=17.300, speed=1.63 steps/s, eps=0.65\n",
      "467: Done 30 episodes, last 10 means: reward=-0.822, steps=17.700, speed=1.92 steps/s, eps=0.63\n",
      "486: Done 31 episodes, last 10 means: reward=-0.722, steps=17.800, speed=1.82 steps/s, eps=0.61\n",
      "496: Done 32 episodes, last 10 means: reward=-0.545, steps=17.100, speed=3.46 steps/s, eps=0.60\n",
      "500: nets synced, mean loss for last 10 steps = 0.088\n",
      "504: Done 33 episodes, last 10 means: reward=-0.645, steps=16.100, speed=0.75 steps/s, eps=0.60\n",
      "523: Done 34 episodes, last 10 means: reward=-0.545, steps=16.000, speed=1.82 steps/s, eps=0.58\n",
      "543: Done 35 episodes, last 10 means: reward=-0.545, steps=16.100, speed=1.90 steps/s, eps=0.56\n",
      "560: Done 36 episodes, last 10 means: reward=-0.545, steps=15.900, speed=1.63 steps/s, eps=0.54\n",
      "578: Done 37 episodes, last 10 means: reward=-0.723, steps=16.800, speed=1.71 steps/s, eps=0.52\n",
      "596: Done 38 episodes, last 10 means: reward=-0.723, steps=17.600, speed=1.72 steps/s, eps=0.51\n",
      "600: nets synced, mean loss for last 10 steps = 0.122\n",
      "617: Done 39 episodes, last 10 means: reward=-0.723, steps=18.000, speed=2.00 steps/s, eps=0.48\n",
      "637: Done 40 episodes, last 10 means: reward=-0.723, steps=18.000, speed=1.87 steps/s, eps=0.46\n",
      "655: Done 41 episodes, last 10 means: reward=-0.823, steps=17.900, speed=1.73 steps/s, eps=0.45\n",
      "658: Done 42 episodes, last 10 means: reward=-0.804, steps=17.200, speed=2.71 steps/s, eps=0.44\n",
      "660: Done 43 episodes, last 10 means: reward=-0.608, steps=16.600, speed=2.48 steps/s, eps=0.44\n",
      "672: Done 44 episodes, last 10 means: reward=-0.608, steps=15.900, speed=1.14 steps/s, eps=0.43\n",
      "692: Done 45 episodes, last 10 means: reward=-0.608, steps=15.900, speed=1.91 steps/s, eps=0.41\n",
      "700: nets synced, mean loss for last 10 steps = 0.136\n",
      "704: Done 46 episodes, last 10 means: reward=-0.440, steps=15.400, speed=3.35 steps/s, eps=0.40\n",
      "709: Done 47 episodes, last 10 means: reward=-0.440, steps=14.100, speed=0.47 steps/s, eps=0.39\n",
      "728: Done 48 episodes, last 10 means: reward=-0.440, steps=14.200, speed=1.83 steps/s, eps=0.37\n",
      "743: Done 49 episodes, last 10 means: reward=-0.280, steps=13.600, speed=1.05 steps/s, eps=0.36\n",
      "744: Done 50 episodes, last 10 means: reward=-0.280, steps=11.700, speed=1.65 steps/s, eps=0.36\n",
      "755: Done 51 episodes, last 10 means: reward=-0.106, steps=11.000, speed=3.47 steps/s, eps=0.35\n",
      "762: Done 53 episodes, last 10 means: reward=-0.313, steps=11.200, speed=0.56 steps/s, eps=0.34\n",
      "785: Done 54 episodes, last 10 means: reward=-0.313, steps=12.300, speed=2.14 steps/s, eps=0.32\n",
      "800: nets synced, mean loss for last 10 steps = 0.237\n",
      "804: Done 55 episodes, last 10 means: reward=-0.313, steps=12.200, speed=1.82 steps/s, eps=0.30\n",
      "810: Done 56 episodes, last 10 means: reward=-0.295, steps=11.600, speed=3.05 steps/s, eps=0.29\n",
      "821: Done 57 episodes, last 10 means: reward=-0.295, steps=12.200, speed=1.05 steps/s, eps=0.28\n",
      "840: Done 58 episodes, last 10 means: reward=-0.295, steps=12.200, speed=1.80 steps/s, eps=0.26\n",
      "861: Done 59 episodes, last 10 means: reward=-0.307, steps=12.800, speed=3.72 steps/s, eps=0.24\n",
      "863: Done 60 episodes, last 10 means: reward=-0.110, steps=12.900, speed=2.49 steps/s, eps=0.24\n",
      "880: Done 61 episodes, last 10 means: reward=-0.284, steps=13.500, speed=1.62 steps/s, eps=0.22\n",
      "889: Done 62 episodes, last 10 means: reward=-0.288, steps=13.700, speed=3.63 steps/s, eps=0.21\n",
      "892: Done 63 episodes, last 10 means: reward=-0.092, steps=14.000, speed=2.95 steps/s, eps=0.21\n",
      "897: Done 64 episodes, last 10 means: reward=-0.092, steps=12.200, speed=0.48 steps/s, eps=0.20\n",
      "900: nets synced, mean loss for last 10 steps = 0.286\n",
      "916: Done 65 episodes, last 10 means: reward=0.061, steps=12.200, speed=3.57 steps/s, eps=0.20\n",
      "933: Done 66 episodes, last 10 means: reward=0.034, steps=13.300, speed=1.19 steps/s, eps=0.20\n",
      "934: Done 67 episodes, last 10 means: reward=0.034, steps=12.300, speed=1.65 steps/s, eps=0.20\n",
      "954: Done 68 episodes, last 10 means: reward=0.133, steps=12.400, speed=1.76 steps/s, eps=0.20\n",
      "971: Done 69 episodes, last 10 means: reward=-0.016, steps=12.000, speed=1.62 steps/s, eps=0.20\n",
      "983: Done 70 episodes, last 10 means: reward=-0.044, steps=13.000, speed=3.23 steps/s, eps=0.20\n",
      "988: Done 71 episodes, last 10 means: reward=-0.044, steps=11.800, speed=0.49 steps/s, eps=0.20\n",
      "1000: nets synced, mean loss for last 10 steps = 0.402\n",
      "1008: Done 72 episodes, last 10 means: reward=-0.124, steps=12.900, speed=1.90 steps/s, eps=0.20\n",
      "1026: Done 73 episodes, last 10 means: reward=-0.420, steps=14.400, speed=1.69 steps/s, eps=0.20\n",
      "1040: Done 74 episodes, last 10 means: reward=-0.420, steps=15.300, speed=1.34 steps/s, eps=0.20\n",
      "1059: Done 75 episodes, last 10 means: reward=-0.573, steps=15.300, speed=1.81 steps/s, eps=0.20\n",
      "1076: Done 76 episodes, last 10 means: reward=-0.732, steps=15.300, speed=1.62 steps/s, eps=0.20\n",
      "1079: Done 77 episodes, last 10 means: reward=-0.537, steps=15.500, speed=2.90 steps/s, eps=0.20\n",
      "1095: Done 78 episodes, last 10 means: reward=-0.636, steps=15.100, speed=1.54 steps/s, eps=0.20\n",
      "1100: nets synced, mean loss for last 10 steps = 0.658\n",
      "1113: Done 79 episodes, last 10 means: reward=-0.636, steps=15.200, speed=1.70 steps/s, eps=0.20\n",
      "1131: Done 80 episodes, last 10 means: reward=-0.805, steps=15.800, speed=1.73 steps/s, eps=0.20\n",
      "1150: Done 81 episodes, last 10 means: reward=-0.805, steps=17.200, speed=1.81 steps/s, eps=0.20\n",
      "1168: Done 82 episodes, last 10 means: reward=-0.905, steps=17.000, speed=1.68 steps/s, eps=0.20\n"
     ]
    },
    {
     "name": "stdout",
     "output_type": "stream",
     "text": [
      "1188: Done 83 episodes, last 10 means: reward=-0.805, steps=17.200, speed=1.95 steps/s, eps=0.20\n",
      "1200: nets synced, mean loss for last 10 steps = 2.230\n",
      "1208: Done 84 episodes, last 10 means: reward=-0.805, steps=17.800, speed=1.91 steps/s, eps=0.20\n"
     ]
    },
    {
     "ename": "KeyboardInterrupt",
     "evalue": "",
     "output_type": "error",
     "traceback": [
      "\u001b[0;31m---------------------------------------------------------------------------\u001b[0m",
      "\u001b[0;31mKeyboardInterrupt\u001b[0m                         Traceback (most recent call last)",
      "\u001b[0;32m<ipython-input-148-466a0c642d50>\u001b[0m in \u001b[0;36m<module>\u001b[0;34m\u001b[0m\n\u001b[1;32m      8\u001b[0m \u001b[0;32mwhile\u001b[0m \u001b[0;32mTrue\u001b[0m\u001b[0;34m:\u001b[0m\u001b[0;34m\u001b[0m\u001b[0;34m\u001b[0m\u001b[0m\n\u001b[1;32m      9\u001b[0m     \u001b[0msteps\u001b[0m \u001b[0;34m+=\u001b[0m \u001b[0;36m1\u001b[0m\u001b[0;34m\u001b[0m\u001b[0;34m\u001b[0m\u001b[0m\n\u001b[0;32m---> 10\u001b[0;31m     \u001b[0mbuffer\u001b[0m\u001b[0;34m.\u001b[0m\u001b[0mpopulate\u001b[0m\u001b[0;34m(\u001b[0m\u001b[0;36m1\u001b[0m\u001b[0;34m)\u001b[0m\u001b[0;34m\u001b[0m\u001b[0;34m\u001b[0m\u001b[0m\n\u001b[0m\u001b[1;32m     11\u001b[0m     \u001b[0mr\u001b[0m \u001b[0;34m=\u001b[0m \u001b[0mexp_source\u001b[0m\u001b[0;34m.\u001b[0m\u001b[0mpop_rewards_steps\u001b[0m\u001b[0;34m(\u001b[0m\u001b[0;34m)\u001b[0m\u001b[0;34m\u001b[0m\u001b[0;34m\u001b[0m\u001b[0m\n\u001b[1;32m     12\u001b[0m     \u001b[0;32mif\u001b[0m \u001b[0mr\u001b[0m\u001b[0;34m:\u001b[0m\u001b[0;34m\u001b[0m\u001b[0;34m\u001b[0m\u001b[0m\n",
      "\u001b[0;32m~/work/ptan/ptan/experience.py\u001b[0m in \u001b[0;36mpopulate\u001b[0;34m(self, samples)\u001b[0m\n\u001b[1;32m    366\u001b[0m         \"\"\"\n\u001b[1;32m    367\u001b[0m         \u001b[0;32mfor\u001b[0m \u001b[0m_\u001b[0m \u001b[0;32min\u001b[0m \u001b[0mrange\u001b[0m\u001b[0;34m(\u001b[0m\u001b[0msamples\u001b[0m\u001b[0;34m)\u001b[0m\u001b[0;34m:\u001b[0m\u001b[0;34m\u001b[0m\u001b[0;34m\u001b[0m\u001b[0m\n\u001b[0;32m--> 368\u001b[0;31m             \u001b[0mentry\u001b[0m \u001b[0;34m=\u001b[0m \u001b[0mnext\u001b[0m\u001b[0;34m(\u001b[0m\u001b[0mself\u001b[0m\u001b[0;34m.\u001b[0m\u001b[0mexperience_source_iter\u001b[0m\u001b[0;34m)\u001b[0m\u001b[0;34m\u001b[0m\u001b[0;34m\u001b[0m\u001b[0m\n\u001b[0m\u001b[1;32m    369\u001b[0m             \u001b[0mself\u001b[0m\u001b[0;34m.\u001b[0m\u001b[0m_add\u001b[0m\u001b[0;34m(\u001b[0m\u001b[0mentry\u001b[0m\u001b[0;34m)\u001b[0m\u001b[0;34m\u001b[0m\u001b[0;34m\u001b[0m\u001b[0m\n\u001b[1;32m    370\u001b[0m \u001b[0;34m\u001b[0m\u001b[0m\n",
      "\u001b[0;32m~/work/ptan/ptan/experience.py\u001b[0m in \u001b[0;36m__iter__\u001b[0;34m(self)\u001b[0m\n\u001b[1;32m    174\u001b[0m \u001b[0;34m\u001b[0m\u001b[0m\n\u001b[1;32m    175\u001b[0m     \u001b[0;32mdef\u001b[0m \u001b[0m__iter__\u001b[0m\u001b[0;34m(\u001b[0m\u001b[0mself\u001b[0m\u001b[0;34m)\u001b[0m\u001b[0;34m:\u001b[0m\u001b[0;34m\u001b[0m\u001b[0;34m\u001b[0m\u001b[0m\n\u001b[0;32m--> 176\u001b[0;31m         \u001b[0;32mfor\u001b[0m \u001b[0mexp\u001b[0m \u001b[0;32min\u001b[0m \u001b[0msuper\u001b[0m\u001b[0;34m(\u001b[0m\u001b[0mExperienceSourceFirstLast\u001b[0m\u001b[0;34m,\u001b[0m \u001b[0mself\u001b[0m\u001b[0;34m)\u001b[0m\u001b[0;34m.\u001b[0m\u001b[0m__iter__\u001b[0m\u001b[0;34m(\u001b[0m\u001b[0;34m)\u001b[0m\u001b[0;34m:\u001b[0m\u001b[0;34m\u001b[0m\u001b[0;34m\u001b[0m\u001b[0m\n\u001b[0m\u001b[1;32m    177\u001b[0m             \u001b[0;32mif\u001b[0m \u001b[0mexp\u001b[0m\u001b[0;34m[\u001b[0m\u001b[0;34m-\u001b[0m\u001b[0;36m1\u001b[0m\u001b[0;34m]\u001b[0m\u001b[0;34m.\u001b[0m\u001b[0mdone\u001b[0m \u001b[0;32mand\u001b[0m \u001b[0mlen\u001b[0m\u001b[0;34m(\u001b[0m\u001b[0mexp\u001b[0m\u001b[0;34m)\u001b[0m \u001b[0;34m<=\u001b[0m \u001b[0mself\u001b[0m\u001b[0;34m.\u001b[0m\u001b[0msteps\u001b[0m\u001b[0;34m:\u001b[0m\u001b[0;34m\u001b[0m\u001b[0;34m\u001b[0m\u001b[0m\n\u001b[1;32m    178\u001b[0m                 \u001b[0mlast_state\u001b[0m \u001b[0;34m=\u001b[0m \u001b[0;32mNone\u001b[0m\u001b[0;34m\u001b[0m\u001b[0;34m\u001b[0m\u001b[0m\n",
      "\u001b[0;32m~/work/ptan/ptan/experience.py\u001b[0m in \u001b[0;36m__iter__\u001b[0;34m(self)\u001b[0m\n\u001b[1;32m     90\u001b[0m             \u001b[0;32mfor\u001b[0m \u001b[0menv_idx\u001b[0m\u001b[0;34m,\u001b[0m \u001b[0;34m(\u001b[0m\u001b[0menv\u001b[0m\u001b[0;34m,\u001b[0m \u001b[0maction_n\u001b[0m\u001b[0;34m)\u001b[0m \u001b[0;32min\u001b[0m \u001b[0menumerate\u001b[0m\u001b[0;34m(\u001b[0m\u001b[0mzip\u001b[0m\u001b[0;34m(\u001b[0m\u001b[0mself\u001b[0m\u001b[0;34m.\u001b[0m\u001b[0mpool\u001b[0m\u001b[0;34m,\u001b[0m \u001b[0mgrouped_actions\u001b[0m\u001b[0;34m)\u001b[0m\u001b[0;34m)\u001b[0m\u001b[0;34m:\u001b[0m\u001b[0;34m\u001b[0m\u001b[0;34m\u001b[0m\u001b[0m\n\u001b[1;32m     91\u001b[0m                 \u001b[0;32mif\u001b[0m \u001b[0mself\u001b[0m\u001b[0;34m.\u001b[0m\u001b[0mvectorized\u001b[0m\u001b[0;34m:\u001b[0m\u001b[0;34m\u001b[0m\u001b[0;34m\u001b[0m\u001b[0m\n\u001b[0;32m---> 92\u001b[0;31m                     \u001b[0mnext_state_n\u001b[0m\u001b[0;34m,\u001b[0m \u001b[0mr_n\u001b[0m\u001b[0;34m,\u001b[0m \u001b[0mis_done_n\u001b[0m\u001b[0;34m,\u001b[0m \u001b[0m_\u001b[0m \u001b[0;34m=\u001b[0m \u001b[0menv\u001b[0m\u001b[0;34m.\u001b[0m\u001b[0mstep\u001b[0m\u001b[0;34m(\u001b[0m\u001b[0maction_n\u001b[0m\u001b[0;34m)\u001b[0m\u001b[0;34m\u001b[0m\u001b[0;34m\u001b[0m\u001b[0m\n\u001b[0m\u001b[1;32m     93\u001b[0m                 \u001b[0;32melse\u001b[0m\u001b[0;34m:\u001b[0m\u001b[0;34m\u001b[0m\u001b[0;34m\u001b[0m\u001b[0m\n\u001b[1;32m     94\u001b[0m                     \u001b[0mnext_state\u001b[0m\u001b[0;34m,\u001b[0m \u001b[0mr\u001b[0m\u001b[0;34m,\u001b[0m \u001b[0mis_done\u001b[0m\u001b[0;34m,\u001b[0m \u001b[0m_\u001b[0m \u001b[0;34m=\u001b[0m \u001b[0menv\u001b[0m\u001b[0;34m.\u001b[0m\u001b[0mstep\u001b[0m\u001b[0;34m(\u001b[0m\u001b[0maction_n\u001b[0m\u001b[0;34m[\u001b[0m\u001b[0;36m0\u001b[0m\u001b[0;34m]\u001b[0m\u001b[0;34m)\u001b[0m\u001b[0;34m\u001b[0m\u001b[0;34m\u001b[0m\u001b[0m\n",
      "\u001b[0;32m<ipython-input-38-2b5b5d0a61ab>\u001b[0m in \u001b[0;36mstep\u001b[0;34m(self, action_n)\u001b[0m\n\u001b[1;32m     14\u001b[0m     \u001b[0;32mdef\u001b[0m \u001b[0mstep\u001b[0m\u001b[0;34m(\u001b[0m\u001b[0mself\u001b[0m\u001b[0;34m,\u001b[0m \u001b[0maction_n\u001b[0m\u001b[0;34m)\u001b[0m\u001b[0;34m:\u001b[0m\u001b[0;34m\u001b[0m\u001b[0;34m\u001b[0m\u001b[0m\n\u001b[1;32m     15\u001b[0m         \u001b[0;31m# TODO: implement me properly for N environments :)\u001b[0m\u001b[0;34m\u001b[0m\u001b[0;34m\u001b[0m\u001b[0;34m\u001b[0m\u001b[0m\n\u001b[0;32m---> 16\u001b[0;31m         \u001b[0mobs_n\u001b[0m\u001b[0;34m,\u001b[0m \u001b[0mr_n\u001b[0m\u001b[0;34m,\u001b[0m \u001b[0mdone_n\u001b[0m\u001b[0;34m,\u001b[0m \u001b[0minfo_n\u001b[0m \u001b[0;34m=\u001b[0m \u001b[0mself\u001b[0m\u001b[0;34m.\u001b[0m\u001b[0menv\u001b[0m\u001b[0;34m.\u001b[0m\u001b[0mstep\u001b[0m\u001b[0;34m(\u001b[0m\u001b[0maction_n\u001b[0m\u001b[0;34m)\u001b[0m\u001b[0;34m\u001b[0m\u001b[0;34m\u001b[0m\u001b[0m\n\u001b[0m\u001b[1;32m     17\u001b[0m         \u001b[0;32mif\u001b[0m \u001b[0mtime\u001b[0m\u001b[0;34m.\u001b[0m\u001b[0mtime\u001b[0m\u001b[0;34m(\u001b[0m\u001b[0;34m)\u001b[0m \u001b[0;34m-\u001b[0m \u001b[0mself\u001b[0m\u001b[0;34m.\u001b[0m\u001b[0mreset_ts\u001b[0m \u001b[0;34m<\u001b[0m \u001b[0mself\u001b[0m\u001b[0;34m.\u001b[0m\u001b[0mtime_budget\u001b[0m\u001b[0;34m:\u001b[0m\u001b[0;34m\u001b[0m\u001b[0;34m\u001b[0m\u001b[0m\n\u001b[1;32m     18\u001b[0m             \u001b[0;32mreturn\u001b[0m \u001b[0mobs_n\u001b[0m\u001b[0;34m,\u001b[0m \u001b[0mr_n\u001b[0m\u001b[0;34m,\u001b[0m \u001b[0mdone_n\u001b[0m\u001b[0;34m,\u001b[0m \u001b[0minfo_n\u001b[0m\u001b[0;34m\u001b[0m\u001b[0;34m\u001b[0m\u001b[0m\n",
      "\u001b[0;32m<ipython-input-140-b1a3104cf4f7>\u001b[0m in \u001b[0;36mstep\u001b[0;34m(self, action_n)\u001b[0m\n\u001b[1;32m     15\u001b[0m     \u001b[0;32mdef\u001b[0m \u001b[0mstep\u001b[0m\u001b[0;34m(\u001b[0m\u001b[0mself\u001b[0m\u001b[0;34m,\u001b[0m \u001b[0maction_n\u001b[0m\u001b[0;34m)\u001b[0m\u001b[0;34m:\u001b[0m\u001b[0;34m\u001b[0m\u001b[0;34m\u001b[0m\u001b[0m\n\u001b[1;32m     16\u001b[0m         \u001b[0;31m# TODO: implement me properly for N environments :)\u001b[0m\u001b[0;34m\u001b[0m\u001b[0;34m\u001b[0m\u001b[0;34m\u001b[0m\u001b[0m\n\u001b[0;32m---> 17\u001b[0;31m         \u001b[0mobs_n\u001b[0m\u001b[0;34m,\u001b[0m \u001b[0mr_n\u001b[0m\u001b[0;34m,\u001b[0m \u001b[0mdone_n\u001b[0m\u001b[0;34m,\u001b[0m \u001b[0minfo_n\u001b[0m \u001b[0;34m=\u001b[0m \u001b[0mself\u001b[0m\u001b[0;34m.\u001b[0m\u001b[0menv\u001b[0m\u001b[0;34m.\u001b[0m\u001b[0mstep\u001b[0m\u001b[0;34m(\u001b[0m\u001b[0maction_n\u001b[0m\u001b[0;34m)\u001b[0m\u001b[0;34m\u001b[0m\u001b[0;34m\u001b[0m\u001b[0m\n\u001b[0m\u001b[1;32m     18\u001b[0m         \u001b[0;32mif\u001b[0m \u001b[0mobs_n\u001b[0m\u001b[0;34m[\u001b[0m\u001b[0;36m0\u001b[0m\u001b[0;34m]\u001b[0m \u001b[0;32mis\u001b[0m \u001b[0;32mNone\u001b[0m\u001b[0;34m:\u001b[0m\u001b[0;34m\u001b[0m\u001b[0;34m\u001b[0m\u001b[0m\n\u001b[1;32m     19\u001b[0m             \u001b[0;32mreturn\u001b[0m \u001b[0mobs_n\u001b[0m\u001b[0;34m,\u001b[0m \u001b[0mr_n\u001b[0m\u001b[0;34m,\u001b[0m \u001b[0mdone_n\u001b[0m\u001b[0;34m,\u001b[0m \u001b[0minfo_n\u001b[0m\u001b[0;34m\u001b[0m\u001b[0;34m\u001b[0m\u001b[0m\n",
      "\u001b[0;32m~/anaconda3/envs/miniwob/lib/python3.6/site-packages/gym/core.py\u001b[0m in \u001b[0;36mstep\u001b[0;34m(self, action)\u001b[0m\n\u001b[1;32m    108\u001b[0m             \u001b[0minfo\u001b[0m \u001b[0;34m(\u001b[0m\u001b[0mdict\u001b[0m\u001b[0;34m)\u001b[0m\u001b[0;34m:\u001b[0m \u001b[0mcontains\u001b[0m \u001b[0mauxiliary\u001b[0m \u001b[0mdiagnostic\u001b[0m \u001b[0minformation\u001b[0m \u001b[0;34m(\u001b[0m\u001b[0mhelpful\u001b[0m \u001b[0;32mfor\u001b[0m \u001b[0mdebugging\u001b[0m\u001b[0;34m,\u001b[0m \u001b[0;32mand\u001b[0m \u001b[0msometimes\u001b[0m \u001b[0mlearning\u001b[0m\u001b[0;34m)\u001b[0m\u001b[0;34m\u001b[0m\u001b[0;34m\u001b[0m\u001b[0m\n\u001b[1;32m    109\u001b[0m         \"\"\"\n\u001b[0;32m--> 110\u001b[0;31m         \u001b[0mobservation\u001b[0m\u001b[0;34m,\u001b[0m \u001b[0mreward\u001b[0m\u001b[0;34m,\u001b[0m \u001b[0mdone\u001b[0m\u001b[0;34m,\u001b[0m \u001b[0minfo\u001b[0m \u001b[0;34m=\u001b[0m \u001b[0mself\u001b[0m\u001b[0;34m.\u001b[0m\u001b[0m_step\u001b[0m\u001b[0;34m(\u001b[0m\u001b[0maction\u001b[0m\u001b[0;34m)\u001b[0m\u001b[0;34m\u001b[0m\u001b[0;34m\u001b[0m\u001b[0m\n\u001b[0m\u001b[1;32m    111\u001b[0m         \u001b[0;32mreturn\u001b[0m \u001b[0mobservation\u001b[0m\u001b[0;34m,\u001b[0m \u001b[0mreward\u001b[0m\u001b[0;34m,\u001b[0m \u001b[0mdone\u001b[0m\u001b[0;34m,\u001b[0m \u001b[0minfo\u001b[0m\u001b[0;34m\u001b[0m\u001b[0;34m\u001b[0m\u001b[0m\n\u001b[1;32m    112\u001b[0m \u001b[0;34m\u001b[0m\u001b[0m\n",
      "\u001b[0;32m~/anaconda3/envs/miniwob/lib/python3.6/site-packages/gym/core.py\u001b[0m in \u001b[0;36m_step\u001b[0;34m(self, action)\u001b[0m\n\u001b[1;32m    400\u001b[0m     \u001b[0;32mdef\u001b[0m \u001b[0m_step\u001b[0m\u001b[0;34m(\u001b[0m\u001b[0mself\u001b[0m\u001b[0;34m,\u001b[0m \u001b[0maction\u001b[0m\u001b[0;34m)\u001b[0m\u001b[0;34m:\u001b[0m\u001b[0;34m\u001b[0m\u001b[0;34m\u001b[0m\u001b[0m\n\u001b[1;32m    401\u001b[0m         \u001b[0maction\u001b[0m \u001b[0;34m=\u001b[0m \u001b[0mself\u001b[0m\u001b[0;34m.\u001b[0m\u001b[0maction\u001b[0m\u001b[0;34m(\u001b[0m\u001b[0maction\u001b[0m\u001b[0;34m)\u001b[0m\u001b[0;34m\u001b[0m\u001b[0;34m\u001b[0m\u001b[0m\n\u001b[0;32m--> 402\u001b[0;31m         \u001b[0;32mreturn\u001b[0m \u001b[0mself\u001b[0m\u001b[0;34m.\u001b[0m\u001b[0menv\u001b[0m\u001b[0;34m.\u001b[0m\u001b[0mstep\u001b[0m\u001b[0;34m(\u001b[0m\u001b[0maction\u001b[0m\u001b[0;34m)\u001b[0m\u001b[0;34m\u001b[0m\u001b[0;34m\u001b[0m\u001b[0m\n\u001b[0m\u001b[1;32m    403\u001b[0m \u001b[0;34m\u001b[0m\u001b[0m\n\u001b[1;32m    404\u001b[0m     \u001b[0;32mdef\u001b[0m \u001b[0maction\u001b[0m\u001b[0;34m(\u001b[0m\u001b[0mself\u001b[0m\u001b[0;34m,\u001b[0m \u001b[0maction\u001b[0m\u001b[0;34m)\u001b[0m\u001b[0;34m:\u001b[0m\u001b[0;34m\u001b[0m\u001b[0;34m\u001b[0m\u001b[0m\n",
      "\u001b[0;32m~/anaconda3/envs/miniwob/lib/python3.6/site-packages/gym/core.py\u001b[0m in \u001b[0;36mstep\u001b[0;34m(self, action)\u001b[0m\n\u001b[1;32m    108\u001b[0m             \u001b[0minfo\u001b[0m \u001b[0;34m(\u001b[0m\u001b[0mdict\u001b[0m\u001b[0;34m)\u001b[0m\u001b[0;34m:\u001b[0m \u001b[0mcontains\u001b[0m \u001b[0mauxiliary\u001b[0m \u001b[0mdiagnostic\u001b[0m \u001b[0minformation\u001b[0m \u001b[0;34m(\u001b[0m\u001b[0mhelpful\u001b[0m \u001b[0;32mfor\u001b[0m \u001b[0mdebugging\u001b[0m\u001b[0;34m,\u001b[0m \u001b[0;32mand\u001b[0m \u001b[0msometimes\u001b[0m \u001b[0mlearning\u001b[0m\u001b[0;34m)\u001b[0m\u001b[0;34m\u001b[0m\u001b[0;34m\u001b[0m\u001b[0m\n\u001b[1;32m    109\u001b[0m         \"\"\"\n\u001b[0;32m--> 110\u001b[0;31m         \u001b[0mobservation\u001b[0m\u001b[0;34m,\u001b[0m \u001b[0mreward\u001b[0m\u001b[0;34m,\u001b[0m \u001b[0mdone\u001b[0m\u001b[0;34m,\u001b[0m \u001b[0minfo\u001b[0m \u001b[0;34m=\u001b[0m \u001b[0mself\u001b[0m\u001b[0;34m.\u001b[0m\u001b[0m_step\u001b[0m\u001b[0;34m(\u001b[0m\u001b[0maction\u001b[0m\u001b[0;34m)\u001b[0m\u001b[0;34m\u001b[0m\u001b[0;34m\u001b[0m\u001b[0m\n\u001b[0m\u001b[1;32m    111\u001b[0m         \u001b[0;32mreturn\u001b[0m \u001b[0mobservation\u001b[0m\u001b[0;34m,\u001b[0m \u001b[0mreward\u001b[0m\u001b[0;34m,\u001b[0m \u001b[0mdone\u001b[0m\u001b[0;34m,\u001b[0m \u001b[0minfo\u001b[0m\u001b[0;34m\u001b[0m\u001b[0;34m\u001b[0m\u001b[0m\n\u001b[1;32m    112\u001b[0m \u001b[0;34m\u001b[0m\u001b[0m\n",
      "\u001b[0;32m~/anaconda3/envs/miniwob/lib/python3.6/site-packages/gym/core.py\u001b[0m in \u001b[0;36m_step\u001b[0;34m(self, action)\u001b[0m\n\u001b[1;32m    377\u001b[0m \u001b[0;34m\u001b[0m\u001b[0m\n\u001b[1;32m    378\u001b[0m     \u001b[0;32mdef\u001b[0m \u001b[0m_step\u001b[0m\u001b[0;34m(\u001b[0m\u001b[0mself\u001b[0m\u001b[0;34m,\u001b[0m \u001b[0maction\u001b[0m\u001b[0;34m)\u001b[0m\u001b[0;34m:\u001b[0m\u001b[0;34m\u001b[0m\u001b[0;34m\u001b[0m\u001b[0m\n\u001b[0;32m--> 379\u001b[0;31m         \u001b[0mobservation\u001b[0m\u001b[0;34m,\u001b[0m \u001b[0mreward\u001b[0m\u001b[0;34m,\u001b[0m \u001b[0mdone\u001b[0m\u001b[0;34m,\u001b[0m \u001b[0minfo\u001b[0m \u001b[0;34m=\u001b[0m \u001b[0mself\u001b[0m\u001b[0;34m.\u001b[0m\u001b[0menv\u001b[0m\u001b[0;34m.\u001b[0m\u001b[0mstep\u001b[0m\u001b[0;34m(\u001b[0m\u001b[0maction\u001b[0m\u001b[0;34m)\u001b[0m\u001b[0;34m\u001b[0m\u001b[0;34m\u001b[0m\u001b[0m\n\u001b[0m\u001b[1;32m    380\u001b[0m         \u001b[0;32mreturn\u001b[0m \u001b[0mself\u001b[0m\u001b[0;34m.\u001b[0m\u001b[0mobservation\u001b[0m\u001b[0;34m(\u001b[0m\u001b[0mobservation\u001b[0m\u001b[0;34m)\u001b[0m\u001b[0;34m,\u001b[0m \u001b[0mreward\u001b[0m\u001b[0;34m,\u001b[0m \u001b[0mdone\u001b[0m\u001b[0;34m,\u001b[0m \u001b[0minfo\u001b[0m\u001b[0;34m\u001b[0m\u001b[0;34m\u001b[0m\u001b[0m\n\u001b[1;32m    381\u001b[0m \u001b[0;34m\u001b[0m\u001b[0m\n",
      "\u001b[0;32m~/anaconda3/envs/miniwob/lib/python3.6/site-packages/gym/core.py\u001b[0m in \u001b[0;36mstep\u001b[0;34m(self, action)\u001b[0m\n\u001b[1;32m    108\u001b[0m             \u001b[0minfo\u001b[0m \u001b[0;34m(\u001b[0m\u001b[0mdict\u001b[0m\u001b[0;34m)\u001b[0m\u001b[0;34m:\u001b[0m \u001b[0mcontains\u001b[0m \u001b[0mauxiliary\u001b[0m \u001b[0mdiagnostic\u001b[0m \u001b[0minformation\u001b[0m \u001b[0;34m(\u001b[0m\u001b[0mhelpful\u001b[0m \u001b[0;32mfor\u001b[0m \u001b[0mdebugging\u001b[0m\u001b[0;34m,\u001b[0m \u001b[0;32mand\u001b[0m \u001b[0msometimes\u001b[0m \u001b[0mlearning\u001b[0m\u001b[0;34m)\u001b[0m\u001b[0;34m\u001b[0m\u001b[0;34m\u001b[0m\u001b[0m\n\u001b[1;32m    109\u001b[0m         \"\"\"\n\u001b[0;32m--> 110\u001b[0;31m         \u001b[0mobservation\u001b[0m\u001b[0;34m,\u001b[0m \u001b[0mreward\u001b[0m\u001b[0;34m,\u001b[0m \u001b[0mdone\u001b[0m\u001b[0;34m,\u001b[0m \u001b[0minfo\u001b[0m \u001b[0;34m=\u001b[0m \u001b[0mself\u001b[0m\u001b[0;34m.\u001b[0m\u001b[0m_step\u001b[0m\u001b[0;34m(\u001b[0m\u001b[0maction\u001b[0m\u001b[0;34m)\u001b[0m\u001b[0;34m\u001b[0m\u001b[0;34m\u001b[0m\u001b[0m\n\u001b[0m\u001b[1;32m    111\u001b[0m         \u001b[0;32mreturn\u001b[0m \u001b[0mobservation\u001b[0m\u001b[0;34m,\u001b[0m \u001b[0mreward\u001b[0m\u001b[0;34m,\u001b[0m \u001b[0mdone\u001b[0m\u001b[0;34m,\u001b[0m \u001b[0minfo\u001b[0m\u001b[0;34m\u001b[0m\u001b[0;34m\u001b[0m\u001b[0m\n\u001b[1;32m    112\u001b[0m \u001b[0;34m\u001b[0m\u001b[0m\n",
      "\u001b[0;32m~/anaconda3/envs/miniwob/lib/python3.6/site-packages/universe/wrappers/timer.py\u001b[0m in \u001b[0;36m_step\u001b[0;34m(self, action_n)\u001b[0m\n\u001b[1;32m     18\u001b[0m         \u001b[0mstart\u001b[0m \u001b[0;34m=\u001b[0m \u001b[0mtime\u001b[0m\u001b[0;34m.\u001b[0m\u001b[0mtime\u001b[0m\u001b[0;34m(\u001b[0m\u001b[0;34m)\u001b[0m\u001b[0;34m\u001b[0m\u001b[0;34m\u001b[0m\u001b[0m\n\u001b[1;32m     19\u001b[0m         \u001b[0;32mwith\u001b[0m \u001b[0mpyprofile\u001b[0m\u001b[0;34m.\u001b[0m\u001b[0mpush\u001b[0m\u001b[0;34m(\u001b[0m\u001b[0;34m'vnc_env.Timer.step'\u001b[0m\u001b[0;34m)\u001b[0m\u001b[0;34m:\u001b[0m\u001b[0;34m\u001b[0m\u001b[0;34m\u001b[0m\u001b[0m\n\u001b[0;32m---> 20\u001b[0;31m             \u001b[0mobservation_n\u001b[0m\u001b[0;34m,\u001b[0m \u001b[0mreward_n\u001b[0m\u001b[0;34m,\u001b[0m \u001b[0mdone_n\u001b[0m\u001b[0;34m,\u001b[0m \u001b[0minfo\u001b[0m \u001b[0;34m=\u001b[0m \u001b[0mself\u001b[0m\u001b[0;34m.\u001b[0m\u001b[0menv\u001b[0m\u001b[0;34m.\u001b[0m\u001b[0mstep\u001b[0m\u001b[0;34m(\u001b[0m\u001b[0maction_n\u001b[0m\u001b[0;34m)\u001b[0m\u001b[0;34m\u001b[0m\u001b[0;34m\u001b[0m\u001b[0m\n\u001b[0m\u001b[1;32m     21\u001b[0m \u001b[0;34m\u001b[0m\u001b[0m\n\u001b[1;32m     22\u001b[0m         \u001b[0;31m# Calculate how much time was spent actually doing work\u001b[0m\u001b[0;34m\u001b[0m\u001b[0;34m\u001b[0m\u001b[0;34m\u001b[0m\u001b[0m\n",
      "\u001b[0;32m~/anaconda3/envs/miniwob/lib/python3.6/site-packages/gym/core.py\u001b[0m in \u001b[0;36mstep\u001b[0;34m(self, action)\u001b[0m\n\u001b[1;32m    108\u001b[0m             \u001b[0minfo\u001b[0m \u001b[0;34m(\u001b[0m\u001b[0mdict\u001b[0m\u001b[0;34m)\u001b[0m\u001b[0;34m:\u001b[0m \u001b[0mcontains\u001b[0m \u001b[0mauxiliary\u001b[0m \u001b[0mdiagnostic\u001b[0m \u001b[0minformation\u001b[0m \u001b[0;34m(\u001b[0m\u001b[0mhelpful\u001b[0m \u001b[0;32mfor\u001b[0m \u001b[0mdebugging\u001b[0m\u001b[0;34m,\u001b[0m \u001b[0;32mand\u001b[0m \u001b[0msometimes\u001b[0m \u001b[0mlearning\u001b[0m\u001b[0;34m)\u001b[0m\u001b[0;34m\u001b[0m\u001b[0;34m\u001b[0m\u001b[0m\n\u001b[1;32m    109\u001b[0m         \"\"\"\n\u001b[0;32m--> 110\u001b[0;31m         \u001b[0mobservation\u001b[0m\u001b[0;34m,\u001b[0m \u001b[0mreward\u001b[0m\u001b[0;34m,\u001b[0m \u001b[0mdone\u001b[0m\u001b[0;34m,\u001b[0m \u001b[0minfo\u001b[0m \u001b[0;34m=\u001b[0m \u001b[0mself\u001b[0m\u001b[0;34m.\u001b[0m\u001b[0m_step\u001b[0m\u001b[0;34m(\u001b[0m\u001b[0maction\u001b[0m\u001b[0;34m)\u001b[0m\u001b[0;34m\u001b[0m\u001b[0;34m\u001b[0m\u001b[0m\n\u001b[0m\u001b[1;32m    111\u001b[0m         \u001b[0;32mreturn\u001b[0m \u001b[0mobservation\u001b[0m\u001b[0;34m,\u001b[0m \u001b[0mreward\u001b[0m\u001b[0;34m,\u001b[0m \u001b[0mdone\u001b[0m\u001b[0;34m,\u001b[0m \u001b[0minfo\u001b[0m\u001b[0;34m\u001b[0m\u001b[0;34m\u001b[0m\u001b[0m\n\u001b[1;32m    112\u001b[0m \u001b[0;34m\u001b[0m\u001b[0m\n",
      "\u001b[0;32m~/anaconda3/envs/miniwob/lib/python3.6/site-packages/universe/wrappers/render.py\u001b[0m in \u001b[0;36m_step\u001b[0;34m(self, action_n)\u001b[0m\n\u001b[1;32m     28\u001b[0m \u001b[0;34m\u001b[0m\u001b[0m\n\u001b[1;32m     29\u001b[0m     \u001b[0;32mdef\u001b[0m \u001b[0m_step\u001b[0m\u001b[0;34m(\u001b[0m\u001b[0mself\u001b[0m\u001b[0;34m,\u001b[0m \u001b[0maction_n\u001b[0m\u001b[0;34m)\u001b[0m\u001b[0;34m:\u001b[0m\u001b[0;34m\u001b[0m\u001b[0;34m\u001b[0m\u001b[0m\n\u001b[0;32m---> 30\u001b[0;31m         \u001b[0mobservation_n\u001b[0m\u001b[0;34m,\u001b[0m \u001b[0mreward_n\u001b[0m\u001b[0;34m,\u001b[0m \u001b[0mdone_n\u001b[0m\u001b[0;34m,\u001b[0m \u001b[0minfo_n\u001b[0m \u001b[0;34m=\u001b[0m \u001b[0mself\u001b[0m\u001b[0;34m.\u001b[0m\u001b[0menv\u001b[0m\u001b[0;34m.\u001b[0m\u001b[0mstep\u001b[0m\u001b[0;34m(\u001b[0m\u001b[0maction_n\u001b[0m\u001b[0;34m)\u001b[0m\u001b[0;34m\u001b[0m\u001b[0;34m\u001b[0m\u001b[0m\n\u001b[0m\u001b[1;32m     31\u001b[0m         \u001b[0mself\u001b[0m\u001b[0;34m.\u001b[0m\u001b[0m_observation\u001b[0m \u001b[0;34m=\u001b[0m \u001b[0mobservation_n\u001b[0m\u001b[0;34m[\u001b[0m\u001b[0;36m0\u001b[0m\u001b[0;34m]\u001b[0m\u001b[0;34m\u001b[0m\u001b[0;34m\u001b[0m\u001b[0m\n\u001b[1;32m     32\u001b[0m         \u001b[0;32mreturn\u001b[0m \u001b[0mobservation_n\u001b[0m\u001b[0;34m,\u001b[0m \u001b[0mreward_n\u001b[0m\u001b[0;34m,\u001b[0m \u001b[0mdone_n\u001b[0m\u001b[0;34m,\u001b[0m \u001b[0minfo_n\u001b[0m\u001b[0;34m\u001b[0m\u001b[0;34m\u001b[0m\u001b[0m\n",
      "\u001b[0;32m~/anaconda3/envs/miniwob/lib/python3.6/site-packages/gym/core.py\u001b[0m in \u001b[0;36mstep\u001b[0;34m(self, action)\u001b[0m\n\u001b[1;32m    108\u001b[0m             \u001b[0minfo\u001b[0m \u001b[0;34m(\u001b[0m\u001b[0mdict\u001b[0m\u001b[0;34m)\u001b[0m\u001b[0;34m:\u001b[0m \u001b[0mcontains\u001b[0m \u001b[0mauxiliary\u001b[0m \u001b[0mdiagnostic\u001b[0m \u001b[0minformation\u001b[0m \u001b[0;34m(\u001b[0m\u001b[0mhelpful\u001b[0m \u001b[0;32mfor\u001b[0m \u001b[0mdebugging\u001b[0m\u001b[0;34m,\u001b[0m \u001b[0;32mand\u001b[0m \u001b[0msometimes\u001b[0m \u001b[0mlearning\u001b[0m\u001b[0;34m)\u001b[0m\u001b[0;34m\u001b[0m\u001b[0;34m\u001b[0m\u001b[0m\n\u001b[1;32m    109\u001b[0m         \"\"\"\n\u001b[0;32m--> 110\u001b[0;31m         \u001b[0mobservation\u001b[0m\u001b[0;34m,\u001b[0m \u001b[0mreward\u001b[0m\u001b[0;34m,\u001b[0m \u001b[0mdone\u001b[0m\u001b[0;34m,\u001b[0m \u001b[0minfo\u001b[0m \u001b[0;34m=\u001b[0m \u001b[0mself\u001b[0m\u001b[0;34m.\u001b[0m\u001b[0m_step\u001b[0m\u001b[0;34m(\u001b[0m\u001b[0maction\u001b[0m\u001b[0;34m)\u001b[0m\u001b[0;34m\u001b[0m\u001b[0;34m\u001b[0m\u001b[0m\n\u001b[0m\u001b[1;32m    111\u001b[0m         \u001b[0;32mreturn\u001b[0m \u001b[0mobservation\u001b[0m\u001b[0;34m,\u001b[0m \u001b[0mreward\u001b[0m\u001b[0;34m,\u001b[0m \u001b[0mdone\u001b[0m\u001b[0;34m,\u001b[0m \u001b[0minfo\u001b[0m\u001b[0;34m\u001b[0m\u001b[0;34m\u001b[0m\u001b[0m\n\u001b[1;32m    112\u001b[0m \u001b[0;34m\u001b[0m\u001b[0m\n",
      "\u001b[0;32m~/anaconda3/envs/miniwob/lib/python3.6/site-packages/universe/wrappers/throttle.py\u001b[0m in \u001b[0;36m_step\u001b[0;34m(self, action_n)\u001b[0m\n\u001b[1;32m    101\u001b[0m                 \u001b[0mpyprofile\u001b[0m\u001b[0;34m.\u001b[0m\u001b[0mtiming\u001b[0m\u001b[0;34m(\u001b[0m\u001b[0;34m'vnc_env.Throttle.sleep'\u001b[0m\u001b[0;34m,\u001b[0m \u001b[0mdelta\u001b[0m\u001b[0;34m)\u001b[0m\u001b[0;34m\u001b[0m\u001b[0;34m\u001b[0m\u001b[0m\n\u001b[1;32m    102\u001b[0m                 \u001b[0maccum_info\u001b[0m\u001b[0;34m[\u001b[0m\u001b[0;34m'stats.throttle.sleep'\u001b[0m\u001b[0;34m]\u001b[0m \u001b[0;34m+=\u001b[0m \u001b[0mdelta\u001b[0m\u001b[0;34m\u001b[0m\u001b[0;34m\u001b[0m\u001b[0m\n\u001b[0;32m--> 103\u001b[0;31m                 \u001b[0mtime\u001b[0m\u001b[0;34m.\u001b[0m\u001b[0msleep\u001b[0m\u001b[0;34m(\u001b[0m\u001b[0mdelta\u001b[0m\u001b[0;34m)\u001b[0m\u001b[0;34m\u001b[0m\u001b[0;34m\u001b[0m\u001b[0m\n\u001b[0m\u001b[1;32m    104\u001b[0m \u001b[0;34m\u001b[0m\u001b[0m\n\u001b[1;32m    105\u001b[0m                 \u001b[0;31m# We want to merge in the latest reward/done/info so that our\u001b[0m\u001b[0;34m\u001b[0m\u001b[0;34m\u001b[0m\u001b[0;34m\u001b[0m\u001b[0m\n",
      "\u001b[0;31mKeyboardInterrupt\u001b[0m: "
     ]
    }
   ],
   "source": [
    "episode_rewards = []\n",
    "episode_steps = []\n",
    "losses = []\n",
    "steps = 0\n",
    "last_ts = time.time()\n",
    "last_steps = 0\n",
    "\n",
    "while True:\n",
    "    steps += 1\n",
    "    buffer.populate(1)\n",
    "    r = exp_source.pop_rewards_steps()\n",
    "    if r:\n",
    "        for rw, st in r:\n",
    "            episode_rewards.append(rw)\n",
    "            episode_steps.append(st)\n",
    "        speed = (steps - last_steps) / (time.time() - last_ts)\n",
    "        print(\"%d: Done %d episodes, last 10 means: reward=%.3f, steps=%.3f, speed=%.2f steps/s, eps=%.2f\" % (\n",
    "            steps, len(episode_rewards), np.mean(episode_rewards[-10:]), \n",
    "            np.mean(episode_steps[-10:]), speed, action_selector.epsilon\n",
    "        ))\n",
    "        last_ts = time.time()\n",
    "        last_steps = steps\n",
    "        if np.mean(episode_rewards[-10:]) > 0.9:\n",
    "            print(\"You solved the env! Congrats!\")\n",
    "            break\n",
    "    if len(buffer) < MIN_REPLAY:\n",
    "        continue\n",
    "    batch = buffer.sample(BATCH_SIZE)\n",
    "    state_v, actions_v, ref_q_v = unpack_batch(batch, tgt_net.target_model, gamma=GAMMA, device=DEVICE)\n",
    "    optimizer.zero_grad()\n",
    "    q_v = net(state_v)\n",
    "    q_v = q_v.gather(1, actions_v.unsqueeze(-1)).squeeze(-1)\n",
    "    loss_v = F.mse_loss(q_v, ref_q_v)\n",
    "    loss_v.backward()\n",
    "    optimizer.step()\n",
    "    losses.append(loss_v.item())\n",
    "    \n",
    "    if steps % TGT_SYNC == 0:\n",
    "        print(\"%d: nets synced, mean loss for last 10 steps = %.3f\" % (\n",
    "            steps, np.mean(losses[-10:])))\n",
    "        tgt_net.sync()\n",
    "    action_selector.epsilon = max(FINAL_EPSILON, INITIAL_EPSILON - (steps-MIN_REPLAY) / STEPS_EPSILON)"
   ]
  },
  {
   "cell_type": "code",
   "execution_count": 149,
   "metadata": {},
   "outputs": [
    {
     "data": {
      "text/plain": [
       "[<matplotlib.lines.Line2D at 0x7fe5edaf2860>]"
      ]
     },
     "execution_count": 149,
     "metadata": {},
     "output_type": "execute_result"
    },
    {
     "data": {
      "image/png": "[encoded data removed]",
      "text/plain": [
       "<Figure size 432x288 with 1 Axes>"
      ]
     },
     "metadata": {
      "needs_background": "light"
     },
     "output_type": "display_data"
    }
   ],
   "source": [
    "plt.plot(losses)"
   ]
  },
  {
   "cell_type": "code",
   "execution_count": 150,
   "metadata": {},
   "outputs": [
    {
     "data": {
      "text/plain": [
       "[<matplotlib.lines.Line2D at 0x7fe5edf02f60>]"
      ]
     },
     "execution_count": 150,
     "metadata": {},
     "output_type": "execute_result"
    },
    {
     "data": {
      "image/png": "[encoded data removed]",
      "text/plain": [
       "<Figure size 432x288 with 1 Axes>"
      ]
     },
     "metadata": {
      "needs_background": "light"
     },
     "output_type": "display_data"
    }
   ],
   "source": [
    "plt.plot(episode_rewards)"
   ]
  },
  {
   "cell_type": "markdown",
   "metadata": {},
   "source": [
    "Looks better, but looks like LR is too high, tweaking"
   ]
  },
  {
   "cell_type": "code",
   "execution_count": 151,
   "metadata": {},
   "outputs": [],
   "source": [
    "GAMMA = 0.9\n",
    "REPLAY_SIZE = 10000\n",
    "MIN_REPLAY = 100\n",
    "TGT_SYNC = 100\n",
    "BATCH_SIZE = 16\n",
    "LR = 1e-4\n",
    "DEVICE = \"cuda\"  \n",
    "#DEVICE = \"cpu\"\n",
    "\n",
    "INITIAL_EPSILON = 1.0\n",
    "FINAL_EPSILON = 0.2\n",
    "STEPS_EPSILON = 1000"
   ]
  },
  {
   "cell_type": "code",
   "execution_count": 152,
   "metadata": {},
   "outputs": [
    {
     "name": "stderr",
     "output_type": "stream",
     "text": [
      "[2019-07-02 17:35:32,680] Making new env: wob.mini.ClickDialog-v0\n",
      "/home/shmuma/anaconda3/envs/miniwob/lib/python3.6/site-packages/gym/envs/registration.py:17: PkgResourcesDeprecationWarning: Parameters to load are deprecated.  Call .resolve and .require separately.\n",
      "  result = entry_point.load(False)\n",
      "[2019-07-02 17:35:32,683] Using SoftmaxClickMouse with action_region=(10, 125, 170, 285), noclick_regions=[]\n",
      "[2019-07-02 17:35:32,690] SoftmaxClickMouse noclick regions removed 0 of 256 actions\n",
      "[2019-07-02 17:35:32,695] Using the golang VNC implementation\n",
      "[2019-07-02 17:35:32,696] Using VNCSession arguments: {'encoding': 'tight', 'compress_level': 0, 'fine_quality_level': 100, 'subsample_level': 0, 'start_timeout': 7}. (Customize by running \"env.configure(vnc_kwargs={...})\"\n",
      "[2019-07-02 17:35:32,710] [0] Connecting to environment: vnc://localhost:5900 password=openai. If desired, you can manually connect a VNC viewer, such as TurboVNC. Most environments provide a convenient in-browser VNC client: http://localhost:15900/viewer/?password=openai\n"
     ]
    },
    {
     "name": "stdout",
     "output_type": "stream",
     "text": [
      "Remotes URL: vnc://localhost:5900+15900\n"
     ]
    },
    {
     "name": "stderr",
     "output_type": "stream",
     "text": [
      "[2019-07-02 17:35:49,115] [0:localhost:5900] Sending reset for env_id=wob.mini.ClickDialog-v0 fps=60 episode_id=0\n",
      "[2019-07-02 17:35:55,177] [0:localhost:5900] Initial reset complete: episode_id=1521\n"
     ]
    }
   ],
   "source": [
    "def wrapper_func(env):\n",
    "    env = MiniWoBCropper(env)\n",
    "    env = SoftmaxClickMouse(env)\n",
    "    env = MiniWoBTrackClicks(env)\n",
    "    env = MiniWoBTimeBudget(env)\n",
    "    return env\n",
    "\n",
    "env = make_env(wrapper_func = wrapper_func, fps=5)\n",
    "obs_n = join_env(env);"
   ]
  },
  {
   "cell_type": "code",
   "execution_count": 153,
   "metadata": {},
   "outputs": [],
   "source": [
    "net = Model(env.observation_space.shape, env.action_space.n).to(DEVICE)\n",
    "tgt_net = ptan.agent.TargetNet(net)\n",
    "\n",
    "parent_selector = ptan.actions.ArgmaxActionSelector()\n",
    "action_selector = ptan.actions.EpsilonGreedyActionSelector(epsilon=INITIAL_EPSILON, selector=parent_selector) \n",
    "agent = ptan.agent.DQNAgent(net, action_selector, device=DEVICE)\n",
    "exp_source = ptan.experience.ExperienceSourceFirstLast(env, agent, gamma=GAMMA, vectorized=True)\n",
    "\n",
    "buffer = ptan.experience.ExperienceReplayBuffer(exp_source, REPLAY_SIZE)\n",
    "optimizer = optim.Adam(net.parameters(), LR)"
   ]
  },
  {
   "cell_type": "code",
   "execution_count": 154,
   "metadata": {},
   "outputs": [
    {
     "name": "stderr",
     "output_type": "stream",
     "text": [
      "[2019-07-02 17:36:03,873] [0:localhost:5900] Sending reset for env_id=wob.mini.ClickDialog-v0 fps=60 episode_id=0\n"
     ]
    },
    {
     "name": "stdout",
     "output_type": "stream",
     "text": [
      "17: Done 1 episodes, last 10 means: reward=0.675, steps=17.000, speed=4.24 steps/s, eps=1.00\n",
      "24: Done 2 episodes, last 10 means: reward=-0.162, steps=12.500, speed=0.67 steps/s, eps=1.00\n",
      "48: Done 3 episodes, last 10 means: reward=-0.442, steps=16.667, speed=2.26 steps/s, eps=1.00\n",
      "65: Done 4 episodes, last 10 means: reward=-0.159, steps=17.000, speed=4.71 steps/s, eps=1.00\n",
      "71: Done 5 episodes, last 10 means: reward=-0.327, steps=15.000, speed=0.58 steps/s, eps=1.00\n",
      "94: Done 7 episodes, last 10 means: reward=-0.294, steps=14.286, speed=1.51 steps/s, eps=1.00\n",
      "100: nets synced, mean loss for last 10 steps = 0.069\n",
      "115: Done 8 episodes, last 10 means: reward=-0.257, steps=15.250, speed=1.95 steps/s, eps=0.99\n",
      "134: Done 9 episodes, last 10 means: reward=-0.340, steps=15.778, speed=1.83 steps/s, eps=0.97\n",
      "154: Done 10 episodes, last 10 means: reward=-0.406, steps=16.300, speed=1.91 steps/s, eps=0.95\n",
      "173: Done 11 episodes, last 10 means: reward=-0.573, steps=16.600, speed=1.80 steps/s, eps=0.93\n",
      "193: Done 12 episodes, last 10 means: reward=-0.573, steps=17.900, speed=1.90 steps/s, eps=0.91\n",
      "200: nets synced, mean loss for last 10 steps = 0.045\n",
      "212: Done 13 episodes, last 10 means: reward=-0.573, steps=17.400, speed=1.80 steps/s, eps=0.89\n",
      "232: Done 14 episodes, last 10 means: reward=-0.742, steps=17.700, speed=1.89 steps/s, eps=0.87\n",
      "234: Done 15 episodes, last 10 means: reward=-0.545, steps=17.300, speed=2.48 steps/s, eps=0.87\n",
      "252: Done 16 episodes, last 10 means: reward=-0.703, steps=16.800, speed=1.71 steps/s, eps=0.85\n",
      "270: Done 17 episodes, last 10 means: reward=-0.703, steps=18.600, speed=1.72 steps/s, eps=0.83\n",
      "275: Done 18 episodes, last 10 means: reward=-0.616, steps=17.000, speed=3.06 steps/s, eps=0.83\n",
      "281: Done 19 episodes, last 10 means: reward=-0.428, steps=15.700, speed=3.52 steps/s, eps=0.82\n",
      "287: Done 20 episodes, last 10 means: reward=-0.428, steps=14.300, speed=0.56 steps/s, eps=0.81\n",
      "297: Done 21 episodes, last 10 means: reward=-0.256, steps=13.400, speed=3.18 steps/s, eps=0.80\n",
      "300: nets synced, mean loss for last 10 steps = 0.112\n",
      "304: Done 22 episodes, last 10 means: reward=-0.256, steps=12.100, speed=0.65 steps/s, eps=0.80\n",
      "310: Done 23 episodes, last 10 means: reward=-0.072, steps=10.800, speed=3.27 steps/s, eps=0.79\n",
      "321: Done 24 episodes, last 10 means: reward=-0.072, steps=9.900, speed=1.04 steps/s, eps=0.78\n",
      "342: Done 25 episodes, last 10 means: reward=-0.269, steps=11.800, speed=1.99 steps/s, eps=0.76\n",
      "354: Done 26 episodes, last 10 means: reward=-0.098, steps=11.200, speed=3.49 steps/s, eps=0.75\n",
      "359: Done 27 episodes, last 10 means: reward=-0.098, steps=9.900, speed=0.48 steps/s, eps=0.74\n",
      "377: Done 28 episodes, last 10 means: reward=-0.285, steps=11.200, speed=1.71 steps/s, eps=0.72\n",
      "395: Done 29 episodes, last 10 means: reward=-0.473, steps=12.400, speed=1.70 steps/s, eps=0.71\n",
      "400: nets synced, mean loss for last 10 steps = 0.128\n",
      "410: Done 30 episodes, last 10 means: reward=-0.313, steps=13.300, speed=1.06 steps/s, eps=0.69\n",
      "412: Done 31 episodes, last 10 means: reward=-0.485, steps=12.500, speed=2.48 steps/s, eps=0.69\n",
      "431: Done 32 episodes, last 10 means: reward=-0.485, steps=13.700, speed=1.79 steps/s, eps=0.67\n",
      "449: Done 33 episodes, last 10 means: reward=-0.669, steps=14.900, speed=1.73 steps/s, eps=0.65\n",
      "466: Done 35 episodes, last 10 means: reward=-0.512, steps=13.400, speed=1.13 steps/s, eps=0.64\n",
      "485: Done 36 episodes, last 10 means: reward=-0.583, steps=14.100, speed=1.76 steps/s, eps=0.62\n",
      "500: nets synced, mean loss for last 10 steps = 0.091\n",
      "503: Done 37 episodes, last 10 means: reward=-0.583, steps=15.400, speed=1.71 steps/s, eps=0.60\n",
      "522: Done 38 episodes, last 10 means: reward=-0.583, steps=15.500, speed=1.82 steps/s, eps=0.58\n",
      "540: Done 39 episodes, last 10 means: reward=-0.583, steps=15.500, speed=1.73 steps/s, eps=0.56\n",
      "559: Done 40 episodes, last 10 means: reward=-0.743, steps=15.900, speed=1.79 steps/s, eps=0.54\n",
      "579: Done 41 episodes, last 10 means: reward=-0.643, steps=17.700, speed=1.92 steps/s, eps=0.52\n",
      "598: Done 42 episodes, last 10 means: reward=-0.643, steps=17.700, speed=1.79 steps/s, eps=0.50\n",
      "600: nets synced, mean loss for last 10 steps = 0.147\n",
      "607: Done 43 episodes, last 10 means: reward=-0.464, steps=16.800, speed=3.29 steps/s, eps=0.49\n",
      "615: Done 44 episodes, last 10 means: reward=-0.621, steps=15.900, speed=0.77 steps/s, eps=0.49\n",
      "633: Done 45 episodes, last 10 means: reward=-0.621, steps=17.700, speed=1.72 steps/s, eps=0.47\n",
      "653: Done 46 episodes, last 10 means: reward=-0.721, steps=17.800, speed=1.92 steps/s, eps=0.45\n",
      "672: Done 47 episodes, last 10 means: reward=-0.721, steps=17.900, speed=1.78 steps/s, eps=0.43\n",
      "691: Done 48 episodes, last 10 means: reward=-0.721, steps=17.900, speed=1.82 steps/s, eps=0.41\n",
      "700: Done 49 episodes, last 10 means: reward=-0.543, steps=17.000, speed=3.46 steps/s, eps=0.40\n",
      "700: nets synced, mean loss for last 10 steps = 0.210\n",
      "709: Done 50 episodes, last 10 means: reward=-0.543, steps=16.000, speed=0.86 steps/s, eps=0.39\n",
      "730: Done 51 episodes, last 10 means: reward=-0.643, steps=16.100, speed=1.96 steps/s, eps=0.37\n",
      "748: Done 52 episodes, last 10 means: reward=-0.492, steps=16.000, speed=3.32 steps/s, eps=0.35\n",
      "767: Done 53 episodes, last 10 means: reward=-0.671, steps=17.000, speed=1.81 steps/s, eps=0.33\n",
      "786: Done 54 episodes, last 10 means: reward=-0.671, steps=18.100, speed=1.80 steps/s, eps=0.31\n",
      "800: nets synced, mean loss for last 10 steps = 0.254\n",
      "806: Done 55 episodes, last 10 means: reward=-0.671, steps=18.300, speed=1.92 steps/s, eps=0.30\n",
      "825: Done 56 episodes, last 10 means: reward=-0.671, steps=18.200, speed=1.79 steps/s, eps=0.28\n",
      "845: Done 57 episodes, last 10 means: reward=-0.671, steps=18.300, speed=1.92 steps/s, eps=0.26\n",
      "863: Done 58 episodes, last 10 means: reward=-0.671, steps=18.200, speed=1.70 steps/s, eps=0.24\n",
      "882: Done 59 episodes, last 10 means: reward=-0.850, steps=19.200, speed=1.82 steps/s, eps=0.22\n",
      "900: Done 60 episodes, last 10 means: reward=-0.850, steps=20.100, speed=1.69 steps/s, eps=0.20\n",
      "900: nets synced, mean loss for last 10 steps = 0.252\n",
      "918: Done 61 episodes, last 10 means: reward=-0.850, steps=19.800, speed=1.74 steps/s, eps=0.20\n",
      "936: Done 62 episodes, last 10 means: reward=-1.000, steps=19.800, speed=1.68 steps/s, eps=0.20\n",
      "956: Done 63 episodes, last 10 means: reward=-1.000, steps=19.900, speed=1.91 steps/s, eps=0.20\n",
      "970: Done 64 episodes, last 10 means: reward=-0.835, steps=19.400, speed=3.67 steps/s, eps=0.20\n",
      "974: Done 65 episodes, last 10 means: reward=-0.835, steps=17.800, speed=0.38 steps/s, eps=0.20\n",
      "991: Done 66 episodes, last 10 means: reward=-0.835, steps=17.600, speed=1.61 steps/s, eps=0.20\n",
      "1000: nets synced, mean loss for last 10 steps = 0.268\n",
      "1013: Done 67 episodes, last 10 means: reward=-0.835, steps=17.800, speed=2.13 steps/s, eps=0.20\n",
      "1034: Done 68 episodes, last 10 means: reward=-0.835, steps=18.100, speed=1.98 steps/s, eps=0.20\n",
      "1053: Done 69 episodes, last 10 means: reward=-0.835, steps=18.100, speed=1.82 steps/s, eps=0.20\n",
      "1073: Done 70 episodes, last 10 means: reward=-0.835, steps=18.300, speed=1.89 steps/s, eps=0.20\n",
      "1093: Done 71 episodes, last 10 means: reward=-0.835, steps=18.500, speed=1.90 steps/s, eps=0.20\n",
      "1100: nets synced, mean loss for last 10 steps = 0.463\n",
      "1111: Done 72 episodes, last 10 means: reward=-0.735, steps=18.500, speed=1.72 steps/s, eps=0.20\n",
      "1131: Done 73 episodes, last 10 means: reward=-0.735, steps=18.500, speed=1.91 steps/s, eps=0.20\n",
      "1149: Done 74 episodes, last 10 means: reward=-0.900, steps=18.900, speed=1.72 steps/s, eps=0.20\n",
      "1169: Done 75 episodes, last 10 means: reward=-0.900, steps=20.500, speed=1.87 steps/s, eps=0.20\n",
      "1188: Done 76 episodes, last 10 means: reward=-0.900, steps=20.700, speed=1.82 steps/s, eps=0.20\n",
      "1200: nets synced, mean loss for last 10 steps = 0.514\n",
      "1209: Done 77 episodes, last 10 means: reward=-0.900, steps=20.600, speed=2.01 steps/s, eps=0.20\n",
      "1228: Done 78 episodes, last 10 means: reward=-0.900, steps=20.400, speed=1.80 steps/s, eps=0.20\n",
      "1233: Done 79 episodes, last 10 means: reward=-0.711, steps=19.000, speed=3.13 steps/s, eps=0.20\n",
      "1235: Done 80 episodes, last 10 means: reward=-0.514, steps=17.200, speed=2.49 steps/s, eps=0.20\n",
      "1237: Done 81 episodes, last 10 means: reward=-0.317, steps=15.400, speed=2.49 steps/s, eps=0.20\n"
     ]
    },
    {
     "name": "stdout",
     "output_type": "stream",
     "text": [
      "1244: Done 82 episodes, last 10 means: reward=-0.417, steps=14.300, speed=0.67 steps/s, eps=0.20\n",
      "1263: Done 83 episodes, last 10 means: reward=-0.417, steps=14.200, speed=1.79 steps/s, eps=0.20\n",
      "1282: Done 84 episodes, last 10 means: reward=-0.417, steps=14.300, speed=1.82 steps/s, eps=0.20\n",
      "1288: Done 85 episodes, last 10 means: reward=-0.229, steps=12.900, speed=3.42 steps/s, eps=0.20\n",
      "1300: nets synced, mean loss for last 10 steps = 1.011\n",
      "1301: Done 86 episodes, last 10 means: reward=-0.229, steps=12.300, speed=1.24 steps/s, eps=0.20\n",
      "1303: Done 87 episodes, last 10 means: reward=-0.031, steps=10.400, speed=2.49 steps/s, eps=0.20\n",
      "1314: Done 88 episodes, last 10 means: reward=0.142, steps=9.600, speed=3.48 steps/s, eps=0.20\n",
      "1318: Done 89 episodes, last 10 means: reward=-0.047, steps=9.500, speed=0.38 steps/s, eps=0.20\n",
      "1338: Done 90 episodes, last 10 means: reward=-0.245, steps=11.300, speed=1.88 steps/s, eps=0.20\n",
      "1357: Done 91 episodes, last 10 means: reward=-0.442, steps=13.000, speed=1.83 steps/s, eps=0.20\n",
      "1376: Done 92 episodes, last 10 means: reward=-0.442, steps=14.200, speed=1.81 steps/s, eps=0.20\n",
      "1394: Done 93 episodes, last 10 means: reward=-0.442, steps=14.100, speed=1.71 steps/s, eps=0.20\n",
      "1400: nets synced, mean loss for last 10 steps = 1.257\n",
      "1412: Done 94 episodes, last 10 means: reward=-0.442, steps=14.000, speed=1.71 steps/s, eps=0.20\n",
      "1433: Done 95 episodes, last 10 means: reward=-0.629, steps=15.500, speed=2.01 steps/s, eps=0.20\n",
      "1453: Done 96 episodes, last 10 means: reward=-0.629, steps=16.200, speed=1.90 steps/s, eps=0.20\n",
      "1473: Done 97 episodes, last 10 means: reward=-0.827, steps=18.000, speed=1.91 steps/s, eps=0.20\n",
      "1475: Done 98 episodes, last 10 means: reward=-0.802, steps=17.100, speed=2.49 steps/s, eps=0.20\n",
      "1478: Done 99 episodes, last 10 means: reward=-0.607, steps=17.000, speed=2.98 steps/s, eps=0.20\n",
      "1490: Done 100 episodes, last 10 means: reward=-0.607, steps=16.200, speed=1.15 steps/s, eps=0.20\n",
      "1500: nets synced, mean loss for last 10 steps = 2.203\n",
      "1510: Done 101 episodes, last 10 means: reward=-0.607, steps=16.300, speed=1.92 steps/s, eps=0.20\n",
      "1530: Done 103 episodes, last 10 means: reward=-0.451, steps=14.600, speed=1.30 steps/s, eps=0.20\n",
      "1548: Done 104 episodes, last 10 means: reward=-0.451, steps=14.600, speed=1.69 steps/s, eps=0.20\n",
      "1561: Done 105 episodes, last 10 means: reward=-0.351, steps=13.800, speed=3.57 steps/s, eps=0.20\n",
      "1566: Done 106 episodes, last 10 means: reward=-0.351, steps=12.300, speed=0.48 steps/s, eps=0.20\n",
      "1587: Done 107 episodes, last 10 means: reward=-0.351, steps=12.400, speed=2.01 steps/s, eps=0.20\n",
      "1600: nets synced, mean loss for last 10 steps = 2.028\n",
      "1608: Done 108 episodes, last 10 means: reward=-0.549, steps=14.300, speed=1.97 steps/s, eps=0.20\n",
      "1627: Done 109 episodes, last 10 means: reward=-0.745, steps=15.900, speed=1.84 steps/s, eps=0.20\n",
      "1646: Done 110 episodes, last 10 means: reward=-0.745, steps=16.600, speed=1.78 steps/s, eps=0.20\n",
      "1664: Done 111 episodes, last 10 means: reward=-0.745, steps=16.400, speed=1.73 steps/s, eps=0.20\n",
      "1681: Done 112 episodes, last 10 means: reward=-0.900, steps=16.100, speed=1.61 steps/s, eps=0.20\n",
      "1700: Done 113 episodes, last 10 means: reward=-0.900, steps=18.000, speed=1.82 steps/s, eps=0.20\n",
      "1700: nets synced, mean loss for last 10 steps = 5.209\n"
     ]
    },
    {
     "ename": "KeyboardInterrupt",
     "evalue": "",
     "output_type": "error",
     "traceback": [
      "\u001b[0;31m---------------------------------------------------------------------------\u001b[0m",
      "\u001b[0;31mKeyboardInterrupt\u001b[0m                         Traceback (most recent call last)",
      "\u001b[0;32m<ipython-input-154-466a0c642d50>\u001b[0m in \u001b[0;36m<module>\u001b[0;34m\u001b[0m\n\u001b[1;32m     27\u001b[0m         \u001b[0;32mcontinue\u001b[0m\u001b[0;34m\u001b[0m\u001b[0;34m\u001b[0m\u001b[0m\n\u001b[1;32m     28\u001b[0m     \u001b[0mbatch\u001b[0m \u001b[0;34m=\u001b[0m \u001b[0mbuffer\u001b[0m\u001b[0;34m.\u001b[0m\u001b[0msample\u001b[0m\u001b[0;34m(\u001b[0m\u001b[0mBATCH_SIZE\u001b[0m\u001b[0;34m)\u001b[0m\u001b[0;34m\u001b[0m\u001b[0;34m\u001b[0m\u001b[0m\n\u001b[0;32m---> 29\u001b[0;31m     \u001b[0mstate_v\u001b[0m\u001b[0;34m,\u001b[0m \u001b[0mactions_v\u001b[0m\u001b[0;34m,\u001b[0m \u001b[0mref_q_v\u001b[0m \u001b[0;34m=\u001b[0m \u001b[0munpack_batch\u001b[0m\u001b[0;34m(\u001b[0m\u001b[0mbatch\u001b[0m\u001b[0;34m,\u001b[0m \u001b[0mtgt_net\u001b[0m\u001b[0;34m.\u001b[0m\u001b[0mtarget_model\u001b[0m\u001b[0;34m,\u001b[0m \u001b[0mgamma\u001b[0m\u001b[0;34m=\u001b[0m\u001b[0mGAMMA\u001b[0m\u001b[0;34m,\u001b[0m \u001b[0mdevice\u001b[0m\u001b[0;34m=\u001b[0m\u001b[0mDEVICE\u001b[0m\u001b[0;34m)\u001b[0m\u001b[0;34m\u001b[0m\u001b[0;34m\u001b[0m\u001b[0m\n\u001b[0m\u001b[1;32m     30\u001b[0m     \u001b[0moptimizer\u001b[0m\u001b[0;34m.\u001b[0m\u001b[0mzero_grad\u001b[0m\u001b[0;34m(\u001b[0m\u001b[0;34m)\u001b[0m\u001b[0;34m\u001b[0m\u001b[0;34m\u001b[0m\u001b[0m\n\u001b[1;32m     31\u001b[0m     \u001b[0mq_v\u001b[0m \u001b[0;34m=\u001b[0m \u001b[0mnet\u001b[0m\u001b[0;34m(\u001b[0m\u001b[0mstate_v\u001b[0m\u001b[0;34m)\u001b[0m\u001b[0;34m\u001b[0m\u001b[0;34m\u001b[0m\u001b[0m\n",
      "\u001b[0;32m~/anaconda3/envs/miniwob/lib/python3.6/site-packages/torch/autograd/grad_mode.py\u001b[0m in \u001b[0;36mdecorate_no_grad\u001b[0;34m(*args, **kwargs)\u001b[0m\n\u001b[1;32m     41\u001b[0m         \u001b[0;32mdef\u001b[0m \u001b[0mdecorate_no_grad\u001b[0m\u001b[0;34m(\u001b[0m\u001b[0;34m*\u001b[0m\u001b[0margs\u001b[0m\u001b[0;34m,\u001b[0m \u001b[0;34m**\u001b[0m\u001b[0mkwargs\u001b[0m\u001b[0;34m)\u001b[0m\u001b[0;34m:\u001b[0m\u001b[0;34m\u001b[0m\u001b[0;34m\u001b[0m\u001b[0m\n\u001b[1;32m     42\u001b[0m             \u001b[0;32mwith\u001b[0m \u001b[0mself\u001b[0m\u001b[0;34m:\u001b[0m\u001b[0;34m\u001b[0m\u001b[0;34m\u001b[0m\u001b[0m\n\u001b[0;32m---> 43\u001b[0;31m                 \u001b[0;32mreturn\u001b[0m \u001b[0mfunc\u001b[0m\u001b[0;34m(\u001b[0m\u001b[0;34m*\u001b[0m\u001b[0margs\u001b[0m\u001b[0;34m,\u001b[0m \u001b[0;34m**\u001b[0m\u001b[0mkwargs\u001b[0m\u001b[0;34m)\u001b[0m\u001b[0;34m\u001b[0m\u001b[0;34m\u001b[0m\u001b[0m\n\u001b[0m\u001b[1;32m     44\u001b[0m         \u001b[0;32mreturn\u001b[0m \u001b[0mdecorate_no_grad\u001b[0m\u001b[0;34m\u001b[0m\u001b[0;34m\u001b[0m\u001b[0m\n\u001b[1;32m     45\u001b[0m \u001b[0;34m\u001b[0m\u001b[0m\n",
      "\u001b[0;32m<ipython-input-10-422d98b5f252>\u001b[0m in \u001b[0;36munpack_batch\u001b[0;34m(batch, net, gamma, device)\u001b[0m\n\u001b[1;32m     19\u001b[0m     \u001b[0mactions_v\u001b[0m \u001b[0;34m=\u001b[0m \u001b[0mtorch\u001b[0m\u001b[0;34m.\u001b[0m\u001b[0mtensor\u001b[0m\u001b[0;34m(\u001b[0m\u001b[0mactions\u001b[0m\u001b[0;34m)\u001b[0m\u001b[0;34m.\u001b[0m\u001b[0mto\u001b[0m\u001b[0;34m(\u001b[0m\u001b[0mdevice\u001b[0m\u001b[0;34m)\u001b[0m\u001b[0;34m\u001b[0m\u001b[0;34m\u001b[0m\u001b[0m\n\u001b[1;32m     20\u001b[0m     \u001b[0mrewards_v\u001b[0m \u001b[0;34m=\u001b[0m \u001b[0mtorch\u001b[0m\u001b[0;34m.\u001b[0m\u001b[0mtensor\u001b[0m\u001b[0;34m(\u001b[0m\u001b[0mrewards\u001b[0m\u001b[0;34m)\u001b[0m\u001b[0;34m.\u001b[0m\u001b[0mto\u001b[0m\u001b[0;34m(\u001b[0m\u001b[0mdevice\u001b[0m\u001b[0;34m)\u001b[0m\u001b[0;34m\u001b[0m\u001b[0;34m\u001b[0m\u001b[0m\n\u001b[0;32m---> 21\u001b[0;31m     \u001b[0mlast_states_v\u001b[0m \u001b[0;34m=\u001b[0m \u001b[0mtorch\u001b[0m\u001b[0;34m.\u001b[0m\u001b[0mtensor\u001b[0m\u001b[0;34m(\u001b[0m\u001b[0mlast_states\u001b[0m\u001b[0;34m)\u001b[0m\u001b[0;34m.\u001b[0m\u001b[0mto\u001b[0m\u001b[0;34m(\u001b[0m\u001b[0mdevice\u001b[0m\u001b[0;34m)\u001b[0m\u001b[0;34m\u001b[0m\u001b[0;34m\u001b[0m\u001b[0m\n\u001b[0m\u001b[1;32m     22\u001b[0m     \u001b[0mlast_state_q_v\u001b[0m \u001b[0;34m=\u001b[0m \u001b[0mnet\u001b[0m\u001b[0;34m(\u001b[0m\u001b[0mlast_states_v\u001b[0m\u001b[0;34m)\u001b[0m\u001b[0;34m\u001b[0m\u001b[0;34m\u001b[0m\u001b[0m\n\u001b[1;32m     23\u001b[0m     \u001b[0mbest_last_q_v\u001b[0m \u001b[0;34m=\u001b[0m \u001b[0mtorch\u001b[0m\u001b[0;34m.\u001b[0m\u001b[0mmax\u001b[0m\u001b[0;34m(\u001b[0m\u001b[0mlast_state_q_v\u001b[0m\u001b[0;34m,\u001b[0m \u001b[0mdim\u001b[0m\u001b[0;34m=\u001b[0m\u001b[0;36m1\u001b[0m\u001b[0;34m)\u001b[0m\u001b[0;34m[\u001b[0m\u001b[0;36m0\u001b[0m\u001b[0;34m]\u001b[0m\u001b[0;34m\u001b[0m\u001b[0;34m\u001b[0m\u001b[0m\n",
      "\u001b[0;31mKeyboardInterrupt\u001b[0m: "
     ]
    }
   ],
   "source": [
    "episode_rewards = []\n",
    "episode_steps = []\n",
    "losses = []\n",
    "steps = 0\n",
    "last_ts = time.time()\n",
    "last_steps = 0\n",
    "\n",
    "while True:\n",
    "    steps += 1\n",
    "    buffer.populate(1)\n",
    "    r = exp_source.pop_rewards_steps()\n",
    "    if r:\n",
    "        for rw, st in r:\n",
    "            episode_rewards.append(rw)\n",
    "            episode_steps.append(st)\n",
    "        speed = (steps - last_steps) / (time.time() - last_ts)\n",
    "        print(\"%d: Done %d episodes, last 10 means: reward=%.3f, steps=%.3f, speed=%.2f steps/s, eps=%.2f\" % (\n",
    "            steps, len(episode_rewards), np.mean(episode_rewards[-10:]), \n",
    "            np.mean(episode_steps[-10:]), speed, action_selector.epsilon\n",
    "        ))\n",
    "        last_ts = time.time()\n",
    "        last_steps = steps\n",
    "        if np.mean(episode_rewards[-10:]) > 0.9:\n",
    "            print(\"You solved the env! Congrats!\")\n",
    "            break\n",
    "    if len(buffer) < MIN_REPLAY:\n",
    "        continue\n",
    "    batch = buffer.sample(BATCH_SIZE)\n",
    "    state_v, actions_v, ref_q_v = unpack_batch(batch, tgt_net.target_model, gamma=GAMMA, device=DEVICE)\n",
    "    optimizer.zero_grad()\n",
    "    q_v = net(state_v)\n",
    "    q_v = q_v.gather(1, actions_v.unsqueeze(-1)).squeeze(-1)\n",
    "    loss_v = F.mse_loss(q_v, ref_q_v)\n",
    "    loss_v.backward()\n",
    "    optimizer.step()\n",
    "    losses.append(loss_v.item())\n",
    "    \n",
    "    if steps % TGT_SYNC == 0:\n",
    "        print(\"%d: nets synced, mean loss for last 10 steps = %.3f\" % (\n",
    "            steps, np.mean(losses[-10:])))\n",
    "        tgt_net.sync()\n",
    "    action_selector.epsilon = max(FINAL_EPSILON, INITIAL_EPSILON - (steps-MIN_REPLAY) / STEPS_EPSILON)"
   ]
  },
  {
   "cell_type": "code",
   "execution_count": null,
   "metadata": {},
   "outputs": [],
   "source": []
  }
 ],
 "metadata": {
  "kernelspec": {
   "display_name": "Python 3",
   "language": "python",
   "name": "python3"
  },
  "language_info": {
   "codemirror_mode": {
    "name": "ipython",
    "version": 3
   },
   "file_extension": ".py",
   "mimetype": "text/x-python",
   "name": "python",
   "nbconvert_exporter": "python",
   "pygments_lexer": "ipython3",
   "version": "3.6.8"
  }
 },
 "nbformat": 4,
 "nbformat_minor": 2
}
